{
 "cells": [
  {
   "cell_type": "markdown",
   "metadata": {},
   "source": [
    "# Data Exploration With Sample Data"
   ]
  },
  {
   "cell_type": "markdown",
   "metadata": {},
   "source": [
    "The objective of this notebook is to analyze the raw data and perform exploratory analysis that will aid in the construction of model building and post-analysis. \n",
    "\n",
    "This analysis will only use a small subset (/sample_images) of the total data (/stage1)."
   ]
  },
  {
   "cell_type": "markdown",
   "metadata": {},
   "source": [
    "### Assumptions Made\n",
    "\n",
    "* Sample data provided is representative of the total data\n",
    "\n"
   ]
  },
  {
   "cell_type": "markdown",
   "metadata": {},
   "source": [
    "---------------------------------------"
   ]
  },
  {
   "cell_type": "code",
   "execution_count": 100,
   "metadata": {
    "collapsed": false
   },
   "outputs": [],
   "source": [
    "# Module imports\n",
    "import os\n",
    "import glob\n",
    "import numpy as np\n",
    "import pandas as pd\n",
    "import matplotlib.pyplot as plt"
   ]
  },
  {
   "cell_type": "code",
   "execution_count": 70,
   "metadata": {
    "collapsed": false
   },
   "outputs": [
    {
     "name": "stdout",
     "output_type": "stream",
     "text": [
      "Found and verified that sample data location: ../../data-science-bowl-2017-data/sample_images/\n"
     ]
    }
   ],
   "source": [
    "# Validating if files exist\n",
    "data_url = \"../../data-science-bowl-2017-data/\"\n",
    "\n",
    "def verify_file(filename):\n",
    "    if os.path.isdir(filename):\n",
    "        print('Found and verified that sample data location: ' + filename)\n",
    "    else:\n",
    "        raise Exception('Failed to verify sample data location: ' + filename)\n",
    "    return filename\n",
    "    \n",
    "sample_data = verify_file(data_url+'sample_images/')"
   ]
  },
  {
   "cell_type": "code",
   "execution_count": 119,
   "metadata": {
    "collapsed": false
   },
   "outputs": [
    {
     "data": {
      "text/html": [
       "<div>\n",
       "<table border=\"1\" class=\"dataframe\">\n",
       "  <thead>\n",
       "    <tr style=\"text-align: right;\">\n",
       "      <th></th>\n",
       "      <th>scans-per-patient</th>\n",
       "    </tr>\n",
       "  </thead>\n",
       "  <tbody>\n",
       "    <tr>\n",
       "      <th>count</th>\n",
       "      <td>20.00000</td>\n",
       "    </tr>\n",
       "    <tr>\n",
       "      <th>mean</th>\n",
       "      <td>180.20000</td>\n",
       "    </tr>\n",
       "    <tr>\n",
       "      <th>std</th>\n",
       "      <td>75.23619</td>\n",
       "    </tr>\n",
       "    <tr>\n",
       "      <th>min</th>\n",
       "      <td>110.00000</td>\n",
       "    </tr>\n",
       "    <tr>\n",
       "      <th>25%</th>\n",
       "      <td>131.75000</td>\n",
       "    </tr>\n",
       "    <tr>\n",
       "      <th>50%</th>\n",
       "      <td>167.50000</td>\n",
       "    </tr>\n",
       "    <tr>\n",
       "      <th>75%</th>\n",
       "      <td>197.75000</td>\n",
       "    </tr>\n",
       "    <tr>\n",
       "      <th>max</th>\n",
       "      <td>435.00000</td>\n",
       "    </tr>\n",
       "  </tbody>\n",
       "</table>\n",
       "</div>"
      ],
      "text/plain": [
       "       scans-per-patient\n",
       "count           20.00000\n",
       "mean           180.20000\n",
       "std             75.23619\n",
       "min            110.00000\n",
       "25%            131.75000\n",
       "50%            167.50000\n",
       "75%            197.75000\n",
       "max            435.00000"
      ]
     },
     "execution_count": 119,
     "metadata": {},
     "output_type": "execute_result"
    }
   ],
   "source": [
    "# Extracting patient scan data\n",
    "def folder_explorer(folder):\n",
    "    patient_info = {}\n",
    "    for d in os.listdir(folder):\n",
    "        #print(\"Patient '{}' has {} scans\".format(d, len(os.listdir(folder + d))))\n",
    "        patient_info[d] = int(len(os.listdir(folder + d)))\n",
    "    \n",
    "    #print('----')\n",
    "    #print('Total patients {} Total DCM files {}'.format(len(os.listdir(folder)), len(glob.glob(folder + '/*/*.dcm'))))\n",
    "    return patient_info\n",
    "\n",
    "patient_scans = folder_explorer(sample_data)\n",
    "patient_scans = pd.DataFrame(list(patient_scans.items()), columns=[\"patient-id\", \"scans-per-patient\"])\n",
    "pd.DataFrame.describe(patient_scans)\n"
   ]
  },
  {
   "cell_type": "code",
   "execution_count": null,
   "metadata": {
    "collapsed": true
   },
   "outputs": [],
   "source": []
  },
  {
   "cell_type": "code",
   "execution_count": null,
   "metadata": {
    "collapsed": true
   },
   "outputs": [],
   "source": []
  },
  {
   "cell_type": "markdown",
   "metadata": {},
   "source": [
    "TODO:\n",
    "* Mean and varince for scans for patients (will help if a min trashhold need to be built)\n",
    "* If sample data is representative of the total data\n",
    "    * Sample total data and above analysis "
   ]
  },
  {
   "cell_type": "code",
   "execution_count": null,
   "metadata": {
    "collapsed": true
   },
   "outputs": [],
   "source": []
  }
 ],
 "metadata": {
  "anaconda-cloud": {},
  "kernelspec": {
   "display_name": "Python [default]",
   "language": "python",
   "name": "python3"
  },
  "language_info": {
   "codemirror_mode": {
    "name": "ipython",
    "version": 3
   },
   "file_extension": ".py",
   "mimetype": "text/x-python",
   "name": "python",
   "nbconvert_exporter": "python",
   "pygments_lexer": "ipython3",
   "version": "3.5.2"
  }
 },
 "nbformat": 4,
 "nbformat_minor": 1
}
