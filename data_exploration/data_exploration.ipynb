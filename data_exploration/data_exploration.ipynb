{
 "cells": [
  {
   "cell_type": "markdown",
   "metadata": {},
   "source": [
    "# Data Exploration"
   ]
  },
  {
   "cell_type": "markdown",
   "metadata": {},
   "source": [
    "The objective of this notebook is to analyze the raw data and perform exploratory analysis that will aid in the construction of model building and post-analysis. \n",
    "\n",
    "This analysis will only use a small subset (/sample_images) of the total data (/stage1)."
   ]
  },
  {
   "cell_type": "markdown",
   "metadata": {},
   "source": [
    "### Assumptions Made\n",
    "\n",
    "* Sample data provided is representative of the total data\n",
    "\n"
   ]
  },
  {
   "cell_type": "markdown",
   "metadata": {},
   "source": [
    "---------------------------------------"
   ]
  },
  {
   "cell_type": "code",
   "execution_count": 62,
   "metadata": {
    "collapsed": true
   },
   "outputs": [],
   "source": [
    "# Module imports\n",
    "import os\n",
    "import glob"
   ]
  },
  {
   "cell_type": "code",
   "execution_count": 59,
   "metadata": {
    "collapsed": false
   },
   "outputs": [
    {
     "name": "stdout",
     "output_type": "stream",
     "text": [
      "Found and verified: ../../data-science-bowl-2017-data//sample_images/\n"
     ]
    }
   ],
   "source": [
    "# Validating if files exist\n",
    "data_url = \"../../data-science-bowl-2017-data/\"\n",
    "\n",
    "def verify_file(filename):\n",
    "    if os.path.isdir(filename):\n",
    "        print('Found and verified: ' + filename)\n",
    "    else:\n",
    "        raise Exception('Failed to verify: ' + filename)\n",
    "    return filename\n",
    "    \n",
    "sample_data = verify_file(data_url+'/sample_images/')"
   ]
  },
  {
   "cell_type": "code",
   "execution_count": 64,
   "metadata": {
    "collapsed": false
   },
   "outputs": [
    {
     "name": "stdout",
     "output_type": "stream",
     "text": [
      "Patient '0c98fcb55e3f36d0c2b6507f62f4c5f1' has 180 scans\n",
      "Patient '0d19f1c627df49eb223771c28548350e' has 183 scans\n",
      "Patient '0c37613214faddf8701ca41e6d43f56e' has 164 scans\n",
      "Patient '0d2fcf787026fece4e57be167d079383' has 126 scans\n",
      "Patient '0a38e7597ca26f9374f8ea2770ba870d' has 110 scans\n",
      "Patient '00cba091fa4ad62cc3200a657aeb957e' has 134 scans\n",
      "Patient '0d941a3ad6c889ac451caf89c46cb92a' has 177 scans\n",
      "Patient '0a0c32c9e08cc2ea76a71649de56be6d' has 133 scans\n",
      "Patient '0c60f4b87afcb3e2dfa65abbbf3ef2f9' has 136 scans\n",
      "Patient '0c9d8314f9c69840e25febabb1229fa4' has 221 scans\n",
      "Patient '0ca943d821204ceb089510f836a367fd' has 147 scans\n",
      "Patient '0b20184e0cd497028bdd155d9fb42dc9' has 196 scans\n",
      "Patient '0c0de3749d4fe175b7a5098b060982a1' has 123 scans\n",
      "Patient '0c59313f52304e25d5a7dcf9877633b1' has 244 scans\n",
      "Patient '0bd0e3056cbf23a1cb7f0f0b18446068' has 280 scans\n",
      "Patient '0de72529c30fe642bc60dcb75c87f6bd' has 113 scans\n",
      "Patient '0ddeb08e9c97227853422bd71a2a695e' has 171 scans\n",
      "Patient '0a099f2549429d29b32f349e95fb2244' has 128 scans\n",
      "Patient '0acbebb8d463b4b9ca88cf38431aac69' has 203 scans\n",
      "Patient '0d06d764d3c07572074d468b4cff954f' has 435 scans\n",
      "----\n",
      "Total patients 20 Total DCM files 3604\n"
     ]
    }
   ],
   "source": [
    "for d in os.listdir(sample_data):\n",
    "    print(\"Patient '{}' has {} scans\".format(d, len(os.listdir(sample_data + d))))\n",
    "print('----')\n",
    "print('Total patients {} Total DCM files {}'.format(len(os.listdir(sample_data)), \n",
    "                                                      len(glob.glob(sample_data + '/*/*.dcm'))))"
   ]
  },
  {
   "cell_type": "code",
   "execution_count": null,
   "metadata": {
    "collapsed": true
   },
   "outputs": [],
   "source": []
  }
 ],
 "metadata": {
  "anaconda-cloud": {},
  "kernelspec": {
   "display_name": "Python [default]",
   "language": "python",
   "name": "python3"
  },
  "language_info": {
   "codemirror_mode": {
    "name": "ipython",
    "version": 3
   },
   "file_extension": ".py",
   "mimetype": "text/x-python",
   "name": "python",
   "nbconvert_exporter": "python",
   "pygments_lexer": "ipython3",
   "version": "3.5.2"
  }
 },
 "nbformat": 4,
 "nbformat_minor": 1
}
