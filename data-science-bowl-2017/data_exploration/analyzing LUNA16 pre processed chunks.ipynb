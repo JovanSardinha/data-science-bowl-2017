{
 "cells": [
  {
   "cell_type": "code",
   "execution_count": 62,
   "metadata": {
    "collapsed": true
   },
   "outputs": [],
   "source": [
    "import glob\n",
    "import os\n",
    "import re\n",
    "import pandas as pd\n",
    "import numpy as np\n",
    "import SimpleITK as sitk\n",
    "import matplotlib.pyplot as plt\n",
    "\n",
    "import skimage.transform\n",
    "import scipy.ndimage\n",
    "from skimage.morphology import ball, disk, dilation, binary_erosion, remove_small_objects, erosion, closing, reconstruction, binary_closing\n",
    "from skimage.measure import label,regionprops, perimeter\n",
    "from skimage.morphology import binary_dilation, binary_opening\n",
    "from skimage.filters import roberts, sobel\n",
    "from skimage import measure, feature\n",
    "from skimage.segmentation import clear_border\n",
    "from skimage import data\n",
    "\n",
    "import scipy.misc\n",
    "from mpl_toolkits.mplot3d.art3d import Poly3DCollection"
   ]
  },
  {
   "cell_type": "code",
   "execution_count": 109,
   "metadata": {
    "collapsed": true
   },
   "outputs": [],
   "source": [
    "INPUT_FOLDER_ORIGINAL = '/kaggle_2/luna/luna16/data/pre_processed_chunks/'\n",
    "INPUT_FOLDER_NZ = '/kaggle_2/luna/luna16/data/pre_processed_chunks_nz/'\n",
    "NUM_PATIENTS = 10\n",
    "PATIENT_ANALYSIS_NUMBER = 5"
   ]
  },
  {
   "cell_type": "code",
   "execution_count": 91,
   "metadata": {
    "collapsed": false
   },
   "outputs": [
    {
     "name": "stdout",
     "output_type": "stream",
     "text": [
      "1.3.6.1.4.1.14519.5.2.1.6279.6001.404364125369979066736354549484\n",
      "1.3.6.1.4.1.14519.5.2.1.6279.6001.200558451375970945040979397866\n",
      "1.3.6.1.4.1.14519.5.2.1.6279.6001.801945620899034889998809817499\n",
      "1.3.6.1.4.1.14519.5.2.1.6279.6001.235364978775280910367690540811\n",
      "1.3.6.1.4.1.14519.5.2.1.6279.6001.149463915556499304732434215056\n",
      "1.3.6.1.4.1.14519.5.2.1.6279.6001.241083615484551649610616348856\n",
      "1.3.6.1.4.1.14519.5.2.1.6279.6001.173101104804533997398137418032\n",
      "1.3.6.1.4.1.14519.5.2.1.6279.6001.142485715518010940961688015191\n",
      "1.3.6.1.4.1.14519.5.2.1.6279.6001.297964221542942838344351735414\n",
      "1.3.6.1.4.1.14519.5.2.1.6279.6001.272348349298439120568330857680\n"
     ]
    }
   ],
   "source": [
    "X = []\n",
    "X_NZ = []\n",
    "ids = []\n",
    "for patients in glob.glob(INPUT_FOLDER_ORIGINAL + '*_X.npy')[0:NUM_PATIENTS]:\n",
    "    n = re.match('([a-f0-9].*)_X.npy', os.path.basename(patients))\n",
    "    x = np.load(INPUT_FOLDER_ORIGINAL + n.group(0))\n",
    "    x_nz = np.load(INPUT_FOLDER_NZ + n.group(0))\n",
    "    X.append(x)\n",
    "    X_NZ.append(x_nz)\n",
    "    ids.append(n.group(1))\n",
    "    print(n.group(1))\n",
    "    "
   ]
  },
  {
   "cell_type": "code",
   "execution_count": 104,
   "metadata": {
    "collapsed": false
   },
   "outputs": [
    {
     "name": "stdout",
     "output_type": "stream",
     "text": [
      "(16, 64, 64, 64)\n",
      "(16, 64, 64, 64)\n",
      "-1175\n",
      "1652\n",
      "-0.25\n",
      "0.75\n"
     ]
    }
   ],
   "source": [
    "print(X[PATIENT_ANALYSIS_NUMBER].shape)\n",
    "print(X_NZ[PATIENT_ANALYSIS_NUMBER].shape)\n",
    "print(np.min(X[PATIENT_ANALYSIS_NUMBER]))\n",
    "print(np.max(X[PATIENT_ANALYSIS_NUMBER]))\n",
    "print(np.min(X_NZ[PATIENT_ANALYSIS_NUMBER]))\n",
    "print(np.max(X_NZ[PATIENT_ANALYSIS_NUMBER]))"
   ]
  },
  {
   "cell_type": "code",
   "execution_count": 110,
   "metadata": {
    "collapsed": false
   },
   "outputs": [
    {
     "data": {
      "image/png": "[encoded data removed]",
      "text/plain": [
       "<matplotlib.figure.Figure at 0x7f52ec596908>"
      ]
     },
     "metadata": {},
     "output_type": "display_data"
    }
   ],
   "source": [
    "plt.hist(X[PATIENT_ANALYSIS_NUMBER].flatten(), 50, normed=1, facecolor='green', alpha=0.75)\n",
    "plt.show()"
   ]
  },
  {
   "cell_type": "code",
   "execution_count": 111,
   "metadata": {
    "collapsed": false
   },
   "outputs": [
    {
     "data": {
      "image/png": "[encoded data removed]",
      "text/plain": [
       "<matplotlib.figure.Figure at 0x7f52ece55b00>"
      ]
     },
     "metadata": {},
     "output_type": "display_data"
    }
   ],
   "source": [
    "plt.hist(X_NZ[PATIENT_ANALYSIS_NUMBER].flatten(), 50, normed=1, facecolor='green', alpha=0.75)\n",
    "plt.show()"
   ]
  },
  {
   "cell_type": "code",
   "execution_count": null,
   "metadata": {
    "collapsed": true
   },
   "outputs": [],
   "source": []
  }
 ],
 "metadata": {
  "kernelspec": {
   "display_name": "Python 3",
   "language": "python",
   "name": "python3"
  },
  "language_info": {
   "codemirror_mode": {
    "name": "ipython",
    "version": 3
   },
   "file_extension": ".py",
   "mimetype": "text/x-python",
   "name": "python",
   "nbconvert_exporter": "python",
   "pygments_lexer": "ipython3",
   "version": "3.5.2"
  }
 },
 "nbformat": 4,
 "nbformat_minor": 2
}
