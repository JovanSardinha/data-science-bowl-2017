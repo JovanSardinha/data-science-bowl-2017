{
 "cells": [
  {
   "cell_type": "code",
   "execution_count": 50,
   "metadata": {
    "collapsed": true,
    "deletable": true,
    "editable": true
   },
   "outputs": [],
   "source": [
    "import glob\n",
    "import os\n",
    "import re\n",
    "import pandas as pd\n",
    "import numpy as np\n",
    "import SimpleITK as sitk\n",
    "import matplotlib.pyplot as plt\n",
    "\n",
    "import skimage.transform\n",
    "import scipy.ndimage\n",
    "from skimage.morphology import ball, disk, dilation, binary_erosion, remove_small_objects, erosion, closing, reconstruction, binary_closing\n",
    "from skimage.measure import label,regionprops, perimeter\n",
    "from skimage.morphology import binary_dilation, binary_opening\n",
    "from skimage.filters import roberts, sobel\n",
    "from skimage import measure, feature\n",
    "from skimage.segmentation import clear_border\n",
    "from skimage import data\n",
    "from tqdm import tqdm\n",
    "\n",
    "import scipy.misc\n",
    "from mpl_toolkits.mplot3d.art3d import Poly3DCollection\n",
    "\n",
    "\n",
    "DATA_PATH = '/kaggle/dev/data-science-bowl-2017-data/stage1_processed/'\n",
    "OUTPUT_FOLDER_ORIGINAL = '/kaggle_2/stage1_processed_chunks/'\n",
    "OUTPUT_FOLDER_NZ = '/kaggle_2/stage1_processed_chunks_nz/'\n",
    "PATIENT_SCANS = 'scan_segmented_lungs_fill_'\n",
    "CHUNK_SIZE = 64\n",
    "NUM_CLASSES = 7\n",
    "OVERLAP_PERCENTAGE = 0.6"
   ]
  },
  {
   "cell_type": "code",
   "execution_count": 51,
   "metadata": {
    "collapsed": true,
    "deletable": true,
    "editable": true
   },
   "outputs": [],
   "source": [
    "def normalize(image):\n",
    "    MIN_BOUND = -1000.0\n",
    "    MAX_BOUND = 400.0\n",
    "    image = (image - MIN_BOUND) / (MAX_BOUND - MIN_BOUND)\n",
    "    image[image>1] = 1.\n",
    "    image[image<0] = 0.\n",
    "    return image\n",
    "\n",
    "def zero_center(image):\n",
    "    PIXEL_MEAN = 0.25\n",
    "    image = image - PIXEL_MEAN\n",
    "    return image"
   ]
  },
  {
   "cell_type": "code",
   "execution_count": 52,
   "metadata": {
    "collapsed": false,
    "deletable": true,
    "editable": true
   },
   "outputs": [
    {
     "name": "stderr",
     "output_type": "stream",
     "text": [
      "\n",
      "  0%|          | 0/1595 [00:00<?, ?it/s]\u001b[A\n",
      "  0%|          | 4/1595 [00:00<00:44, 35.89it/s]\u001b[A"
     ]
    },
    {
     "name": "stdout",
     "output_type": "stream",
     "text": [
      "Skipping already processed patient 0a0c32c9e08cc2ea76a71649de56be6d\n",
      "Skipping already processed patient 7577cbd6961b0cab27f88727dcd2d6d3\n",
      "Skipping already processed patient 28352e12fe29361dfd9613ed2e729192\n",
      "Skipping already processed patient 7852cb521d7029ca08133476054e7bec\n",
      "Skipping already processed patient d5c43054ba0f66d5017a8ddfde8c8c34\n",
      "Skipping already processed patient 174c5f7c33ca31443208ef873b9477e5\n",
      "Skipping already processed patient d43c9dd1be361b9302c9343af09cc23e\n"
     ]
    },
    {
     "name": "stderr",
     "output_type": "stream",
     "text": [
      "\n",
      "  1%|          | 8/1595 [00:00<00:46, 34.37it/s]\u001b[A"
     ]
    },
    {
     "name": "stdout",
     "output_type": "stream",
     "text": [
      "Skipping already processed patient bc43e8a2cb05a45e73dea8c7e02f2cc1\n"
     ]
    },
    {
     "name": "stderr",
     "output_type": "stream",
     "text": [
      "\n"
     ]
    },
    {
     "name": "stdout",
     "output_type": "stream",
     "text": [
      "processed patient: e188bdeea72bb41d980dc2556dc8aafa _original shape: (324, 320, 320)\n",
      "_num_chunks: 2197 _X.shape: (2197, 64, 64, 64) _Y.shape: (2197, 7)\n"
     ]
    },
    {
     "name": "stderr",
     "output_type": "stream",
     "text": [
      "  1%|          | 9/1595 [00:12<1:35:30,  3.61s/it]"
     ]
    },
    {
     "name": "stdout",
     "output_type": "stream",
     "text": [
      "processed patient: 49433c1588cc078b825a0eff1dc2e816 _original shape: (313, 300, 300)\n",
      "_num_chunks: 2197 _X.shape: (2197, 64, 64, 64) _Y.shape: (2197, 7)\n"
     ]
    },
    {
     "name": "stderr",
     "output_type": "stream",
     "text": [
      "\r",
      "  1%|          | 10/1595 [00:26<3:01:23,  6.87s/it]"
     ]
    },
    {
     "name": "stdout",
     "output_type": "stream",
     "text": [
      "processed patient: 1acbe17dc8f9f59d2fd167b2aa6c650f _original shape: (322, 370, 370)\n",
      "_num_chunks: 2925 _X.shape: (2925, 64, 64, 64) _Y.shape: (2925, 7)\n"
     ]
    },
    {
     "name": "stderr",
     "output_type": "stream",
     "text": [
      "\r",
      "  1%|          | 11/1595 [01:21<9:21:37, 21.27s/it]"
     ]
    },
    {
     "name": "stdout",
     "output_type": "stream",
     "text": [
      "processed patient: a19a122fe9a790576b57c6bd5cf9ff5c _original shape: (318, 326, 326)\n",
      "_num_chunks: 2548 _X.shape: (2548, 64, 64, 64) _Y.shape: (2548, 7)\n"
     ]
    },
    {
     "name": "stderr",
     "output_type": "stream",
     "text": [
      "\r",
      "  1%|          | 12/1595 [02:07<12:34:06, 28.58s/it]"
     ]
    },
    {
     "name": "stdout",
     "output_type": "stream",
     "text": [
      "processed patient: 6fd582d25eeb2250c2b0996c4216deb9 _original shape: (312, 350, 350)\n",
      "_num_chunks: 2925 _X.shape: (2925, 64, 64, 64) _Y.shape: (2925, 7)\n"
     ]
    },
    {
     "ename": "KeyboardInterrupt",
     "evalue": "",
     "output_type": "error",
     "traceback": [
      "\u001b[0;31m---------------------------------------------------------------------------\u001b[0m",
      "\u001b[0;31mKeyboardInterrupt\u001b[0m                         Traceback (most recent call last)",
      "\u001b[0;32m<ipython-input-52-62c1550ae0f0>\u001b[0m in \u001b[0;36m<module>\u001b[0;34m()\u001b[0m\n\u001b[1;32m     66\u001b[0m \u001b[0;34m\u001b[0m\u001b[0m\n\u001b[1;32m     67\u001b[0m     \u001b[0;31m# Normalizing and Zero Centering\u001b[0m\u001b[0;34m\u001b[0m\u001b[0;34m\u001b[0m\u001b[0m\n\u001b[0;32m---> 68\u001b[0;31m     \u001b[0mX_nz\u001b[0m \u001b[0;34m=\u001b[0m \u001b[0mnormalize\u001b[0m\u001b[0;34m(\u001b[0m\u001b[0mX\u001b[0m\u001b[0;34m)\u001b[0m\u001b[0;34m\u001b[0m\u001b[0m\n\u001b[0m\u001b[1;32m     69\u001b[0m     \u001b[0mX_nz\u001b[0m \u001b[0;34m=\u001b[0m \u001b[0mzero_center\u001b[0m\u001b[0;34m(\u001b[0m\u001b[0mX_nz\u001b[0m\u001b[0;34m)\u001b[0m\u001b[0;34m\u001b[0m\u001b[0m\n\u001b[1;32m     70\u001b[0m     \u001b[0mnp\u001b[0m\u001b[0;34m.\u001b[0m\u001b[0msave\u001b[0m\u001b[0;34m(\u001b[0m\u001b[0mOUTPUT_FOLDER_NZ\u001b[0m \u001b[0;34m+\u001b[0m \u001b[0mpatient_uid\u001b[0m \u001b[0;34m+\u001b[0m \u001b[0;34m'_X.npy'\u001b[0m\u001b[0;34m,\u001b[0m \u001b[0mX_nz\u001b[0m\u001b[0;34m)\u001b[0m\u001b[0;34m\u001b[0m\u001b[0m\n",
      "\u001b[0;32m<ipython-input-51-c36edb8b5468>\u001b[0m in \u001b[0;36mnormalize\u001b[0;34m(image)\u001b[0m\n\u001b[1;32m      2\u001b[0m     \u001b[0mMIN_BOUND\u001b[0m \u001b[0;34m=\u001b[0m \u001b[0;34m-\u001b[0m\u001b[0;36m1000.0\u001b[0m\u001b[0;34m\u001b[0m\u001b[0m\n\u001b[1;32m      3\u001b[0m     \u001b[0mMAX_BOUND\u001b[0m \u001b[0;34m=\u001b[0m \u001b[0;36m400.0\u001b[0m\u001b[0;34m\u001b[0m\u001b[0m\n\u001b[0;32m----> 4\u001b[0;31m     \u001b[0mimage\u001b[0m \u001b[0;34m=\u001b[0m \u001b[0;34m(\u001b[0m\u001b[0mimage\u001b[0m \u001b[0;34m-\u001b[0m \u001b[0mMIN_BOUND\u001b[0m\u001b[0;34m)\u001b[0m \u001b[0;34m/\u001b[0m \u001b[0;34m(\u001b[0m\u001b[0mMAX_BOUND\u001b[0m \u001b[0;34m-\u001b[0m \u001b[0mMIN_BOUND\u001b[0m\u001b[0;34m)\u001b[0m\u001b[0;34m\u001b[0m\u001b[0m\n\u001b[0m\u001b[1;32m      5\u001b[0m     \u001b[0mimage\u001b[0m\u001b[0;34m[\u001b[0m\u001b[0mimage\u001b[0m\u001b[0;34m>\u001b[0m\u001b[0;36m1\u001b[0m\u001b[0;34m]\u001b[0m \u001b[0;34m=\u001b[0m \u001b[0;36m1.\u001b[0m\u001b[0;34m\u001b[0m\u001b[0m\n\u001b[1;32m      6\u001b[0m     \u001b[0mimage\u001b[0m\u001b[0;34m[\u001b[0m\u001b[0mimage\u001b[0m\u001b[0;34m<\u001b[0m\u001b[0;36m0\u001b[0m\u001b[0;34m]\u001b[0m \u001b[0;34m=\u001b[0m \u001b[0;36m0.\u001b[0m\u001b[0;34m\u001b[0m\u001b[0m\n",
      "\u001b[0;31mKeyboardInterrupt\u001b[0m: "
     ]
    }
   ],
   "source": [
    "completed_patients = []\n",
    "for patients in glob.glob(OUTPUT_FOLDER_ORIGINAL + '*_X.npy'):\n",
    "    n = re.match('([a-f0-9].*)_X.npy', os.path.basename(patients))\n",
    "    completed_patients.append(n.group(1))\n",
    "\n",
    "for folder in tqdm(glob.glob(DATA_PATH + PATIENT_SCANS + '*')):\n",
    "    m = re.match(PATIENT_SCANS +'([a-f0-9].*).npy', os.path.basename(folder))\n",
    "    scans = np.load(DATA_PATH + m.group(0))\n",
    "    patient_uid = m.group(1)\n",
    "    \n",
    "    if patient_uid in completed_patients:\n",
    "        print('Skipping already processed patient {}'.format(patient_uid))\n",
    "        continue\n",
    "        \n",
    "        \n",
    "    chunk_counter = 1\n",
    "    step_size = int((CHUNK_SIZE*(1-OVERLAP_PERCENTAGE)))\n",
    "    num_chunks_0 = int((scans.shape[0])/(step_size)) + 1\n",
    "    num_chunks_1 = int((scans.shape[1])/(step_size)) + 1\n",
    "    num_chunks_2 = int((scans.shape[2])/(step_size)) + 1\n",
    "    chunk_list = []     \n",
    "    \n",
    "    start_index_0 = 0\n",
    "    end_index_0 = 0\n",
    "    for i in range(0, num_chunks_0):\n",
    "        end_index_0 = start_index_0 + CHUNK_SIZE\n",
    "        \n",
    "        start_index_1 = 0\n",
    "        end_index_1 = 0\n",
    "        for j in range(0, num_chunks_1):\n",
    "            end_index_1 = start_index_1 + CHUNK_SIZE\n",
    "                       \n",
    "            start_index_2 = 0\n",
    "            end_index_2 = 0\n",
    "            for k in range(0, num_chunks_2):\n",
    "                end_index_2 = start_index_2 + CHUNK_SIZE\n",
    "\n",
    "                end_index_0 = scans.shape[0] if  (end_index_0 > scans.shape[0]) else end_index_0\n",
    "                end_index_1 = scans.shape[1] if  (end_index_1 > scans.shape[1]) else end_index_1\n",
    "                end_index_2 = scans.shape[2] if  (end_index_2 > scans.shape[2]) else end_index_2\n",
    "                                \n",
    "                chunk = np.full((CHUNK_SIZE, CHUNK_SIZE, CHUNK_SIZE), -1000.0)\n",
    "                \n",
    "                end_index_0_chunks = end_index_0 - start_index_0\n",
    "                end_index_1_chunks = end_index_1 - start_index_1\n",
    "                end_index_2_chunks = end_index_2 - start_index_2\n",
    "                \n",
    "                chunk[0:end_index_0_chunks, 0:end_index_1_chunks, 0:end_index_2_chunks] = scans[start_index_0:end_index_0, start_index_1:end_index_1, start_index_2:end_index_2]\n",
    "                chunk_list.append(chunk)\n",
    "                \n",
    "                chunk_counter += 1        \n",
    "                start_index_2 += step_size\n",
    "            start_index_1 += step_size\n",
    "        start_index_0 += step_size\n",
    "        \n",
    "    X = np.ndarray([len(chunk_list), CHUNK_SIZE, CHUNK_SIZE, CHUNK_SIZE], dtype=np.int16)\n",
    "    Y = np.zeros([len(chunk_list), NUM_CLASSES], dtype=np.int16)\n",
    "    for m in range(0,len(chunk_list)):\n",
    "        X[m,:,:] = chunk_list[m]\n",
    "    \n",
    "    np.save(OUTPUT_FOLDER_ORIGINAL + patient_uid + '_X.npy', X)\n",
    "    np.save(OUTPUT_FOLDER_ORIGINAL + patient_uid + '_Y.npy', Y)\n",
    "    \n",
    "    print('processed patient:', patient_uid  , '_original shape:', scans.shape )\n",
    "    print('_num_chunks:', len(chunk_list), '_X.shape:', X.shape, '_Y.shape:', Y.shape)\n",
    "    \n",
    "    # Normalizing and Zero Centering\n",
    "    X_nz = normalize(X)\n",
    "    X_nz = zero_center(X_nz)\n",
    "    np.save(OUTPUT_FOLDER_NZ + patient_uid + '_X.npy', X_nz)\n",
    "    np.save(OUTPUT_FOLDER_NZ + patient_uid + '_Y.npy', Y)\n",
    "    \n",
    "    # Clearning memory\n",
    "    del X,Y,X_nz\n"
   ]
  },
  {
   "cell_type": "code",
   "execution_count": null,
   "metadata": {
    "collapsed": true,
    "deletable": true,
    "editable": true
   },
   "outputs": [],
   "source": []
  },
  {
   "cell_type": "code",
   "execution_count": null,
   "metadata": {
    "collapsed": true,
    "deletable": true,
    "editable": true
   },
   "outputs": [],
   "source": []
  }
 ],
 "metadata": {
  "kernelspec": {
   "display_name": "Python 3",
   "language": "python",
   "name": "python3"
  },
  "language_info": {
   "codemirror_mode": {
    "name": "ipython",
    "version": 3
   },
   "file_extension": ".py",
   "mimetype": "text/x-python",
   "name": "python",
   "nbconvert_exporter": "python",
   "pygments_lexer": "ipython3",
   "version": "3.5.2"
  }
 },
 "nbformat": 4,
 "nbformat_minor": 2
}
