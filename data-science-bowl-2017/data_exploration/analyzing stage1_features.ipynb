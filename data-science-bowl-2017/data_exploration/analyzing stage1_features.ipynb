{
 "cells": [
  {
   "cell_type": "code",
   "execution_count": 29,
   "metadata": {
    "collapsed": true
   },
   "outputs": [],
   "source": [
    "import glob\n",
    "import os\n",
    "import re\n",
    "import pandas as pd\n",
    "import numpy as np\n",
    "import SimpleITK as sitk\n",
    "import matplotlib.pyplot as plt\n",
    "\n",
    "import skimage.transform\n",
    "import scipy.ndimage\n",
    "from skimage.morphology import ball, disk, dilation, binary_erosion, remove_small_objects, erosion, closing, reconstruction, binary_closing\n",
    "from skimage.measure import label,regionprops, perimeter\n",
    "from skimage.morphology import binary_dilation, binary_opening\n",
    "from skimage.filters import roberts, sobel\n",
    "from skimage import measure, feature\n",
    "from skimage.segmentation import clear_border\n",
    "from skimage import data\n",
    "import random"
   ]
  },
  {
   "cell_type": "code",
   "execution_count": 121,
   "metadata": {
    "collapsed": false
   },
   "outputs": [],
   "source": [
    "DATA_PATH = '/kaggle/dev/data-science-bowl-2017-data/stage1_features/'\n"
   ]
  },
  {
   "cell_type": "code",
   "execution_count": 49,
   "metadata": {
    "collapsed": false,
    "scrolled": true
   },
   "outputs": [
    {
     "name": "stdout",
     "output_type": "stream",
     "text": [
      "Patient 6ee742b62985570a1f3a142eb7e49188 predictions (5202, 7) transfer_values (5202, 512)\n",
      "Patient d6d5ed3055d084a6abf0f97af3fe2ff0 predictions (6137, 7) transfer_values (6137, 512)\n",
      "Patient 645e7f46eb9b834153ecf8e2b2921fe5 predictions (5832, 7) transfer_values (5832, 512)\n",
      "Patient e6d8b2631843a24e6761f2723ea30788 predictions (6859, 7) transfer_values (6859, 512)\n",
      "Patient f0f72264cd822301852578cc71288d3c predictions (5491, 7) transfer_values (5491, 512)\n",
      "Patient a88c585e7d81744eec091a6f0600bd7b predictions (5184, 7) transfer_values (5184, 512)\n",
      "Patient 39c3a2d2ca67bc7a1a22240ea571d50c predictions (6137, 7) transfer_values (6137, 512)\n",
      "Patient 74b542d34b61740c1933d2c953403aa6 predictions (3840, 7) transfer_values (3840, 512)\n",
      "Patient 174a9fc87f54d6def3730954fbafc99d predictions (3375, 7) transfer_values (3375, 512)\n",
      "Patient 080e6a00e69888fd620894f9fd0714b1 predictions (7938, 7) transfer_values (7938, 512)\n"
     ]
    }
   ],
   "source": [
    "patients = []\n",
    "prediction_values = []\n",
    "transfer_values = []\n",
    "for features in glob.glob(DATA_PATH + '*_transfer_values.npy')[0:10]:\n",
    "        n = re.match('([a-f0-9].*)_transfer_values.npy', os.path.basename(features))\n",
    "        patient_id = n.group(1)\n",
    "        prediction = np.load(DATA_PATH + patient_id + '_predictions.npy')\n",
    "        transfer_value = np.load(DATA_PATH + patient_id + '_transfer_values.npy')\n",
    "        patients.append(patient_id)\n",
    "        prediction_values.append(prediction)\n",
    "        transfer_values.append(transfer_value)\n",
    "        print('Patient {} predictions {} transfer_values {}'.format(patient_id, prediction.shape, transfer_value.shape))"
   ]
  },
  {
   "cell_type": "code",
   "execution_count": 132,
   "metadata": {
    "collapsed": false
   },
   "outputs": [
    {
     "data": {
      "text/plain": [
       "2"
      ]
     },
     "execution_count": 132,
     "metadata": {},
     "output_type": "execute_result"
    }
   ],
   "source": [
    "PATIENT_ANALYSIS_NUMBER = random.randint(0,10)\n",
    "PATIENT_ANALYSIS_NUMBER"
   ]
  },
  {
   "cell_type": "code",
   "execution_count": 133,
   "metadata": {
    "collapsed": false
   },
   "outputs": [
    {
     "data": {
      "text/plain": [
       "array([ 0.87771881,  0.01728163,  0.01835721,  0.03389259,  0.01728163,\n",
       "        0.01728163,  0.01818658], dtype=float32)"
      ]
     },
     "execution_count": 133,
     "metadata": {},
     "output_type": "execute_result"
    }
   ],
   "source": [
    "prediction_values[PATIENT_ANALYSIS_NUMBER][0]"
   ]
  },
  {
   "cell_type": "code",
   "execution_count": 138,
   "metadata": {
    "collapsed": false
   },
   "outputs": [
    {
     "data": {
      "image/png": "[encoded data removed]",
      "text/plain": [
       "<matplotlib.figure.Figure at 0x7fa8c276c240>"
      ]
     },
     "metadata": {},
     "output_type": "display_data"
    }
   ],
   "source": [
    "# Analyzing prediction values\n",
    "plt.hist(prediction_values[PATIENT_ANALYSIS_NUMBER][0], 10, normed=1, facecolor='green', alpha=0.75)\n",
    "plt.show()"
   ]
  },
  {
   "cell_type": "code",
   "execution_count": 135,
   "metadata": {
    "collapsed": false
   },
   "outputs": [
    {
     "data": {
      "image/png": "[encoded data removed]",
      "text/plain": [
       "<matplotlib.figure.Figure at 0x7fa8c28c6160>"
      ]
     },
     "metadata": {},
     "output_type": "display_data"
    }
   ],
   "source": [
    "plt.hist(transfer_values[PATIENT_ANALYSIS_NUMBER].flatten(), 50, normed=1, facecolor='green', alpha=0.75)\n",
    "plt.show()"
   ]
  },
  {
   "cell_type": "code",
   "execution_count": 136,
   "metadata": {
    "collapsed": true
   },
   "outputs": [],
   "source": [
    "def plot_transfer_values(i):\n",
    "    img = transfer_values[i]\n",
    "    #img = img.reshape(transfer_values[i].shape[0], transfer_values[i].shape[1])\n",
    "    # Plot the i'th image from the test-set.\n",
    "    plt.imshow(img, interpolation='nearest')\n",
    "    plt.figsize=(5,5)\n",
    "    plt.show()"
   ]
  },
  {
   "cell_type": "code",
   "execution_count": 137,
   "metadata": {
    "collapsed": false
   },
   "outputs": [
    {
     "data": {
      "image/png": "[encoded data removed]",
      "text/plain": [
       "<matplotlib.figure.Figure at 0x7fa8c276c9b0>"
      ]
     },
     "metadata": {},
     "output_type": "display_data"
    }
   ],
   "source": [
    "plot_transfer_values(PATIENT_ANALYSIS_NUMBER)"
   ]
  },
  {
   "cell_type": "code",
   "execution_count": null,
   "metadata": {
    "collapsed": true
   },
   "outputs": [],
   "source": []
  }
 ],
 "metadata": {
  "kernelspec": {
   "display_name": "Python 3",
   "language": "python",
   "name": "python3"
  },
  "language_info": {
   "codemirror_mode": {
    "name": "ipython",
    "version": 3
   },
   "file_extension": ".py",
   "mimetype": "text/x-python",
   "name": "python",
   "nbconvert_exporter": "python",
   "pygments_lexer": "ipython3",
   "version": "3.5.2"
  }
 },
 "nbformat": 4,
 "nbformat_minor": 2
}
