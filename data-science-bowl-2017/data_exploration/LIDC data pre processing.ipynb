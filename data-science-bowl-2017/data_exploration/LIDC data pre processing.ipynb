{
 "cells": [
  {
   "cell_type": "code",
   "execution_count": 1,
   "metadata": {
    "collapsed": true,
    "deletable": true,
    "editable": true
   },
   "outputs": [],
   "source": [
    "%matplotlib inline\n",
    "\n",
    "import numpy as np # linear algebra\n",
    "import pandas as pd # data processing, CSV file I/O (e.g. pd.read_csv)\n",
    "import dicom\n",
    "import os\n",
    "from scipy import ndimage as ndi\n",
    "import matplotlib.pyplot as plt\n",
    "import glob\n",
    "import re\n",
    "#import xmltodict\n",
    "import pickle\n",
    "import untangle\n",
    "import uuid\n",
    "from tqdm import tqdm\n",
    "from decimal import Decimal\n",
    "from skimage import measure, morphology\n",
    "from skimage.morphology import ball, disk, dilation, binary_erosion, remove_small_objects, erosion, closing, reconstruction, binary_closing\n",
    "from skimage.measure import label,regionprops, perimeter\n",
    "from skimage.morphology import binary_dilation, binary_opening\n",
    "from skimage.segmentation import clear_border\n",
    "from skimage.filters import roberts, sobel\n",
    "\n",
    "from mpl_toolkits.mplot3d.art3d import Poly3DCollection\n",
    "\n",
    "DATA_PATH = '/kaggle_2/lidc_idri/data/'\n",
    "DATA_PATH_XML = '/kaggle_2/lidc_idri/data/tcia-lidc-xml/'\n",
    "DATA_PATH_SCANS = '/kaggle_2/lidc_idri/data/LIDC/DOI/'\n",
    "DATA_PATH_POST_PROCESSED_SCANS = '/kaggle_2/lidc_idri/data/scans_resampled_unsegmented/'\n",
    "DATA_PATH_NODULES = '/kaggle_2/lidc_idri/data/nodules_chunked/'\n",
    "DATA_PATH_NON_NODULES = '/kaggle_2/lidc_idri/data/non_nodules_chunked/'\n",
    "CHUNK_SIZE = 32"
   ]
  },
  {
   "cell_type": "code",
   "execution_count": 10,
   "metadata": {
    "collapsed": false,
    "deletable": true,
    "editable": true
   },
   "outputs": [],
   "source": [
    "with open(DATA_PATH + 'patient_scans_map.pkl', 'rb') as f:\n",
    "    patient_scans_map = pickle.load(f)\n",
    "\n",
    "with open(DATA_PATH + 'patient_nodules_map.pkl', 'rb') as f:\n",
    "    patient_nodules_map = pickle.load(f)\n",
    "    \n",
    "with open(DATA_PATH + 'patient_non_nodules_map.pkl', 'rb') as f:\n",
    "    patient_non_nodules_map = pickle.load(f)"
   ]
  },
  {
   "cell_type": "code",
   "execution_count": 11,
   "metadata": {
    "collapsed": false,
    "deletable": true,
    "editable": true
   },
   "outputs": [
    {
     "name": "stdout",
     "output_type": "stream",
     "text": [
      "1018\n",
      "883\n",
      "128\n"
     ]
    }
   ],
   "source": [
    "print(len(patient_scans_map.keys()))\n",
    "print(len(patient_nodules_map.keys()))\n",
    "print(len(patient_non_nodules_map.keys()))"
   ]
  },
  {
   "cell_type": "code",
   "execution_count": 12,
   "metadata": {
    "collapsed": true,
    "deletable": true,
    "editable": true
   },
   "outputs": [],
   "source": [
    "# Load the scans in given folder path\n",
    "def load_scan(paths):\n",
    "    slices = [dicom.read_file(path) for path in paths]\n",
    "    slices.sort(key = lambda x: int(x.ImagePositionPatient[2]))\n",
    "    try:\n",
    "        slice_thickness = np.abs(slices[0].ImagePositionPatient[2] - slices[1].ImagePositionPatient[2])\n",
    "    except:\n",
    "        slice_thickness = np.abs(slices[0].SliceLocation - slices[1].SliceLocation)\n",
    "        \n",
    "    for s in slices:\n",
    "        s.SliceThickness = slice_thickness\n",
    "    \n",
    "    origin = np.array(list(reversed(slices[0].ImagePositionPatient)), dtype=np.float32)\n",
    "    \n",
    "    # Determine current pixel spacing\n",
    "    spacing = np.array([slices[0].SliceThickness] + slices[0].PixelSpacing, dtype=np.float32)\n",
    "\n",
    "    return slices, origin, spacing\n",
    "\n",
    "def world_2_voxel(world_coordinates, origin, spacing):\n",
    "    stretched_voxel_coordinates = np.absolute(world_coordinates - origin)\n",
    "    voxel_coordinates = stretched_voxel_coordinates / spacing\n",
    "    return voxel_coordinates"
   ]
  },
  {
   "cell_type": "code",
   "execution_count": 22,
   "metadata": {
    "collapsed": false,
    "deletable": true,
    "editable": true,
    "scrolled": false
   },
   "outputs": [
    {
     "name": "stderr",
     "output_type": "stream",
     "text": [
      "\n",
      "  0%|          | 0/883 [00:00<?, ?it/s]\u001b[A\n",
      "  0%|          | 1/883 [00:00<11:03,  1.33it/s]\u001b[A\n",
      "  1%|          | 5/883 [00:00<07:49,  1.87it/s]\u001b[A\n",
      "  1%|          | 10/883 [00:00<05:33,  2.62it/s]\u001b[A\n",
      "  1%|▏         | 12/883 [00:01<04:08,  3.51it/s]\u001b[A\n",
      "  2%|▏         | 14/883 [00:02<05:12,  2.78it/s]\u001b[A\n",
      "  2%|▏         | 18/883 [00:02<03:44,  3.85it/s]\u001b[A\n",
      "  2%|▏         | 22/883 [00:02<03:15,  4.41it/s]\u001b[A\n",
      "  3%|▎         | 26/883 [00:03<02:24,  5.93it/s]\u001b[A\n",
      "100%|██████████| 883/883 [55:44<00:00,  6.99s/it]  \n"
     ]
    }
   ],
   "source": [
    "weird_chunks = {}\n",
    "weird_chunk_count = 0\n",
    "RESIZE_SPACING = [1,1,1]\n",
    "diameters = []\n",
    "items = list(patient_nodules_map.items())\n",
    "for idx in tqdm(range(len(items))):\n",
    "    patient_id = items[idx][0]\n",
    "    nodules = items[idx][1]\n",
    "#     print(nodules)\n",
    "#     print(patient_id)\n",
    "#     patient_scan_files = patient_scans_map[patient_id]['scans']\n",
    "#     patient_scan_files.sort()\n",
    "#     scan, origin, spacing = load_scan(patient_scan_files)\n",
    "    scan_resampled = np.load(DATA_PATH_POST_PROCESSED_SCANS + \"scan_%s.npy\" % (patient_id))\n",
    "#     print('Original scan', (len(scan), 512, 512))\n",
    "#     print('Resampled scan', scan_resampled.shape)\n",
    "#     print('Nodules',len(nodules))\n",
    "#     print(nodules)\n",
    "#     print('---')\n",
    "#     print(patient_nodules_map[patient_id])\n",
    "\n",
    "    X = []#np.ndarray((len(nodules), CHUNK_SIZE, CHUNK_SIZE, CHUNK_SIZE), dtype=np.float32)\n",
    "    Y = []#np.ndarray([len(nodules), 1], dtype=np.float32)\n",
    "    count = 0\n",
    "    for nodule in nodules:\n",
    "        coordsPerc = nodule['coordsPerc']\n",
    "       \n",
    "        centerZ = int(coordsPerc[0] * scan_resampled.shape[0])\n",
    "        centerY = int(coordsPerc[1] * scan_resampled.shape[1])\n",
    "        centerX = int(coordsPerc[2] * scan_resampled.shape[2])\n",
    "        diameter = float(nodule['diameterPerc'] * scan_resampled.shape[2])\n",
    "        \n",
    "        assert scan_resampled.shape[1] == scan_resampled.shape[2]\n",
    "        \n",
    "        diameters.append(diameter)\n",
    "        continue\n",
    "        \n",
    "        Z1 = centerZ - int(CHUNK_SIZE/2)\n",
    "        Z2 = centerZ + int(CHUNK_SIZE/2)\n",
    "        Y1 = centerY - int(CHUNK_SIZE/2)\n",
    "        Y2 = centerY + int(CHUNK_SIZE/2)\n",
    "        X1 = centerX - int(CHUNK_SIZE/2)\n",
    "        X2 = centerX + int(CHUNK_SIZE/2)\n",
    "        \n",
    "        X1 = 0 if (X1 < 0) else X1\n",
    "        Y1 = 0 if (Y1 < 0) else Y1\n",
    "        Z1 = 0 if (Z1 < 0) else Z1\n",
    "        \n",
    "        X2 = scan_resampled.shape[2] if (X2 > scan_resampled.shape[2]) else X2\n",
    "        Y2 = scan_resampled.shape[1] if (Y2 > scan_resampled.shape[1]) else Y2\n",
    "        Z2 = scan_resampled.shape[0] if (Z2 > scan_resampled.shape[0]) else Z2\n",
    "        \n",
    "#         print(int(minZ), int(maxZ), int(minY), int(maxY), int(minX), int(maxX))\n",
    "#         print(centerZ, centerY, centerX)\n",
    "#         print(Z1, Z2, Y1, Y2, X1, X2)\n",
    "        \n",
    "        if (Z2 > scan_resampled.shape[0] or Y2 > scan_resampled.shape[1] or X2 > scan_resampled.shape[2] or Z2 < Z1 or Y2 < Y1 or X2 < X1):\n",
    "            #print('Found weird chunk!')\n",
    "            if patient_id in weird_chunks.keys():\n",
    "                weird_chunks[patient_id].append({'shape': scan_resampled.shape, 'center': [centerZ, centerY, centerX], 'chunk_coords': [Z1, Z2, Y1, Y2, X1, X2]})\n",
    "            else:\n",
    "                weird_chunks[patient_id] = []\n",
    "                weird_chunks[patient_id].append({'shape': scan_resampled.shape, 'center': [centerZ, centerY, centerX], 'chunk_coords': [Z1, Z2, Y1, Y2, X1, X2]})\n",
    "            weird_chunk_count += 1\n",
    "            continue\n",
    "        \n",
    "        chunk = np.full((CHUNK_SIZE, CHUNK_SIZE, CHUNK_SIZE), -1000.0, np.float32)\n",
    "        chunk[0:Z2-Z1, 0:Y2-Y1, 0:X2-X1] = scan_resampled[Z1:Z2,Y1:Y2,X1:X2]\n",
    "\n",
    "        X.append(chunk)\n",
    "        if 'malignancy' in nodule:\n",
    "            Y.append(nodule['malignancy'])\n",
    "        else:\n",
    "            Y.append(0.0)\n",
    "        count = count + 1\n",
    "    \n",
    "    assert len(X) == len(Y)\n",
    "    \n",
    "#     X_np = np.ndarray((len(X), CHUNK_SIZE, CHUNK_SIZE, CHUNK_SIZE), dtype=np.float32)\n",
    "#     Y_np = np.ndarray([len(X)], dtype=np.float32)\n",
    "    \n",
    "#     for idx in range(len(X)):\n",
    "#         X_np[idx, :, :, :] = X[idx]\n",
    "#         Y_np[idx] = Y[idx]\n",
    "        \n",
    "#     np.save(DATA_PATH_NODULES + patient_id + '_X.npy', X_np)\n",
    "#     np.save(DATA_PATH_NODULES + patient_id + '_Y.npy', Y_np)"
   ]
  },
  {
   "cell_type": "code",
   "execution_count": 28,
   "metadata": {
    "collapsed": false
   },
   "outputs": [
    {
     "name": "stdout",
     "output_type": "stream",
     "text": [
      "percentile 90 : 21.28848\n",
      "percentile 90.5 : 21.88\n",
      "percentile 91 : 22.502146\n",
      "percentile 91.5 : 23.188\n",
      "percentile 92 : 23.44\n",
      "percentile 92.5 : 24.068\n",
      "percentile 93 : 24.90505\n",
      "percentile 93.5 : 25.7298\n",
      "percentile 94 : 26.476552\n",
      "percentile 94.5 : 27.37656\n",
      "percentile 95 : 28.21686\n",
      "percentile 95.5 : 28.92\n",
      "percentile 96 : 30.24\n",
      "percentile 96.5 : 30.924\n",
      "percentile 97 : 32.328\n",
      "percentile 97.5 : 33.768\n",
      "percentile 98 : 35.685568\n",
      "percentile 98.5 : 37.150095\n",
      "percentile 99 : 39.27178\n",
      "percentile 99.5 : 43.476846\n"
     ]
    }
   ],
   "source": [
    "diameters_np = np.asarray(diameters)\n",
    "for i in range(90,100):\n",
    "    print('percentile', i, ':', np.percentile(diameters_np, i))\n",
    "    print('percentile', i+0.5, ':', np.percentile(diameters_np, i+0.5))"
   ]
  },
  {
   "cell_type": "code",
   "execution_count": 12,
   "metadata": {
    "collapsed": false,
    "deletable": true,
    "editable": true
   },
   "outputs": [
    {
     "name": "stdout",
     "output_type": "stream",
     "text": [
      "Saved weird_chunks map!\n"
     ]
    }
   ],
   "source": [
    "# Do NOT run this cell as it will overwrite already existing weird_chunks file on disk\n",
    "with open(DATA_PATH + 'weird_chunks.pkl', 'wb') as f:\n",
    "    pickle.dump(weird_chunks, f, pickle.HIGHEST_PROTOCOL)\n",
    "    \n",
    "print('Saved weird_chunks map!')"
   ]
  },
  {
   "cell_type": "code",
   "execution_count": 13,
   "metadata": {
    "collapsed": false,
    "deletable": true,
    "editable": true
   },
   "outputs": [],
   "source": [
    "with open(DATA_PATH + 'weird_chunks.pkl', 'rb') as f:\n",
    "    weird_chunks = pickle.load(f)"
   ]
  },
  {
   "cell_type": "code",
   "execution_count": 21,
   "metadata": {
    "collapsed": false,
    "deletable": true,
    "editable": true,
    "scrolled": false
   },
   "outputs": [
    {
     "name": "stderr",
     "output_type": "stream",
     "text": [
      "100%|██████████| 128/128 [04:58<00:00,  2.60s/it]\n"
     ]
    }
   ],
   "source": [
    "weird_chunks = {}\n",
    "weird_chunk_count = 0\n",
    "RESIZE_SPACING = [1,1,1]\n",
    "items = list(patient_non_nodules_map.items())\n",
    "for idx in tqdm(range(len(items))):\n",
    "    patient_id = items[idx][0]\n",
    "    nodules = items[idx][1]\n",
    "    #print(nodules)\n",
    "#   print(patient_id)\n",
    "    #patient_scan_files = patient_scans_map[patient_id]['scans']\n",
    "    #patient_scan_files.sort()\n",
    "    #scan, origin, spacing = load_scan(patient_scan_files)\n",
    "    scan_resampled = np.load(DATA_PATH_POST_PROCESSED_SCANS + \"scan_%s.npy\" % (patient_id))\n",
    "#    print('Original scan', (len(scan), 512, 512))\n",
    "#    print('Resampled scan', scan_resampled.shape)\n",
    "#    print('Nodules',len(nodules))\n",
    "    #print(nodules)\n",
    "    #print('---')\n",
    "    #print(patient_nodules_map[patient_id])\n",
    "\n",
    "    X = []#np.ndarray((len(nodules), CHUNK_SIZE, CHUNK_SIZE, CHUNK_SIZE), dtype=np.float32)\n",
    "    Y = []#np.ndarray([len(nodules), 1], dtype=np.float32)\n",
    "    count = 0\n",
    "    for nodule in nodules:\n",
    "        coordsPerc = nodule['coordsPerc']\n",
    "       \n",
    "        centerZ = int(coordsPerc[0] * scan_resampled.shape[0])\n",
    "        centerY = int(coordsPerc[1] * scan_resampled.shape[1])\n",
    "        centerX = int(coordsPerc[2] * scan_resampled.shape[2])\n",
    "        \n",
    "        Z1 = centerZ - int(CHUNK_SIZE/2)\n",
    "        Z2 = centerZ + int(CHUNK_SIZE/2)\n",
    "        Y1 = centerY - int(CHUNK_SIZE/2)\n",
    "        Y2 = centerY + int(CHUNK_SIZE/2)\n",
    "        X1 = centerX - int(CHUNK_SIZE/2)\n",
    "        X2 = centerX + int(CHUNK_SIZE/2)\n",
    "        \n",
    "        X1 = 0 if (X1 < 0) else X1\n",
    "        Y1 = 0 if (Y1 < 0) else Y1\n",
    "        Z1 = 0 if (Z1 < 0) else Z1\n",
    "        \n",
    "        X2 = scan_resampled.shape[2] if (X2 > scan_resampled.shape[2]) else X2\n",
    "        Y2 = scan_resampled.shape[1] if (Y2 > scan_resampled.shape[1]) else Y2\n",
    "        Z2 = scan_resampled.shape[0] if (Z2 > scan_resampled.shape[0]) else Z2\n",
    "        \n",
    "#      print(int(minZ), int(maxZ), int(minY), int(maxY), int(minX), int(maxX))\n",
    "#         print(centerZ, centerY, centerX)\n",
    "#         print(Z1, Z2, Y1, Y2, X1, X2)\n",
    "        \n",
    "        if (Z2 > scan_resampled.shape[0] or Y2 > scan_resampled.shape[1] or X2 > scan_resampled.shape[2] or Z2 < Z1 or Y2 < Y1 or X2 < X1):\n",
    "            #print('Found weird chunk!')\n",
    "            if patient_id in weird_chunks.keys():\n",
    "                weird_chunks[patient_id].append({'shape': scan_resampled.shape, 'center': [centerZ, centerY, centerX], 'chunk_coords': [Z1, Z2, Y1, Y2, X1, X2]})\n",
    "            else:\n",
    "                weird_chunks[patient_id] = []\n",
    "                weird_chunks[patient_id].append({'shape': scan_resampled.shape, 'center': [centerZ, centerY, centerX], 'chunk_coords': [Z1, Z2, Y1, Y2, X1, X2]})\n",
    "            weird_chunk_count += 1\n",
    "            continue\n",
    "        \n",
    "        chunk = np.full((CHUNK_SIZE, CHUNK_SIZE, CHUNK_SIZE), -1000.0, np.float32)\n",
    "        chunk[0:Z2-Z1, 0:Y2-Y1, 0:X2-X1] = scan_resampled[Z1:Z2,Y1:Y2,X1:X2]\n",
    "\n",
    "        X.append(chunk)\n",
    "        if 'malignancy' in nodule:\n",
    "            Y.append(nodule['malignancy'])\n",
    "        else:\n",
    "            Y.append(0.0)\n",
    "        count = count + 1\n",
    "    \n",
    "    assert len(X) == len(Y)\n",
    "    \n",
    "    X_np = np.ndarray((len(X), CHUNK_SIZE, CHUNK_SIZE, CHUNK_SIZE), dtype=np.float32)\n",
    "    Y_np = np.ndarray([len(X)], dtype=np.float32)\n",
    "    \n",
    "    for idx in range(len(X)):\n",
    "        X_np[idx, :, :, :] = X[idx]\n",
    "        Y_np[idx] = Y[idx]\n",
    "        \n",
    "    np.save(DATA_PATH_NON_NODULES + patient_id + '_X.npy', X_np)\n",
    "    np.save(DATA_PATH_NON_NODULES + patient_id + '_Y.npy', Y_np)"
   ]
  },
  {
   "cell_type": "code",
   "execution_count": 24,
   "metadata": {
    "collapsed": false,
    "deletable": true,
    "editable": true
   },
   "outputs": [
    {
     "data": {
      "text/plain": [
       "1373"
      ]
     },
     "execution_count": 24,
     "metadata": {},
     "output_type": "execute_result"
    }
   ],
   "source": [
    "non_nodules_count = 0\n",
    "for p_id, nodules in patient_non_nodules_map.items():\n",
    "    non_nodules_count += len(nodules)\n",
    "non_nodules_count"
   ]
  }
 ],
 "metadata": {
  "kernelspec": {
   "display_name": "Python 3",
   "language": "python",
   "name": "python3"
  },
  "language_info": {
   "codemirror_mode": {
    "name": "ipython",
    "version": 3
   },
   "file_extension": ".py",
   "mimetype": "text/x-python",
   "name": "python",
   "nbconvert_exporter": "python",
   "pygments_lexer": "ipython3",
   "version": "3.5.2"
  }
 },
 "nbformat": 4,
 "nbformat_minor": 2
}
