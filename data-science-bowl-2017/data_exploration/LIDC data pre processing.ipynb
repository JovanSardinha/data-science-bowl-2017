{
 "cells": [
  {
   "cell_type": "code",
   "execution_count": 27,
   "metadata": {
    "collapsed": true,
    "deletable": true,
    "editable": true
   },
   "outputs": [],
   "source": [
    "%matplotlib inline\n",
    "\n",
    "import numpy as np # linear algebra\n",
    "import pandas as pd # data processing, CSV file I/O (e.g. pd.read_csv)\n",
    "import dicom\n",
    "import os\n",
    "from scipy import ndimage as ndi\n",
    "import matplotlib.pyplot as plt\n",
    "import glob\n",
    "import re\n",
    "#import xmltodict\n",
    "import pickle\n",
    "import untangle\n",
    "import uuid\n",
    "from tqdm import tqdm\n",
    "from decimal import Decimal\n",
    "from skimage import measure, morphology\n",
    "from skimage.morphology import ball, disk, dilation, binary_erosion, remove_small_objects, erosion, closing, reconstruction, binary_closing\n",
    "from skimage.measure import label,regionprops, perimeter\n",
    "from skimage.morphology import binary_dilation, binary_opening\n",
    "from skimage.segmentation import clear_border\n",
    "from skimage.filters import roberts, sobel\n",
    "\n",
    "from mpl_toolkits.mplot3d.art3d import Poly3DCollection\n",
    "\n",
    "DATA_PATH = '/kaggle_2/lidc_idri/data/'\n",
    "DATA_PATH_XML = '/kaggle_2/lidc_idri/data/tcia-lidc-xml/'\n",
    "DATA_PATH_SCANS = '/kaggle_2/lidc_idri/data/LIDC/DOI/'\n",
    "DATA_PATH_POST_PROCESSED_SCANS = '/kaggle_2/lidc_idri/data/scans_resampled_unsegmented/'\n",
    "DATA_PATH_NODULES = '/kaggle_2/lidc_idri/data/nodules_chunked/'\n",
    "CHUNK_SIZE = 32"
   ]
  },
  {
   "cell_type": "code",
   "execution_count": 29,
   "metadata": {
    "collapsed": true,
    "deletable": true,
    "editable": true
   },
   "outputs": [],
   "source": [
    "with open(DATA_PATH + 'patient_scans_map.pkl', 'rb') as f:\n",
    "    patient_scans_map = pickle.load(f)\n",
    "\n",
    "with open(DATA_PATH + 'patient_nodules_map.pkl', 'rb') as f:\n",
    "    patient_nodules_map = pickle.load(f)\n",
    "    \n",
    "with open(DATA_PATH + 'patient_deduped_nodules_map.pkl', 'rb') as f:\n",
    "    patient_deduped_nodules_map = pickle.load(f)"
   ]
  },
  {
   "cell_type": "code",
   "execution_count": 30,
   "metadata": {
    "collapsed": false,
    "deletable": true,
    "editable": true
   },
   "outputs": [
    {
     "name": "stdout",
     "output_type": "stream",
     "text": [
      "1018\n",
      "998\n",
      "998\n"
     ]
    }
   ],
   "source": [
    "print(len(patient_scans_map.keys()))\n",
    "print(len(patient_nodules_map.keys()))\n",
    "print(len(patient_deduped_nodules_map.keys()))"
   ]
  },
  {
   "cell_type": "code",
   "execution_count": 31,
   "metadata": {
    "collapsed": true,
    "deletable": true,
    "editable": true
   },
   "outputs": [],
   "source": [
    "# Load the scans in given folder path\n",
    "def load_scan(paths):\n",
    "    slices = [dicom.read_file(path) for path in paths]\n",
    "    slices.sort(key = lambda x: int(x.ImagePositionPatient[2]))\n",
    "    try:\n",
    "        slice_thickness = np.abs(slices[0].ImagePositionPatient[2] - slices[1].ImagePositionPatient[2])\n",
    "    except:\n",
    "        slice_thickness = np.abs(slices[0].SliceLocation - slices[1].SliceLocation)\n",
    "        \n",
    "    for s in slices:\n",
    "        s.SliceThickness = slice_thickness\n",
    "    \n",
    "    origin = np.array(list(reversed(slices[0].ImagePositionPatient)), dtype=np.float32)\n",
    "    \n",
    "    # Determine current pixel spacing\n",
    "    spacing = np.array([slices[0].SliceThickness] + slices[0].PixelSpacing, dtype=np.float32)\n",
    "\n",
    "    return slices, origin, spacing\n",
    "\n",
    "def world_2_voxel(world_coordinates, origin, spacing):\n",
    "    stretched_voxel_coordinates = np.absolute(world_coordinates - origin)\n",
    "    voxel_coordinates = stretched_voxel_coordinates / spacing\n",
    "    return voxel_coordinates"
   ]
  },
  {
   "cell_type": "code",
   "execution_count": 32,
   "metadata": {
    "collapsed": false,
    "deletable": true,
    "editable": true,
    "scrolled": false
   },
   "outputs": [
    {
     "name": "stderr",
     "output_type": "stream",
     "text": [
      "  1%|          | 7/998 [02:53<7:33:03, 27.43s/it] "
     ]
    },
    {
     "name": "stdout",
     "output_type": "stream",
     "text": [
      "Found weird chunk!\n",
      "Found weird chunk!\n"
     ]
    },
    {
     "name": "stderr",
     "output_type": "stream",
     "text": [
      "  1%|▏         | 14/998 [06:02<7:10:58, 26.28s/it]"
     ]
    },
    {
     "name": "stdout",
     "output_type": "stream",
     "text": [
      "Found weird chunk!\n",
      "Found weird chunk!\n"
     ]
    },
    {
     "name": "stderr",
     "output_type": "stream",
     "text": [
      "  2%|▏         | 21/998 [08:14<5:33:58, 20.51s/it]"
     ]
    },
    {
     "name": "stdout",
     "output_type": "stream",
     "text": [
      "Found weird chunk!\n",
      "Found weird chunk!\n",
      "Found weird chunk!\n"
     ]
    },
    {
     "name": "stderr",
     "output_type": "stream",
     "text": [
      "  4%|▎         | 35/998 [14:55<7:45:20, 28.99s/it]"
     ]
    },
    {
     "name": "stdout",
     "output_type": "stream",
     "text": [
      "Found weird chunk!\n"
     ]
    },
    {
     "name": "stderr",
     "output_type": "stream",
     "text": [
      "  5%|▌         | 53/998 [21:12<5:58:41, 22.77s/it]"
     ]
    },
    {
     "name": "stdout",
     "output_type": "stream",
     "text": [
      "Found weird chunk!\n"
     ]
    },
    {
     "name": "stderr",
     "output_type": "stream",
     "text": [
      "  6%|▌         | 55/998 [21:53<5:43:41, 21.87s/it]"
     ]
    },
    {
     "name": "stdout",
     "output_type": "stream",
     "text": [
      "Found weird chunk!\n",
      "Found weird chunk!\n",
      "Found weird chunk!\n"
     ]
    },
    {
     "name": "stderr",
     "output_type": "stream",
     "text": [
      "  7%|▋         | 73/998 [27:58<4:33:02, 17.71s/it]"
     ]
    },
    {
     "name": "stdout",
     "output_type": "stream",
     "text": [
      "Found weird chunk!\n",
      "Found weird chunk!\n",
      "Found weird chunk!\n",
      "Found weird chunk!\n",
      "Found weird chunk!\n",
      "Found weird chunk!\n",
      "Found weird chunk!\n",
      "Found weird chunk!\n",
      "Found weird chunk!\n"
     ]
    },
    {
     "name": "stderr",
     "output_type": "stream",
     "text": [
      "  8%|▊         | 81/998 [30:26<5:03:01, 19.83s/it]"
     ]
    },
    {
     "name": "stdout",
     "output_type": "stream",
     "text": [
      "Found weird chunk!\n"
     ]
    },
    {
     "name": "stderr",
     "output_type": "stream",
     "text": [
      "  9%|▉         | 89/998 [33:32<5:39:47, 22.43s/it]"
     ]
    },
    {
     "name": "stdout",
     "output_type": "stream",
     "text": [
      "Found weird chunk!\n"
     ]
    },
    {
     "name": "stderr",
     "output_type": "stream",
     "text": [
      " 10%|█         | 102/998 [38:02<4:55:19, 19.78s/it]"
     ]
    },
    {
     "name": "stdout",
     "output_type": "stream",
     "text": [
      "Found weird chunk!\n",
      "Found weird chunk!\n",
      "Found weird chunk!\n",
      "Found weird chunk!\n",
      "Found weird chunk!\n",
      "Found weird chunk!\n",
      "Found weird chunk!\n",
      "Found weird chunk!\n",
      "Found weird chunk!\n",
      "Found weird chunk!\n",
      "Found weird chunk!\n",
      "Found weird chunk!\n",
      "Found weird chunk!\n",
      "Found weird chunk!\n",
      "Found weird chunk!\n",
      "Found weird chunk!\n",
      "Found weird chunk!\n"
     ]
    },
    {
     "name": "stderr",
     "output_type": "stream",
     "text": [
      " 12%|█▏        | 117/998 [43:35<4:49:27, 19.71s/it]"
     ]
    },
    {
     "name": "stdout",
     "output_type": "stream",
     "text": [
      "Found weird chunk!\n",
      "Found weird chunk!\n",
      "Found weird chunk!\n",
      "Found weird chunk!\n",
      "Found weird chunk!\n",
      "Found weird chunk!\n"
     ]
    },
    {
     "name": "stderr",
     "output_type": "stream",
     "text": [
      "\r",
      " 12%|█▏        | 118/998 [43:56<4:55:40, 20.16s/it]"
     ]
    },
    {
     "name": "stdout",
     "output_type": "stream",
     "text": [
      "Found weird chunk!\n",
      "Found weird chunk!\n",
      "Found weird chunk!\n"
     ]
    },
    {
     "name": "stderr",
     "output_type": "stream",
     "text": [
      " 12%|█▏        | 121/998 [44:54<4:54:57, 20.18s/it]"
     ]
    },
    {
     "name": "stdout",
     "output_type": "stream",
     "text": [
      "Found weird chunk!\n"
     ]
    },
    {
     "name": "stderr",
     "output_type": "stream",
     "text": [
      " 13%|█▎        | 126/998 [46:54<5:40:42, 23.44s/it]"
     ]
    },
    {
     "name": "stdout",
     "output_type": "stream",
     "text": [
      "Found weird chunk!\n",
      "Found weird chunk!\n"
     ]
    },
    {
     "name": "stderr",
     "output_type": "stream",
     "text": [
      " 13%|█▎        | 132/998 [49:02<5:02:45, 20.98s/it]"
     ]
    },
    {
     "name": "stdout",
     "output_type": "stream",
     "text": [
      "Found weird chunk!\n"
     ]
    },
    {
     "name": "stderr",
     "output_type": "stream",
     "text": [
      " 14%|█▍        | 138/998 [51:04<4:49:35, 20.20s/it]"
     ]
    },
    {
     "name": "stdout",
     "output_type": "stream",
     "text": [
      "Found weird chunk!\n"
     ]
    },
    {
     "name": "stderr",
     "output_type": "stream",
     "text": [
      " 15%|█▍        | 145/998 [53:13<4:03:32, 17.13s/it]"
     ]
    },
    {
     "name": "stdout",
     "output_type": "stream",
     "text": [
      "Found weird chunk!\n"
     ]
    },
    {
     "name": "stderr",
     "output_type": "stream",
     "text": [
      " 15%|█▌        | 152/998 [55:47<5:25:48, 23.11s/it]"
     ]
    },
    {
     "name": "stdout",
     "output_type": "stream",
     "text": [
      "Found weird chunk!\n"
     ]
    },
    {
     "name": "stderr",
     "output_type": "stream",
     "text": [
      " 17%|█▋        | 172/998 [1:02:59<4:15:48, 18.58s/it]"
     ]
    },
    {
     "name": "stdout",
     "output_type": "stream",
     "text": [
      "Found weird chunk!\n",
      "Found weird chunk!\n",
      "Found weird chunk!\n",
      "Found weird chunk!\n",
      "Found weird chunk!\n"
     ]
    },
    {
     "name": "stderr",
     "output_type": "stream",
     "text": [
      " 18%|█▊        | 179/998 [1:06:07<5:53:17, 25.88s/it]"
     ]
    },
    {
     "name": "stdout",
     "output_type": "stream",
     "text": [
      "Found weird chunk!\n",
      "Found weird chunk!\n",
      "Found weird chunk!\n"
     ]
    },
    {
     "name": "stderr",
     "output_type": "stream",
     "text": [
      " 18%|█▊        | 183/998 [1:07:36<4:47:11, 21.14s/it]"
     ]
    },
    {
     "name": "stdout",
     "output_type": "stream",
     "text": [
      "Found weird chunk!\n"
     ]
    },
    {
     "name": "stderr",
     "output_type": "stream",
     "text": [
      " 20%|█▉        | 195/998 [1:11:32<4:51:30, 21.78s/it]"
     ]
    },
    {
     "name": "stdout",
     "output_type": "stream",
     "text": [
      "Found weird chunk!\n"
     ]
    },
    {
     "name": "stderr",
     "output_type": "stream",
     "text": [
      " 20%|██        | 200/998 [1:13:35<5:36:10, 25.28s/it]"
     ]
    },
    {
     "name": "stdout",
     "output_type": "stream",
     "text": [
      "Found weird chunk!\n",
      "Found weird chunk!\n"
     ]
    },
    {
     "name": "stderr",
     "output_type": "stream",
     "text": [
      " 22%|██▏       | 224/998 [1:23:33<4:59:54, 23.25s/it]"
     ]
    },
    {
     "name": "stdout",
     "output_type": "stream",
     "text": [
      "Found weird chunk!\n"
     ]
    },
    {
     "name": "stderr",
     "output_type": "stream",
     "text": [
      " 24%|██▍       | 239/998 [1:29:38<4:38:47, 22.04s/it]"
     ]
    },
    {
     "name": "stdout",
     "output_type": "stream",
     "text": [
      "Found weird chunk!\n"
     ]
    },
    {
     "name": "stderr",
     "output_type": "stream",
     "text": [
      " 24%|██▍       | 243/998 [1:30:32<3:21:13, 15.99s/it]"
     ]
    },
    {
     "name": "stdout",
     "output_type": "stream",
     "text": [
      "Found weird chunk!\n",
      "Found weird chunk!\n"
     ]
    },
    {
     "name": "stderr",
     "output_type": "stream",
     "text": [
      " 25%|██▌       | 253/998 [1:33:32<3:03:47, 14.80s/it]"
     ]
    },
    {
     "name": "stdout",
     "output_type": "stream",
     "text": [
      "Found weird chunk!\n"
     ]
    },
    {
     "name": "stderr",
     "output_type": "stream",
     "text": [
      " 26%|██▌       | 260/998 [1:35:25<3:20:55, 16.33s/it]"
     ]
    },
    {
     "name": "stdout",
     "output_type": "stream",
     "text": [
      "Found weird chunk!\n",
      "Found weird chunk!\n",
      "Found weird chunk!\n",
      "Found weird chunk!\n",
      "Found weird chunk!\n"
     ]
    },
    {
     "name": "stderr",
     "output_type": "stream",
     "text": [
      " 32%|███▏      | 318/998 [1:59:54<4:50:05, 25.60s/it]"
     ]
    },
    {
     "name": "stdout",
     "output_type": "stream",
     "text": [
      "Found weird chunk!\n"
     ]
    },
    {
     "name": "stderr",
     "output_type": "stream",
     "text": [
      " 32%|███▏      | 321/998 [2:00:59<4:09:01, 22.07s/it]"
     ]
    },
    {
     "name": "stdout",
     "output_type": "stream",
     "text": [
      "Found weird chunk!\n"
     ]
    },
    {
     "name": "stderr",
     "output_type": "stream",
     "text": [
      "\r",
      " 32%|███▏      | 322/998 [2:01:43<5:20:39, 28.46s/it]"
     ]
    },
    {
     "name": "stdout",
     "output_type": "stream",
     "text": [
      "Found weird chunk!\n"
     ]
    },
    {
     "name": "stderr",
     "output_type": "stream",
     "text": [
      " 39%|███▉      | 389/998 [2:28:00<4:26:34, 26.26s/it]"
     ]
    },
    {
     "name": "stdout",
     "output_type": "stream",
     "text": [
      "Found weird chunk!\n",
      "Found weird chunk!\n"
     ]
    },
    {
     "name": "stderr",
     "output_type": "stream",
     "text": [
      " 39%|███▉      | 394/998 [2:29:53<3:39:32, 21.81s/it]"
     ]
    },
    {
     "name": "stdout",
     "output_type": "stream",
     "text": [
      "Found weird chunk!\n",
      "Found weird chunk!\n",
      "Found weird chunk!\n",
      "Found weird chunk!\n"
     ]
    },
    {
     "name": "stderr",
     "output_type": "stream",
     "text": [
      " 40%|███▉      | 396/998 [2:30:42<3:55:42, 23.49s/it]"
     ]
    },
    {
     "name": "stdout",
     "output_type": "stream",
     "text": [
      "Found weird chunk!\n",
      "Found weird chunk!\n",
      "Found weird chunk!\n"
     ]
    },
    {
     "name": "stderr",
     "output_type": "stream",
     "text": [
      " 41%|████      | 405/998 [2:35:16<6:05:15, 36.96s/it]"
     ]
    },
    {
     "name": "stdout",
     "output_type": "stream",
     "text": [
      "Found weird chunk!\n"
     ]
    },
    {
     "name": "stderr",
     "output_type": "stream",
     "text": [
      " 42%|████▏     | 416/998 [2:39:15<5:02:10, 31.15s/it]"
     ]
    },
    {
     "name": "stdout",
     "output_type": "stream",
     "text": [
      "Found weird chunk!\n",
      "Found weird chunk!\n",
      "Found weird chunk!\n"
     ]
    },
    {
     "name": "stderr",
     "output_type": "stream",
     "text": [
      " 45%|████▍     | 445/998 [2:51:30<3:28:29, 22.62s/it]"
     ]
    },
    {
     "name": "stdout",
     "output_type": "stream",
     "text": [
      "Found weird chunk!\n"
     ]
    },
    {
     "name": "stderr",
     "output_type": "stream",
     "text": [
      "\r",
      " 45%|████▍     | 446/998 [2:51:50<3:21:13, 21.87s/it]"
     ]
    },
    {
     "name": "stdout",
     "output_type": "stream",
     "text": [
      "Found weird chunk!\n"
     ]
    },
    {
     "name": "stderr",
     "output_type": "stream",
     "text": [
      " 46%|████▋     | 463/998 [2:58:34<3:43:00, 25.01s/it]"
     ]
    },
    {
     "name": "stdout",
     "output_type": "stream",
     "text": [
      "Found weird chunk!\n",
      "Found weird chunk!\n",
      "Found weird chunk!\n"
     ]
    },
    {
     "name": "stderr",
     "output_type": "stream",
     "text": [
      " 47%|████▋     | 471/998 [3:01:39<3:54:08, 26.66s/it]"
     ]
    },
    {
     "name": "stdout",
     "output_type": "stream",
     "text": [
      "Found weird chunk!\n"
     ]
    },
    {
     "name": "stderr",
     "output_type": "stream",
     "text": [
      " 48%|████▊     | 476/998 [3:03:19<3:07:40, 21.57s/it]"
     ]
    },
    {
     "name": "stdout",
     "output_type": "stream",
     "text": [
      "Found weird chunk!\n",
      "Found weird chunk!\n"
     ]
    },
    {
     "name": "stderr",
     "output_type": "stream",
     "text": [
      " 48%|████▊     | 479/998 [3:04:49<3:59:32, 27.69s/it]"
     ]
    },
    {
     "name": "stdout",
     "output_type": "stream",
     "text": [
      "Found weird chunk!\n",
      "Found weird chunk!\n"
     ]
    },
    {
     "name": "stderr",
     "output_type": "stream",
     "text": [
      " 49%|████▊     | 485/998 [3:06:42<2:55:49, 20.56s/it]"
     ]
    },
    {
     "name": "stdout",
     "output_type": "stream",
     "text": [
      "Found weird chunk!\n"
     ]
    },
    {
     "name": "stderr",
     "output_type": "stream",
     "text": [
      " 51%|█████     | 504/998 [3:12:37<2:13:52, 16.26s/it]"
     ]
    },
    {
     "name": "stdout",
     "output_type": "stream",
     "text": [
      "Found weird chunk!\n",
      "Found weird chunk!\n"
     ]
    },
    {
     "name": "stderr",
     "output_type": "stream",
     "text": [
      " 51%|█████     | 510/998 [3:14:37<2:39:52, 19.66s/it]"
     ]
    },
    {
     "name": "stdout",
     "output_type": "stream",
     "text": [
      "Found weird chunk!\n"
     ]
    },
    {
     "name": "stderr",
     "output_type": "stream",
     "text": [
      "\r",
      " 51%|█████     | 511/998 [3:14:55<2:36:00, 19.22s/it]"
     ]
    },
    {
     "name": "stdout",
     "output_type": "stream",
     "text": [
      "Found weird chunk!\n",
      "Found weird chunk!\n",
      "Found weird chunk!\n",
      "Found weird chunk!\n",
      "Found weird chunk!\n",
      "Found weird chunk!\n",
      "Found weird chunk!\n",
      "Found weird chunk!\n"
     ]
    },
    {
     "name": "stderr",
     "output_type": "stream",
     "text": [
      " 52%|█████▏    | 514/998 [3:15:52<2:35:16, 19.25s/it]"
     ]
    },
    {
     "name": "stdout",
     "output_type": "stream",
     "text": [
      "Found weird chunk!\n",
      "Found weird chunk!\n"
     ]
    },
    {
     "name": "stderr",
     "output_type": "stream",
     "text": [
      " 53%|█████▎    | 524/998 [3:19:54<3:20:57, 25.44s/it]"
     ]
    },
    {
     "name": "stdout",
     "output_type": "stream",
     "text": [
      "Found weird chunk!\n",
      "Found weird chunk!\n",
      "Found weird chunk!\n"
     ]
    },
    {
     "name": "stderr",
     "output_type": "stream",
     "text": [
      " 54%|█████▍    | 543/998 [3:25:56<2:23:04, 18.87s/it]"
     ]
    },
    {
     "name": "stdout",
     "output_type": "stream",
     "text": [
      "Found weird chunk!\n"
     ]
    },
    {
     "name": "stderr",
     "output_type": "stream",
     "text": [
      " 56%|█████▌    | 555/998 [3:30:19<2:54:50, 23.68s/it]"
     ]
    },
    {
     "name": "stdout",
     "output_type": "stream",
     "text": [
      "Found weird chunk!\n",
      "Found weird chunk!\n",
      "Found weird chunk!\n"
     ]
    },
    {
     "name": "stderr",
     "output_type": "stream",
     "text": [
      " 56%|█████▌    | 558/998 [3:31:01<2:11:07, 17.88s/it]"
     ]
    },
    {
     "name": "stdout",
     "output_type": "stream",
     "text": [
      "Found weird chunk!\n"
     ]
    },
    {
     "name": "stderr",
     "output_type": "stream",
     "text": [
      " 57%|█████▋    | 565/998 [3:33:13<2:24:02, 19.96s/it]"
     ]
    },
    {
     "name": "stdout",
     "output_type": "stream",
     "text": [
      "Found weird chunk!\n",
      "Found weird chunk!\n",
      "Found weird chunk!\n",
      "Found weird chunk!\n",
      "Found weird chunk!\n",
      "Found weird chunk!\n",
      "Found weird chunk!\n",
      "Found weird chunk!\n",
      "Found weird chunk!\n",
      "Found weird chunk!\n",
      "Found weird chunk!\n",
      "Found weird chunk!\n"
     ]
    },
    {
     "name": "stderr",
     "output_type": "stream",
     "text": [
      " 57%|█████▋    | 571/998 [3:35:24<2:33:46, 21.61s/it]"
     ]
    },
    {
     "name": "stdout",
     "output_type": "stream",
     "text": [
      "Found weird chunk!\n"
     ]
    },
    {
     "name": "stderr",
     "output_type": "stream",
     "text": [
      "\r",
      " 57%|█████▋    | 572/998 [3:35:49<2:41:20, 22.72s/it]"
     ]
    },
    {
     "name": "stdout",
     "output_type": "stream",
     "text": [
      "Found weird chunk!\n",
      "Found weird chunk!\n",
      "Found weird chunk!\n"
     ]
    },
    {
     "name": "stderr",
     "output_type": "stream",
     "text": [
      " 58%|█████▊    | 578/998 [3:38:34<3:23:11, 29.03s/it]"
     ]
    },
    {
     "name": "stdout",
     "output_type": "stream",
     "text": [
      "Found weird chunk!\n"
     ]
    },
    {
     "name": "stderr",
     "output_type": "stream",
     "text": [
      " 59%|█████▉    | 587/998 [3:41:03<1:53:55, 16.63s/it]"
     ]
    },
    {
     "name": "stdout",
     "output_type": "stream",
     "text": [
      "Found weird chunk!\n"
     ]
    },
    {
     "name": "stderr",
     "output_type": "stream",
     "text": [
      " 60%|█████▉    | 597/998 [3:44:21<1:48:37, 16.25s/it]"
     ]
    },
    {
     "name": "stdout",
     "output_type": "stream",
     "text": [
      "Found weird chunk!\n",
      "Found weird chunk!\n",
      "Found weird chunk!\n",
      "Found weird chunk!\n"
     ]
    },
    {
     "name": "stderr",
     "output_type": "stream",
     "text": [
      " 61%|██████    | 604/998 [3:48:57<2:36:15, 23.79s/it]"
     ]
    },
    {
     "name": "stdout",
     "output_type": "stream",
     "text": [
      "Found weird chunk!\n",
      "Found weird chunk!\n"
     ]
    },
    {
     "name": "stderr",
     "output_type": "stream",
     "text": [
      " 62%|██████▏   | 622/998 [3:57:47<3:29:20, 33.40s/it]"
     ]
    },
    {
     "name": "stdout",
     "output_type": "stream",
     "text": [
      "Found weird chunk!\n",
      "Found weird chunk!\n",
      "Found weird chunk!\n",
      "Found weird chunk!\n",
      "Found weird chunk!\n"
     ]
    },
    {
     "name": "stderr",
     "output_type": "stream",
     "text": [
      " 63%|██████▎   | 627/998 [3:59:38<2:33:45, 24.87s/it]"
     ]
    },
    {
     "name": "stdout",
     "output_type": "stream",
     "text": [
      "Found weird chunk!\n",
      "Found weird chunk!\n",
      "Found weird chunk!\n",
      "Found weird chunk!\n"
     ]
    },
    {
     "name": "stderr",
     "output_type": "stream",
     "text": [
      " 64%|██████▍   | 639/998 [4:03:51<2:12:48, 22.20s/it]"
     ]
    },
    {
     "name": "stdout",
     "output_type": "stream",
     "text": [
      "Found weird chunk!\n"
     ]
    },
    {
     "name": "stderr",
     "output_type": "stream",
     "text": [
      " 66%|██████▌   | 659/998 [4:14:14<3:23:46, 36.07s/it]"
     ]
    },
    {
     "name": "stdout",
     "output_type": "stream",
     "text": [
      "Found weird chunk!\n"
     ]
    },
    {
     "name": "stderr",
     "output_type": "stream",
     "text": [
      " 67%|██████▋   | 671/998 [4:18:37<2:29:45, 27.48s/it]"
     ]
    },
    {
     "name": "stdout",
     "output_type": "stream",
     "text": [
      "Found weird chunk!\n"
     ]
    },
    {
     "name": "stderr",
     "output_type": "stream",
     "text": [
      " 67%|██████▋   | 673/998 [4:19:18<2:13:21, 24.62s/it]"
     ]
    },
    {
     "name": "stdout",
     "output_type": "stream",
     "text": [
      "Found weird chunk!\n"
     ]
    },
    {
     "name": "stderr",
     "output_type": "stream",
     "text": [
      "\r",
      " 68%|██████▊   | 674/998 [4:19:32<1:55:37, 21.41s/it]"
     ]
    },
    {
     "name": "stdout",
     "output_type": "stream",
     "text": [
      "Found weird chunk!\n",
      "Found weird chunk!\n",
      "Found weird chunk!\n"
     ]
    },
    {
     "name": "stderr",
     "output_type": "stream",
     "text": [
      " 68%|██████▊   | 679/998 [4:21:50<2:16:04, 25.59s/it]"
     ]
    },
    {
     "name": "stdout",
     "output_type": "stream",
     "text": [
      "Found weird chunk!\n",
      "Found weird chunk!\n",
      "Found weird chunk!\n",
      "Found weird chunk!\n"
     ]
    },
    {
     "name": "stderr",
     "output_type": "stream",
     "text": [
      " 69%|██████▉   | 687/998 [4:26:59<2:38:02, 30.49s/it]"
     ]
    },
    {
     "name": "stdout",
     "output_type": "stream",
     "text": [
      "Found weird chunk!\n"
     ]
    },
    {
     "name": "stderr",
     "output_type": "stream",
     "text": [
      " 70%|██████▉   | 694/998 [4:29:29<1:39:42, 19.68s/it]"
     ]
    },
    {
     "name": "stdout",
     "output_type": "stream",
     "text": [
      "Found weird chunk!\n",
      "Found weird chunk!\n"
     ]
    },
    {
     "name": "stderr",
     "output_type": "stream",
     "text": [
      " 70%|██████▉   | 696/998 [4:30:05<1:37:48, 19.43s/it]"
     ]
    },
    {
     "name": "stdout",
     "output_type": "stream",
     "text": [
      "Found weird chunk!\n",
      "Found weird chunk!\n",
      "Found weird chunk!\n",
      "Found weird chunk!\n",
      "Found weird chunk!\n"
     ]
    },
    {
     "name": "stderr",
     "output_type": "stream",
     "text": [
      " 71%|███████   | 706/998 [4:33:53<2:01:42, 25.01s/it]"
     ]
    },
    {
     "name": "stdout",
     "output_type": "stream",
     "text": [
      "Found weird chunk!\n",
      "Found weird chunk!\n"
     ]
    },
    {
     "name": "stderr",
     "output_type": "stream",
     "text": [
      " 72%|███████▏  | 718/998 [4:37:29<1:01:07, 13.10s/it]"
     ]
    },
    {
     "name": "stdout",
     "output_type": "stream",
     "text": [
      "Found weird chunk!\n"
     ]
    },
    {
     "name": "stderr",
     "output_type": "stream",
     "text": [
      " 73%|███████▎  | 724/998 [4:39:24<1:23:07, 18.20s/it]"
     ]
    },
    {
     "name": "stdout",
     "output_type": "stream",
     "text": [
      "Found weird chunk!\n",
      "Found weird chunk!\n"
     ]
    },
    {
     "name": "stderr",
     "output_type": "stream",
     "text": [
      " 78%|███████▊  | 780/998 [4:59:40<1:14:12, 20.42s/it]"
     ]
    },
    {
     "name": "stdout",
     "output_type": "stream",
     "text": [
      "Found weird chunk!\n"
     ]
    },
    {
     "name": "stderr",
     "output_type": "stream",
     "text": [
      " 79%|███████▉  | 788/998 [5:03:25<1:51:53, 31.97s/it]"
     ]
    },
    {
     "name": "stdout",
     "output_type": "stream",
     "text": [
      "Found weird chunk!\n",
      "Found weird chunk!\n",
      "Found weird chunk!\n"
     ]
    },
    {
     "name": "stderr",
     "output_type": "stream",
     "text": [
      " 80%|███████▉  | 794/998 [5:05:36<1:09:30, 20.45s/it]"
     ]
    },
    {
     "name": "stdout",
     "output_type": "stream",
     "text": [
      "Found weird chunk!\n",
      "Found weird chunk!\n"
     ]
    },
    {
     "name": "stderr",
     "output_type": "stream",
     "text": [
      " 80%|███████▉  | 797/998 [5:06:39<1:08:04, 20.32s/it]"
     ]
    },
    {
     "name": "stdout",
     "output_type": "stream",
     "text": [
      "Found weird chunk!\n",
      "Found weird chunk!\n"
     ]
    },
    {
     "name": "stderr",
     "output_type": "stream",
     "text": [
      " 80%|████████  | 801/998 [5:08:12<1:15:37, 23.03s/it]"
     ]
    },
    {
     "name": "stdout",
     "output_type": "stream",
     "text": [
      "Found weird chunk!\n",
      "Found weird chunk!\n"
     ]
    },
    {
     "name": "stderr",
     "output_type": "stream",
     "text": [
      " 82%|████████▏ | 817/998 [5:15:58<1:40:35, 33.34s/it]"
     ]
    },
    {
     "name": "stdout",
     "output_type": "stream",
     "text": [
      "Found weird chunk!\n"
     ]
    },
    {
     "name": "stderr",
     "output_type": "stream",
     "text": [
      " 82%|████████▏ | 823/998 [5:18:13<1:05:10, 22.35s/it]"
     ]
    },
    {
     "name": "stdout",
     "output_type": "stream",
     "text": [
      "Found weird chunk!\n"
     ]
    },
    {
     "name": "stderr",
     "output_type": "stream",
     "text": [
      "\r",
      " 83%|████████▎ | 824/998 [5:19:15<1:39:03, 34.16s/it]"
     ]
    },
    {
     "name": "stdout",
     "output_type": "stream",
     "text": [
      "Found weird chunk!\n",
      "Found weird chunk!\n"
     ]
    },
    {
     "name": "stderr",
     "output_type": "stream",
     "text": [
      " 86%|████████▌ | 856/998 [5:30:07<53:02, 22.41s/it]  "
     ]
    },
    {
     "name": "stdout",
     "output_type": "stream",
     "text": [
      "Found weird chunk!\n"
     ]
    },
    {
     "name": "stderr",
     "output_type": "stream",
     "text": [
      "\r",
      " 86%|████████▌ | 857/998 [5:30:37<58:01, 24.69s/it]"
     ]
    },
    {
     "name": "stdout",
     "output_type": "stream",
     "text": [
      "Found weird chunk!\n"
     ]
    },
    {
     "name": "stderr",
     "output_type": "stream",
     "text": [
      " 88%|████████▊ | 875/998 [5:37:21<38:47, 18.92s/it]  "
     ]
    },
    {
     "name": "stdout",
     "output_type": "stream",
     "text": [
      "Found weird chunk!\n",
      "Found weird chunk!\n"
     ]
    },
    {
     "name": "stderr",
     "output_type": "stream",
     "text": [
      " 88%|████████▊ | 878/998 [5:38:51<51:23, 25.70s/it]"
     ]
    },
    {
     "name": "stdout",
     "output_type": "stream",
     "text": [
      "Found weird chunk!\n",
      "Found weird chunk!\n"
     ]
    },
    {
     "name": "stderr",
     "output_type": "stream",
     "text": [
      " 88%|████████▊ | 882/998 [5:41:02<1:01:26, 31.78s/it]"
     ]
    },
    {
     "name": "stdout",
     "output_type": "stream",
     "text": [
      "Found weird chunk!\n"
     ]
    },
    {
     "name": "stderr",
     "output_type": "stream",
     "text": [
      " 91%|█████████ | 905/998 [5:50:58<35:13, 22.72s/it]  "
     ]
    },
    {
     "name": "stdout",
     "output_type": "stream",
     "text": [
      "Found weird chunk!\n",
      "Found weird chunk!\n"
     ]
    },
    {
     "name": "stderr",
     "output_type": "stream",
     "text": [
      "\r",
      " 91%|█████████ | 906/998 [5:51:19<34:07, 22.26s/it]"
     ]
    },
    {
     "name": "stdout",
     "output_type": "stream",
     "text": [
      "Found weird chunk!\n",
      "Found weird chunk!\n"
     ]
    },
    {
     "name": "stderr",
     "output_type": "stream",
     "text": [
      " 92%|█████████▏| 914/998 [5:54:22<31:35, 22.56s/it]"
     ]
    },
    {
     "name": "stdout",
     "output_type": "stream",
     "text": [
      "Found weird chunk!\n",
      "Found weird chunk!\n",
      "Found weird chunk!\n",
      "Found weird chunk!\n",
      "Found weird chunk!\n",
      "Found weird chunk!\n"
     ]
    },
    {
     "name": "stderr",
     "output_type": "stream",
     "text": [
      " 92%|█████████▏| 916/998 [5:55:26<35:32, 26.00s/it]"
     ]
    },
    {
     "name": "stdout",
     "output_type": "stream",
     "text": [
      "Found weird chunk!\n",
      "Found weird chunk!\n"
     ]
    },
    {
     "name": "stderr",
     "output_type": "stream",
     "text": [
      " 93%|█████████▎| 926/998 [5:59:17<27:39, 23.05s/it]"
     ]
    },
    {
     "name": "stdout",
     "output_type": "stream",
     "text": [
      "Found weird chunk!\n",
      "Found weird chunk!\n"
     ]
    },
    {
     "name": "stderr",
     "output_type": "stream",
     "text": [
      " 94%|█████████▎| 934/998 [6:02:17<25:42, 24.10s/it]"
     ]
    },
    {
     "name": "stdout",
     "output_type": "stream",
     "text": [
      "Found weird chunk!\n",
      "Found weird chunk!\n",
      "Found weird chunk!\n",
      "Found weird chunk!\n"
     ]
    },
    {
     "name": "stderr",
     "output_type": "stream",
     "text": [
      " 95%|█████████▍| 946/998 [6:07:12<19:51, 22.91s/it]"
     ]
    },
    {
     "name": "stdout",
     "output_type": "stream",
     "text": [
      "Found weird chunk!\n"
     ]
    },
    {
     "name": "stderr",
     "output_type": "stream",
     "text": [
      " 95%|█████████▌| 951/998 [6:08:42<15:07, 19.30s/it]"
     ]
    },
    {
     "name": "stdout",
     "output_type": "stream",
     "text": [
      "Found weird chunk!\n",
      "Found weird chunk!\n"
     ]
    },
    {
     "name": "stderr",
     "output_type": "stream",
     "text": [
      " 97%|█████████▋| 965/998 [6:14:13<12:26, 22.62s/it]"
     ]
    },
    {
     "name": "stdout",
     "output_type": "stream",
     "text": [
      "Found weird chunk!\n"
     ]
    },
    {
     "name": "stderr",
     "output_type": "stream",
     "text": [
      " 99%|█████████▉| 992/998 [6:22:56<01:51, 18.61s/it]"
     ]
    },
    {
     "name": "stdout",
     "output_type": "stream",
     "text": [
      "Found weird chunk!\n",
      "Found weird chunk!\n",
      "Found weird chunk!\n"
     ]
    },
    {
     "name": "stderr",
     "output_type": "stream",
     "text": [
      "100%|██████████| 998/998 [6:26:25<00:00, 30.62s/it]\n"
     ]
    }
   ],
   "source": [
    "weird_chunks = {}\n",
    "weird_chunk_count = 0\n",
    "RESIZE_SPACING = [1,1,1]\n",
    "items = list(patient_deduped_nodules_map.items())\n",
    "for idx in tqdm(range(len(items))):\n",
    "    patient_id = items[idx][0]\n",
    "    nodules = items[idx][1]\n",
    "#    print(patient_id)\n",
    "    patient_scan_files = patient_scans_map[patient_id]['scans']\n",
    "    patient_scan_files.sort()\n",
    "    scan, origin, spacing = load_scan(patient_scan_files)\n",
    "    scan_resampled = np.load(DATA_PATH_POST_PROCESSED_SCANS + \"scan_%s.npy\" % (patient_id))\n",
    "#    print('Original scan', (len(scan), 512, 512))\n",
    "#    print('Resampled scan', scan_resampled.shape)\n",
    "#    print('Nodules',len(nodules))\n",
    "    #print(nodules)\n",
    "    #print('---')\n",
    "    #print(patient_nodules_map[patient_id])\n",
    "\n",
    "    X = np.ndarray((len(nodules), CHUNK_SIZE, CHUNK_SIZE, CHUNK_SIZE), dtype=np.float32)\n",
    "    Y = np.ndarray([len(nodules), 1], dtype=np.float32)\n",
    "    count = 0\n",
    "    for nodule in nodules:\n",
    "        coords = nodule['coords']\n",
    "        coords_np = np.ndarray((len(coords), 4), dtype=np.float32)\n",
    "        for idx in range(len(coords)):\n",
    "            coords_np[idx] = coords[idx]\n",
    "        #print(coords_np)\n",
    "        minZ = np.amin(coords_np[:, 0], axis=0)\n",
    "        maxZ = np.amax(coords_np[:, 0], axis=0)\n",
    "        minY = np.amin(coords_np[:, 1], axis=0)\n",
    "        maxY = np.amax(coords_np[:, 1], axis=0)\n",
    "        minX = np.amin(coords_np[:, 2], axis=0)\n",
    "        maxX = np.amax(coords_np[:, 2], axis=0)\n",
    "        \n",
    "        centerZ = int((minZ + maxZ) / 2.0)\n",
    "        centerY = int((minY + maxY) / 2.0)\n",
    "        centerX = int((minX + maxX) / 2.0)\n",
    "\n",
    "        imageCoord = np.array((centerZ, centerY, centerX))\n",
    "        \n",
    "#        print('Pre process nodule coords', imageCoord)\n",
    "        imageCoord = world_2_voxel(imageCoord, origin, RESIZE_SPACING)\n",
    "#        print('Post process nodule coords', imageCoord)        \n",
    "        \n",
    "        Z1 = int(imageCoord[2]) - int(CHUNK_SIZE/2)\n",
    "        Z2 = int(imageCoord[2]) + int(CHUNK_SIZE/2)\n",
    "        Y1 = int(imageCoord[1]) - int(CHUNK_SIZE/2)\n",
    "        Y2 = int(imageCoord[1]) + int(CHUNK_SIZE/2)\n",
    "        X1 = int(imageCoord[0]) - int(CHUNK_SIZE/2)\n",
    "        X2 = int(imageCoord[0]) + int(CHUNK_SIZE/2)\n",
    "        \n",
    "        X1 = 0 if (X1 < 0) else X1\n",
    "        Y1 = 0 if (Y1 < 0) else Y1\n",
    "        Z1 = 0 if (Z1 < 0) else Z1\n",
    "        \n",
    "        X2 = scan_resampled.shape[2] if (X2 > scan_resampled.shape[2]) else X2\n",
    "        Y2 = scan_resampled.shape[1] if (Y2 > scan_resampled.shape[1]) else Y2\n",
    "        Z2 = scan_resampled.shape[0] if (Z2 > scan_resampled.shape[0]) else Z2\n",
    "        \n",
    "#       print(int(minZ), int(maxZ), int(minY), int(maxY), int(minX), int(maxX))\n",
    "#       print(int(centerZ), int(centerY), int(centerX))\n",
    "#        print(Z1, Z2, Y1, Y2, X1, X2)\n",
    "        \n",
    "        if (Z2 > scan_resampled.shape[0] or Y2 > scan_resampled.shape[1] or X2 > scan_resampled.shape[2] or Z2 < Z1 or Y2 < Y1 or X2 < X1):\n",
    "            print('Found weird chunk!')\n",
    "            if patient_id in weird_chunks.keys():\n",
    "                weird_chunks[patient_id].append({'shape': scan_resampled.shape, 'center': [centerZ, centerY, centerX], 'chunk_coords': [Z1, Z2, Y1, Y2, X1, X2]})\n",
    "            else:\n",
    "                weird_chunks[patient_id] = []\n",
    "                weird_chunks[patient_id].append({'shape': scan_resampled.shape, 'center': [centerZ, centerY, centerX], 'chunk_coords': [Z1, Z2, Y1, Y2, X1, X2]})\n",
    "            weird_chunk_count += 1\n",
    "            continue\n",
    "        \n",
    "        chunk = np.full((CHUNK_SIZE, CHUNK_SIZE, CHUNK_SIZE), -1000.0, np.float32)\n",
    "        chunk[0:Z2-Z1, 0:Y2-Y1, 0:X2-X1] = scan_resampled[Z1:Z2,Y1:Y2,X1:X2]\n",
    "\n",
    "        X[count,:,:,:] = chunk\n",
    "        if 'malignancy' in nodule:\n",
    "            Y[count,] = nodule['malignancy']\n",
    "        else:\n",
    "            Y[count,] = 0.0\n",
    "        count = count + 1\n",
    "    np.save(DATA_PATH_NODULES + patient_id + '_X.npy', X)\n",
    "    np.save(DATA_PATH_NODULES + patient_id + '_Y.npy', Y)"
   ]
  },
  {
   "cell_type": "code",
   "execution_count": 33,
   "metadata": {
    "collapsed": false,
    "deletable": true,
    "editable": true
   },
   "outputs": [
    {
     "name": "stdout",
     "output_type": "stream",
     "text": [
      "Saved weird_chunks map!\n"
     ]
    }
   ],
   "source": [
    "# Do NOT run this cell as it will overwrite already existing weird_chunks file on disk\n",
    "# with open(DATA_PATH + 'weird_chunks.pkl', 'wb') as f:\n",
    "#     pickle.dump(weird_chunks, f, pickle.HIGHEST_PROTOCOL)\n",
    "    \n",
    "# print('Saved weird_chunks map!')"
   ]
  },
  {
   "cell_type": "code",
   "execution_count": 34,
   "metadata": {
    "collapsed": false
   },
   "outputs": [],
   "source": [
    "with open(DATA_PATH + 'weird_chunks.pkl', 'rb') as f:\n",
    "    weird_chunks = pickle.load(f)"
   ]
  },
  {
   "cell_type": "code",
   "execution_count": 37,
   "metadata": {
    "collapsed": false,
    "scrolled": false
   },
   "outputs": [
    {
     "data": {
      "text/plain": [
       "8419"
      ]
     },
     "execution_count": 37,
     "metadata": {},
     "output_type": "execute_result"
    }
   ],
   "source": [
    "total_weird_chunks = 0\n",
    "for p_id, chunks in weird_chunks.items():\n",
    "    total_weird_chunks += len(chunks)\n",
    "\n",
    "total_weird_chunks = 0\n",
    "for p_id, nodules in patient_deduped_nodules_map.items():\n",
    "    total_weird_chunks += len(nodules)\n",
    "total_weird_chunks"
   ]
  }
 ],
 "metadata": {
  "kernelspec": {
   "display_name": "Python 3",
   "language": "python",
   "name": "python3"
  },
  "language_info": {
   "codemirror_mode": {
    "name": "ipython",
    "version": 3
   },
   "file_extension": ".py",
   "mimetype": "text/x-python",
   "name": "python",
   "nbconvert_exporter": "python",
   "pygments_lexer": "ipython3",
   "version": "3.5.2"
  }
 },
 "nbformat": 4,
 "nbformat_minor": 2
}
