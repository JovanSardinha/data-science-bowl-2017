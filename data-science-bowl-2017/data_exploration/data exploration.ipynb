{
 "cells": [
  {
   "cell_type": "markdown",
   "metadata": {},
   "source": [
    "# Data Exploration"
   ]
  },
  {
   "cell_type": "markdown",
   "metadata": {},
   "source": [
    "The objective of this notebook is to analyze the raw data and perform exploratory analysis that will aid in the construction of model building and post-analysis. "
   ]
  },
  {
   "cell_type": "markdown",
   "metadata": {},
   "source": [
    "---------------------------------------"
   ]
  },
  {
   "cell_type": "code",
   "execution_count": 450,
   "metadata": {
    "collapsed": false
   },
   "outputs": [],
   "source": [
    "# Module imports\n",
    "import os\n",
    "import glob\n",
    "import numpy as np\n",
    "import pandas as pd\n",
    "from scipy import stats\n",
    "import math"
   ]
  },
  {
   "cell_type": "code",
   "execution_count": 451,
   "metadata": {
    "collapsed": true
   },
   "outputs": [],
   "source": [
    "# Constants\n",
    "data_url = \"../../data-science-bowl-2017-data/\"\n",
    "sample_data = 'sample_images/'\n",
    "labels_data = 'stage1_labels.csv'\n",
    "train_data = 'stage1/'\n"
   ]
  },
  {
   "cell_type": "code",
   "execution_count": 452,
   "metadata": {
    "collapsed": false
   },
   "outputs": [
    {
     "name": "stdout",
     "output_type": "stream",
     "text": [
      "Found and verified location: ../../data-science-bowl-2017-data/sample_images/\n",
      "Found and verified location: ../../data-science-bowl-2017-data/stage1/\n",
      "Found and verified location: ../../data-science-bowl-2017-data/stage1_labels.csv\n"
     ]
    }
   ],
   "source": [
    "# Validating if files exist\n",
    "\n",
    "def verify_location(loc):\n",
    "    loc = data_url + loc\n",
    "    if os.path.isdir(loc) or os.path.isfile(loc) :\n",
    "        print('Found and verified location: ' + loc)\n",
    "    else:\n",
    "        raise Exception('Failed to verify location: ' + loc)\n",
    "    return loc\n",
    "    \n",
    "sample_data = verify_location(sample_data)\n",
    "train_data = verify_location(train_data)\n",
    "labels = verify_location(labels_data)"
   ]
  },
  {
   "cell_type": "code",
   "execution_count": 453,
   "metadata": {
    "collapsed": false
   },
   "outputs": [
    {
     "name": "stdout",
     "output_type": "stream",
     "text": [
      "Descriptive statistics for sample data:\n",
      "       scans-per-patient\n",
      "count           20.00000\n",
      "mean           180.20000\n",
      "std             75.23619\n",
      "min            110.00000\n",
      "25%            131.75000\n",
      "50%            167.50000\n",
      "75%            197.75000\n",
      "max            435.00000\n",
      "\n",
      "\n",
      "Descriptive statistics for train data:\n",
      "       scans-per-patient\n",
      "count        1595.000000\n",
      "mean          178.921630\n",
      "std            67.070653\n",
      "min            94.000000\n",
      "25%           138.500000\n",
      "50%           160.000000\n",
      "75%           190.000000\n",
      "max           541.000000\n"
     ]
    }
   ],
   "source": [
    "# Extracting patient scan data\n",
    "def folder_explorer(folder):\n",
    "    patient_info = {}\n",
    "    for d in os.listdir(folder):\n",
    "        patient_info[d] = int(len(os.listdir(folder + d)))\n",
    "    return patient_info\n",
    "\n",
    "# Sample Data\n",
    "patient_scans_sample = folder_explorer(sample_data)\n",
    "df_patient_scans_sample = pd.DataFrame(list(patient_scans_sample.items()), \n",
    "                             columns=[\"id\", \"scans-per-patient\"])\n",
    "patient_scans_sample_describe = pd.DataFrame.describe(df_patient_scans_sample)\n",
    "\n",
    "# Train Data\n",
    "patient_scans_train = folder_explorer(train_data)\n",
    "df_patient_scans_train = pd.DataFrame(list(patient_scans_train.items()), \n",
    "                             columns=[\"id\", \"scans-per-patient\"])\n",
    "patient_scans_train_describe = pd.DataFrame.describe(df_patient_scans_train)\n",
    "\n",
    "\n",
    "print(\"Descriptive statistics for sample data:\")\n",
    "print(patient_scans_sample_describe)\n",
    "\n",
    "print(\"\\n\")\n",
    "\n",
    "print(\"Descriptive statistics for train data:\")\n",
    "print(patient_scans_train_describe)\n",
    "\n",
    "\n",
    "\n"
   ]
  },
  {
   "cell_type": "code",
   "execution_count": 454,
   "metadata": {
    "collapsed": false
   },
   "outputs": [
    {
     "data": {
      "text/html": [
       "<div>\n",
       "<table border=\"1\" class=\"dataframe\">\n",
       "  <thead>\n",
       "    <tr style=\"text-align: right;\">\n",
       "      <th></th>\n",
       "      <th>id</th>\n",
       "      <th>cancer</th>\n",
       "    </tr>\n",
       "  </thead>\n",
       "  <tbody>\n",
       "    <tr>\n",
       "      <th>0</th>\n",
       "      <td>0015ceb851d7251b8f399e39779d1e7d</td>\n",
       "      <td>1</td>\n",
       "    </tr>\n",
       "    <tr>\n",
       "      <th>1</th>\n",
       "      <td>0030a160d58723ff36d73f41b170ec21</td>\n",
       "      <td>0</td>\n",
       "    </tr>\n",
       "    <tr>\n",
       "      <th>2</th>\n",
       "      <td>003f41c78e6acfa92430a057ac0b306e</td>\n",
       "      <td>0</td>\n",
       "    </tr>\n",
       "    <tr>\n",
       "      <th>3</th>\n",
       "      <td>006b96310a37b36cccb2ab48d10b49a3</td>\n",
       "      <td>1</td>\n",
       "    </tr>\n",
       "    <tr>\n",
       "      <th>4</th>\n",
       "      <td>008464bb8521d09a42985dd8add3d0d2</td>\n",
       "      <td>1</td>\n",
       "    </tr>\n",
       "  </tbody>\n",
       "</table>\n",
       "</div>"
      ],
      "text/plain": [
       "                                 id  cancer\n",
       "0  0015ceb851d7251b8f399e39779d1e7d       1\n",
       "1  0030a160d58723ff36d73f41b170ec21       0\n",
       "2  003f41c78e6acfa92430a057ac0b306e       0\n",
       "3  006b96310a37b36cccb2ab48d10b49a3       1\n",
       "4  008464bb8521d09a42985dd8add3d0d2       1"
      ]
     },
     "execution_count": 454,
     "metadata": {},
     "output_type": "execute_result"
    }
   ],
   "source": [
    "# Adding Label Data\n",
    "\n",
    "df_labels = pd.read_csv(labels)\n",
    "df_labels.head()"
   ]
  },
  {
   "cell_type": "code",
   "execution_count": 455,
   "metadata": {
    "collapsed": false
   },
   "outputs": [
    {
     "name": "stdout",
     "output_type": "stream",
     "text": [
      "                                  id  scans-per-patient  cancer\n",
      "0   0acbebb8d463b4b9ca88cf38431aac69                203     1.0\n",
      "1   0b20184e0cd497028bdd155d9fb42dc9                196     NaN\n",
      "2   0a0c32c9e08cc2ea76a71649de56be6d                133     0.0\n",
      "3   0c9d8314f9c69840e25febabb1229fa4                221     0.0\n",
      "4   0ca943d821204ceb089510f836a367fd                147     0.0\n",
      "5   0c60f4b87afcb3e2dfa65abbbf3ef2f9                136     1.0\n",
      "6   0c37613214faddf8701ca41e6d43f56e                164     1.0\n",
      "7   0bd0e3056cbf23a1cb7f0f0b18446068                280     0.0\n",
      "8   0c0de3749d4fe175b7a5098b060982a1                123     1.0\n",
      "9   0a099f2549429d29b32f349e95fb2244                128     0.0\n",
      "10  0ddeb08e9c97227853422bd71a2a695e                171     0.0\n",
      "11  0c59313f52304e25d5a7dcf9877633b1                244     0.0\n",
      "12  0c98fcb55e3f36d0c2b6507f62f4c5f1                180     0.0\n",
      "13  0de72529c30fe642bc60dcb75c87f6bd                113     0.0\n",
      "14  0d2fcf787026fece4e57be167d079383                126     0.0\n",
      "15  0d941a3ad6c889ac451caf89c46cb92a                177     0.0\n",
      "16  0d19f1c627df49eb223771c28548350e                183     0.0\n",
      "17  0a38e7597ca26f9374f8ea2770ba870d                110     0.0\n",
      "18  0d06d764d3c07572074d468b4cff954f                435     1.0\n",
      "19  00cba091fa4ad62cc3200a657aeb957e                134     0.0\n",
      "                                    id  scans-per-patient  cancer\n",
      "0     d459ff0332d2b10be26eee73b1f80f7b                170     0.0\n",
      "1     7dbc5207b9ec1a1921cc2f03f9b37684                123     0.0\n",
      "2     55baceb599dc8aefe4b13c131d0531df                194     0.0\n",
      "3     823b5f08ce145f837066d2e19dab10c1                174     1.0\n",
      "4     1e62be2c3b6430b78ce31a8f023531ac                457     NaN\n",
      "5     6541df84fd779ba6513a530c128f4e9b                152     1.0\n",
      "6     487cc9003c99fa95e9a9e201d396992c                156     0.0\n",
      "7     f5630f467acd9aa977b61a3e5780c2eb                216     0.0\n",
      "8     8a97ff581c17a49a3ef97144efde8a19                158     1.0\n",
      "9     4521c94debf37a4dc9f3b70366a21640                224     1.0\n",
      "10    5ab68460985d9ed8e952475b402ddd62                160     0.0\n",
      "11    79e0e507b1cd1d0c8107de4fd6b9e444                130     1.0\n",
      "12    d51dffd06b80ed003aa6095b0639f511                136     0.0\n",
      "13    4001d754871a8da824b8444e32dc6e0f                116     1.0\n",
      "14    e7adb2e4409683b9490e34b6b3604d9e                202     0.0\n",
      "15    627499714e279203bd1294290f8fc542                221     1.0\n",
      "16    0d941a3ad6c889ac451caf89c46cb92a                177     0.0\n",
      "17    2619ed1e4eca954af4dcbc4436ef8467                275     1.0\n",
      "18    bb94bc5dd4656a2387bafb6098311175                167     0.0\n",
      "19    f7c387290d7e3074501eac167c849000                173     NaN\n",
      "20    7367ede966b44c6dce30b83345785671                267     0.0\n",
      "21    17f5ae9fa49c4e47624f344d29bd03eb                166     0.0\n",
      "22    494b9a6714921a446b32959ca291b050                272     0.0\n",
      "23    fa7bf17071e3234ab1f350341303b174                178     0.0\n",
      "24    6993396b31078993e13cf9c0a6fd470b                162     NaN\n",
      "25    5ce91933688cc8400105bf640ac11535                126     NaN\n",
      "26    b1786f35f31c424f6c9e3380c1c51c0b                168     0.0\n",
      "27    8be7a7cc747365030bee8297221ab5bc                164     NaN\n",
      "28    bc848c4d50c2f72fdcc1102475b56525                146     0.0\n",
      "29    8ee6f423ff988d10f2bb383df98c1b2e                269     1.0\n",
      "...                                ...                ...     ...\n",
      "1565  10aa518193fa5b89b305a806d1dfb150                167     0.0\n",
      "1566  80938b4f531fa2334c13d829339e1356                150     NaN\n",
      "1567  04e5d435fa01b0958e3274be73312cac                140     0.0\n",
      "1568  7c2b72f9e0f5649c22902292febdc89f                113     1.0\n",
      "1569  e5438d842118e579a340a78f3c5775cc                215     0.0\n",
      "1570  c0f2e3b499d10d147892579d0ad71321                174     0.0\n",
      "1571  5451203688c930484ba1f3c7f1378847                184     NaN\n",
      "1572  c610439ebef643c7fd4b30de8088bb55                141     1.0\n",
      "1573  b82efe72526c59a96257208d95e54baf                212     NaN\n",
      "1574  d1a20ef45bb03f93a407b492066f6d88                154     NaN\n",
      "1575  45efbc7cc2657278f878bc973cecc141                134     0.0\n",
      "1576  90e5f4780b2f05136ff5f776a5cbc2af                128     1.0\n",
      "1577  79eb6f0a80841d6618968362dfb1f57f                146     0.0\n",
      "1578  399a263bdfbf26c6969d8af98774be8c                193     0.0\n",
      "1579  ac57a379cfea05c07d9befe8b9359495                267     1.0\n",
      "1580  caddd8f856b110ed9bb52872e003193f                138     0.0\n",
      "1581  9d453de54a141820fcf62bed9a53540d                177     0.0\n",
      "1582  55c01868f1d9c37fa3f174dc3c0d44e8                148     1.0\n",
      "1583  ab9c7bef62d1ad65b824414087b6f06b                104     NaN\n",
      "1584  4cc8af2efef2f41bf70684be25276ce5                142     1.0\n",
      "1585  2b0ea2696c8a02af5ac22f142be28e17                167     0.0\n",
      "1586  8c22afe3214768d4c585580a2364614d                166     0.0\n",
      "1587  e7d76f0723911280b64f0f83a4990c97                151     0.0\n",
      "1588  08643d7b9ce18405fb63f63dda258e76                168     0.0\n",
      "1589  25196c504274d166e81c745d32f30c72                215     0.0\n",
      "1590  d68bfca920fd548909bd9c7eb5694b9d                152     0.0\n",
      "1591  68f4dff6dd1f135488e83b8a4ee6e20e                133     NaN\n",
      "1592  edae2e1edd1217d0c9e20eff2a7b2dd8                132     0.0\n",
      "1593  026be5d5e652b6a7488669d884ebe297                106     0.0\n",
      "1594  b280f1f464aa5e0de843229de12fc1aa                150     0.0\n",
      "\n",
      "[1595 rows x 3 columns]\n"
     ]
    }
   ],
   "source": [
    "result_sample = pd.merge(df_patient_scans_sample, df_labels, how=\"left\", on=['id'])\n",
    "result_train = pd.merge(df_patient_scans_train, df_labels, how=\"left\", on=['id'])\n",
    "\n",
    "print(result_sample)\n",
    "print(result_train)\n",
    "\n"
   ]
  },
  {
   "cell_type": "code",
   "execution_count": 462,
   "metadata": {
    "collapsed": false
   },
   "outputs": [
    {
     "name": "stdout",
     "output_type": "stream",
     "text": [
      "                                 id  scans-per-patient  cancer\n",
      "1  0b20184e0cd497028bdd155d9fb42dc9                196     NaN\n",
      "/n\n",
      "                                    id  scans-per-patient  cancer\n",
      "4     1e62be2c3b6430b78ce31a8f023531ac                457     NaN\n",
      "19    f7c387290d7e3074501eac167c849000                173     NaN\n",
      "24    6993396b31078993e13cf9c0a6fd470b                162     NaN\n",
      "25    5ce91933688cc8400105bf640ac11535                126     NaN\n",
      "27    8be7a7cc747365030bee8297221ab5bc                164     NaN\n",
      "37    cdb53f3be6d8cce07fa41c833488d8a5                301     NaN\n",
      "50    8bb7dd5fbfa5ecb95552d9c587f2fea5                135     NaN\n",
      "59    c2ef34cc347bc224b5a123426009d027                136     NaN\n",
      "68    eb9db3f740f8e153e85f83c57bc4e522                250     NaN\n",
      "72    48ab0b98fc7789304c21430978624f32                152     NaN\n",
      "81    50cdacec399071cf70d8badd2511d0b3                171     NaN\n",
      "87    580cffecce8d3d53cde1abb922adf21a                149     NaN\n",
      "100   bdc2daa372a36f6f7c72abdc0b5639d1                230     NaN\n",
      "105   cd68d1a14cc504e3f7434d5cc324744d                138     NaN\n",
      "109   61017c23bbae6e17062ff582d1a237b3                150     NaN\n",
      "134   2eb92d17ca91b393765e8acf069763a6                159     NaN\n",
      "141   70f4eb8201e3155cc3e399f0ff09c5ef                142     NaN\n",
      "151   fdcd385b0d2d12341661e1abe845be0b                145     NaN\n",
      "154   6c71617e2cee498fd3dd20956bb90a3b                120     NaN\n",
      "160   1f6333bc3599f683403d6f0884aefe00                129     NaN\n",
      "161   81bd0c062bfa8e85616878bab90f2314                155     NaN\n",
      "170   70671fa94231eb377e8ac7cba4650dfb                336     NaN\n",
      "176   7cf1a65bb0f89323668034244a59e725                250     NaN\n",
      "178   d032116d73789ff9c805f493357b4037                255     NaN\n",
      "179   59af702c21840ec18073b6b56c95e7fe                187     NaN\n",
      "183   2f77fd993fbd858dec3c085b9ff1a3a2                137     NaN\n",
      "189   eaeebb7a63edc8a329a7c5fbc583a507                165     NaN\n",
      "191   89f003dbfbdbd18a5cdeb9b128cb075b                142     NaN\n",
      "198   8b494d14d835dd5ae13dab19b9520a55                111     NaN\n",
      "206   95a98df466d4f6c6689908ea9a8f324b                176     NaN\n",
      "...                                ...                ...     ...\n",
      "1401  d3a8fb1da8f7a0dcbd5a8d65f3647757                109     NaN\n",
      "1404  94df6d1ae21c5bfaebe6f8daf8fcd85b                178     NaN\n",
      "1415  c95f2aa23e6d6702f5b16a3b35f89cf0                164     NaN\n",
      "1438  ff8599dd7c1139be3bad5a0351ab749a                515     NaN\n",
      "1447  8e9002a485cbda2b47cd14014d6f1c36                186     NaN\n",
      "1450  538543b57d0c8fa0b2b6bb7c84df3f33                197     NaN\n",
      "1451  8e60f166f1f1dc0d72f997fe1c9e72b4                146     NaN\n",
      "1460  88acee40bb9d8cb06898d1c5de01d3c8                157     NaN\n",
      "1471  b8793dbd40de88c0de0913abbaab0fe7                257     NaN\n",
      "1485  3295cec04482210dc6f78c2b4a1d287b                116     NaN\n",
      "1489  55b06d60e7c0329787f81d1b7cbf9aa0                120     NaN\n",
      "1496  06a90409e4fcea3e634748b967993531                208     NaN\n",
      "1508  dbd9c8025907511e965e7abad955547d                275     NaN\n",
      "1512  33387bea2cacf6127035cc7033036a02                164     NaN\n",
      "1522  a334d15ac8d2d25bce76693b1b2a3ed7                186     NaN\n",
      "1530  cd6be62834c72756738935f904ec9c2c                124     NaN\n",
      "1531  4b28f147cb82baba3edcdbd34ca19085                159     NaN\n",
      "1549  5a42f0a0d1e060531c20d04ed23efc02                124     NaN\n",
      "1553  96042e205dd3dc055f084aaca245e550                155     NaN\n",
      "1554  96544665531e7f59bc2730e3c5f42e65                145     NaN\n",
      "1555  7fd5be8ec9c236c314f801384bd89c0c                127     NaN\n",
      "1557  cbb9bbd994c235b56fb77429291edf99                222     NaN\n",
      "1558  993f1e68290d591f755669e97b49b4f4                273     NaN\n",
      "1561  901ed0a38aa16933c04ffd531b0aa2cf                129     NaN\n",
      "1566  80938b4f531fa2334c13d829339e1356                150     NaN\n",
      "1571  5451203688c930484ba1f3c7f1378847                184     NaN\n",
      "1573  b82efe72526c59a96257208d95e54baf                212     NaN\n",
      "1574  d1a20ef45bb03f93a407b492066f6d88                154     NaN\n",
      "1583  ab9c7bef62d1ad65b824414087b6f06b                104     NaN\n",
      "1591  68f4dff6dd1f135488e83b8a4ee6e20e                133     NaN\n",
      "\n",
      "[198 rows x 3 columns]\n"
     ]
    }
   ],
   "source": [
    "# NaN labels?\n",
    "null_ids_sample = result_sample.loc[result_sample['cancer'].isnull(), :]\n",
    "null_ids_train = result_train.loc[result_train['cancer'].isnull(), :]\n",
    "\n",
    "print(null_ids_sample)\n",
    "print(\"/n\")\n",
    "print(null_ids_train)\n",
    "\n"
   ]
  },
  {
   "cell_type": "markdown",
   "metadata": {},
   "source": [
    "TODO:\n",
    "* Mean and varince for scans for patients (will help if a min trashhold need to be built)\n",
    "* If sample data is representative of the total data\n",
    "    * Sample total data and above analysis "
   ]
  },
  {
   "cell_type": "markdown",
   "metadata": {
    "collapsed": true
   },
   "source": [
    "\n"
   ]
  }
 ],
 "metadata": {
  "anaconda-cloud": {},
  "kernelspec": {
   "display_name": "Python [default]",
   "language": "python",
   "name": "python3"
  },
  "language_info": {
   "codemirror_mode": {
    "name": "ipython",
    "version": 3
   },
   "file_extension": ".py",
   "mimetype": "text/x-python",
   "name": "python",
   "nbconvert_exporter": "python",
   "pygments_lexer": "ipython3",
   "version": "3.5.2"
  }
 },
 "nbformat": 4,
 "nbformat_minor": 1
}
