{
 "cells": [
  {
   "cell_type": "code",
   "execution_count": 1,
   "metadata": {
    "collapsed": true
   },
   "outputs": [],
   "source": [
    "import glob\n",
    "import os\n",
    "import re\n",
    "import pandas as pd\n",
    "import numpy as np\n",
    "import SimpleITK as sitk\n",
    "import matplotlib.pyplot as plt\n",
    "from tqdm import tqdm\n",
    "import time\n",
    "from datetime import timedelta\n",
    "import sys\n",
    "import datetime\n",
    "import tensorflow as tf\n",
    "import math"
   ]
  },
  {
   "cell_type": "code",
   "execution_count": 24,
   "metadata": {
    "collapsed": true
   },
   "outputs": [],
   "source": [
    "DATA_PATH = '/kaggle/dev/data-science-bowl-2017-data/stage1_processed/'\n",
    "OUTPUT_PATH = '/kaggle/dev/data-science-bowl-2017-data/stage1_features_v3/'\n",
    "PATIENT_SCANS = 'scan_segmented_lungs_fill_'\n",
    "TENSORBOARD_SUMMARIES = '/kaggle/dev/data-science-bowl-2017-data/tensorboard_summaries/'\n",
    "MODEL_PATH = '/kaggle_2/luna/luna16/models/9067c9d5-5247-4f9c-8fe7-760a14435c0a/'\n",
    "OVERLAP_PERCENTAGE = 0.7"
   ]
  },
  {
   "cell_type": "code",
   "execution_count": 26,
   "metadata": {
    "collapsed": true
   },
   "outputs": [],
   "source": [
    "def get_patient_data_chunks(patient_id):\n",
    "    scans = np.load(DATA_PATH + PATIENT_SCANS + patient_id + '.npy')\n",
    "    chunk_counter = 1\n",
    "    step_size = int(48 * (1 - OVERLAP_PERCENTAGE))\n",
    "    num_chunks_0 = int(scans.shape[0] / step_size) + 1\n",
    "    num_chunks_1 = int(scans.shape[1] / step_size) + 1\n",
    "    num_chunks_2 = int(scans.shape[2] / step_size) + 1\n",
    "    X = num_chunks_0 * num_chunks_1 *num_chunks_2\n",
    "    return X"
   ]
  },
  {
   "cell_type": "code",
   "execution_count": 29,
   "metadata": {
    "collapsed": false
   },
   "outputs": [
    {
     "name": "stderr",
     "output_type": "stream",
     "text": [
      "\n",
      "               | 0/1595 [00:00<?, ?it/s]\u001b[A\n",
      "  1%|          | 19/1595 [00:51<1:11:28,  2.72s/it]\n",
      "               | 0/1595 [00:00<?, ?it/s]\u001b[A\n",
      "  1%|          | 19/1595 [00:51<1:11:30,  2.72s/it]\n",
      "               | 0/1595 [00:00<?, ?it/s]\u001b[A\n",
      "  1%|          | 19/1595 [00:51<1:11:32,  2.72s/it]\n",
      "               | 0/1595 [00:00<?, ?it/s]\u001b[A\n",
      "  1%|          | 19/1595 [00:51<1:11:34,  2.72s/it]\n",
      "               | 0/1595 [00:00<?, ?it/s]\u001b[A\n",
      "  1%|          | 19/1595 [00:51<1:11:36,  2.73s/it]\n",
      "  0%|          | 0/1595 [00:00<?, ?it/s]\u001b[A\n",
      "               | 5/1595 [00:00<00:39, 40.20it/s]\u001b[A\n",
      "  1%|          | 19/1595 [00:51<1:11:38,  2.73s/it]\n",
      "               | 5/1595 [00:00<00:47, 33.33it/s]\u001b[A\n",
      "  1%|          | 19/1595 [00:51<1:11:41,  2.73s/it]\n",
      "  0%|          | 5/1595 [00:00<00:57, 27.73it/s]\u001b[A"
     ]
    },
    {
     "name": "stdout",
     "output_type": "stream",
     "text": [
      "chunks for patient: 0a0c32c9e08cc2ea76a71649de56be6d : 15000\n",
      "chunks for patient: 7577cbd6961b0cab27f88727dcd2d6d3 : 9702\n",
      "chunks for patient: 28352e12fe29361dfd9613ed2e729192 : 18816\n",
      "chunks for patient: 7852cb521d7029ca08133476054e7bec : 15000\n",
      "chunks for patient: d5c43054ba0f66d5017a8ddfde8c8c34 : 15548\n",
      "chunks for patient: 174c5f7c33ca31443208ef873b9477e5 : 15625\n",
      "chunks for patient: d43c9dd1be361b9302c9343af09cc23e : 18225\n",
      "chunks for patient: bc43e8a2cb05a45e73dea8c7e02f2cc1 : 16900\n"
     ]
    },
    {
     "name": "stderr",
     "output_type": "stream",
     "text": [
      "          \n",
      "  1%|          | 19/1595 [00:51<1:11:43,  2.73s/it]\n",
      "               | 5/1595 [00:00<01:05, 24.32it/s]\u001b[A\n",
      "  1%|          | 19/1595 [00:51<1:11:45,  2.73s/it]\n",
      "  0%|          | 5/1595 [00:00<01:12, 21.89it/s]\u001b[A\n",
      "               | 9/1595 [00:00<00:39, 39.65it/s]\u001b[A\n",
      "  1%|          | 19/1595 [00:51<1:11:46,  2.73s/it]\n",
      "               | 9/1595 [00:00<00:43, 36.61it/s]\u001b[A\n",
      "  1%|          | 19/1595 [00:51<1:11:48,  2.73s/it]\n",
      "               | 9/1595 [00:00<00:47, 33.18it/s]\u001b[A\n",
      "  1%|          | 19/1595 [00:51<1:11:50,  2.74s/it]\n",
      "               | 9/1595 [00:00<00:51, 30.55it/s]\u001b[A\n",
      "  1%|          | 19/1595 [00:51<1:11:52,  2.74s/it]\n",
      "               | 9/1595 [00:00<00:56, 28.26it/s]\u001b[A\n",
      "  1%|          | 19/1595 [00:52<1:11:54,  2.74s/it]\n",
      "  1%|          | 9/1595 [00:00<01:01, 25.93it/s]\u001b[A\n",
      "               | 14/1595 [00:00<00:39, 40.36it/s]\u001b[A\n",
      "  1%|          | 19/1595 [00:52<1:11:56,  2.74s/it]\n",
      "               | 14/1595 [00:00<00:41, 38.06it/s]\u001b[A"
     ]
    },
    {
     "name": "stdout",
     "output_type": "stream",
     "text": [
      "chunks for patient: e188bdeea72bb41d980dc2556dc8aafa : 12696\n",
      "chunks for patient: 49433c1588cc078b825a0eff1dc2e816 : 11132\n",
      "chunks for patient: 1acbe17dc8f9f59d2fd167b2aa6c650f : 17496\n",
      "chunks for patient: a19a122fe9a790576b57c6bd5cf9ff5c : 13248\n",
      "chunks for patient: 6fd582d25eeb2250c2b0996c4216deb9 : 15548\n",
      "chunks for patient: b1091b5af8b47f24c4b94a9d27c813d1 : 16820\n",
      "chunks for patient: bdb59c956d48bc1a263acf997926c4d3 : 13125\n",
      "chunks for patient: 6f229187fe608c9eacc567eb74c1458c : 22869\n"
     ]
    },
    {
     "name": "stderr",
     "output_type": "stream",
     "text": [
      "\n",
      "  1%|          | 19/1595 [00:52<1:11:59,  2.74s/it]\n",
      "               | 14/1595 [00:00<00:45, 34.44it/s]\u001b[A\n",
      "  1%|          | 19/1595 [00:52<1:12:02,  2.74s/it]\n",
      "               | 14/1595 [00:00<00:49, 32.03it/s]\u001b[A\n",
      "  1%|          | 19/1595 [00:52<1:12:04,  2.74s/it]\n",
      "  1%|          | 14/1595 [00:00<00:51, 30.55it/s]\u001b[A\n",
      "               | 18/1595 [00:00<00:40, 38.94it/s]\u001b[A\n",
      "  1%|          | 19/1595 [00:52<1:12:05,  2.74s/it]\n",
      "               | 18/1595 [00:00<00:41, 37.80it/s]\u001b[A\n",
      "  1%|          | 19/1595 [00:52<1:12:08,  2.75s/it]\n",
      "  1%|          | 18/1595 [00:00<00:44, 35.67it/s]\u001b[A"
     ]
    },
    {
     "name": "stdout",
     "output_type": "stream",
     "text": [
      "chunks for patient: 4e9c2cbf385db44b6f5e6618f47318d9 : 18928\n",
      "chunks for patient: c67e799bcc1e2635eb9164f6e8cf75f3 : 12696\n",
      "chunks for patient: 65073aadb60e398d8db1806f5ea2a082 : 10143\n",
      "chunks for patient: 2a549c66f24af964de6f25165c55e331 : 18225\n"
     ]
    },
    {
     "name": "stderr",
     "output_type": "stream",
     "text": [
      "          \n",
      "  1%|          | 19/1595 [00:53<1:14:24,  2.83s/it]\n",
      "  1%|          | 18/1595 [00:02<03:07,  8.39it/s]\u001b[A\n",
      "  1%|▏         | 21/1595 [00:02<04:53,  5.36it/s]\u001b[A"
     ]
    },
    {
     "name": "stdout",
     "output_type": "stream",
     "text": [
      "chunks for patient: de9f65a7a70b73ce2ffef1e4a2613eee : 11109\n"
     ]
    },
    {
     "name": "stderr",
     "output_type": "stream",
     "text": [
      "\r",
      "          \r\n",
      "\r",
      "          \r",
      "\u001b[A\r",
      "          \r",
      "  1%|          | 19/1595 [00:56<1:17:54,  2.97s/it]\n",
      "\r",
      "          \r",
      "  1%|▏         | 21/1595 [00:04<05:50,  4.49it/s]\u001b[A"
     ]
    },
    {
     "name": "stdout",
     "output_type": "stream",
     "text": [
      "chunks for patient: 03bd22ed5858039af223c04993e9eb22 : 19600\n"
     ]
    },
    {
     "name": "stderr",
     "output_type": "stream",
     "text": [
      "\n",
      "  1%|▏         | 21/1595 [00:07<08:51,  2.96it/s]"
     ]
    },
    {
     "name": "stdout",
     "output_type": "stream",
     "text": [
      "chunks for patient: e5cf847e616cc2fe94816ffa547d2614 : 14872\n"
     ]
    },
    {
     "name": "stderr",
     "output_type": "stream",
     "text": [
      "\r",
      "          \r",
      "\r",
      "          \r",
      "  1%|▏         | 21/1595 [00:08<10:47,  2.43it/s]\r",
      "  2%|▏         | 24/1595 [00:08<20:25,  1.28it/s]"
     ]
    },
    {
     "name": "stdout",
     "output_type": "stream",
     "text": [
      "chunks for patient: 893fbc465b9d8a25569659a2bac154ef : 11025\n"
     ]
    },
    {
     "name": "stderr",
     "output_type": "stream",
     "text": [
      "\r",
      "          \r",
      "\r",
      "          \r",
      "  2%|▏         | 24/1595 [00:10<10:56,  2.39it/s]"
     ]
    },
    {
     "name": "stdout",
     "output_type": "stream",
     "text": [
      "chunks for patient: 9e5c2e760b94b8919691d344cfdbac7f : 10140\n"
     ]
    },
    {
     "name": "stderr",
     "output_type": "stream",
     "text": [
      "\r",
      "          \r",
      "\r",
      "          \r",
      "  2%|▏         | 24/1595 [00:12<13:06,  2.00it/s]\r",
      "  2%|▏         | 26/1595 [00:12<27:31,  1.05s/it]"
     ]
    },
    {
     "name": "stdout",
     "output_type": "stream",
     "text": [
      "chunks for patient: 5765dc0dbc8c02a4c862563eac4950ef : 13520\n"
     ]
    },
    {
     "name": "stderr",
     "output_type": "stream",
     "text": [
      "\r",
      "          \r",
      "\r",
      "          \r",
      "  2%|▏         | 26/1595 [00:13<14:00,  1.87it/s]"
     ]
    },
    {
     "name": "stdout",
     "output_type": "stream",
     "text": [
      "chunks for patient: b1786f35f31c424f6c9e3380c1c51c0b : 15625\n"
     ]
    },
    {
     "name": "stderr",
     "output_type": "stream",
     "text": [
      "\r",
      "          \r",
      "\r",
      "          \r",
      "  2%|▏         | 26/1595 [00:15<15:53,  1.65it/s]\r",
      "  2%|▏         | 28/1595 [00:15<34:05,  1.31s/it]"
     ]
    },
    {
     "name": "stdout",
     "output_type": "stream",
     "text": [
      "chunks for patient: 649fd56ef9809019b57261fcf9574d76 : 19800\n"
     ]
    },
    {
     "name": "stderr",
     "output_type": "stream",
     "text": [
      "\r",
      "          \r",
      "\r",
      "          \r",
      "  2%|▏         | 28/1595 [00:18<16:52,  1.55it/s]\r",
      "  2%|▏         | 29/1595 [00:18<41:43,  1.60s/it]"
     ]
    },
    {
     "name": "stdout",
     "output_type": "stream",
     "text": [
      "chunks for patient: 7921bbb92d5390784f3ba046be0d59a3 : 17500\n"
     ]
    },
    {
     "name": "stderr",
     "output_type": "stream",
     "text": [
      "\r",
      "          \r",
      "\r",
      "          \r",
      "  2%|▏         | 29/1595 [00:20<18:06,  1.44it/s]\r",
      "  2%|▏         | 30/1595 [00:20<45:07,  1.73s/it]"
     ]
    },
    {
     "name": "stdout",
     "output_type": "stream",
     "text": [
      "chunks for patient: 1030bb45e9f660c3466f013dcb270520 : 12167\n"
     ]
    },
    {
     "name": "stderr",
     "output_type": "stream",
     "text": [
      "\r",
      "          \r",
      "\r",
      "          \r",
      "  2%|▏         | 30/1595 [00:22<19:17,  1.35it/s]\r",
      "  2%|▏         | 31/1595 [00:22<47:42,  1.83s/it]"
     ]
    },
    {
     "name": "stdout",
     "output_type": "stream",
     "text": [
      "chunks for patient: 5bf71718aa1bdcada76f0683f8d6b41b : 13125\n"
     ]
    },
    {
     "name": "stderr",
     "output_type": "stream",
     "text": [
      "\r",
      "          \r",
      "\r",
      "          \r",
      "  2%|▏         | 31/1595 [00:24<20:24,  1.28it/s]\r",
      "  2%|▏         | 32/1595 [00:24<49:41,  1.91s/it]"
     ]
    },
    {
     "name": "stdout",
     "output_type": "stream",
     "text": [
      "chunks for patient: 33e0e8629a377e4554b26e60a1007788 : 15309\n"
     ]
    },
    {
     "name": "stderr",
     "output_type": "stream",
     "text": [
      "\r",
      "          \r",
      "\r",
      "          \r",
      "  2%|▏         | 32/1595 [00:26<21:28,  1.21it/s]\r",
      "  2%|▏         | 33/1595 [00:26<51:13,  1.97s/it]"
     ]
    },
    {
     "name": "stdout",
     "output_type": "stream",
     "text": [
      "chunks for patient: 65f596f75eebf7935554eaed3c8172ce : 15625\n"
     ]
    },
    {
     "name": "stderr",
     "output_type": "stream",
     "text": [
      "\r",
      "          \r",
      "\r",
      "          \r",
      "  2%|▏         | 33/1595 [00:28<22:12,  1.17it/s]\r",
      "  2%|▏         | 34/1595 [00:28<49:38,  1.91s/it]"
     ]
    },
    {
     "name": "stdout",
     "output_type": "stream",
     "text": [
      "chunks for patient: 934f01786c3bdf8eeaf7d8411a3a8f82 : 10648\n"
     ]
    },
    {
     "name": "stderr",
     "output_type": "stream",
     "text": [
      "\r",
      "          \r",
      "\r",
      "          \r",
      "  2%|▏         | 34/1595 [00:29<22:46,  1.14it/s]\r",
      "  2%|▏         | 35/1595 [00:29<47:13,  1.82s/it]"
     ]
    },
    {
     "name": "stdout",
     "output_type": "stream",
     "text": [
      "chunks for patient: 101a2999d28ce05788e6add3a28d4726 : 12500\n"
     ]
    },
    {
     "name": "stderr",
     "output_type": "stream",
     "text": [
      "\r",
      "          \r",
      "\r",
      "          \r",
      "  2%|▏         | 35/1595 [00:31<23:41,  1.10it/s]\r",
      "  2%|▏         | 36/1595 [00:31<49:38,  1.91s/it]"
     ]
    },
    {
     "name": "stdout",
     "output_type": "stream",
     "text": [
      "chunks for patient: 31e82ed2c875eae8dfbfd70ac440458a : 12584\n"
     ]
    },
    {
     "name": "stderr",
     "output_type": "stream",
     "text": [
      "\r",
      "          \r",
      "\r",
      "          \r",
      "  2%|▏         | 36/1595 [00:33<24:26,  1.06it/s]\r",
      "  2%|▏         | 37/1595 [00:33<50:06,  1.93s/it]"
     ]
    },
    {
     "name": "stdout",
     "output_type": "stream",
     "text": [
      "chunks for patient: 2dbb8c6c6ea4ff5c62b34bdf9ea03158 : 13754\n"
     ]
    },
    {
     "name": "stderr",
     "output_type": "stream",
     "text": [
      "\r",
      "          \r",
      "\r",
      "          \r",
      "  2%|▏         | 37/1595 [00:35<25:07,  1.03it/s]\r",
      "  2%|▏         | 38/1595 [00:35<50:07,  1.93s/it]"
     ]
    },
    {
     "name": "stdout",
     "output_type": "stream",
     "text": [
      "chunks for patient: af7420c5b1c47763ecb5f6e286517b2e : 14872\n"
     ]
    },
    {
     "name": "stderr",
     "output_type": "stream",
     "text": [
      "\r",
      "          \r",
      "\r",
      "          \r",
      "  2%|▏         | 38/1595 [00:38<26:03,  1.00s/it]\r",
      "  2%|▏         | 39/1595 [00:38<53:26,  2.06s/it]"
     ]
    },
    {
     "name": "stdout",
     "output_type": "stream",
     "text": [
      "chunks for patient: 3cdd66bf14f0cff5cb46e95d5867de0d : 12696\n"
     ]
    },
    {
     "name": "stderr",
     "output_type": "stream",
     "text": [
      "\r",
      "          \r",
      "\r",
      "          \r",
      "  2%|▏         | 39/1595 [00:40<26:49,  1.03s/it]\r",
      "  3%|▎         | 40/1595 [00:40<54:23,  2.10s/it]"
     ]
    },
    {
     "name": "stdout",
     "output_type": "stream",
     "text": [
      "chunks for patient: 0bd0e3056cbf23a1cb7f0f0b18446068 : 16250\n"
     ]
    },
    {
     "name": "stderr",
     "output_type": "stream",
     "text": [
      "\r",
      "          \r",
      "\r",
      "          \r",
      "  3%|▎         | 40/1595 [00:41<27:09,  1.05s/it]\r",
      "  3%|▎         | 41/1595 [00:41<50:15,  1.94s/it]"
     ]
    },
    {
     "name": "stdout",
     "output_type": "stream",
     "text": [
      "chunks for patient: 77d6f5203d46073369d7038b2d58e320 : 9702\n"
     ]
    },
    {
     "name": "stderr",
     "output_type": "stream",
     "text": [
      "\r",
      "          \r",
      "\r",
      "          \r",
      "  3%|▎         | 41/1595 [00:44<27:55,  1.08s/it]\r",
      "  3%|▎         | 42/1595 [00:44<52:52,  2.04s/it]"
     ]
    },
    {
     "name": "stdout",
     "output_type": "stream",
     "text": [
      "chunks for patient: 6e5f12931ef179cc21382a59f5acab86 : 15548\n"
     ]
    },
    {
     "name": "stderr",
     "output_type": "stream",
     "text": [
      "\r",
      "          \r",
      "\r",
      "          \r",
      "  3%|▎         | 42/1595 [00:46<28:48,  1.11s/it]\r",
      "  3%|▎         | 43/1595 [00:46<56:39,  2.19s/it]"
     ]
    },
    {
     "name": "stdout",
     "output_type": "stream",
     "text": [
      "chunks for patient: 0121c2845f2b7df060945b072b2515d7 : 15625\n"
     ]
    },
    {
     "name": "stderr",
     "output_type": "stream",
     "text": [
      "\r",
      "          \r",
      "\r",
      "          \r",
      "  3%|▎         | 43/1595 [00:48<28:53,  1.12s/it]\r",
      "  3%|▎         | 44/1595 [00:48<49:41,  1.92s/it]"
     ]
    },
    {
     "name": "stdout",
     "output_type": "stream",
     "text": [
      "chunks for patient: 32cda856b7ec759fd3ebaa363c505e88 : 9600\n"
     ]
    },
    {
     "name": "stderr",
     "output_type": "stream",
     "text": [
      "\r",
      "          \r",
      "\r",
      "          \r",
      "  3%|▎         | 44/1595 [00:49<29:07,  1.13s/it]\r",
      "  3%|▎         | 45/1595 [00:49<46:48,  1.81s/it]"
     ]
    },
    {
     "name": "stdout",
     "output_type": "stream",
     "text": [
      "chunks for patient: 10aa518193fa5b89b305a806d1dfb150 : 11616\n"
     ]
    },
    {
     "name": "stderr",
     "output_type": "stream",
     "text": [
      "\r",
      "          \r",
      "\r",
      "          \r",
      "  3%|▎         | 45/1595 [00:51<29:36,  1.15s/it]\r",
      "  3%|▎         | 46/1595 [00:51<48:04,  1.86s/it]"
     ]
    },
    {
     "name": "stdout",
     "output_type": "stream",
     "text": [
      "chunks for patient: 9f12d2d6134af032932ed37776c6d09f : 12672\n"
     ]
    },
    {
     "name": "stderr",
     "output_type": "stream",
     "text": [
      "\r",
      "          \r",
      "\r",
      "          \r",
      "  3%|▎         | 46/1595 [00:53<30:02,  1.16s/it]\r",
      "  3%|▎         | 47/1595 [00:53<48:56,  1.90s/it]"
     ]
    },
    {
     "name": "stdout",
     "output_type": "stream",
     "text": [
      "chunks for patient: e00832e96709eb85f8e0e608ca02c2b5 : 14196\n"
     ]
    },
    {
     "name": "stderr",
     "output_type": "stream",
     "text": [
      "\r",
      "          \r",
      "\r",
      "          \r",
      "  3%|▎         | 47/1595 [00:55<30:16,  1.17s/it]\r",
      "  3%|▎         | 48/1595 [00:55<46:39,  1.81s/it]"
     ]
    },
    {
     "name": "stdout",
     "output_type": "stream",
     "text": [
      "chunks for patient: d9ef71a00fd504eac1a6dd104c93ce56 : 10143\n"
     ]
    },
    {
     "name": "stderr",
     "output_type": "stream",
     "text": [
      "\r",
      "          \r",
      "\r",
      "          \r",
      "  3%|▎         | 48/1595 [00:57<30:56,  1.20s/it]\r",
      "  3%|▎         | 49/1595 [00:57<51:41,  2.01s/it]"
     ]
    },
    {
     "name": "stdout",
     "output_type": "stream",
     "text": [
      "chunks for patient: f17867cc3e579dc2fc6f0334bc43a91d : 17500\n"
     ]
    },
    {
     "name": "stderr",
     "output_type": "stream",
     "text": [
      "\r",
      "          \r",
      "\r",
      "          \r",
      "  3%|▎         | 49/1595 [00:59<31:17,  1.21s/it]\r",
      "  3%|▎         | 50/1595 [00:59<50:53,  1.98s/it]"
     ]
    },
    {
     "name": "stdout",
     "output_type": "stream",
     "text": [
      "chunks for patient: 9a378249b799bbcefac2a7de46896c0a : 14872\n"
     ]
    },
    {
     "name": "stderr",
     "output_type": "stream",
     "text": [
      "\r",
      "          \r",
      "\r",
      "          \r",
      "  3%|▎         | 50/1595 [01:01<31:45,  1.23s/it]\r",
      "  3%|▎         | 51/1595 [01:01<52:15,  2.03s/it]"
     ]
    },
    {
     "name": "stdout",
     "output_type": "stream",
     "text": [
      "chunks for patient: 82b9fb9e238397b2f3bff98975577ff9 : 15309\n"
     ]
    },
    {
     "name": "stderr",
     "output_type": "stream",
     "text": [
      "\r",
      "          \r",
      "\r",
      "          \r",
      "  3%|▎         | 51/1595 [01:03<31:51,  1.24s/it]\r",
      "  3%|▎         | 52/1595 [01:03<47:42,  1.86s/it]"
     ]
    },
    {
     "name": "stdout",
     "output_type": "stream",
     "text": [
      "chunks for patient: a2d9e657a673798f9ebdfec1b361f93a : 13125\n"
     ]
    },
    {
     "name": "stderr",
     "output_type": "stream",
     "text": [
      "\r",
      "          \r",
      "\r",
      "          \r",
      "  3%|▎         | 52/1595 [01:05<32:09,  1.25s/it]\r",
      "  3%|▎         | 53/1595 [01:05<48:01,  1.87s/it]"
     ]
    },
    {
     "name": "stdout",
     "output_type": "stream",
     "text": [
      "chunks for patient: 6828335aec9aa0d0053ec0949319aa4b : 10143\n"
     ]
    },
    {
     "name": "stderr",
     "output_type": "stream",
     "text": [
      "\r",
      "          \r",
      "\r",
      "          \r",
      "  3%|▎         | 53/1595 [01:06<32:10,  1.25s/it]\r",
      "  3%|▎         | 54/1595 [01:06<43:47,  1.71s/it]"
     ]
    },
    {
     "name": "stdout",
     "output_type": "stream",
     "text": [
      "chunks for patient: 7027c0b8c8f8dcc76c6e4ba923d60a2e : 12696\n"
     ]
    },
    {
     "name": "stderr",
     "output_type": "stream",
     "text": [
      "\r",
      "          \r",
      "\r",
      "          \r",
      "  3%|▎         | 54/1595 [01:07<32:20,  1.26s/it]\r",
      "  3%|▎         | 55/1595 [01:07<43:17,  1.69s/it]"
     ]
    },
    {
     "name": "stdout",
     "output_type": "stream",
     "text": [
      "chunks for patient: 28649e08938386e3b8eaa4a84baf5982 : 9680\n"
     ]
    },
    {
     "name": "stderr",
     "output_type": "stream",
     "text": [
      "\r",
      "          \r",
      "\r",
      "          \r",
      "  3%|▎         | 55/1595 [01:10<32:50,  1.28s/it]\r",
      "  4%|▎         | 56/1595 [01:10<48:33,  1.89s/it]"
     ]
    },
    {
     "name": "stdout",
     "output_type": "stream",
     "text": [
      "chunks for patient: 5791c42d317f34592be9a933c50e68ad : 18816\n"
     ]
    },
    {
     "name": "stderr",
     "output_type": "stream",
     "text": [
      "\r",
      "          \r",
      "\r",
      "          \r",
      "  4%|▎         | 56/1595 [01:12<33:02,  1.29s/it]\r",
      "  4%|▎         | 57/1595 [01:12<47:40,  1.86s/it]"
     ]
    },
    {
     "name": "stdout",
     "output_type": "stream",
     "text": [
      "chunks for patient: 9c779a4e5e56c77131f8e99d5eacb766 : 11638\n"
     ]
    },
    {
     "name": "stderr",
     "output_type": "stream",
     "text": [
      "\r",
      "          \r",
      "\r",
      "          \r",
      "  4%|▎         | 57/1595 [01:13<33:11,  1.29s/it]\r",
      "  4%|▎         | 58/1595 [01:13<46:05,  1.80s/it]"
     ]
    },
    {
     "name": "stdout",
     "output_type": "stream",
     "text": [
      "chunks for patient: 55c01868f1d9c37fa3f174dc3c0d44e8 : 9702\n"
     ]
    },
    {
     "name": "stderr",
     "output_type": "stream",
     "text": [
      "\r",
      "          \r",
      "\r",
      "          \r",
      "  4%|▎         | 58/1595 [01:16<34:00,  1.33s/it]\r",
      "  4%|▎         | 59/1595 [01:16<56:40,  2.21s/it]"
     ]
    },
    {
     "name": "stdout",
     "output_type": "stream",
     "text": [
      "chunks for patient: efd5b9e8cb651e18eba6a9623e36e7be : 21025\n"
     ]
    },
    {
     "name": "stderr",
     "output_type": "stream",
     "text": [
      "\r",
      "          \r",
      "\r",
      "          \r",
      "  4%|▎         | 59/1595 [01:19<34:24,  1.34s/it]\r",
      "  4%|▍         | 60/1595 [01:19<57:19,  2.24s/it]"
     ]
    },
    {
     "name": "stdout",
     "output_type": "stream",
     "text": [
      "chunks for patient: 7ec258e536a1e0353375295ad1b71e5b : 16900\n"
     ]
    },
    {
     "name": "stderr",
     "output_type": "stream",
     "text": [
      "\r",
      "          \r",
      "\r",
      "          \r",
      "  4%|▍         | 60/1595 [01:21<34:51,  1.36s/it]\r",
      "  4%|▍         | 61/1595 [01:21<59:04,  2.31s/it]"
     ]
    },
    {
     "name": "stdout",
     "output_type": "stream",
     "text": [
      "chunks for patient: 35b9a3e9871499893f76c8e6c648562c : 16038\n"
     ]
    },
    {
     "name": "stderr",
     "output_type": "stream",
     "text": [
      "\r",
      "          \r",
      "\r",
      "          \r",
      "  4%|▍         | 61/1595 [01:23<35:03,  1.37s/it]\r",
      "  4%|▍         | 62/1595 [01:23<55:51,  2.19s/it]"
     ]
    },
    {
     "name": "stdout",
     "output_type": "stream",
     "text": [
      "chunks for patient: e4421d2d5318845c1cccbc6fa308a96e : 11638\n"
     ]
    },
    {
     "name": "stderr",
     "output_type": "stream",
     "text": [
      "\r",
      "          \r",
      "\r",
      "          \r",
      "  4%|▍         | 62/1595 [01:25<35:20,  1.38s/it]\r",
      "  4%|▍         | 63/1595 [01:25<55:09,  2.16s/it]"
     ]
    },
    {
     "name": "stdout",
     "output_type": "stream",
     "text": [
      "chunks for patient: 5faa4b8d9e86c157b7b16e67f22e7210 : 14872\n"
     ]
    },
    {
     "name": "stderr",
     "output_type": "stream",
     "text": [
      "\r",
      "          \r",
      "\r",
      "          \r",
      "  4%|▍         | 63/1595 [01:27<35:34,  1.39s/it]\r",
      "  4%|▍         | 64/1595 [01:27<54:02,  2.12s/it]"
     ]
    },
    {
     "name": "stdout",
     "output_type": "stream",
     "text": [
      "chunks for patient: 91d29bc19205f8eb9a63de5b774a5575 : 14196\n"
     ]
    },
    {
     "name": "stderr",
     "output_type": "stream",
     "text": [
      "\r",
      "          \r",
      "\r",
      "          \r",
      "  4%|▍         | 64/1595 [01:30<36:04,  1.41s/it]\r",
      "  4%|▍         | 65/1595 [01:30<58:19,  2.29s/it]"
     ]
    },
    {
     "name": "stdout",
     "output_type": "stream",
     "text": [
      "chunks for patient: 8cb4c49a88d8ecb99d97cf5d707d58d7 : 19600\n"
     ]
    },
    {
     "name": "stderr",
     "output_type": "stream",
     "text": [
      "\r",
      "          \r",
      "\r",
      "          \r",
      "  4%|▍         | 65/1595 [01:32<36:07,  1.42s/it]\r",
      "  4%|▍         | 66/1595 [01:32<53:13,  2.09s/it]"
     ]
    },
    {
     "name": "stdout",
     "output_type": "stream",
     "text": [
      "chunks for patient: 4cc8af2efef2f41bf70684be25276ce5 : 13754\n"
     ]
    },
    {
     "name": "stderr",
     "output_type": "stream",
     "text": [
      "\r",
      "          \r",
      "\r",
      "          \r",
      "  4%|▍         | 66/1595 [01:34<36:32,  1.43s/it]\r",
      "  4%|▍         | 67/1595 [01:34<56:39,  2.22s/it]"
     ]
    },
    {
     "name": "stdout",
     "output_type": "stream",
     "text": [
      "chunks for patient: d8ed783494996f55a587270a212f7d5b : 17496\n"
     ]
    },
    {
     "name": "stderr",
     "output_type": "stream",
     "text": [
      "\r",
      "          \r",
      "\r",
      "          \r",
      "  4%|▍         | 67/1595 [01:36<36:51,  1.45s/it]\r",
      "  4%|▍         | 68/1595 [01:36<57:29,  2.26s/it]"
     ]
    },
    {
     "name": "stdout",
     "output_type": "stream",
     "text": [
      "chunks for patient: 519ad4ead3e61d2d71088ac8e46f25b6 : 18928\n"
     ]
    },
    {
     "name": "stderr",
     "output_type": "stream",
     "text": [
      "\r",
      "          \r",
      "\r",
      "          \r",
      "  4%|▍         | 68/1595 [01:38<36:52,  1.45s/it]\r",
      "  4%|▍         | 69/1595 [01:38<52:00,  2.05s/it]"
     ]
    },
    {
     "name": "stdout",
     "output_type": "stream",
     "text": [
      "chunks for patient: 3c86ed658e82e542bc542886a59ea4f1 : 10143\n"
     ]
    },
    {
     "name": "stderr",
     "output_type": "stream",
     "text": [
      "\r",
      "          \r",
      "\r",
      "          \r",
      "  4%|▍         | 69/1595 [01:40<37:01,  1.46s/it]\r",
      "  4%|▍         | 70/1595 [01:40<51:13,  2.02s/it]"
     ]
    },
    {
     "name": "stdout",
     "output_type": "stream",
     "text": [
      "chunks for patient: acbb4e34904af9781fe089f586418a21 : 10648\n"
     ]
    },
    {
     "name": "stderr",
     "output_type": "stream",
     "text": [
      "\r",
      "          \r",
      "\r",
      "          \r",
      "  4%|▍         | 70/1595 [01:42<37:12,  1.46s/it]\r",
      "  4%|▍         | 71/1595 [01:42<51:17,  2.02s/it]"
     ]
    },
    {
     "name": "stdout",
     "output_type": "stream",
     "text": [
      "chunks for patient: 2f4e4a808cfb348d6ddc81de96f72077 : 11109\n"
     ]
    },
    {
     "name": "stderr",
     "output_type": "stream",
     "text": [
      "\r",
      "          \r",
      "\r",
      "          \r",
      "  4%|▍         | 71/1595 [01:44<37:23,  1.47s/it]\r",
      "  5%|▍         | 72/1595 [01:44<51:15,  2.02s/it]"
     ]
    },
    {
     "name": "stdout",
     "output_type": "stream",
     "text": [
      "chunks for patient: b818f0244d2adb13520191eed99e4680 : 17248\n"
     ]
    },
    {
     "name": "stderr",
     "output_type": "stream",
     "text": [
      "\r",
      "          \r",
      "\r",
      "          \r",
      "  5%|▍         | 72/1595 [01:46<37:23,  1.47s/it]\r",
      "  5%|▍         | 73/1595 [01:46<47:45,  1.88s/it]"
     ]
    },
    {
     "name": "stdout",
     "output_type": "stream",
     "text": [
      "chunks for patient: 7c02c641324c598cd935b588189c87db : 9196\n"
     ]
    },
    {
     "name": "stderr",
     "output_type": "stream",
     "text": [
      "\r",
      "          \r",
      "\r",
      "          \r",
      "  5%|▍         | 73/1595 [01:48<37:33,  1.48s/it]\r",
      "  5%|▍         | 74/1595 [01:48<48:46,  1.92s/it]"
     ]
    },
    {
     "name": "stdout",
     "output_type": "stream",
     "text": [
      "chunks for patient: c0f2e3b499d10d147892579d0ad71321 : 13225\n"
     ]
    },
    {
     "name": "stderr",
     "output_type": "stream",
     "text": [
      "\r",
      "          \r",
      "\r",
      "          \r",
      "  5%|▍         | 74/1595 [01:49<37:39,  1.49s/it]\r",
      "  5%|▍         | 75/1595 [01:49<48:07,  1.90s/it]"
     ]
    },
    {
     "name": "stdout",
     "output_type": "stream",
     "text": [
      "chunks for patient: 678c5ec1360784e0fe797208069e0bbb : 10580\n"
     ]
    },
    {
     "name": "stderr",
     "output_type": "stream",
     "text": [
      "\r",
      "          \r",
      "\r",
      "          \r",
      "  5%|▍         | 75/1595 [01:52<38:00,  1.50s/it]\r",
      "  5%|▍         | 76/1595 [01:52<53:18,  2.11s/it]"
     ]
    },
    {
     "name": "stdout",
     "output_type": "stream",
     "text": [
      "chunks for patient: 149cc798827099f8bdb97cf702027305 : 14872\n"
     ]
    },
    {
     "name": "stderr",
     "output_type": "stream",
     "text": [
      "\r",
      "          \r",
      "\r",
      "          \r",
      "  5%|▍         | 76/1595 [01:54<38:17,  1.51s/it]\r",
      "  5%|▍         | 77/1595 [01:54<55:39,  2.20s/it]"
     ]
    },
    {
     "name": "stdout",
     "output_type": "stream",
     "text": [
      "chunks for patient: c2ef34cc347bc224b5a123426009d027 : 16900\n"
     ]
    },
    {
     "name": "stderr",
     "output_type": "stream",
     "text": [
      "\r",
      "          \r",
      "\r",
      "          \r",
      "  5%|▍         | 77/1595 [01:56<38:24,  1.52s/it]\r",
      "  5%|▍         | 78/1595 [01:56<53:47,  2.13s/it]"
     ]
    },
    {
     "name": "stdout",
     "output_type": "stream",
     "text": [
      "chunks for patient: 9de48cf43611478ffc1fef051b75dc8c : 13750\n"
     ]
    },
    {
     "name": "stderr",
     "output_type": "stream",
     "text": [
      "\r",
      "          \r",
      "\r",
      "          \r",
      "  5%|▍         | 78/1595 [01:59<38:40,  1.53s/it]\r",
      "  5%|▍         | 79/1595 [01:59<55:51,  2.21s/it]"
     ]
    },
    {
     "name": "stdout",
     "output_type": "stream",
     "text": [
      "chunks for patient: 274297dd9a4f66148754944ae2b6731c : 16224\n"
     ]
    },
    {
     "name": "stderr",
     "output_type": "stream",
     "text": [
      "\r",
      "          \r",
      "\r",
      "          \r",
      "  5%|▍         | 79/1595 [02:01<38:57,  1.54s/it]\r",
      "  5%|▌         | 80/1595 [02:01<57:54,  2.29s/it]"
     ]
    },
    {
     "name": "stdout",
     "output_type": "stream",
     "text": [
      "chunks for patient: 04cfc5efa4c8c2a8944c8b9fa6cb04d1 : 17496\n"
     ]
    },
    {
     "name": "stderr",
     "output_type": "stream",
     "text": [
      "\r",
      "          \r",
      "\r",
      "          \r",
      "  5%|▌         | 80/1595 [02:03<38:55,  1.54s/it]\r",
      "  5%|▌         | 81/1595 [02:03<51:58,  2.06s/it]"
     ]
    },
    {
     "name": "stdout",
     "output_type": "stream",
     "text": [
      "chunks for patient: af1d0c2fcde369dd1b715460c2f704a2 : 10143\n"
     ]
    },
    {
     "name": "stderr",
     "output_type": "stream",
     "text": [
      "\r",
      "          \r",
      "\r",
      "          \r",
      "  5%|▌         | 81/1595 [02:05<39:05,  1.55s/it]\r",
      "  5%|▌         | 82/1595 [02:05<53:03,  2.10s/it]"
     ]
    },
    {
     "name": "stdout",
     "output_type": "stream",
     "text": [
      "chunks for patient: 7df28e2253be3490208ba9a9f470ea1d : 17248\n"
     ]
    },
    {
     "name": "stderr",
     "output_type": "stream",
     "text": [
      "\r",
      "          \r",
      "\r",
      "          \r",
      "  5%|▌         | 82/1595 [02:07<39:21,  1.56s/it]\r",
      "  5%|▌         | 83/1595 [02:07<55:47,  2.21s/it]"
     ]
    },
    {
     "name": "stdout",
     "output_type": "stream",
     "text": [
      "chunks for patient: bbf7a3e138f9353414f2d51f0c363561 : 19343\n"
     ]
    },
    {
     "name": "stderr",
     "output_type": "stream",
     "text": [
      "\r",
      "          \r",
      "\r",
      "          \r",
      "  5%|▌         | 83/1595 [02:10<39:34,  1.57s/it]\r",
      "  5%|▌         | 84/1595 [02:10<56:51,  2.26s/it]"
     ]
    },
    {
     "name": "stdout",
     "output_type": "stream",
     "text": [
      "chunks for patient: fb55849cee6473974612c17f094a38cd : 16224\n"
     ]
    },
    {
     "name": "stderr",
     "output_type": "stream",
     "text": [
      "\r",
      "          \r",
      "\r",
      "          \r",
      "  5%|▌         | 84/1595 [02:13<39:56,  1.59s/it]\r",
      "  5%|▌         | 85/1595 [02:13<1:01:34,  2.45s/it]"
     ]
    },
    {
     "name": "stdout",
     "output_type": "stream",
     "text": [
      "chunks for patient: 70671fa94231eb377e8ac7cba4650dfb : 21025\n"
     ]
    },
    {
     "name": "stderr",
     "output_type": "stream",
     "text": [
      "\r",
      "          \r",
      "\r",
      "          \r",
      "  5%|▌         | 85/1595 [02:15<40:12,  1.60s/it]\r",
      "  5%|▌         | 86/1595 [02:15<1:02:17,  2.48s/it]"
     ]
    },
    {
     "name": "stdout",
     "output_type": "stream",
     "text": [
      "chunks for patient: cdb53f3be6d8cce07fa41c833488d8a5 : 17248\n"
     ]
    },
    {
     "name": "stderr",
     "output_type": "stream",
     "text": [
      "\r",
      "          \r",
      "\r",
      "          \r",
      "  5%|▌         | 86/1595 [02:17<40:19,  1.60s/it]\r",
      "  5%|▌         | 87/1595 [02:17<59:40,  2.37s/it]  "
     ]
    },
    {
     "name": "stdout",
     "output_type": "stream",
     "text": [
      "chunks for patient: 6d75fe2462284150249a04d78781189e : 12167\n"
     ]
    },
    {
     "name": "stderr",
     "output_type": "stream",
     "text": [
      "\r",
      "          \r",
      "\r",
      "          \r",
      "  5%|▌         | 87/1595 [02:20<40:29,  1.61s/it]\r",
      "  6%|▌         | 88/1595 [02:20<58:48,  2.34s/it]"
     ]
    },
    {
     "name": "stdout",
     "output_type": "stream",
     "text": [
      "chunks for patient: dcf5fd36b9fff9183f63df286bf8eef9 : 12844\n"
     ]
    },
    {
     "name": "stderr",
     "output_type": "stream",
     "text": [
      "\r",
      "          \r",
      "\r",
      "          \r",
      "  6%|▌         | 88/1595 [02:21<40:24,  1.61s/it]\r",
      "  6%|▌         | 89/1595 [02:21<51:43,  2.06s/it]"
     ]
    },
    {
     "name": "stdout",
     "output_type": "stream",
     "text": [
      "chunks for patient: e79f52e833ccca893509f0fdeeb26e9f : 10143\n"
     ]
    },
    {
     "name": "stderr",
     "output_type": "stream",
     "text": [
      "\r",
      "          \r",
      "\r",
      "          \r",
      "  6%|▌         | 89/1595 [02:23<40:35,  1.62s/it]\r",
      "  6%|▌         | 90/1595 [02:23<53:53,  2.15s/it]"
     ]
    },
    {
     "name": "stdout",
     "output_type": "stream",
     "text": [
      "chunks for patient: 24031ba88c58797148475f6d4d5a085b : 16224\n"
     ]
    },
    {
     "name": "stderr",
     "output_type": "stream",
     "text": [
      "\r",
      "          \r",
      "\r",
      "          \r",
      "  6%|▌         | 90/1595 [02:25<40:37,  1.62s/it]\r",
      "  6%|▌         | 91/1595 [02:25<51:16,  2.05s/it]"
     ]
    },
    {
     "name": "stdout",
     "output_type": "stream",
     "text": [
      "chunks for patient: 436fd6ccfc92afc44c7d3ccfe26b6129 : 10580\n"
     ]
    },
    {
     "name": "stderr",
     "output_type": "stream",
     "text": [
      "\r",
      "          \r",
      "\r",
      "          \r",
      "  6%|▌         | 91/1595 [02:27<40:39,  1.62s/it]\r",
      "  6%|▌         | 92/1595 [02:27<49:41,  1.98s/it]"
     ]
    },
    {
     "name": "stdout",
     "output_type": "stream",
     "text": [
      "chunks for patient: dcdf0b64b314e08e8f71f3bec9ecb080 : 13248\n"
     ]
    },
    {
     "name": "stderr",
     "output_type": "stream",
     "text": [
      "\r",
      "          \r",
      "\r",
      "          \r",
      "  6%|▌         | 92/1595 [02:29<40:45,  1.63s/it]\r",
      "  6%|▌         | 93/1595 [02:29<50:27,  2.02s/it]"
     ]
    },
    {
     "name": "stdout",
     "output_type": "stream",
     "text": [
      "chunks for patient: a6c15206edadab0270898f03e770d730 : 14196\n"
     ]
    },
    {
     "name": "stderr",
     "output_type": "stream",
     "text": [
      "\r",
      "          \r",
      "\r",
      "          \r",
      "  6%|▌         | 93/1595 [02:31<40:45,  1.63s/it]\r",
      "  6%|▌         | 94/1595 [02:31<48:31,  1.94s/it]"
     ]
    },
    {
     "name": "stdout",
     "output_type": "stream",
     "text": [
      "chunks for patient: d68bfca920fd548909bd9c7eb5694b9d : 13750\n"
     ]
    },
    {
     "name": "stderr",
     "output_type": "stream",
     "text": [
      "\r",
      "          \r",
      "\r",
      "          \r",
      "  6%|▌         | 94/1595 [02:33<40:44,  1.63s/it]\r",
      "  6%|▌         | 95/1595 [02:33<46:19,  1.85s/it]"
     ]
    },
    {
     "name": "stdout",
     "output_type": "stream",
     "text": [
      "chunks for patient: 51fbac477a3639f983904fc4d42b8c15 : 12096\n"
     ]
    },
    {
     "name": "stderr",
     "output_type": "stream",
     "text": [
      "\r",
      "          \r",
      "\r",
      "          \r",
      "  6%|▌         | 95/1595 [02:34<40:41,  1.63s/it]\r",
      "  6%|▌         | 96/1595 [02:34<44:12,  1.77s/it]"
     ]
    },
    {
     "name": "stdout",
     "output_type": "stream",
     "text": [
      "chunks for patient: 356bc45910503ffde017a066581a3798 : 11616\n"
     ]
    },
    {
     "name": "stderr",
     "output_type": "stream",
     "text": [
      "\r",
      "          \r",
      "\r",
      "          \r",
      "  6%|▌         | 96/1595 [02:36<40:38,  1.63s/it]\r",
      "  6%|▌         | 97/1595 [02:36<42:23,  1.70s/it]"
     ]
    },
    {
     "name": "stdout",
     "output_type": "stream",
     "text": [
      "chunks for patient: 2d8152c603e6c49593578bde8e388860 : 11132\n"
     ]
    },
    {
     "name": "stderr",
     "output_type": "stream",
     "text": [
      "\r",
      "          \r",
      "\r",
      "          \r",
      "  6%|▌         | 97/1595 [02:38<40:42,  1.63s/it]\r",
      "  6%|▌         | 98/1595 [02:38<44:27,  1.78s/it]"
     ]
    },
    {
     "name": "stdout",
     "output_type": "stream",
     "text": [
      "chunks for patient: bf3dbf9b2379ca92ceaafc1867de0422 : 13520\n"
     ]
    },
    {
     "name": "stderr",
     "output_type": "stream",
     "text": [
      "\r",
      "          \r",
      "\r",
      "          \r",
      "  6%|▌         | 98/1595 [02:40<40:54,  1.64s/it]\r",
      "  6%|▌         | 99/1595 [02:40<49:55,  2.00s/it]"
     ]
    },
    {
     "name": "stdout",
     "output_type": "stream",
     "text": [
      "chunks for patient: cb64ff663195832e0b66a9bb17891954 : 20181\n"
     ]
    },
    {
     "name": "stderr",
     "output_type": "stream",
     "text": [
      "\r",
      "          \r",
      "\r",
      "          \r",
      "  6%|▌         | 99/1595 [02:42<40:53,  1.64s/it]\r",
      "  6%|▋         | 100/1595 [02:42<47:26,  1.90s/it]"
     ]
    },
    {
     "name": "stdout",
     "output_type": "stream",
     "text": [
      "chunks for patient: bf6a7a9ab4e18b18f43129c9e22fb448 : 11616\n"
     ]
    },
    {
     "name": "stderr",
     "output_type": "stream",
     "text": [
      "\r",
      "          \r",
      "\r",
      "          \r",
      "  6%|▋         | 100/1595 [02:44<41:00,  1.65s/it]\r",
      "  6%|▋         | 101/1595 [02:44<49:51,  2.00s/it]"
     ]
    },
    {
     "name": "stdout",
     "output_type": "stream",
     "text": [
      "chunks for patient: 59e4e8889ae68a75227b2bd02c1d1b96 : 15548\n"
     ]
    },
    {
     "name": "stderr",
     "output_type": "stream",
     "text": [
      "\r",
      "          \r",
      "\r",
      "          \r",
      "  6%|▋         | 101/1595 [02:47<41:11,  1.65s/it]\r",
      "  6%|▋         | 102/1595 [02:47<53:22,  2.15s/it]"
     ]
    },
    {
     "name": "stdout",
     "output_type": "stream",
     "text": [
      "chunks for patient: dbd9c8025907511e965e7abad955547d : 16900\n"
     ]
    },
    {
     "name": "stderr",
     "output_type": "stream",
     "text": [
      "\r",
      "          \r",
      "\r",
      "          \r",
      "  6%|▋         | 102/1595 [02:48<41:10,  1.65s/it]\r",
      "  6%|▋         | 103/1595 [02:48<49:52,  2.01s/it]"
     ]
    },
    {
     "name": "stdout",
     "output_type": "stream",
     "text": [
      "chunks for patient: fa9575f64e6881c6b2730f0e225c9573 : 12167\n"
     ]
    },
    {
     "name": "stderr",
     "output_type": "stream",
     "text": [
      "\r",
      "          \r",
      "\r",
      "          \r",
      "  6%|▋         | 103/1595 [02:51<41:22,  1.66s/it]\r",
      "  7%|▋         | 104/1595 [02:51<54:42,  2.20s/it]"
     ]
    },
    {
     "name": "stdout",
     "output_type": "stream",
     "text": [
      "chunks for patient: 9a5c2aa17362a58ae8adcb4e0a46c7e0 : 17500\n"
     ]
    },
    {
     "name": "stderr",
     "output_type": "stream",
     "text": [
      "\r",
      "          \r",
      "\r",
      "          \r",
      "  7%|▋         | 104/1595 [02:53<41:21,  1.66s/it]\r",
      "  7%|▋         | 105/1595 [02:53<50:51,  2.05s/it]"
     ]
    },
    {
     "name": "stdout",
     "output_type": "stream",
     "text": [
      "chunks for patient: d09e4124b97b22ef45692b62b4ca7f03 : 12096\n"
     ]
    },
    {
     "name": "stderr",
     "output_type": "stream",
     "text": [
      "\r",
      "          \r",
      "\r",
      "          \r",
      "  7%|▋         | 105/1595 [02:54<41:19,  1.66s/it]\r",
      "  7%|▋         | 106/1595 [02:54<47:29,  1.91s/it]"
     ]
    },
    {
     "name": "stdout",
     "output_type": "stream",
     "text": [
      "chunks for patient: b8793dbd40de88c0de0913abbaab0fe7 : 11132\n"
     ]
    },
    {
     "name": "stderr",
     "output_type": "stream",
     "text": [
      "\r",
      "          \r",
      "\r",
      "          \r",
      "  7%|▋         | 106/1595 [02:56<41:18,  1.66s/it]\r",
      "  7%|▋         | 107/1595 [02:56<46:05,  1.86s/it]"
     ]
    },
    {
     "name": "stdout",
     "output_type": "stream",
     "text": [
      "chunks for patient: 87b81bd007c5b23cd0c0aeca722fe52f : 11132\n"
     ]
    },
    {
     "name": "stderr",
     "output_type": "stream",
     "text": [
      "\r",
      "          \r",
      "\r",
      "          \r",
      "  7%|▋         | 107/1595 [02:58<41:26,  1.67s/it]\r",
      "  7%|▋         | 108/1595 [02:58<49:46,  2.01s/it]"
     ]
    },
    {
     "name": "stdout",
     "output_type": "stream",
     "text": [
      "chunks for patient: be4285333fb2d56f78ca867d97eee308 : 17248\n"
     ]
    },
    {
     "name": "stderr",
     "output_type": "stream",
     "text": [
      "\r",
      "          \r",
      "\r",
      "          \r",
      "  7%|▋         | 108/1595 [03:01<41:37,  1.68s/it]\r",
      "  7%|▋         | 109/1595 [03:01<54:23,  2.20s/it]"
     ]
    },
    {
     "name": "stdout",
     "output_type": "stream",
     "text": [
      "chunks for patient: 186a0877503b047a77eb9b38083be9c1 : 18252\n"
     ]
    },
    {
     "name": "stderr",
     "output_type": "stream",
     "text": [
      "\r",
      "          \r",
      "\r",
      "          \r",
      "  7%|▋         | 109/1595 [03:03<41:46,  1.69s/it]\r",
      "  7%|▋         | 110/1595 [03:03<56:20,  2.28s/it]"
     ]
    },
    {
     "name": "stdout",
     "output_type": "stream",
     "text": [
      "chunks for patient: 4b6b53281fe1fe797e181a5287df0f9a : 21025\n"
     ]
    },
    {
     "name": "stderr",
     "output_type": "stream",
     "text": [
      "\r",
      "          \r",
      "\r",
      "          \r",
      "  7%|▋         | 110/1595 [03:05<41:50,  1.69s/it]\r",
      "  7%|▋         | 111/1595 [03:05<54:39,  2.21s/it]"
     ]
    },
    {
     "name": "stdout",
     "output_type": "stream",
     "text": [
      "chunks for patient: cd104ad99d5b939b6bdd28b154e28085 : 16464\n"
     ]
    },
    {
     "name": "stderr",
     "output_type": "stream",
     "text": [
      "\r",
      "          \r",
      "\r",
      "          \r",
      "  7%|▋         | 111/1595 [03:08<42:00,  1.70s/it]\r",
      "  7%|▋         | 112/1595 [03:08<57:12,  2.31s/it]"
     ]
    },
    {
     "name": "stdout",
     "output_type": "stream",
     "text": [
      "chunks for patient: c004a9415539a0bc98c42c1a444cedb8 : 17248\n"
     ]
    },
    {
     "name": "stderr",
     "output_type": "stream",
     "text": [
      "\r",
      "          \r",
      "\r",
      "          \r",
      "  7%|▋         | 112/1595 [03:10<42:03,  1.70s/it]\r",
      "  7%|▋         | 113/1595 [03:10<55:17,  2.24s/it]"
     ]
    },
    {
     "name": "stdout",
     "output_type": "stream",
     "text": [
      "chunks for patient: 7b6c63074678f65784bdc54d8d385b83 : 12096\n"
     ]
    },
    {
     "name": "stderr",
     "output_type": "stream",
     "text": [
      "\r",
      "          \r",
      "\r",
      "          \r",
      "  7%|▋         | 113/1595 [03:12<42:10,  1.71s/it]\r",
      "  7%|▋         | 114/1595 [03:12<56:17,  2.28s/it]"
     ]
    },
    {
     "name": "stdout",
     "output_type": "stream",
     "text": [
      "chunks for patient: 27e9f8b51aeee67918221f2df98e9cbc : 15548\n"
     ]
    },
    {
     "name": "stderr",
     "output_type": "stream",
     "text": [
      "\r",
      "          \r",
      "\r",
      "          \r",
      "  7%|▋         | 114/1595 [03:14<42:11,  1.71s/it]\r",
      "  7%|▋         | 115/1595 [03:14<53:49,  2.18s/it]"
     ]
    },
    {
     "name": "stdout",
     "output_type": "stream",
     "text": [
      "chunks for patient: d833b4c1530183c1b3eae02e9a2cd735 : 14375\n"
     ]
    },
    {
     "name": "stderr",
     "output_type": "stream",
     "text": [
      "\r",
      "          \r",
      "\r",
      "          \r",
      "  7%|▋         | 115/1595 [03:17<42:17,  1.71s/it]\r",
      "  7%|▋         | 116/1595 [03:17<54:41,  2.22s/it]"
     ]
    },
    {
     "name": "stdout",
     "output_type": "stream",
     "text": [
      "chunks for patient: 540dbb66efa0f76499464689756e69f4 : 15548\n"
     ]
    },
    {
     "name": "stderr",
     "output_type": "stream",
     "text": [
      "\r",
      "          \r",
      "\r",
      "          \r",
      "  7%|▋         | 116/1595 [03:18<42:10,  1.71s/it]\r",
      "  7%|▋         | 117/1595 [03:18<47:31,  1.93s/it]"
     ]
    },
    {
     "name": "stdout",
     "output_type": "stream",
     "text": [
      "chunks for patient: 6faabf4152bf0ebfd91f686bc37a1f16 : 10584\n"
     ]
    },
    {
     "name": "stderr",
     "output_type": "stream",
     "text": [
      "\r",
      "          \r",
      "\r",
      "          \r",
      "  7%|▋         | 117/1595 [03:21<42:19,  1.72s/it]\r",
      "  7%|▋         | 118/1595 [03:21<52:33,  2.13s/it]"
     ]
    },
    {
     "name": "stdout",
     "output_type": "stream",
     "text": [
      "chunks for patient: 6540e089936a6c9d1f11939e96e6ab18 : 18252\n"
     ]
    },
    {
     "name": "stderr",
     "output_type": "stream",
     "text": [
      "\r",
      "          \r",
      "\r",
      "          \r",
      "  7%|▋         | 118/1595 [03:22<42:18,  1.72s/it]\r",
      "  7%|▋         | 119/1595 [03:22<49:50,  2.03s/it]"
     ]
    },
    {
     "name": "stdout",
     "output_type": "stream",
     "text": [
      "chunks for patient: a654285bc604830f627687fa821d7dd3 : 9200\n"
     ]
    },
    {
     "name": "stderr",
     "output_type": "stream",
     "text": [
      "\r",
      "          \r",
      "\r",
      "          \r",
      "  7%|▋         | 119/1595 [03:25<42:31,  1.73s/it]\r",
      "  8%|▊         | 120/1595 [03:25<56:21,  2.29s/it]"
     ]
    },
    {
     "name": "stdout",
     "output_type": "stream",
     "text": [
      "chunks for patient: b7045ebff6dbb0023087e0399d00b873 : 15548\n"
     ]
    },
    {
     "name": "stderr",
     "output_type": "stream",
     "text": [
      "\r",
      "          \r",
      "\r",
      "          \r",
      "  8%|▊         | 120/1595 [03:28<42:43,  1.74s/it]\r",
      "  8%|▊         | 121/1595 [03:28<1:00:13,  2.45s/it]"
     ]
    },
    {
     "name": "stdout",
     "output_type": "stream",
     "text": [
      "chunks for patient: 89f003dbfbdbd18a5cdeb9b128cb075b : 21866\n"
     ]
    },
    {
     "name": "stderr",
     "output_type": "stream",
     "text": [
      "\r",
      "          \r",
      "\r",
      "          \r",
      "  8%|▊         | 121/1595 [03:31<42:53,  1.75s/it]\r",
      "  8%|▊         | 122/1595 [03:31<1:02:09,  2.53s/it]"
     ]
    },
    {
     "name": "stdout",
     "output_type": "stream",
     "text": [
      "chunks for patient: d1a20ef45bb03f93a407b492066f6d88 : 18032\n"
     ]
    },
    {
     "name": "stderr",
     "output_type": "stream",
     "text": [
      "\r",
      "          \r",
      "\r",
      "          \r",
      "  8%|▊         | 122/1595 [03:33<42:58,  1.75s/it]\r",
      "  8%|▊         | 123/1595 [03:33<1:00:28,  2.47s/it]"
     ]
    },
    {
     "name": "stdout",
     "output_type": "stream",
     "text": [
      "chunks for patient: c1da930ea00f6d11bab7dd34014b7d6c : 16250\n"
     ]
    },
    {
     "name": "stderr",
     "output_type": "stream",
     "text": [
      "\r",
      "          \r",
      "\r",
      "          \r",
      "  8%|▊         | 123/1595 [03:36<43:15,  1.76s/it]\r",
      "  8%|▊         | 124/1595 [03:36<1:06:21,  2.71s/it]"
     ]
    },
    {
     "name": "stdout",
     "output_type": "stream",
     "text": [
      "chunks for patient: f0310ffc724faf9f7aef2c418127ee68 : 19683\n"
     ]
    },
    {
     "name": "stderr",
     "output_type": "stream",
     "text": [
      "\r",
      "          \r",
      "\r",
      "          \r",
      "  8%|▊         | 124/1595 [03:39<43:29,  1.77s/it]\r",
      "  8%|▊         | 125/1595 [03:39<1:09:14,  2.83s/it]"
     ]
    },
    {
     "name": "stdout",
     "output_type": "stream",
     "text": [
      "chunks for patient: 94df6d1ae21c5bfaebe6f8daf8fcd85b : 20384\n"
     ]
    },
    {
     "name": "stderr",
     "output_type": "stream",
     "text": [
      "\r",
      "          \r",
      "\r",
      "          \r",
      "  8%|▊         | 125/1595 [03:42<43:33,  1.78s/it]\r",
      "  8%|▊         | 126/1595 [03:42<1:05:10,  2.66s/it]"
     ]
    },
    {
     "name": "stdout",
     "output_type": "stream",
     "text": [
      "chunks for patient: 98bde8f061ae92dd23b0708fdf41381e : 13824\n"
     ]
    },
    {
     "name": "stderr",
     "output_type": "stream",
     "text": [
      "\r",
      "          \r",
      "\r",
      "          \r",
      "  8%|▊         | 126/1595 [03:44<43:41,  1.78s/it]\r",
      "  8%|▊         | 127/1595 [03:44<1:04:27,  2.63s/it]"
     ]
    },
    {
     "name": "stdout",
     "output_type": "stream",
     "text": [
      "chunks for patient: ac4056071f3cc98489b9db3aebfe2b6a : 16224\n"
     ]
    },
    {
     "name": "stderr",
     "output_type": "stream",
     "text": [
      "\r",
      "          \r",
      "\r",
      "          \r",
      "  8%|▊         | 127/1595 [03:46<43:34,  1.78s/it]\r",
      "  8%|▊         | 128/1595 [03:46<54:57,  2.25s/it]  "
     ]
    },
    {
     "name": "stdout",
     "output_type": "stream",
     "text": [
      "chunks for patient: c87a713d17522698958de55c97654beb : 8303\n"
     ]
    },
    {
     "name": "stderr",
     "output_type": "stream",
     "text": [
      "\r",
      "          \r",
      "\r",
      "          \r",
      "  8%|▊         | 128/1595 [03:47<43:27,  1.78s/it]\r",
      "  8%|▊         | 129/1595 [03:47<48:30,  1.99s/it]"
     ]
    },
    {
     "name": "stdout",
     "output_type": "stream",
     "text": [
      "chunks for patient: 186d95f7c17fd666726c10251072d44b : 13225\n"
     ]
    },
    {
     "name": "stderr",
     "output_type": "stream",
     "text": [
      "\r",
      "          \r",
      "\r",
      "          \r",
      "  8%|▊         | 129/1595 [03:49<43:28,  1.78s/it]\r",
      "  8%|▊         | 130/1595 [03:49<48:49,  2.00s/it]"
     ]
    },
    {
     "name": "stdout",
     "output_type": "stream",
     "text": [
      "chunks for patient: 9569bb8d5fc4461461078b2e2ca29f1f : 15625\n"
     ]
    },
    {
     "name": "stderr",
     "output_type": "stream",
     "text": [
      "\r",
      "          \r",
      "\r",
      "          \r",
      "  8%|▊         | 130/1595 [03:51<43:30,  1.78s/it]\r",
      "  8%|▊         | 131/1595 [03:51<49:02,  2.01s/it]"
     ]
    },
    {
     "name": "stdout",
     "output_type": "stream",
     "text": [
      "chunks for patient: a6195eb9162fc40d5fa2fdb1239dd788 : 16128\n"
     ]
    },
    {
     "name": "stderr",
     "output_type": "stream",
     "text": [
      "\r",
      "          \r",
      "\r",
      "          \r",
      "  8%|▊         | 131/1595 [03:53<43:24,  1.78s/it]\r",
      "  8%|▊         | 132/1595 [03:53<44:40,  1.83s/it]"
     ]
    },
    {
     "name": "stdout",
     "output_type": "stream",
     "text": [
      "chunks for patient: 0fe244f21893c45fbb877f54d008518b : 10580\n"
     ]
    },
    {
     "name": "stderr",
     "output_type": "stream",
     "text": [
      "\r",
      "          \r",
      "\r",
      "          \r",
      "  8%|▊         | 132/1595 [03:54<43:21,  1.78s/it]\r",
      "  8%|▊         | 133/1595 [03:54<43:51,  1.80s/it]"
     ]
    },
    {
     "name": "stdout",
     "output_type": "stream",
     "text": [
      "chunks for patient: ff5d8e90500cf324e7b04a2f07cf0399 : 14375\n"
     ]
    },
    {
     "name": "stderr",
     "output_type": "stream",
     "text": [
      "\r",
      "          \r",
      "\r",
      "          \r",
      "  8%|▊         | 133/1595 [03:56<43:19,  1.78s/it]\r",
      "  8%|▊         | 134/1595 [03:56<43:10,  1.77s/it]"
     ]
    },
    {
     "name": "stdout",
     "output_type": "stream",
     "text": [
      "chunks for patient: 33da5fb759223c316e8cec9d884d1584 : 12167\n"
     ]
    },
    {
     "name": "stderr",
     "output_type": "stream",
     "text": [
      "\r",
      "          \r",
      "\r",
      "          \r",
      "  8%|▊         | 134/1595 [03:57<43:14,  1.78s/it]\r",
      "  8%|▊         | 135/1595 [03:57<41:00,  1.69s/it]"
     ]
    },
    {
     "name": "stdout",
     "output_type": "stream",
     "text": [
      "chunks for patient: b0599ad2f33276e7cd065eaa8dcec8a2 : 10648\n"
     ]
    },
    {
     "name": "stderr",
     "output_type": "stream",
     "text": [
      "\r",
      "          \r",
      "\r",
      "          \r",
      "  8%|▊         | 135/1595 [04:00<43:17,  1.78s/it]\r",
      "  9%|▊         | 136/1595 [04:00<44:52,  1.85s/it]"
     ]
    },
    {
     "name": "stdout",
     "output_type": "stream",
     "text": [
      "chunks for patient: 081f4a90f24ac33c14b61b97969b7f81 : 16224\n"
     ]
    },
    {
     "name": "stderr",
     "output_type": "stream",
     "text": [
      "\r",
      "          \r",
      "\r",
      "          \r",
      "  9%|▊         | 136/1595 [04:02<43:24,  1.79s/it]\r",
      "  9%|▊         | 137/1595 [04:02<50:28,  2.08s/it]"
     ]
    },
    {
     "name": "stdout",
     "output_type": "stream",
     "text": [
      "chunks for patient: 74b1b748971c474a8023f6406c54b18a : 21866\n"
     ]
    },
    {
     "name": "stderr",
     "output_type": "stream",
     "text": [
      "\r",
      "          \r",
      "\r",
      "          \r",
      "  9%|▊         | 137/1595 [04:04<43:23,  1.79s/it]\r",
      "  9%|▊         | 138/1595 [04:04<48:51,  2.01s/it]"
     ]
    },
    {
     "name": "stdout",
     "output_type": "stream",
     "text": [
      "chunks for patient: 521924ac2f00a62cc63f679de7e599cd : 13225\n"
     ]
    },
    {
     "name": "stderr",
     "output_type": "stream",
     "text": [
      "\r",
      "          \r",
      "\r",
      "          \r",
      "  9%|▊         | 138/1595 [04:06<43:20,  1.79s/it]\r",
      "  9%|▊         | 139/1595 [04:06<46:32,  1.92s/it]"
     ]
    },
    {
     "name": "stdout",
     "output_type": "stream",
     "text": [
      "chunks for patient: 404e5dd2b032a223282f5a5e73c05418 : 9261\n"
     ]
    },
    {
     "name": "stderr",
     "output_type": "stream",
     "text": [
      "\r",
      "          \r",
      "\r",
      "          \r",
      "  9%|▊         | 139/1595 [04:08<43:23,  1.79s/it]\r",
      "  9%|▉         | 140/1595 [04:08<48:22,  1.99s/it]"
     ]
    },
    {
     "name": "stdout",
     "output_type": "stream",
     "text": [
      "chunks for patient: 0268f3a7a17412178cfb039e71799a80 : 14375\n"
     ]
    },
    {
     "name": "stderr",
     "output_type": "stream",
     "text": [
      "\r",
      "          \r",
      "\r",
      "          \r",
      "  9%|▉         | 140/1595 [04:11<43:33,  1.80s/it]\r",
      "  9%|▉         | 141/1595 [04:11<55:40,  2.30s/it]"
     ]
    },
    {
     "name": "stdout",
     "output_type": "stream",
     "text": [
      "chunks for patient: e858263b89f0bb57597bcff325eaeecf : 23064\n"
     ]
    },
    {
     "name": "stderr",
     "output_type": "stream",
     "text": [
      "\r",
      "          \r",
      "\r",
      "          \r",
      "  9%|▉         | 141/1595 [04:13<43:36,  1.80s/it]\r",
      "  9%|▉         | 142/1595 [04:13<55:13,  2.28s/it]"
     ]
    },
    {
     "name": "stdout",
     "output_type": "stream",
     "text": [
      "chunks for patient: 3f057e68a02e9951b268227649f4a7d6 : 15000\n"
     ]
    },
    {
     "name": "stderr",
     "output_type": "stream",
     "text": [
      "\r",
      "          \r",
      "\r",
      "          \r",
      "  9%|▉         | 142/1595 [04:16<43:39,  1.80s/it]\r",
      "  9%|▉         | 143/1595 [04:16<54:59,  2.27s/it]"
     ]
    },
    {
     "name": "stdout",
     "output_type": "stream",
     "text": [
      "chunks for patient: ef3be197823bfa8c6976ca2621e253d5 : 13750\n"
     ]
    },
    {
     "name": "stderr",
     "output_type": "stream",
     "text": [
      "\r",
      "          \r",
      "\r",
      "          \r",
      "  9%|▉         | 143/1595 [04:18<43:48,  1.81s/it]\r",
      "  9%|▉         | 144/1595 [04:18<58:57,  2.44s/it]"
     ]
    },
    {
     "name": "stdout",
     "output_type": "stream",
     "text": [
      "chunks for patient: 2a48f50391e22040f28e258a74dcaf95 : 18225\n"
     ]
    },
    {
     "name": "stderr",
     "output_type": "stream",
     "text": [
      "\r",
      "          \r",
      "\r",
      "          \r",
      "  9%|▉         | 144/1595 [04:21<43:55,  1.82s/it]\r",
      "  9%|▉         | 145/1595 [04:21<1:00:47,  2.52s/it]"
     ]
    },
    {
     "name": "stdout",
     "output_type": "stream",
     "text": [
      "chunks for patient: be024b0b5cf93c597758e65f348475af : 20384\n"
     ]
    },
    {
     "name": "stderr",
     "output_type": "stream",
     "text": [
      "\r",
      "          \r",
      "\r",
      "          \r",
      "  9%|▉         | 145/1595 [04:23<43:59,  1.82s/it]\r",
      "  9%|▉         | 146/1595 [04:23<1:00:17,  2.50s/it]"
     ]
    },
    {
     "name": "stdout",
     "output_type": "stream",
     "text": [
      "chunks for patient: df54dc42705decd3f75ec8fd8040e76e : 16224\n"
     ]
    },
    {
     "name": "stderr",
     "output_type": "stream",
     "text": [
      "\r",
      "          \r",
      "\r",
      "          \r",
      "  9%|▉         | 146/1595 [04:26<44:00,  1.82s/it]\r",
      "  9%|▉         | 147/1595 [04:26<57:18,  2.37s/it]  "
     ]
    },
    {
     "name": "stdout",
     "output_type": "stream",
     "text": [
      "chunks for patient: eef0e41b1a96cf8c55723fa6aa2f3dc6 : 15548\n"
     ]
    },
    {
     "name": "stderr",
     "output_type": "stream",
     "text": [
      "\r",
      "          \r",
      "\r",
      "          \r",
      "  9%|▉         | 147/1595 [04:27<43:54,  1.82s/it]\r",
      "  9%|▉         | 148/1595 [04:27<49:57,  2.07s/it]"
     ]
    },
    {
     "name": "stdout",
     "output_type": "stream",
     "text": [
      "chunks for patient: 4cc309d81bf3685d7def772862375a2a : 10143\n"
     ]
    },
    {
     "name": "stderr",
     "output_type": "stream",
     "text": [
      "\r",
      "          \r",
      "\r",
      "          \r",
      "  9%|▉         | 148/1595 [04:29<43:53,  1.82s/it]\r",
      "  9%|▉         | 149/1595 [04:29<48:52,  2.03s/it]"
     ]
    },
    {
     "name": "stdout",
     "output_type": "stream",
     "text": [
      "chunks for patient: bca9f24f465ae61a03e35a1f682270bd : 12500\n"
     ]
    },
    {
     "name": "stderr",
     "output_type": "stream",
     "text": [
      "\r",
      "          \r",
      "\r",
      "          \r",
      "  9%|▉         | 149/1595 [04:31<43:55,  1.82s/it]\r",
      "  9%|▉         | 150/1595 [04:31<50:16,  2.09s/it]"
     ]
    },
    {
     "name": "stdout",
     "output_type": "stream",
     "text": [
      "chunks for patient: 95a98df466d4f6c6689908ea9a8f324b : 16767\n"
     ]
    },
    {
     "name": "stderr",
     "output_type": "stream",
     "text": [
      "\r",
      "          \r",
      "\r",
      "          \r",
      "  9%|▉         | 150/1595 [04:33<43:57,  1.83s/it]\r",
      "  9%|▉         | 151/1595 [04:33<50:50,  2.11s/it]"
     ]
    },
    {
     "name": "stdout",
     "output_type": "stream",
     "text": [
      "chunks for patient: 67ccc2ecd7716e1cab05caaedea99f4b : 16250\n"
     ]
    },
    {
     "name": "stderr",
     "output_type": "stream",
     "text": [
      "\r",
      "          \r",
      "\r",
      "          \r",
      "  9%|▉         | 151/1595 [04:35<43:55,  1.83s/it]\r",
      " 10%|▉         | 152/1595 [04:35<49:01,  2.04s/it]"
     ]
    },
    {
     "name": "stdout",
     "output_type": "stream",
     "text": [
      "chunks for patient: 3557455d81f42ee54ad0544f36933e9a : 13824\n"
     ]
    },
    {
     "name": "stderr",
     "output_type": "stream",
     "text": [
      "\r",
      "          \r",
      "\r",
      "          \r",
      " 10%|▉         | 152/1595 [04:37<43:52,  1.82s/it]\r",
      " 10%|▉         | 153/1595 [04:37<46:30,  1.93s/it]"
     ]
    },
    {
     "name": "stdout",
     "output_type": "stream",
     "text": [
      "chunks for patient: 04fca9fbec0b803326488ade96897f6e : 13225\n"
     ]
    },
    {
     "name": "stderr",
     "output_type": "stream",
     "text": [
      "\r",
      "          \r",
      "\r",
      "          \r",
      " 10%|▉         | 153/1595 [04:40<44:00,  1.83s/it]\r",
      " 10%|▉         | 154/1595 [04:40<52:45,  2.20s/it]"
     ]
    },
    {
     "name": "stdout",
     "output_type": "stream",
     "text": [
      "chunks for patient: 844032970cb66839f748512acba0be8e : 17500\n"
     ]
    },
    {
     "name": "stderr",
     "output_type": "stream",
     "text": [
      "\r",
      "          \r",
      "\r",
      "          \r",
      " 10%|▉         | 154/1595 [04:42<44:00,  1.83s/it]\r",
      " 10%|▉         | 155/1595 [04:42<51:25,  2.14s/it]"
     ]
    },
    {
     "name": "stdout",
     "output_type": "stream",
     "text": [
      "chunks for patient: 135f21a84ac903a1d8dfbb0dfe46d792 : 14872\n"
     ]
    },
    {
     "name": "stderr",
     "output_type": "stream",
     "text": [
      "\r",
      "          \r",
      "\r",
      "          \r",
      " 10%|▉         | 155/1595 [04:43<43:58,  1.83s/it]\r",
      " 10%|▉         | 156/1595 [04:43<49:10,  2.05s/it]"
     ]
    },
    {
     "name": "stdout",
     "output_type": "stream",
     "text": [
      "chunks for patient: c3e8db4f544e2d4ecb01c59551eb8ef0 : 10143\n"
     ]
    },
    {
     "name": "stderr",
     "output_type": "stream",
     "text": [
      "\r",
      "          \r",
      "\r",
      "          \r",
      " 10%|▉         | 156/1595 [04:45<43:54,  1.83s/it]\r",
      " 10%|▉         | 157/1595 [04:45<46:11,  1.93s/it]"
     ]
    },
    {
     "name": "stdout",
     "output_type": "stream",
     "text": [
      "chunks for patient: c0c5a155e6e59588783c2964975e7e1e : 11025\n"
     ]
    },
    {
     "name": "stderr",
     "output_type": "stream",
     "text": [
      "\r",
      "          \r",
      "\r",
      "          \r",
      " 10%|▉         | 157/1595 [04:47<43:51,  1.83s/it]\r",
      " 10%|▉         | 158/1595 [04:47<44:31,  1.86s/it]"
     ]
    },
    {
     "name": "stdout",
     "output_type": "stream",
     "text": [
      "chunks for patient: 8be7a7cc747365030bee8297221ab5bc : 9702\n"
     ]
    },
    {
     "name": "stderr",
     "output_type": "stream",
     "text": [
      "\r",
      "          \r",
      "\r",
      "          \r",
      " 10%|▉         | 158/1595 [04:49<43:50,  1.83s/it]\r",
      " 10%|▉         | 159/1595 [04:49<44:33,  1.86s/it]"
     ]
    },
    {
     "name": "stdout",
     "output_type": "stream",
     "text": [
      "chunks for patient: 2c51b9e7af4850d817f4aa0ddf90b852 : 12167\n"
     ]
    },
    {
     "name": "stderr",
     "output_type": "stream",
     "text": [
      "\r",
      "          \r",
      "\r",
      "          \r",
      " 10%|▉         | 159/1595 [04:50<43:44,  1.83s/it]\r",
      " 10%|█         | 160/1595 [04:50<41:26,  1.73s/it]"
     ]
    },
    {
     "name": "stdout",
     "output_type": "stream",
     "text": [
      "chunks for patient: 3aedb9550977ed35e7d44555207ef739 : 8464\n"
     ]
    },
    {
     "name": "stderr",
     "output_type": "stream",
     "text": [
      "\r",
      "          \r",
      "\r",
      "          \r",
      " 10%|█         | 160/1595 [04:52<43:45,  1.83s/it]\r",
      " 10%|█         | 161/1595 [04:52<43:58,  1.84s/it]"
     ]
    },
    {
     "name": "stdout",
     "output_type": "stream",
     "text": [
      "chunks for patient: b82efe72526c59a96257208d95e54baf : 18032\n"
     ]
    },
    {
     "name": "stderr",
     "output_type": "stream",
     "text": [
      "\r",
      "          \r",
      "\r",
      "          \r",
      " 10%|█         | 161/1595 [04:54<43:39,  1.83s/it]\r",
      " 10%|█         | 162/1595 [04:54<40:56,  1.71s/it]"
     ]
    },
    {
     "name": "stdout",
     "output_type": "stream",
     "text": [
      "chunks for patient: 58e4646cbead2fc4a6a1f86bf806e76f : 11025\n"
     ]
    },
    {
     "name": "stderr",
     "output_type": "stream",
     "text": [
      "\r",
      "          \r",
      "\r",
      "          \r",
      " 10%|█         | 162/1595 [04:55<43:33,  1.82s/it]\r",
      " 10%|█         | 163/1595 [04:55<38:13,  1.60s/it]"
     ]
    },
    {
     "name": "stdout",
     "output_type": "stream",
     "text": [
      "chunks for patient: af6d573b8c6804e14e3a7b07a376e593 : 10584\n"
     ]
    },
    {
     "name": "stderr",
     "output_type": "stream",
     "text": [
      "\r",
      "          \r",
      "\r",
      "          \r",
      " 10%|█         | 163/1595 [04:57<43:30,  1.82s/it]\r",
      " 10%|█         | 164/1595 [04:57<38:25,  1.61s/it]"
     ]
    },
    {
     "name": "stdout",
     "output_type": "stream",
     "text": [
      "chunks for patient: 820cc2a44d87d9b3798782f7cc6f2a74 : 11616\n"
     ]
    },
    {
     "name": "stderr",
     "output_type": "stream",
     "text": [
      "\r",
      "          \r",
      "\r",
      "          \r",
      " 10%|█         | 164/1595 [04:58<43:27,  1.82s/it]\r",
      " 10%|█         | 165/1595 [04:58<39:29,  1.66s/it]"
     ]
    },
    {
     "name": "stdout",
     "output_type": "stream",
     "text": [
      "chunks for patient: d1131708024b32032ade1ef48d115915 : 12167\n"
     ]
    },
    {
     "name": "stderr",
     "output_type": "stream",
     "text": [
      "\r",
      "          \r",
      "\r",
      "          \r",
      " 10%|█         | 165/1595 [05:01<43:29,  1.82s/it]\r",
      " 10%|█         | 166/1595 [05:01<43:11,  1.81s/it]"
     ]
    },
    {
     "name": "stdout",
     "output_type": "stream",
     "text": [
      "chunks for patient: 4af17bcb31669a9eab0b6ef8e22a8dcf : 16224\n"
     ]
    },
    {
     "name": "stderr",
     "output_type": "stream",
     "text": [
      "\r",
      "          \r",
      "\r",
      "          \r",
      " 10%|█         | 166/1595 [05:02<43:23,  1.82s/it]\r",
      " 10%|█         | 167/1595 [05:02<40:25,  1.70s/it]"
     ]
    },
    {
     "name": "stdout",
     "output_type": "stream",
     "text": [
      "chunks for patient: cc24c86f88a9d17c04255a4d264030e6 : 8379\n"
     ]
    },
    {
     "name": "stderr",
     "output_type": "stream",
     "text": [
      "\r",
      "          \r",
      "\r",
      "          \r",
      " 10%|█         | 167/1595 [05:04<43:26,  1.83s/it]\r",
      " 11%|█         | 168/1595 [05:04<44:49,  1.88s/it]"
     ]
    },
    {
     "name": "stdout",
     "output_type": "stream",
     "text": [
      "chunks for patient: c690f27c439a58684910d04d6409cd17 : 16224\n"
     ]
    },
    {
     "name": "stderr",
     "output_type": "stream",
     "text": [
      "\r",
      "          \r",
      "\r",
      "          \r",
      " 11%|█         | 168/1595 [05:06<43:22,  1.82s/it]\r",
      " 11%|█         | 169/1595 [05:06<42:25,  1.78s/it]"
     ]
    },
    {
     "name": "stdout",
     "output_type": "stream",
     "text": [
      "chunks for patient: c6ba816fd9c99c11ceb189ac24d2d2f6 : 9702\n"
     ]
    },
    {
     "name": "stderr",
     "output_type": "stream",
     "text": [
      "\r",
      "          \r",
      "\r",
      "          \r",
      " 11%|█         | 169/1595 [05:08<43:23,  1.83s/it]\r",
      " 11%|█         | 170/1595 [05:08<45:16,  1.91s/it]"
     ]
    },
    {
     "name": "stdout",
     "output_type": "stream",
     "text": [
      "chunks for patient: 0c0de3749d4fe175b7a5098b060982a1 : 15548\n"
     ]
    },
    {
     "name": "stderr",
     "output_type": "stream",
     "text": [
      "\r",
      "          \r",
      "\r",
      "          \r",
      " 11%|█         | 170/1595 [05:11<43:28,  1.83s/it]\r",
      " 11%|█         | 171/1595 [05:11<50:11,  2.12s/it]"
     ]
    },
    {
     "name": "stdout",
     "output_type": "stream",
     "text": [
      "chunks for patient: 90409f7fcfec3581033559f8340e48a9 : 16900\n"
     ]
    },
    {
     "name": "stderr",
     "output_type": "stream",
     "text": [
      "\r",
      "          \r",
      "\r",
      "          \r",
      " 11%|█         | 171/1595 [05:13<43:28,  1.83s/it]\r",
      " 11%|█         | 172/1595 [05:13<50:10,  2.12s/it]"
     ]
    },
    {
     "name": "stdout",
     "output_type": "stream",
     "text": [
      "chunks for patient: 1615ace332b9d79be4e0e9fa32c71e9e : 14196\n"
     ]
    },
    {
     "name": "stderr",
     "output_type": "stream",
     "text": [
      "\r",
      "          \r",
      "\r",
      "          \r",
      " 11%|█         | 172/1595 [05:15<43:33,  1.84s/it]\r",
      " 11%|█         | 173/1595 [05:15<53:34,  2.26s/it]"
     ]
    },
    {
     "name": "stdout",
     "output_type": "stream",
     "text": [
      "chunks for patient: bfb3e2d11c149036bbe12566ef6b933c : 20700\n"
     ]
    },
    {
     "name": "stderr",
     "output_type": "stream",
     "text": [
      "\r",
      "          \r",
      "\r",
      "          \r",
      " 11%|█         | 173/1595 [05:18<43:33,  1.84s/it]\r",
      " 11%|█         | 174/1595 [05:18<52:48,  2.23s/it]"
     ]
    },
    {
     "name": "stdout",
     "output_type": "stream",
     "text": [
      "chunks for patient: 335b129aacabdf9269b0bb12f148d15c : 15000\n"
     ]
    },
    {
     "name": "stderr",
     "output_type": "stream",
     "text": [
      "\r",
      "          \r",
      "\r",
      "          \r",
      " 11%|█         | 174/1595 [05:20<43:36,  1.84s/it]\r",
      " 11%|█         | 175/1595 [05:20<53:23,  2.26s/it]"
     ]
    },
    {
     "name": "stdout",
     "output_type": "stream",
     "text": [
      "chunks for patient: 6a7f1fd0196a97568f2991c885ac1c0b : 15548\n"
     ]
    },
    {
     "name": "stderr",
     "output_type": "stream",
     "text": [
      "\r",
      "          \r",
      "\r",
      "          \r",
      " 11%|█         | 175/1595 [05:23<43:43,  1.85s/it]\r",
      " 11%|█         | 176/1595 [05:23<58:29,  2.47s/it]"
     ]
    },
    {
     "name": "stdout",
     "output_type": "stream",
     "text": [
      "chunks for patient: 7bc437435c5677d361177adb80547bd0 : 21866\n"
     ]
    },
    {
     "name": "stderr",
     "output_type": "stream",
     "text": [
      "\r",
      "          \r",
      "\r",
      "          \r",
      " 11%|█         | 176/1595 [05:25<43:45,  1.85s/it]\r",
      " 11%|█         | 177/1595 [05:25<57:48,  2.45s/it]"
     ]
    },
    {
     "name": "stdout",
     "output_type": "stream",
     "text": [
      "chunks for patient: a34714908825a61a229bf1457c21ff1f : 18252\n"
     ]
    },
    {
     "name": "stderr",
     "output_type": "stream",
     "text": [
      "\r",
      "          \r",
      "\r",
      "          \r",
      " 11%|█         | 177/1595 [05:27<43:42,  1.85s/it]\r",
      " 11%|█         | 178/1595 [05:27<51:54,  2.20s/it]"
     ]
    },
    {
     "name": "stdout",
     "output_type": "stream",
     "text": [
      "chunks for patient: caf9672e7177c141dd3d9c8631af6b8d : 11616\n"
     ]
    },
    {
     "name": "stderr",
     "output_type": "stream",
     "text": [
      "\r",
      "          \r",
      "\r",
      "          \r",
      " 11%|█         | 178/1595 [05:28<43:36,  1.85s/it]\r",
      " 11%|█         | 179/1595 [05:28<45:44,  1.94s/it]"
     ]
    },
    {
     "name": "stdout",
     "output_type": "stream",
     "text": [
      "chunks for patient: 0acbebb8d463b4b9ca88cf38431aac69 : 10800\n"
     ]
    },
    {
     "name": "stderr",
     "output_type": "stream",
     "text": [
      "\r",
      "          \r",
      "\r",
      "          \r",
      " 11%|█         | 179/1595 [05:31<43:40,  1.85s/it]\r",
      " 11%|█▏        | 180/1595 [05:31<50:56,  2.16s/it]"
     ]
    },
    {
     "name": "stdout",
     "output_type": "stream",
     "text": [
      "chunks for patient: 9e249726076fa41af6766e12957a7e9d : 17576\n"
     ]
    },
    {
     "name": "stderr",
     "output_type": "stream",
     "text": [
      "\r",
      "          \r",
      "\r",
      "          \r",
      " 11%|█▏        | 180/1595 [05:33<43:42,  1.85s/it]\r",
      " 11%|█▏        | 181/1595 [05:33<51:59,  2.21s/it]"
     ]
    },
    {
     "name": "stdout",
     "output_type": "stream",
     "text": [
      "chunks for patient: 44988c6efa451e8d496188cb30669d44 : 17576\n"
     ]
    },
    {
     "name": "stderr",
     "output_type": "stream",
     "text": [
      "\r",
      "          \r",
      "\r",
      "          \r",
      " 11%|█▏        | 181/1595 [05:35<43:38,  1.85s/it]\r",
      " 11%|█▏        | 182/1595 [05:35<47:10,  2.00s/it]"
     ]
    },
    {
     "name": "stdout",
     "output_type": "stream",
     "text": [
      "chunks for patient: 529e4dd38822b413a4a87e6f4faa5f23 : 10164\n"
     ]
    },
    {
     "name": "stderr",
     "output_type": "stream",
     "text": [
      "\r",
      "          \r",
      "\r",
      "          \r",
      " 11%|█▏        | 182/1595 [05:36<43:33,  1.85s/it]\r",
      " 11%|█▏        | 183/1595 [05:36<43:20,  1.84s/it]"
     ]
    },
    {
     "name": "stdout",
     "output_type": "stream",
     "text": [
      "chunks for patient: 0fe9dd36f4dece7f4ec017433c4d4a50 : 10648\n"
     ]
    },
    {
     "name": "stderr",
     "output_type": "stream",
     "text": [
      "\r",
      "          \r",
      "\r",
      "          \r",
      " 11%|█▏        | 183/1595 [05:38<43:32,  1.85s/it]\r",
      " 12%|█▏        | 184/1595 [05:38<43:51,  1.87s/it]"
     ]
    },
    {
     "name": "stdout",
     "output_type": "stream",
     "text": [
      "chunks for patient: 95edad4544e59e37188dd33db40cecb7 : 13754\n"
     ]
    },
    {
     "name": "stderr",
     "output_type": "stream",
     "text": [
      "\r",
      "          \r",
      "\r",
      "          \r",
      " 12%|█▏        | 184/1595 [05:39<43:26,  1.85s/it]\r",
      " 12%|█▏        | 185/1595 [05:39<40:19,  1.72s/it]"
     ]
    },
    {
     "name": "stdout",
     "output_type": "stream",
     "text": [
      "chunks for patient: 9ca18e68b6b8d9c3112b4b69b7d6fad5 : 9196\n"
     ]
    },
    {
     "name": "stderr",
     "output_type": "stream",
     "text": [
      "\r",
      "          \r",
      "\r",
      "          \r",
      " 12%|█▏        | 185/1595 [05:41<43:25,  1.85s/it]\r",
      " 12%|█▏        | 186/1595 [05:41<41:51,  1.78s/it]"
     ]
    },
    {
     "name": "stdout",
     "output_type": "stream",
     "text": [
      "chunks for patient: c51d53068736c39d56b99074d2e29e12 : 14375\n"
     ]
    },
    {
     "name": "stderr",
     "output_type": "stream",
     "text": [
      "\r",
      "          \r",
      "\r",
      "          \r",
      " 12%|█▏        | 186/1595 [05:44<43:30,  1.85s/it]\r",
      " 12%|█▏        | 187/1595 [05:44<48:14,  2.06s/it]"
     ]
    },
    {
     "name": "stdout",
     "output_type": "stream",
     "text": [
      "chunks for patient: 60638c0dcee9e5adfcac3b4f57d1366f : 16224\n"
     ]
    },
    {
     "name": "stderr",
     "output_type": "stream",
     "text": [
      "\r",
      "          \r",
      "\r",
      "          \r",
      " 12%|█▏        | 187/1595 [05:47<43:33,  1.86s/it]\r",
      " 12%|█▏        | 188/1595 [05:47<51:19,  2.19s/it]"
     ]
    },
    {
     "name": "stdout",
     "output_type": "stream",
     "text": [
      "chunks for patient: 748bc72733efdabb4c239afb612bf7d5 : 18032\n"
     ]
    },
    {
     "name": "stderr",
     "output_type": "stream",
     "text": [
      "\r",
      "          \r",
      "\r",
      "          \r",
      " 12%|█▏        | 188/1595 [05:48<43:28,  1.85s/it]\r",
      " 12%|█▏        | 189/1595 [05:48<46:44,  1.99s/it]"
     ]
    },
    {
     "name": "stdout",
     "output_type": "stream",
     "text": [
      "chunks for patient: d5a0333be8795805fc39509f817780ee : 9200\n"
     ]
    },
    {
     "name": "stderr",
     "output_type": "stream",
     "text": [
      "\r",
      "          \r",
      "\r",
      "          \r",
      " 12%|█▏        | 189/1595 [05:50<43:28,  1.86s/it]\r",
      " 12%|█▏        | 190/1595 [05:50<47:16,  2.02s/it]"
     ]
    },
    {
     "name": "stdout",
     "output_type": "stream",
     "text": [
      "chunks for patient: aa528ce110f888679a4027513aeb442b : 14872\n"
     ]
    },
    {
     "name": "stderr",
     "output_type": "stream",
     "text": [
      "\r",
      "          \r",
      "\r",
      "          \r",
      " 12%|█▏        | 190/1595 [05:52<43:29,  1.86s/it]\r",
      " 12%|█▏        | 191/1595 [05:52<48:37,  2.08s/it]"
     ]
    },
    {
     "name": "stdout",
     "output_type": "stream",
     "text": [
      "chunks for patient: f467795ce3b50a771085d79ae8d29ecc : 18225\n"
     ]
    },
    {
     "name": "stderr",
     "output_type": "stream",
     "text": [
      "\r",
      "          \r",
      "\r",
      "          \r",
      " 12%|█▏        | 191/1595 [05:54<43:26,  1.86s/it]\r",
      " 12%|█▏        | 192/1595 [05:54<46:25,  1.99s/it]"
     ]
    },
    {
     "name": "stdout",
     "output_type": "stream",
     "text": [
      "chunks for patient: 04e5d435fa01b0958e3274be73312cac : 13754\n"
     ]
    },
    {
     "name": "stderr",
     "output_type": "stream",
     "text": [
      "\r",
      "          \r",
      "\r",
      "          \r",
      " 12%|█▏        | 192/1595 [05:56<43:25,  1.86s/it]\r",
      " 12%|█▏        | 193/1595 [05:56<45:59,  1.97s/it]"
     ]
    },
    {
     "name": "stdout",
     "output_type": "stream",
     "text": [
      "chunks for patient: b635cda3e75b4b7238c18c6a5f1858f6 : 10648\n"
     ]
    },
    {
     "name": "stderr",
     "output_type": "stream",
     "text": [
      "\r",
      "          \r",
      "\r",
      "          \r",
      " 12%|█▏        | 193/1595 [05:58<43:27,  1.86s/it]\r",
      " 12%|█▏        | 194/1595 [05:58<48:52,  2.09s/it]"
     ]
    },
    {
     "name": "stdout",
     "output_type": "stream",
     "text": [
      "chunks for patient: f79681d8561b6443a5b95f78f3ea6411 : 17496\n"
     ]
    },
    {
     "name": "stderr",
     "output_type": "stream",
     "text": [
      "\r",
      "          \r",
      "\r",
      "          \r",
      " 12%|█▏        | 194/1595 [06:00<43:22,  1.86s/it]\r",
      " 12%|█▏        | 195/1595 [06:00<44:01,  1.89s/it]"
     ]
    },
    {
     "name": "stdout",
     "output_type": "stream",
     "text": [
      "chunks for patient: af2b9f7d489ffab8e3590658853cacf8 : 9261\n"
     ]
    },
    {
     "name": "stderr",
     "output_type": "stream",
     "text": [
      "\r",
      "          \r",
      "\r",
      "          \r",
      " 12%|█▏        | 195/1595 [06:03<43:27,  1.86s/it]\r",
      " 12%|█▏        | 196/1595 [06:03<50:33,  2.17s/it]"
     ]
    },
    {
     "name": "stdout",
     "output_type": "stream",
     "text": [
      "chunks for patient: 8a1e5830a16db34b580202f8b6dbbd3d : 20184\n"
     ]
    },
    {
     "name": "stderr",
     "output_type": "stream",
     "text": [
      "\r",
      "          \r",
      "\r",
      "          \r",
      " 12%|█▏        | 196/1595 [06:05<43:27,  1.86s/it]\r",
      " 12%|█▏        | 197/1595 [06:05<50:25,  2.16s/it]"
     ]
    },
    {
     "name": "stdout",
     "output_type": "stream",
     "text": [
      "chunks for patient: 402a18fa05523f80abb1e6d97793cc19 : 16250\n"
     ]
    },
    {
     "name": "stderr",
     "output_type": "stream",
     "text": [
      "\r",
      "          \r",
      "\r",
      "          \r",
      " 12%|█▏        | 197/1595 [06:07<43:26,  1.86s/it]\r",
      " 12%|█▏        | 198/1595 [06:07<49:07,  2.11s/it]"
     ]
    },
    {
     "name": "stdout",
     "output_type": "stream",
     "text": [
      "chunks for patient: 338f9c6da34f61091a4c44b074b2f9e3 : 13824\n"
     ]
    },
    {
     "name": "stderr",
     "output_type": "stream",
     "text": [
      "\r",
      "          \r",
      "\r",
      "          \r",
      " 12%|█▏        | 198/1595 [06:09<43:23,  1.86s/it]\r",
      " 12%|█▏        | 199/1595 [06:09<46:20,  1.99s/it]"
     ]
    },
    {
     "name": "stdout",
     "output_type": "stream",
     "text": [
      "chunks for patient: 82289d2db2b1e33d68ba6736b21b0e43 : 11616\n"
     ]
    },
    {
     "name": "stderr",
     "output_type": "stream",
     "text": [
      "\r",
      "          \r",
      "\r",
      "          \r",
      " 12%|█▏        | 199/1595 [06:10<43:20,  1.86s/it]\r",
      " 13%|█▎        | 200/1595 [06:10<44:03,  1.90s/it]"
     ]
    },
    {
     "name": "stdout",
     "output_type": "stream",
     "text": [
      "chunks for patient: 4d621b0adb6b46b353056e1843621c5f : 13824\n"
     ]
    },
    {
     "name": "stderr",
     "output_type": "stream",
     "text": [
      "\r",
      "          \r",
      "\r",
      "          \r",
      " 13%|█▎        | 200/1595 [06:13<43:27,  1.87s/it]\r",
      " 13%|█▎        | 201/1595 [06:13<52:39,  2.27s/it]"
     ]
    },
    {
     "name": "stdout",
     "output_type": "stream",
     "text": [
      "chunks for patient: 08acb3440eb23385724d006403feb585 : 24389\n"
     ]
    },
    {
     "name": "stderr",
     "output_type": "stream",
     "text": [
      "\r",
      "          \r",
      "\r",
      "          \r",
      " 13%|█▎        | 201/1595 [06:15<43:21,  1.87s/it]\r",
      " 13%|█▎        | 202/1595 [06:15<45:12,  1.95s/it]"
     ]
    },
    {
     "name": "stdout",
     "output_type": "stream",
     "text": [
      "chunks for patient: b0d5ba3a5ac7998791f7e484c070dcb9 : 7220\n"
     ]
    },
    {
     "name": "stderr",
     "output_type": "stream",
     "text": [
      "\r",
      "          \r",
      "\r",
      "          \r",
      " 13%|█▎        | 202/1595 [06:16<43:18,  1.87s/it]\r",
      " 13%|█▎        | 203/1595 [06:16<43:35,  1.88s/it]"
     ]
    },
    {
     "name": "stdout",
     "output_type": "stream",
     "text": [
      "chunks for patient: b79126e0038faca869185cfe49a4e163 : 16900\n"
     ]
    },
    {
     "name": "stderr",
     "output_type": "stream",
     "text": [
      "\r",
      "          \r",
      "\r",
      "          \r",
      " 13%|█▎        | 203/1595 [06:19<43:22,  1.87s/it]\r",
      " 13%|█▎        | 204/1595 [06:19<49:28,  2.13s/it]"
     ]
    },
    {
     "name": "stdout",
     "output_type": "stream",
     "text": [
      "chunks for patient: 8a97ff581c17a49a3ef97144efde8a19 : 19343\n"
     ]
    },
    {
     "name": "stderr",
     "output_type": "stream",
     "text": [
      "\r",
      "          \r",
      "\r",
      "          \r",
      " 13%|█▎        | 204/1595 [06:21<43:19,  1.87s/it]\r",
      " 13%|█▎        | 205/1595 [06:21<46:14,  2.00s/it]"
     ]
    },
    {
     "name": "stdout",
     "output_type": "stream",
     "text": [
      "chunks for patient: 7b84056d69644df2a9452a1746d14d39 : 13248\n"
     ]
    },
    {
     "name": "stderr",
     "output_type": "stream",
     "text": [
      "\r",
      "          \r",
      "\r",
      "          \r",
      " 13%|█▎        | 205/1595 [06:23<43:18,  1.87s/it]\r",
      " 13%|█▎        | 206/1595 [06:23<47:07,  2.04s/it]"
     ]
    },
    {
     "name": "stdout",
     "output_type": "stream",
     "text": [
      "chunks for patient: 5f4e23c0f76cd00aaaa6e03744bbc362 : 15548\n"
     ]
    },
    {
     "name": "stderr",
     "output_type": "stream",
     "text": [
      "\r",
      "          \r",
      "\r",
      "          \r",
      " 13%|█▎        | 206/1595 [06:25<43:22,  1.87s/it]\r",
      " 13%|█▎        | 207/1595 [06:25<51:24,  2.22s/it]"
     ]
    },
    {
     "name": "stdout",
     "output_type": "stream",
     "text": [
      "chunks for patient: c71d0db2086b7e2024ca9c11bd2ca504 : 18816\n"
     ]
    },
    {
     "name": "stderr",
     "output_type": "stream",
     "text": [
      "\r",
      "          \r",
      "\r",
      "          \r",
      " 13%|█▎        | 207/1595 [06:27<43:20,  1.87s/it]\r",
      " 13%|█▎        | 208/1595 [06:27<48:44,  2.11s/it]"
     ]
    },
    {
     "name": "stdout",
     "output_type": "stream",
     "text": [
      "chunks for patient: 36dcb6b7463ada9ed78ce902d6f8ddc2 : 16224\n"
     ]
    },
    {
     "name": "stderr",
     "output_type": "stream",
     "text": [
      "\r",
      "          \r",
      "\r",
      "          \r",
      " 13%|█▎        | 208/1595 [06:29<43:17,  1.87s/it]\r",
      " 13%|█▎        | 209/1595 [06:29<46:02,  1.99s/it]"
     ]
    },
    {
     "name": "stdout",
     "output_type": "stream",
     "text": [
      "chunks for patient: c0f0eb84e70b19544943bed0ea6bd374 : 14196\n"
     ]
    },
    {
     "name": "stderr",
     "output_type": "stream",
     "text": [
      "\r",
      "          \r",
      "\r",
      "          \r",
      " 13%|█▎        | 209/1595 [06:31<43:16,  1.87s/it]\r",
      " 13%|█▎        | 210/1595 [06:31<46:31,  2.02s/it]"
     ]
    },
    {
     "name": "stdout",
     "output_type": "stream",
     "text": [
      "chunks for patient: 0334c8242ce7ee1a6c1263096e4cc535 : 15552\n"
     ]
    },
    {
     "name": "stderr",
     "output_type": "stream",
     "text": [
      "\r",
      "          \r",
      "\r",
      "          \r",
      " 13%|█▎        | 210/1595 [06:34<43:19,  1.88s/it]\r",
      " 13%|█▎        | 211/1595 [06:34<49:48,  2.16s/it]"
     ]
    },
    {
     "name": "stdout",
     "output_type": "stream",
     "text": [
      "chunks for patient: 9db8f95c3240b79c32af0c0bd367dd91 : 18252\n"
     ]
    },
    {
     "name": "stderr",
     "output_type": "stream",
     "text": [
      "\r",
      "          \r",
      "\r",
      "          \r",
      " 13%|█▎        | 211/1595 [06:36<43:21,  1.88s/it]\r",
      " 13%|█▎        | 212/1595 [06:36<51:57,  2.25s/it]"
     ]
    },
    {
     "name": "stdout",
     "output_type": "stream",
     "text": [
      "chunks for patient: 89629540f3b3cbc2a18d9919facd34d0 : 18252\n"
     ]
    },
    {
     "name": "stderr",
     "output_type": "stream",
     "text": [
      "\r",
      "          \r",
      "\r",
      "          \r",
      " 13%|█▎        | 212/1595 [06:38<43:20,  1.88s/it]\r",
      " 13%|█▎        | 213/1595 [06:38<50:19,  2.18s/it]"
     ]
    },
    {
     "name": "stdout",
     "output_type": "stream",
     "text": [
      "chunks for patient: e4436b5914162ff7efea2bdfb71c19ae : 15000\n"
     ]
    },
    {
     "name": "stderr",
     "output_type": "stream",
     "text": [
      "\r",
      "          \r",
      "\r",
      "          \r",
      " 13%|█▎        | 213/1595 [06:40<43:16,  1.88s/it]\r",
      " 13%|█▎        | 214/1595 [06:40<45:46,  1.99s/it]"
     ]
    },
    {
     "name": "stdout",
     "output_type": "stream",
     "text": [
      "chunks for patient: 61ce76681b4a68b8d0f3b724c1e844b3 : 11132\n"
     ]
    },
    {
     "name": "stderr",
     "output_type": "stream",
     "text": [
      "\r",
      "          \r",
      "\r",
      "          \r",
      " 13%|█▎        | 214/1595 [06:41<43:10,  1.88s/it]\r",
      " 13%|█▎        | 215/1595 [06:41<41:01,  1.78s/it]"
     ]
    },
    {
     "name": "stdout",
     "output_type": "stream",
     "text": [
      "chunks for patient: d39d18ec79c7303a61f778f470d439ae : 9600\n"
     ]
    },
    {
     "name": "stderr",
     "output_type": "stream",
     "text": [
      "\r",
      "          \r",
      "\r",
      "          \r",
      " 13%|█▎        | 215/1595 [06:43<43:08,  1.88s/it]\r",
      " 14%|█▎        | 216/1595 [06:43<41:34,  1.81s/it]"
     ]
    },
    {
     "name": "stdout",
     "output_type": "stream",
     "text": [
      "chunks for patient: 7bcecfdddd3bd47e3b36ffb05bbdab60 : 15548\n"
     ]
    },
    {
     "name": "stderr",
     "output_type": "stream",
     "text": [
      "\r",
      "          \r",
      "\r",
      "          \r",
      " 14%|█▎        | 216/1595 [06:44<43:04,  1.87s/it]\r",
      " 14%|█▎        | 217/1595 [06:44<39:09,  1.70s/it]"
     ]
    },
    {
     "name": "stdout",
     "output_type": "stream",
     "text": [
      "chunks for patient: 1f49f0c1d7feedcae9024d251797407c : 8400\n"
     ]
    },
    {
     "name": "stderr",
     "output_type": "stream",
     "text": [
      "\r",
      "          \r",
      "\r",
      "          \r",
      " 14%|█▎        | 217/1595 [06:47<43:10,  1.88s/it]\r",
      " 14%|█▎        | 218/1595 [06:47<49:33,  2.16s/it]"
     ]
    },
    {
     "name": "stdout",
     "output_type": "stream",
     "text": [
      "chunks for patient: 799b283083f1b6547d558f063b318e78 : 25947\n"
     ]
    },
    {
     "name": "stderr",
     "output_type": "stream",
     "text": [
      "\r",
      "          \r",
      "\r",
      "          \r",
      " 14%|█▎        | 218/1595 [06:49<43:07,  1.88s/it]\r",
      " 14%|█▎        | 219/1595 [06:49<46:05,  2.01s/it]"
     ]
    },
    {
     "name": "stdout",
     "output_type": "stream",
     "text": [
      "chunks for patient: 3464083b3e6e7c11d1fba925f0b914cd : 14400\n"
     ]
    },
    {
     "name": "stderr",
     "output_type": "stream",
     "text": [
      "\r",
      "          \r",
      "\r",
      "          \r",
      " 14%|█▎        | 219/1595 [06:52<43:09,  1.88s/it]\r",
      " 14%|█▍        | 220/1595 [06:52<48:52,  2.13s/it]"
     ]
    },
    {
     "name": "stdout",
     "output_type": "stream",
     "text": [
      "chunks for patient: 21cfe28c4a891795399bb77d63e939d7 : 16900\n"
     ]
    },
    {
     "name": "stderr",
     "output_type": "stream",
     "text": [
      "\r",
      "          \r",
      "\r",
      "          \r",
      " 14%|█▍        | 220/1595 [06:54<43:13,  1.89s/it]\r",
      " 14%|█▍        | 221/1595 [06:54<54:00,  2.36s/it]"
     ]
    },
    {
     "name": "stdout",
     "output_type": "stream",
     "text": [
      "chunks for patient: b997943f8b95d72ca9a3c36f5c695412 : 16224\n"
     ]
    },
    {
     "name": "stderr",
     "output_type": "stream",
     "text": [
      "\r",
      "          \r",
      "\r",
      "          \r",
      " 14%|█▍        | 221/1595 [06:56<43:10,  1.89s/it]\r",
      " 14%|█▍        | 222/1595 [06:56<49:05,  2.15s/it]"
     ]
    },
    {
     "name": "stdout",
     "output_type": "stream",
     "text": [
      "chunks for patient: cf3034c8828df3c2c23fa697ffde07fa : 10584\n"
     ]
    },
    {
     "name": "stderr",
     "output_type": "stream",
     "text": [
      "\r",
      "          \r",
      "\r",
      "          \r",
      " 14%|█▍        | 222/1595 [06:58<43:07,  1.88s/it]\r",
      " 14%|█▍        | 223/1595 [06:58<46:14,  2.02s/it]"
     ]
    },
    {
     "name": "stdout",
     "output_type": "stream",
     "text": [
      "chunks for patient: 98ea0b7d586e5e888e31633772f4df94 : 12167\n"
     ]
    },
    {
     "name": "stderr",
     "output_type": "stream",
     "text": [
      "\r",
      "          \r",
      "\r",
      "          \r",
      " 14%|█▍        | 223/1595 [06:59<43:03,  1.88s/it]\r",
      " 14%|█▍        | 224/1595 [06:59<43:04,  1.88s/it]"
     ]
    },
    {
     "name": "stdout",
     "output_type": "stream",
     "text": [
      "chunks for patient: 592c2481f17d6a2cecfe7bbb6a27722c : 12167\n"
     ]
    },
    {
     "name": "stderr",
     "output_type": "stream",
     "text": [
      "\r",
      "          \r",
      "\r",
      "          \r",
      " 14%|█▍        | 224/1595 [07:02<43:04,  1.89s/it]\r",
      " 14%|█▍        | 225/1595 [07:02<46:48,  2.05s/it]"
     ]
    },
    {
     "name": "stdout",
     "output_type": "stream",
     "text": [
      "chunks for patient: 50cdacec399071cf70d8badd2511d0b3 : 16900\n"
     ]
    },
    {
     "name": "stderr",
     "output_type": "stream",
     "text": [
      "\r",
      "          \r",
      "\r",
      "          \r",
      " 14%|█▍        | 225/1595 [07:04<43:07,  1.89s/it]\r",
      " 14%|█▍        | 226/1595 [07:04<50:30,  2.21s/it]"
     ]
    },
    {
     "name": "stdout",
     "output_type": "stream",
     "text": [
      "chunks for patient: 184fa4ae2b7ae010625d89f10186f1c5 : 17496\n"
     ]
    },
    {
     "name": "stderr",
     "output_type": "stream",
     "text": [
      "\r",
      "          \r",
      "\r",
      "          \r",
      " 14%|█▍        | 226/1595 [07:06<43:03,  1.89s/it]\r",
      " 14%|█▍        | 227/1595 [07:06<45:40,  2.00s/it]"
     ]
    },
    {
     "name": "stdout",
     "output_type": "stream",
     "text": [
      "chunks for patient: 263fa87394ee296e31234364e75d05e2 : 11132\n"
     ]
    },
    {
     "name": "stderr",
     "output_type": "stream",
     "text": [
      "\r",
      "          \r",
      "\r",
      "          \r",
      " 14%|█▍        | 227/1595 [07:08<43:01,  1.89s/it]\r",
      " 14%|█▍        | 228/1595 [07:08<44:49,  1.97s/it]"
     ]
    },
    {
     "name": "stdout",
     "output_type": "stream",
     "text": [
      "chunks for patient: bcb416e94f3505c120a54dbfc0d5a234 : 14196\n"
     ]
    },
    {
     "name": "stderr",
     "output_type": "stream",
     "text": [
      "\r",
      "          \r",
      "\r",
      "          \r",
      " 14%|█▍        | 228/1595 [07:09<42:55,  1.88s/it]\r",
      " 14%|█▍        | 229/1595 [07:09<39:40,  1.74s/it]"
     ]
    },
    {
     "name": "stdout",
     "output_type": "stream",
     "text": [
      "chunks for patient: 74dca439eb5b6dfa5e33c6d2119630ff : 8228\n"
     ]
    },
    {
     "name": "stderr",
     "output_type": "stream",
     "text": [
      "\r",
      "          \r",
      "\r",
      "          \r",
      " 14%|█▍        | 229/1595 [07:11<42:55,  1.89s/it]\r",
      " 14%|█▍        | 230/1595 [07:11<42:47,  1.88s/it]"
     ]
    },
    {
     "name": "stdout",
     "output_type": "stream",
     "text": [
      "chunks for patient: a5bb766ab3b1bc5a8023a50a956595f2 : 14872\n"
     ]
    },
    {
     "name": "stderr",
     "output_type": "stream",
     "text": [
      "\r",
      "          \r",
      "\r",
      "          \r",
      " 14%|█▍        | 230/1595 [07:13<42:53,  1.89s/it]\r",
      " 14%|█▍        | 231/1595 [07:13<42:53,  1.89s/it]"
     ]
    },
    {
     "name": "stdout",
     "output_type": "stream",
     "text": [
      "chunks for patient: 2b0ea2696c8a02af5ac22f142be28e17 : 13824\n"
     ]
    },
    {
     "name": "stderr",
     "output_type": "stream",
     "text": [
      "\r",
      "          \r",
      "\r",
      "          \r",
      " 14%|█▍        | 231/1595 [07:16<42:55,  1.89s/it]\r",
      " 15%|█▍        | 232/1595 [07:16<47:49,  2.11s/it]"
     ]
    },
    {
     "name": "stdout",
     "output_type": "stream",
     "text": [
      "chunks for patient: ffe02fe7d2223743f7fb455dfaff3842 : 21025\n"
     ]
    },
    {
     "name": "stderr",
     "output_type": "stream",
     "text": [
      "\r",
      "          \r",
      "\r",
      "          \r",
      " 15%|█▍        | 232/1595 [07:17<42:52,  1.89s/it]\r",
      " 15%|█▍        | 233/1595 [07:17<44:54,  1.98s/it]"
     ]
    },
    {
     "name": "stdout",
     "output_type": "stream",
     "text": [
      "chunks for patient: dd5764803d51c71a27707d9db8c84aac : 14400\n"
     ]
    },
    {
     "name": "stderr",
     "output_type": "stream",
     "text": [
      "\r",
      "          \r",
      "\r",
      "          \r",
      " 15%|█▍        | 233/1595 [07:19<42:47,  1.88s/it]\r",
      " 15%|█▍        | 234/1595 [07:19<39:48,  1.75s/it]"
     ]
    },
    {
     "name": "stdout",
     "output_type": "stream",
     "text": [
      "chunks for patient: 12e0e2036f61c8a52ee4471bf813c36a : 9680\n"
     ]
    },
    {
     "name": "stderr",
     "output_type": "stream",
     "text": [
      "\r",
      "          \r",
      "\r",
      "          \r",
      " 15%|█▍        | 234/1595 [07:20<42:40,  1.88s/it]\r",
      " 15%|█▍        | 235/1595 [07:20<34:45,  1.53s/it]"
     ]
    },
    {
     "name": "stdout",
     "output_type": "stream",
     "text": [
      "chunks for patient: 4cd70a98baca46b116071b32788d3c2d : 8820\n"
     ]
    },
    {
     "name": "stderr",
     "output_type": "stream",
     "text": [
      "\r",
      "          \r",
      "\r",
      "          \r",
      " 15%|█▍        | 235/1595 [07:22<42:43,  1.88s/it]\r",
      " 15%|█▍        | 236/1595 [07:22<43:12,  1.91s/it]"
     ]
    },
    {
     "name": "stdout",
     "output_type": "stream",
     "text": [
      "chunks for patient: 089b8f10743e449a0f64f8f311dd8a46 : 17576\n"
     ]
    },
    {
     "name": "stderr",
     "output_type": "stream",
     "text": [
      "\r",
      "          \r",
      "\r",
      "          \r",
      " 15%|█▍        | 236/1595 [07:25<42:42,  1.89s/it]\r",
      " 15%|█▍        | 237/1595 [07:25<44:09,  1.95s/it]"
     ]
    },
    {
     "name": "stdout",
     "output_type": "stream",
     "text": [
      "chunks for patient: caf5e9cd994c3c90727d274dd790133a : 15548\n"
     ]
    },
    {
     "name": "stderr",
     "output_type": "stream",
     "text": [
      "\r",
      "          \r",
      "\r",
      "          \r",
      " 15%|█▍        | 237/1595 [07:27<42:45,  1.89s/it]\r",
      " 15%|█▍        | 238/1595 [07:27<49:21,  2.18s/it]"
     ]
    },
    {
     "name": "stdout",
     "output_type": "stream",
     "text": [
      "chunks for patient: 198d3ff4979a9a89f78ac4b4a0fe0638 : 22500\n"
     ]
    },
    {
     "name": "stderr",
     "output_type": "stream",
     "text": [
      "\r",
      "          \r",
      "\r",
      "          \r",
      " 15%|█▍        | 238/1595 [07:29<42:40,  1.89s/it]\r",
      " 15%|█▍        | 239/1595 [07:29<43:50,  1.94s/it]"
     ]
    },
    {
     "name": "stdout",
     "output_type": "stream",
     "text": [
      "chunks for patient: 4f1573f5cab1aaaebff33287682c5fbd : 9196\n"
     ]
    },
    {
     "name": "stderr",
     "output_type": "stream",
     "text": [
      "\r",
      "          \r",
      "\r",
      "          \r",
      " 15%|█▍        | 239/1595 [07:31<42:39,  1.89s/it]\r",
      " 15%|█▌        | 240/1595 [07:31<44:37,  1.98s/it]"
     ]
    },
    {
     "name": "stdout",
     "output_type": "stream",
     "text": [
      "chunks for patient: 42dbd247a9e5f710926b7c049a00ff48 : 12672\n"
     ]
    },
    {
     "name": "stderr",
     "output_type": "stream",
     "text": [
      "\r",
      "          \r",
      "\r",
      "          \r",
      " 15%|█▌        | 240/1595 [07:33<42:39,  1.89s/it]\r",
      " 15%|█▌        | 241/1595 [07:33<45:22,  2.01s/it]"
     ]
    },
    {
     "name": "stdout",
     "output_type": "stream",
     "text": [
      "chunks for patient: bb94bc5dd4656a2387bafb6098311175 : 14872\n"
     ]
    },
    {
     "name": "stderr",
     "output_type": "stream",
     "text": [
      "\r",
      "          \r",
      "\r",
      "          \r",
      " 15%|█▌        | 241/1595 [07:35<42:39,  1.89s/it]\r",
      " 15%|█▌        | 242/1595 [07:35<47:00,  2.08s/it]"
     ]
    },
    {
     "name": "stdout",
     "output_type": "stream",
     "text": [
      "chunks for patient: 63b5be42543c98ac5392f1bfbda085bf : 13754\n"
     ]
    },
    {
     "name": "stderr",
     "output_type": "stream",
     "text": [
      "\r",
      "          \r",
      "\r",
      "          \r",
      " 15%|█▌        | 242/1595 [07:37<42:36,  1.89s/it]\r",
      " 15%|█▌        | 243/1595 [07:37<44:31,  1.98s/it]"
     ]
    },
    {
     "name": "stdout",
     "output_type": "stream",
     "text": [
      "chunks for patient: 1be4cf2de84adac4de0e090c9a15461c : 12096\n"
     ]
    },
    {
     "name": "stderr",
     "output_type": "stream",
     "text": [
      "\r",
      "          \r",
      "\r",
      "          \r",
      " 15%|█▌        | 243/1595 [07:39<42:34,  1.89s/it]\r",
      " 15%|█▌        | 244/1595 [07:39<43:47,  1.94s/it]"
     ]
    },
    {
     "name": "stdout",
     "output_type": "stream",
     "text": [
      "chunks for patient: 6cf71f5017945c9dd8bc0f5126eeef5b : 15625\n"
     ]
    },
    {
     "name": "stderr",
     "output_type": "stream",
     "text": [
      "\r",
      "          \r",
      "\r",
      "          \r",
      " 15%|█▌        | 244/1595 [07:41<42:33,  1.89s/it]\r",
      " 15%|█▌        | 245/1595 [07:41<44:53,  1.99s/it]"
     ]
    },
    {
     "name": "stdout",
     "output_type": "stream",
     "text": [
      "chunks for patient: 9462c59a652187dc2d581b8772bcb3f0 : 14375\n"
     ]
    },
    {
     "name": "stderr",
     "output_type": "stream",
     "text": [
      "\r",
      "          \r",
      "\r",
      "          \r",
      " 15%|█▌        | 245/1595 [07:42<42:30,  1.89s/it]\r",
      " 15%|█▌        | 246/1595 [07:42<42:54,  1.91s/it]"
     ]
    },
    {
     "name": "stdout",
     "output_type": "stream",
     "text": [
      "chunks for patient: ca3cdb2e771df9989df5a9cb0296c44c : 14872\n"
     ]
    },
    {
     "name": "stderr",
     "output_type": "stream",
     "text": [
      "\r",
      "          \r",
      "\r",
      "          \r",
      " 15%|█▌        | 246/1595 [07:44<42:27,  1.89s/it]\r",
      " 15%|█▌        | 247/1595 [07:44<40:30,  1.80s/it]"
     ]
    },
    {
     "name": "stdout",
     "output_type": "stream",
     "text": [
      "chunks for patient: 7471f583e1fb0e34d9e582c313af4358 : 9600\n"
     ]
    },
    {
     "name": "stderr",
     "output_type": "stream",
     "text": [
      "\r",
      "          \r",
      "\r",
      "          \r",
      " 15%|█▌        | 247/1595 [07:47<42:32,  1.89s/it]\r",
      " 16%|█▌        | 248/1595 [07:47<49:53,  2.22s/it]"
     ]
    },
    {
     "name": "stdout",
     "output_type": "stream",
     "text": [
      "chunks for patient: 080e6a00e69888fd620894f9fd0714b1 : 18816\n"
     ]
    },
    {
     "name": "stderr",
     "output_type": "stream",
     "text": [
      "\r",
      "          \r",
      "\r",
      "          \r",
      " 16%|█▌        | 248/1595 [07:50<42:36,  1.90s/it]\r",
      " 16%|█▌        | 249/1595 [07:50<55:33,  2.48s/it]"
     ]
    },
    {
     "name": "stdout",
     "output_type": "stream",
     "text": [
      "chunks for patient: cc31a959bf4c2a6de3a67dfa378a261c : 23552\n"
     ]
    },
    {
     "name": "stderr",
     "output_type": "stream",
     "text": [
      "\r",
      "          \r",
      "\r",
      "          \r",
      " 16%|█▌        | 249/1595 [07:52<42:33,  1.90s/it]\r",
      " 16%|█▌        | 250/1595 [07:52<49:08,  2.19s/it]"
     ]
    },
    {
     "name": "stdout",
     "output_type": "stream",
     "text": [
      "chunks for patient: cb94c3f894fc93c1ec0eb436c8564ed3 : 11638\n"
     ]
    },
    {
     "name": "stderr",
     "output_type": "stream",
     "text": [
      "\r",
      "          \r",
      "\r",
      "          \r",
      " 16%|█▌        | 250/1595 [07:54<42:34,  1.90s/it]\r",
      " 16%|█▌        | 251/1595 [07:54<51:12,  2.29s/it]"
     ]
    },
    {
     "name": "stdout",
     "output_type": "stream",
     "text": [
      "chunks for patient: 9e471e15d44721a48d8b5f4b0a160dd6 : 15548\n"
     ]
    },
    {
     "name": "stderr",
     "output_type": "stream",
     "text": [
      "\r",
      "          \r",
      "\r",
      "          \r",
      " 16%|█▌        | 251/1595 [07:56<42:33,  1.90s/it]\r",
      " 16%|█▌        | 252/1595 [07:56<49:23,  2.21s/it]"
     ]
    },
    {
     "name": "stdout",
     "output_type": "stream",
     "text": [
      "chunks for patient: d3bc6721c1b0830137515e9c0c31612b : 15548\n"
     ]
    },
    {
     "name": "stderr",
     "output_type": "stream",
     "text": [
      "\r",
      "          \r",
      "\r",
      "          \r",
      " 16%|█▌        | 252/1595 [08:00<42:38,  1.91s/it]\r",
      " 16%|█▌        | 253/1595 [08:00<56:55,  2.55s/it]"
     ]
    },
    {
     "name": "stdout",
     "output_type": "stream",
     "text": [
      "chunks for patient: f3f6f40ccb01276d722d52701cab1754 : 25200\n"
     ]
    },
    {
     "name": "stderr",
     "output_type": "stream",
     "text": [
      "\r",
      "          \r",
      "\r",
      "          \r",
      " 16%|█▌        | 253/1595 [08:01<42:35,  1.90s/it]\r",
      " 16%|█▌        | 254/1595 [08:01<51:01,  2.28s/it]"
     ]
    },
    {
     "name": "stdout",
     "output_type": "stream",
     "text": [
      "chunks for patient: 1e0f8048728717064645cb758eb89279 : 13750\n"
     ]
    },
    {
     "name": "stderr",
     "output_type": "stream",
     "text": [
      "\r",
      "          \r",
      "\r",
      "          \r",
      " 16%|█▌        | 254/1595 [08:04<42:35,  1.91s/it]\r",
      " 16%|█▌        | 255/1595 [08:04<50:41,  2.27s/it]"
     ]
    },
    {
     "name": "stdout",
     "output_type": "stream",
     "text": [
      "chunks for patient: 61630ec628631f7fe3980f869e1a4fbe : 16767\n"
     ]
    },
    {
     "name": "stderr",
     "output_type": "stream",
     "text": [
      "\r",
      "          \r",
      "\r",
      "          \r",
      " 16%|█▌        | 255/1595 [08:06<42:37,  1.91s/it]\r",
      " 16%|█▌        | 256/1595 [08:06<53:15,  2.39s/it]"
     ]
    },
    {
     "name": "stdout",
     "output_type": "stream",
     "text": [
      "chunks for patient: f88ed45f3436cb30e494409dae76df5d : 16250\n"
     ]
    },
    {
     "name": "stderr",
     "output_type": "stream",
     "text": [
      "\r",
      "          \r",
      "\r",
      "          \r",
      " 16%|█▌        | 256/1595 [08:08<42:33,  1.91s/it]\r",
      " 16%|█▌        | 257/1595 [08:08<47:18,  2.12s/it]"
     ]
    },
    {
     "name": "stdout",
     "output_type": "stream",
     "text": [
      "chunks for patient: bc38f78d1194f57452f6bb5eed453137 : 10584\n"
     ]
    },
    {
     "name": "stderr",
     "output_type": "stream",
     "text": [
      "\r",
      "          \r",
      "\r",
      "          \r",
      " 16%|█▌        | 257/1595 [08:10<42:31,  1.91s/it]\r",
      " 16%|█▌        | 258/1595 [08:10<45:44,  2.05s/it]"
     ]
    },
    {
     "name": "stdout",
     "output_type": "stream",
     "text": [
      "chunks for patient: 4bf6fb574a2ca2da551609e98a573e54 : 14375\n"
     ]
    },
    {
     "name": "stderr",
     "output_type": "stream",
     "text": [
      "\r",
      "          \r",
      "\r",
      "          \r",
      " 16%|█▌        | 258/1595 [08:11<42:29,  1.91s/it]\r",
      " 16%|█▌        | 259/1595 [08:11<44:15,  1.99s/it]"
     ]
    },
    {
     "name": "stdout",
     "output_type": "stream",
     "text": [
      "chunks for patient: 72ed4046708e5607eb0a5703905438ee : 13248\n"
     ]
    },
    {
     "name": "stderr",
     "output_type": "stream",
     "text": [
      "\r",
      "          \r",
      "\r",
      "          \r",
      " 16%|█▌        | 259/1595 [08:14<42:30,  1.91s/it]\r",
      " 16%|█▋        | 260/1595 [08:14<47:11,  2.12s/it]"
     ]
    },
    {
     "name": "stdout",
     "output_type": "stream",
     "text": [
      "chunks for patient: e1584618a0c72f124fe618e1ed9b3e55 : 16224\n"
     ]
    },
    {
     "name": "stderr",
     "output_type": "stream",
     "text": [
      "\r",
      "          \r",
      "\r",
      "          \r",
      " 16%|█▋        | 260/1595 [08:15<42:26,  1.91s/it]\r",
      " 16%|█▋        | 261/1595 [08:15<43:42,  1.97s/it]"
     ]
    },
    {
     "name": "stdout",
     "output_type": "stream",
     "text": [
      "chunks for patient: 61917cf6407e793bc0edb60850009e85 : 11638\n"
     ]
    },
    {
     "name": "stderr",
     "output_type": "stream",
     "text": [
      "\r",
      "          \r",
      "\r",
      "          \r",
      " 16%|█▋        | 261/1595 [08:18<42:26,  1.91s/it]\r",
      " 16%|█▋        | 262/1595 [08:18<45:26,  2.05s/it]"
     ]
    },
    {
     "name": "stdout",
     "output_type": "stream",
     "text": [
      "chunks for patient: 80600d4a5fee7424d689ba7d0906d50f : 16128\n"
     ]
    },
    {
     "name": "stderr",
     "output_type": "stream",
     "text": [
      "\r",
      "          \r",
      "\r",
      "          \r",
      " 16%|█▋        | 262/1595 [08:20<42:27,  1.91s/it]\r",
      " 16%|█▋        | 263/1595 [08:20<47:59,  2.16s/it]"
     ]
    },
    {
     "name": "stdout",
     "output_type": "stream",
     "text": [
      "chunks for patient: 0c9d8314f9c69840e25febabb1229fa4 : 15341\n"
     ]
    },
    {
     "name": "stderr",
     "output_type": "stream",
     "text": [
      "\r",
      "          \r",
      "\r",
      "          \r",
      " 16%|█▋        | 263/1595 [08:23<42:28,  1.91s/it]\r",
      " 17%|█▋        | 264/1595 [08:23<50:00,  2.25s/it]"
     ]
    },
    {
     "name": "stdout",
     "output_type": "stream",
     "text": [
      "chunks for patient: f42a0343e5b5154c6a184fc955d8f20f : 20384\n"
     ]
    },
    {
     "name": "stderr",
     "output_type": "stream",
     "text": [
      "\r",
      "          \r",
      "\r",
      "          \r",
      " 17%|█▋        | 264/1595 [08:24<42:24,  1.91s/it]\r",
      " 17%|█▋        | 265/1595 [08:24<44:46,  2.02s/it]"
     ]
    },
    {
     "name": "stdout",
     "output_type": "stream",
     "text": [
      "chunks for patient: 85d59b470b927e825937ea3483571c6d : 10580\n"
     ]
    },
    {
     "name": "stderr",
     "output_type": "stream",
     "text": [
      "\r",
      "          \r",
      "\r",
      "          \r",
      " 17%|█▋        | 265/1595 [08:27<42:25,  1.91s/it]\r",
      " 17%|█▋        | 266/1595 [08:27<48:53,  2.21s/it]"
     ]
    },
    {
     "name": "stdout",
     "output_type": "stream",
     "text": [
      "chunks for patient: fbae4d04285789dfa32124c86586dd09 : 18954\n"
     ]
    },
    {
     "name": "stderr",
     "output_type": "stream",
     "text": [
      "\r",
      "          \r",
      "\r",
      "          \r",
      " 17%|█▋        | 266/1595 [08:28<42:20,  1.91s/it]\r",
      " 17%|█▋        | 267/1595 [08:28<42:46,  1.93s/it]"
     ]
    },
    {
     "name": "stdout",
     "output_type": "stream",
     "text": [
      "chunks for patient: 4419818b57ef8b0f8d6d95594adab922 : 9702\n"
     ]
    },
    {
     "name": "stderr",
     "output_type": "stream",
     "text": [
      "\r",
      "          \r",
      "\r",
      "          \r",
      " 17%|█▋        | 267/1595 [08:30<42:17,  1.91s/it]\r",
      " 17%|█▋        | 268/1595 [08:30<40:26,  1.83s/it]"
     ]
    },
    {
     "name": "stdout",
     "output_type": "stream",
     "text": [
      "chunks for patient: 197e035d3aed52b5a2a0de3ee4d5fcea : 9702\n"
     ]
    },
    {
     "name": "stderr",
     "output_type": "stream",
     "text": [
      "\r",
      "          \r",
      "\r",
      "          \r",
      " 17%|█▋        | 268/1595 [08:31<42:15,  1.91s/it]\r",
      " 17%|█▋        | 269/1595 [08:31<40:34,  1.84s/it]"
     ]
    },
    {
     "name": "stdout",
     "output_type": "stream",
     "text": [
      "chunks for patient: e2b7fe7fbb002029640c0e65e3051888 : 14976\n"
     ]
    },
    {
     "name": "stderr",
     "output_type": "stream",
     "text": [
      "\r",
      "          \r",
      "\r",
      "          \r",
      " 17%|█▋        | 269/1595 [08:33<42:09,  1.91s/it]\r",
      " 17%|█▋        | 270/1595 [08:33<36:37,  1.66s/it]"
     ]
    },
    {
     "name": "stdout",
     "output_type": "stream",
     "text": [
      "chunks for patient: 08528b8817429d12b7ce2bf444d264f9 : 9251\n"
     ]
    },
    {
     "name": "stderr",
     "output_type": "stream",
     "text": [
      "\r",
      "          \r",
      "\r",
      "          \r",
      " 17%|█▋        | 270/1595 [08:36<42:13,  1.91s/it]\r",
      " 17%|█▋        | 271/1595 [08:36<46:06,  2.09s/it]"
     ]
    },
    {
     "name": "stdout",
     "output_type": "stream",
     "text": [
      "chunks for patient: 8a8419bb3048294f69a31de36cd35a98 : 21025\n"
     ]
    },
    {
     "name": "stderr",
     "output_type": "stream",
     "text": [
      "\r",
      "          \r",
      "\r",
      "          \r",
      " 17%|█▋        | 271/1595 [08:37<42:10,  1.91s/it]\r",
      " 17%|█▋        | 272/1595 [08:37<43:17,  1.96s/it]"
     ]
    },
    {
     "name": "stdout",
     "output_type": "stream",
     "text": [
      "chunks for patient: 3b78adbbe463aba48bf29613ca37b2ea : 11638\n"
     ]
    },
    {
     "name": "stderr",
     "output_type": "stream",
     "text": [
      "\r",
      "          \r",
      "\r",
      "          \r",
      " 17%|█▋        | 272/1595 [08:40<42:11,  1.91s/it]\r",
      " 17%|█▋        | 273/1595 [08:40<46:55,  2.13s/it]"
     ]
    },
    {
     "name": "stdout",
     "output_type": "stream",
     "text": [
      "chunks for patient: 19ca60da880961c50f1b99b66f252e8f : 16038\n"
     ]
    },
    {
     "name": "stderr",
     "output_type": "stream",
     "text": [
      "\r",
      "          \r",
      "\r",
      "          \r",
      " 17%|█▋        | 273/1595 [08:42<42:08,  1.91s/it]\r",
      " 17%|█▋        | 274/1595 [08:42<43:19,  1.97s/it]"
     ]
    },
    {
     "name": "stdout",
     "output_type": "stream",
     "text": [
      "chunks for patient: a87740afc072074e6c5a2ab787235dde : 8800\n"
     ]
    },
    {
     "name": "stderr",
     "output_type": "stream",
     "text": [
      "\r",
      "          \r",
      "\r",
      "          \r",
      " 17%|█▋        | 274/1595 [08:43<42:05,  1.91s/it]\r",
      " 17%|█▋        | 275/1595 [08:43<41:39,  1.89s/it]"
     ]
    },
    {
     "name": "stdout",
     "output_type": "stream",
     "text": [
      "chunks for patient: d0c1c175814c610bc333080152a605f7 : 12100\n"
     ]
    },
    {
     "name": "stderr",
     "output_type": "stream",
     "text": [
      "\r",
      "          \r",
      "\r",
      "          \r",
      " 17%|█▋        | 275/1595 [08:45<42:03,  1.91s/it]\r",
      " 17%|█▋        | 276/1595 [08:45<41:50,  1.90s/it]"
     ]
    },
    {
     "name": "stdout",
     "output_type": "stream",
     "text": [
      "chunks for patient: 19d95b5828aeba8073fcbb12979f312b : 14375\n"
     ]
    },
    {
     "name": "stderr",
     "output_type": "stream",
     "text": [
      "\r",
      "          \r",
      "\r",
      "          \r",
      " 17%|█▋        | 276/1595 [08:47<42:02,  1.91s/it]\r",
      " 17%|█▋        | 277/1595 [08:47<42:51,  1.95s/it]"
     ]
    },
    {
     "name": "stdout",
     "output_type": "stream",
     "text": [
      "chunks for patient: c5887c21bafb90eb8534e1a632ff2754 : 15548\n"
     ]
    },
    {
     "name": "stderr",
     "output_type": "stream",
     "text": [
      "\r",
      "          \r",
      "\r",
      "          \r",
      " 17%|█▋        | 277/1595 [08:48<41:56,  1.91s/it]\r",
      " 17%|█▋        | 278/1595 [08:48<37:19,  1.70s/it]"
     ]
    },
    {
     "name": "stdout",
     "output_type": "stream",
     "text": [
      "chunks for patient: 7c2b72f9e0f5649c22902292febdc89f : 9261\n"
     ]
    },
    {
     "name": "stderr",
     "output_type": "stream",
     "text": [
      "\r",
      "          \r",
      "\r",
      "          \r",
      " 17%|█▋        | 278/1595 [08:50<41:53,  1.91s/it]\r",
      " 17%|█▋        | 279/1595 [08:50<36:39,  1.67s/it]"
     ]
    },
    {
     "name": "stdout",
     "output_type": "stream",
     "text": [
      "chunks for patient: bb8393e219a2d5e3f8a183da638cc210 : 11638\n"
     ]
    },
    {
     "name": "stderr",
     "output_type": "stream",
     "text": [
      "\r",
      "          \r",
      "\r",
      "          \r",
      " 17%|█▋        | 279/1595 [08:51<41:49,  1.91s/it]\r",
      " 18%|█▊        | 280/1595 [08:51<35:13,  1.61s/it]"
     ]
    },
    {
     "name": "stdout",
     "output_type": "stream",
     "text": [
      "chunks for patient: 733205c5d0bbf19f5c761e0c023bf9a0 : 12696\n"
     ]
    },
    {
     "name": "stderr",
     "output_type": "stream",
     "text": [
      "\r",
      "          \r",
      "\r",
      "          \r",
      " 18%|█▊        | 280/1595 [08:54<41:48,  1.91s/it]\r",
      " 18%|█▊        | 281/1595 [08:54<38:06,  1.74s/it]"
     ]
    },
    {
     "name": "stdout",
     "output_type": "stream",
     "text": [
      "chunks for patient: 5782e6873c666529c6a66421acb043dc : 16224\n"
     ]
    },
    {
     "name": "stderr",
     "output_type": "stream",
     "text": [
      "\r",
      "          \r",
      "\r",
      "          \r",
      " 18%|█▊        | 281/1595 [08:56<41:48,  1.91s/it]\r",
      " 18%|█▊        | 282/1595 [08:56<42:50,  1.96s/it]"
     ]
    },
    {
     "name": "stdout",
     "output_type": "stream",
     "text": [
      "chunks for patient: 8f517521a2ed576e853fab1907fa5ffd : 18032\n"
     ]
    },
    {
     "name": "stderr",
     "output_type": "stream",
     "text": [
      "\r",
      "          \r",
      "\r",
      "          \r",
      " 18%|█▊        | 282/1595 [08:58<41:49,  1.91s/it]\r",
      " 18%|█▊        | 283/1595 [08:58<45:54,  2.10s/it]"
     ]
    },
    {
     "name": "stdout",
     "output_type": "stream",
     "text": [
      "chunks for patient: b53168fc0e9800e06de66f53daf9c5f9 : 18816\n"
     ]
    },
    {
     "name": "stderr",
     "output_type": "stream",
     "text": [
      "\r",
      "          \r",
      "\r",
      "          \r",
      " 18%|█▊        | 283/1595 [09:01<41:48,  1.91s/it]\r",
      " 18%|█▊        | 284/1595 [09:01<46:32,  2.13s/it]"
     ]
    },
    {
     "name": "stdout",
     "output_type": "stream",
     "text": [
      "chunks for patient: eda58f4918c4b506cd156702bf8a56a3 : 11907\n"
     ]
    },
    {
     "name": "stderr",
     "output_type": "stream",
     "text": [
      "\r",
      "          \r",
      "\r",
      "          \r",
      " 18%|█▊        | 284/1595 [09:03<41:47,  1.91s/it]\r",
      " 18%|█▊        | 285/1595 [09:03<45:33,  2.09s/it]"
     ]
    },
    {
     "name": "stdout",
     "output_type": "stream",
     "text": [
      "chunks for patient: b17c07114dcf49ce71c8da4b43cf1192 : 14375\n"
     ]
    },
    {
     "name": "stderr",
     "output_type": "stream",
     "text": [
      "\r",
      "          \r",
      "\r",
      "          \r",
      " 18%|█▊        | 285/1595 [09:04<41:42,  1.91s/it]\r",
      " 18%|█▊        | 286/1595 [09:04<39:51,  1.83s/it]"
     ]
    },
    {
     "name": "stdout",
     "output_type": "stream",
     "text": [
      "chunks for patient: dd571c3949cdae0b59fc0542bb23e06a : 10051\n"
     ]
    },
    {
     "name": "stderr",
     "output_type": "stream",
     "text": [
      "\r",
      "          \r",
      "\r",
      "          \r",
      " 18%|█▊        | 286/1595 [09:07<41:44,  1.91s/it]\r",
      " 18%|█▊        | 287/1595 [09:07<45:59,  2.11s/it]"
     ]
    },
    {
     "name": "stdout",
     "output_type": "stream",
     "text": [
      "chunks for patient: 18f49fee33af677f0ce2ba655c5ec835 : 20384\n"
     ]
    },
    {
     "name": "stderr",
     "output_type": "stream",
     "text": [
      "\r",
      "          \r",
      "\r",
      "          \r",
      " 18%|█▊        | 287/1595 [09:08<41:40,  1.91s/it]\r",
      " 18%|█▊        | 288/1595 [09:08<42:46,  1.96s/it]"
     ]
    },
    {
     "name": "stdout",
     "output_type": "stream",
     "text": [
      "chunks for patient: 787bd094dd0586ea0f51f9f8557424a8 : 14196\n"
     ]
    },
    {
     "name": "stderr",
     "output_type": "stream",
     "text": [
      "\r",
      "          \r",
      "\r",
      "          \r",
      " 18%|█▊        | 288/1595 [09:10<41:39,  1.91s/it]\r",
      " 18%|█▊        | 289/1595 [09:10<42:40,  1.96s/it]"
     ]
    },
    {
     "name": "stdout",
     "output_type": "stream",
     "text": [
      "chunks for patient: 54df448f6c74df6bfa6b75c05393ace1 : 13754\n"
     ]
    },
    {
     "name": "stderr",
     "output_type": "stream",
     "text": [
      "\r",
      "          \r",
      "\r",
      "          \r",
      " 18%|█▊        | 289/1595 [09:12<41:37,  1.91s/it]\r",
      " 18%|█▊        | 290/1595 [09:12<42:53,  1.97s/it]"
     ]
    },
    {
     "name": "stdout",
     "output_type": "stream",
     "text": [
      "chunks for patient: 76f36ea4858c572b425eb915e1b27c8d : 13125\n"
     ]
    },
    {
     "name": "stderr",
     "output_type": "stream",
     "text": [
      "\r",
      "          \r",
      "\r",
      "          \r",
      " 18%|█▊        | 290/1595 [09:14<41:34,  1.91s/it]\r",
      " 18%|█▊        | 291/1595 [09:14<41:22,  1.90s/it]"
     ]
    },
    {
     "name": "stdout",
     "output_type": "stream",
     "text": [
      "chunks for patient: 2619ed1e4eca954af4dcbc4436ef8467 : 14400\n"
     ]
    },
    {
     "name": "stderr",
     "output_type": "stream",
     "text": [
      "\r",
      "          \r",
      "\r",
      "          \r",
      " 18%|█▊        | 291/1595 [09:16<41:33,  1.91s/it]\r",
      " 18%|█▊        | 292/1595 [09:16<42:05,  1.94s/it]"
     ]
    },
    {
     "name": "stdout",
     "output_type": "stream",
     "text": [
      "chunks for patient: c0279b938ac1790f1badfcd4459f5c4c : 14872\n"
     ]
    },
    {
     "name": "stderr",
     "output_type": "stream",
     "text": [
      "\r",
      "          \r",
      "\r",
      "          \r",
      " 18%|█▊        | 292/1595 [09:18<41:33,  1.91s/it]\r",
      " 18%|█▊        | 293/1595 [09:18<44:44,  2.06s/it]"
     ]
    },
    {
     "name": "stdout",
     "output_type": "stream",
     "text": [
      "chunks for patient: 750680cce371800ea26576b694b32dc8 : 18252\n"
     ]
    },
    {
     "name": "stderr",
     "output_type": "stream",
     "text": [
      "\r",
      "          \r",
      "\r",
      "          \r",
      " 18%|█▊        | 293/1595 [09:20<41:29,  1.91s/it]\r",
      " 18%|█▊        | 294/1595 [09:20<40:58,  1.89s/it]"
     ]
    },
    {
     "name": "stdout",
     "output_type": "stream",
     "text": [
      "chunks for patient: 882107a204c302e27628f85522baea49 : 10580\n"
     ]
    },
    {
     "name": "stderr",
     "output_type": "stream",
     "text": [
      "\r",
      "          \r",
      "\r",
      "          \r",
      " 18%|█▊        | 294/1595 [09:21<41:25,  1.91s/it]\r",
      " 18%|█▊        | 295/1595 [09:21<37:26,  1.73s/it]"
     ]
    },
    {
     "name": "stdout",
     "output_type": "stream",
     "text": [
      "chunks for patient: 8f28d220d960b67f799479f319373c21 : 10051\n"
     ]
    },
    {
     "name": "stderr",
     "output_type": "stream",
     "text": [
      "\r",
      "          \r",
      "\r",
      "          \r",
      " 18%|█▊        | 295/1595 [09:23<41:24,  1.91s/it]\r",
      " 19%|█▊        | 296/1595 [09:23<39:52,  1.84s/it]"
     ]
    },
    {
     "name": "stdout",
     "output_type": "stream",
     "text": [
      "chunks for patient: c1f5ca42b0e336a7ab85b4c437b382c0 : 12696\n"
     ]
    },
    {
     "name": "stderr",
     "output_type": "stream",
     "text": [
      "\r",
      "          \r",
      "\r",
      "          \r",
      " 19%|█▊        | 296/1595 [09:25<41:21,  1.91s/it]\r",
      " 19%|█▊        | 297/1595 [09:25<39:08,  1.81s/it]"
     ]
    },
    {
     "name": "stdout",
     "output_type": "stream",
     "text": [
      "chunks for patient: e58b78dc31d80a50285816f4ecd661e3 : 12167\n"
     ]
    },
    {
     "name": "stderr",
     "output_type": "stream",
     "text": [
      "\r",
      "          \r",
      "\r",
      "          \r",
      " 19%|█▊        | 297/1595 [09:27<41:22,  1.91s/it]\r",
      " 19%|█▊        | 298/1595 [09:27<43:43,  2.02s/it]"
     ]
    },
    {
     "name": "stdout",
     "output_type": "stream",
     "text": [
      "chunks for patient: 29883252ce0ce3e052ce8cf4932623af : 18900\n"
     ]
    },
    {
     "name": "stderr",
     "output_type": "stream",
     "text": [
      "\r",
      "          \r",
      "\r",
      "          \r",
      " 19%|█▊        | 298/1595 [09:29<41:18,  1.91s/it]\r",
      " 19%|█▊        | 299/1595 [09:29<39:31,  1.83s/it]"
     ]
    },
    {
     "name": "stdout",
     "output_type": "stream",
     "text": [
      "chunks for patient: 7b72b604e0af8decb22021cdb92927ae : 9702\n"
     ]
    },
    {
     "name": "stderr",
     "output_type": "stream",
     "text": [
      "\r",
      "          \r",
      "\r",
      "          \r",
      " 19%|█▊        | 299/1595 [09:32<41:20,  1.91s/it]\r",
      " 19%|█▉        | 300/1595 [09:32<46:21,  2.15s/it]"
     ]
    },
    {
     "name": "stdout",
     "output_type": "stream",
     "text": [
      "chunks for patient: 2ed2ec628e6ad9d0aa8c2a9b7bf4c4ce : 21866\n"
     ]
    },
    {
     "name": "stderr",
     "output_type": "stream",
     "text": [
      "\r",
      "          \r",
      "\r",
      "          \r",
      " 19%|█▉        | 300/1595 [09:34<41:19,  1.91s/it]\r",
      " 19%|█▉        | 301/1595 [09:34<46:03,  2.14s/it]"
     ]
    },
    {
     "name": "stdout",
     "output_type": "stream",
     "text": [
      "chunks for patient: 16377fe7caf072d882f234dbbff9ef6c : 14283\n"
     ]
    },
    {
     "name": "stderr",
     "output_type": "stream",
     "text": [
      "\r",
      "          \r",
      "\r",
      "          \r",
      " 19%|█▉        | 301/1595 [09:37<41:22,  1.92s/it]\r",
      " 19%|█▉        | 302/1595 [09:37<52:14,  2.42s/it]"
     ]
    },
    {
     "name": "stdout",
     "output_type": "stream",
     "text": [
      "chunks for patient: 026470d51482c93efc18b9803159c960 : 21025\n"
     ]
    },
    {
     "name": "stderr",
     "output_type": "stream",
     "text": [
      "\r",
      "          \r",
      "\r",
      "          \r",
      " 19%|█▉        | 302/1595 [09:39<41:22,  1.92s/it]\r",
      " 19%|█▉        | 303/1595 [09:39<52:28,  2.44s/it]"
     ]
    },
    {
     "name": "stdout",
     "output_type": "stream",
     "text": [
      "chunks for patient: e42065c1145ccf734312cb9edbe5234b : 19800\n"
     ]
    },
    {
     "name": "stderr",
     "output_type": "stream",
     "text": [
      "\r",
      "          \r",
      "\r",
      "          \r",
      " 19%|█▉        | 303/1595 [09:41<41:18,  1.92s/it]\r",
      " 19%|█▉        | 304/1595 [09:41<45:28,  2.11s/it]"
     ]
    },
    {
     "name": "stdout",
     "output_type": "stream",
     "text": [
      "chunks for patient: 4b19444c570185fc4606e4e29fd1ce1c : 11132\n"
     ]
    },
    {
     "name": "stderr",
     "output_type": "stream",
     "text": [
      "\r",
      "          \r",
      "\r",
      "          \r",
      " 19%|█▉        | 304/1595 [09:43<41:18,  1.92s/it]\r",
      " 19%|█▉        | 305/1595 [09:43<46:55,  2.18s/it]"
     ]
    },
    {
     "name": "stdout",
     "output_type": "stream",
     "text": [
      "chunks for patient: 43fecc8947e4fbb47968dc8ef7d8f4ec : 18502\n"
     ]
    },
    {
     "name": "stderr",
     "output_type": "stream",
     "text": [
      "\r",
      "          \r",
      "\r",
      "          \r",
      " 19%|█▉        | 305/1595 [09:45<41:15,  1.92s/it]\r",
      " 19%|█▉        | 306/1595 [09:45<42:58,  2.00s/it]"
     ]
    },
    {
     "name": "stdout",
     "output_type": "stream",
     "text": [
      "chunks for patient: 8987df2216ae2ab1a907d52bc9dc540d : 14196\n"
     ]
    },
    {
     "name": "stderr",
     "output_type": "stream",
     "text": [
      "\r",
      "          \r",
      "\r",
      "          \r",
      " 19%|█▉        | 306/1595 [09:47<41:16,  1.92s/it]\r",
      " 19%|█▉        | 307/1595 [09:47<47:10,  2.20s/it]"
     ]
    },
    {
     "name": "stdout",
     "output_type": "stream",
     "text": [
      "chunks for patient: d81704ee56c124cc1434640918a3299c : 18928\n"
     ]
    },
    {
     "name": "stderr",
     "output_type": "stream",
     "text": [
      "\r",
      "          \r",
      "\r",
      "          \r",
      " 19%|█▉        | 307/1595 [09:49<41:12,  1.92s/it]\r",
      " 19%|█▉        | 308/1595 [09:49<42:05,  1.96s/it]"
     ]
    },
    {
     "name": "stdout",
     "output_type": "stream",
     "text": [
      "chunks for patient: 79eb6f0a80841d6618968362dfb1f57f : 11109\n"
     ]
    },
    {
     "name": "stderr",
     "output_type": "stream",
     "text": [
      "\r",
      "          \r",
      "\r",
      "          \r",
      " 19%|█▉        | 308/1595 [09:51<41:11,  1.92s/it]\r",
      " 19%|█▉        | 309/1595 [09:51<42:55,  2.00s/it]"
     ]
    },
    {
     "name": "stdout",
     "output_type": "stream",
     "text": [
      "chunks for patient: b887defbf88deb3c6fe4c22405d0a957 : 18225\n"
     ]
    },
    {
     "name": "stderr",
     "output_type": "stream",
     "text": [
      "\r",
      "          \r",
      "\r",
      "          \r",
      " 19%|█▉        | 309/1595 [09:53<41:09,  1.92s/it]\r",
      " 19%|█▉        | 310/1595 [09:53<43:09,  2.02s/it]"
     ]
    },
    {
     "name": "stdout",
     "output_type": "stream",
     "text": [
      "chunks for patient: ccff3e86a50624e30c22d674f3b0f9aa : 14375\n"
     ]
    },
    {
     "name": "stderr",
     "output_type": "stream",
     "text": [
      "\r",
      "          \r",
      "\r",
      "          \r",
      " 19%|█▉        | 310/1595 [09:55<41:07,  1.92s/it]\r",
      " 19%|█▉        | 311/1595 [09:55<41:47,  1.95s/it]"
     ]
    },
    {
     "name": "stdout",
     "output_type": "stream",
     "text": [
      "chunks for patient: 1edf5480bf676f8342a7d516bab58fa0 : 14812\n"
     ]
    },
    {
     "name": "stderr",
     "output_type": "stream",
     "text": [
      "\r",
      "          \r",
      "\r",
      "          \r",
      " 19%|█▉        | 311/1595 [09:56<41:03,  1.92s/it]\r",
      " 20%|█▉        | 312/1595 [09:56<38:32,  1.80s/it]"
     ]
    },
    {
     "name": "stdout",
     "output_type": "stream",
     "text": [
      "chunks for patient: 591f6b47c1362410e7f4c13afbc99d79 : 11132\n"
     ]
    },
    {
     "name": "stderr",
     "output_type": "stream",
     "text": [
      "\r",
      "          \r",
      "\r",
      "          \r",
      " 20%|█▉        | 312/1595 [09:58<41:00,  1.92s/it]\r",
      " 20%|█▉        | 313/1595 [09:58<38:14,  1.79s/it]"
     ]
    },
    {
     "name": "stdout",
     "output_type": "stream",
     "text": [
      "chunks for patient: 49a29b3f5bee32b350bedc4cfbad8e9c : 15000\n"
     ]
    },
    {
     "name": "stderr",
     "output_type": "stream",
     "text": [
      "\r",
      "          \r",
      "\r",
      "          \r",
      " 20%|█▉        | 313/1595 [09:59<40:56,  1.92s/it]\r",
      " 20%|█▉        | 314/1595 [09:59<34:28,  1.61s/it]"
     ]
    },
    {
     "name": "stdout",
     "output_type": "stream",
     "text": [
      "chunks for patient: f0459473753b99105e9723f122022ad0 : 9261\n"
     ]
    },
    {
     "name": "stderr",
     "output_type": "stream",
     "text": [
      "\r",
      "          \r",
      "\r",
      "          \r",
      " 20%|█▉        | 314/1595 [10:01<40:52,  1.91s/it]\r",
      " 20%|█▉        | 315/1595 [10:01<33:06,  1.55s/it]"
     ]
    },
    {
     "name": "stdout",
     "output_type": "stream",
     "text": [
      "chunks for patient: ac4e4bd5633dd74c99762acdba21934f : 9200\n"
     ]
    },
    {
     "name": "stderr",
     "output_type": "stream",
     "text": [
      "\r",
      "          \r",
      "\r",
      "          \r",
      " 20%|█▉        | 315/1595 [10:03<40:51,  1.92s/it]\r",
      " 20%|█▉        | 316/1595 [10:03<37:42,  1.77s/it]"
     ]
    },
    {
     "name": "stdout",
     "output_type": "stream",
     "text": [
      "chunks for patient: 8a2de07f6e9dbb8c6e4bfad7e83b3f0a : 16767\n"
     ]
    },
    {
     "name": "stderr",
     "output_type": "stream",
     "text": [
      "\r",
      "          \r",
      "\r",
      "          \r",
      " 20%|█▉        | 316/1595 [10:05<40:50,  1.92s/it]\r",
      " 20%|█▉        | 317/1595 [10:05<39:12,  1.84s/it]"
     ]
    },
    {
     "name": "stdout",
     "output_type": "stream",
     "text": [
      "chunks for patient: 2a2300103f80aadbfac57516d9a95365 : 15548\n"
     ]
    },
    {
     "name": "stderr",
     "output_type": "stream",
     "text": [
      "\r",
      "          \r",
      "\r",
      "          \r",
      " 20%|█▉        | 317/1595 [10:07<40:50,  1.92s/it]\r",
      " 20%|█▉        | 318/1595 [10:07<43:54,  2.06s/it]"
     ]
    },
    {
     "name": "stdout",
     "output_type": "stream",
     "text": [
      "chunks for patient: 25196c504274d166e81c745d32f30c72 : 18928\n"
     ]
    },
    {
     "name": "stderr",
     "output_type": "stream",
     "text": [
      "\r",
      "          \r",
      "\r",
      "          \r",
      " 20%|█▉        | 318/1595 [10:10<40:52,  1.92s/it]\r",
      " 20%|██        | 319/1595 [10:10<49:12,  2.31s/it]"
     ]
    },
    {
     "name": "stdout",
     "output_type": "stream",
     "text": [
      "chunks for patient: fa744c0374ccc6aaf6711f463a9e5bc2 : 21025\n"
     ]
    },
    {
     "name": "stderr",
     "output_type": "stream",
     "text": [
      "\r",
      "          \r",
      "\r",
      "          \r",
      " 20%|██        | 319/1595 [10:12<40:51,  1.92s/it]\r",
      " 20%|██        | 320/1595 [10:12<47:16,  2.22s/it]"
     ]
    },
    {
     "name": "stdout",
     "output_type": "stream",
     "text": [
      "chunks for patient: aa55708fcc8bf27b605bcd2fca0dc991 : 15548\n"
     ]
    },
    {
     "name": "stderr",
     "output_type": "stream",
     "text": [
      "\r",
      "          \r",
      "\r",
      "          \r",
      " 20%|██        | 320/1595 [10:14<40:47,  1.92s/it]\r",
      " 20%|██        | 321/1595 [10:14<42:54,  2.02s/it]"
     ]
    },
    {
     "name": "stdout",
     "output_type": "stream",
     "text": [
      "chunks for patient: 4ecf053654c565e4a5d0f37811eade66 : 11132\n"
     ]
    },
    {
     "name": "stderr",
     "output_type": "stream",
     "text": [
      "\r",
      "          \r",
      "\r",
      "          \r",
      " 20%|██        | 321/1595 [10:15<40:44,  1.92s/it]\r",
      " 20%|██        | 322/1595 [10:15<39:27,  1.86s/it]"
     ]
    },
    {
     "name": "stdout",
     "output_type": "stream",
     "text": [
      "chunks for patient: c187d7be84f64e29e6623c15575f373f : 11132\n"
     ]
    },
    {
     "name": "stderr",
     "output_type": "stream",
     "text": [
      "\r",
      "          \r",
      "\r",
      "          \r",
      " 20%|██        | 322/1595 [10:17<40:42,  1.92s/it]\r",
      " 20%|██        | 323/1595 [10:17<40:45,  1.92s/it]"
     ]
    },
    {
     "name": "stdout",
     "output_type": "stream",
     "text": [
      "chunks for patient: ba05599872742ce748e2eda745e51857 : 15548\n"
     ]
    },
    {
     "name": "stderr",
     "output_type": "stream",
     "text": [
      "\r",
      "          \r",
      "\r",
      "          \r",
      " 20%|██        | 323/1595 [10:20<40:43,  1.92s/it]\r",
      " 20%|██        | 324/1595 [10:20<45:11,  2.13s/it]"
     ]
    },
    {
     "name": "stdout",
     "output_type": "stream",
     "text": [
      "chunks for patient: 750ed950a05e5fae10b4d25ed9bcd021 : 17576\n"
     ]
    },
    {
     "name": "stderr",
     "output_type": "stream",
     "text": [
      "\r",
      "          \r",
      "\r",
      "          \r",
      " 20%|██        | 324/1595 [10:21<40:38,  1.92s/it]\r",
      " 20%|██        | 325/1595 [10:21<38:37,  1.83s/it]"
     ]
    },
    {
     "name": "stdout",
     "output_type": "stream",
     "text": [
      "chunks for patient: 21c94e2776145f74697adf8810b05305 : 7497\n"
     ]
    },
    {
     "name": "stderr",
     "output_type": "stream",
     "text": [
      "\r",
      "          \r",
      "\r",
      "          \r",
      " 20%|██        | 325/1595 [10:23<40:36,  1.92s/it]\r",
      " 20%|██        | 326/1595 [10:23<39:03,  1.85s/it]"
     ]
    },
    {
     "name": "stdout",
     "output_type": "stream",
     "text": [
      "chunks for patient: 483b89a4ffbbd85acc8b9af5a541dd4d : 16224\n"
     ]
    },
    {
     "name": "stderr",
     "output_type": "stream",
     "text": [
      "\r",
      "          \r",
      "\r",
      "          \r",
      " 20%|██        | 326/1595 [10:25<40:34,  1.92s/it]\r",
      " 21%|██        | 327/1595 [10:25<39:44,  1.88s/it]"
     ]
    },
    {
     "name": "stdout",
     "output_type": "stream",
     "text": [
      "chunks for patient: 1cf8e778167d20bf769669b4be96592b : 15309\n"
     ]
    },
    {
     "name": "stderr",
     "output_type": "stream",
     "text": [
      "\r",
      "          \r",
      "\r",
      "          \r",
      " 21%|██        | 327/1595 [10:27<40:34,  1.92s/it]\r",
      " 21%|██        | 328/1595 [10:27<42:31,  2.01s/it]"
     ]
    },
    {
     "name": "stdout",
     "output_type": "stream",
     "text": [
      "chunks for patient: 31c090cf66ec7bf090801d14d63199b5 : 19600\n"
     ]
    },
    {
     "name": "stderr",
     "output_type": "stream",
     "text": [
      "\r",
      "          \r",
      "\r",
      "          \r",
      " 21%|██        | 328/1595 [10:29<40:30,  1.92s/it]\r",
      " 21%|██        | 329/1595 [10:29<38:30,  1.83s/it]"
     ]
    },
    {
     "name": "stdout",
     "output_type": "stream",
     "text": [
      "chunks for patient: 6997b392b28529c9ab67add45055fcf7 : 10584\n"
     ]
    },
    {
     "name": "stderr",
     "output_type": "stream",
     "text": [
      "\r",
      "          \r",
      "\r",
      "          \r",
      " 21%|██        | 329/1595 [10:31<40:31,  1.92s/it]\r",
      " 21%|██        | 330/1595 [10:31<43:51,  2.08s/it]"
     ]
    },
    {
     "name": "stdout",
     "output_type": "stream",
     "text": [
      "chunks for patient: de4d3724030397e71d2ac2ab16df5fba : 21168\n"
     ]
    },
    {
     "name": "stderr",
     "output_type": "stream",
     "text": [
      "\r",
      "          \r",
      "\r",
      "          \r",
      " 21%|██        | 330/1595 [10:34<40:30,  1.92s/it]\r",
      " 21%|██        | 331/1595 [10:34<44:17,  2.10s/it]"
     ]
    },
    {
     "name": "stdout",
     "output_type": "stream",
     "text": [
      "chunks for patient: 399a263bdfbf26c6969d8af98774be8c : 16128\n"
     ]
    },
    {
     "name": "stderr",
     "output_type": "stream",
     "text": [
      "\r",
      "          \r",
      "\r",
      "          \r",
      " 21%|██        | 331/1595 [10:36<40:28,  1.92s/it]\r",
      " 21%|██        | 332/1595 [10:36<43:31,  2.07s/it]"
     ]
    },
    {
     "name": "stdout",
     "output_type": "stream",
     "text": [
      "chunks for patient: c8cfb917b0d619cb4e25f789db4641f8 : 15000\n"
     ]
    },
    {
     "name": "stderr",
     "output_type": "stream",
     "text": [
      "\r",
      "          \r",
      "\r",
      "          \r",
      " 21%|██        | 332/1595 [10:37<40:26,  1.92s/it]\r",
      " 21%|██        | 333/1595 [10:37<42:36,  2.03s/it]"
     ]
    },
    {
     "name": "stdout",
     "output_type": "stream",
     "text": [
      "chunks for patient: 3f6431400c2a07a46386dba3929da45d : 15000\n"
     ]
    },
    {
     "name": "stderr",
     "output_type": "stream",
     "text": [
      "\r",
      "          \r",
      "\r",
      "          \r",
      " 21%|██        | 333/1595 [10:40<40:28,  1.92s/it]\r",
      " 21%|██        | 334/1595 [10:40<48:25,  2.30s/it]"
     ]
    },
    {
     "name": "stdout",
     "output_type": "stream",
     "text": [
      "chunks for patient: 85ab88f093ca53a4fab5654e24c77ebe : 15625\n"
     ]
    },
    {
     "name": "stderr",
     "output_type": "stream",
     "text": [
      "\r",
      "          \r",
      "\r",
      "          \r",
      " 21%|██        | 334/1595 [10:42<40:26,  1.92s/it]\r",
      " 21%|██        | 335/1595 [10:42<44:27,  2.12s/it]"
     ]
    },
    {
     "name": "stdout",
     "output_type": "stream",
     "text": [
      "chunks for patient: eacb38abacf1214f3b456b6c9fa78697 : 11025\n"
     ]
    },
    {
     "name": "stderr",
     "output_type": "stream",
     "text": [
      "\r",
      "          \r",
      "\r",
      "          \r",
      " 21%|██        | 335/1595 [10:44<40:24,  1.92s/it]\r",
      " 21%|██        | 336/1595 [10:44<44:00,  2.10s/it]"
     ]
    },
    {
     "name": "stdout",
     "output_type": "stream",
     "text": [
      "chunks for patient: 84ed26b5d79da321711ed869b3cad2ea : 14580\n"
     ]
    },
    {
     "name": "stderr",
     "output_type": "stream",
     "text": [
      "\r",
      "          \r",
      "\r",
      "          \r",
      " 21%|██        | 336/1595 [10:47<40:24,  1.93s/it]\r",
      " 21%|██        | 337/1595 [10:47<45:42,  2.18s/it]"
     ]
    },
    {
     "name": "stdout",
     "output_type": "stream",
     "text": [
      "chunks for patient: 2eb8aedb5274414e05041b7be65db3e3 : 16250\n"
     ]
    },
    {
     "name": "stderr",
     "output_type": "stream",
     "text": [
      "\r",
      "          \r",
      "\r",
      "          \r",
      " 21%|██        | 337/1595 [10:48<40:22,  1.93s/it]\r",
      " 21%|██        | 338/1595 [10:48<44:17,  2.11s/it]"
     ]
    },
    {
     "name": "stdout",
     "output_type": "stream",
     "text": [
      "chunks for patient: 456a7dd28233b398ac83f03c80447b5a : 12696\n"
     ]
    },
    {
     "name": "stderr",
     "output_type": "stream",
     "text": [
      "\r",
      "          \r",
      "\r",
      "          \r",
      " 21%|██        | 338/1595 [10:50<40:20,  1.93s/it]\r",
      " 21%|██▏       | 339/1595 [10:50<42:57,  2.05s/it]"
     ]
    },
    {
     "name": "stdout",
     "output_type": "stream",
     "text": [
      "chunks for patient: 3a5bbc2f1f5d6d76a48ba5300105d998 : 15548\n"
     ]
    },
    {
     "name": "stderr",
     "output_type": "stream",
     "text": [
      "\r",
      "          \r",
      "\r",
      "          \r",
      " 21%|██▏       | 339/1595 [10:53<40:19,  1.93s/it]\r",
      " 21%|██▏       | 340/1595 [10:53<44:03,  2.11s/it]"
     ]
    },
    {
     "name": "stdout",
     "output_type": "stream",
     "text": [
      "chunks for patient: 8b9a28375988de6ea0b143d48b4a8dc9 : 15625\n"
     ]
    },
    {
     "name": "stderr",
     "output_type": "stream",
     "text": [
      "\r",
      "          \r",
      "\r",
      "          \r",
      " 21%|██▏       | 340/1595 [10:55<40:17,  1.93s/it]\r",
      " 21%|██▏       | 341/1595 [10:55<42:36,  2.04s/it]"
     ]
    },
    {
     "name": "stdout",
     "output_type": "stream",
     "text": [
      "chunks for patient: dbfbc12c7a943a2dc0e34bfd4a636bca : 11109\n"
     ]
    },
    {
     "name": "stderr",
     "output_type": "stream",
     "text": [
      "\r",
      "          \r",
      "\r",
      "          \r",
      " 21%|██▏       | 341/1595 [10:57<40:16,  1.93s/it]\r",
      " 21%|██▏       | 342/1595 [10:57<43:12,  2.07s/it]"
     ]
    },
    {
     "name": "stdout",
     "output_type": "stream",
     "text": [
      "chunks for patient: 2ed8eb4430bf40f5405495a5ec22a76d : 16224\n"
     ]
    },
    {
     "name": "stderr",
     "output_type": "stream",
     "text": [
      "\r",
      "          \r",
      "\r",
      "          \r",
      " 21%|██▏       | 342/1595 [10:58<40:13,  1.93s/it]\r",
      " 22%|██▏       | 343/1595 [10:58<40:26,  1.94s/it]"
     ]
    },
    {
     "name": "stdout",
     "output_type": "stream",
     "text": [
      "chunks for patient: b229a7697c3efcd6ab82f6f19aff8e8b : 10143\n"
     ]
    },
    {
     "name": "stderr",
     "output_type": "stream",
     "text": [
      "\r",
      "          \r",
      "\r",
      "          \r",
      " 22%|██▏       | 343/1595 [11:00<40:12,  1.93s/it]\r",
      " 22%|██▏       | 344/1595 [11:00<41:13,  1.98s/it]"
     ]
    },
    {
     "name": "stdout",
     "output_type": "stream",
     "text": [
      "chunks for patient: 78c0a0104c0428e260cbd9e50eb7eea6 : 14283\n"
     ]
    },
    {
     "name": "stderr",
     "output_type": "stream",
     "text": [
      "\r",
      "          \r",
      "\r",
      "          \r",
      " 22%|██▏       | 344/1595 [11:02<40:08,  1.93s/it]\r",
      " 22%|██▏       | 345/1595 [11:02<38:00,  1.82s/it]"
     ]
    },
    {
     "name": "stdout",
     "output_type": "stream",
     "text": [
      "chunks for patient: 8e60f166f1f1dc0d72f997fe1c9e72b4 : 10164\n"
     ]
    },
    {
     "name": "stderr",
     "output_type": "stream",
     "text": [
      "\r",
      "          \r",
      "\r",
      "          \r",
      " 22%|██▏       | 345/1595 [11:03<40:05,  1.92s/it]\r",
      " 22%|██▏       | 346/1595 [11:03<36:55,  1.77s/it]"
     ]
    },
    {
     "name": "stdout",
     "output_type": "stream",
     "text": [
      "chunks for patient: 07b1defcfae5873ee1f03c90255eb170 : 11109\n"
     ]
    },
    {
     "name": "stderr",
     "output_type": "stream",
     "text": [
      "\r",
      "          \r",
      "\r",
      "          \r",
      " 22%|██▏       | 346/1595 [11:06<40:05,  1.93s/it]\r",
      " 22%|██▏       | 347/1595 [11:06<41:12,  1.98s/it]"
     ]
    },
    {
     "name": "stdout",
     "output_type": "stream",
     "text": [
      "chunks for patient: 8e9002a485cbda2b47cd14014d6f1c36 : 17496\n"
     ]
    },
    {
     "name": "stderr",
     "output_type": "stream",
     "text": [
      "\r",
      "          \r",
      "\r",
      "          \r",
      " 22%|██▏       | 347/1595 [11:08<40:03,  1.93s/it]\r",
      " 22%|██▏       | 348/1595 [11:08<39:47,  1.91s/it]"
     ]
    },
    {
     "name": "stdout",
     "output_type": "stream",
     "text": [
      "chunks for patient: dbcb3dbee4f4e75d0672c2a23feb1e3a : 12672\n"
     ]
    },
    {
     "name": "stderr",
     "output_type": "stream",
     "text": [
      "\r",
      "          \r",
      "\r",
      "          \r",
      " 22%|██▏       | 348/1595 [11:10<40:02,  1.93s/it]\r",
      " 22%|██▏       | 349/1595 [11:10<41:29,  2.00s/it]"
     ]
    },
    {
     "name": "stdout",
     "output_type": "stream",
     "text": [
      "chunks for patient: 88acee40bb9d8cb06898d1c5de01d3c8 : 14375\n"
     ]
    },
    {
     "name": "stderr",
     "output_type": "stream",
     "text": [
      "\r",
      "          \r",
      "\r",
      "          \r",
      " 22%|██▏       | 349/1595 [11:12<39:59,  1.93s/it]\r",
      " 22%|██▏       | 350/1595 [11:12<40:27,  1.95s/it]"
     ]
    },
    {
     "name": "stdout",
     "output_type": "stream",
     "text": [
      "chunks for patient: 1bb17a55702a78142cd05cd1063c82c8 : 14375\n"
     ]
    },
    {
     "name": "stderr",
     "output_type": "stream",
     "text": [
      "\r",
      "          \r",
      "\r",
      "          \r",
      " 22%|██▏       | 350/1595 [11:14<39:59,  1.93s/it]\r",
      " 22%|██▏       | 351/1595 [11:14<43:26,  2.10s/it]"
     ]
    },
    {
     "name": "stdout",
     "output_type": "stream",
     "text": [
      "chunks for patient: a5d7909f14d43f01f44cdcaabed27b84 : 16900\n"
     ]
    },
    {
     "name": "stderr",
     "output_type": "stream",
     "text": [
      "\r",
      "          \r",
      "\r",
      "          \r",
      " 22%|██▏       | 351/1595 [11:17<40:00,  1.93s/it]\r",
      " 22%|██▏       | 352/1595 [11:17<46:30,  2.24s/it]"
     ]
    },
    {
     "name": "stdout",
     "output_type": "stream",
     "text": [
      "chunks for patient: f44dd045f6dcb1e477e6d3dc0f29d7e8 : 20184\n"
     ]
    },
    {
     "name": "stderr",
     "output_type": "stream",
     "text": [
      "\r",
      "          \r",
      "\r",
      "          \r",
      " 22%|██▏       | 352/1595 [11:19<39:58,  1.93s/it]\r",
      " 22%|██▏       | 353/1595 [11:19<43:55,  2.12s/it]"
     ]
    },
    {
     "name": "stdout",
     "output_type": "stream",
     "text": [
      "chunks for patient: 7dc59759253943ac070ab2557c219731 : 15000\n"
     ]
    },
    {
     "name": "stderr",
     "output_type": "stream",
     "text": [
      "\r",
      "          \r",
      "\r",
      "          \r",
      " 22%|██▏       | 353/1595 [11:20<39:55,  1.93s/it]\r",
      " 22%|██▏       | 354/1595 [11:20<42:10,  2.04s/it]"
     ]
    },
    {
     "name": "stdout",
     "output_type": "stream",
     "text": [
      "chunks for patient: 44cd94d1228f4a70753b5dfc12703414 : 12167\n"
     ]
    },
    {
     "name": "stderr",
     "output_type": "stream",
     "text": [
      "\r",
      "          \r",
      "\r",
      "          \r",
      " 22%|██▏       | 354/1595 [11:22<39:51,  1.93s/it]\r",
      " 22%|██▏       | 355/1595 [11:22<36:44,  1.78s/it]"
     ]
    },
    {
     "name": "stdout",
     "output_type": "stream",
     "text": [
      "chunks for patient: ef8a19fb5314b3222482fa325dd49467 : 7600\n"
     ]
    },
    {
     "name": "stderr",
     "output_type": "stream",
     "text": [
      "\r",
      "          \r",
      "\r",
      "          \r",
      " 22%|██▏       | 355/1595 [11:23<39:48,  1.93s/it]\r",
      " 22%|██▏       | 356/1595 [11:23<36:58,  1.79s/it]"
     ]
    },
    {
     "name": "stdout",
     "output_type": "stream",
     "text": [
      "chunks for patient: 763288341ee363a264fe45a28ea28c21 : 14872\n"
     ]
    },
    {
     "name": "stderr",
     "output_type": "stream",
     "text": [
      "\r",
      "          \r",
      "\r",
      "          \r",
      " 22%|██▏       | 356/1595 [11:25<39:45,  1.93s/it]\r",
      " 22%|██▏       | 357/1595 [11:25<34:48,  1.69s/it]"
     ]
    },
    {
     "name": "stdout",
     "output_type": "stream",
     "text": [
      "chunks for patient: 5518b27f000e34cf2db5a362f4fac613 : 10143\n"
     ]
    },
    {
     "name": "stderr",
     "output_type": "stream",
     "text": [
      "\r",
      "          \r",
      "\r",
      "          \r",
      " 22%|██▏       | 357/1595 [11:26<39:42,  1.92s/it]\r",
      " 22%|██▏       | 358/1595 [11:26<34:08,  1.66s/it]"
     ]
    },
    {
     "name": "stdout",
     "output_type": "stream",
     "text": [
      "chunks for patient: c95f2aa23e6d6702f5b16a3b35f89cf0 : 12696\n"
     ]
    },
    {
     "name": "stderr",
     "output_type": "stream",
     "text": [
      "\r",
      "          \r",
      "\r",
      "          \r",
      " 22%|██▏       | 358/1595 [11:28<39:37,  1.92s/it]\r",
      " 23%|██▎       | 359/1595 [11:28<31:31,  1.53s/it]"
     ]
    },
    {
     "name": "stdout",
     "output_type": "stream",
     "text": [
      "chunks for patient: 61406252b7c29fbe372adfa953d95199 : 9200\n"
     ]
    },
    {
     "name": "stderr",
     "output_type": "stream",
     "text": [
      "\r",
      "          \r",
      "\r",
      "          \r",
      " 23%|██▎       | 359/1595 [11:29<39:34,  1.92s/it]\r",
      " 23%|██▎       | 360/1595 [11:29<31:09,  1.51s/it]"
     ]
    },
    {
     "name": "stdout",
     "output_type": "stream",
     "text": [
      "chunks for patient: 3bbab45d770ecd681be143f67cb4e5f3 : 10648\n"
     ]
    },
    {
     "name": "stderr",
     "output_type": "stream",
     "text": [
      "\r",
      "          \r",
      "\r",
      "          \r",
      " 23%|██▎       | 360/1595 [11:31<39:31,  1.92s/it]\r",
      " 23%|██▎       | 361/1595 [11:31<31:02,  1.51s/it]"
     ]
    },
    {
     "name": "stdout",
     "output_type": "stream",
     "text": [
      "chunks for patient: 504e447ad62ea9ebb283873e044b5dd2 : 12696\n"
     ]
    },
    {
     "name": "stderr",
     "output_type": "stream",
     "text": [
      "\r",
      "          \r",
      "\r",
      "          \r",
      " 23%|██▎       | 361/1595 [11:32<39:28,  1.92s/it]\r",
      " 23%|██▎       | 362/1595 [11:32<32:23,  1.58s/it]"
     ]
    },
    {
     "name": "stdout",
     "output_type": "stream",
     "text": [
      "chunks for patient: c3d37bdb061c189269f4223f8bebeae0 : 12168\n"
     ]
    },
    {
     "name": "stderr",
     "output_type": "stream",
     "text": [
      "\r",
      "          \r",
      "\r",
      "          \r",
      " 23%|██▎       | 362/1595 [11:35<39:27,  1.92s/it]\r",
      " 23%|██▎       | 363/1595 [11:35<36:24,  1.77s/it]"
     ]
    },
    {
     "name": "stdout",
     "output_type": "stream",
     "text": [
      "chunks for patient: a2fe50d59500281851fce256e922b675 : 17576\n"
     ]
    },
    {
     "name": "stderr",
     "output_type": "stream",
     "text": [
      "\r",
      "          \r",
      "\r",
      "          \r",
      " 23%|██▎       | 363/1595 [11:37<39:27,  1.92s/it]\r",
      " 23%|██▎       | 364/1595 [11:37<39:57,  1.95s/it]"
     ]
    },
    {
     "name": "stdout",
     "output_type": "stream",
     "text": [
      "chunks for patient: eb9db3f740f8e153e85f83c57bc4e522 : 18032\n"
     ]
    },
    {
     "name": "stderr",
     "output_type": "stream",
     "text": [
      "\r",
      "          \r",
      "\r",
      "          \r",
      " 23%|██▎       | 364/1595 [11:39<39:24,  1.92s/it]\r",
      " 23%|██▎       | 365/1595 [11:39<38:36,  1.88s/it]"
     ]
    },
    {
     "name": "stdout",
     "output_type": "stream",
     "text": [
      "chunks for patient: 88be713eb83cec7d31c4553ca05b2019 : 14400\n"
     ]
    },
    {
     "name": "stderr",
     "output_type": "stream",
     "text": [
      "\r",
      "          \r",
      "\r",
      "          \r",
      " 23%|██▎       | 365/1595 [11:42<39:27,  1.93s/it]\r",
      " 23%|██▎       | 366/1595 [11:42<48:03,  2.35s/it]"
     ]
    },
    {
     "name": "stdout",
     "output_type": "stream",
     "text": [
      "chunks for patient: 5d240c6a6d3009e61cb09ce49f641b4c : 32400\n"
     ]
    },
    {
     "name": "stderr",
     "output_type": "stream",
     "text": [
      "\r",
      "          \r",
      "\r",
      "          \r",
      " 23%|██▎       | 366/1595 [11:44<39:27,  1.93s/it]\r",
      " 23%|██▎       | 367/1595 [11:44<47:39,  2.33s/it]"
     ]
    },
    {
     "name": "stdout",
     "output_type": "stream",
     "text": [
      "chunks for patient: aa198aacdec142168b8de04c4444054e : 17496\n"
     ]
    },
    {
     "name": "stderr",
     "output_type": "stream",
     "text": [
      "\r",
      "          \r",
      "\r",
      "          \r",
      " 23%|██▎       | 367/1595 [11:46<39:24,  1.93s/it]\r",
      " 23%|██▎       | 368/1595 [11:46<43:46,  2.14s/it]"
     ]
    },
    {
     "name": "stdout",
     "output_type": "stream",
     "text": [
      "chunks for patient: 81bd0c062bfa8e85616878bab90f2314 : 13248\n"
     ]
    },
    {
     "name": "stderr",
     "output_type": "stream",
     "text": [
      "\r",
      "          \r",
      "\r",
      "          \r",
      " 23%|██▎       | 368/1595 [11:48<39:22,  1.93s/it]\r",
      " 23%|██▎       | 369/1595 [11:48<42:38,  2.09s/it]"
     ]
    },
    {
     "name": "stdout",
     "output_type": "stream",
     "text": [
      "chunks for patient: ced4f41abff9290b0638b0a25cd5a26d : 16767\n"
     ]
    },
    {
     "name": "stderr",
     "output_type": "stream",
     "text": [
      "\r",
      "          \r",
      "\r",
      "          \r",
      " 23%|██▎       | 369/1595 [11:50<39:20,  1.93s/it]\r",
      " 23%|██▎       | 370/1595 [11:50<40:45,  2.00s/it]"
     ]
    },
    {
     "name": "stdout",
     "output_type": "stream",
     "text": [
      "chunks for patient: 75150225ab1f5d910bc64ad68ea4d221 : 13225\n"
     ]
    },
    {
     "name": "stderr",
     "output_type": "stream",
     "text": [
      "\r",
      "          \r",
      "\r",
      "          \r",
      " 23%|██▎       | 370/1595 [11:52<39:18,  1.93s/it]\r",
      " 23%|██▎       | 371/1595 [11:52<40:37,  1.99s/it]"
     ]
    },
    {
     "name": "stdout",
     "output_type": "stream",
     "text": [
      "chunks for patient: 0092c13f9e00a3717fdc940641f00015 : 15625\n"
     ]
    },
    {
     "name": "stderr",
     "output_type": "stream",
     "text": [
      "\r",
      "          \r",
      "\r",
      "          \r",
      " 23%|██▎       | 371/1595 [11:53<39:14,  1.92s/it]\r",
      " 23%|██▎       | 372/1595 [11:53<36:40,  1.80s/it]"
     ]
    },
    {
     "name": "stdout",
     "output_type": "stream",
     "text": [
      "chunks for patient: e6d8ae8c3b0817df994a1ce3b37a7efb : 13750\n"
     ]
    },
    {
     "name": "stderr",
     "output_type": "stream",
     "text": [
      "\r",
      "          \r",
      "\r",
      "          \r",
      " 23%|██▎       | 372/1595 [11:56<39:14,  1.92s/it]\r",
      " 23%|██▎       | 373/1595 [11:56<39:54,  1.96s/it]"
     ]
    },
    {
     "name": "stdout",
     "output_type": "stream",
     "text": [
      "chunks for patient: 07349deeea878c723317a1ce42cc7e58 : 16900\n"
     ]
    },
    {
     "name": "stderr",
     "output_type": "stream",
     "text": [
      "\r",
      "          \r",
      "\r",
      "          \r",
      " 23%|██▎       | 373/1595 [11:56<39:08,  1.92s/it]\r",
      " 23%|██▎       | 374/1595 [11:56<33:32,  1.65s/it]"
     ]
    },
    {
     "name": "stdout",
     "output_type": "stream",
     "text": [
      "chunks for patient: 931253c408c440a8494dfaa74251efd3 : 8000\n"
     ]
    },
    {
     "name": "stderr",
     "output_type": "stream",
     "text": [
      "\r",
      "          \r",
      "\r",
      "          \r",
      " 23%|██▎       | 374/1595 [11:58<39:05,  1.92s/it]\r",
      " 24%|██▎       | 375/1595 [11:58<32:10,  1.58s/it]"
     ]
    },
    {
     "name": "stdout",
     "output_type": "stream",
     "text": [
      "chunks for patient: 4b351d0c19be183cc880f5af3fe5abee : 13248\n"
     ]
    },
    {
     "name": "stderr",
     "output_type": "stream",
     "text": [
      "\r",
      "          \r",
      "\r",
      "          \r",
      " 24%|██▎       | 375/1595 [11:59<39:01,  1.92s/it]\r",
      " 24%|██▎       | 376/1595 [11:59<30:52,  1.52s/it]"
     ]
    },
    {
     "name": "stdout",
     "output_type": "stream",
     "text": [
      "chunks for patient: 6c1136ce7fbc5c7b503aa08da6abedd2 : 9261\n"
     ]
    },
    {
     "name": "stderr",
     "output_type": "stream",
     "text": [
      "\r",
      "          \r",
      "\r",
      "          \r",
      " 24%|██▎       | 376/1595 [12:02<39:01,  1.92s/it]\r",
      " 24%|██▎       | 377/1595 [12:02<35:59,  1.77s/it]"
     ]
    },
    {
     "name": "stdout",
     "output_type": "stream",
     "text": [
      "chunks for patient: f4d23e0272a2ce5bfc7f07033d4f2e7d : 16900\n"
     ]
    },
    {
     "name": "stderr",
     "output_type": "stream",
     "text": [
      "\r",
      "          \r",
      "\r",
      "          \r",
      " 24%|██▎       | 377/1595 [12:04<38:59,  1.92s/it]\r",
      " 24%|██▎       | 378/1595 [12:04<38:08,  1.88s/it]"
     ]
    },
    {
     "name": "stdout",
     "output_type": "stream",
     "text": [
      "chunks for patient: 348a53f500ada390ddd00cc47d310b2c : 16875\n"
     ]
    },
    {
     "name": "stderr",
     "output_type": "stream",
     "text": [
      "\r",
      "          \r",
      "\r",
      "          \r",
      " 24%|██▎       | 378/1595 [12:06<38:57,  1.92s/it]\r",
      " 24%|██▍       | 379/1595 [12:06<37:24,  1.85s/it]"
     ]
    },
    {
     "name": "stdout",
     "output_type": "stream",
     "text": [
      "chunks for patient: 09b1c678fc1009d84a038cd879be4198 : 12096\n"
     ]
    },
    {
     "name": "stderr",
     "output_type": "stream",
     "text": [
      "\r",
      "          \r",
      "\r",
      "          \r",
      " 24%|██▍       | 379/1595 [12:07<38:55,  1.92s/it]\r",
      " 24%|██▍       | 380/1595 [12:07<37:35,  1.86s/it]"
     ]
    },
    {
     "name": "stdout",
     "output_type": "stream",
     "text": [
      "chunks for patient: efcb6def7a2080243052b6046186ab24 : 16875\n"
     ]
    },
    {
     "name": "stderr",
     "output_type": "stream",
     "text": [
      "\r",
      "          \r",
      "\r",
      "          \r",
      " 24%|██▍       | 380/1595 [12:09<38:53,  1.92s/it]\r",
      " 24%|██▍       | 381/1595 [12:09<36:57,  1.83s/it]"
     ]
    },
    {
     "name": "stdout",
     "output_type": "stream",
     "text": [
      "chunks for patient: eba4bfb93928d424ff21b5be96b5c09b : 16875\n"
     ]
    },
    {
     "name": "stderr",
     "output_type": "stream",
     "text": [
      "\r",
      "          \r",
      "\r",
      "          \r",
      " 24%|██▍       | 381/1595 [12:11<38:52,  1.92s/it]\r",
      " 24%|██▍       | 382/1595 [12:11<39:52,  1.97s/it]"
     ]
    },
    {
     "name": "stdout",
     "output_type": "stream",
     "text": [
      "chunks for patient: 55d88980822c2e5d39b3d0ec172fa101 : 15548\n"
     ]
    },
    {
     "name": "stderr",
     "output_type": "stream",
     "text": [
      "\r",
      "          \r",
      "\r",
      "          \r",
      " 24%|██▍       | 382/1595 [12:13<38:48,  1.92s/it]\r",
      " 24%|██▍       | 383/1595 [12:13<36:10,  1.79s/it]"
     ]
    },
    {
     "name": "stdout",
     "output_type": "stream",
     "text": [
      "chunks for patient: fac65dbf7b6972049cfd37b5b122ec0b : 10584\n"
     ]
    },
    {
     "name": "stderr",
     "output_type": "stream",
     "text": [
      "\r",
      "          \r",
      "\r",
      "          \r",
      " 24%|██▍       | 383/1595 [12:14<38:44,  1.92s/it]\r",
      " 24%|██▍       | 384/1595 [12:14<32:45,  1.62s/it]"
     ]
    },
    {
     "name": "stdout",
     "output_type": "stream",
     "text": [
      "chunks for patient: 87cdb87db24528fdb8479220a1854b83 : 8400\n"
     ]
    },
    {
     "name": "stderr",
     "output_type": "stream",
     "text": [
      "\r",
      "          \r",
      "\r",
      "          \r",
      " 24%|██▍       | 384/1595 [12:15<38:41,  1.92s/it]\r",
      " 24%|██▍       | 385/1595 [12:15<31:23,  1.56s/it]"
     ]
    },
    {
     "name": "stdout",
     "output_type": "stream",
     "text": [
      "chunks for patient: e2a7eaebd0830061e77690aa48f11936 : 9702\n"
     ]
    },
    {
     "name": "stderr",
     "output_type": "stream",
     "text": [
      "\r",
      "          \r",
      "\r",
      "          \r",
      " 24%|██▍       | 385/1595 [12:16<38:36,  1.91s/it]\r",
      " 24%|██▍       | 386/1595 [12:16<27:37,  1.37s/it]"
     ]
    },
    {
     "name": "stdout",
     "output_type": "stream",
     "text": [
      "chunks for patient: 2969c7ad0e550fee1f4a68fcb3bbb9e5 : 7452\n"
     ]
    },
    {
     "name": "stderr",
     "output_type": "stream",
     "text": [
      "\r",
      "          \r",
      "\r",
      "          \r",
      " 24%|██▍       | 386/1595 [12:18<38:33,  1.91s/it]\r",
      " 24%|██▍       | 387/1595 [12:18<30:21,  1.51s/it]"
     ]
    },
    {
     "name": "stdout",
     "output_type": "stream",
     "text": [
      "chunks for patient: 099cec971282b1531d297e5d0d423598 : 11250\n"
     ]
    },
    {
     "name": "stderr",
     "output_type": "stream",
     "text": [
      "\r",
      "          \r",
      "\r",
      "          \r",
      " 24%|██▍       | 387/1595 [12:21<38:33,  1.92s/it]\r",
      " 24%|██▍       | 388/1595 [12:21<36:02,  1.79s/it]"
     ]
    },
    {
     "name": "stdout",
     "output_type": "stream",
     "text": [
      "chunks for patient: 79e7773230a96a6789c2c64ec39312cb : 18816\n"
     ]
    },
    {
     "name": "stderr",
     "output_type": "stream",
     "text": [
      "\r",
      "          \r",
      "\r",
      "          \r",
      " 24%|██▍       | 388/1595 [12:23<38:32,  1.92s/it]\r",
      " 24%|██▍       | 389/1595 [12:23<38:54,  1.94s/it]"
     ]
    },
    {
     "name": "stdout",
     "output_type": "stream",
     "text": [
      "chunks for patient: 0e7ffa620c6db473b70c8454f215306b : 17500\n"
     ]
    },
    {
     "name": "stderr",
     "output_type": "stream",
     "text": [
      "\r",
      "          \r",
      "\r",
      "          \r",
      " 24%|██▍       | 389/1595 [12:25<38:32,  1.92s/it]\r",
      " 24%|██▍       | 390/1595 [12:25<42:06,  2.10s/it]"
     ]
    },
    {
     "name": "stdout",
     "output_type": "stream",
     "text": [
      "chunks for patient: 597643aa6bb96b705eac52e03a307d6d : 17576\n"
     ]
    },
    {
     "name": "stderr",
     "output_type": "stream",
     "text": [
      "\r",
      "          \r",
      "\r",
      "          \r",
      " 24%|██▍       | 390/1595 [12:27<38:29,  1.92s/it]\r",
      " 25%|██▍       | 391/1595 [12:27<38:46,  1.93s/it]"
     ]
    },
    {
     "name": "stdout",
     "output_type": "stream",
     "text": [
      "chunks for patient: c7729e1c348f7d54d743388767c69cb4 : 11132\n"
     ]
    },
    {
     "name": "stderr",
     "output_type": "stream",
     "text": [
      "\r",
      "          \r",
      "\r",
      "          \r",
      " 25%|██▍       | 391/1595 [12:29<38:26,  1.92s/it]\r",
      " 25%|██▍       | 392/1595 [12:29<37:02,  1.85s/it]"
     ]
    },
    {
     "name": "stdout",
     "output_type": "stream",
     "text": [
      "chunks for patient: e6d4a747235bfcc1feac759571c8485c : 13225\n"
     ]
    },
    {
     "name": "stderr",
     "output_type": "stream",
     "text": [
      "\r",
      "          \r",
      "\r",
      "          \r",
      " 25%|██▍       | 392/1595 [12:31<38:25,  1.92s/it]\r",
      " 25%|██▍       | 393/1595 [12:31<39:12,  1.96s/it]"
     ]
    },
    {
     "name": "stdout",
     "output_type": "stream",
     "text": [
      "chunks for patient: 839502f9ff68fd778b435255690f3061 : 16250\n"
     ]
    },
    {
     "name": "stderr",
     "output_type": "stream",
     "text": [
      "\r",
      "          \r",
      "\r",
      "          \r",
      " 25%|██▍       | 393/1595 [12:33<38:26,  1.92s/it]\r",
      " 25%|██▍       | 394/1595 [12:33<43:10,  2.16s/it]"
     ]
    },
    {
     "name": "stdout",
     "output_type": "stream",
     "text": [
      "chunks for patient: c8594cc837b12c612d8b9a0913240f8a : 20184\n"
     ]
    },
    {
     "name": "stderr",
     "output_type": "stream",
     "text": [
      "\r",
      "          \r",
      "\r",
      "          \r",
      " 25%|██▍       | 394/1595 [12:35<38:23,  1.92s/it]\r",
      " 25%|██▍       | 395/1595 [12:35<40:55,  2.05s/it]"
     ]
    },
    {
     "name": "stdout",
     "output_type": "stream",
     "text": [
      "chunks for patient: fcdc2d423356d53759a8f602d40785a6 : 12672\n"
     ]
    },
    {
     "name": "stderr",
     "output_type": "stream",
     "text": [
      "\r",
      "          \r",
      "\r",
      "          \r",
      " 25%|██▍       | 395/1595 [12:37<38:20,  1.92s/it]\r",
      " 25%|██▍       | 396/1595 [12:37<36:51,  1.84s/it]"
     ]
    },
    {
     "name": "stdout",
     "output_type": "stream",
     "text": [
      "chunks for patient: af3657cf479490d027ada92b330f80af : 10143\n"
     ]
    },
    {
     "name": "stderr",
     "output_type": "stream",
     "text": [
      "\r",
      "          \r",
      "\r",
      "          \r",
      " 25%|██▍       | 396/1595 [12:39<38:20,  1.92s/it]\r",
      " 25%|██▍       | 397/1595 [12:39<41:30,  2.08s/it]"
     ]
    },
    {
     "name": "stdout",
     "output_type": "stream",
     "text": [
      "chunks for patient: 99579bbe92d0bb4d5cd98982305870af : 18502\n"
     ]
    },
    {
     "name": "stderr",
     "output_type": "stream",
     "text": [
      "\r",
      "          \r",
      "\r",
      "          \r",
      " 25%|██▍       | 397/1595 [12:41<38:18,  1.92s/it]\r",
      " 25%|██▍       | 398/1595 [12:41<40:51,  2.05s/it]"
     ]
    },
    {
     "name": "stdout",
     "output_type": "stream",
     "text": [
      "chunks for patient: 1c81d86923dad37b411f3a5936eb622d : 14872\n"
     ]
    },
    {
     "name": "stderr",
     "output_type": "stream",
     "text": [
      "\r",
      "          \r",
      "\r",
      "          \r",
      " 25%|██▍       | 398/1595 [12:43<38:15,  1.92s/it]\r",
      " 25%|██▌       | 399/1595 [12:43<37:29,  1.88s/it]"
     ]
    },
    {
     "name": "stdout",
     "output_type": "stream",
     "text": [
      "chunks for patient: 2bb5f7e8f10e1e39b7f81b5aa98676ea : 10143\n"
     ]
    },
    {
     "name": "stderr",
     "output_type": "stream",
     "text": [
      "\r",
      "          \r",
      "\r",
      "          \r",
      " 25%|██▌       | 399/1595 [12:45<38:13,  1.92s/it]\r",
      " 25%|██▌       | 400/1595 [12:45<38:21,  1.93s/it]"
     ]
    },
    {
     "name": "stdout",
     "output_type": "stream",
     "text": [
      "chunks for patient: 86ff28a92989348192783795a5b442e5 : 15000\n"
     ]
    },
    {
     "name": "stderr",
     "output_type": "stream",
     "text": [
      "\r",
      "          \r",
      "\r",
      "          \r",
      " 25%|██▌       | 400/1595 [12:47<38:12,  1.92s/it]\r",
      " 25%|██▌       | 401/1595 [12:47<38:37,  1.94s/it]"
     ]
    },
    {
     "name": "stdout",
     "output_type": "stream",
     "text": [
      "chunks for patient: 3a1a293ecad44010da9907bfc91d94cd : 14400\n"
     ]
    },
    {
     "name": "stderr",
     "output_type": "stream",
     "text": [
      "\r",
      "          \r",
      "\r",
      "          \r",
      " 25%|██▌       | 401/1595 [12:49<38:11,  1.92s/it]\r",
      " 25%|██▌       | 402/1595 [12:49<40:45,  2.05s/it]"
     ]
    },
    {
     "name": "stdout",
     "output_type": "stream",
     "text": [
      "chunks for patient: e572e978c2b50aca781e6302937e5b13 : 16224\n"
     ]
    },
    {
     "name": "stderr",
     "output_type": "stream",
     "text": [
      "\r",
      "          \r",
      "\r",
      "          \r",
      " 25%|██▌       | 402/1595 [12:51<38:09,  1.92s/it]\r",
      " 25%|██▌       | 403/1595 [12:51<40:09,  2.02s/it]"
     ]
    },
    {
     "name": "stdout",
     "output_type": "stream",
     "text": [
      "chunks for patient: cfbcb16fea277226d6771d8b1966397a : 16250\n"
     ]
    },
    {
     "name": "stderr",
     "output_type": "stream",
     "text": [
      "\r",
      "          \r",
      "\r",
      "          \r",
      " 25%|██▌       | 403/1595 [12:53<38:07,  1.92s/it]\r",
      " 25%|██▌       | 404/1595 [12:53<38:40,  1.95s/it]"
     ]
    },
    {
     "name": "stdout",
     "output_type": "stream",
     "text": [
      "chunks for patient: 61017c23bbae6e17062ff582d1a237b3 : 13750\n"
     ]
    },
    {
     "name": "stderr",
     "output_type": "stream",
     "text": [
      "\r",
      "          \r",
      "\r",
      "          \r",
      " 25%|██▌       | 404/1595 [12:58<38:13,  1.93s/it]\r",
      " 25%|██▌       | 405/1595 [12:58<55:33,  2.80s/it]"
     ]
    },
    {
     "name": "stdout",
     "output_type": "stream",
     "text": [
      "chunks for patient: 648c99653d512edc1d28dd8e7054ceab : 39527\n"
     ]
    },
    {
     "name": "stderr",
     "output_type": "stream",
     "text": [
      "\r",
      "          \r",
      "\r",
      "          \r",
      " 25%|██▌       | 405/1595 [13:00<38:12,  1.93s/it]\r",
      " 25%|██▌       | 406/1595 [13:00<51:14,  2.59s/it]"
     ]
    },
    {
     "name": "stdout",
     "output_type": "stream",
     "text": [
      "chunks for patient: aa477f5b9ce7ab1e886e474be5397727 : 16224\n"
     ]
    },
    {
     "name": "stderr",
     "output_type": "stream",
     "text": [
      "\r",
      "          \r",
      "\r",
      "          \r",
      " 25%|██▌       | 406/1595 [13:01<38:08,  1.92s/it]\r",
      " 26%|██▌       | 407/1595 [13:01<43:20,  2.19s/it]"
     ]
    },
    {
     "name": "stdout",
     "output_type": "stream",
     "text": [
      "chunks for patient: c67de8fbbe1e58b464334f93a1dd0447 : 12167\n"
     ]
    },
    {
     "name": "stderr",
     "output_type": "stream",
     "text": [
      "\r",
      "          \r",
      "\r",
      "          \r",
      " 26%|██▌       | 407/1595 [13:02<38:04,  1.92s/it]\r",
      " 26%|██▌       | 408/1595 [13:02<38:23,  1.94s/it]"
     ]
    },
    {
     "name": "stdout",
     "output_type": "stream",
     "text": [
      "chunks for patient: a15d4fd19fb32f4858f472962c4bb230 : 8303\n"
     ]
    },
    {
     "name": "stderr",
     "output_type": "stream",
     "text": [
      "\r",
      "          \r",
      "\r",
      "          \r",
      " 26%|██▌       | 408/1595 [13:05<38:04,  1.92s/it]\r",
      " 26%|██▌       | 409/1595 [13:05<40:54,  2.07s/it]"
     ]
    },
    {
     "name": "stdout",
     "output_type": "stream",
     "text": [
      "chunks for patient: 199ff05d08ade6e298d37cc542bc3565 : 16900\n"
     ]
    },
    {
     "name": "stderr",
     "output_type": "stream",
     "text": [
      "\r",
      "          \r",
      "\r",
      "          \r",
      " 26%|██▌       | 409/1595 [13:07<38:02,  1.92s/it]\r",
      " 26%|██▌       | 410/1595 [13:07<39:43,  2.01s/it]"
     ]
    },
    {
     "name": "stdout",
     "output_type": "stream",
     "text": [
      "chunks for patient: 9b4f0020e407fd7f980f4241fb6ac7ce : 15680\n"
     ]
    },
    {
     "name": "stderr",
     "output_type": "stream",
     "text": [
      "\r",
      "          \r",
      "\r",
      "          \r",
      " 26%|██▌       | 410/1595 [13:08<37:58,  1.92s/it]\r",
      " 26%|██▌       | 411/1595 [13:08<36:08,  1.83s/it]"
     ]
    },
    {
     "name": "stdout",
     "output_type": "stream",
     "text": [
      "chunks for patient: 799c0026d66479f7447ed0df5955f051 : 11132\n"
     ]
    },
    {
     "name": "stderr",
     "output_type": "stream",
     "text": [
      "\r",
      "          \r",
      "\r",
      "          \r",
      " 26%|██▌       | 411/1595 [13:10<37:57,  1.92s/it]\r",
      " 26%|██▌       | 412/1595 [13:10<37:45,  1.92s/it]"
     ]
    },
    {
     "name": "stdout",
     "output_type": "stream",
     "text": [
      "chunks for patient: 96fdfdfc4417d5bf8e6750edbac8ff90 : 17661\n"
     ]
    },
    {
     "name": "stderr",
     "output_type": "stream",
     "text": [
      "\r",
      "          \r",
      "\r",
      "          \r",
      " 26%|██▌       | 412/1595 [13:12<37:54,  1.92s/it]\r",
      " 26%|██▌       | 413/1595 [13:12<35:58,  1.83s/it]"
     ]
    },
    {
     "name": "stdout",
     "output_type": "stream",
     "text": [
      "chunks for patient: c1673993c070080c1d65aca6799c66f8 : 12167\n"
     ]
    },
    {
     "name": "stderr",
     "output_type": "stream",
     "text": [
      "\r",
      "          \r",
      "\r",
      "          \r",
      " 26%|██▌       | 413/1595 [13:13<37:51,  1.92s/it]\r",
      " 26%|██▌       | 414/1595 [13:13<33:52,  1.72s/it]"
     ]
    },
    {
     "name": "stdout",
     "output_type": "stream",
     "text": [
      "chunks for patient: 570ea80b0dcc08f3e8751a6f4b2b1cd5 : 12096\n"
     ]
    },
    {
     "name": "stderr",
     "output_type": "stream",
     "text": [
      "\r",
      "          \r",
      "\r",
      "          \r",
      " 26%|██▌       | 414/1595 [13:15<37:50,  1.92s/it]\r",
      " 26%|██▌       | 415/1595 [13:15<37:17,  1.90s/it]"
     ]
    },
    {
     "name": "stdout",
     "output_type": "stream",
     "text": [
      "chunks for patient: be2be08151ef4d3aebd3ea4fcd5d364b : 17661\n"
     ]
    },
    {
     "name": "stderr",
     "output_type": "stream",
     "text": [
      "\r",
      "          \r",
      "\r",
      "          \r",
      " 26%|██▌       | 415/1595 [13:18<37:49,  1.92s/it]\r",
      " 26%|██▌       | 416/1595 [13:18<38:25,  1.96s/it]"
     ]
    },
    {
     "name": "stdout",
     "output_type": "stream",
     "text": [
      "chunks for patient: daee58dd09c005fe41ca370c2a2fdfa9 : 16224\n"
     ]
    },
    {
     "name": "stderr",
     "output_type": "stream",
     "text": [
      "\r",
      "          \r",
      "\r",
      "          \r",
      " 26%|██▌       | 416/1595 [13:20<37:48,  1.92s/it]\r",
      " 26%|██▌       | 417/1595 [13:20<40:27,  2.06s/it]"
     ]
    },
    {
     "name": "stdout",
     "output_type": "stream",
     "text": [
      "chunks for patient: f243bd277f1876a77a0fb18f9092105a : 14375\n"
     ]
    },
    {
     "name": "stderr",
     "output_type": "stream",
     "text": [
      "\r",
      "          \r",
      "\r",
      "          \r",
      " 26%|██▌       | 417/1595 [13:21<37:45,  1.92s/it]\r",
      " 26%|██▌       | 418/1595 [13:21<37:52,  1.93s/it]"
     ]
    },
    {
     "name": "stdout",
     "output_type": "stream",
     "text": [
      "chunks for patient: 31f35f920a472a1c3eacb565fe027923 : 11132\n"
     ]
    },
    {
     "name": "stderr",
     "output_type": "stream",
     "text": [
      "\r",
      "          \r",
      "\r",
      "          \r",
      " 26%|██▌       | 418/1595 [13:23<37:42,  1.92s/it]\r",
      " 26%|██▋       | 419/1595 [13:23<35:47,  1.83s/it]"
     ]
    },
    {
     "name": "stdout",
     "output_type": "stream",
     "text": [
      "chunks for patient: fb5874408966d7c6bebd3d84a5599e20 : 13248\n"
     ]
    },
    {
     "name": "stderr",
     "output_type": "stream",
     "text": [
      "\r",
      "          \r",
      "\r",
      "          \r",
      " 26%|██▋       | 419/1595 [13:26<37:42,  1.92s/it]\r",
      " 26%|██▋       | 420/1595 [13:26<39:53,  2.04s/it]"
     ]
    },
    {
     "name": "stdout",
     "output_type": "stream",
     "text": [
      "chunks for patient: 6d43fdb6eb1bec3a5f4febfd442e8c93 : 20412\n"
     ]
    },
    {
     "name": "stderr",
     "output_type": "stream",
     "text": [
      "\r",
      "          \r",
      "\r",
      "          \r",
      " 26%|██▋       | 420/1595 [13:27<37:39,  1.92s/it]\r",
      " 26%|██▋       | 421/1595 [13:27<37:23,  1.91s/it]"
     ]
    },
    {
     "name": "stdout",
     "output_type": "stream",
     "text": [
      "chunks for patient: 385f1f49b0c20563177c36b7470f1c46 : 11638\n"
     ]
    },
    {
     "name": "stderr",
     "output_type": "stream",
     "text": [
      "\r",
      "          \r",
      "\r",
      "          \r",
      " 26%|██▋       | 421/1595 [13:29<37:38,  1.92s/it]\r",
      " 26%|██▋       | 422/1595 [13:29<38:22,  1.96s/it]"
     ]
    },
    {
     "name": "stdout",
     "output_type": "stream",
     "text": [
      "chunks for patient: 0700108170c91ea2219006e9484999ef : 15625\n"
     ]
    },
    {
     "name": "stderr",
     "output_type": "stream",
     "text": [
      "\r",
      "          \r",
      "\r",
      "          \r",
      " 26%|██▋       | 422/1595 [13:32<37:37,  1.92s/it]\r",
      " 27%|██▋       | 423/1595 [13:32<40:34,  2.08s/it]"
     ]
    },
    {
     "name": "stdout",
     "output_type": "stream",
     "text": [
      "chunks for patient: 901ed0a38aa16933c04ffd531b0aa2cf : 20184\n"
     ]
    },
    {
     "name": "stderr",
     "output_type": "stream",
     "text": [
      "\r",
      "          \r",
      "\r",
      "          \r",
      " 27%|██▋       | 423/1595 [13:34<37:35,  1.92s/it]\r",
      " 27%|██▋       | 424/1595 [13:34<39:27,  2.02s/it]"
     ]
    },
    {
     "name": "stdout",
     "output_type": "stream",
     "text": [
      "chunks for patient: 327c4e9f365aec05222e253d1a80a1d4 : 14375\n"
     ]
    },
    {
     "name": "stderr",
     "output_type": "stream",
     "text": [
      "\r",
      "          \r",
      "\r",
      "          \r",
      " 27%|██▋       | 424/1595 [13:36<37:33,  1.92s/it]\r",
      " 27%|██▋       | 425/1595 [13:36<39:17,  2.02s/it]"
     ]
    },
    {
     "name": "stdout",
     "output_type": "stream",
     "text": [
      "chunks for patient: a8ff92ed7d8cf90d24f67ba6614c3e4f : 14976\n"
     ]
    },
    {
     "name": "stderr",
     "output_type": "stream",
     "text": [
      "\r",
      "          \r",
      "\r",
      "          \r",
      " 27%|██▋       | 425/1595 [13:38<37:33,  1.93s/it]\r",
      " 27%|██▋       | 426/1595 [13:38<41:36,  2.14s/it]"
     ]
    },
    {
     "name": "stdout",
     "output_type": "stream",
     "text": [
      "chunks for patient: d2285c33945ab3421d753b4fc59ac3ce : 15548\n"
     ]
    },
    {
     "name": "stderr",
     "output_type": "stream",
     "text": [
      "\r",
      "          \r",
      "\r",
      "          \r",
      " 27%|██▋       | 426/1595 [13:41<37:33,  1.93s/it]\r",
      " 27%|██▋       | 427/1595 [13:41<45:52,  2.36s/it]"
     ]
    },
    {
     "name": "stdout",
     "output_type": "stream",
     "text": [
      "chunks for patient: de04fbf5e6c2389f0d039398bdcda971 : 22103\n"
     ]
    },
    {
     "name": "stderr",
     "output_type": "stream",
     "text": [
      "\r",
      "          \r",
      "\r",
      "          \r",
      " 27%|██▋       | 427/1595 [13:43<37:33,  1.93s/it]\r",
      " 27%|██▋       | 428/1595 [13:43<47:17,  2.43s/it]"
     ]
    },
    {
     "name": "stdout",
     "output_type": "stream",
     "text": [
      "chunks for patient: 8815efa67adb15b2f8cfd49ec992f48e : 22707\n"
     ]
    },
    {
     "name": "stderr",
     "output_type": "stream",
     "text": [
      "\r",
      "          \r",
      "\r",
      "          \r",
      " 27%|██▋       | 428/1595 [13:45<37:31,  1.93s/it]\r",
      " 27%|██▋       | 429/1595 [13:45<43:21,  2.23s/it]"
     ]
    },
    {
     "name": "stdout",
     "output_type": "stream",
     "text": [
      "chunks for patient: ed83b655a1bbad40a782ad13cf27ce8f : 13248\n"
     ]
    },
    {
     "name": "stderr",
     "output_type": "stream",
     "text": [
      "\r",
      "          \r",
      "\r",
      "          \r",
      " 27%|██▋       | 429/1595 [13:47<37:29,  1.93s/it]\r",
      " 27%|██▋       | 430/1595 [13:47<41:36,  2.14s/it]"
     ]
    },
    {
     "name": "stdout",
     "output_type": "stream",
     "text": [
      "chunks for patient: fb7dfb6aae597d97c2da24179df0fe56 : 15548\n"
     ]
    },
    {
     "name": "stderr",
     "output_type": "stream",
     "text": [
      "\r",
      "          \r",
      "\r",
      "          \r",
      " 27%|██▋       | 430/1595 [13:49<37:28,  1.93s/it]\r",
      " 27%|██▋       | 431/1595 [13:49<42:54,  2.21s/it]"
     ]
    },
    {
     "name": "stdout",
     "output_type": "stream",
     "text": [
      "chunks for patient: a187b24f9827de759fb86a84e9b2e544 : 21025\n"
     ]
    },
    {
     "name": "stderr",
     "output_type": "stream",
     "text": [
      "\r",
      "          \r",
      "\r",
      "          \r",
      " 27%|██▋       | 431/1595 [13:51<37:26,  1.93s/it]\r",
      " 27%|██▋       | 432/1595 [13:51<39:46,  2.05s/it]"
     ]
    },
    {
     "name": "stdout",
     "output_type": "stream",
     "text": [
      "chunks for patient: e10c2b829c39d4a500c09caf04d461a1 : 11520\n"
     ]
    },
    {
     "name": "stderr",
     "output_type": "stream",
     "text": [
      "\r",
      "          \r",
      "\r",
      "          \r",
      " 27%|██▋       | 432/1595 [13:53<37:23,  1.93s/it]\r",
      " 27%|██▋       | 433/1595 [13:53<38:24,  1.98s/it]"
     ]
    },
    {
     "name": "stdout",
     "output_type": "stream",
     "text": [
      "chunks for patient: 494c42cb61c1e4a02504c16fe09a8129 : 16224\n"
     ]
    },
    {
     "name": "stderr",
     "output_type": "stream",
     "text": [
      "\r",
      "          \r",
      "\r",
      "          \r",
      " 27%|██▋       | 433/1595 [13:55<37:23,  1.93s/it]\r",
      " 27%|██▋       | 434/1595 [13:55<40:24,  2.09s/it]"
     ]
    },
    {
     "name": "stdout",
     "output_type": "stream",
     "text": [
      "chunks for patient: d421129acf503e770dc1575c1b959607 : 15000\n"
     ]
    },
    {
     "name": "stderr",
     "output_type": "stream",
     "text": [
      "\r",
      "          \r",
      "\r",
      "          \r",
      " 27%|██▋       | 434/1595 [13:56<37:18,  1.93s/it]\r",
      " 27%|██▋       | 435/1595 [13:56<34:14,  1.77s/it]"
     ]
    },
    {
     "name": "stdout",
     "output_type": "stream",
     "text": [
      "chunks for patient: 4d207541fac845d1a369a160f15d55e6 : 8800\n"
     ]
    },
    {
     "name": "stderr",
     "output_type": "stream",
     "text": [
      "\r",
      "          \r",
      "\r",
      "          \r",
      " 27%|██▋       | 435/1595 [13:58<37:16,  1.93s/it]\r",
      " 27%|██▋       | 436/1595 [13:58<34:42,  1.80s/it]"
     ]
    },
    {
     "name": "stdout",
     "output_type": "stream",
     "text": [
      "chunks for patient: 344ab37041900393b5498bdda6f43cac : 13750\n"
     ]
    },
    {
     "name": "stderr",
     "output_type": "stream",
     "text": [
      "\r",
      "          \r",
      "\r",
      "          \r",
      " 27%|██▋       | 436/1595 [14:00<37:14,  1.93s/it]\r",
      " 27%|██▋       | 437/1595 [14:00<35:43,  1.85s/it]"
     ]
    },
    {
     "name": "stdout",
     "output_type": "stream",
     "text": [
      "chunks for patient: e6b3e750c6c7a70ca512d77defcfe615 : 16900\n"
     ]
    },
    {
     "name": "stderr",
     "output_type": "stream",
     "text": [
      "\r",
      "          \r",
      "\r",
      "          \r",
      " 27%|██▋       | 437/1595 [14:02<37:12,  1.93s/it]\r",
      " 27%|██▋       | 438/1595 [14:02<35:52,  1.86s/it]"
     ]
    },
    {
     "name": "stdout",
     "output_type": "stream",
     "text": [
      "chunks for patient: 0679e5fd67b7441b8094494033f3881f : 12696\n"
     ]
    },
    {
     "name": "stderr",
     "output_type": "stream",
     "text": [
      "\r",
      "          \r",
      "\r",
      "          \r",
      " 27%|██▋       | 438/1595 [14:04<37:09,  1.93s/it]\r",
      " 28%|██▊       | 439/1595 [14:04<33:38,  1.75s/it]"
     ]
    },
    {
     "name": "stdout",
     "output_type": "stream",
     "text": [
      "chunks for patient: fa968673987cfd078d91641294c3bf63 : 9702\n"
     ]
    },
    {
     "name": "stderr",
     "output_type": "stream",
     "text": [
      "\r",
      "          \r",
      "\r",
      "          \r",
      " 28%|██▊       | 439/1595 [14:06<37:07,  1.93s/it]\r",
      " 28%|██▊       | 440/1595 [14:06<34:55,  1.81s/it]"
     ]
    },
    {
     "name": "stdout",
     "output_type": "stream",
     "text": [
      "chunks for patient: 84a6c418d57bfc5214639012998356d4 : 13750\n"
     ]
    },
    {
     "name": "stderr",
     "output_type": "stream",
     "text": [
      "\r",
      "          \r",
      "\r",
      "          \r",
      " 28%|██▊       | 440/1595 [14:07<37:05,  1.93s/it]\r",
      " 28%|██▊       | 441/1595 [14:07<35:20,  1.84s/it]"
     ]
    },
    {
     "name": "stdout",
     "output_type": "stream",
     "text": [
      "chunks for patient: 68f2b9c1fae9180356cb5c4fa95bd30a : 12696\n"
     ]
    },
    {
     "name": "stderr",
     "output_type": "stream",
     "text": [
      "\r",
      "          \r",
      "\r",
      "          \r",
      " 28%|██▊       | 441/1595 [14:10<37:05,  1.93s/it]\r",
      " 28%|██▊       | 442/1595 [14:10<39:38,  2.06s/it]"
     ]
    },
    {
     "name": "stdout",
     "output_type": "stream",
     "text": [
      "chunks for patient: 919b9f74bcee297abd6e217d185a025d : 23400\n"
     ]
    },
    {
     "name": "stderr",
     "output_type": "stream",
     "text": [
      "\r",
      "          \r",
      "\r",
      "          \r",
      " 28%|██▊       | 442/1595 [14:13<37:05,  1.93s/it]\r",
      " 28%|██▊       | 443/1595 [14:13<43:08,  2.25s/it]"
     ]
    },
    {
     "name": "stdout",
     "output_type": "stream",
     "text": [
      "chunks for patient: ac00af80df36484660203d5816d697aa : 21952\n"
     ]
    },
    {
     "name": "stderr",
     "output_type": "stream",
     "text": [
      "\r",
      "          \r",
      "\r",
      "          \r",
      " 28%|██▊       | 443/1595 [14:14<37:02,  1.93s/it]\r",
      " 28%|██▊       | 444/1595 [14:14<39:31,  2.06s/it]"
     ]
    },
    {
     "name": "stdout",
     "output_type": "stream",
     "text": [
      "chunks for patient: 90604d9cce6ab054664c8efa7ce61b20 : 13225\n"
     ]
    },
    {
     "name": "stderr",
     "output_type": "stream",
     "text": [
      "\r",
      "          \r",
      "\r",
      "          \r",
      " 28%|██▊       | 444/1595 [14:16<36:59,  1.93s/it]\r",
      " 28%|██▊       | 445/1595 [14:16<35:44,  1.86s/it]"
     ]
    },
    {
     "name": "stdout",
     "output_type": "stream",
     "text": [
      "chunks for patient: 80938b4f531fa2334c13d829339e1356 : 8800\n"
     ]
    },
    {
     "name": "stderr",
     "output_type": "stream",
     "text": [
      "\r",
      "          \r",
      "\r",
      "          \r",
      " 28%|██▊       | 445/1595 [14:18<36:57,  1.93s/it]\r",
      " 28%|██▊       | 446/1595 [14:18<35:34,  1.86s/it]"
     ]
    },
    {
     "name": "stdout",
     "output_type": "stream",
     "text": [
      "chunks for patient: 645e7f46eb9b834153ecf8e2b2921fe5 : 13824\n"
     ]
    },
    {
     "name": "stderr",
     "output_type": "stream",
     "text": [
      "\r",
      "          \r",
      "\r",
      "          \r",
      " 28%|██▊       | 446/1595 [14:20<36:56,  1.93s/it]\r",
      " 28%|██▊       | 447/1595 [14:20<38:04,  1.99s/it]"
     ]
    },
    {
     "name": "stdout",
     "output_type": "stream",
     "text": [
      "chunks for patient: 375a52b012066845a2eeb5032a92fc6b : 17496\n"
     ]
    },
    {
     "name": "stderr",
     "output_type": "stream",
     "text": [
      "\r",
      "          \r",
      "\r",
      "          \r",
      " 28%|██▊       | 447/1595 [14:22<36:55,  1.93s/it]\r",
      " 28%|██▊       | 448/1595 [14:22<39:18,  2.06s/it]"
     ]
    },
    {
     "name": "stdout",
     "output_type": "stream",
     "text": [
      "chunks for patient: ba71b330a16e8b4c852f9a8730ee33b9 : 17576\n"
     ]
    },
    {
     "name": "stderr",
     "output_type": "stream",
     "text": [
      "\r",
      "          \r",
      "\r",
      "          \r",
      " 28%|██▊       | 448/1595 [14:25<36:54,  1.93s/it]\r",
      " 28%|██▊       | 449/1595 [14:25<41:45,  2.19s/it]"
     ]
    },
    {
     "name": "stdout",
     "output_type": "stream",
     "text": [
      "chunks for patient: cc1bf5250466173086887675dff499c3 : 19600\n"
     ]
    },
    {
     "name": "stderr",
     "output_type": "stream",
     "text": [
      "\r",
      "          \r",
      "\r",
      "          \r",
      " 28%|██▊       | 449/1595 [14:27<36:53,  1.93s/it]\r",
      " 28%|██▊       | 450/1595 [14:27<41:11,  2.16s/it]"
     ]
    },
    {
     "name": "stdout",
     "output_type": "stream",
     "text": [
      "chunks for patient: aa594c8968f06fcf374e76bc9a375477 : 16875\n"
     ]
    },
    {
     "name": "stderr",
     "output_type": "stream",
     "text": [
      "\r",
      "          \r",
      "\r",
      "          \r",
      " 28%|██▊       | 450/1595 [14:29<36:52,  1.93s/it]\r",
      " 28%|██▊       | 451/1595 [14:29<43:20,  2.27s/it]"
     ]
    },
    {
     "name": "stdout",
     "output_type": "stream",
     "text": [
      "chunks for patient: 7797bfd33eb9f06da2b2f5d5c6501af4 : 18954\n"
     ]
    },
    {
     "name": "stderr",
     "output_type": "stream",
     "text": [
      "\r",
      "          \r",
      "\r",
      "          \r",
      " 28%|██▊       | 451/1595 [14:30<36:49,  1.93s/it]\r",
      " 28%|██▊       | 452/1595 [14:30<37:40,  1.98s/it]"
     ]
    },
    {
     "name": "stdout",
     "output_type": "stream",
     "text": [
      "chunks for patient: 1748ad43b222be66f3e5ae4bd70c02ac : 11109\n"
     ]
    },
    {
     "name": "stderr",
     "output_type": "stream",
     "text": [
      "\r",
      "          \r",
      "\r",
      "          \r",
      " 28%|██▊       | 452/1595 [14:32<36:46,  1.93s/it]\r",
      " 28%|██▊       | 453/1595 [14:32<35:54,  1.89s/it]"
     ]
    },
    {
     "name": "stdout",
     "output_type": "stream",
     "text": [
      "chunks for patient: 8c6f2ce60479f73c257173911aff3453 : 13754\n"
     ]
    },
    {
     "name": "stderr",
     "output_type": "stream",
     "text": [
      "\r",
      "          \r",
      "\r",
      "          \r",
      " 28%|██▊       | 453/1595 [14:34<36:45,  1.93s/it]\r",
      " 28%|██▊       | 454/1595 [14:34<37:11,  1.96s/it]"
     ]
    },
    {
     "name": "stdout",
     "output_type": "stream",
     "text": [
      "chunks for patient: a2a4bc7708f6831470d757cd6f32bffe : 19600\n"
     ]
    },
    {
     "name": "stderr",
     "output_type": "stream",
     "text": [
      "\r",
      "          \r",
      "\r",
      "          \r",
      " 28%|██▊       | 454/1595 [14:36<36:42,  1.93s/it]\r",
      " 29%|██▊       | 455/1595 [14:36<34:00,  1.79s/it]"
     ]
    },
    {
     "name": "stdout",
     "output_type": "stream",
     "text": [
      "chunks for patient: 13bb12b3b27d5a7b4b142503a1ae9e73 : 11025\n"
     ]
    },
    {
     "name": "stderr",
     "output_type": "stream",
     "text": [
      "\r",
      "          \r",
      "\r",
      "          \r",
      " 29%|██▊       | 455/1595 [14:37<36:39,  1.93s/it]\r",
      " 29%|██▊       | 456/1595 [14:37<33:17,  1.75s/it]"
     ]
    },
    {
     "name": "stdout",
     "output_type": "stream",
     "text": [
      "chunks for patient: f52bd66210db45189027991781e1162b : 13750\n"
     ]
    },
    {
     "name": "stderr",
     "output_type": "stream",
     "text": [
      "\r",
      "          \r",
      "\r",
      "          \r",
      " 29%|██▊       | 456/1595 [14:40<36:40,  1.93s/it]\r",
      " 29%|██▊       | 457/1595 [14:40<40:09,  2.12s/it]"
     ]
    },
    {
     "name": "stdout",
     "output_type": "stream",
     "text": [
      "chunks for patient: c1ba619e3b49e0cb7798bd10465c2b29 : 24576\n"
     ]
    },
    {
     "name": "stderr",
     "output_type": "stream",
     "text": [
      "\r",
      "          \r",
      "\r",
      "          \r",
      " 29%|██▊       | 457/1595 [14:42<36:38,  1.93s/it]\r",
      " 29%|██▊       | 458/1595 [14:42<40:09,  2.12s/it]"
     ]
    },
    {
     "name": "stdout",
     "output_type": "stream",
     "text": [
      "chunks for patient: 77033e4c1591403d1b1255607a20a983 : 14196\n"
     ]
    },
    {
     "name": "stderr",
     "output_type": "stream",
     "text": [
      "\r",
      "          \r",
      "\r",
      "          \r",
      " 29%|██▊       | 458/1595 [14:44<36:35,  1.93s/it]\r",
      " 29%|██▉       | 459/1595 [14:44<35:14,  1.86s/it]"
     ]
    },
    {
     "name": "stdout",
     "output_type": "stream",
     "text": [
      "chunks for patient: e9ccf1ce85c39779fafb9ec703c71555 : 10164\n"
     ]
    },
    {
     "name": "stderr",
     "output_type": "stream",
     "text": [
      "\r",
      "          \r",
      "\r",
      "          \r",
      " 29%|██▉       | 459/1595 [14:45<36:31,  1.93s/it]\r",
      " 29%|██▉       | 460/1595 [14:45<32:45,  1.73s/it]"
     ]
    },
    {
     "name": "stdout",
     "output_type": "stream",
     "text": [
      "chunks for patient: af4dfdda000c16c4cb77ea236cf1e524 : 11638\n"
     ]
    },
    {
     "name": "stderr",
     "output_type": "stream",
     "text": [
      "\r",
      "          \r",
      "\r",
      "          \r",
      " 29%|██▉       | 460/1595 [14:47<36:29,  1.93s/it]\r",
      " 29%|██▉       | 461/1595 [14:47<32:10,  1.70s/it]"
     ]
    },
    {
     "name": "stdout",
     "output_type": "stream",
     "text": [
      "chunks for patient: b227e1ab3efc4b3c5148a614d01edf50 : 11520\n"
     ]
    },
    {
     "name": "stderr",
     "output_type": "stream",
     "text": [
      "\r",
      "          \r",
      "\r",
      "          \r",
      " 29%|██▉       | 461/1595 [14:49<36:28,  1.93s/it]\r",
      " 29%|██▉       | 462/1595 [14:49<37:00,  1.96s/it]"
     ]
    },
    {
     "name": "stdout",
     "output_type": "stream",
     "text": [
      "chunks for patient: bc28807c545959c0e6e2708067201caa : 16250\n"
     ]
    },
    {
     "name": "stderr",
     "output_type": "stream",
     "text": [
      "\r",
      "          \r",
      "\r",
      "          \r",
      " 29%|██▉       | 462/1595 [14:51<36:27,  1.93s/it]\r",
      " 29%|██▉       | 463/1595 [14:51<37:45,  2.00s/it]"
     ]
    },
    {
     "name": "stdout",
     "output_type": "stream",
     "text": [
      "chunks for patient: 5c4c25f93529bf21469f81a0acd5d324 : 16464\n"
     ]
    },
    {
     "name": "stderr",
     "output_type": "stream",
     "text": [
      "\r",
      "          \r",
      "\r",
      "          \r",
      " 29%|██▉       | 463/1595 [14:53<36:24,  1.93s/it]\r",
      " 29%|██▉       | 464/1595 [14:53<35:32,  1.89s/it]"
     ]
    },
    {
     "name": "stdout",
     "output_type": "stream",
     "text": [
      "chunks for patient: 9d89b32f7dea356b2d35cead7bc94d80 : 10164\n"
     ]
    },
    {
     "name": "stderr",
     "output_type": "stream",
     "text": [
      "\r",
      "          \r",
      "\r",
      "          \r",
      " 29%|██▉       | 464/1595 [14:56<36:24,  1.93s/it]\r",
      " 29%|██▉       | 465/1595 [14:56<40:46,  2.17s/it]"
     ]
    },
    {
     "name": "stdout",
     "output_type": "stream",
     "text": [
      "chunks for patient: 8fde44df03fb80366c6604db53d3623f : 23064\n"
     ]
    },
    {
     "name": "stderr",
     "output_type": "stream",
     "text": [
      "\r",
      "          \r",
      "\r",
      "          \r",
      " 29%|██▉       | 465/1595 [14:58<36:22,  1.93s/it]\r",
      " 29%|██▉       | 466/1595 [14:58<39:06,  2.08s/it]"
     ]
    },
    {
     "name": "stdout",
     "output_type": "stream",
     "text": [
      "chunks for patient: 4d86e1657d46b9ee44c2c434fad231ce : 16038\n"
     ]
    },
    {
     "name": "stderr",
     "output_type": "stream",
     "text": [
      "\r",
      "          \r",
      "\r",
      "          \r",
      " 29%|██▉       | 466/1595 [14:59<36:20,  1.93s/it]\r",
      " 29%|██▉       | 467/1595 [14:59<37:13,  1.98s/it]"
     ]
    },
    {
     "name": "stdout",
     "output_type": "stream",
     "text": [
      "chunks for patient: 5e0c8cba8eab51076ac0014049d770c1 : 14375\n"
     ]
    },
    {
     "name": "stderr",
     "output_type": "stream",
     "text": [
      "\r",
      "          \r",
      "\r",
      "          \r",
      " 29%|██▉       | 467/1595 [15:02<36:20,  1.93s/it]\r",
      " 29%|██▉       | 468/1595 [15:02<41:54,  2.23s/it]"
     ]
    },
    {
     "name": "stdout",
     "output_type": "stream",
     "text": [
      "chunks for patient: 7692b05abf70dbac5292e91918e98913 : 16250\n"
     ]
    },
    {
     "name": "stderr",
     "output_type": "stream",
     "text": [
      "\r",
      "          \r",
      "\r",
      "          \r",
      " 29%|██▉       | 468/1595 [15:04<36:17,  1.93s/it]\r",
      " 29%|██▉       | 469/1595 [15:04<37:23,  1.99s/it]"
     ]
    },
    {
     "name": "stdout",
     "output_type": "stream",
     "text": [
      "chunks for patient: 0de72529c30fe642bc60dcb75c87f6bd : 11109\n"
     ]
    },
    {
     "name": "stderr",
     "output_type": "stream",
     "text": [
      "\r",
      "          \r",
      "\r",
      "          \r",
      " 29%|██▉       | 469/1595 [15:07<36:17,  1.93s/it]\r",
      " 29%|██▉       | 470/1595 [15:07<42:16,  2.25s/it]"
     ]
    },
    {
     "name": "stdout",
     "output_type": "stream",
     "text": [
      "chunks for patient: 2d5cd7c1ee9a74a1244ddd6b55ad0446 : 22500\n"
     ]
    },
    {
     "name": "stderr",
     "output_type": "stream",
     "text": [
      "\r",
      "          \r",
      "\r",
      "          \r",
      " 29%|██▉       | 470/1595 [15:09<36:16,  1.93s/it]\r",
      " 30%|██▉       | 471/1595 [15:09<40:48,  2.18s/it]"
     ]
    },
    {
     "name": "stdout",
     "output_type": "stream",
     "text": [
      "chunks for patient: a8e650f8494e894be06c9cee08702aa9 : 15680\n"
     ]
    },
    {
     "name": "stderr",
     "output_type": "stream",
     "text": [
      "\r",
      "          \r",
      "\r",
      "          \r",
      " 30%|██▉       | 471/1595 [15:11<36:15,  1.94s/it]\r",
      " 30%|██▉       | 472/1595 [15:11<41:36,  2.22s/it]"
     ]
    },
    {
     "name": "stdout",
     "output_type": "stream",
     "text": [
      "chunks for patient: b4d7268f5a8436da6634e585db3e9478 : 15548\n"
     ]
    },
    {
     "name": "stderr",
     "output_type": "stream",
     "text": [
      "\r",
      "          \r",
      "\r",
      "          \r",
      " 30%|██▉       | 472/1595 [15:13<36:12,  1.93s/it]\r",
      " 30%|██▉       | 473/1595 [15:13<38:39,  2.07s/it]"
     ]
    },
    {
     "name": "stdout",
     "output_type": "stream",
     "text": [
      "chunks for patient: fa45178d023325b255a3d4fc3e96cb7d : 12672\n"
     ]
    },
    {
     "name": "stderr",
     "output_type": "stream",
     "text": [
      "\r",
      "          \r",
      "\r",
      "          \r",
      " 30%|██▉       | 473/1595 [15:15<36:11,  1.94s/it]\r",
      " 30%|██▉       | 474/1595 [15:15<39:01,  2.09s/it]"
     ]
    },
    {
     "name": "stdout",
     "output_type": "stream",
     "text": [
      "chunks for patient: 6d60c26d7d35ffd967127b380ff01c12 : 17576\n"
     ]
    },
    {
     "name": "stderr",
     "output_type": "stream",
     "text": [
      "\r",
      "          \r",
      "\r",
      "          \r",
      " 30%|██▉       | 474/1595 [15:16<36:07,  1.93s/it]\r",
      " 30%|██▉       | 475/1595 [15:16<35:17,  1.89s/it]"
     ]
    },
    {
     "name": "stdout",
     "output_type": "stream",
     "text": [
      "chunks for patient: c98675ecb5bdc7eb35c69d730da05df1 : 9702\n"
     ]
    },
    {
     "name": "stderr",
     "output_type": "stream",
     "text": [
      "\r",
      "          \r",
      "\r",
      "          \r",
      " 30%|██▉       | 475/1595 [15:18<36:05,  1.93s/it]\r",
      " 30%|██▉       | 476/1595 [15:18<33:47,  1.81s/it]"
     ]
    },
    {
     "name": "stdout",
     "output_type": "stream",
     "text": [
      "chunks for patient: ed49b57854f5580658fb3510676e03dd : 11200\n"
     ]
    },
    {
     "name": "stderr",
     "output_type": "stream",
     "text": [
      "\r",
      "          \r",
      "\r",
      "          \r",
      " 30%|██▉       | 476/1595 [15:19<36:01,  1.93s/it]\r",
      " 30%|██▉       | 477/1595 [15:19<29:54,  1.61s/it]"
     ]
    },
    {
     "name": "stdout",
     "output_type": "stream",
     "text": [
      "chunks for patient: 608202eb3c368512e55e9e339a203790 : 8400\n"
     ]
    },
    {
     "name": "stderr",
     "output_type": "stream",
     "text": [
      "\r",
      "          \r",
      "\r",
      "          \r",
      " 30%|██▉       | 477/1595 [15:21<35:59,  1.93s/it]\r",
      " 30%|██▉       | 478/1595 [15:21<32:03,  1.72s/it]"
     ]
    },
    {
     "name": "stdout",
     "output_type": "stream",
     "text": [
      "chunks for patient: 5ae03fb6d9959aa93d1177cfd70cf760 : 12672\n"
     ]
    },
    {
     "name": "stderr",
     "output_type": "stream",
     "text": [
      "\r",
      "          \r",
      "\r",
      "          \r",
      " 30%|██▉       | 478/1595 [15:22<35:56,  1.93s/it]\r",
      " 30%|███       | 479/1595 [15:22<30:29,  1.64s/it]"
     ]
    },
    {
     "name": "stdout",
     "output_type": "stream",
     "text": [
      "chunks for patient: 721949894f5309ed4975a67419230a3c : 11638\n"
     ]
    },
    {
     "name": "stderr",
     "output_type": "stream",
     "text": [
      "\r",
      "          \r",
      "\r",
      "          \r",
      " 30%|███       | 479/1595 [15:25<35:55,  1.93s/it]\r",
      " 30%|███       | 480/1595 [15:25<33:33,  1.81s/it]"
     ]
    },
    {
     "name": "stdout",
     "output_type": "stream",
     "text": [
      "chunks for patient: fdf2a2f5b86aea0da54732056fc7ab48 : 14375\n"
     ]
    },
    {
     "name": "stderr",
     "output_type": "stream",
     "text": [
      "\r",
      "          \r",
      "\r",
      "          \r",
      " 30%|███       | 480/1595 [15:27<35:54,  1.93s/it]\r",
      " 30%|███       | 481/1595 [15:27<37:12,  2.00s/it]"
     ]
    },
    {
     "name": "stdout",
     "output_type": "stream",
     "text": [
      "chunks for patient: 8c22afe3214768d4c585580a2364614d : 16224\n"
     ]
    },
    {
     "name": "stderr",
     "output_type": "stream",
     "text": [
      "\r",
      "          \r",
      "\r",
      "          \r",
      " 30%|███       | 481/1595 [15:28<35:51,  1.93s/it]\r",
      " 30%|███       | 482/1595 [15:28<33:33,  1.81s/it]"
     ]
    },
    {
     "name": "stdout",
     "output_type": "stream",
     "text": [
      "chunks for patient: cf0a772e90a14d77d664ce9baedf0e5c : 13671\n"
     ]
    },
    {
     "name": "stderr",
     "output_type": "stream",
     "text": [
      "\r",
      "          \r",
      "\r",
      "          \r",
      " 30%|███       | 482/1595 [15:31<35:50,  1.93s/it]\r",
      " 30%|███       | 483/1595 [15:31<37:10,  2.01s/it]"
     ]
    },
    {
     "name": "stdout",
     "output_type": "stream",
     "text": [
      "chunks for patient: dc5cd907d9de1ed0609832f5bf1fc6e2 : 16875\n"
     ]
    },
    {
     "name": "stderr",
     "output_type": "stream",
     "text": [
      "\r",
      "          \r",
      "\r",
      "          \r",
      " 30%|███       | 483/1595 [15:33<35:48,  1.93s/it]\r",
      " 30%|███       | 484/1595 [15:33<35:41,  1.93s/it]"
     ]
    },
    {
     "name": "stdout",
     "output_type": "stream",
     "text": [
      "chunks for patient: c82d5bc4554358b1512f9f871822705b : 11132\n"
     ]
    },
    {
     "name": "stderr",
     "output_type": "stream",
     "text": [
      "\r",
      "          \r",
      "\r",
      "          \r",
      " 30%|███       | 484/1595 [15:35<35:46,  1.93s/it]\r",
      " 30%|███       | 485/1595 [15:35<35:38,  1.93s/it]"
     ]
    },
    {
     "name": "stdout",
     "output_type": "stream",
     "text": [
      "chunks for patient: eed4db0cb0576c274de569e98a56a270 : 14872\n"
     ]
    },
    {
     "name": "stderr",
     "output_type": "stream",
     "text": [
      "\r",
      "          \r",
      "\r",
      "          \r",
      " 30%|███       | 485/1595 [15:37<35:44,  1.93s/it]\r",
      " 30%|███       | 486/1595 [15:37<35:58,  1.95s/it]"
     ]
    },
    {
     "name": "stdout",
     "output_type": "stream",
     "text": [
      "chunks for patient: 67e87fa621f2e3e838b1b17a898d5b41 : 11109\n"
     ]
    },
    {
     "name": "stderr",
     "output_type": "stream",
     "text": [
      "\r",
      "          \r",
      "\r",
      "          \r",
      " 30%|███       | 486/1595 [15:38<35:41,  1.93s/it]\r",
      " 31%|███       | 487/1595 [15:38<32:17,  1.75s/it]"
     ]
    },
    {
     "name": "stdout",
     "output_type": "stream",
     "text": [
      "chunks for patient: 2f77fd993fbd858dec3c085b9ff1a3a2 : 8820\n"
     ]
    },
    {
     "name": "stderr",
     "output_type": "stream",
     "text": [
      "\r",
      "          \r",
      "\r",
      "          \r",
      " 31%|███       | 487/1595 [15:41<35:41,  1.93s/it]\r",
      " 31%|███       | 488/1595 [15:41<39:36,  2.15s/it]"
     ]
    },
    {
     "name": "stdout",
     "output_type": "stream",
     "text": [
      "chunks for patient: a858e3c7cf53e0996d76f57f2210c59c : 20384\n"
     ]
    },
    {
     "name": "stderr",
     "output_type": "stream",
     "text": [
      "\r",
      "          \r",
      "\r",
      "          \r",
      " 31%|███       | 488/1595 [15:42<35:39,  1.93s/it]\r",
      " 31%|███       | 489/1595 [15:42<36:22,  1.97s/it]"
     ]
    },
    {
     "name": "stdout",
     "output_type": "stream",
     "text": [
      "chunks for patient: 502d4601458807bf0089e6fd07825357 : 11875\n"
     ]
    },
    {
     "name": "stderr",
     "output_type": "stream",
     "text": [
      "\r",
      "          \r",
      "\r",
      "          \r",
      " 31%|███       | 489/1595 [15:44<35:36,  1.93s/it]\r",
      " 31%|███       | 490/1595 [15:44<33:24,  1.81s/it]"
     ]
    },
    {
     "name": "stdout",
     "output_type": "stream",
     "text": [
      "chunks for patient: cceb1ae43615e5f144e31d1d1ebbdf90 : 12167\n"
     ]
    },
    {
     "name": "stderr",
     "output_type": "stream",
     "text": [
      "\r",
      "          \r",
      "\r",
      "          \r",
      " 31%|███       | 490/1595 [15:46<35:33,  1.93s/it]\r",
      " 31%|███       | 491/1595 [15:46<33:17,  1.81s/it]"
     ]
    },
    {
     "name": "stdout",
     "output_type": "stream",
     "text": [
      "chunks for patient: 118be21b7e0c3058b29a524686391c66 : 14196\n"
     ]
    },
    {
     "name": "stderr",
     "output_type": "stream",
     "text": [
      "\r",
      "          \r",
      "\r",
      "          \r",
      " 31%|███       | 491/1595 [15:47<35:31,  1.93s/it]\r",
      " 31%|███       | 492/1595 [15:47<32:15,  1.75s/it]"
     ]
    },
    {
     "name": "stdout",
     "output_type": "stream",
     "text": [
      "chunks for patient: eff5b5a7c7245fa8f4661d7e88f8bc7f : 11638\n"
     ]
    },
    {
     "name": "stderr",
     "output_type": "stream",
     "text": [
      "\r",
      "          \r",
      "\r",
      "          \r",
      " 31%|███       | 492/1595 [15:49<35:29,  1.93s/it]\r",
      " 31%|███       | 493/1595 [15:49<34:16,  1.87s/it]"
     ]
    },
    {
     "name": "stdout",
     "output_type": "stream",
     "text": [
      "chunks for patient: 1dab3271160e1380c5a70a1e3ba40cb7 : 15000\n"
     ]
    },
    {
     "name": "stderr",
     "output_type": "stream",
     "text": [
      "\r",
      "          \r",
      "\r",
      "          \r",
      " 31%|███       | 493/1595 [15:52<35:28,  1.93s/it]\r",
      " 31%|███       | 494/1595 [15:52<36:16,  1.98s/it]"
     ]
    },
    {
     "name": "stdout",
     "output_type": "stream",
     "text": [
      "chunks for patient: fb57fc6377fd37bb5d42756c2736586c : 16900\n"
     ]
    },
    {
     "name": "stderr",
     "output_type": "stream",
     "text": [
      "\r",
      "          \r",
      "\r",
      "          \r",
      " 31%|███       | 494/1595 [15:55<35:28,  1.93s/it]\r",
      " 31%|███       | 495/1595 [15:55<40:51,  2.23s/it]"
     ]
    },
    {
     "name": "stdout",
     "output_type": "stream",
     "text": [
      "chunks for patient: 96544665531e7f59bc2730e3c5f42e65 : 18954\n"
     ]
    },
    {
     "name": "stderr",
     "output_type": "stream",
     "text": [
      "\r",
      "          \r",
      "\r",
      "          \r",
      " 31%|███       | 495/1595 [15:56<35:26,  1.93s/it]\r",
      " 31%|███       | 496/1595 [15:56<38:12,  2.09s/it]"
     ]
    },
    {
     "name": "stdout",
     "output_type": "stream",
     "text": [
      "chunks for patient: 34c0760406297a3c8fd5077fb7cd95b0 : 13248\n"
     ]
    },
    {
     "name": "stderr",
     "output_type": "stream",
     "text": [
      "\r",
      "          \r",
      "\r",
      "          \r",
      " 31%|███       | 496/1595 [15:58<35:24,  1.93s/it]\r",
      " 31%|███       | 497/1595 [15:58<37:12,  2.03s/it]"
     ]
    },
    {
     "name": "stdout",
     "output_type": "stream",
     "text": [
      "chunks for patient: 6629e23c3bdc8dc8161b3caa8a6048c1 : 13750\n"
     ]
    },
    {
     "name": "stderr",
     "output_type": "stream",
     "text": [
      "\r",
      "          \r",
      "\r",
      "          \r",
      " 31%|███       | 497/1595 [16:00<35:22,  1.93s/it]\r",
      " 31%|███       | 498/1595 [16:00<37:36,  2.06s/it]"
     ]
    },
    {
     "name": "stdout",
     "output_type": "stream",
     "text": [
      "chunks for patient: 538600927ec2970552917a29b490b5fd : 15548\n"
     ]
    },
    {
     "name": "stderr",
     "output_type": "stream",
     "text": [
      "\r",
      "          \r",
      "\r",
      "          \r",
      " 31%|███       | 498/1595 [16:02<35:20,  1.93s/it]\r",
      " 31%|███▏      | 499/1595 [16:02<36:15,  1.98s/it]"
     ]
    },
    {
     "name": "stdout",
     "output_type": "stream",
     "text": [
      "chunks for patient: 5e21909f11ec07f75460fe16b6c0185a : 12167\n"
     ]
    },
    {
     "name": "stderr",
     "output_type": "stream",
     "text": [
      "\r",
      "          \r",
      "\r",
      "          \r",
      " 31%|███▏      | 499/1595 [16:05<35:19,  1.93s/it]\r",
      " 31%|███▏      | 500/1595 [16:05<39:08,  2.14s/it]"
     ]
    },
    {
     "name": "stdout",
     "output_type": "stream",
     "text": [
      "chunks for patient: a59b1dc7e417fea605b34a5204f61f9d : 19343\n"
     ]
    },
    {
     "name": "stderr",
     "output_type": "stream",
     "text": [
      "\r",
      "          \r",
      "\r",
      "          \r",
      " 31%|███▏      | 500/1595 [16:06<35:16,  1.93s/it]\r",
      " 31%|███▏      | 501/1595 [16:06<35:14,  1.93s/it]"
     ]
    },
    {
     "name": "stdout",
     "output_type": "stream",
     "text": [
      "chunks for patient: 86b3b918b2ad15df1133b52f418a7386 : 11109\n"
     ]
    },
    {
     "name": "stderr",
     "output_type": "stream",
     "text": [
      "\r",
      "          \r",
      "\r",
      "          \r",
      " 31%|███▏      | 501/1595 [16:08<35:13,  1.93s/it]\r",
      " 31%|███▏      | 502/1595 [16:08<32:40,  1.79s/it]"
     ]
    },
    {
     "name": "stdout",
     "output_type": "stream",
     "text": [
      "chunks for patient: 65dd5d9d5b894e5f0ac3bd6c1384c46a : 11109\n"
     ]
    },
    {
     "name": "stderr",
     "output_type": "stream",
     "text": [
      "\r",
      "          \r",
      "\r",
      "          \r",
      " 31%|███▏      | 502/1595 [16:09<35:10,  1.93s/it]\r",
      " 32%|███▏      | 503/1595 [16:09<30:36,  1.68s/it]"
     ]
    },
    {
     "name": "stdout",
     "output_type": "stream",
     "text": [
      "chunks for patient: 2a20e4a4e6411f72374fdffebabfc235 : 10580\n"
     ]
    },
    {
     "name": "stderr",
     "output_type": "stream",
     "text": [
      "\r",
      "          \r",
      "\r",
      "          \r",
      " 32%|███▏      | 503/1595 [16:11<35:09,  1.93s/it]\r",
      " 32%|███▏      | 504/1595 [16:11<34:21,  1.89s/it]"
     ]
    },
    {
     "name": "stdout",
     "output_type": "stream",
     "text": [
      "chunks for patient: d00ee8f03fb00562b2db35e90536ffc1 : 13125\n"
     ]
    },
    {
     "name": "stderr",
     "output_type": "stream",
     "text": [
      "\r",
      "          \r",
      "\r",
      "          \r",
      " 32%|███▏      | 504/1595 [16:13<35:07,  1.93s/it]\r",
      " 32%|███▏      | 505/1595 [16:13<32:38,  1.80s/it]"
     ]
    },
    {
     "name": "stdout",
     "output_type": "stream",
     "text": [
      "chunks for patient: 85746d90494345e38ab61533e999b3f1 : 12696\n"
     ]
    },
    {
     "name": "stderr",
     "output_type": "stream",
     "text": [
      "\r",
      "          \r",
      "\r",
      "          \r",
      " 32%|███▏      | 505/1595 [16:15<35:04,  1.93s/it]\r",
      " 32%|███▏      | 506/1595 [16:15<31:37,  1.74s/it]"
     ]
    },
    {
     "name": "stdout",
     "output_type": "stream",
     "text": [
      "chunks for patient: 9560214767e1257dc97c5103a27f1d2c : 12672\n"
     ]
    },
    {
     "name": "stderr",
     "output_type": "stream",
     "text": [
      "\r",
      "          \r",
      "\r",
      "          \r",
      " 32%|███▏      | 506/1595 [16:16<35:02,  1.93s/it]\r",
      " 32%|███▏      | 507/1595 [16:16<31:19,  1.73s/it]"
     ]
    },
    {
     "name": "stdout",
     "output_type": "stream",
     "text": [
      "chunks for patient: 3252220375d82c3720d36d757bb17345 : 10648\n"
     ]
    },
    {
     "name": "stderr",
     "output_type": "stream",
     "text": [
      "\r",
      "          \r",
      "\r",
      "          \r",
      " 32%|███▏      | 507/1595 [16:18<35:00,  1.93s/it]\r",
      " 32%|███▏      | 508/1595 [16:18<33:28,  1.85s/it]"
     ]
    },
    {
     "name": "stdout",
     "output_type": "stream",
     "text": [
      "chunks for patient: db7c113445db32f9beaf5dc90e7218ad : 13248\n"
     ]
    },
    {
     "name": "stderr",
     "output_type": "stream",
     "text": [
      "\r",
      "          \r",
      "\r",
      "          \r",
      " 32%|███▏      | 508/1595 [16:20<34:58,  1.93s/it]\r",
      " 32%|███▏      | 509/1595 [16:20<32:53,  1.82s/it]"
     ]
    },
    {
     "name": "stdout",
     "output_type": "stream",
     "text": [
      "chunks for patient: 51bd5c556c77ecdaf489d8dd9f7a05f1 : 12096\n"
     ]
    },
    {
     "name": "stderr",
     "output_type": "stream",
     "text": [
      "\r",
      "          \r",
      "\r",
      "          \r",
      " 32%|███▏      | 509/1595 [16:22<34:56,  1.93s/it]\r",
      " 32%|███▏      | 510/1595 [16:22<35:10,  1.94s/it]"
     ]
    },
    {
     "name": "stdout",
     "output_type": "stream",
     "text": [
      "chunks for patient: 666fad0dca00694381eeec67adc909ec : 15548\n"
     ]
    },
    {
     "name": "stderr",
     "output_type": "stream",
     "text": [
      "\r",
      "          \r",
      "\r",
      "          \r",
      " 32%|███▏      | 510/1595 [16:24<34:54,  1.93s/it]\r",
      " 32%|███▏      | 511/1595 [16:24<33:54,  1.88s/it]"
     ]
    },
    {
     "name": "stdout",
     "output_type": "stream",
     "text": [
      "chunks for patient: f89a08a93f1ceaccb0cba52156fd6f03 : 12167\n"
     ]
    },
    {
     "name": "stderr",
     "output_type": "stream",
     "text": [
      "\r",
      "          \r",
      "\r",
      "          \r",
      " 32%|███▏      | 511/1595 [16:26<34:53,  1.93s/it]\r",
      " 32%|███▏      | 512/1595 [16:26<36:12,  2.01s/it]"
     ]
    },
    {
     "name": "stdout",
     "output_type": "stream",
     "text": [
      "chunks for patient: 48e592418247393234dd658f9112c543 : 16900\n"
     ]
    },
    {
     "name": "stderr",
     "output_type": "stream",
     "text": [
      "\r",
      "          \r",
      "\r",
      "          \r",
      " 32%|███▏      | 512/1595 [16:28<34:51,  1.93s/it]\r",
      " 32%|███▏      | 513/1595 [16:28<36:00,  2.00s/it]"
     ]
    },
    {
     "name": "stdout",
     "output_type": "stream",
     "text": [
      "chunks for patient: b6857d98b7b3dbe84f153617f4dfd14b : 17248\n"
     ]
    },
    {
     "name": "stderr",
     "output_type": "stream",
     "text": [
      "\r",
      "          \r",
      "\r",
      "          \r",
      " 32%|███▏      | 513/1595 [16:30<34:48,  1.93s/it]\r",
      " 32%|███▏      | 514/1595 [16:30<31:49,  1.77s/it]"
     ]
    },
    {
     "name": "stdout",
     "output_type": "stream",
     "text": [
      "chunks for patient: 642c43727eee4bda71c0c30bf5cf1a2b : 10051\n"
     ]
    },
    {
     "name": "stderr",
     "output_type": "stream",
     "text": [
      "\r",
      "          \r",
      "\r",
      "          \r",
      " 32%|███▏      | 514/1595 [16:31<34:45,  1.93s/it]\r",
      " 32%|███▏      | 515/1595 [16:31<30:55,  1.72s/it]"
     ]
    },
    {
     "name": "stdout",
     "output_type": "stream",
     "text": [
      "chunks for patient: 6fd3af9174242c1b393fe4ba515e7a26 : 11638\n"
     ]
    },
    {
     "name": "stderr",
     "output_type": "stream",
     "text": [
      "\r",
      "          \r",
      "\r",
      "          \r",
      " 32%|███▏      | 515/1595 [16:34<34:44,  1.93s/it]\r",
      " 32%|███▏      | 516/1595 [16:34<34:47,  1.94s/it]"
     ]
    },
    {
     "name": "stdout",
     "output_type": "stream",
     "text": [
      "chunks for patient: 154a79706bcecd0402b913d4bee9eed7 : 16464\n"
     ]
    },
    {
     "name": "stderr",
     "output_type": "stream",
     "text": [
      "\r",
      "          \r",
      "\r",
      "          \r",
      " 32%|███▏      | 516/1595 [16:36<34:43,  1.93s/it]\r",
      " 32%|███▏      | 517/1595 [16:36<36:24,  2.03s/it]"
     ]
    },
    {
     "name": "stdout",
     "output_type": "stream",
     "text": [
      "chunks for patient: dc9854bcdcc71b690d9806438009001d : 15625\n"
     ]
    },
    {
     "name": "stderr",
     "output_type": "stream",
     "text": [
      "\r",
      "          \r",
      "\r",
      "          \r",
      " 32%|███▏      | 517/1595 [16:37<34:40,  1.93s/it]\r",
      " 32%|███▏      | 518/1595 [16:37<34:11,  1.90s/it]"
     ]
    },
    {
     "name": "stdout",
     "output_type": "stream",
     "text": [
      "chunks for patient: 9109609020945cfc237125dc5f43f7b9 : 14196\n"
     ]
    },
    {
     "name": "stderr",
     "output_type": "stream",
     "text": [
      "\r",
      "          \r",
      "\r",
      "          \r",
      " 32%|███▏      | 518/1595 [16:40<34:39,  1.93s/it]\r",
      " 33%|███▎      | 519/1595 [16:40<35:04,  1.96s/it]"
     ]
    },
    {
     "name": "stdout",
     "output_type": "stream",
     "text": [
      "chunks for patient: 2276fd918ac100cec3ed8036f6ad401c : 15548\n"
     ]
    },
    {
     "name": "stderr",
     "output_type": "stream",
     "text": [
      "\r",
      "          \r",
      "\r",
      "          \r",
      " 33%|███▎      | 519/1595 [16:42<34:38,  1.93s/it]\r",
      " 33%|███▎      | 520/1595 [16:42<36:54,  2.06s/it]"
     ]
    },
    {
     "name": "stdout",
     "output_type": "stream",
     "text": [
      "chunks for patient: 4348beb99dacd2cbf14983a2c64a00c6 : 15000\n"
     ]
    },
    {
     "name": "stderr",
     "output_type": "stream",
     "text": [
      "\r",
      "          \r",
      "\r",
      "          \r",
      " 33%|███▎      | 520/1595 [16:44<34:37,  1.93s/it]\r",
      " 33%|███▎      | 521/1595 [16:44<39:53,  2.23s/it]"
     ]
    },
    {
     "name": "stdout",
     "output_type": "stream",
     "text": [
      "chunks for patient: f29d00ddf6d9846aa600c3f0edf5f952 : 17576\n"
     ]
    },
    {
     "name": "stderr",
     "output_type": "stream",
     "text": [
      "\r",
      "          \r",
      "\r",
      "          \r",
      " 33%|███▎      | 521/1595 [16:47<34:37,  1.93s/it]\r",
      " 33%|███▎      | 522/1595 [16:47<42:32,  2.38s/it]"
     ]
    },
    {
     "name": "stdout",
     "output_type": "stream",
     "text": [
      "chunks for patient: c68ec9a72b87f4bb7935534182145733 : 22500\n"
     ]
    },
    {
     "name": "stderr",
     "output_type": "stream",
     "text": [
      "\r",
      "          \r",
      "\r",
      "          \r",
      " 33%|███▎      | 522/1595 [16:49<34:35,  1.93s/it]\r",
      " 33%|███▎      | 523/1595 [16:49<40:08,  2.25s/it]"
     ]
    },
    {
     "name": "stdout",
     "output_type": "stream",
     "text": [
      "chunks for patient: ff8599dd7c1139be3bad5a0351ab749a : 16224\n"
     ]
    },
    {
     "name": "stderr",
     "output_type": "stream",
     "text": [
      "\r",
      "          \r",
      "\r",
      "          \r",
      " 33%|███▎      | 523/1595 [16:51<34:33,  1.93s/it]\r",
      " 33%|███▎      | 524/1595 [16:51<38:30,  2.16s/it]"
     ]
    },
    {
     "name": "stdout",
     "output_type": "stream",
     "text": [
      "chunks for patient: 49b5b3444cf977439600dd06e8dd84ad : 16038\n"
     ]
    },
    {
     "name": "stderr",
     "output_type": "stream",
     "text": [
      "\r",
      "          \r",
      "\r",
      "          \r",
      " 33%|███▎      | 524/1595 [16:53<34:31,  1.93s/it]\r",
      " 33%|███▎      | 525/1595 [16:53<37:47,  2.12s/it]"
     ]
    },
    {
     "name": "stdout",
     "output_type": "stream",
     "text": [
      "chunks for patient: c24dfc6534bc563d5aecb1513fea8f7f : 14872\n"
     ]
    },
    {
     "name": "stderr",
     "output_type": "stream",
     "text": [
      "\r",
      "          \r",
      "\r",
      "          \r",
      " 33%|███▎      | 525/1595 [16:55<34:29,  1.93s/it]\r",
      " 33%|███▎      | 526/1595 [16:55<36:08,  2.03s/it]"
     ]
    },
    {
     "name": "stdout",
     "output_type": "stream",
     "text": [
      "chunks for patient: 52f6d741e674f62fbcf73e6ec4f6a472 : 14872\n"
     ]
    },
    {
     "name": "stderr",
     "output_type": "stream",
     "text": [
      "\r",
      "          \r",
      "\r",
      "          \r",
      " 33%|███▎      | 526/1595 [16:57<34:28,  1.94s/it]\r",
      " 33%|███▎      | 527/1595 [16:57<38:27,  2.16s/it]"
     ]
    },
    {
     "name": "stdout",
     "output_type": "stream",
     "text": [
      "chunks for patient: 6ddb331865608b8dfb8cac6d873eaf62 : 15000\n"
     ]
    },
    {
     "name": "stderr",
     "output_type": "stream",
     "text": [
      "\r",
      "          \r",
      "\r",
      "          \r",
      " 33%|███▎      | 527/1595 [16:59<34:26,  1.94s/it]\r",
      " 33%|███▎      | 528/1595 [16:59<37:46,  2.12s/it]"
     ]
    },
    {
     "name": "stdout",
     "output_type": "stream",
     "text": [
      "chunks for patient: 2895ce2fe73dd62554326c3ab1c3b686 : 14872\n"
     ]
    },
    {
     "name": "stderr",
     "output_type": "stream",
     "text": [
      "\r",
      "          \r",
      "\r",
      "          \r",
      " 33%|███▎      | 528/1595 [17:01<34:24,  1.93s/it]\r",
      " 33%|███▎      | 529/1595 [17:01<34:42,  1.95s/it]"
     ]
    },
    {
     "name": "stdout",
     "output_type": "stream",
     "text": [
      "chunks for patient: 9660e4a23b8dd7d5056a622ee3568a41 : 11025\n"
     ]
    },
    {
     "name": "stderr",
     "output_type": "stream",
     "text": [
      "\r",
      "          \r",
      "\r",
      "          \r",
      " 33%|███▎      | 529/1595 [17:02<34:21,  1.93s/it]\r",
      " 33%|███▎      | 530/1595 [17:02<32:02,  1.80s/it]"
     ]
    },
    {
     "name": "stdout",
     "output_type": "stream",
     "text": [
      "chunks for patient: a2558184e0f4a68e9fb13579d20cb244 : 10648\n"
     ]
    },
    {
     "name": "stderr",
     "output_type": "stream",
     "text": [
      "\r",
      "          \r",
      "\r",
      "          \r",
      " 33%|███▎      | 530/1595 [17:04<34:19,  1.93s/it]\r",
      " 33%|███▎      | 531/1595 [17:04<31:56,  1.80s/it]"
     ]
    },
    {
     "name": "stdout",
     "output_type": "stream",
     "text": [
      "chunks for patient: 5861f8f8e35c0713c61e8ab3bc54c905 : 13750\n"
     ]
    },
    {
     "name": "stderr",
     "output_type": "stream",
     "text": [
      "\r",
      "          \r",
      "\r",
      "          \r",
      " 33%|███▎      | 531/1595 [17:06<34:16,  1.93s/it]\r",
      " 33%|███▎      | 532/1595 [17:06<31:23,  1.77s/it]"
     ]
    },
    {
     "name": "stdout",
     "output_type": "stream",
     "text": [
      "chunks for patient: 21b73c938fd7d346ee77a60bd60aaeac : 10584\n"
     ]
    },
    {
     "name": "stderr",
     "output_type": "stream",
     "text": [
      "\r",
      "          \r",
      "\r",
      "          \r",
      " 33%|███▎      | 532/1595 [17:07<34:13,  1.93s/it]\r",
      " 33%|███▎      | 533/1595 [17:07<28:06,  1.59s/it]"
     ]
    },
    {
     "name": "stdout",
     "output_type": "stream",
     "text": [
      "chunks for patient: 70f4eb8201e3155cc3e399f0ff09c5ef : 9261\n"
     ]
    },
    {
     "name": "stderr",
     "output_type": "stream",
     "text": [
      "\r",
      "          \r",
      "\r",
      "          \r",
      " 33%|███▎      | 533/1595 [17:09<34:12,  1.93s/it]\r",
      " 33%|███▎      | 534/1595 [17:09<32:16,  1.83s/it]"
     ]
    },
    {
     "name": "stdout",
     "output_type": "stream",
     "text": [
      "chunks for patient: 6541df84fd779ba6513a530c128f4e9b : 16038\n"
     ]
    },
    {
     "name": "stderr",
     "output_type": "stream",
     "text": [
      "\r",
      "          \r",
      "\r",
      "          \r",
      " 33%|███▎      | 534/1595 [17:11<34:09,  1.93s/it]\r",
      " 34%|███▎      | 535/1595 [17:11<29:54,  1.69s/it]"
     ]
    },
    {
     "name": "stdout",
     "output_type": "stream",
     "text": [
      "chunks for patient: 1a41350d4bbd74b7e0e28239cefa84c2 : 12696\n"
     ]
    },
    {
     "name": "stderr",
     "output_type": "stream",
     "text": [
      "\r",
      "          \r",
      "\r",
      "          \r",
      " 34%|███▎      | 535/1595 [17:12<34:06,  1.93s/it]\r",
      " 34%|███▎      | 536/1595 [17:12<28:45,  1.63s/it]"
     ]
    },
    {
     "name": "stdout",
     "output_type": "stream",
     "text": [
      "chunks for patient: 25c369973827571098bdebf2a15c6ef2 : 9702\n"
     ]
    },
    {
     "name": "stderr",
     "output_type": "stream",
     "text": [
      "\r",
      "          \r",
      "\r",
      "          \r",
      " 34%|███▎      | 536/1595 [17:15<34:05,  1.93s/it]\r",
      " 34%|███▎      | 537/1595 [17:15<34:05,  1.93s/it]"
     ]
    },
    {
     "name": "stdout",
     "output_type": "stream",
     "text": [
      "chunks for patient: bd87def5b7e1ec4f0057cde049995d83 : 21025\n"
     ]
    },
    {
     "name": "stderr",
     "output_type": "stream",
     "text": [
      "\r",
      "          \r",
      "\r",
      "          \r",
      " 34%|███▎      | 537/1595 [17:16<34:03,  1.93s/it]\r",
      " 34%|███▎      | 538/1595 [17:16<31:37,  1.80s/it]"
     ]
    },
    {
     "name": "stdout",
     "output_type": "stream",
     "text": [
      "chunks for patient: 5278093ed7187e1a8be518d954509da7 : 11109\n"
     ]
    },
    {
     "name": "stderr",
     "output_type": "stream",
     "text": [
      "\r",
      "          \r",
      "\r",
      "          \r",
      " 34%|███▎      | 538/1595 [17:18<34:00,  1.93s/it]\r",
      " 34%|███▍      | 539/1595 [17:18<30:37,  1.74s/it]"
     ]
    },
    {
     "name": "stdout",
     "output_type": "stream",
     "text": [
      "chunks for patient: a93362de52065e73e6882f0cb668d637 : 12167\n"
     ]
    },
    {
     "name": "stderr",
     "output_type": "stream",
     "text": [
      "\r",
      "          \r",
      "\r",
      "          \r",
      " 34%|███▍      | 539/1595 [17:19<33:57,  1.93s/it]\r",
      " 34%|███▍      | 540/1595 [17:19<28:31,  1.62s/it]"
     ]
    },
    {
     "name": "stdout",
     "output_type": "stream",
     "text": [
      "chunks for patient: 33387bea2cacf6127035cc7033036a02 : 10584\n"
     ]
    },
    {
     "name": "stderr",
     "output_type": "stream",
     "text": [
      "\r",
      "          \r",
      "\r",
      "          \r",
      " 34%|███▍      | 540/1595 [17:21<33:55,  1.93s/it]\r",
      " 34%|███▍      | 541/1595 [17:21<29:17,  1.67s/it]"
     ]
    },
    {
     "name": "stdout",
     "output_type": "stream",
     "text": [
      "chunks for patient: f55b8ee990408001671d76c3595afacf : 12167\n"
     ]
    },
    {
     "name": "stderr",
     "output_type": "stream",
     "text": [
      "\r",
      "          \r",
      "\r",
      "          \r",
      " 34%|███▍      | 541/1595 [17:23<33:52,  1.93s/it]\r",
      " 34%|███▍      | 542/1595 [17:23<28:52,  1.65s/it]"
     ]
    },
    {
     "name": "stdout",
     "output_type": "stream",
     "text": [
      "chunks for patient: 57f5dc474b6a35d02542299dd09e68d6 : 11520\n"
     ]
    },
    {
     "name": "stderr",
     "output_type": "stream",
     "text": [
      "\r",
      "          \r",
      "\r",
      "          \r",
      " 34%|███▍      | 542/1595 [17:25<33:51,  1.93s/it]\r",
      " 34%|███▍      | 543/1595 [17:25<32:41,  1.86s/it]"
     ]
    },
    {
     "name": "stdout",
     "output_type": "stream",
     "text": [
      "chunks for patient: 4842c8c0a3f387effde44cb9b3d3fd2e : 16224\n"
     ]
    },
    {
     "name": "stderr",
     "output_type": "stream",
     "text": [
      "\r",
      "          \r",
      "\r",
      "          \r",
      " 34%|███▍      | 543/1595 [17:27<33:50,  1.93s/it]\r",
      " 34%|███▍      | 544/1595 [17:27<34:14,  1.96s/it]"
     ]
    },
    {
     "name": "stdout",
     "output_type": "stream",
     "text": [
      "chunks for patient: e0aa61b44c33e6a75940a8541c6894c9 : 13750\n"
     ]
    },
    {
     "name": "stderr",
     "output_type": "stream",
     "text": [
      "\r",
      "          \r",
      "\r",
      "          \r",
      " 34%|███▍      | 544/1595 [17:29<33:48,  1.93s/it]\r",
      " 34%|███▍      | 545/1595 [17:29<34:55,  2.00s/it]"
     ]
    },
    {
     "name": "stdout",
     "output_type": "stream",
     "text": [
      "chunks for patient: 043ed6cb6054cc13804a3dca342fa4d0 : 14375\n"
     ]
    },
    {
     "name": "stderr",
     "output_type": "stream",
     "text": [
      "\r",
      "          \r",
      "\r",
      "          \r",
      " 34%|███▍      | 545/1595 [17:31<33:46,  1.93s/it]\r",
      " 34%|███▍      | 546/1595 [17:31<34:37,  1.98s/it]"
     ]
    },
    {
     "name": "stdout",
     "output_type": "stream",
     "text": [
      "chunks for patient: 82df9b029653e867e86ce9e86ca7275c : 12167\n"
     ]
    },
    {
     "name": "stderr",
     "output_type": "stream",
     "text": [
      "\r",
      "          \r",
      "\r",
      "          \r",
      " 34%|███▍      | 546/1595 [17:34<33:45,  1.93s/it]\r",
      " 34%|███▍      | 547/1595 [17:34<35:48,  2.05s/it]"
     ]
    },
    {
     "name": "stdout",
     "output_type": "stream",
     "text": [
      "chunks for patient: 608a7028689c6ab3aea5f116007169b2 : 16038\n"
     ]
    },
    {
     "name": "stderr",
     "output_type": "stream",
     "text": [
      "\r",
      "          \r",
      "\r",
      "          \r",
      " 34%|███▍      | 547/1595 [17:36<33:43,  1.93s/it]\r",
      " 34%|███▍      | 548/1595 [17:36<36:49,  2.11s/it]"
     ]
    },
    {
     "name": "stdout",
     "output_type": "stream",
     "text": [
      "chunks for patient: 40c95c9be0bd7c290534ce374c58bec9 : 16038\n"
     ]
    },
    {
     "name": "stderr",
     "output_type": "stream",
     "text": [
      "\r",
      "          \r",
      "\r",
      "          \r",
      " 34%|███▍      | 548/1595 [17:37<33:40,  1.93s/it]\r",
      " 34%|███▍      | 549/1595 [17:37<32:29,  1.86s/it]"
     ]
    },
    {
     "name": "stdout",
     "output_type": "stream",
     "text": [
      "chunks for patient: d81ab3ad896e4198caed105c469a4817 : 8820\n"
     ]
    },
    {
     "name": "stderr",
     "output_type": "stream",
     "text": [
      "\r",
      "          \r",
      "\r",
      "          \r",
      " 34%|███▍      | 549/1595 [17:39<33:37,  1.93s/it]\r",
      " 34%|███▍      | 550/1595 [17:39<30:12,  1.73s/it]"
     ]
    },
    {
     "name": "stdout",
     "output_type": "stream",
     "text": [
      "chunks for patient: 19bb6a9bc007ad75a4777e5298354cb4 : 10584\n"
     ]
    },
    {
     "name": "stderr",
     "output_type": "stream",
     "text": [
      "\r",
      "          \r",
      "\r",
      "          \r",
      " 34%|███▍      | 550/1595 [17:40<33:35,  1.93s/it]\r",
      " 35%|███▍      | 551/1595 [17:40<28:59,  1.67s/it]"
     ]
    },
    {
     "name": "stdout",
     "output_type": "stream",
     "text": [
      "chunks for patient: 58bac12ccb44919bbd64271f38ee0584 : 13824\n"
     ]
    },
    {
     "name": "stderr",
     "output_type": "stream",
     "text": [
      "\r",
      "          \r",
      "\r",
      "          \r",
      " 35%|███▍      | 551/1595 [17:42<33:33,  1.93s/it]\r",
      " 35%|███▍      | 552/1595 [17:42<32:36,  1.88s/it]"
     ]
    },
    {
     "name": "stdout",
     "output_type": "stream",
     "text": [
      "chunks for patient: ba162711fc958842582ef1828d37f8e0 : 18816\n"
     ]
    },
    {
     "name": "stderr",
     "output_type": "stream",
     "text": [
      "\r",
      "          \r",
      "\r",
      "          \r",
      " 35%|███▍      | 552/1595 [17:45<33:33,  1.93s/it]\r",
      " 35%|███▍      | 553/1595 [17:45<36:57,  2.13s/it]"
     ]
    },
    {
     "name": "stdout",
     "output_type": "stream",
     "text": [
      "chunks for patient: 898bd4c517fb9cf94c7d06dae56b0136 : 18032\n"
     ]
    },
    {
     "name": "stderr",
     "output_type": "stream",
     "text": [
      "\r",
      "          \r",
      "\r",
      "          \r",
      " 35%|███▍      | 553/1595 [17:48<33:32,  1.93s/it]\r",
      " 35%|███▍      | 554/1595 [17:48<38:25,  2.21s/it]"
     ]
    },
    {
     "name": "stdout",
     "output_type": "stream",
     "text": [
      "chunks for patient: ebd601d40a18634b100c92e7db39f585 : 16224\n"
     ]
    },
    {
     "name": "stderr",
     "output_type": "stream",
     "text": [
      "\r",
      "          \r",
      "\r",
      "          \r",
      " 35%|███▍      | 554/1595 [17:50<33:31,  1.93s/it]\r",
      " 35%|███▍      | 555/1595 [17:50<38:21,  2.21s/it]"
     ]
    },
    {
     "name": "stdout",
     "output_type": "stream",
     "text": [
      "chunks for patient: 7cf1a65bb0f89323668034244a59e725 : 15548\n"
     ]
    },
    {
     "name": "stderr",
     "output_type": "stream",
     "text": [
      "\r",
      "          \r",
      "\r",
      "          \r",
      " 35%|███▍      | 555/1595 [17:52<33:28,  1.93s/it]\r",
      " 35%|███▍      | 556/1595 [17:52<36:11,  2.09s/it]"
     ]
    },
    {
     "name": "stdout",
     "output_type": "stream",
     "text": [
      "chunks for patient: 31d037f6e359b56aec064fd3e348adb5 : 13125\n"
     ]
    },
    {
     "name": "stderr",
     "output_type": "stream",
     "text": [
      "\r",
      "          \r",
      "\r",
      "          \r",
      " 35%|███▍      | 556/1595 [17:54<33:28,  1.93s/it]\r",
      " 35%|███▍      | 557/1595 [17:54<40:10,  2.32s/it]"
     ]
    },
    {
     "name": "stdout",
     "output_type": "stream",
     "text": [
      "chunks for patient: 9759889dcee7ed0043d06e03fb44060d : 19600\n"
     ]
    },
    {
     "name": "stderr",
     "output_type": "stream",
     "text": [
      "\r",
      "          \r",
      "\r",
      "          \r",
      " 35%|███▍      | 557/1595 [17:56<33:26,  1.93s/it]\r",
      " 35%|███▍      | 558/1595 [17:56<38:04,  2.20s/it]"
     ]
    },
    {
     "name": "stdout",
     "output_type": "stream",
     "text": [
      "chunks for patient: 565cdee745ea4e6afc0f7daae81a7963 : 15548\n"
     ]
    },
    {
     "name": "stderr",
     "output_type": "stream",
     "text": [
      "\r",
      "          \r",
      "\r",
      "          \r",
      " 35%|███▍      | 558/1595 [17:58<33:23,  1.93s/it]\r",
      " 35%|███▌      | 559/1595 [17:58<33:43,  1.95s/it]"
     ]
    },
    {
     "name": "stdout",
     "output_type": "stream",
     "text": [
      "chunks for patient: 9703fd051751879432975535663150da : 9702\n"
     ]
    },
    {
     "name": "stderr",
     "output_type": "stream",
     "text": [
      "\r",
      "          \r",
      "\r",
      "          \r",
      " 35%|███▌      | 559/1595 [18:00<33:21,  1.93s/it]\r",
      " 35%|███▌      | 560/1595 [18:00<33:08,  1.92s/it]"
     ]
    },
    {
     "name": "stdout",
     "output_type": "stream",
     "text": [
      "chunks for patient: caf38dcf62fe3a05fac40055920d7058 : 12696\n"
     ]
    },
    {
     "name": "stderr",
     "output_type": "stream",
     "text": [
      "\r",
      "          \r",
      "\r",
      "          \r",
      " 35%|███▌      | 560/1595 [18:02<33:20,  1.93s/it]\r",
      " 35%|███▌      | 561/1595 [18:02<35:10,  2.04s/it]"
     ]
    },
    {
     "name": "stdout",
     "output_type": "stream",
     "text": [
      "chunks for patient: d6fe4bdde1a2cc3dc4efe22becfe22fd : 17576\n"
     ]
    },
    {
     "name": "stderr",
     "output_type": "stream",
     "text": [
      "\r",
      "          \r",
      "\r",
      "          \r",
      " 35%|███▌      | 561/1595 [18:04<33:18,  1.93s/it]\r",
      " 35%|███▌      | 562/1595 [18:04<34:56,  2.03s/it]"
     ]
    },
    {
     "name": "stdout",
     "output_type": "stream",
     "text": [
      "chunks for patient: 2a3e6ecf9499607ef4fd14b436136b0c : 14375\n"
     ]
    },
    {
     "name": "stderr",
     "output_type": "stream",
     "text": [
      "\r",
      "          \r",
      "\r",
      "          \r",
      " 35%|███▌      | 562/1595 [18:06<33:17,  1.93s/it]\r",
      " 35%|███▌      | 563/1595 [18:06<36:27,  2.12s/it]"
     ]
    },
    {
     "name": "stdout",
     "output_type": "stream",
     "text": [
      "chunks for patient: c6269c87a7571330961e5c4a9f692c10 : 17576\n"
     ]
    },
    {
     "name": "stderr",
     "output_type": "stream",
     "text": [
      "\r",
      "          \r",
      "\r",
      "          \r",
      " 35%|███▌      | 563/1595 [18:08<33:15,  1.93s/it]\r",
      " 35%|███▌      | 564/1595 [18:08<35:43,  2.08s/it]"
     ]
    },
    {
     "name": "stdout",
     "output_type": "stream",
     "text": [
      "chunks for patient: 616f98dab4db03edbad28c73d22468d2 : 15548\n"
     ]
    },
    {
     "name": "stderr",
     "output_type": "stream",
     "text": [
      "\r",
      "          \r",
      "\r",
      "          \r",
      " 35%|███▌      | 564/1595 [18:10<33:12,  1.93s/it]\r",
      " 35%|███▌      | 565/1595 [18:10<32:11,  1.87s/it]"
     ]
    },
    {
     "name": "stdout",
     "output_type": "stream",
     "text": [
      "chunks for patient: 9ce92cb785c9878389bd5f765a07e1ae : 11109\n"
     ]
    },
    {
     "name": "stderr",
     "output_type": "stream",
     "text": [
      "\r",
      "          \r",
      "\r",
      "          \r",
      " 35%|███▌      | 565/1595 [18:11<33:09,  1.93s/it]\r",
      " 35%|███▌      | 566/1595 [18:11<29:27,  1.72s/it]"
     ]
    },
    {
     "name": "stdout",
     "output_type": "stream",
     "text": [
      "chunks for patient: 9f49140c0447a0c3108ba3591b11958f : 11109\n"
     ]
    },
    {
     "name": "stderr",
     "output_type": "stream",
     "text": [
      "\r",
      "          \r",
      "\r",
      "          \r",
      " 35%|███▌      | 566/1595 [18:13<33:08,  1.93s/it]\r",
      " 36%|███▌      | 567/1595 [18:13<32:16,  1.88s/it]"
     ]
    },
    {
     "name": "stdout",
     "output_type": "stream",
     "text": [
      "chunks for patient: 30b8aa7f5688cab5ff0964f34b715c4d : 14872\n"
     ]
    },
    {
     "name": "stderr",
     "output_type": "stream",
     "text": [
      "\r",
      "          \r",
      "\r",
      "          \r",
      " 36%|███▌      | 567/1595 [18:16<33:08,  1.93s/it]\r",
      " 36%|███▌      | 568/1595 [18:16<37:48,  2.21s/it]"
     ]
    },
    {
     "name": "stdout",
     "output_type": "stream",
     "text": [
      "chunks for patient: 96acca47671874c41de6023942e10c16 : 18954\n"
     ]
    },
    {
     "name": "stderr",
     "output_type": "stream",
     "text": [
      "\r",
      "          \r",
      "\r",
      "          \r",
      " 36%|███▌      | 568/1595 [18:18<33:06,  1.93s/it]\r",
      " 36%|███▌      | 569/1595 [18:18<36:18,  2.12s/it]"
     ]
    },
    {
     "name": "stdout",
     "output_type": "stream",
     "text": [
      "chunks for patient: cf34926681dbf1129cb0a629fb72681b : 13125\n"
     ]
    },
    {
     "name": "stderr",
     "output_type": "stream",
     "text": [
      "\r",
      "          \r",
      "\r",
      "          \r",
      " 36%|███▌      | 569/1595 [18:20<33:04,  1.93s/it]\r",
      " 36%|███▌      | 570/1595 [18:20<36:33,  2.14s/it]"
     ]
    },
    {
     "name": "stdout",
     "output_type": "stream",
     "text": [
      "chunks for patient: f136a3df63637b499704a49fc0e3dfaf : 13225\n"
     ]
    },
    {
     "name": "stderr",
     "output_type": "stream",
     "text": [
      "\r",
      "          \r",
      "\r",
      "          \r",
      " 36%|███▌      | 570/1595 [18:24<33:05,  1.94s/it]\r",
      " 36%|███▌      | 571/1595 [18:24<42:11,  2.47s/it]"
     ]
    },
    {
     "name": "stdout",
     "output_type": "stream",
     "text": [
      "chunks for patient: 90e5f4780b2f05136ff5f776a5cbc2af : 19343\n"
     ]
    },
    {
     "name": "stderr",
     "output_type": "stream",
     "text": [
      "\r",
      "          \r",
      "\r",
      "          \r",
      " 36%|███▌      | 571/1595 [18:26<33:04,  1.94s/it]\r",
      " 36%|███▌      | 572/1595 [18:26<41:16,  2.42s/it]"
     ]
    },
    {
     "name": "stdout",
     "output_type": "stream",
     "text": [
      "chunks for patient: 229b8b785f880f61d8dad636c3dc2687 : 18032\n"
     ]
    },
    {
     "name": "stderr",
     "output_type": "stream",
     "text": [
      "\r",
      "          \r",
      "\r",
      "          \r",
      " 36%|███▌      | 572/1595 [18:28<33:03,  1.94s/it]\r",
      " 36%|███▌      | 573/1595 [18:28<42:11,  2.48s/it]"
     ]
    },
    {
     "name": "stdout",
     "output_type": "stream",
     "text": [
      "chunks for patient: cd10ceca9862ba0cc2ffd0ed8c9b055c : 18125\n"
     ]
    },
    {
     "name": "stderr",
     "output_type": "stream",
     "text": [
      "\r",
      "          \r",
      "\r",
      "          \r",
      " 36%|███▌      | 573/1595 [18:31<33:01,  1.94s/it]\r",
      " 36%|███▌      | 574/1595 [18:31<41:02,  2.41s/it]"
     ]
    },
    {
     "name": "stdout",
     "output_type": "stream",
     "text": [
      "chunks for patient: 23e309ef3a674bcd9c8df40614b93a8e : 16250\n"
     ]
    },
    {
     "name": "stderr",
     "output_type": "stream",
     "text": [
      "\r",
      "          \r",
      "\r",
      "          \r",
      " 36%|███▌      | 574/1595 [18:32<32:59,  1.94s/it]\r",
      " 36%|███▌      | 575/1595 [18:32<37:12,  2.19s/it]"
     ]
    },
    {
     "name": "stdout",
     "output_type": "stream",
     "text": [
      "chunks for patient: 53ddfb7769619035ad7f8f58c72f697c : 9680\n"
     ]
    },
    {
     "name": "stderr",
     "output_type": "stream",
     "text": [
      "\r",
      "          \r",
      "\r",
      "          \r",
      " 36%|███▌      | 575/1595 [18:34<32:57,  1.94s/it]\r",
      " 36%|███▌      | 576/1595 [18:34<34:36,  2.04s/it]"
     ]
    },
    {
     "name": "stdout",
     "output_type": "stream",
     "text": [
      "chunks for patient: 7f096cdfbc2fe03ec7f779278416a78c : 12096\n"
     ]
    },
    {
     "name": "stderr",
     "output_type": "stream",
     "text": [
      "\r",
      "          \r",
      "\r",
      "          \r",
      " 36%|███▌      | 576/1595 [18:36<32:55,  1.94s/it]\r",
      " 36%|███▌      | 577/1595 [18:36<35:35,  2.10s/it]"
     ]
    },
    {
     "name": "stdout",
     "output_type": "stream",
     "text": [
      "chunks for patient: e33c25d0dbca5e54385f2100ce523467 : 13225\n"
     ]
    },
    {
     "name": "stderr",
     "output_type": "stream",
     "text": [
      "\r",
      "          \r",
      "\r",
      "          \r",
      " 36%|███▌      | 577/1595 [18:38<32:53,  1.94s/it]\r",
      " 36%|███▌      | 578/1595 [18:38<33:28,  1.97s/it]"
     ]
    },
    {
     "name": "stdout",
     "output_type": "stream",
     "text": [
      "chunks for patient: 7d46ce019d79d13ee9ce8f18e010e71a : 10143\n"
     ]
    },
    {
     "name": "stderr",
     "output_type": "stream",
     "text": [
      "\r",
      "          \r",
      "\r",
      "          \r",
      " 36%|███▌      | 578/1595 [18:40<32:50,  1.94s/it]\r",
      " 36%|███▋      | 579/1595 [18:40<31:51,  1.88s/it]"
     ]
    },
    {
     "name": "stdout",
     "output_type": "stream",
     "text": [
      "chunks for patient: 2488c5b32e837dc848fe6fe4b1bbb7cb : 10584\n"
     ]
    },
    {
     "name": "stderr",
     "output_type": "stream",
     "text": [
      "\r",
      "          \r",
      "\r",
      "          \r",
      " 36%|███▋      | 579/1595 [18:41<32:47,  1.94s/it]\r",
      " 36%|███▋      | 580/1595 [18:41<27:35,  1.63s/it]"
     ]
    },
    {
     "name": "stdout",
     "output_type": "stream",
     "text": [
      "chunks for patient: a2c59fd551d9c658f8469726b66bee87 : 8400\n"
     ]
    },
    {
     "name": "stderr",
     "output_type": "stream",
     "text": [
      "\r",
      "          \r",
      "\r",
      "          \r",
      " 36%|███▋      | 580/1595 [18:43<32:45,  1.94s/it]\r",
      " 36%|███▋      | 581/1595 [18:43<28:29,  1.69s/it]"
     ]
    },
    {
     "name": "stdout",
     "output_type": "stream",
     "text": [
      "chunks for patient: a8f2ebe1d66b24741cac1eb465a2ff72 : 9600\n"
     ]
    },
    {
     "name": "stderr",
     "output_type": "stream",
     "text": [
      "\r",
      "          \r",
      "\r",
      "          \r",
      " 36%|███▋      | 581/1595 [18:45<32:43,  1.94s/it]\r",
      " 36%|███▋      | 582/1595 [18:45<31:32,  1.87s/it]"
     ]
    },
    {
     "name": "stdout",
     "output_type": "stream",
     "text": [
      "chunks for patient: f74cbe4dda0f80dd66e15e64563689c6 : 16224\n"
     ]
    },
    {
     "name": "stderr",
     "output_type": "stream",
     "text": [
      "\r",
      "          \r",
      "\r",
      "          \r",
      " 36%|███▋      | 582/1595 [18:47<32:43,  1.94s/it]\r",
      " 37%|███▋      | 583/1595 [18:47<34:55,  2.07s/it]"
     ]
    },
    {
     "name": "stdout",
     "output_type": "stream",
     "text": [
      "chunks for patient: ee88217bee233a3bfc971b450e3d8b85 : 14580\n"
     ]
    },
    {
     "name": "stderr",
     "output_type": "stream",
     "text": [
      "\r",
      "          \r",
      "\r",
      "          \r",
      " 37%|███▋      | 583/1595 [18:49<32:41,  1.94s/it]\r",
      " 37%|███▋      | 584/1595 [18:49<34:16,  2.03s/it]"
     ]
    },
    {
     "name": "stdout",
     "output_type": "stream",
     "text": [
      "chunks for patient: e787e5fd289a9f1f6bba31569b7ad384 : 13248\n"
     ]
    },
    {
     "name": "stderr",
     "output_type": "stream",
     "text": [
      "\r",
      "          \r",
      "\r",
      "          \r",
      " 37%|███▋      | 584/1595 [18:51<32:39,  1.94s/it]\r",
      " 37%|███▋      | 585/1595 [18:51<34:03,  2.02s/it]"
     ]
    },
    {
     "name": "stdout",
     "output_type": "stream",
     "text": [
      "chunks for patient: 9fc639cbbd749117de4980420ae52cf3 : 14375\n"
     ]
    },
    {
     "name": "stderr",
     "output_type": "stream",
     "text": [
      "\r",
      "          \r",
      "\r",
      "          \r",
      " 37%|███▋      | 585/1595 [18:54<32:38,  1.94s/it]\r",
      " 37%|███▋      | 586/1595 [18:54<35:24,  2.11s/it]"
     ]
    },
    {
     "name": "stdout",
     "output_type": "stream",
     "text": [
      "chunks for patient: 2e8bb42ed99b2bd1d9cd3ffaf5129e4c : 16464\n"
     ]
    },
    {
     "name": "stderr",
     "output_type": "stream",
     "text": [
      "\r",
      "          \r",
      "\r",
      "          \r",
      " 37%|███▋      | 586/1595 [18:56<32:36,  1.94s/it]\r",
      " 37%|███▋      | 587/1595 [18:56<34:56,  2.08s/it]"
     ]
    },
    {
     "name": "stdout",
     "output_type": "stream",
     "text": [
      "chunks for patient: cb8d3452b667596fbf132d2ce9ebd0e6 : 14375\n"
     ]
    },
    {
     "name": "stderr",
     "output_type": "stream",
     "text": [
      "\r",
      "          \r",
      "\r",
      "          \r",
      " 37%|███▋      | 587/1595 [18:58<32:35,  1.94s/it]\r",
      " 37%|███▋      | 588/1595 [18:58<37:16,  2.22s/it]"
     ]
    },
    {
     "name": "stdout",
     "output_type": "stream",
     "text": [
      "chunks for patient: 0d19f1c627df49eb223771c28548350e : 19683\n"
     ]
    },
    {
     "name": "stderr",
     "output_type": "stream",
     "text": [
      "\r",
      "          \r",
      "\r",
      "          \r",
      " 37%|███▋      | 588/1595 [19:00<32:33,  1.94s/it]\r",
      " 37%|███▋      | 589/1595 [19:00<36:36,  2.18s/it]"
     ]
    },
    {
     "name": "stdout",
     "output_type": "stream",
     "text": [
      "chunks for patient: 5253d873ff82e3fa69e30e542d13a4ce : 14872\n"
     ]
    },
    {
     "name": "stderr",
     "output_type": "stream",
     "text": [
      "\r",
      "          \r",
      "\r",
      "          \r",
      " 37%|███▋      | 589/1595 [19:01<32:30,  1.94s/it]\r",
      " 37%|███▋      | 590/1595 [19:01<31:39,  1.89s/it]"
     ]
    },
    {
     "name": "stdout",
     "output_type": "stream",
     "text": [
      "chunks for patient: 09fdf599084b816247ba38d95b3c9d80 : 10648\n"
     ]
    },
    {
     "name": "stderr",
     "output_type": "stream",
     "text": [
      "\r",
      "          \r",
      "\r",
      "          \r",
      " 37%|███▋      | 590/1595 [19:03<32:27,  1.94s/it]\r",
      " 37%|███▋      | 591/1595 [19:03<29:37,  1.77s/it]"
     ]
    },
    {
     "name": "stdout",
     "output_type": "stream",
     "text": [
      "chunks for patient: 2fc3d8ef26fc7aafad44d5034673dd4c : 10580\n"
     ]
    },
    {
     "name": "stderr",
     "output_type": "stream",
     "text": [
      "\r",
      "          \r",
      "\r",
      "          \r",
      " 37%|███▋      | 591/1595 [19:05<32:26,  1.94s/it]\r",
      " 37%|███▋      | 592/1595 [19:05<32:49,  1.96s/it]"
     ]
    },
    {
     "name": "stdout",
     "output_type": "stream",
     "text": [
      "chunks for patient: 064366faa1a83fdcb18b2538f1717290 : 15625\n"
     ]
    },
    {
     "name": "stderr",
     "output_type": "stream",
     "text": [
      "\r",
      "          \r",
      "\r",
      "          \r",
      " 37%|███▋      | 592/1595 [19:08<32:25,  1.94s/it]\r",
      " 37%|███▋      | 593/1595 [19:08<35:21,  2.12s/it]"
     ]
    },
    {
     "name": "stdout",
     "output_type": "stream",
     "text": [
      "chunks for patient: 8f6e50767b3bc4367bfe551b0ed73773 : 21025\n"
     ]
    },
    {
     "name": "stderr",
     "output_type": "stream",
     "text": [
      "\r",
      "          \r",
      "\r",
      "          \r",
      " 37%|███▋      | 593/1595 [19:10<32:24,  1.94s/it]\r",
      " 37%|███▋      | 594/1595 [19:10<35:57,  2.16s/it]"
     ]
    },
    {
     "name": "stdout",
     "output_type": "stream",
     "text": [
      "chunks for patient: 73b28e2eadad587c9a8ac6c7186dd51b : 15548\n"
     ]
    },
    {
     "name": "stderr",
     "output_type": "stream",
     "text": [
      "\r",
      "          \r",
      "\r",
      "          \r",
      " 37%|███▋      | 594/1595 [19:12<32:21,  1.94s/it]\r",
      " 37%|███▋      | 595/1595 [19:12<32:21,  1.94s/it]"
     ]
    },
    {
     "name": "stdout",
     "output_type": "stream",
     "text": [
      "chunks for patient: ce8b0816304e079bb99c6c25b4fa4b88 : 11520\n"
     ]
    },
    {
     "name": "stderr",
     "output_type": "stream",
     "text": [
      "\r",
      "          \r",
      "\r",
      "          \r",
      " 37%|███▋      | 595/1595 [19:13<32:19,  1.94s/it]\r",
      " 37%|███▋      | 596/1595 [19:13<31:12,  1.87s/it]"
     ]
    },
    {
     "name": "stdout",
     "output_type": "stream",
     "text": [
      "chunks for patient: c19197af81f94110ddc23317e182f37d : 13125\n"
     ]
    },
    {
     "name": "stderr",
     "output_type": "stream",
     "text": [
      "\r",
      "          \r",
      "\r",
      "          \r",
      " 37%|███▋      | 596/1595 [19:15<32:16,  1.94s/it]\r",
      " 37%|███▋      | 597/1595 [19:15<29:24,  1.77s/it]"
     ]
    },
    {
     "name": "stdout",
     "output_type": "stream",
     "text": [
      "chunks for patient: 4f3039ae82f8cc764d1ec21116f54a07 : 12168\n"
     ]
    },
    {
     "name": "stderr",
     "output_type": "stream",
     "text": [
      "\r",
      "          \r",
      "\r",
      "          \r",
      " 37%|███▋      | 597/1595 [19:16<32:12,  1.94s/it]\r",
      " 37%|███▋      | 598/1595 [19:16<25:38,  1.54s/it]"
     ]
    },
    {
     "name": "stdout",
     "output_type": "stream",
     "text": [
      "chunks for patient: 5fd33ea74e1ad740a201ae9b3c383fc5 : 10143\n"
     ]
    },
    {
     "name": "stderr",
     "output_type": "stream",
     "text": [
      "\r",
      "          \r",
      "\r",
      "          \r",
      " 37%|███▋      | 598/1595 [19:19<32:12,  1.94s/it]\r",
      " 38%|███▊      | 599/1595 [19:19<32:55,  1.98s/it]"
     ]
    },
    {
     "name": "stdout",
     "output_type": "stream",
     "text": [
      "chunks for patient: ac3345a5a05655c6bcce7d0b226a0042 : 18928\n"
     ]
    },
    {
     "name": "stderr",
     "output_type": "stream",
     "text": [
      "\r",
      "          \r",
      "\r",
      "          \r",
      " 38%|███▊      | 599/1595 [19:21<32:10,  1.94s/it]\r",
      " 38%|███▊      | 600/1595 [19:21<32:35,  1.97s/it]"
     ]
    },
    {
     "name": "stdout",
     "output_type": "stream",
     "text": [
      "chunks for patient: 03fb0d0fdb187ee1160f09386b28c3f2 : 14872\n"
     ]
    },
    {
     "name": "stderr",
     "output_type": "stream",
     "text": [
      "\r",
      "          \r",
      "\r",
      "          \r",
      " 38%|███▊      | 600/1595 [19:22<32:08,  1.94s/it]\r",
      " 38%|███▊      | 601/1595 [19:22<31:12,  1.88s/it]"
     ]
    },
    {
     "name": "stdout",
     "output_type": "stream",
     "text": [
      "chunks for patient: bb0a8375885408a7adbd7c941098548f : 11109\n"
     ]
    },
    {
     "name": "stderr",
     "output_type": "stream",
     "text": [
      "\r",
      "          \r",
      "\r",
      "          \r",
      " 38%|███▊      | 601/1595 [19:24<32:06,  1.94s/it]\r",
      " 38%|███▊      | 602/1595 [19:24<30:25,  1.84s/it]"
     ]
    },
    {
     "name": "stdout",
     "output_type": "stream",
     "text": [
      "chunks for patient: c3e23e84b9f9f31c3ba5458c7f43ec52 : 12500\n"
     ]
    },
    {
     "name": "stderr",
     "output_type": "stream",
     "text": [
      "\r",
      "          \r",
      "\r",
      "          \r",
      " 38%|███▊      | 602/1595 [19:26<32:04,  1.94s/it]\r",
      " 38%|███▊      | 603/1595 [19:26<32:13,  1.95s/it]"
     ]
    },
    {
     "name": "stdout",
     "output_type": "stream",
     "text": [
      "chunks for patient: 8b6e16b4e1d1400452956578f8eb97c4 : 16875\n"
     ]
    },
    {
     "name": "stderr",
     "output_type": "stream",
     "text": [
      "\r",
      "          \r",
      "\r",
      "          \r",
      " 38%|███▊      | 603/1595 [19:29<32:04,  1.94s/it]\r",
      " 38%|███▊      | 604/1595 [19:29<37:26,  2.27s/it]"
     ]
    },
    {
     "name": "stdout",
     "output_type": "stream",
     "text": [
      "chunks for patient: d9543b86db1c662ebaa71557e715861c : 16767\n"
     ]
    },
    {
     "name": "stderr",
     "output_type": "stream",
     "text": [
      "\r",
      "          \r",
      "\r",
      "          \r",
      " 38%|███▊      | 604/1595 [19:32<32:03,  1.94s/it]\r",
      " 38%|███▊      | 605/1595 [19:32<39:51,  2.42s/it]"
     ]
    },
    {
     "name": "stdout",
     "output_type": "stream",
     "text": [
      "chunks for patient: c645eb8b7b7225457e61cf511a8e46e5 : 16900\n"
     ]
    },
    {
     "name": "stderr",
     "output_type": "stream",
     "text": [
      "\r",
      "          \r",
      "\r",
      "          \r",
      " 38%|███▊      | 605/1595 [19:34<32:02,  1.94s/it]\r",
      " 38%|███▊      | 606/1595 [19:34<39:27,  2.39s/it]"
     ]
    },
    {
     "name": "stdout",
     "output_type": "stream",
     "text": [
      "chunks for patient: 6d38cc9a6de069570a5d2efbb55a7f63 : 15000\n"
     ]
    },
    {
     "name": "stderr",
     "output_type": "stream",
     "text": [
      "\r",
      "          \r",
      "\r",
      "          \r",
      " 38%|███▊      | 606/1595 [19:36<31:59,  1.94s/it]\r",
      " 38%|███▊      | 607/1595 [19:36<34:14,  2.08s/it]"
     ]
    },
    {
     "name": "stdout",
     "output_type": "stream",
     "text": [
      "chunks for patient: 91d0606b85ab7dbc7bab718c1312f2df : 9702\n"
     ]
    },
    {
     "name": "stderr",
     "output_type": "stream",
     "text": [
      "\r",
      "          \r",
      "\r",
      "          \r",
      " 38%|███▊      | 607/1595 [19:38<31:58,  1.94s/it]\r",
      " 38%|███▊      | 608/1595 [19:38<34:56,  2.12s/it]"
     ]
    },
    {
     "name": "stdout",
     "output_type": "stream",
     "text": [
      "chunks for patient: 6d3b16f2e60c3a1a4246f340dba73676 : 14872\n"
     ]
    },
    {
     "name": "stderr",
     "output_type": "stream",
     "text": [
      "\r",
      "          \r",
      "\r",
      "          \r",
      " 38%|███▊      | 608/1595 [19:40<31:57,  1.94s/it]\r",
      " 38%|███▊      | 609/1595 [19:40<36:28,  2.22s/it]"
     ]
    },
    {
     "name": "stdout",
     "output_type": "stream",
     "text": [
      "chunks for patient: f83c62177ee552891d22df33be12ab07 : 16767\n"
     ]
    },
    {
     "name": "stderr",
     "output_type": "stream",
     "text": [
      "\r",
      "          \r",
      "\r",
      "          \r",
      " 38%|███▊      | 609/1595 [19:42<31:55,  1.94s/it]\r",
      " 38%|███▊      | 610/1595 [19:42<34:45,  2.12s/it]"
     ]
    },
    {
     "name": "stdout",
     "output_type": "stream",
     "text": [
      "chunks for patient: b7ef0e864365220b8c8bfb153012d09a : 14196\n"
     ]
    },
    {
     "name": "stderr",
     "output_type": "stream",
     "text": [
      "\r",
      "          \r",
      "\r",
      "          \r",
      " 38%|███▊      | 610/1595 [19:44<31:53,  1.94s/it]\r",
      " 38%|███▊      | 611/1595 [19:44<33:48,  2.06s/it]"
     ]
    },
    {
     "name": "stdout",
     "output_type": "stream",
     "text": [
      "chunks for patient: 2505ca2e3cd132f69fde96ba4bb50f7b : 13750\n"
     ]
    },
    {
     "name": "stderr",
     "output_type": "stream",
     "text": [
      "\r",
      "          \r",
      "\r",
      "          \r",
      " 38%|███▊      | 611/1595 [19:46<31:51,  1.94s/it]\r",
      " 38%|███▊      | 612/1595 [19:46<33:25,  2.04s/it]"
     ]
    },
    {
     "name": "stdout",
     "output_type": "stream",
     "text": [
      "chunks for patient: 0ff552aa083ecfabaf1cfd65b0a8e674 : 15000\n"
     ]
    },
    {
     "name": "stderr",
     "output_type": "stream",
     "text": [
      "\r",
      "          \r",
      "\r",
      "          \r",
      " 38%|███▊      | 612/1595 [19:47<31:48,  1.94s/it]\r",
      " 38%|███▊      | 613/1595 [19:47<29:02,  1.77s/it]"
     ]
    },
    {
     "name": "stdout",
     "output_type": "stream",
     "text": [
      "chunks for patient: ab9c7bef62d1ad65b824414087b6f06b : 9196\n"
     ]
    },
    {
     "name": "stderr",
     "output_type": "stream",
     "text": [
      "\r",
      "          \r",
      "\r",
      "          \r",
      " 38%|███▊      | 613/1595 [19:49<31:46,  1.94s/it]\r",
      " 38%|███▊      | 614/1595 [19:49<30:08,  1.84s/it]"
     ]
    },
    {
     "name": "stdout",
     "output_type": "stream",
     "text": [
      "chunks for patient: 5ab68460985d9ed8e952475b402ddd62 : 14375\n"
     ]
    },
    {
     "name": "stderr",
     "output_type": "stream",
     "text": [
      "\r",
      "          \r",
      "\r",
      "          \r",
      " 38%|███▊      | 614/1595 [19:52<31:45,  1.94s/it]\r",
      " 39%|███▊      | 615/1595 [19:52<33:50,  2.07s/it]"
     ]
    },
    {
     "name": "stdout",
     "output_type": "stream",
     "text": [
      "chunks for patient: e659f6517c4df17e86d4d87181396ea6 : 18816\n"
     ]
    },
    {
     "name": "stderr",
     "output_type": "stream",
     "text": [
      "\r",
      "          \r",
      "\r",
      "          \r",
      " 39%|███▊      | 615/1595 [19:55<31:44,  1.94s/it]\r",
      " 39%|███▊      | 616/1595 [19:55<36:35,  2.24s/it]"
     ]
    },
    {
     "name": "stdout",
     "output_type": "stream",
     "text": [
      "chunks for patient: 2bf773632e786951d6d594939e6f4713 : 16464\n"
     ]
    },
    {
     "name": "stderr",
     "output_type": "stream",
     "text": [
      "\r",
      "          \r",
      "\r",
      "          \r",
      " 39%|███▊      | 616/1595 [19:57<31:43,  1.94s/it]\r",
      " 39%|███▊      | 617/1595 [19:57<36:41,  2.25s/it]"
     ]
    },
    {
     "name": "stdout",
     "output_type": "stream",
     "text": [
      "chunks for patient: 4131820511c86a5e6b1e7721ab687049 : 14196\n"
     ]
    },
    {
     "name": "stderr",
     "output_type": "stream",
     "text": [
      "\r",
      "          \r",
      "\r",
      "          \r",
      " 39%|███▊      | 617/1595 [19:58<31:40,  1.94s/it]\r",
      " 39%|███▊      | 618/1595 [19:58<31:33,  1.94s/it]"
     ]
    },
    {
     "name": "stdout",
     "output_type": "stream",
     "text": [
      "chunks for patient: 0eafe9b9182b80c6d67015a2062f5143 : 8800\n"
     ]
    },
    {
     "name": "stderr",
     "output_type": "stream",
     "text": [
      "\r",
      "          \r",
      "\r",
      "          \r",
      " 39%|███▊      | 618/1595 [20:00<31:37,  1.94s/it]\r",
      " 39%|███▉      | 619/1595 [20:00<30:45,  1.89s/it]"
     ]
    },
    {
     "name": "stdout",
     "output_type": "stream",
     "text": [
      "chunks for patient: d991b1760fb8705de655a1da068f7a6a : 12167\n"
     ]
    },
    {
     "name": "stderr",
     "output_type": "stream",
     "text": [
      "\r",
      "          \r",
      "\r",
      "          \r",
      " 39%|███▉      | 619/1595 [20:01<31:34,  1.94s/it]\r",
      " 39%|███▉      | 620/1595 [20:01<27:35,  1.70s/it]"
     ]
    },
    {
     "name": "stdout",
     "output_type": "stream",
     "text": [
      "chunks for patient: cd6be62834c72756738935f904ec9c2c : 7200\n"
     ]
    },
    {
     "name": "stderr",
     "output_type": "stream",
     "text": [
      "\r",
      "          \r",
      "\r",
      "          \r",
      " 39%|███▉      | 620/1595 [20:03<31:32,  1.94s/it]\r",
      " 39%|███▉      | 621/1595 [20:03<27:26,  1.69s/it]"
     ]
    },
    {
     "name": "stdout",
     "output_type": "stream",
     "text": [
      "chunks for patient: bd702368c252929cf701ad56ce64b6e1 : 12672\n"
     ]
    },
    {
     "name": "stderr",
     "output_type": "stream",
     "text": [
      "\r",
      "          \r",
      "\r",
      "          \r",
      " 39%|███▉      | 621/1595 [20:05<31:30,  1.94s/it]\r",
      " 39%|███▉      | 622/1595 [20:05<27:28,  1.69s/it]"
     ]
    },
    {
     "name": "stdout",
     "output_type": "stream",
     "text": [
      "chunks for patient: e8eb842ee04bbad407f85fe671f24d4f : 12100\n"
     ]
    },
    {
     "name": "stderr",
     "output_type": "stream",
     "text": [
      "\r",
      "          \r",
      "\r",
      "          \r",
      " 39%|███▉      | 622/1595 [20:07<31:28,  1.94s/it]\r",
      " 39%|███▉      | 623/1595 [20:07<29:01,  1.79s/it]"
     ]
    },
    {
     "name": "stdout",
     "output_type": "stream",
     "text": [
      "chunks for patient: f82560aeea0309873716efe3aa71ef0a : 16224\n"
     ]
    },
    {
     "name": "stderr",
     "output_type": "stream",
     "text": [
      "\r",
      "          \r",
      "\r",
      "          \r",
      " 39%|███▉      | 623/1595 [20:09<31:26,  1.94s/it]\r",
      " 39%|███▉      | 624/1595 [20:09<30:54,  1.91s/it]"
     ]
    },
    {
     "name": "stdout",
     "output_type": "stream",
     "text": [
      "chunks for patient: 028996723faa7840bb57f57e28275e4c : 15000\n"
     ]
    },
    {
     "name": "stderr",
     "output_type": "stream",
     "text": [
      "\r",
      "          \r",
      "\r",
      "          \r",
      " 39%|███▉      | 624/1595 [20:11<31:25,  1.94s/it]\r",
      " 39%|███▉      | 625/1595 [20:11<33:09,  2.05s/it]"
     ]
    },
    {
     "name": "stdout",
     "output_type": "stream",
     "text": [
      "chunks for patient: 37030ab5889febdae6725740aa627f95 : 14196\n"
     ]
    },
    {
     "name": "stderr",
     "output_type": "stream",
     "text": [
      "\r",
      "          \r",
      "\r",
      "          \r",
      " 39%|███▉      | 625/1595 [20:13<31:23,  1.94s/it]\r",
      " 39%|███▉      | 626/1595 [20:13<32:37,  2.02s/it]"
     ]
    },
    {
     "name": "stdout",
     "output_type": "stream",
     "text": [
      "chunks for patient: c979fbec565e769de7e66944ab5365a4 : 15625\n"
     ]
    },
    {
     "name": "stderr",
     "output_type": "stream",
     "text": [
      "\r",
      "          \r",
      "\r",
      "          \r",
      " 39%|███▉      | 626/1595 [20:15<31:21,  1.94s/it]\r",
      " 39%|███▉      | 627/1595 [20:15<33:03,  2.05s/it]"
     ]
    },
    {
     "name": "stdout",
     "output_type": "stream",
     "text": [
      "chunks for patient: 775c5f8043e72b2284b5885254566271 : 16224\n"
     ]
    },
    {
     "name": "stderr",
     "output_type": "stream",
     "text": [
      "\r",
      "          \r",
      "\r",
      "          \r",
      " 39%|███▉      | 627/1595 [20:17<31:19,  1.94s/it]\r",
      " 39%|███▉      | 628/1595 [20:17<32:15,  2.00s/it]"
     ]
    },
    {
     "name": "stdout",
     "output_type": "stream",
     "text": [
      "chunks for patient: 580cffecce8d3d53cde1abb922adf21a : 13750\n"
     ]
    },
    {
     "name": "stderr",
     "output_type": "stream",
     "text": [
      "\r",
      "          \r",
      "\r",
      "          \r",
      " 39%|███▉      | 628/1595 [20:19<31:17,  1.94s/it]\r",
      " 39%|███▉      | 629/1595 [20:19<31:31,  1.96s/it]"
     ]
    },
    {
     "name": "stdout",
     "output_type": "stream",
     "text": [
      "chunks for patient: 9bf3ca649999bc6856ad9f01c64eb7e4 : 13750\n"
     ]
    },
    {
     "name": "stderr",
     "output_type": "stream",
     "text": [
      "\r",
      "          \r",
      "\r",
      "          \r",
      " 39%|███▉      | 629/1595 [20:21<31:15,  1.94s/it]\r",
      " 39%|███▉      | 630/1595 [20:21<31:06,  1.93s/it]"
     ]
    },
    {
     "name": "stdout",
     "output_type": "stream",
     "text": [
      "chunks for patient: 45a8417be8f56b401bd7b5d106f5acdd : 11132\n"
     ]
    },
    {
     "name": "stderr",
     "output_type": "stream",
     "text": [
      "\r",
      "          \r",
      "\r",
      "          \r",
      " 39%|███▉      | 630/1595 [20:22<31:13,  1.94s/it]\r",
      " 40%|███▉      | 631/1595 [20:22<29:29,  1.84s/it]"
     ]
    },
    {
     "name": "stdout",
     "output_type": "stream",
     "text": [
      "chunks for patient: 7869cc6bfc3678fec1a81e93b34648cf : 13125\n"
     ]
    },
    {
     "name": "stderr",
     "output_type": "stream",
     "text": [
      "\r",
      "          \r",
      "\r",
      "          \r",
      " 40%|███▉      | 631/1595 [20:24<31:10,  1.94s/it]\r",
      " 40%|███▉      | 632/1595 [20:24<27:20,  1.70s/it]"
     ]
    },
    {
     "name": "stdout",
     "output_type": "stream",
     "text": [
      "chunks for patient: 9b871732b3935661e7639e84a6ab9747 : 11638\n"
     ]
    },
    {
     "name": "stderr",
     "output_type": "stream",
     "text": [
      "\r",
      "          \r",
      "\r",
      "          \r",
      " 40%|███▉      | 632/1595 [20:26<31:08,  1.94s/it]\r",
      " 40%|███▉      | 633/1595 [20:26<27:48,  1.73s/it]"
     ]
    },
    {
     "name": "stdout",
     "output_type": "stream",
     "text": [
      "chunks for patient: b2f99ba5baa498246add63b1acf62cd4 : 15000\n"
     ]
    },
    {
     "name": "stderr",
     "output_type": "stream",
     "text": [
      "\r",
      "          \r",
      "\r",
      "          \r",
      " 40%|███▉      | 633/1595 [20:27<31:05,  1.94s/it]\r",
      " 40%|███▉      | 634/1595 [20:27<27:00,  1.69s/it]"
     ]
    },
    {
     "name": "stdout",
     "output_type": "stream",
     "text": [
      "chunks for patient: 7a705cc36536145911a2ef9ace7d9930 : 10051\n"
     ]
    },
    {
     "name": "stderr",
     "output_type": "stream",
     "text": [
      "\r",
      "          \r",
      "\r",
      "          \r",
      " 40%|███▉      | 634/1595 [20:29<31:04,  1.94s/it]\r",
      " 40%|███▉      | 635/1595 [20:29<29:34,  1.85s/it]"
     ]
    },
    {
     "name": "stdout",
     "output_type": "stream",
     "text": [
      "chunks for patient: a0cdb677841933136fd15257e3c47fe6 : 15548\n"
     ]
    },
    {
     "name": "stderr",
     "output_type": "stream",
     "text": [
      "\r",
      "          \r",
      "\r",
      "          \r",
      " 40%|███▉      | 635/1595 [20:32<31:03,  1.94s/it]\r",
      " 40%|███▉      | 636/1595 [20:32<32:15,  2.02s/it]"
     ]
    },
    {
     "name": "stdout",
     "output_type": "stream",
     "text": [
      "chunks for patient: 2a6433cf347f7bd52ab796f083003832 : 19600\n"
     ]
    },
    {
     "name": "stderr",
     "output_type": "stream",
     "text": [
      "\r",
      "          \r",
      "\r",
      "          \r",
      " 40%|███▉      | 636/1595 [20:34<31:01,  1.94s/it]\r",
      " 40%|███▉      | 637/1595 [20:34<31:42,  1.99s/it]"
     ]
    },
    {
     "name": "stdout",
     "output_type": "stream",
     "text": [
      "chunks for patient: 1fb4887efd403cd9c0f6970fc8b679b5 : 12584\n"
     ]
    },
    {
     "name": "stderr",
     "output_type": "stream",
     "text": [
      "\r",
      "          \r",
      "\r",
      "          \r",
      " 40%|███▉      | 637/1595 [20:36<30:59,  1.94s/it]\r",
      " 40%|████      | 638/1595 [20:36<34:01,  2.13s/it]"
     ]
    },
    {
     "name": "stdout",
     "output_type": "stream",
     "text": [
      "chunks for patient: 178663e1e238cdfa4d4eb9679e5d0aa4 : 19220\n"
     ]
    },
    {
     "name": "stderr",
     "output_type": "stream",
     "text": [
      "\r",
      "          \r",
      "\r",
      "          \r",
      " 40%|████      | 638/1595 [20:38<30:57,  1.94s/it]\r",
      " 40%|████      | 639/1595 [20:38<31:46,  1.99s/it]"
     ]
    },
    {
     "name": "stdout",
     "output_type": "stream",
     "text": [
      "chunks for patient: f3d40bbf94a7951dee3b0028e301a126 : 9200\n"
     ]
    },
    {
     "name": "stderr",
     "output_type": "stream",
     "text": [
      "\r",
      "          \r",
      "\r",
      "          \r",
      " 40%|████      | 639/1595 [20:40<30:55,  1.94s/it]\r",
      " 40%|████      | 640/1595 [20:40<31:27,  1.98s/it]"
     ]
    },
    {
     "name": "stdout",
     "output_type": "stream",
     "text": [
      "chunks for patient: 49ee28b71e02be4689e3fb0ba2a32c2b : 14375\n"
     ]
    },
    {
     "name": "stderr",
     "output_type": "stream",
     "text": [
      "\r",
      "          \r",
      "\r",
      "          \r",
      " 40%|████      | 640/1595 [20:42<30:54,  1.94s/it]\r",
      " 40%|████      | 641/1595 [20:42<33:10,  2.09s/it]"
     ]
    },
    {
     "name": "stdout",
     "output_type": "stream",
     "text": [
      "chunks for patient: aa2747369e1a0c724bea611ea7e5ffcf : 16224\n"
     ]
    },
    {
     "name": "stderr",
     "output_type": "stream",
     "text": [
      "\r",
      "          \r",
      "\r",
      "          \r",
      " 40%|████      | 641/1595 [20:44<30:52,  1.94s/it]\r",
      " 40%|████      | 642/1595 [20:44<34:03,  2.14s/it]"
     ]
    },
    {
     "name": "stdout",
     "output_type": "stream",
     "text": [
      "chunks for patient: a4ae73433e63549558a3d0eed9128a69 : 13750\n"
     ]
    },
    {
     "name": "stderr",
     "output_type": "stream",
     "text": [
      "\r",
      "          \r",
      "\r",
      "          \r",
      " 40%|████      | 642/1595 [20:46<30:50,  1.94s/it]\r",
      " 40%|████      | 643/1595 [20:46<32:42,  2.06s/it]"
     ]
    },
    {
     "name": "stdout",
     "output_type": "stream",
     "text": [
      "chunks for patient: 45f4141cfe3f110f9db4e1e113d15684 : 9702\n"
     ]
    },
    {
     "name": "stderr",
     "output_type": "stream",
     "text": [
      "\r",
      "          \r",
      "\r",
      "          \r",
      " 40%|████      | 643/1595 [20:48<30:48,  1.94s/it]\r",
      " 40%|████      | 644/1595 [20:48<29:21,  1.85s/it]"
     ]
    },
    {
     "name": "stdout",
     "output_type": "stream",
     "text": [
      "chunks for patient: 9f19c381184ba62416025849c464630e : 10143\n"
     ]
    },
    {
     "name": "stderr",
     "output_type": "stream",
     "text": [
      "\r",
      "          \r",
      "\r",
      "          \r",
      " 40%|████      | 644/1595 [20:49<30:45,  1.94s/it]\r",
      " 40%|████      | 645/1595 [20:49<28:56,  1.83s/it]"
     ]
    },
    {
     "name": "stdout",
     "output_type": "stream",
     "text": [
      "chunks for patient: 29a2105c99e7677c30c7fd0b2edb9fcd : 10580\n"
     ]
    },
    {
     "name": "stderr",
     "output_type": "stream",
     "text": [
      "\r",
      "          \r",
      "\r",
      "          \r",
      " 40%|████      | 645/1595 [20:51<30:43,  1.94s/it]\r",
      " 41%|████      | 646/1595 [20:51<28:38,  1.81s/it]"
     ]
    },
    {
     "name": "stdout",
     "output_type": "stream",
     "text": [
      "chunks for patient: 2b55d9c3f8e05951c87e90d2361aca6a : 14400\n"
     ]
    },
    {
     "name": "stderr",
     "output_type": "stream",
     "text": [
      "\r",
      "          \r",
      "\r",
      "          \r",
      " 41%|████      | 646/1595 [20:54<30:42,  1.94s/it]\r",
      " 41%|████      | 647/1595 [20:54<30:45,  1.95s/it]"
     ]
    },
    {
     "name": "stdout",
     "output_type": "stream",
     "text": [
      "chunks for patient: 85059119462b510aacb6da54983addcf : 13750\n"
     ]
    },
    {
     "name": "stderr",
     "output_type": "stream",
     "text": [
      "\r",
      "          \r",
      "\r",
      "          \r",
      " 41%|████      | 647/1595 [20:56<30:41,  1.94s/it]\r",
      " 41%|████      | 648/1595 [20:56<35:00,  2.22s/it]"
     ]
    },
    {
     "name": "stdout",
     "output_type": "stream",
     "text": [
      "chunks for patient: bdfb2c23a8c1dca5ea8c1cc3d89efee9 : 16128\n"
     ]
    },
    {
     "name": "stderr",
     "output_type": "stream",
     "text": [
      "\r",
      "          \r",
      "\r",
      "          \r",
      " 41%|████      | 648/1595 [20:59<30:41,  1.94s/it]\r",
      " 41%|████      | 649/1595 [20:59<38:35,  2.45s/it]"
     ]
    },
    {
     "name": "stdout",
     "output_type": "stream",
     "text": [
      "chunks for patient: 538543b57d0c8fa0b2b6bb7c84df3f33 : 18954\n"
     ]
    },
    {
     "name": "stderr",
     "output_type": "stream",
     "text": [
      "\r",
      "          \r",
      "\r",
      "          \r",
      " 41%|████      | 649/1595 [21:01<30:39,  1.94s/it]\r",
      " 41%|████      | 650/1595 [21:01<36:13,  2.30s/it]"
     ]
    },
    {
     "name": "stdout",
     "output_type": "stream",
     "text": [
      "chunks for patient: 657dc5d2bf8ea210d912dd8320481068 : 12696\n"
     ]
    },
    {
     "name": "stderr",
     "output_type": "stream",
     "text": [
      "\r",
      "          \r",
      "\r",
      "          \r",
      " 41%|████      | 650/1595 [21:03<30:37,  1.94s/it]\r",
      " 41%|████      | 651/1595 [21:03<34:56,  2.22s/it]"
     ]
    },
    {
     "name": "stdout",
     "output_type": "stream",
     "text": [
      "chunks for patient: 281bb28a077ccfcd40ce4a543a5aea89 : 17576\n"
     ]
    },
    {
     "name": "stderr",
     "output_type": "stream",
     "text": [
      "\r",
      "          \r",
      "\r",
      "          \r",
      " 41%|████      | 651/1595 [21:06<30:36,  1.94s/it]\r",
      " 41%|████      | 652/1595 [21:06<35:21,  2.25s/it]"
     ]
    },
    {
     "name": "stdout",
     "output_type": "stream",
     "text": [
      "chunks for patient: de635c85f320131ee743733bb04e65b9 : 14872\n"
     ]
    },
    {
     "name": "stderr",
     "output_type": "stream",
     "text": [
      "\r",
      "          \r",
      "\r",
      "          \r",
      " 41%|████      | 652/1595 [21:07<30:33,  1.94s/it]\r",
      " 41%|████      | 653/1595 [21:07<31:22,  2.00s/it]"
     ]
    },
    {
     "name": "stdout",
     "output_type": "stream",
     "text": [
      "chunks for patient: 9ba5fbcccfbc9e08edcfe2258ddf7178 : 11616\n"
     ]
    },
    {
     "name": "stderr",
     "output_type": "stream",
     "text": [
      "\r",
      "          \r",
      "\r",
      "          \r",
      " 41%|████      | 653/1595 [21:10<30:32,  1.95s/it]\r",
      " 41%|████      | 654/1595 [21:10<35:54,  2.29s/it]"
     ]
    },
    {
     "name": "stdout",
     "output_type": "stream",
     "text": [
      "chunks for patient: 1c05dea5723caf192af34ceb5804468f : 20184\n"
     ]
    },
    {
     "name": "stderr",
     "output_type": "stream",
     "text": [
      "\r",
      "          \r",
      "\r",
      "          \r",
      " 41%|████      | 654/1595 [21:12<30:31,  1.95s/it]\r",
      " 41%|████      | 655/1595 [21:12<36:13,  2.31s/it]"
     ]
    },
    {
     "name": "stdout",
     "output_type": "stream",
     "text": [
      "chunks for patient: 6bebfec174e8a6e8d4b1653c13fcdbe5 : 18502\n"
     ]
    },
    {
     "name": "stderr",
     "output_type": "stream",
     "text": [
      "\r",
      "          \r",
      "\r",
      "          \r",
      " 41%|████      | 655/1595 [21:15<30:29,  1.95s/it]\r",
      " 41%|████      | 656/1595 [21:15<35:47,  2.29s/it]"
     ]
    },
    {
     "name": "stdout",
     "output_type": "stream",
     "text": [
      "chunks for patient: 04a3187ec2ed4198a25033071897bffc : 16038\n"
     ]
    },
    {
     "name": "stderr",
     "output_type": "stream",
     "text": [
      "\r",
      "          \r",
      "\r",
      "          \r",
      " 41%|████      | 656/1595 [21:17<30:28,  1.95s/it]\r",
      " 41%|████      | 657/1595 [21:17<34:17,  2.19s/it]"
     ]
    },
    {
     "name": "stdout",
     "output_type": "stream",
     "text": [
      "chunks for patient: 6ee742b62985570a1f3a142eb7e49188 : 14400\n"
     ]
    },
    {
     "name": "stderr",
     "output_type": "stream",
     "text": [
      "\r",
      "          \r",
      "\r",
      "          \r",
      " 41%|████      | 657/1595 [21:19<30:26,  1.95s/it]\r",
      " 41%|████▏     | 658/1595 [21:19<34:24,  2.20s/it]"
     ]
    },
    {
     "name": "stdout",
     "output_type": "stream",
     "text": [
      "chunks for patient: 01f1140c8e951e2a921b61c9a7e782c2 : 14872\n"
     ]
    },
    {
     "name": "stderr",
     "output_type": "stream",
     "text": [
      "\r",
      "          \r",
      "\r",
      "          \r",
      " 41%|████▏     | 658/1595 [21:21<30:25,  1.95s/it]\r",
      " 41%|████▏     | 659/1595 [21:21<35:47,  2.29s/it]"
     ]
    },
    {
     "name": "stdout",
     "output_type": "stream",
     "text": [
      "chunks for patient: 666becc9794c25bb8e0e7982be7cb6dc : 14400\n"
     ]
    },
    {
     "name": "stderr",
     "output_type": "stream",
     "text": [
      "\r",
      "          \r",
      "\r",
      "          \r",
      " 41%|████▏     | 659/1595 [21:23<30:23,  1.95s/it]\r",
      " 41%|████▏     | 660/1595 [21:23<33:59,  2.18s/it]"
     ]
    },
    {
     "name": "stdout",
     "output_type": "stream",
     "text": [
      "chunks for patient: d0baf38ff8d974e7b59c23fd43713de9 : 14196\n"
     ]
    },
    {
     "name": "stderr",
     "output_type": "stream",
     "text": [
      "\r",
      "          \r",
      "\r",
      "          \r",
      " 41%|████▏     | 660/1595 [21:25<30:20,  1.95s/it]\r",
      " 41%|████▏     | 661/1595 [21:25<31:19,  2.01s/it]"
     ]
    },
    {
     "name": "stdout",
     "output_type": "stream",
     "text": [
      "chunks for patient: 8e7638040431e1d91dffa4497f7078d9 : 12696\n"
     ]
    },
    {
     "name": "stderr",
     "output_type": "stream",
     "text": [
      "\r",
      "          \r",
      "\r",
      "          \r",
      " 41%|████▏     | 661/1595 [21:26<30:18,  1.95s/it]\r",
      " 42%|████▏     | 662/1595 [21:26<28:51,  1.86s/it]"
     ]
    },
    {
     "name": "stdout",
     "output_type": "stream",
     "text": [
      "chunks for patient: d777a77cc7a2ec2f1eed68799cc9075c : 9261\n"
     ]
    },
    {
     "name": "stderr",
     "output_type": "stream",
     "text": [
      "\r",
      "          \r",
      "\r",
      "          \r",
      " 42%|████▏     | 662/1595 [21:28<30:16,  1.95s/it]\r",
      " 42%|████▏     | 663/1595 [21:28<28:19,  1.82s/it]"
     ]
    },
    {
     "name": "stdout",
     "output_type": "stream",
     "text": [
      "chunks for patient: f5717f7cbc08d8bd942cd4c1128e3339 : 13125\n"
     ]
    },
    {
     "name": "stderr",
     "output_type": "stream",
     "text": [
      "\r",
      "          \r",
      "\r",
      "          \r",
      " 42%|████▏     | 663/1595 [21:29<30:13,  1.95s/it]\r",
      " 42%|████▏     | 664/1595 [21:29<26:09,  1.69s/it]"
     ]
    },
    {
     "name": "stdout",
     "output_type": "stream",
     "text": [
      "chunks for patient: 512397206b42f1f8d009113511ae2937 : 11250\n"
     ]
    },
    {
     "name": "stderr",
     "output_type": "stream",
     "text": [
      "\r",
      "          \r",
      "\r",
      "          \r",
      " 42%|████▏     | 664/1595 [21:32<30:12,  1.95s/it]\r",
      " 42%|████▏     | 665/1595 [21:32<31:50,  2.05s/it]"
     ]
    },
    {
     "name": "stdout",
     "output_type": "stream",
     "text": [
      "chunks for patient: bbed0d350caad0e19e5b0fc858097ce4 : 22500\n"
     ]
    },
    {
     "name": "stderr",
     "output_type": "stream",
     "text": [
      "\r",
      "          \r",
      "\r",
      "          \r",
      " 42%|████▏     | 665/1595 [21:35<30:11,  1.95s/it]\r",
      " 42%|████▏     | 666/1595 [21:35<33:31,  2.17s/it]"
     ]
    },
    {
     "name": "stdout",
     "output_type": "stream",
     "text": [
      "chunks for patient: 29d92a1e253cef2c7f34c6db26ce11e3 : 18225\n"
     ]
    },
    {
     "name": "stderr",
     "output_type": "stream",
     "text": [
      "\r",
      "          \r",
      "\r",
      "          \r",
      " 42%|████▏     | 666/1595 [21:39<30:12,  1.95s/it]\r",
      " 42%|████▏     | 667/1595 [21:39<40:59,  2.65s/it]"
     ]
    },
    {
     "name": "stdout",
     "output_type": "stream",
     "text": [
      "chunks for patient: 086f95a932c83faed289854083f48831 : 20384\n"
     ]
    },
    {
     "name": "stderr",
     "output_type": "stream",
     "text": [
      "\r",
      "          \r",
      "\r",
      "          \r",
      " 42%|████▏     | 667/1595 [21:41<30:10,  1.95s/it]\r",
      " 42%|████▏     | 668/1595 [21:41<40:22,  2.61s/it]"
     ]
    },
    {
     "name": "stdout",
     "output_type": "stream",
     "text": [
      "chunks for patient: a4fa7dd73e3017b97ac6674a10fac216 : 21025\n"
     ]
    },
    {
     "name": "stderr",
     "output_type": "stream",
     "text": [
      "\r",
      "          \r",
      "\r",
      "          \r",
      " 42%|████▏     | 668/1595 [21:43<30:09,  1.95s/it]\r",
      " 42%|████▏     | 669/1595 [21:43<38:44,  2.51s/it]"
     ]
    },
    {
     "name": "stdout",
     "output_type": "stream",
     "text": [
      "chunks for patient: f39dacd5f134f3f4482094d3f8a0aff1 : 17248\n"
     ]
    },
    {
     "name": "stderr",
     "output_type": "stream",
     "text": [
      "\r",
      "          \r",
      "\r",
      "          \r",
      " 42%|████▏     | 669/1595 [21:45<30:06,  1.95s/it]\r",
      " 42%|████▏     | 670/1595 [21:45<32:24,  2.10s/it]"
     ]
    },
    {
     "name": "stdout",
     "output_type": "stream",
     "text": [
      "chunks for patient: bf1c730d11f5c1db7da7c39808451c4c : 9261\n"
     ]
    },
    {
     "name": "stderr",
     "output_type": "stream",
     "text": [
      "\r",
      "          \r",
      "\r",
      "          \r",
      " 42%|████▏     | 670/1595 [21:46<30:03,  1.95s/it]\r",
      " 42%|████▏     | 671/1595 [21:46<29:21,  1.91s/it]"
     ]
    },
    {
     "name": "stdout",
     "output_type": "stream",
     "text": [
      "chunks for patient: d8a0ebe575539c2357c2365cdf0229a0 : 10164\n"
     ]
    },
    {
     "name": "stderr",
     "output_type": "stream",
     "text": [
      "\r",
      "          \r",
      "\r",
      "          \r",
      " 42%|████▏     | 671/1595 [21:48<30:02,  1.95s/it]\r",
      " 42%|████▏     | 672/1595 [21:48<30:38,  1.99s/it]"
     ]
    },
    {
     "name": "stdout",
     "output_type": "stream",
     "text": [
      "chunks for patient: 1b2355e6054759f2f0eb2542ed382b78 : 16767\n"
     ]
    },
    {
     "name": "stderr",
     "output_type": "stream",
     "text": [
      "\r",
      "          \r",
      "\r",
      "          \r",
      " 42%|████▏     | 672/1595 [21:51<30:00,  1.95s/it]\r",
      " 42%|████▏     | 673/1595 [21:51<32:04,  2.09s/it]"
     ]
    },
    {
     "name": "stdout",
     "output_type": "stream",
     "text": [
      "chunks for patient: c2bdfb6ab5192656b397459648221918 : 17576\n"
     ]
    },
    {
     "name": "stderr",
     "output_type": "stream",
     "text": [
      "\r",
      "          \r",
      "\r",
      "          \r",
      " 42%|████▏     | 673/1595 [21:52<29:58,  1.95s/it]\r",
      " 42%|████▏     | 674/1595 [21:52<29:35,  1.93s/it]"
     ]
    },
    {
     "name": "stdout",
     "output_type": "stream",
     "text": [
      "chunks for patient: e67bc6cd24a71a486b626592d591a2da : 11132\n"
     ]
    },
    {
     "name": "stderr",
     "output_type": "stream",
     "text": [
      "\r",
      "          \r",
      "\r",
      "          \r",
      " 42%|████▏     | 674/1595 [21:54<29:56,  1.95s/it]\r",
      " 42%|████▏     | 675/1595 [21:54<29:39,  1.93s/it]"
     ]
    },
    {
     "name": "stdout",
     "output_type": "stream",
     "text": [
      "chunks for patient: 437e42695e7ad0a1cb834e1b3e780516 : 14872\n"
     ]
    },
    {
     "name": "stderr",
     "output_type": "stream",
     "text": [
      "\r",
      "          \r",
      "\r",
      "          \r",
      " 42%|████▏     | 675/1595 [21:56<29:53,  1.95s/it]\r",
      " 42%|████▏     | 676/1595 [21:56<27:49,  1.82s/it]"
     ]
    },
    {
     "name": "stdout",
     "output_type": "stream",
     "text": [
      "chunks for patient: 302336ac736ed66077456775a0a99adc : 13750\n"
     ]
    },
    {
     "name": "stderr",
     "output_type": "stream",
     "text": [
      "\r",
      "          \r",
      "\r",
      "          \r",
      " 42%|████▏     | 676/1595 [21:58<29:52,  1.95s/it]\r",
      " 42%|████▏     | 677/1595 [21:58<31:45,  2.08s/it]"
     ]
    },
    {
     "name": "stdout",
     "output_type": "stream",
     "text": [
      "chunks for patient: 8bbad07d91788b97cf894a05a152d291 : 23400\n"
     ]
    },
    {
     "name": "stderr",
     "output_type": "stream",
     "text": [
      "\r",
      "          \r",
      "\r",
      "          \r",
      " 42%|████▏     | 677/1595 [22:00<29:49,  1.95s/it]\r",
      " 43%|████▎     | 678/1595 [22:00<28:02,  1.83s/it]"
     ]
    },
    {
     "name": "stdout",
     "output_type": "stream",
     "text": [
      "chunks for patient: 8c7b03ed7f61c7faa5a26e126d769404 : 10580\n"
     ]
    },
    {
     "name": "stderr",
     "output_type": "stream",
     "text": [
      "\r",
      "          \r",
      "\r",
      "          \r",
      " 43%|████▎     | 678/1595 [22:01<29:47,  1.95s/it]\r",
      " 43%|████▎     | 679/1595 [22:01<28:28,  1.86s/it]"
     ]
    },
    {
     "name": "stdout",
     "output_type": "stream",
     "text": [
      "chunks for patient: 8a1fa06a0099522730dd3c12c9b9cc78 : 14196\n"
     ]
    },
    {
     "name": "stderr",
     "output_type": "stream",
     "text": [
      "\r",
      "          \r",
      "\r",
      "          \r",
      " 43%|████▎     | 679/1595 [22:03<29:45,  1.95s/it]\r",
      " 43%|████▎     | 680/1595 [22:03<28:06,  1.84s/it]"
     ]
    },
    {
     "name": "stdout",
     "output_type": "stream",
     "text": [
      "chunks for patient: 8369f716ca2d51c934e7f6d44cb156e9 : 13125\n"
     ]
    },
    {
     "name": "stderr",
     "output_type": "stream",
     "text": [
      "\r",
      "          \r",
      "\r",
      "          \r",
      " 43%|████▎     | 680/1595 [22:06<29:45,  1.95s/it]\r",
      " 43%|████▎     | 681/1595 [22:06<32:52,  2.16s/it]"
     ]
    },
    {
     "name": "stdout",
     "output_type": "stream",
     "text": [
      "chunks for patient: 2117642550461db380a019bbd10a95e5 : 17248\n"
     ]
    },
    {
     "name": "stderr",
     "output_type": "stream",
     "text": [
      "\r",
      "          \r",
      "\r",
      "          \r",
      " 43%|████▎     | 681/1595 [22:08<29:43,  1.95s/it]\r",
      " 43%|████▎     | 682/1595 [22:08<32:15,  2.12s/it]"
     ]
    },
    {
     "name": "stdout",
     "output_type": "stream",
     "text": [
      "chunks for patient: a2f41e283f3c797e85c0b9d63453b365 : 13125\n"
     ]
    },
    {
     "name": "stderr",
     "output_type": "stream",
     "text": [
      "\r",
      "          \r",
      "\r",
      "          \r",
      " 43%|████▎     | 682/1595 [22:10<29:40,  1.95s/it]\r",
      " 43%|████▎     | 683/1595 [22:10<30:17,  1.99s/it]"
     ]
    },
    {
     "name": "stdout",
     "output_type": "stream",
     "text": [
      "chunks for patient: e2bcbfe1ab0f9ddc5d6234f819cd5df5 : 12168\n"
     ]
    },
    {
     "name": "stderr",
     "output_type": "stream",
     "text": [
      "\r",
      "          \r",
      "\r",
      "          \r",
      " 43%|████▎     | 683/1595 [22:11<29:38,  1.95s/it]\r",
      " 43%|████▎     | 684/1595 [22:11<27:09,  1.79s/it]"
     ]
    },
    {
     "name": "stdout",
     "output_type": "stream",
     "text": [
      "chunks for patient: b0864a9fd01ec7c7fa3a8301bdb2d03d : 11109\n"
     ]
    },
    {
     "name": "stderr",
     "output_type": "stream",
     "text": [
      "\r",
      "          \r",
      "\r",
      "          \r",
      " 43%|████▎     | 684/1595 [22:14<29:37,  1.95s/it]\r",
      " 43%|████▎     | 685/1595 [22:14<32:50,  2.17s/it]"
     ]
    },
    {
     "name": "stdout",
     "output_type": "stream",
     "text": [
      "chunks for patient: cbb9bbd994c235b56fb77429291edf99 : 21600\n"
     ]
    },
    {
     "name": "stderr",
     "output_type": "stream",
     "text": [
      "\r",
      "          \r",
      "\r",
      "          \r",
      " 43%|████▎     | 685/1595 [22:16<29:35,  1.95s/it]\r",
      " 43%|████▎     | 686/1595 [22:16<32:25,  2.14s/it]"
     ]
    },
    {
     "name": "stdout",
     "output_type": "stream",
     "text": [
      "chunks for patient: d3aad463ed33cb02334f0c3029db4587 : 14872\n"
     ]
    },
    {
     "name": "stderr",
     "output_type": "stream",
     "text": [
      "\r",
      "          \r",
      "\r",
      "          \r",
      " 43%|████▎     | 686/1595 [22:19<29:34,  1.95s/it]\r",
      " 43%|████▎     | 687/1595 [22:19<32:53,  2.17s/it]"
     ]
    },
    {
     "name": "stdout",
     "output_type": "stream",
     "text": [
      "chunks for patient: d0c86e0c3b3fe3e1dd936b7553ecc29c : 17496\n"
     ]
    },
    {
     "name": "stderr",
     "output_type": "stream",
     "text": [
      "\r",
      "          \r",
      "\r",
      "          \r",
      " 43%|████▎     | 687/1595 [22:20<29:32,  1.95s/it]\r",
      " 43%|████▎     | 688/1595 [22:20<30:32,  2.02s/it]"
     ]
    },
    {
     "name": "stdout",
     "output_type": "stream",
     "text": [
      "chunks for patient: 7b76426f64cb4fbe3d4caa1dcbf47a2f : 11132\n"
     ]
    },
    {
     "name": "stderr",
     "output_type": "stream",
     "text": [
      "\r",
      "          \r",
      "\r",
      "          \r",
      " 43%|████▎     | 688/1595 [22:22<29:29,  1.95s/it]\r",
      " 43%|████▎     | 689/1595 [22:22<27:34,  1.83s/it]"
     ]
    },
    {
     "name": "stdout",
     "output_type": "stream",
     "text": [
      "chunks for patient: f43843b39a5be8cd30dab59bd11499ed : 9702\n"
     ]
    },
    {
     "name": "stderr",
     "output_type": "stream",
     "text": [
      "\r",
      "          \r",
      "\r",
      "          \r",
      " 43%|████▎     | 689/1595 [22:25<29:29,  1.95s/it]\r",
      " 43%|████▎     | 690/1595 [22:25<34:00,  2.25s/it]"
     ]
    },
    {
     "name": "stdout",
     "output_type": "stream",
     "text": [
      "chunks for patient: 8fe50e522e082c3752a0814da32f7e4c : 23552\n"
     ]
    },
    {
     "name": "stderr",
     "output_type": "stream",
     "text": [
      "\r",
      "          \r",
      "\r",
      "          \r",
      " 43%|████▎     | 690/1595 [22:27<29:27,  1.95s/it]\r",
      " 43%|████▎     | 691/1595 [22:27<33:08,  2.20s/it]"
     ]
    },
    {
     "name": "stdout",
     "output_type": "stream",
     "text": [
      "chunks for patient: d459ff0332d2b10be26eee73b1f80f7b : 16900\n"
     ]
    },
    {
     "name": "stderr",
     "output_type": "stream",
     "text": [
      "\r",
      "          \r",
      "\r",
      "          \r",
      " 43%|████▎     | 691/1595 [22:29<29:25,  1.95s/it]\r",
      " 43%|████▎     | 692/1595 [22:29<31:36,  2.10s/it]"
     ]
    },
    {
     "name": "stdout",
     "output_type": "stream",
     "text": [
      "chunks for patient: 8f4c97d428c70831d74660bca08961b9 : 14872\n"
     ]
    },
    {
     "name": "stderr",
     "output_type": "stream",
     "text": [
      "\r",
      "          \r",
      "\r",
      "          \r",
      " 43%|████▎     | 692/1595 [22:30<29:22,  1.95s/it]\r",
      " 43%|████▎     | 693/1595 [22:30<29:28,  1.96s/it]"
     ]
    },
    {
     "name": "stdout",
     "output_type": "stream",
     "text": [
      "chunks for patient: 0d2fcf787026fece4e57be167d079383 : 12167\n"
     ]
    },
    {
     "name": "stderr",
     "output_type": "stream",
     "text": [
      "\r",
      "          \r",
      "\r",
      "          \r",
      " 43%|████▎     | 693/1595 [22:32<29:20,  1.95s/it]\r",
      " 44%|████▎     | 694/1595 [22:32<28:55,  1.93s/it]"
     ]
    },
    {
     "name": "stdout",
     "output_type": "stream",
     "text": [
      "chunks for patient: bf56e271a2aa37625192954157e9f64d : 16224\n"
     ]
    },
    {
     "name": "stderr",
     "output_type": "stream",
     "text": [
      "\r",
      "          \r",
      "\r",
      "          \r",
      " 44%|████▎     | 694/1595 [22:34<29:18,  1.95s/it]\r",
      " 44%|████▎     | 695/1595 [22:34<27:07,  1.81s/it]"
     ]
    },
    {
     "name": "stdout",
     "output_type": "stream",
     "text": [
      "chunks for patient: e6160ed0ff2eb214abd4df9a3c336c1d : 11875\n"
     ]
    },
    {
     "name": "stderr",
     "output_type": "stream",
     "text": [
      "\r",
      "          \r",
      "\r",
      "          \r",
      " 44%|████▎     | 695/1595 [22:35<29:15,  1.95s/it]\r",
      " 44%|████▎     | 696/1595 [22:35<25:52,  1.73s/it]"
     ]
    },
    {
     "name": "stdout",
     "output_type": "stream",
     "text": [
      "chunks for patient: 0c60f4b87afcb3e2dfa65abbbf3ef2f9 : 11520\n"
     ]
    },
    {
     "name": "stderr",
     "output_type": "stream",
     "text": [
      "\r",
      "          \r",
      "\r",
      "          \r",
      " 44%|████▎     | 696/1595 [22:37<29:13,  1.95s/it]\r",
      " 44%|████▎     | 697/1595 [22:37<26:50,  1.79s/it]"
     ]
    },
    {
     "name": "stdout",
     "output_type": "stream",
     "text": [
      "chunks for patient: 1ec082e8e2fa6eb6366b72a13e47b50f : 14976\n"
     ]
    },
    {
     "name": "stderr",
     "output_type": "stream",
     "text": [
      "\r",
      "          \r",
      "\r",
      "          \r",
      " 44%|████▎     | 697/1595 [22:40<29:12,  1.95s/it]\r",
      " 44%|████▍     | 698/1595 [22:40<29:29,  1.97s/it]"
     ]
    },
    {
     "name": "stdout",
     "output_type": "stream",
     "text": [
      "chunks for patient: 820dd342da11af3a062d1647b3736fdd : 18816\n"
     ]
    },
    {
     "name": "stderr",
     "output_type": "stream",
     "text": [
      "\r",
      "          \r",
      "\r",
      "          \r",
      " 44%|████▍     | 698/1595 [22:41<29:09,  1.95s/it]\r",
      " 44%|████▍     | 699/1595 [22:41<27:19,  1.83s/it]"
     ]
    },
    {
     "name": "stdout",
     "output_type": "stream",
     "text": [
      "chunks for patient: 48ab0b98fc7789304c21430978624f32 : 11638\n"
     ]
    },
    {
     "name": "stderr",
     "output_type": "stream",
     "text": [
      "\r",
      "          \r",
      "\r",
      "          \r",
      " 44%|████▍     | 699/1595 [22:43<29:07,  1.95s/it]\r",
      " 44%|████▍     | 700/1595 [22:43<25:31,  1.71s/it]"
     ]
    },
    {
     "name": "stdout",
     "output_type": "stream",
     "text": [
      "chunks for patient: 4aea6c3360cd923d25f33ec5b5e643bc : 12100\n"
     ]
    },
    {
     "name": "stderr",
     "output_type": "stream",
     "text": [
      "\r",
      "          \r",
      "\r",
      "          \r",
      " 44%|████▍     | 700/1595 [22:44<29:04,  1.95s/it]\r",
      " 44%|████▍     | 701/1595 [22:44<23:56,  1.61s/it]"
     ]
    },
    {
     "name": "stdout",
     "output_type": "stream",
     "text": [
      "chunks for patient: e6214ef879c6d01ae598161e50e23c0c : 10164\n"
     ]
    },
    {
     "name": "stderr",
     "output_type": "stream",
     "text": [
      "\r",
      "          \r",
      "\r",
      "          \r",
      " 44%|████▍     | 701/1595 [22:46<29:02,  1.95s/it]\r",
      " 44%|████▍     | 702/1595 [22:46<24:54,  1.67s/it]"
     ]
    },
    {
     "name": "stdout",
     "output_type": "stream",
     "text": [
      "chunks for patient: 761aeadb65fb84c8d04978a75b2f684c : 15680\n"
     ]
    },
    {
     "name": "stderr",
     "output_type": "stream",
     "text": [
      "\r",
      "          \r",
      "\r",
      "          \r",
      " 44%|████▍     | 702/1595 [22:47<29:00,  1.95s/it]\r",
      " 44%|████▍     | 703/1595 [22:47<24:58,  1.68s/it]"
     ]
    },
    {
     "name": "stdout",
     "output_type": "stream",
     "text": [
      "chunks for patient: 408646e125230c495be91fe171da736e : 14872\n"
     ]
    },
    {
     "name": "stderr",
     "output_type": "stream",
     "text": [
      "\r",
      "          \r",
      "\r",
      "          \r",
      " 44%|████▍     | 703/1595 [22:49<28:57,  1.95s/it]\r",
      " 44%|████▍     | 704/1595 [22:49<24:20,  1.64s/it]"
     ]
    },
    {
     "name": "stdout",
     "output_type": "stream",
     "text": [
      "chunks for patient: e314fd13809db0132443b924401d828b : 11132\n"
     ]
    },
    {
     "name": "stderr",
     "output_type": "stream",
     "text": [
      "\r",
      "          \r",
      "\r",
      "          \r",
      " 44%|████▍     | 704/1595 [22:51<28:55,  1.95s/it]\r",
      " 44%|████▍     | 705/1595 [22:51<24:06,  1.62s/it]"
     ]
    },
    {
     "name": "stdout",
     "output_type": "stream",
     "text": [
      "chunks for patient: 3457880b1a66030feb8adaed6da805af : 12672\n"
     ]
    },
    {
     "name": "stderr",
     "output_type": "stream",
     "text": [
      "\r",
      "          \r",
      "\r",
      "          \r",
      " 44%|████▍     | 705/1595 [22:53<28:54,  1.95s/it]\r",
      " 44%|████▍     | 706/1595 [22:53<27:43,  1.87s/it]"
     ]
    },
    {
     "name": "stdout",
     "output_type": "stream",
     "text": [
      "chunks for patient: b3c2d92976acd67a13493cdff1ec33ce : 15000\n"
     ]
    },
    {
     "name": "stderr",
     "output_type": "stream",
     "text": [
      "\r",
      "          \r",
      "\r",
      "          \r",
      " 44%|████▍     | 706/1595 [22:55<28:51,  1.95s/it]\r",
      " 44%|████▍     | 707/1595 [22:55<26:55,  1.82s/it]"
     ]
    },
    {
     "name": "stdout",
     "output_type": "stream",
     "text": [
      "chunks for patient: caa6c81b74054858772bda6c2a0e8ee6 : 11616\n"
     ]
    },
    {
     "name": "stderr",
     "output_type": "stream",
     "text": [
      "\r",
      "          \r",
      "\r",
      "          \r",
      " 44%|████▍     | 707/1595 [22:56<28:49,  1.95s/it]\r",
      " 44%|████▍     | 708/1595 [22:56<25:57,  1.76s/it]"
     ]
    },
    {
     "name": "stdout",
     "output_type": "stream",
     "text": [
      "chunks for patient: 665c1913d8e90e57af3b745349d19537 : 14400\n"
     ]
    },
    {
     "name": "stderr",
     "output_type": "stream",
     "text": [
      "\r",
      "          \r",
      "\r",
      "          \r",
      " 44%|████▍     | 708/1595 [22:58<28:47,  1.95s/it]\r",
      " 44%|████▍     | 709/1595 [22:58<26:35,  1.80s/it]"
     ]
    },
    {
     "name": "stdout",
     "output_type": "stream",
     "text": [
      "chunks for patient: 006b96310a37b36cccb2ab48d10b49a3 : 15625\n"
     ]
    },
    {
     "name": "stderr",
     "output_type": "stream",
     "text": [
      "\r",
      "          \r",
      "\r",
      "          \r",
      " 44%|████▍     | 709/1595 [23:01<28:46,  1.95s/it]\r",
      " 45%|████▍     | 710/1595 [23:01<29:23,  1.99s/it]"
     ]
    },
    {
     "name": "stdout",
     "output_type": "stream",
     "text": [
      "chunks for patient: d08383958039c53ea3347ce1719be43e : 21168\n"
     ]
    },
    {
     "name": "stderr",
     "output_type": "stream",
     "text": [
      "\r",
      "          \r",
      "\r",
      "          \r",
      " 45%|████▍     | 710/1595 [23:03<28:44,  1.95s/it]\r",
      " 45%|████▍     | 711/1595 [23:03<30:09,  2.05s/it]"
     ]
    },
    {
     "name": "stdout",
     "output_type": "stream",
     "text": [
      "chunks for patient: a0e60d7a13f6bb4002cc4a08e60b0776 : 17496\n"
     ]
    },
    {
     "name": "stderr",
     "output_type": "stream",
     "text": [
      "\r",
      "          \r",
      "\r",
      "          \r",
      " 45%|████▍     | 711/1595 [23:05<28:43,  1.95s/it]\r",
      " 45%|████▍     | 712/1595 [23:05<32:25,  2.20s/it]"
     ]
    },
    {
     "name": "stdout",
     "output_type": "stream",
     "text": [
      "chunks for patient: 4baa552f3a11782f39e16b345d401fb8 : 22500\n"
     ]
    },
    {
     "name": "stderr",
     "output_type": "stream",
     "text": [
      "\r",
      "          \r",
      "\r",
      "          \r",
      " 45%|████▍     | 712/1595 [23:07<28:41,  1.95s/it]\r",
      " 45%|████▍     | 713/1595 [23:07<30:29,  2.07s/it]"
     ]
    },
    {
     "name": "stdout",
     "output_type": "stream",
     "text": [
      "chunks for patient: c0712bc73239d89cddd71a93865e2946 : 16224\n"
     ]
    },
    {
     "name": "stderr",
     "output_type": "stream",
     "text": [
      "\r",
      "          \r",
      "\r",
      "          \r",
      " 45%|████▍     | 713/1595 [23:09<28:38,  1.95s/it]\r",
      " 45%|████▍     | 714/1595 [23:09<28:17,  1.93s/it]"
     ]
    },
    {
     "name": "stdout",
     "output_type": "stream",
     "text": [
      "chunks for patient: 3c73f5597780b7312b380373fb897f40 : 8000\n"
     ]
    },
    {
     "name": "stderr",
     "output_type": "stream",
     "text": [
      "\r",
      "          \r",
      "\r",
      "          \r",
      " 45%|████▍     | 714/1595 [23:10<28:36,  1.95s/it]\r",
      " 45%|████▍     | 715/1595 [23:10<26:36,  1.81s/it]"
     ]
    },
    {
     "name": "stdout",
     "output_type": "stream",
     "text": [
      "chunks for patient: a162d204827e4e89a2e5ba81cc53247a : 11616\n"
     ]
    },
    {
     "name": "stderr",
     "output_type": "stream",
     "text": [
      "\r",
      "          \r",
      "\r",
      "          \r",
      " 45%|████▍     | 715/1595 [23:12<28:33,  1.95s/it]\r",
      " 45%|████▍     | 716/1595 [23:12<25:30,  1.74s/it]"
     ]
    },
    {
     "name": "stdout",
     "output_type": "stream",
     "text": [
      "chunks for patient: 01de8323fa065a8963533c4a86f2f6c1 : 13125\n"
     ]
    },
    {
     "name": "stderr",
     "output_type": "stream",
     "text": [
      "\r",
      "          \r",
      "\r",
      "          \r",
      " 45%|████▍     | 716/1595 [23:14<28:32,  1.95s/it]\r",
      " 45%|████▍     | 717/1595 [23:14<28:56,  1.98s/it]"
     ]
    },
    {
     "name": "stdout",
     "output_type": "stream",
     "text": [
      "chunks for patient: 2eb92d17ca91b393765e8acf069763a6 : 19604\n"
     ]
    },
    {
     "name": "stderr",
     "output_type": "stream",
     "text": [
      "\r",
      "          \r",
      "\r",
      "          \r",
      " 45%|████▍     | 717/1595 [23:16<28:30,  1.95s/it]\r",
      " 45%|████▌     | 718/1595 [23:16<28:26,  1.95s/it]"
     ]
    },
    {
     "name": "stdout",
     "output_type": "stream",
     "text": [
      "chunks for patient: c545ccf3a5128fdc313ed936f61658a6 : 15548\n"
     ]
    },
    {
     "name": "stderr",
     "output_type": "stream",
     "text": [
      "\r",
      "          \r",
      "\r",
      "          \r",
      " 45%|████▌     | 718/1595 [23:18<28:27,  1.95s/it]\r",
      " 45%|████▌     | 719/1595 [23:18<26:16,  1.80s/it]"
     ]
    },
    {
     "name": "stdout",
     "output_type": "stream",
     "text": [
      "chunks for patient: 322d09835e9c6f621262ee68fd3ed596 : 10000\n"
     ]
    },
    {
     "name": "stderr",
     "output_type": "stream",
     "text": [
      "\r",
      "          \r",
      "\r",
      "          \r",
      " 45%|████▌     | 719/1595 [23:20<28:26,  1.95s/it]\r",
      " 45%|████▌     | 720/1595 [23:20<28:38,  1.96s/it]"
     ]
    },
    {
     "name": "stdout",
     "output_type": "stream",
     "text": [
      "chunks for patient: 7bfba4540956c0b2c5b78b3623a4855d : 17496\n"
     ]
    },
    {
     "name": "stderr",
     "output_type": "stream",
     "text": [
      "\r",
      "          \r",
      "\r",
      "          \r",
      " 45%|████▌     | 720/1595 [23:22<28:24,  1.95s/it]\r",
      " 45%|████▌     | 721/1595 [23:22<27:16,  1.87s/it]"
     ]
    },
    {
     "name": "stdout",
     "output_type": "stream",
     "text": [
      "chunks for patient: 4a1391269629d20359325873d11413c9 : 13248\n"
     ]
    },
    {
     "name": "stderr",
     "output_type": "stream",
     "text": [
      "\r",
      "          \r",
      "\r",
      "          \r",
      " 45%|████▌     | 721/1595 [23:23<28:21,  1.95s/it]\r",
      " 45%|████▌     | 722/1595 [23:23<24:34,  1.69s/it]"
     ]
    },
    {
     "name": "stdout",
     "output_type": "stream",
     "text": [
      "chunks for patient: 4062f1ad138218af5a3dfa3186d2afe1 : 9600\n"
     ]
    },
    {
     "name": "stderr",
     "output_type": "stream",
     "text": [
      "\r",
      "          \r",
      "\r",
      "          \r",
      " 45%|████▌     | 722/1595 [23:24<28:18,  1.95s/it]\r",
      " 45%|████▌     | 723/1595 [23:24<23:05,  1.59s/it]"
     ]
    },
    {
     "name": "stdout",
     "output_type": "stream",
     "text": [
      "chunks for patient: ac68eb0a3db3de247c26909db4c10569 : 10164\n"
     ]
    },
    {
     "name": "stderr",
     "output_type": "stream",
     "text": [
      "\r",
      "          \r",
      "\r",
      "          \r",
      " 45%|████▌     | 723/1595 [23:27<28:16,  1.95s/it]\r",
      " 45%|████▌     | 724/1595 [23:27<25:11,  1.73s/it]"
     ]
    },
    {
     "name": "stdout",
     "output_type": "stream",
     "text": [
      "chunks for patient: 0708c00f6117ed977bbe1b462b56848c : 12584\n"
     ]
    },
    {
     "name": "stderr",
     "output_type": "stream",
     "text": [
      "\r",
      "          \r",
      "\r",
      "          \r",
      " 45%|████▌     | 724/1595 [23:29<28:15,  1.95s/it]\r",
      " 45%|████▌     | 725/1595 [23:29<26:31,  1.83s/it]"
     ]
    },
    {
     "name": "stdout",
     "output_type": "stream",
     "text": [
      "chunks for patient: bbe21f027a1df4b07016b474b48d3f65 : 14872\n"
     ]
    },
    {
     "name": "stderr",
     "output_type": "stream",
     "text": [
      "\r",
      "          \r",
      "\r",
      "          \r",
      " 45%|████▌     | 725/1595 [23:30<28:13,  1.95s/it]\r",
      " 46%|████▌     | 726/1595 [23:30<26:22,  1.82s/it]"
     ]
    },
    {
     "name": "stdout",
     "output_type": "stream",
     "text": [
      "chunks for patient: 54056288ab97cebc4b0ea33c23f47ff6 : 13225\n"
     ]
    },
    {
     "name": "stderr",
     "output_type": "stream",
     "text": [
      "\r",
      "          \r",
      "\r",
      "          \r",
      " 46%|████▌     | 726/1595 [23:32<28:10,  1.95s/it]\r",
      " 46%|████▌     | 727/1595 [23:32<24:23,  1.69s/it]"
     ]
    },
    {
     "name": "stdout",
     "output_type": "stream",
     "text": [
      "chunks for patient: eefc3f380cc72d6fa830972151df01ad : 9600\n"
     ]
    },
    {
     "name": "stderr",
     "output_type": "stream",
     "text": [
      "\r",
      "          \r",
      "\r",
      "          \r",
      " 46%|████▌     | 727/1595 [23:33<28:07,  1.94s/it]\r",
      " 46%|████▌     | 728/1595 [23:33<23:34,  1.63s/it]"
     ]
    },
    {
     "name": "stdout",
     "output_type": "stream",
     "text": [
      "chunks for patient: c2af7c1d6159ae152a79f32d88c33ab2 : 10143\n"
     ]
    },
    {
     "name": "stderr",
     "output_type": "stream",
     "text": [
      "\r",
      "          \r",
      "\r",
      "          \r",
      " 46%|████▌     | 728/1595 [23:35<28:06,  1.94s/it]\r",
      " 46%|████▌     | 729/1595 [23:35<25:17,  1.75s/it]"
     ]
    },
    {
     "name": "stdout",
     "output_type": "stream",
     "text": [
      "chunks for patient: 68f4dff6dd1f135488e83b8a4ee6e20e : 12696\n"
     ]
    },
    {
     "name": "stderr",
     "output_type": "stream",
     "text": [
      "\r",
      "          \r",
      "\r",
      "          \r",
      " 46%|████▌     | 729/1595 [23:36<28:03,  1.94s/it]\r",
      " 46%|████▌     | 730/1595 [23:36<22:28,  1.56s/it]"
     ]
    },
    {
     "name": "stdout",
     "output_type": "stream",
     "text": [
      "chunks for patient: dcb426dd025b609489c8f520d6d644b7 : 9702\n"
     ]
    },
    {
     "name": "stderr",
     "output_type": "stream",
     "text": [
      "\r",
      "          \r",
      "\r",
      "          \r",
      " 46%|████▌     | 730/1595 [23:38<28:00,  1.94s/it]\r",
      " 46%|████▌     | 731/1595 [23:38<20:43,  1.44s/it]"
     ]
    },
    {
     "name": "stdout",
     "output_type": "stream",
     "text": [
      "chunks for patient: 935908ab6e4c329756638887f2dedca2 : 9680\n"
     ]
    },
    {
     "name": "stderr",
     "output_type": "stream",
     "text": [
      "\r",
      "          \r",
      "\r",
      "          \r",
      " 46%|████▌     | 731/1595 [23:39<27:57,  1.94s/it]\r",
      " 46%|████▌     | 732/1595 [23:39<20:29,  1.42s/it]"
     ]
    },
    {
     "name": "stdout",
     "output_type": "stream",
     "text": [
      "chunks for patient: d287819450e57ae8c883ed31dc4dc3a3 : 10580\n"
     ]
    },
    {
     "name": "stderr",
     "output_type": "stream",
     "text": [
      "\r",
      "          \r",
      "\r",
      "          \r",
      " 46%|████▌     | 732/1595 [23:40<27:55,  1.94s/it]\r",
      " 46%|████▌     | 733/1595 [23:40<21:00,  1.46s/it]"
     ]
    },
    {
     "name": "stdout",
     "output_type": "stream",
     "text": [
      "chunks for patient: 38d89e67d2ea7e2ab023c10f5f19f716 : 11109\n"
     ]
    },
    {
     "name": "stderr",
     "output_type": "stream",
     "text": [
      "\r",
      "          \r",
      "\r",
      "          \r",
      " 46%|████▌     | 733/1595 [23:42<27:52,  1.94s/it]\r",
      " 46%|████▌     | 734/1595 [23:42<20:10,  1.41s/it]"
     ]
    },
    {
     "name": "stdout",
     "output_type": "stream",
     "text": [
      "chunks for patient: 56e0f421b7faddcae027d7feb6dae8cd : 10143\n"
     ]
    },
    {
     "name": "stderr",
     "output_type": "stream",
     "text": [
      "\r",
      "          \r",
      "\r",
      "          \r",
      " 46%|████▌     | 734/1595 [23:43<27:50,  1.94s/it]\r",
      " 46%|████▌     | 735/1595 [23:43<20:48,  1.45s/it]"
     ]
    },
    {
     "name": "stdout",
     "output_type": "stream",
     "text": [
      "chunks for patient: aea6f1621333074412b9a6acdcda31a9 : 12500\n"
     ]
    },
    {
     "name": "stderr",
     "output_type": "stream",
     "text": [
      "\r",
      "          \r",
      "\r",
      "          \r",
      " 46%|████▌     | 735/1595 [23:45<27:48,  1.94s/it]\r",
      " 46%|████▌     | 736/1595 [23:45<23:13,  1.62s/it]"
     ]
    },
    {
     "name": "stdout",
     "output_type": "stream",
     "text": [
      "chunks for patient: fd4c2d4738bc25a5c331dbc101f3323a : 14375\n"
     ]
    },
    {
     "name": "stderr",
     "output_type": "stream",
     "text": [
      "\r",
      "          \r",
      "\r",
      "          \r",
      " 46%|████▌     | 736/1595 [23:47<27:46,  1.94s/it]\r",
      " 46%|████▌     | 737/1595 [23:47<24:38,  1.72s/it]"
     ]
    },
    {
     "name": "stdout",
     "output_type": "stream",
     "text": [
      "chunks for patient: 2615d445b6d3865407d1a4422d25058e : 15625\n"
     ]
    },
    {
     "name": "stderr",
     "output_type": "stream",
     "text": [
      "\r",
      "          \r",
      "\r",
      "          \r",
      " 46%|████▌     | 737/1595 [23:49<27:44,  1.94s/it]\r",
      " 46%|████▋     | 738/1595 [23:49<24:19,  1.70s/it]"
     ]
    },
    {
     "name": "stdout",
     "output_type": "stream",
     "text": [
      "chunks for patient: d2b47d9034d38a410f00dabba9754d91 : 9702\n"
     ]
    },
    {
     "name": "stderr",
     "output_type": "stream",
     "text": [
      "\r",
      "          \r",
      "\r",
      "          \r",
      " 46%|████▋     | 738/1595 [23:51<27:42,  1.94s/it]\r",
      " 46%|████▋     | 739/1595 [23:51<25:27,  1.78s/it]"
     ]
    },
    {
     "name": "stdout",
     "output_type": "stream",
     "text": [
      "chunks for patient: 699e4f02a11a33930a14b13071d24eb0 : 16224\n"
     ]
    },
    {
     "name": "stderr",
     "output_type": "stream",
     "text": [
      "\r",
      "          \r",
      "\r",
      "          \r",
      " 46%|████▋     | 739/1595 [23:52<27:39,  1.94s/it]\r",
      " 46%|████▋     | 740/1595 [23:52<23:54,  1.68s/it]"
     ]
    },
    {
     "name": "stdout",
     "output_type": "stream",
     "text": [
      "chunks for patient: 4b7f72b889e85b479305f8fbc8cc4f48 : 12696\n"
     ]
    },
    {
     "name": "stderr",
     "output_type": "stream",
     "text": [
      "\r",
      "          \r",
      "\r",
      "          \r",
      " 46%|████▋     | 740/1595 [23:54<27:37,  1.94s/it]\r",
      " 46%|████▋     | 741/1595 [23:54<23:58,  1.68s/it]"
     ]
    },
    {
     "name": "stdout",
     "output_type": "stream",
     "text": [
      "chunks for patient: 40c044145f5c87c12bd8c725924add3c : 16250\n"
     ]
    },
    {
     "name": "stderr",
     "output_type": "stream",
     "text": [
      "\r",
      "          \r",
      "\r",
      "          \r",
      " 46%|████▋     | 741/1595 [23:56<27:35,  1.94s/it]\r",
      " 47%|████▋     | 742/1595 [23:56<23:50,  1.68s/it]"
     ]
    },
    {
     "name": "stdout",
     "output_type": "stream",
     "text": [
      "chunks for patient: 76fff2029e577190ce0bf070192b889e : 14196\n"
     ]
    },
    {
     "name": "stderr",
     "output_type": "stream",
     "text": [
      "\r",
      "          \r",
      "\r",
      "          \r",
      " 47%|████▋     | 742/1595 [23:57<27:32,  1.94s/it]\r",
      " 47%|████▋     | 743/1595 [23:57<23:00,  1.62s/it]"
     ]
    },
    {
     "name": "stdout",
     "output_type": "stream",
     "text": [
      "chunks for patient: c3e6b43c5ac3f4ac052e0b0421f5b088 : 12696\n"
     ]
    },
    {
     "name": "stderr",
     "output_type": "stream",
     "text": [
      "\r",
      "          \r",
      "\r",
      "          \r",
      " 47%|████▋     | 743/1595 [23:59<27:30,  1.94s/it]\r",
      " 47%|████▋     | 744/1595 [23:59<23:36,  1.66s/it]"
     ]
    },
    {
     "name": "stdout",
     "output_type": "stream",
     "text": [
      "chunks for patient: 9065f2b133129c5747d42db18a424749 : 13248\n"
     ]
    },
    {
     "name": "stderr",
     "output_type": "stream",
     "text": [
      "\r",
      "          \r",
      "\r",
      "          \r",
      " 47%|████▋     | 744/1595 [24:01<27:28,  1.94s/it]\r",
      " 47%|████▋     | 745/1595 [24:01<24:02,  1.70s/it]"
     ]
    },
    {
     "name": "stdout",
     "output_type": "stream",
     "text": [
      "chunks for patient: df761dd787bfc439890740ccce934f36 : 14196\n"
     ]
    },
    {
     "name": "stderr",
     "output_type": "stream",
     "text": [
      "\r",
      "          \r",
      "\r",
      "          \r",
      " 47%|████▋     | 745/1595 [24:03<27:27,  1.94s/it]\r",
      " 47%|████▋     | 746/1595 [24:03<27:54,  1.97s/it]"
     ]
    },
    {
     "name": "stdout",
     "output_type": "stream",
     "text": [
      "chunks for patient: 1b17c83c3b0cb973e41f9121e562d030 : 18816\n"
     ]
    },
    {
     "name": "stderr",
     "output_type": "stream",
     "text": [
      "\r",
      "          \r",
      "\r",
      "          \r",
      " 47%|████▋     | 746/1595 [24:05<27:25,  1.94s/it]\r",
      " 47%|████▋     | 747/1595 [24:05<28:18,  2.00s/it]"
     ]
    },
    {
     "name": "stdout",
     "output_type": "stream",
     "text": [
      "chunks for patient: b61b1911d3631bee521fcda3a3e568a1 : 16038\n"
     ]
    },
    {
     "name": "stderr",
     "output_type": "stream",
     "text": [
      "\r",
      "          \r",
      "\r",
      "          \r",
      " 47%|████▋     | 747/1595 [24:07<27:23,  1.94s/it]\r",
      " 47%|████▋     | 748/1595 [24:07<27:55,  1.98s/it]"
     ]
    },
    {
     "name": "stdout",
     "output_type": "stream",
     "text": [
      "chunks for patient: 00cba091fa4ad62cc3200a657aeb957e : 11616\n"
     ]
    },
    {
     "name": "stderr",
     "output_type": "stream",
     "text": [
      "\r",
      "          \r",
      "\r",
      "          \r",
      " 47%|████▋     | 748/1595 [24:09<27:21,  1.94s/it]\r",
      " 47%|████▋     | 749/1595 [24:09<27:42,  1.96s/it]"
     ]
    },
    {
     "name": "stdout",
     "output_type": "stream",
     "text": [
      "chunks for patient: 0c37613214faddf8701ca41e6d43f56e : 16224\n"
     ]
    },
    {
     "name": "stderr",
     "output_type": "stream",
     "text": [
      "\r",
      "          \r",
      "\r",
      "          \r",
      " 47%|████▋     | 749/1595 [24:11<27:19,  1.94s/it]\r",
      " 47%|████▋     | 750/1595 [24:11<25:56,  1.84s/it]"
     ]
    },
    {
     "name": "stdout",
     "output_type": "stream",
     "text": [
      "chunks for patient: 8c9925cf3627cd4742bbc8677f905afc : 10580\n"
     ]
    },
    {
     "name": "stderr",
     "output_type": "stream",
     "text": [
      "\r",
      "          \r",
      "\r",
      "          \r",
      " 47%|████▋     | 750/1595 [24:13<27:17,  1.94s/it]\r",
      " 47%|████▋     | 751/1595 [24:13<25:34,  1.82s/it]"
     ]
    },
    {
     "name": "stdout",
     "output_type": "stream",
     "text": [
      "chunks for patient: e63f43056330bc418a11208aa3a9e7f0 : 14375\n"
     ]
    },
    {
     "name": "stderr",
     "output_type": "stream",
     "text": [
      "\r",
      "          \r",
      "\r",
      "          \r",
      " 47%|████▋     | 751/1595 [24:14<27:15,  1.94s/it]\r",
      " 47%|████▋     | 752/1595 [24:14<25:16,  1.80s/it]"
     ]
    },
    {
     "name": "stdout",
     "output_type": "stream",
     "text": [
      "chunks for patient: d987c00ec5463a0a696991b72d934512 : 16900\n"
     ]
    },
    {
     "name": "stderr",
     "output_type": "stream",
     "text": [
      "\r",
      "          \r",
      "\r",
      "          \r",
      " 47%|████▋     | 752/1595 [24:16<27:12,  1.94s/it]\r",
      " 47%|████▋     | 753/1595 [24:16<23:42,  1.69s/it]"
     ]
    },
    {
     "name": "stdout",
     "output_type": "stream",
     "text": [
      "chunks for patient: 71e09cd11d743964f1abf442c34f2c9d : 11520\n"
     ]
    },
    {
     "name": "stderr",
     "output_type": "stream",
     "text": [
      "\r",
      "          \r",
      "\r",
      "          \r",
      " 47%|████▋     | 753/1595 [24:17<27:10,  1.94s/it]\r",
      " 47%|████▋     | 754/1595 [24:17<23:01,  1.64s/it]"
     ]
    },
    {
     "name": "stdout",
     "output_type": "stream",
     "text": [
      "chunks for patient: e709901da9ba15a95d4a29906edc01dd : 12500\n"
     ]
    },
    {
     "name": "stderr",
     "output_type": "stream",
     "text": [
      "\r",
      "          \r",
      "\r",
      "          \r",
      " 47%|████▋     | 754/1595 [24:19<27:08,  1.94s/it]\r",
      " 47%|████▋     | 755/1595 [24:19<23:46,  1.70s/it]"
     ]
    },
    {
     "name": "stdout",
     "output_type": "stream",
     "text": [
      "chunks for patient: 62099cb774faa70d28d2c5cb1e235270 : 12696\n"
     ]
    },
    {
     "name": "stderr",
     "output_type": "stream",
     "text": [
      "\r",
      "          \r",
      "\r",
      "          \r",
      " 47%|████▋     | 755/1595 [24:21<27:06,  1.94s/it]\r",
      " 47%|████▋     | 756/1595 [24:21<24:29,  1.75s/it]"
     ]
    },
    {
     "name": "stdout",
     "output_type": "stream",
     "text": [
      "chunks for patient: c7b20bdbf5f057ec1e9706ca43bf9a2f : 14375\n"
     ]
    },
    {
     "name": "stderr",
     "output_type": "stream",
     "text": [
      "\r",
      "          \r",
      "\r",
      "          \r",
      " 47%|████▋     | 756/1595 [24:23<27:03,  1.94s/it]\r",
      " 47%|████▋     | 757/1595 [24:23<24:11,  1.73s/it]"
     ]
    },
    {
     "name": "stdout",
     "output_type": "stream",
     "text": [
      "chunks for patient: e608c0e6cf3adf3c9939593a3c322ef7 : 14872\n"
     ]
    },
    {
     "name": "stderr",
     "output_type": "stream",
     "text": [
      "\r",
      "          \r",
      "\r",
      "          \r",
      " 47%|████▋     | 757/1595 [24:24<27:01,  1.94s/it]\r",
      " 48%|████▊     | 758/1595 [24:24<23:49,  1.71s/it]"
     ]
    },
    {
     "name": "stdout",
     "output_type": "stream",
     "text": [
      "chunks for patient: 2ebb1e8f14802c33f0e4215a7545d70d : 12696\n"
     ]
    },
    {
     "name": "stderr",
     "output_type": "stream",
     "text": [
      "\r",
      "          \r",
      "\r",
      "          \r",
      " 48%|████▊     | 758/1595 [24:26<26:59,  1.94s/it]\r",
      " 48%|████▊     | 759/1595 [24:26<25:26,  1.83s/it]"
     ]
    },
    {
     "name": "stdout",
     "output_type": "stream",
     "text": [
      "chunks for patient: c65cc99faea7d0f79c175460c712f375 : 15548\n"
     ]
    },
    {
     "name": "stderr",
     "output_type": "stream",
     "text": [
      "\r",
      "          \r",
      "\r",
      "          \r",
      " 48%|████▊     | 759/1595 [24:28<26:57,  1.94s/it]\r",
      " 48%|████▊     | 760/1595 [24:28<24:55,  1.79s/it]"
     ]
    },
    {
     "name": "stdout",
     "output_type": "stream",
     "text": [
      "chunks for patient: 331b14e413e88542855664c845c08c63 : 12696\n"
     ]
    },
    {
     "name": "stderr",
     "output_type": "stream",
     "text": [
      "\r",
      "          \r",
      "\r",
      "          \r",
      " 48%|████▊     | 760/1595 [24:31<26:56,  1.94s/it]\r",
      " 48%|████▊     | 761/1595 [24:31<29:26,  2.12s/it]"
     ]
    },
    {
     "name": "stdout",
     "output_type": "stream",
     "text": [
      "chunks for patient: 3187b6cf14ed2cbe611b01da5e161f21 : 23548\n"
     ]
    },
    {
     "name": "stderr",
     "output_type": "stream",
     "text": [
      "\r",
      "          \r",
      "\r",
      "          \r",
      " 48%|████▊     | 761/1595 [24:33<26:54,  1.94s/it]\r",
      " 48%|████▊     | 762/1595 [24:33<28:06,  2.02s/it]"
     ]
    },
    {
     "name": "stdout",
     "output_type": "stream",
     "text": [
      "chunks for patient: a305389fe87d54597dfad222e47abac5 : 13125\n"
     ]
    },
    {
     "name": "stderr",
     "output_type": "stream",
     "text": [
      "\r",
      "          \r",
      "\r",
      "          \r",
      " 48%|████▊     | 762/1595 [24:35<26:52,  1.94s/it]\r",
      " 48%|████▊     | 763/1595 [24:35<26:34,  1.92s/it]"
     ]
    },
    {
     "name": "stdout",
     "output_type": "stream",
     "text": [
      "chunks for patient: bccbc10909a55c0f654719e8839f530a : 11109\n"
     ]
    },
    {
     "name": "stderr",
     "output_type": "stream",
     "text": [
      "\r",
      "          \r",
      "\r",
      "          \r",
      " 48%|████▊     | 763/1595 [24:36<26:49,  1.93s/it]\r",
      " 48%|████▊     | 764/1595 [24:36<24:09,  1.74s/it]"
     ]
    },
    {
     "name": "stdout",
     "output_type": "stream",
     "text": [
      "chunks for patient: d244870d213a21efa86e86c951d8c9a2 : 9600\n"
     ]
    },
    {
     "name": "stderr",
     "output_type": "stream",
     "text": [
      "\r",
      "          \r",
      "\r",
      "          \r",
      " 48%|████▊     | 764/1595 [24:38<26:48,  1.94s/it]\r",
      " 48%|████▊     | 765/1595 [24:38<26:10,  1.89s/it]"
     ]
    },
    {
     "name": "stdout",
     "output_type": "stream",
     "text": [
      "chunks for patient: e7adb2e4409683b9490e34b6b3604d9e : 18252\n"
     ]
    },
    {
     "name": "stderr",
     "output_type": "stream",
     "text": [
      "\r",
      "          \r",
      "\r",
      "          \r",
      " 48%|████▊     | 765/1595 [24:40<26:45,  1.93s/it]\r",
      " 48%|████▊     | 766/1595 [24:40<24:27,  1.77s/it]"
     ]
    },
    {
     "name": "stdout",
     "output_type": "stream",
     "text": [
      "chunks for patient: 4b28f147cb82baba3edcdbd34ca19085 : 13248\n"
     ]
    },
    {
     "name": "stderr",
     "output_type": "stream",
     "text": [
      "\r",
      "          \r",
      "\r",
      "          \r",
      " 48%|████▊     | 766/1595 [24:41<26:43,  1.93s/it]\r",
      " 48%|████▊     | 767/1595 [24:41<22:38,  1.64s/it]"
     ]
    },
    {
     "name": "stdout",
     "output_type": "stream",
     "text": [
      "chunks for patient: 463b67fefdde16ba3c4a4258de1f38e3 : 9702\n"
     ]
    },
    {
     "name": "stderr",
     "output_type": "stream",
     "text": [
      "\r",
      "          \r",
      "\r",
      "          \r",
      " 48%|████▊     | 767/1595 [24:43<26:41,  1.93s/it]\r",
      " 48%|████▊     | 768/1595 [24:43<22:48,  1.66s/it]"
     ]
    },
    {
     "name": "stdout",
     "output_type": "stream",
     "text": [
      "chunks for patient: 7239b3a904f39b25c4e303c10a24621a : 12844\n"
     ]
    },
    {
     "name": "stderr",
     "output_type": "stream",
     "text": [
      "\r",
      "          \r",
      "\r",
      "          \r",
      " 48%|████▊     | 768/1595 [24:45<26:39,  1.93s/it]\r",
      " 48%|████▊     | 769/1595 [24:45<24:10,  1.76s/it]"
     ]
    },
    {
     "name": "stdout",
     "output_type": "stream",
     "text": [
      "chunks for patient: 605d3633c1625b4be151d38aad43de94 : 15548\n"
     ]
    },
    {
     "name": "stderr",
     "output_type": "stream",
     "text": [
      "\r",
      "          \r",
      "\r",
      "          \r",
      " 48%|████▊     | 769/1595 [24:46<26:36,  1.93s/it]\r",
      " 48%|████▊     | 770/1595 [24:46<22:35,  1.64s/it]"
     ]
    },
    {
     "name": "stdout",
     "output_type": "stream",
     "text": [
      "chunks for patient: c6b722b00948587dd89a548f9639f447 : 11638\n"
     ]
    },
    {
     "name": "stderr",
     "output_type": "stream",
     "text": [
      "\r",
      "          \r",
      "\r",
      "          \r",
      " 48%|████▊     | 770/1595 [24:49<26:35,  1.93s/it]\r",
      " 48%|████▊     | 771/1595 [24:49<27:18,  1.99s/it]"
     ]
    },
    {
     "name": "stdout",
     "output_type": "stream",
     "text": [
      "chunks for patient: adc3bbc63d40f8761c59be10f1e504c3 : 22464\n"
     ]
    },
    {
     "name": "stderr",
     "output_type": "stream",
     "text": [
      "\r",
      "          \r",
      "\r",
      "          \r",
      " 48%|████▊     | 771/1595 [24:50<26:33,  1.93s/it]\r",
      " 48%|████▊     | 772/1595 [24:50<25:47,  1.88s/it]"
     ]
    },
    {
     "name": "stdout",
     "output_type": "stream",
     "text": [
      "chunks for patient: dcf75f484b2d2712e5033ba61fd6e2a0 : 9261\n"
     ]
    },
    {
     "name": "stderr",
     "output_type": "stream",
     "text": [
      "\r",
      "          \r",
      "\r",
      "          \r",
      " 48%|████▊     | 772/1595 [24:53<26:31,  1.93s/it]\r",
      " 48%|████▊     | 773/1595 [24:53<27:01,  1.97s/it]"
     ]
    },
    {
     "name": "stdout",
     "output_type": "stream",
     "text": [
      "chunks for patient: 10a9c32039971eb12f3aecf76ac20f8c : 18225\n"
     ]
    },
    {
     "name": "stderr",
     "output_type": "stream",
     "text": [
      "\r",
      "          \r",
      "\r",
      "          \r",
      " 48%|████▊     | 773/1595 [24:54<26:29,  1.93s/it]\r",
      " 49%|████▊     | 774/1595 [24:54<25:53,  1.89s/it]"
     ]
    },
    {
     "name": "stdout",
     "output_type": "stream",
     "text": [
      "chunks for patient: 03ff23e445787886f8b0cb192b3c154d : 13225\n"
     ]
    },
    {
     "name": "stderr",
     "output_type": "stream",
     "text": [
      "\r",
      "          \r",
      "\r",
      "          \r",
      " 49%|████▊     | 774/1595 [24:57<26:28,  1.93s/it]\r",
      " 49%|████▊     | 775/1595 [24:57<27:54,  2.04s/it]"
     ]
    },
    {
     "name": "stdout",
     "output_type": "stream",
     "text": [
      "chunks for patient: ac57a379cfea05c07d9befe8b9359495 : 16224\n"
     ]
    },
    {
     "name": "stderr",
     "output_type": "stream",
     "text": [
      "\r",
      "          \r",
      "\r",
      "          \r",
      " 49%|████▊     | 775/1595 [24:59<26:26,  1.93s/it]\r",
      " 49%|████▊     | 776/1595 [24:59<27:18,  2.00s/it]"
     ]
    },
    {
     "name": "stdout",
     "output_type": "stream",
     "text": [
      "chunks for patient: b6d8dd834f2ff1ed7a5154e658460699 : 12672\n"
     ]
    },
    {
     "name": "stderr",
     "output_type": "stream",
     "text": [
      "\r",
      "          \r",
      "\r",
      "          \r",
      " 49%|████▊     | 776/1595 [25:00<26:23,  1.93s/it]\r",
      " 49%|████▊     | 777/1595 [25:00<24:44,  1.82s/it]"
     ]
    },
    {
     "name": "stdout",
     "output_type": "stream",
     "text": [
      "chunks for patient: 7dbc5207b9ec1a1921cc2f03f9b37684 : 11132\n"
     ]
    },
    {
     "name": "stderr",
     "output_type": "stream",
     "text": [
      "\r",
      "          \r",
      "\r",
      "          \r",
      " 49%|████▊     | 777/1595 [25:03<26:22,  1.93s/it]\r",
      " 49%|████▉     | 778/1595 [25:03<27:37,  2.03s/it]"
     ]
    },
    {
     "name": "stdout",
     "output_type": "stream",
     "text": [
      "chunks for patient: 809ae218d8b4a973d11358264e4a0823 : 18502\n"
     ]
    },
    {
     "name": "stderr",
     "output_type": "stream",
     "text": [
      "\r",
      "          \r",
      "\r",
      "          \r",
      " 49%|████▉     | 778/1595 [25:05<26:21,  1.94s/it]\r",
      " 49%|████▉     | 779/1595 [25:05<29:57,  2.20s/it]"
     ]
    },
    {
     "name": "stdout",
     "output_type": "stream",
     "text": [
      "chunks for patient: b42263b9b84f10464a94092e0cdc13b1 : 20384\n"
     ]
    },
    {
     "name": "stderr",
     "output_type": "stream",
     "text": [
      "\r",
      "          \r",
      "\r",
      "          \r",
      " 49%|████▉     | 779/1595 [25:06<26:18,  1.93s/it]\r",
      " 49%|████▉     | 780/1595 [25:06<25:46,  1.90s/it]"
     ]
    },
    {
     "name": "stdout",
     "output_type": "stream",
     "text": [
      "chunks for patient: f69c80f898c9dfd8d3595b7ca7b8c66c : 9200\n"
     ]
    },
    {
     "name": "stderr",
     "output_type": "stream",
     "text": [
      "\r",
      "          \r",
      "\r",
      "          \r",
      " 49%|████▉     | 780/1595 [25:08<26:16,  1.93s/it]\r",
      " 49%|████▉     | 781/1595 [25:08<26:20,  1.94s/it]"
     ]
    },
    {
     "name": "stdout",
     "output_type": "stream",
     "text": [
      "chunks for patient: abc4cfb4ac045b4f9a74e2dbb18f8193 : 16224\n"
     ]
    },
    {
     "name": "stderr",
     "output_type": "stream",
     "text": [
      "\r",
      "          \r",
      "\r",
      "          \r",
      " 49%|████▉     | 781/1595 [25:11<26:15,  1.94s/it]\r",
      " 49%|████▉     | 782/1595 [25:11<29:08,  2.15s/it]"
     ]
    },
    {
     "name": "stdout",
     "output_type": "stream",
     "text": [
      "chunks for patient: 975c90ab2afd216efbb6b772a22ba3d9 : 19683\n"
     ]
    },
    {
     "name": "stderr",
     "output_type": "stream",
     "text": [
      "\r",
      "          \r",
      "\r",
      "          \r",
      " 49%|████▉     | 782/1595 [25:13<26:13,  1.94s/it]\r",
      " 49%|████▉     | 783/1595 [25:13<28:27,  2.10s/it]"
     ]
    },
    {
     "name": "stdout",
     "output_type": "stream",
     "text": [
      "chunks for patient: 008464bb8521d09a42985dd8add3d0d2 : 15309\n"
     ]
    },
    {
     "name": "stderr",
     "output_type": "stream",
     "text": [
      "\r",
      "          \r",
      "\r",
      "          \r",
      " 49%|████▉     | 783/1595 [25:16<26:12,  1.94s/it]\r",
      " 49%|████▉     | 784/1595 [25:16<30:15,  2.24s/it]"
     ]
    },
    {
     "name": "stdout",
     "output_type": "stream",
     "text": [
      "chunks for patient: 965fbaad39ecdaf8a135f022c8ddaef3 : 17576\n"
     ]
    },
    {
     "name": "stderr",
     "output_type": "stream",
     "text": [
      "\r",
      "          \r",
      "\r",
      "          \r",
      " 49%|████▉     | 784/1595 [25:18<26:10,  1.94s/it]\r",
      " 49%|████▉     | 785/1595 [25:18<29:52,  2.21s/it]"
     ]
    },
    {
     "name": "stdout",
     "output_type": "stream",
     "text": [
      "chunks for patient: 124c4188604434bcdec8358c8ddf9a8b : 16224\n"
     ]
    },
    {
     "name": "stderr",
     "output_type": "stream",
     "text": [
      "\r",
      "          \r",
      "\r",
      "          \r",
      " 49%|████▉     | 785/1595 [25:19<26:08,  1.94s/it]\r",
      " 49%|████▉     | 786/1595 [25:19<27:22,  2.03s/it]"
     ]
    },
    {
     "name": "stdout",
     "output_type": "stream",
     "text": [
      "chunks for patient: df1354de25723c9a55e1241d4c40ffe2 : 11638\n"
     ]
    },
    {
     "name": "stderr",
     "output_type": "stream",
     "text": [
      "\r",
      "          \r",
      "\r",
      "          \r",
      " 49%|████▉     | 786/1595 [25:22<26:06,  1.94s/it]\r",
      " 49%|████▉     | 787/1595 [25:22<28:43,  2.13s/it]"
     ]
    },
    {
     "name": "stdout",
     "output_type": "stream",
     "text": [
      "chunks for patient: 9a3174ffe867f602ee82c512a01420ee : 16875\n"
     ]
    },
    {
     "name": "stderr",
     "output_type": "stream",
     "text": [
      "\r",
      "          \r",
      "\r",
      "          \r",
      " 49%|████▉     | 787/1595 [25:24<26:04,  1.94s/it]\r",
      " 49%|████▉     | 788/1595 [25:24<28:42,  2.13s/it]"
     ]
    },
    {
     "name": "stdout",
     "output_type": "stream",
     "text": [
      "chunks for patient: 21d449f3ae00ea302e5aa15d7df65465 : 15548\n"
     ]
    },
    {
     "name": "stderr",
     "output_type": "stream",
     "text": [
      "\r",
      "          \r",
      "\r",
      "          \r",
      " 49%|████▉     | 788/1595 [25:26<26:03,  1.94s/it]\r",
      " 49%|████▉     | 789/1595 [25:26<28:11,  2.10s/it]"
     ]
    },
    {
     "name": "stdout",
     "output_type": "stream",
     "text": [
      "chunks for patient: 90d6324d7006a3d142ee1884279dcf9b : 15548\n"
     ]
    },
    {
     "name": "stderr",
     "output_type": "stream",
     "text": [
      "\r",
      "          \r",
      "\r",
      "          \r",
      " 49%|████▉     | 789/1595 [25:28<26:01,  1.94s/it]\r",
      " 50%|████▉     | 790/1595 [25:28<27:20,  2.04s/it]"
     ]
    },
    {
     "name": "stdout",
     "output_type": "stream",
     "text": [
      "chunks for patient: 934bc93ae41ee1d98c7c44d483327f8d : 16767\n"
     ]
    },
    {
     "name": "stderr",
     "output_type": "stream",
     "text": [
      "\r",
      "          \r",
      "\r",
      "          \r",
      " 50%|████▉     | 790/1595 [25:29<25:58,  1.94s/it]\r",
      " 50%|████▉     | 791/1595 [25:29<24:30,  1.83s/it]"
     ]
    },
    {
     "name": "stdout",
     "output_type": "stream",
     "text": [
      "chunks for patient: 274a81c75d244187247789bd71de2b3a : 10584\n"
     ]
    },
    {
     "name": "stderr",
     "output_type": "stream",
     "text": [
      "\r",
      "          \r",
      "\r",
      "          \r",
      " 50%|████▉     | 791/1595 [25:31<25:57,  1.94s/it]\r",
      " 50%|████▉     | 792/1595 [25:31<26:27,  1.98s/it]"
     ]
    },
    {
     "name": "stdout",
     "output_type": "stream",
     "text": [
      "chunks for patient: 3bd4f83c5930e8c1e193ccc463543745 : 18816\n"
     ]
    },
    {
     "name": "stderr",
     "output_type": "stream",
     "text": [
      "\r",
      "          \r",
      "\r",
      "          \r",
      " 50%|████▉     | 792/1595 [25:34<25:55,  1.94s/it]\r",
      " 50%|████▉     | 793/1595 [25:34<27:38,  2.07s/it]"
     ]
    },
    {
     "name": "stdout",
     "output_type": "stream",
     "text": [
      "chunks for patient: 9b259149a750af0c21640624e4be964a : 16224\n"
     ]
    },
    {
     "name": "stderr",
     "output_type": "stream",
     "text": [
      "\r",
      "          \r",
      "\r",
      "          \r",
      " 50%|████▉     | 793/1595 [25:36<25:53,  1.94s/it]\r",
      " 50%|████▉     | 794/1595 [25:36<27:48,  2.08s/it]"
     ]
    },
    {
     "name": "stdout",
     "output_type": "stream",
     "text": [
      "chunks for patient: b022a1d30d62ef2c1f0902f1a047a845 : 14872\n"
     ]
    },
    {
     "name": "stderr",
     "output_type": "stream",
     "text": [
      "\r",
      "          \r",
      "\r",
      "          \r",
      " 50%|████▉     | 794/1595 [25:37<25:51,  1.94s/it]\r",
      " 50%|████▉     | 795/1595 [25:37<26:00,  1.95s/it]"
     ]
    },
    {
     "name": "stdout",
     "output_type": "stream",
     "text": [
      "chunks for patient: 0a38e7597ca26f9374f8ea2770ba870d : 10580\n"
     ]
    },
    {
     "name": "stderr",
     "output_type": "stream",
     "text": [
      "\r",
      "          \r",
      "\r",
      "          \r",
      " 50%|████▉     | 795/1595 [25:39<25:49,  1.94s/it]\r",
      " 50%|████▉     | 796/1595 [25:39<24:38,  1.85s/it]"
     ]
    },
    {
     "name": "stdout",
     "output_type": "stream",
     "text": [
      "chunks for patient: 234ac5dd589d09a4b2a753ff206d5588 : 11109\n"
     ]
    },
    {
     "name": "stderr",
     "output_type": "stream",
     "text": [
      "\r",
      "          \r",
      "\r",
      "          \r",
      " 50%|████▉     | 796/1595 [25:40<25:46,  1.94s/it]\r",
      " 50%|████▉     | 797/1595 [25:40<22:26,  1.69s/it]"
     ]
    },
    {
     "name": "stdout",
     "output_type": "stream",
     "text": [
      "chunks for patient: 1fdbc07019192de4a114e090389c8330 : 10584\n"
     ]
    },
    {
     "name": "stderr",
     "output_type": "stream",
     "text": [
      "\r",
      "          \r",
      "\r",
      "          \r",
      " 50%|████▉     | 797/1595 [25:42<25:44,  1.93s/it]\r",
      " 50%|█████     | 798/1595 [25:42<20:56,  1.58s/it]"
     ]
    },
    {
     "name": "stdout",
     "output_type": "stream",
     "text": [
      "chunks for patient: 713d8136c360ad0f37d6e53b61a7891b : 10164\n"
     ]
    },
    {
     "name": "stderr",
     "output_type": "stream",
     "text": [
      "\r",
      "          \r",
      "\r",
      "          \r",
      " 50%|█████     | 798/1595 [25:44<25:42,  1.93s/it]\r",
      " 50%|█████     | 799/1595 [25:44<22:04,  1.66s/it]"
     ]
    },
    {
     "name": "stdout",
     "output_type": "stream",
     "text": [
      "chunks for patient: eb008af181f3791fdce2376cf4773733 : 15552\n"
     ]
    },
    {
     "name": "stderr",
     "output_type": "stream",
     "text": [
      "\r",
      "          \r",
      "\r",
      "          \r",
      " 50%|█████     | 799/1595 [25:46<25:40,  1.93s/it]\r",
      " 50%|█████     | 800/1595 [25:46<23:32,  1.78s/it]"
     ]
    },
    {
     "name": "stdout",
     "output_type": "stream",
     "text": [
      "chunks for patient: edbf53a8478049de1494b213fdf942e6 : 14872\n"
     ]
    },
    {
     "name": "stderr",
     "output_type": "stream",
     "text": [
      "\r",
      "          \r",
      "\r",
      "          \r",
      " 50%|█████     | 800/1595 [25:47<25:38,  1.93s/it]\r",
      " 50%|█████     | 801/1595 [25:47<23:13,  1.75s/it]"
     ]
    },
    {
     "name": "stdout",
     "output_type": "stream",
     "text": [
      "chunks for patient: daaf7680aa9a2b519e53b0e38300163d : 11638\n"
     ]
    },
    {
     "name": "stderr",
     "output_type": "stream",
     "text": [
      "\r",
      "          \r",
      "\r",
      "          \r",
      " 50%|█████     | 801/1595 [25:49<25:36,  1.93s/it]\r",
      " 50%|█████     | 802/1595 [25:49<24:18,  1.84s/it]"
     ]
    },
    {
     "name": "stdout",
     "output_type": "stream",
     "text": [
      "chunks for patient: 3dfe8e80106f4136d2933ff72a16035c : 16038\n"
     ]
    },
    {
     "name": "stderr",
     "output_type": "stream",
     "text": [
      "\r",
      "          \r",
      "\r",
      "          \r",
      " 50%|█████     | 802/1595 [25:52<25:34,  1.94s/it]\r",
      " 50%|█████     | 803/1595 [25:52<27:10,  2.06s/it]"
     ]
    },
    {
     "name": "stdout",
     "output_type": "stream",
     "text": [
      "chunks for patient: e6f4757b8f315f31559c5c256cb8dead : 18252\n"
     ]
    },
    {
     "name": "stderr",
     "output_type": "stream",
     "text": [
      "\r",
      "          \r",
      "\r",
      "          \r",
      " 50%|█████     | 803/1595 [25:54<25:33,  1.94s/it]\r",
      " 50%|█████     | 804/1595 [25:54<28:27,  2.16s/it]"
     ]
    },
    {
     "name": "stdout",
     "output_type": "stream",
     "text": [
      "chunks for patient: d74af71db9023b65737ee37ede219422 : 18816\n"
     ]
    },
    {
     "name": "stderr",
     "output_type": "stream",
     "text": [
      "\r",
      "          \r",
      "\r",
      "          \r",
      " 50%|█████     | 804/1595 [25:57<25:31,  1.94s/it]\r",
      " 50%|█████     | 805/1595 [25:57<28:53,  2.19s/it]"
     ]
    },
    {
     "name": "stdout",
     "output_type": "stream",
     "text": [
      "chunks for patient: c65d665029c9561bc408f3651c3e2db2 : 16900\n"
     ]
    },
    {
     "name": "stderr",
     "output_type": "stream",
     "text": [
      "\r",
      "          \r",
      "\r",
      "          \r",
      " 50%|█████     | 805/1595 [25:59<25:30,  1.94s/it]\r",
      " 51%|█████     | 806/1595 [25:59<28:09,  2.14s/it]"
     ]
    },
    {
     "name": "stdout",
     "output_type": "stream",
     "text": [
      "chunks for patient: c3a9046fbe2b0f0a4e43a669c321e472 : 14872\n"
     ]
    },
    {
     "name": "stderr",
     "output_type": "stream",
     "text": [
      "\r",
      "          \r",
      "\r",
      "          \r",
      " 51%|█████     | 806/1595 [26:00<25:27,  1.94s/it]\r",
      " 51%|█████     | 807/1595 [26:00<25:32,  1.94s/it]"
     ]
    },
    {
     "name": "stdout",
     "output_type": "stream",
     "text": [
      "chunks for patient: 722429bc9cb25d6f4b7a820c14bf2ab1 : 8400\n"
     ]
    },
    {
     "name": "stderr",
     "output_type": "stream",
     "text": [
      "\r",
      "          \r",
      "\r",
      "          \r",
      " 51%|█████     | 807/1595 [26:02<25:25,  1.94s/it]\r",
      " 51%|█████     | 808/1595 [26:02<25:54,  1.98s/it]"
     ]
    },
    {
     "name": "stdout",
     "output_type": "stream",
     "text": [
      "chunks for patient: 3c2dbbdeb857504a8b501fc013b99c90 : 16224\n"
     ]
    },
    {
     "name": "stderr",
     "output_type": "stream",
     "text": [
      "\r",
      "          \r",
      "\r",
      "          \r",
      " 51%|█████     | 808/1595 [26:04<25:23,  1.94s/it]\r",
      " 51%|█████     | 809/1595 [26:04<26:01,  1.99s/it]"
     ]
    },
    {
     "name": "stdout",
     "output_type": "stream",
     "text": [
      "chunks for patient: 8a17bbe3cc0079c6d7d7579359bcf565 : 16128\n"
     ]
    },
    {
     "name": "stderr",
     "output_type": "stream",
     "text": [
      "\r",
      "          \r",
      "\r",
      "          \r",
      " 51%|█████     | 809/1595 [26:05<25:21,  1.94s/it]\r",
      " 51%|█████     | 810/1595 [26:05<23:25,  1.79s/it]"
     ]
    },
    {
     "name": "stdout",
     "output_type": "stream",
     "text": [
      "chunks for patient: 5a06cb92ba004e2265ab087b5b09e33a : 10051\n"
     ]
    },
    {
     "name": "stderr",
     "output_type": "stream",
     "text": [
      "\r",
      "          \r",
      "\r",
      "          \r",
      " 51%|█████     | 810/1595 [26:07<25:19,  1.94s/it]\r",
      " 51%|█████     | 811/1595 [26:07<24:00,  1.84s/it]"
     ]
    },
    {
     "name": "stdout",
     "output_type": "stream",
     "text": [
      "chunks for patient: 6171d57221e26d1f15d3c71fe966ab18 : 15548\n"
     ]
    },
    {
     "name": "stderr",
     "output_type": "stream",
     "text": [
      "\r",
      "          \r",
      "\r",
      "          \r",
      " 51%|█████     | 811/1595 [26:09<25:17,  1.93s/it]\r",
      " 51%|█████     | 812/1595 [26:09<22:15,  1.71s/it]"
     ]
    },
    {
     "name": "stdout",
     "output_type": "stream",
     "text": [
      "chunks for patient: 5b4f56936ab57ee5b30d8752652ee5cb : 12096\n"
     ]
    },
    {
     "name": "stderr",
     "output_type": "stream",
     "text": [
      "\r",
      "          \r",
      "\r",
      "          \r",
      " 51%|█████     | 812/1595 [26:11<25:15,  1.93s/it]\r",
      " 51%|█████     | 813/1595 [26:11<22:53,  1.76s/it]"
     ]
    },
    {
     "name": "stdout",
     "output_type": "stream",
     "text": [
      "chunks for patient: eee8e1b2533abcb73e4b03969a3a5904 : 15309\n"
     ]
    },
    {
     "name": "stderr",
     "output_type": "stream",
     "text": [
      "\r",
      "          \r",
      "\r",
      "          \r",
      " 51%|█████     | 813/1595 [26:12<25:12,  1.93s/it]\r",
      " 51%|█████     | 814/1595 [26:12<21:39,  1.66s/it]"
     ]
    },
    {
     "name": "stdout",
     "output_type": "stream",
     "text": [
      "chunks for patient: 1183f213c1c821df18aad63890920403 : 10584\n"
     ]
    },
    {
     "name": "stderr",
     "output_type": "stream",
     "text": [
      "\r",
      "          \r",
      "\r",
      "          \r",
      " 51%|█████     | 814/1595 [26:15<25:11,  1.94s/it]\r",
      " 51%|█████     | 815/1595 [26:15<24:51,  1.91s/it]"
     ]
    },
    {
     "name": "stdout",
     "output_type": "stream",
     "text": [
      "chunks for patient: 834dd009c49e7faaf8e4caba668a2d8f : 16875\n"
     ]
    },
    {
     "name": "stderr",
     "output_type": "stream",
     "text": [
      "\r",
      "          \r",
      "\r",
      "          \r",
      " 51%|█████     | 815/1595 [26:16<25:08,  1.93s/it]\r",
      " 51%|█████     | 816/1595 [26:16<21:45,  1.68s/it]"
     ]
    },
    {
     "name": "stdout",
     "output_type": "stream",
     "text": [
      "chunks for patient: 5275c7ec0f1d80c829611c378708c05b : 7581\n"
     ]
    },
    {
     "name": "stderr",
     "output_type": "stream",
     "text": [
      "\r",
      "          \r",
      "\r",
      "          \r",
      " 51%|█████     | 816/1595 [26:17<25:05,  1.93s/it]\r",
      " 51%|█████     | 817/1595 [26:17<19:14,  1.48s/it]"
     ]
    },
    {
     "name": "stdout",
     "output_type": "stream",
     "text": [
      "chunks for patient: 5fe048f36bd2da6bdb63d8ff3c4022cd : 8640\n"
     ]
    },
    {
     "name": "stderr",
     "output_type": "stream",
     "text": [
      "\r",
      "          \r",
      "\r",
      "          \r",
      " 51%|█████     | 817/1595 [26:18<25:03,  1.93s/it]\r",
      " 51%|█████▏    | 818/1595 [26:18<18:07,  1.40s/it]"
     ]
    },
    {
     "name": "stdout",
     "output_type": "stream",
     "text": [
      "chunks for patient: baf842dd446ce9d7082efe16d22fb971 : 11109\n"
     ]
    },
    {
     "name": "stderr",
     "output_type": "stream",
     "text": [
      "\r",
      "          \r",
      "\r",
      "          \r",
      " 51%|█████▏    | 818/1595 [26:20<25:01,  1.93s/it]\r",
      " 51%|█████▏    | 819/1595 [26:20<20:56,  1.62s/it]"
     ]
    },
    {
     "name": "stdout",
     "output_type": "stream",
     "text": [
      "chunks for patient: 3b7384f374b73d2bd589ccbf1b651820 : 16900\n"
     ]
    },
    {
     "name": "stderr",
     "output_type": "stream",
     "text": [
      "\r",
      "          \r",
      "\r",
      "          \r",
      " 51%|█████▏    | 819/1595 [26:21<24:58,  1.93s/it]\r",
      " 51%|█████▏    | 820/1595 [26:21<19:53,  1.54s/it]"
     ]
    },
    {
     "name": "stdout",
     "output_type": "stream",
     "text": [
      "chunks for patient: 9e98136d07b953c3362e0a132c8810b6 : 9261\n"
     ]
    },
    {
     "name": "stderr",
     "output_type": "stream",
     "text": [
      "\r",
      "          \r",
      "\r",
      "          \r",
      " 51%|█████▏    | 820/1595 [26:23<24:56,  1.93s/it]\r",
      " 51%|█████▏    | 821/1595 [26:23<20:38,  1.60s/it]"
     ]
    },
    {
     "name": "stdout",
     "output_type": "stream",
     "text": [
      "chunks for patient: 70287a7720e0d90249ac7b3978b7ca40 : 9680\n"
     ]
    },
    {
     "name": "stderr",
     "output_type": "stream",
     "text": [
      "\r",
      "          \r",
      "\r",
      "          \r",
      " 51%|█████▏    | 821/1595 [26:25<24:55,  1.93s/it]\r",
      " 52%|█████▏    | 822/1595 [26:25<22:49,  1.77s/it]"
     ]
    },
    {
     "name": "stdout",
     "output_type": "stream",
     "text": [
      "chunks for patient: 01e349d34c06410e1da273add27be25c : 14375\n"
     ]
    },
    {
     "name": "stderr",
     "output_type": "stream",
     "text": [
      "\r",
      "          \r",
      "\r",
      "          \r",
      " 52%|█████▏    | 822/1595 [26:28<24:53,  1.93s/it]\r",
      " 52%|█████▏    | 823/1595 [26:28<26:48,  2.08s/it]"
     ]
    },
    {
     "name": "stdout",
     "output_type": "stream",
     "text": [
      "chunks for patient: 72fd04cf3099b148d9ad361efb988866 : 19604\n"
     ]
    },
    {
     "name": "stderr",
     "output_type": "stream",
     "text": [
      "\r",
      "          \r",
      "\r",
      "          \r",
      " 52%|█████▏    | 823/1595 [26:30<24:52,  1.93s/it]\r",
      " 52%|█████▏    | 824/1595 [26:30<26:28,  2.06s/it]"
     ]
    },
    {
     "name": "stdout",
     "output_type": "stream",
     "text": [
      "chunks for patient: 6f43af3f636f37b9695b58378f9265cc : 13824\n"
     ]
    },
    {
     "name": "stderr",
     "output_type": "stream",
     "text": [
      "\r",
      "          \r",
      "\r",
      "          \r",
      " 52%|█████▏    | 824/1595 [26:32<24:49,  1.93s/it]\r",
      " 52%|█████▏    | 825/1595 [26:32<24:44,  1.93s/it]"
     ]
    },
    {
     "name": "stdout",
     "output_type": "stream",
     "text": [
      "chunks for patient: c05acf3bd59f5570783138c01b737c3d : 11875\n"
     ]
    },
    {
     "name": "stderr",
     "output_type": "stream",
     "text": [
      "\r",
      "          \r",
      "\r",
      "          \r",
      " 52%|█████▏    | 825/1595 [26:34<24:47,  1.93s/it]\r",
      " 52%|█████▏    | 826/1595 [26:34<24:42,  1.93s/it]"
     ]
    },
    {
     "name": "stdout",
     "output_type": "stream",
     "text": [
      "chunks for patient: fb99a80cbb2f441bb90135bab5b029fe : 12500\n"
     ]
    },
    {
     "name": "stderr",
     "output_type": "stream",
     "text": [
      "\r",
      "          \r",
      "\r",
      "          \r",
      " 52%|█████▏    | 826/1595 [26:35<24:45,  1.93s/it]\r",
      " 52%|█████▏    | 827/1595 [26:35<21:55,  1.71s/it]"
     ]
    },
    {
     "name": "stdout",
     "output_type": "stream",
     "text": [
      "chunks for patient: 26a2b8d6b94ee16ecf88fb28c57f377e : 9196\n"
     ]
    },
    {
     "name": "stderr",
     "output_type": "stream",
     "text": [
      "\r",
      "          \r",
      "\r",
      "          \r",
      " 52%|█████▏    | 827/1595 [26:36<24:43,  1.93s/it]\r",
      " 52%|█████▏    | 828/1595 [26:36<21:13,  1.66s/it]"
     ]
    },
    {
     "name": "stdout",
     "output_type": "stream",
     "text": [
      "chunks for patient: 33293edbc834da033aa061f7d6a45fa1 : 11520\n"
     ]
    },
    {
     "name": "stderr",
     "output_type": "stream",
     "text": [
      "\r",
      "          \r",
      "\r",
      "          \r",
      " 52%|█████▏    | 828/1595 [26:39<24:41,  1.93s/it]\r",
      " 52%|█████▏    | 829/1595 [26:39<23:21,  1.83s/it]"
     ]
    },
    {
     "name": "stdout",
     "output_type": "stream",
     "text": [
      "chunks for patient: b947a27711c94dda2d13e7410285cc0c : 18225\n"
     ]
    },
    {
     "name": "stderr",
     "output_type": "stream",
     "text": [
      "\r",
      "          \r",
      "\r",
      "          \r",
      " 52%|█████▏    | 829/1595 [26:40<24:39,  1.93s/it]\r",
      " 52%|█████▏    | 830/1595 [26:40<22:28,  1.76s/it]"
     ]
    },
    {
     "name": "stdout",
     "output_type": "stream",
     "text": [
      "chunks for patient: 05a20caf6ab6df4643644c953f06a5eb : 12167\n"
     ]
    },
    {
     "name": "stderr",
     "output_type": "stream",
     "text": [
      "\r",
      "          \r",
      "\r",
      "          \r",
      " 52%|█████▏    | 830/1595 [26:42<24:36,  1.93s/it]\r",
      " 52%|█████▏    | 831/1595 [26:42<20:23,  1.60s/it]"
     ]
    },
    {
     "name": "stdout",
     "output_type": "stream",
     "text": [
      "chunks for patient: c3b05094939cc128a4593736f05eadec : 11466\n"
     ]
    },
    {
     "name": "stderr",
     "output_type": "stream",
     "text": [
      "\r",
      "          \r",
      "\r",
      "          \r",
      " 52%|█████▏    | 831/1595 [26:43<24:34,  1.93s/it]\r",
      " 52%|█████▏    | 832/1595 [26:43<20:24,  1.60s/it]"
     ]
    },
    {
     "name": "stdout",
     "output_type": "stream",
     "text": [
      "chunks for patient: 122c5c959fd98036c9972eec2062dc59 : 12844\n"
     ]
    },
    {
     "name": "stderr",
     "output_type": "stream",
     "text": [
      "\r",
      "          \r",
      "\r",
      "          \r",
      " 52%|█████▏    | 832/1595 [26:44<24:31,  1.93s/it]\r",
      " 52%|█████▏    | 833/1595 [26:44<19:24,  1.53s/it]"
     ]
    },
    {
     "name": "stdout",
     "output_type": "stream",
     "text": [
      "chunks for patient: 8c63c8ebd684911de92509a8a703d567 : 9261\n"
     ]
    },
    {
     "name": "stderr",
     "output_type": "stream",
     "text": [
      "\r",
      "          \r",
      "\r",
      "          \r",
      " 52%|█████▏    | 833/1595 [26:46<24:29,  1.93s/it]\r",
      " 52%|█████▏    | 834/1595 [26:46<19:07,  1.51s/it]"
     ]
    },
    {
     "name": "stdout",
     "output_type": "stream",
     "text": [
      "chunks for patient: c313167b76fb2528816d40088ba88c77 : 13520\n"
     ]
    },
    {
     "name": "stderr",
     "output_type": "stream",
     "text": [
      "\r",
      "          \r",
      "\r",
      "          \r",
      " 52%|█████▏    | 834/1595 [26:48<24:27,  1.93s/it]\r",
      " 52%|█████▏    | 835/1595 [26:48<19:57,  1.58s/it]"
     ]
    },
    {
     "name": "stdout",
     "output_type": "stream",
     "text": [
      "chunks for patient: 1c24a09fa32147d9083ff93f171e1102 : 14196\n"
     ]
    },
    {
     "name": "stderr",
     "output_type": "stream",
     "text": [
      "\r",
      "          \r",
      "\r",
      "          \r",
      " 52%|█████▏    | 835/1595 [26:49<24:25,  1.93s/it]\r",
      " 52%|█████▏    | 836/1595 [26:49<19:53,  1.57s/it]"
     ]
    },
    {
     "name": "stdout",
     "output_type": "stream",
     "text": [
      "chunks for patient: e414153d0e52f70cbe27c129911445a0 : 12500\n"
     ]
    },
    {
     "name": "stderr",
     "output_type": "stream",
     "text": [
      "\r",
      "          \r",
      "\r",
      "          \r",
      " 52%|█████▏    | 836/1595 [26:51<24:22,  1.93s/it]\r",
      " 52%|█████▏    | 837/1595 [26:51<20:08,  1.59s/it]"
     ]
    },
    {
     "name": "stdout",
     "output_type": "stream",
     "text": [
      "chunks for patient: 56462ba8833fc842d16be7e311214404 : 13248\n"
     ]
    },
    {
     "name": "stderr",
     "output_type": "stream",
     "text": [
      "\r",
      "          \r",
      "\r",
      "          \r",
      " 52%|█████▏    | 837/1595 [26:52<24:20,  1.93s/it]\r",
      " 53%|█████▎    | 838/1595 [26:52<19:04,  1.51s/it]"
     ]
    },
    {
     "name": "stdout",
     "output_type": "stream",
     "text": [
      "chunks for patient: 80588b9231bb4fb7e1cddc9321d12e76 : 11109\n"
     ]
    },
    {
     "name": "stderr",
     "output_type": "stream",
     "text": [
      "\r",
      "          \r",
      "\r",
      "          \r",
      " 53%|█████▎    | 838/1595 [26:54<24:18,  1.93s/it]\r",
      " 53%|█████▎    | 839/1595 [26:54<18:44,  1.49s/it]"
     ]
    },
    {
     "name": "stdout",
     "output_type": "stream",
     "text": [
      "chunks for patient: 1e33cb12436a64853c1ae9e918633e05 : 10584\n"
     ]
    },
    {
     "name": "stderr",
     "output_type": "stream",
     "text": [
      "\r",
      "          \r",
      "\r",
      "          \r",
      " 53%|█████▎    | 839/1595 [26:55<24:15,  1.93s/it]\r",
      " 53%|█████▎    | 840/1595 [26:55<16:38,  1.32s/it]"
     ]
    },
    {
     "name": "stdout",
     "output_type": "stream",
     "text": [
      "chunks for patient: cbf5f53f3648de7d1324257caa40bb90 : 9702\n"
     ]
    },
    {
     "name": "stderr",
     "output_type": "stream",
     "text": [
      "\r",
      "          \r",
      "\r",
      "          \r",
      " 53%|█████▎    | 840/1595 [26:56<24:13,  1.92s/it]\r",
      " 53%|█████▎    | 841/1595 [26:56<18:03,  1.44s/it]"
     ]
    },
    {
     "name": "stdout",
     "output_type": "stream",
     "text": [
      "chunks for patient: f7c387290d7e3074501eac167c849000 : 11025\n"
     ]
    },
    {
     "name": "stderr",
     "output_type": "stream",
     "text": [
      "\r",
      "          \r",
      "\r",
      "          \r",
      " 53%|█████▎    | 841/1595 [26:59<24:11,  1.93s/it]\r",
      " 53%|█████▎    | 842/1595 [26:59<21:56,  1.75s/it]"
     ]
    },
    {
     "name": "stdout",
     "output_type": "stream",
     "text": [
      "chunks for patient: 94cd77da118cc1d667cd9732853f0c48 : 17576\n"
     ]
    },
    {
     "name": "stderr",
     "output_type": "stream",
     "text": [
      "\r",
      "          \r",
      "\r",
      "          \r",
      " 53%|█████▎    | 842/1595 [27:00<24:09,  1.92s/it]\r",
      " 53%|█████▎    | 843/1595 [27:00<20:54,  1.67s/it]"
     ]
    },
    {
     "name": "stdout",
     "output_type": "stream",
     "text": [
      "chunks for patient: 916ab7b22affc5651abfc9aae01bb355 : 14375\n"
     ]
    },
    {
     "name": "stderr",
     "output_type": "stream",
     "text": [
      "\r",
      "          \r",
      "\r",
      "          \r",
      " 53%|█████▎    | 843/1595 [27:02<24:07,  1.92s/it]\r",
      " 53%|█████▎    | 844/1595 [27:02<21:13,  1.70s/it]"
     ]
    },
    {
     "name": "stdout",
     "output_type": "stream",
     "text": [
      "chunks for patient: fb52dd8152e53a4ca7da5403d6d0db13 : 13248\n"
     ]
    },
    {
     "name": "stderr",
     "output_type": "stream",
     "text": [
      "\r",
      "          \r",
      "\r",
      "          \r",
      " 53%|█████▎    | 844/1595 [27:03<24:05,  1.92s/it]\r",
      " 53%|█████▎    | 845/1595 [27:03<20:19,  1.63s/it]"
     ]
    },
    {
     "name": "stdout",
     "output_type": "stream",
     "text": [
      "chunks for patient: 6cb2908fd789700db727dd96526bc342 : 9200\n"
     ]
    },
    {
     "name": "stderr",
     "output_type": "stream",
     "text": [
      "\r",
      "          \r",
      "\r",
      "          \r",
      " 53%|█████▎    | 845/1595 [27:05<24:03,  1.92s/it]\r",
      " 53%|█████▎    | 846/1595 [27:05<21:23,  1.71s/it]"
     ]
    },
    {
     "name": "stdout",
     "output_type": "stream",
     "text": [
      "chunks for patient: 81affb342fc98aae0201a6c837cfc3bb : 11616\n"
     ]
    },
    {
     "name": "stderr",
     "output_type": "stream",
     "text": [
      "\r",
      "          \r",
      "\r",
      "          \r",
      " 53%|█████▎    | 846/1595 [27:07<24:00,  1.92s/it]\r",
      " 53%|█████▎    | 847/1595 [27:07<20:59,  1.68s/it]"
     ]
    },
    {
     "name": "stdout",
     "output_type": "stream",
     "text": [
      "chunks for patient: 96cca9d8e5764daa4bcb6c0ba07735bc : 14375\n"
     ]
    },
    {
     "name": "stderr",
     "output_type": "stream",
     "text": [
      "\r",
      "          \r",
      "\r",
      "          \r",
      " 53%|█████▎    | 847/1595 [27:09<23:59,  1.92s/it]\r",
      " 53%|█████▎    | 848/1595 [27:09<22:48,  1.83s/it]"
     ]
    },
    {
     "name": "stdout",
     "output_type": "stream",
     "text": [
      "chunks for patient: cf83e9933c484dd9073ed8314794b9f7 : 16224\n"
     ]
    },
    {
     "name": "stderr",
     "output_type": "stream",
     "text": [
      "\r",
      "          \r",
      "\r",
      "          \r",
      " 53%|█████▎    | 848/1595 [27:11<23:57,  1.92s/it]\r",
      " 53%|█████▎    | 849/1595 [27:11<24:03,  1.94s/it]"
     ]
    },
    {
     "name": "stdout",
     "output_type": "stream",
     "text": [
      "chunks for patient: 00986bebc45e12038ef0ce3e9962b51a : 15548\n"
     ]
    },
    {
     "name": "stderr",
     "output_type": "stream",
     "text": [
      "\r",
      "          \r",
      "\r",
      "          \r",
      " 53%|█████▎    | 849/1595 [27:13<23:55,  1.92s/it]\r",
      " 53%|█████▎    | 850/1595 [27:13<23:14,  1.87s/it]"
     ]
    },
    {
     "name": "stdout",
     "output_type": "stream",
     "text": [
      "chunks for patient: 352c23fe8a3d0640ea531a6bf223732c : 13754\n"
     ]
    },
    {
     "name": "stderr",
     "output_type": "stream",
     "text": [
      "\r",
      "          \r",
      "\r",
      "          \r",
      " 53%|█████▎    | 850/1595 [27:15<23:53,  1.92s/it]\r",
      " 53%|█████▎    | 851/1595 [27:15<21:43,  1.75s/it]"
     ]
    },
    {
     "name": "stdout",
     "output_type": "stream",
     "text": [
      "chunks for patient: 1c498f306808952739e7a3a3a2439d1e : 10051\n"
     ]
    },
    {
     "name": "stderr",
     "output_type": "stream",
     "text": [
      "\r",
      "          \r",
      "\r",
      "          \r",
      " 53%|█████▎    | 851/1595 [27:17<23:51,  1.92s/it]\r",
      " 53%|█████▎    | 852/1595 [27:17<22:58,  1.86s/it]"
     ]
    },
    {
     "name": "stdout",
     "output_type": "stream",
     "text": [
      "chunks for patient: 700bdc2723c2ac75a8a8376d9ca170ad : 13248\n"
     ]
    },
    {
     "name": "stderr",
     "output_type": "stream",
     "text": [
      "\r",
      "          \r",
      "\r",
      "          \r",
      " 53%|█████▎    | 852/1595 [27:18<23:49,  1.92s/it]\r",
      " 53%|█████▎    | 853/1595 [27:18<22:15,  1.80s/it]"
     ]
    },
    {
     "name": "stdout",
     "output_type": "stream",
     "text": [
      "chunks for patient: cff7e7e9f8cb7b37c109ed6b1f11b783 : 13750\n"
     ]
    },
    {
     "name": "stderr",
     "output_type": "stream",
     "text": [
      "\r",
      "          \r",
      "\r",
      "          \r",
      " 53%|█████▎    | 853/1595 [27:20<23:46,  1.92s/it]\r",
      " 54%|█████▎    | 854/1595 [27:20<20:53,  1.69s/it]"
     ]
    },
    {
     "name": "stdout",
     "output_type": "stream",
     "text": [
      "chunks for patient: 72b080b50118e9ddb795890eb1f13684 : 10143\n"
     ]
    },
    {
     "name": "stderr",
     "output_type": "stream",
     "text": [
      "\r",
      "          \r",
      "\r",
      "          \r",
      " 54%|█████▎    | 854/1595 [27:21<23:44,  1.92s/it]\r",
      " 54%|█████▎    | 855/1595 [27:21<20:00,  1.62s/it]"
     ]
    },
    {
     "name": "stdout",
     "output_type": "stream",
     "text": [
      "chunks for patient: 54d421d543e9e6dc8db10066a5867081 : 10648\n"
     ]
    },
    {
     "name": "stderr",
     "output_type": "stream",
     "text": [
      "\r",
      "          \r",
      "\r",
      "          \r",
      " 54%|█████▎    | 855/1595 [27:23<23:42,  1.92s/it]\r",
      " 54%|█████▎    | 856/1595 [27:23<20:38,  1.68s/it]"
     ]
    },
    {
     "name": "stdout",
     "output_type": "stream",
     "text": [
      "chunks for patient: f395ca14ccb03ad40e98d1473cf686ef : 11638\n"
     ]
    },
    {
     "name": "stderr",
     "output_type": "stream",
     "text": [
      "\r",
      "          \r",
      "\r",
      "          \r",
      " 54%|█████▎    | 856/1595 [27:25<23:40,  1.92s/it]\r",
      " 54%|█████▎    | 857/1595 [27:25<21:14,  1.73s/it]"
     ]
    },
    {
     "name": "stdout",
     "output_type": "stream",
     "text": [
      "chunks for patient: 43fefd3f810ef71e0073d2415e7a6713 : 13225\n"
     ]
    },
    {
     "name": "stderr",
     "output_type": "stream",
     "text": [
      "\r",
      "          \r",
      "\r",
      "          \r",
      " 54%|█████▎    | 857/1595 [27:27<23:38,  1.92s/it]\r",
      " 54%|█████▍    | 858/1595 [27:27<23:35,  1.92s/it]"
     ]
    },
    {
     "name": "stdout",
     "output_type": "stream",
     "text": [
      "chunks for patient: 68a1f729eb1e2a791fe8170ac6631828 : 16900\n"
     ]
    },
    {
     "name": "stderr",
     "output_type": "stream",
     "text": [
      "\r",
      "          \r",
      "\r",
      "          \r",
      " 54%|█████▍    | 858/1595 [27:29<23:37,  1.92s/it]\r",
      " 54%|█████▍    | 859/1595 [27:29<23:35,  1.92s/it]"
     ]
    },
    {
     "name": "stdout",
     "output_type": "stream",
     "text": [
      "chunks for patient: 65a380c07d416f78e85545eaaa2916a1 : 14375\n"
     ]
    },
    {
     "name": "stderr",
     "output_type": "stream",
     "text": [
      "\r",
      "          \r",
      "\r",
      "          \r",
      " 54%|█████▍    | 859/1595 [27:30<23:34,  1.92s/it]\r",
      " 54%|█████▍    | 860/1595 [27:30<21:14,  1.73s/it]"
     ]
    },
    {
     "name": "stdout",
     "output_type": "stream",
     "text": [
      "chunks for patient: 2fced53a125854edb9284ff12795caf8 : 11025\n"
     ]
    },
    {
     "name": "stderr",
     "output_type": "stream",
     "text": [
      "\r",
      "          \r",
      "\r",
      "          \r",
      " 54%|█████▍    | 860/1595 [27:33<23:32,  1.92s/it]\r",
      " 54%|█████▍    | 861/1595 [27:33<23:04,  1.89s/it]"
     ]
    },
    {
     "name": "stdout",
     "output_type": "stream",
     "text": [
      "chunks for patient: 7b87e500ff88c264aceb67cf57b32d6d : 18032\n"
     ]
    },
    {
     "name": "stderr",
     "output_type": "stream",
     "text": [
      "\r",
      "          \r",
      "\r",
      "          \r",
      " 54%|█████▍    | 861/1595 [27:34<23:30,  1.92s/it]\r",
      " 54%|█████▍    | 862/1595 [27:34<19:58,  1.64s/it]"
     ]
    },
    {
     "name": "stdout",
     "output_type": "stream",
     "text": [
      "chunks for patient: 026be5d5e652b6a7488669d884ebe297 : 9196\n"
     ]
    },
    {
     "name": "stderr",
     "output_type": "stream",
     "text": [
      "\r",
      "          \r",
      "\r",
      "          \r",
      " 54%|█████▍    | 862/1595 [27:35<23:27,  1.92s/it]\r",
      " 54%|█████▍    | 863/1595 [27:35<18:23,  1.51s/it]"
     ]
    },
    {
     "name": "stdout",
     "output_type": "stream",
     "text": [
      "chunks for patient: 6969c031ee0c34053faff3aac9dd2da7 : 9702\n"
     ]
    },
    {
     "name": "stderr",
     "output_type": "stream",
     "text": [
      "\r",
      "          \r",
      "\r",
      "          \r",
      " 54%|█████▍    | 863/1595 [27:37<23:26,  1.92s/it]\r",
      " 54%|█████▍    | 864/1595 [27:37<20:56,  1.72s/it]"
     ]
    },
    {
     "name": "stdout",
     "output_type": "stream",
     "text": [
      "chunks for patient: 1427be78bcf4aba96c5054b697be9b5b : 16875\n"
     ]
    },
    {
     "name": "stderr",
     "output_type": "stream",
     "text": [
      "\r",
      "          \r",
      "\r",
      "          \r",
      " 54%|█████▍    | 864/1595 [27:40<23:24,  1.92s/it]\r",
      " 54%|█████▍    | 865/1595 [27:40<23:15,  1.91s/it]"
     ]
    },
    {
     "name": "stdout",
     "output_type": "stream",
     "text": [
      "chunks for patient: 7395f64fba89c2463a1b13c400adf876 : 18816\n"
     ]
    },
    {
     "name": "stderr",
     "output_type": "stream",
     "text": [
      "\r",
      "          \r",
      "\r",
      "          \r",
      " 54%|█████▍    | 865/1595 [27:41<23:22,  1.92s/it]\r",
      " 54%|█████▍    | 866/1595 [27:41<20:47,  1.71s/it]"
     ]
    },
    {
     "name": "stdout",
     "output_type": "stream",
     "text": [
      "chunks for patient: d9a2bea7df4a888313374beb142cf9c0 : 10625\n"
     ]
    },
    {
     "name": "stderr",
     "output_type": "stream",
     "text": [
      "\r",
      "          \r",
      "\r",
      "          \r",
      " 54%|█████▍    | 866/1595 [27:43<23:20,  1.92s/it]\r",
      " 54%|█████▍    | 867/1595 [27:43<22:11,  1.83s/it]"
     ]
    },
    {
     "name": "stdout",
     "output_type": "stream",
     "text": [
      "chunks for patient: 20809d879e5a966cc537beb42735a67f : 17576\n"
     ]
    },
    {
     "name": "stderr",
     "output_type": "stream",
     "text": [
      "\r",
      "          \r",
      "\r",
      "          \r",
      " 54%|█████▍    | 867/1595 [27:45<23:18,  1.92s/it]\r",
      " 54%|█████▍    | 868/1595 [27:45<21:29,  1.77s/it]"
     ]
    },
    {
     "name": "stdout",
     "output_type": "stream",
     "text": [
      "chunks for patient: 0482c444ac838adc5aa00d1064c976c1 : 13520\n"
     ]
    },
    {
     "name": "stderr",
     "output_type": "stream",
     "text": [
      "\r",
      "          \r",
      "\r",
      "          \r",
      " 54%|█████▍    | 868/1595 [27:47<23:16,  1.92s/it]\r",
      " 54%|█████▍    | 869/1595 [27:47<22:45,  1.88s/it]"
     ]
    },
    {
     "name": "stdout",
     "output_type": "stream",
     "text": [
      "chunks for patient: 4b96e8e085d7ab16c8054654fe586553 : 15548\n"
     ]
    },
    {
     "name": "stderr",
     "output_type": "stream",
     "text": [
      "\r",
      "          \r",
      "\r",
      "          \r",
      " 54%|█████▍    | 869/1595 [27:48<23:13,  1.92s/it]\r",
      " 55%|█████▍    | 870/1595 [27:48<20:45,  1.72s/it]"
     ]
    },
    {
     "name": "stdout",
     "output_type": "stream",
     "text": [
      "chunks for patient: b4581f4f4cad292b5a013d35d1c39f24 : 12584\n"
     ]
    },
    {
     "name": "stderr",
     "output_type": "stream",
     "text": [
      "\r",
      "          \r",
      "\r",
      "          \r",
      " 55%|█████▍    | 870/1595 [27:50<23:11,  1.92s/it]\r",
      " 55%|█████▍    | 871/1595 [27:50<20:06,  1.67s/it]"
     ]
    },
    {
     "name": "stdout",
     "output_type": "stream",
     "text": [
      "chunks for patient: 96042e205dd3dc055f084aaca245e550 : 10143\n"
     ]
    },
    {
     "name": "stderr",
     "output_type": "stream",
     "text": [
      "\r",
      "          \r",
      "\r",
      "          \r",
      " 55%|█████▍    | 871/1595 [27:52<23:09,  1.92s/it]\r",
      " 55%|█████▍    | 872/1595 [27:52<21:53,  1.82s/it]"
     ]
    },
    {
     "name": "stdout",
     "output_type": "stream",
     "text": [
      "chunks for patient: 92286959d1899e9b480d29c545cb1e0f : 15548\n"
     ]
    },
    {
     "name": "stderr",
     "output_type": "stream",
     "text": [
      "\r",
      "          \r",
      "\r",
      "          \r",
      " 55%|█████▍    | 872/1595 [27:53<23:07,  1.92s/it]\r",
      " 55%|█████▍    | 873/1595 [27:53<21:34,  1.79s/it]"
     ]
    },
    {
     "name": "stdout",
     "output_type": "stream",
     "text": [
      "chunks for patient: ef6a37afe024d33b4b1bb2fdee054a59 : 11109\n"
     ]
    },
    {
     "name": "stderr",
     "output_type": "stream",
     "text": [
      "\r",
      "          \r",
      "\r",
      "          \r",
      " 55%|█████▍    | 873/1595 [27:55<23:05,  1.92s/it]\r",
      " 55%|█████▍    | 874/1595 [27:55<20:06,  1.67s/it]"
     ]
    },
    {
     "name": "stdout",
     "output_type": "stream",
     "text": [
      "chunks for patient: d81852bffda09dc8033a45332397c495 : 10580\n"
     ]
    },
    {
     "name": "stderr",
     "output_type": "stream",
     "text": [
      "\r",
      "          \r",
      "\r",
      "          \r",
      " 55%|█████▍    | 874/1595 [27:57<23:03,  1.92s/it]\r",
      " 55%|█████▍    | 875/1595 [27:57<20:24,  1.70s/it]"
     ]
    },
    {
     "name": "stdout",
     "output_type": "stream",
     "text": [
      "chunks for patient: af9a6a57d23dd1889f8d92e5b3a2ddf3 : 14872\n"
     ]
    },
    {
     "name": "stderr",
     "output_type": "stream",
     "text": [
      "\r",
      "          \r",
      "\r",
      "          \r",
      " 55%|█████▍    | 875/1595 [27:59<23:01,  1.92s/it]\r",
      " 55%|█████▍    | 876/1595 [27:59<21:28,  1.79s/it]"
     ]
    },
    {
     "name": "stdout",
     "output_type": "stream",
     "text": [
      "chunks for patient: 4209cb1fbce28cd68da900eb9bef26b3 : 15309\n"
     ]
    },
    {
     "name": "stderr",
     "output_type": "stream",
     "text": [
      "\r",
      "          \r",
      "\r",
      "          \r",
      " 55%|█████▍    | 876/1595 [28:00<22:59,  1.92s/it]\r",
      " 55%|█████▍    | 877/1595 [28:00<20:34,  1.72s/it]"
     ]
    },
    {
     "name": "stdout",
     "output_type": "stream",
     "text": [
      "chunks for patient: 202898fa97c5949fbdc07ae7ff1cd9f0 : 14196\n"
     ]
    },
    {
     "name": "stderr",
     "output_type": "stream",
     "text": [
      "\r",
      "          \r",
      "\r",
      "          \r",
      " 55%|█████▍    | 877/1595 [28:02<22:57,  1.92s/it]\r",
      " 55%|█████▌    | 878/1595 [28:02<20:33,  1.72s/it]"
     ]
    },
    {
     "name": "stdout",
     "output_type": "stream",
     "text": [
      "chunks for patient: ae61ec94b0b8de5439180f4776551e42 : 12844\n"
     ]
    },
    {
     "name": "stderr",
     "output_type": "stream",
     "text": [
      "\r",
      "          \r",
      "\r",
      "          \r",
      " 55%|█████▌    | 878/1595 [28:04<22:55,  1.92s/it]\r",
      " 55%|█████▌    | 879/1595 [28:04<21:13,  1.78s/it]"
     ]
    },
    {
     "name": "stdout",
     "output_type": "stream",
     "text": [
      "chunks for patient: 0ee336c585bf7eb1011df476891c5102 : 14375\n"
     ]
    },
    {
     "name": "stderr",
     "output_type": "stream",
     "text": [
      "\r",
      "          \r",
      "\r",
      "          \r",
      " 55%|█████▌    | 879/1595 [28:06<22:53,  1.92s/it]\r",
      " 55%|█████▌    | 880/1595 [28:06<23:12,  1.95s/it]"
     ]
    },
    {
     "name": "stdout",
     "output_type": "stream",
     "text": [
      "chunks for patient: b8276dbece0182602d2ae0c825dfa1b4 : 16900\n"
     ]
    },
    {
     "name": "stderr",
     "output_type": "stream",
     "text": [
      "\r",
      "          \r",
      "\r",
      "          \r",
      " 55%|█████▌    | 880/1595 [28:08<22:51,  1.92s/it]\r",
      " 55%|█████▌    | 881/1595 [28:08<22:22,  1.88s/it]"
     ]
    },
    {
     "name": "stdout",
     "output_type": "stream",
     "text": [
      "chunks for patient: 4d7df08f074b221eec6311c2617a5ba8 : 14375\n"
     ]
    },
    {
     "name": "stderr",
     "output_type": "stream",
     "text": [
      "\r",
      "          \r",
      "\r",
      "          \r",
      " 55%|█████▌    | 881/1595 [28:10<22:50,  1.92s/it]\r",
      " 55%|█████▌    | 882/1595 [28:10<23:13,  1.95s/it]"
     ]
    },
    {
     "name": "stdout",
     "output_type": "stream",
     "text": [
      "chunks for patient: a26bba2936f12f19893e54b40e0759fe : 17576\n"
     ]
    },
    {
     "name": "stderr",
     "output_type": "stream",
     "text": [
      "\r",
      "          \r",
      "\r",
      "          \r",
      " 55%|█████▌    | 882/1595 [28:12<22:47,  1.92s/it]\r",
      " 55%|█████▌    | 883/1595 [28:12<21:58,  1.85s/it]"
     ]
    },
    {
     "name": "stdout",
     "output_type": "stream",
     "text": [
      "chunks for patient: a70fd23bd8d535ffd42259cb91f4c5ca : 10143\n"
     ]
    },
    {
     "name": "stderr",
     "output_type": "stream",
     "text": [
      "\r",
      "          \r",
      "\r",
      "          \r",
      " 55%|█████▌    | 883/1595 [28:13<22:45,  1.92s/it]\r",
      " 55%|█████▌    | 884/1595 [28:13<21:39,  1.83s/it]"
     ]
    },
    {
     "name": "stdout",
     "output_type": "stream",
     "text": [
      "chunks for patient: 83463d2951670b7e8c3efd7594a13e10 : 13824\n"
     ]
    },
    {
     "name": "stderr",
     "output_type": "stream",
     "text": [
      "\r",
      "          \r",
      "\r",
      "          \r",
      " 55%|█████▌    | 884/1595 [28:14<22:43,  1.92s/it]\r",
      " 55%|█████▌    | 885/1595 [28:14<19:02,  1.61s/it]"
     ]
    },
    {
     "name": "stdout",
     "output_type": "stream",
     "text": [
      "chunks for patient: 8601f5424bcf4cd8e7bc3d649e9995a2 : 9261\n"
     ]
    },
    {
     "name": "stderr",
     "output_type": "stream",
     "text": [
      "\r",
      "          \r",
      "\r",
      "          \r",
      " 55%|█████▌    | 885/1595 [28:17<22:41,  1.92s/it]\r",
      " 56%|█████▌    | 886/1595 [28:17<20:55,  1.77s/it]"
     ]
    },
    {
     "name": "stdout",
     "output_type": "stream",
     "text": [
      "chunks for patient: 19409b302d6c143d4f754146e91d4cfe : 17576\n"
     ]
    },
    {
     "name": "stderr",
     "output_type": "stream",
     "text": [
      "\r",
      "          \r",
      "\r",
      "          \r",
      " 56%|█████▌    | 886/1595 [28:18<22:39,  1.92s/it]\r",
      " 56%|█████▌    | 887/1595 [28:18<19:25,  1.65s/it]"
     ]
    },
    {
     "name": "stdout",
     "output_type": "stream",
     "text": [
      "chunks for patient: 56995718fdd0a0549d0e7f11eb307f34 : 10143\n"
     ]
    },
    {
     "name": "stderr",
     "output_type": "stream",
     "text": [
      "\r",
      "          \r",
      "\r",
      "          \r",
      " 56%|█████▌    | 887/1595 [28:20<22:37,  1.92s/it]\r",
      " 56%|█████▌    | 888/1595 [28:20<21:53,  1.86s/it]"
     ]
    },
    {
     "name": "stdout",
     "output_type": "stream",
     "text": [
      "chunks for patient: 059d8c14b2256a2ba4e38ac511700203 : 18816\n"
     ]
    },
    {
     "name": "stderr",
     "output_type": "stream",
     "text": [
      "\r",
      "          \r",
      "\r",
      "          \r",
      " 56%|█████▌    | 888/1595 [28:23<22:35,  1.92s/it]\r",
      " 56%|█████▌    | 889/1595 [28:23<23:25,  1.99s/it]"
     ]
    },
    {
     "name": "stdout",
     "output_type": "stream",
     "text": [
      "chunks for patient: 191fa0e017185de2c802bbe94edad2ed : 18816\n"
     ]
    },
    {
     "name": "stderr",
     "output_type": "stream",
     "text": [
      "\r",
      "          \r",
      "\r",
      "          \r",
      " 56%|█████▌    | 889/1595 [28:25<22:34,  1.92s/it]\r",
      " 56%|█████▌    | 890/1595 [28:25<24:53,  2.12s/it]"
     ]
    },
    {
     "name": "stdout",
     "output_type": "stream",
     "text": [
      "chunks for patient: 8e0624a689e8e02dbae149771f51f8ca : 18954\n"
     ]
    },
    {
     "name": "stderr",
     "output_type": "stream",
     "text": [
      "\r",
      "          \r",
      "\r",
      "          \r",
      " 56%|█████▌    | 890/1595 [28:27<22:32,  1.92s/it]\r",
      " 56%|█████▌    | 891/1595 [28:27<24:36,  2.10s/it]"
     ]
    },
    {
     "name": "stdout",
     "output_type": "stream",
     "text": [
      "chunks for patient: beb2f21fa785f088469a4530784e9d81 : 14400\n"
     ]
    },
    {
     "name": "stderr",
     "output_type": "stream",
     "text": [
      "\r",
      "          \r",
      "\r",
      "          \r",
      " 56%|█████▌    | 891/1595 [28:28<22:30,  1.92s/it]\r",
      " 56%|█████▌    | 892/1595 [28:28<21:33,  1.84s/it]"
     ]
    },
    {
     "name": "stdout",
     "output_type": "stream",
     "text": [
      "chunks for patient: e1c92d3f85a37bd8bb963345b6d66e03 : 7600\n"
     ]
    },
    {
     "name": "stderr",
     "output_type": "stream",
     "text": [
      "\r",
      "          \r",
      "\r",
      "          \r",
      " 56%|█████▌    | 892/1595 [28:30<22:27,  1.92s/it]\r",
      " 56%|█████▌    | 893/1595 [28:30<19:26,  1.66s/it]"
     ]
    },
    {
     "name": "stdout",
     "output_type": "stream",
     "text": [
      "chunks for patient: 88ae66cd575c45ec5bb0f1578e2f1c49 : 10051\n"
     ]
    },
    {
     "name": "stderr",
     "output_type": "stream",
     "text": [
      "\r",
      "          \r",
      "\r",
      "          \r",
      " 56%|█████▌    | 893/1595 [28:31<22:25,  1.92s/it]\r",
      " 56%|█████▌    | 894/1595 [28:31<18:40,  1.60s/it]"
     ]
    },
    {
     "name": "stdout",
     "output_type": "stream",
     "text": [
      "chunks for patient: 7842c108866fccf9b1b56dca68fc355e : 9600\n"
     ]
    },
    {
     "name": "stderr",
     "output_type": "stream",
     "text": [
      "\r",
      "          \r",
      "\r",
      "          \r",
      " 56%|█████▌    | 894/1595 [28:33<22:23,  1.92s/it]\r",
      " 56%|█████▌    | 895/1595 [28:33<19:09,  1.64s/it]"
     ]
    },
    {
     "name": "stdout",
     "output_type": "stream",
     "text": [
      "chunks for patient: ac9c16f3f287f0e0b321fb518ac71c75 : 14375\n"
     ]
    },
    {
     "name": "stderr",
     "output_type": "stream",
     "text": [
      "\r",
      "          \r",
      "\r",
      "          \r",
      " 56%|█████▌    | 895/1595 [28:34<22:21,  1.92s/it]\r",
      " 56%|█████▌    | 896/1595 [28:34<18:52,  1.62s/it]"
     ]
    },
    {
     "name": "stdout",
     "output_type": "stream",
     "text": [
      "chunks for patient: 4d8f4de444a1f453e7ad32d067b0f630 : 12100\n"
     ]
    },
    {
     "name": "stderr",
     "output_type": "stream",
     "text": [
      "\r",
      "          \r",
      "\r",
      "          \r",
      " 56%|█████▌    | 896/1595 [28:37<22:19,  1.92s/it]\r",
      " 56%|█████▌    | 897/1595 [28:37<20:59,  1.80s/it]"
     ]
    },
    {
     "name": "stdout",
     "output_type": "stream",
     "text": [
      "chunks for patient: 00edff4f51a893d80dae2d42a7f45ad1 : 15625\n"
     ]
    },
    {
     "name": "stderr",
     "output_type": "stream",
     "text": [
      "\r",
      "          \r",
      "\r",
      "          \r",
      " 56%|█████▌    | 897/1595 [28:38<22:17,  1.92s/it]\r",
      " 56%|█████▋    | 898/1595 [28:38<19:23,  1.67s/it]"
     ]
    },
    {
     "name": "stdout",
     "output_type": "stream",
     "text": [
      "chunks for patient: 359951e3d2768249211361665b99b735 : 10143\n"
     ]
    },
    {
     "name": "stderr",
     "output_type": "stream",
     "text": [
      "\r",
      "          \r",
      "\r",
      "          \r",
      " 56%|█████▋    | 898/1595 [28:41<22:15,  1.92s/it]\r",
      " 56%|█████▋    | 899/1595 [28:41<22:49,  1.97s/it]"
     ]
    },
    {
     "name": "stdout",
     "output_type": "stream",
     "text": [
      "chunks for patient: 34007dd2549af2b82cc1206e550b5100 : 20280\n"
     ]
    },
    {
     "name": "stderr",
     "output_type": "stream",
     "text": [
      "\r",
      "          \r",
      "\r",
      "          \r",
      " 56%|█████▋    | 899/1595 [28:42<22:13,  1.92s/it]\r",
      " 56%|█████▋    | 900/1595 [28:42<21:07,  1.82s/it]"
     ]
    },
    {
     "name": "stdout",
     "output_type": "stream",
     "text": [
      "chunks for patient: 7b4d476d9414c9339269efe47840d2da : 11616\n"
     ]
    },
    {
     "name": "stderr",
     "output_type": "stream",
     "text": [
      "\r",
      "          \r",
      "\r",
      "          \r",
      " 56%|█████▋    | 900/1595 [28:45<22:12,  1.92s/it]\r",
      " 56%|█████▋    | 901/1595 [28:45<23:41,  2.05s/it]"
     ]
    },
    {
     "name": "stdout",
     "output_type": "stream",
     "text": [
      "chunks for patient: a998534bc46d3041e00c67f44a3e0352 : 20412\n"
     ]
    },
    {
     "name": "stderr",
     "output_type": "stream",
     "text": [
      "\r",
      "          \r",
      "\r",
      "          \r",
      " 56%|█████▋    | 901/1595 [28:47<22:10,  1.92s/it]\r",
      " 57%|█████▋    | 902/1595 [28:47<25:46,  2.23s/it]"
     ]
    },
    {
     "name": "stdout",
     "output_type": "stream",
     "text": [
      "chunks for patient: 379d84cd171e6c0e58455c2fd0cf57ef : 16464\n"
     ]
    },
    {
     "name": "stderr",
     "output_type": "stream",
     "text": [
      "\r",
      "          \r",
      "\r",
      "          \r",
      " 57%|█████▋    | 902/1595 [28:49<22:08,  1.92s/it]\r",
      " 57%|█████▋    | 903/1595 [28:49<23:53,  2.07s/it]"
     ]
    },
    {
     "name": "stdout",
     "output_type": "stream",
     "text": [
      "chunks for patient: d4a075768abe7fe43ad1caac92515256 : 10143\n"
     ]
    },
    {
     "name": "stderr",
     "output_type": "stream",
     "text": [
      "\r",
      "          \r",
      "\r",
      "          \r",
      " 57%|█████▋    | 903/1595 [28:51<22:06,  1.92s/it]\r",
      " 57%|█████▋    | 904/1595 [28:51<22:15,  1.93s/it]"
     ]
    },
    {
     "name": "stdout",
     "output_type": "stream",
     "text": [
      "chunks for patient: 4001d754871a8da824b8444e32dc6e0f : 11109\n"
     ]
    },
    {
     "name": "stderr",
     "output_type": "stream",
     "text": [
      "\r",
      "          \r",
      "\r",
      "          \r",
      " 57%|█████▋    | 904/1595 [28:52<22:04,  1.92s/it]\r",
      " 57%|█████▋    | 905/1595 [28:52<21:28,  1.87s/it]"
     ]
    },
    {
     "name": "stdout",
     "output_type": "stream",
     "text": [
      "chunks for patient: 7ae953bb9e0356d2990ee6655c8bd168 : 13520\n"
     ]
    },
    {
     "name": "stderr",
     "output_type": "stream",
     "text": [
      "\r",
      "          \r",
      "\r",
      "          \r",
      " 57%|█████▋    | 905/1595 [28:54<22:02,  1.92s/it]\r",
      " 57%|█████▋    | 906/1595 [28:54<22:19,  1.94s/it]"
     ]
    },
    {
     "name": "stdout",
     "output_type": "stream",
     "text": [
      "chunks for patient: 9de4a1ebcdf1cfd8566ed1d9b63cbeb7 : 16224\n"
     ]
    },
    {
     "name": "stderr",
     "output_type": "stream",
     "text": [
      "\r",
      "          \r",
      "\r",
      "          \r",
      " 57%|█████▋    | 906/1595 [28:56<22:00,  1.92s/it]\r",
      " 57%|█████▋    | 907/1595 [28:56<21:14,  1.85s/it]"
     ]
    },
    {
     "name": "stdout",
     "output_type": "stream",
     "text": [
      "chunks for patient: d104e584e51830ea51ee60e69186f83b : 15625\n"
     ]
    },
    {
     "name": "stderr",
     "output_type": "stream",
     "text": [
      "\r",
      "          \r",
      "\r",
      "          \r",
      " 57%|█████▋    | 907/1595 [28:58<21:58,  1.92s/it]\r",
      " 57%|█████▋    | 908/1595 [28:58<22:15,  1.94s/it]"
     ]
    },
    {
     "name": "stdout",
     "output_type": "stream",
     "text": [
      "chunks for patient: a7eca254c634f5f6e3cd0e508b069f1c : 15309\n"
     ]
    },
    {
     "name": "stderr",
     "output_type": "stream",
     "text": [
      "\r",
      "          \r",
      "\r",
      "          \r",
      " 57%|█████▋    | 908/1595 [29:01<21:57,  1.92s/it]\r",
      " 57%|█████▋    | 909/1595 [29:01<25:11,  2.20s/it]"
     ]
    },
    {
     "name": "stdout",
     "output_type": "stream",
     "text": [
      "chunks for patient: a14e41eea93d7667a87d458d5cb28272 : 19343\n"
     ]
    },
    {
     "name": "stderr",
     "output_type": "stream",
     "text": [
      "\r",
      "          \r",
      "\r",
      "          \r",
      " 57%|█████▋    | 909/1595 [29:04<21:56,  1.92s/it]\r",
      " 57%|█████▋    | 910/1595 [29:04<27:14,  2.39s/it]"
     ]
    },
    {
     "name": "stdout",
     "output_type": "stream",
     "text": [
      "chunks for patient: 0eb39d23d0f68ade9b5d8e6b3aee04d2 : 18816\n"
     ]
    },
    {
     "name": "stderr",
     "output_type": "stream",
     "text": [
      "\r",
      "          \r",
      "\r",
      "          \r",
      " 57%|█████▋    | 910/1595 [29:06<21:55,  1.92s/it]\r",
      " 57%|█████▋    | 911/1595 [29:06<27:59,  2.46s/it]"
     ]
    },
    {
     "name": "stdout",
     "output_type": "stream",
     "text": [
      "chunks for patient: fc658f9bc12a751a17f16589f9e3619b : 14872\n"
     ]
    },
    {
     "name": "stderr",
     "output_type": "stream",
     "text": [
      "\r",
      "          \r",
      "\r",
      "          \r",
      " 57%|█████▋    | 911/1595 [29:08<21:53,  1.92s/it]\r",
      " 57%|█████▋    | 912/1595 [29:08<25:50,  2.27s/it]"
     ]
    },
    {
     "name": "stdout",
     "output_type": "stream",
     "text": [
      "chunks for patient: a83542b34be44586e8c9f96f4fa180da : 11025\n"
     ]
    },
    {
     "name": "stderr",
     "output_type": "stream",
     "text": [
      "\r",
      "          \r",
      "\r",
      "          \r",
      " 57%|█████▋    | 912/1595 [29:10<21:50,  1.92s/it]\r",
      " 57%|█████▋    | 913/1595 [29:10<22:44,  2.00s/it]"
     ]
    },
    {
     "name": "stdout",
     "output_type": "stream",
     "text": [
      "chunks for patient: 750c11a0a87833e0bb26441b52b51399 : 10164\n"
     ]
    },
    {
     "name": "stderr",
     "output_type": "stream",
     "text": [
      "\r",
      "          \r",
      "\r",
      "          \r",
      " 57%|█████▋    | 913/1595 [29:11<21:48,  1.92s/it]\r",
      " 57%|█████▋    | 914/1595 [29:11<21:28,  1.89s/it]"
     ]
    },
    {
     "name": "stdout",
     "output_type": "stream",
     "text": [
      "chunks for patient: 67f7f74220c08faa756b34cb81b203a5 : 10584\n"
     ]
    },
    {
     "name": "stderr",
     "output_type": "stream",
     "text": [
      "\r",
      "          \r",
      "\r",
      "          \r",
      " 57%|█████▋    | 914/1595 [29:13<21:46,  1.92s/it]\r",
      " 57%|█████▋    | 915/1595 [29:13<20:02,  1.77s/it]"
     ]
    },
    {
     "name": "stdout",
     "output_type": "stream",
     "text": [
      "chunks for patient: f6a9611b3afd5c6a5fb4a718cd2c38c2 : 12167\n"
     ]
    },
    {
     "name": "stderr",
     "output_type": "stream",
     "text": [
      "\r",
      "          \r",
      "\r",
      "          \r",
      " 57%|█████▋    | 915/1595 [29:15<21:44,  1.92s/it]\r",
      " 57%|█████▋    | 916/1595 [29:15<19:48,  1.75s/it]"
     ]
    },
    {
     "name": "stdout",
     "output_type": "stream",
     "text": [
      "chunks for patient: 9759a365f7a8b828e964b0a53cc2daf8 : 16224\n"
     ]
    },
    {
     "name": "stderr",
     "output_type": "stream",
     "text": [
      "\r",
      "          \r",
      "\r",
      "          \r",
      " 57%|█████▋    | 916/1595 [29:17<21:42,  1.92s/it]\r",
      " 57%|█████▋    | 917/1595 [29:17<20:40,  1.83s/it]"
     ]
    },
    {
     "name": "stdout",
     "output_type": "stream",
     "text": [
      "chunks for patient: be3e35bf8395366d235b8bcfc71a05ee : 15548\n"
     ]
    },
    {
     "name": "stderr",
     "output_type": "stream",
     "text": [
      "\r",
      "          \r",
      "\r",
      "          \r",
      " 57%|█████▋    | 917/1595 [29:19<21:41,  1.92s/it]\r",
      " 58%|█████▊    | 918/1595 [29:19<24:06,  2.14s/it]"
     ]
    },
    {
     "name": "stdout",
     "output_type": "stream",
     "text": [
      "chunks for patient: 0f5ab1976a1b1ef1c2eb1d340b0ce9c4 : 18225\n"
     ]
    },
    {
     "name": "stderr",
     "output_type": "stream",
     "text": [
      "\r",
      "          \r",
      "\r",
      "          \r",
      " 58%|█████▊    | 918/1595 [29:22<21:39,  1.92s/it]\r",
      " 58%|█████▊    | 919/1595 [29:22<24:13,  2.15s/it]"
     ]
    },
    {
     "name": "stdout",
     "output_type": "stream",
     "text": [
      "chunks for patient: d559c9b1f2be30c82f8dbe4d73d67bd2 : 14283\n"
     ]
    },
    {
     "name": "stderr",
     "output_type": "stream",
     "text": [
      "\r",
      "          \r",
      "\r",
      "          \r",
      " 58%|█████▊    | 919/1595 [29:24<21:38,  1.92s/it]\r",
      " 58%|█████▊    | 920/1595 [29:24<25:43,  2.29s/it]"
     ]
    },
    {
     "name": "stdout",
     "output_type": "stream",
     "text": [
      "chunks for patient: 6c56e9802fb6346db58bd5daf160f9be : 16900\n"
     ]
    },
    {
     "name": "stderr",
     "output_type": "stream",
     "text": [
      "\r",
      "          \r",
      "\r",
      "          \r",
      " 58%|█████▊    | 920/1595 [29:26<21:36,  1.92s/it]\r",
      " 58%|█████▊    | 921/1595 [29:26<25:09,  2.24s/it]"
     ]
    },
    {
     "name": "stdout",
     "output_type": "stream",
     "text": [
      "chunks for patient: fcfab3eddbdf0421c39f71d651cc5c56 : 17576\n"
     ]
    },
    {
     "name": "stderr",
     "output_type": "stream",
     "text": [
      "\r",
      "          \r",
      "\r",
      "          \r",
      " 58%|█████▊    | 921/1595 [29:29<21:35,  1.92s/it]\r",
      " 58%|█████▊    | 922/1595 [29:29<27:24,  2.44s/it]"
     ]
    },
    {
     "name": "stdout",
     "output_type": "stream",
     "text": [
      "chunks for patient: b6687898fe385b68d5ae341419ef3fdd : 18954\n"
     ]
    },
    {
     "name": "stderr",
     "output_type": "stream",
     "text": [
      "\r",
      "          \r",
      "\r",
      "          \r",
      " 58%|█████▊    | 922/1595 [29:32<21:33,  1.92s/it]\r",
      " 58%|█████▊    | 923/1595 [29:32<27:14,  2.43s/it]"
     ]
    },
    {
     "name": "stdout",
     "output_type": "stream",
     "text": [
      "chunks for patient: 6e6d5603fb8fcf523f86ac0856e50236 : 15625\n"
     ]
    },
    {
     "name": "stderr",
     "output_type": "stream",
     "text": [
      "\r",
      "          \r",
      "\r",
      "          \r",
      " 58%|█████▊    | 923/1595 [29:34<21:31,  1.92s/it]\r",
      " 58%|█████▊    | 924/1595 [29:34<26:10,  2.34s/it]"
     ]
    },
    {
     "name": "stdout",
     "output_type": "stream",
     "text": [
      "chunks for patient: cc4805e3ebe8621bc94a621b1714fc84 : 13750\n"
     ]
    },
    {
     "name": "stderr",
     "output_type": "stream",
     "text": [
      "\r",
      "          \r",
      "\r",
      "          \r",
      " 58%|█████▊    | 924/1595 [29:36<21:29,  1.92s/it]\r",
      " 58%|█████▊    | 925/1595 [29:36<24:51,  2.23s/it]"
     ]
    },
    {
     "name": "stdout",
     "output_type": "stream",
     "text": [
      "chunks for patient: df015da931ad5312ee7b24b201b67478 : 12167\n"
     ]
    },
    {
     "name": "stderr",
     "output_type": "stream",
     "text": [
      "\r",
      "          \r",
      "\r",
      "          \r",
      " 58%|█████▊    | 925/1595 [29:38<21:28,  1.92s/it]\r",
      " 58%|█████▊    | 926/1595 [29:38<24:52,  2.23s/it]"
     ]
    },
    {
     "name": "stdout",
     "output_type": "stream",
     "text": [
      "chunks for patient: 55e476ee19742fc09c4ce5e6ebdc13d1 : 16038\n"
     ]
    },
    {
     "name": "stderr",
     "output_type": "stream",
     "text": [
      "\r",
      "          \r",
      "\r",
      "          \r",
      " 58%|█████▊    | 926/1595 [29:40<21:26,  1.92s/it]\r",
      " 58%|█████▊    | 927/1595 [29:40<24:54,  2.24s/it]"
     ]
    },
    {
     "name": "stdout",
     "output_type": "stream",
     "text": [
      "chunks for patient: 05609fdb8fa0895ac8a9be373144dac7 : 15680\n"
     ]
    },
    {
     "name": "stderr",
     "output_type": "stream",
     "text": [
      "\r",
      "          \r",
      "\r",
      "          \r",
      " 58%|█████▊    | 927/1595 [29:42<21:24,  1.92s/it]\r",
      " 58%|█████▊    | 928/1595 [29:42<24:54,  2.24s/it]"
     ]
    },
    {
     "name": "stdout",
     "output_type": "stream",
     "text": [
      "chunks for patient: c2e546795f1ea2bd7f89ab3b4d13e761 : 13754\n"
     ]
    },
    {
     "name": "stderr",
     "output_type": "stream",
     "text": [
      "\r",
      "          \r",
      "\r",
      "          \r",
      " 58%|█████▊    | 928/1595 [29:44<21:22,  1.92s/it]\r",
      " 58%|█████▊    | 929/1595 [29:44<22:29,  2.03s/it]"
     ]
    },
    {
     "name": "stdout",
     "output_type": "stream",
     "text": [
      "chunks for patient: d66d6279f6a55d7263e2700749b4293b : 11109\n"
     ]
    },
    {
     "name": "stderr",
     "output_type": "stream",
     "text": [
      "\r",
      "          \r",
      "\r",
      "          \r",
      " 58%|█████▊    | 929/1595 [29:46<21:20,  1.92s/it]\r",
      " 58%|█████▊    | 930/1595 [29:46<21:41,  1.96s/it]"
     ]
    },
    {
     "name": "stdout",
     "output_type": "stream",
     "text": [
      "chunks for patient: 9842a3b9dfabab4ae8642d9953058ce4 : 11638\n"
     ]
    },
    {
     "name": "stderr",
     "output_type": "stream",
     "text": [
      "\r",
      "          \r",
      "\r",
      "          \r",
      " 58%|█████▊    | 930/1595 [29:47<21:18,  1.92s/it]\r",
      " 58%|█████▊    | 931/1595 [29:47<19:16,  1.74s/it]"
     ]
    },
    {
     "name": "stdout",
     "output_type": "stream",
     "text": [
      "chunks for patient: 1278988821a696e534c6c93ecdd4ff0c : 7942\n"
     ]
    },
    {
     "name": "stderr",
     "output_type": "stream",
     "text": [
      "\r",
      "          \r",
      "\r",
      "          \r",
      " 58%|█████▊    | 931/1595 [29:48<21:15,  1.92s/it]\r",
      " 58%|█████▊    | 932/1595 [29:48<17:01,  1.54s/it]"
     ]
    },
    {
     "name": "stdout",
     "output_type": "stream",
     "text": [
      "chunks for patient: 66b7666912e1d469cd9817a1cade694c : 8800\n"
     ]
    },
    {
     "name": "stderr",
     "output_type": "stream",
     "text": [
      "\r",
      "          \r",
      "\r",
      "          \r",
      " 58%|█████▊    | 932/1595 [29:50<21:13,  1.92s/it]\r",
      " 58%|█████▊    | 933/1595 [29:50<17:41,  1.60s/it]"
     ]
    },
    {
     "name": "stdout",
     "output_type": "stream",
     "text": [
      "chunks for patient: cca8f8cc51b58df2a4804a7aee8eef8c : 13520\n"
     ]
    },
    {
     "name": "stderr",
     "output_type": "stream",
     "text": [
      "\r",
      "          \r",
      "\r",
      "          \r",
      " 58%|█████▊    | 933/1595 [29:51<21:11,  1.92s/it]\r",
      " 59%|█████▊    | 934/1595 [29:51<17:29,  1.59s/it]"
     ]
    },
    {
     "name": "stdout",
     "output_type": "stream",
     "text": [
      "chunks for patient: f5630f467acd9aa977b61a3e5780c2eb : 11616\n"
     ]
    },
    {
     "name": "stderr",
     "output_type": "stream",
     "text": [
      "\r",
      "          \r",
      "\r",
      "          \r",
      " 59%|█████▊    | 934/1595 [29:54<21:09,  1.92s/it]\r",
      " 59%|█████▊    | 935/1595 [29:54<19:23,  1.76s/it]"
     ]
    },
    {
     "name": "stdout",
     "output_type": "stream",
     "text": [
      "chunks for patient: 14f713c1ef037f6c531cffdff0e5fb2c : 15000\n"
     ]
    },
    {
     "name": "stderr",
     "output_type": "stream",
     "text": [
      "\r",
      "          \r",
      "\r",
      "          \r",
      " 59%|█████▊    | 935/1595 [29:55<21:07,  1.92s/it]\r",
      " 59%|█████▊    | 936/1595 [29:55<18:18,  1.67s/it]"
     ]
    },
    {
     "name": "stdout",
     "output_type": "stream",
     "text": [
      "chunks for patient: 8d98bf96ed8555da4df44f26cc8426bf : 9600\n"
     ]
    },
    {
     "name": "stderr",
     "output_type": "stream",
     "text": [
      "\r",
      "          \r",
      "\r",
      "          \r",
      " 59%|█████▊    | 936/1595 [29:57<21:05,  1.92s/it]\r",
      " 59%|█████▊    | 937/1595 [29:57<17:41,  1.61s/it]"
     ]
    },
    {
     "name": "stdout",
     "output_type": "stream",
     "text": [
      "chunks for patient: b769e3486463214cf631bf7ab6655801 : 10051\n"
     ]
    },
    {
     "name": "stderr",
     "output_type": "stream",
     "text": [
      "\r",
      "          \r",
      "\r",
      "          \r",
      " 59%|█████▊    | 937/1595 [29:59<21:03,  1.92s/it]\r",
      " 59%|█████▉    | 938/1595 [29:59<20:28,  1.87s/it]"
     ]
    },
    {
     "name": "stdout",
     "output_type": "stream",
     "text": [
      "chunks for patient: 7b547c5afa0c028b0e20e9a28eaeaa41 : 17576\n"
     ]
    },
    {
     "name": "stderr",
     "output_type": "stream",
     "text": [
      "\r",
      "          \r",
      "\r",
      "          \r",
      " 59%|█████▉    | 938/1595 [30:01<21:02,  1.92s/it]\r",
      " 59%|█████▉    | 939/1595 [30:01<21:53,  2.00s/it]"
     ]
    },
    {
     "name": "stdout",
     "output_type": "stream",
     "text": [
      "chunks for patient: 2f154a687b94f7b59fec7048cbfb5354 : 15548\n"
     ]
    },
    {
     "name": "stderr",
     "output_type": "stream",
     "text": [
      "\r",
      "          \r",
      "\r",
      "          \r",
      " 59%|█████▉    | 939/1595 [30:04<21:00,  1.92s/it]\r",
      " 59%|█████▉    | 940/1595 [30:04<23:40,  2.17s/it]"
     ]
    },
    {
     "name": "stdout",
     "output_type": "stream",
     "text": [
      "chunks for patient: 6e3a7f8ef70e26252d25cc105a945f86 : 16900\n"
     ]
    },
    {
     "name": "stderr",
     "output_type": "stream",
     "text": [
      "\r",
      "          \r",
      "\r",
      "          \r",
      " 59%|█████▉    | 940/1595 [30:05<20:58,  1.92s/it]\r",
      " 59%|█████▉    | 941/1595 [30:05<21:28,  1.97s/it]"
     ]
    },
    {
     "name": "stdout",
     "output_type": "stream",
     "text": [
      "chunks for patient: 9d8bdc380b51812ba82a6040ef207c33 : 10584\n"
     ]
    },
    {
     "name": "stderr",
     "output_type": "stream",
     "text": [
      "\r",
      "          \r",
      "\r",
      "          \r",
      " 59%|█████▉    | 941/1595 [30:07<20:56,  1.92s/it]\r",
      " 59%|█████▉    | 942/1595 [30:07<20:52,  1.92s/it]"
     ]
    },
    {
     "name": "stdout",
     "output_type": "stream",
     "text": [
      "chunks for patient: d73fda3be1180e4465df6fbef8a0648d : 10648\n"
     ]
    },
    {
     "name": "stderr",
     "output_type": "stream",
     "text": [
      "\r",
      "          \r",
      "\r",
      "          \r",
      " 59%|█████▉    | 942/1595 [30:09<20:54,  1.92s/it]\r",
      " 59%|█████▉    | 943/1595 [30:09<19:32,  1.80s/it]"
     ]
    },
    {
     "name": "stdout",
     "output_type": "stream",
     "text": [
      "chunks for patient: 8b494d14d835dd5ae13dab19b9520a55 : 9680\n"
     ]
    },
    {
     "name": "stderr",
     "output_type": "stream",
     "text": [
      "\r",
      "          \r",
      "\r",
      "          \r",
      " 59%|█████▉    | 943/1595 [30:10<20:51,  1.92s/it]\r",
      " 59%|█████▉    | 944/1595 [30:10<18:39,  1.72s/it]"
     ]
    },
    {
     "name": "stdout",
     "output_type": "stream",
     "text": [
      "chunks for patient: 7f45518a2f938a92fa99658d98770316 : 11638\n"
     ]
    },
    {
     "name": "stderr",
     "output_type": "stream",
     "text": [
      "\r",
      "          \r",
      "\r",
      "          \r",
      " 59%|█████▉    | 944/1595 [30:12<20:49,  1.92s/it]\r",
      " 59%|█████▉    | 945/1595 [30:12<18:47,  1.74s/it]"
     ]
    },
    {
     "name": "stdout",
     "output_type": "stream",
     "text": [
      "chunks for patient: 60018d051926d01b38dd16e44159610c : 13068\n"
     ]
    },
    {
     "name": "stderr",
     "output_type": "stream",
     "text": [
      "\r",
      "          \r",
      "\r",
      "          \r",
      " 59%|█████▉    | 945/1595 [30:14<20:48,  1.92s/it]\r",
      " 59%|█████▉    | 946/1595 [30:14<20:36,  1.91s/it]"
     ]
    },
    {
     "name": "stdout",
     "output_type": "stream",
     "text": [
      "chunks for patient: 5c99ab7172afa78312fe73a3c0dd342f : 14375\n"
     ]
    },
    {
     "name": "stderr",
     "output_type": "stream",
     "text": [
      "\r",
      "          \r",
      "\r",
      "          \r",
      " 59%|█████▉    | 946/1595 [30:17<20:46,  1.92s/it]\r",
      " 59%|█████▉    | 947/1595 [30:17<21:46,  2.02s/it]"
     ]
    },
    {
     "name": "stdout",
     "output_type": "stream",
     "text": [
      "chunks for patient: 1b7ca8dad5c36feb0a6abf8079173e22 : 17248\n"
     ]
    },
    {
     "name": "stderr",
     "output_type": "stream",
     "text": [
      "\r",
      "          \r",
      "\r",
      "          \r",
      " 59%|█████▉    | 947/1595 [30:19<20:45,  1.92s/it]\r",
      " 59%|█████▉    | 948/1595 [30:19<23:24,  2.17s/it]"
     ]
    },
    {
     "name": "stdout",
     "output_type": "stream",
     "text": [
      "chunks for patient: 3295f3f392d8e130155c8912b60161b5 : 16224\n"
     ]
    },
    {
     "name": "stderr",
     "output_type": "stream",
     "text": [
      "\r",
      "          \r",
      "\r",
      "          \r",
      " 59%|█████▉    | 948/1595 [30:21<20:43,  1.92s/it]\r",
      " 59%|█████▉    | 949/1595 [30:21<22:36,  2.10s/it]"
     ]
    },
    {
     "name": "stdout",
     "output_type": "stream",
     "text": [
      "chunks for patient: d3a8fb1da8f7a0dcbd5a8d65f3647757 : 13520\n"
     ]
    },
    {
     "name": "stderr",
     "output_type": "stream",
     "text": [
      "\r",
      "          \r",
      "\r",
      "          \r",
      " 59%|█████▉    | 949/1595 [30:23<20:41,  1.92s/it]\r",
      " 60%|█████▉    | 950/1595 [30:23<22:08,  2.06s/it]"
     ]
    },
    {
     "name": "stdout",
     "output_type": "stream",
     "text": [
      "chunks for patient: a53a4a019a24541c277e0a84301d8ec5 : 15548\n"
     ]
    },
    {
     "name": "stderr",
     "output_type": "stream",
     "text": [
      "\r",
      "          \r",
      "\r",
      "          \r",
      " 60%|█████▉    | 950/1595 [30:24<20:38,  1.92s/it]\r",
      " 60%|█████▉    | 951/1595 [30:24<19:45,  1.84s/it]"
     ]
    },
    {
     "name": "stdout",
     "output_type": "stream",
     "text": [
      "chunks for patient: 9139a5b2f18c79a75c2d8ee817cc2495 : 8820\n"
     ]
    },
    {
     "name": "stderr",
     "output_type": "stream",
     "text": [
      "\r",
      "          \r",
      "\r",
      "          \r",
      " 60%|█████▉    | 951/1595 [30:26<20:36,  1.92s/it]\r",
      " 60%|█████▉    | 952/1595 [30:26<19:00,  1.77s/it]"
     ]
    },
    {
     "name": "stdout",
     "output_type": "stream",
     "text": [
      "chunks for patient: afc15e047f3e127871d13e39cde7557d : 12167\n"
     ]
    },
    {
     "name": "stderr",
     "output_type": "stream",
     "text": [
      "\r",
      "          \r",
      "\r",
      "          \r",
      " 60%|█████▉    | 952/1595 [30:27<20:34,  1.92s/it]\r",
      " 60%|█████▉    | 953/1595 [30:27<17:12,  1.61s/it]"
     ]
    },
    {
     "name": "stdout",
     "output_type": "stream",
     "text": [
      "chunks for patient: 5572cc61f851b0d10d6fec913ae722b9 : 8400\n"
     ]
    },
    {
     "name": "stderr",
     "output_type": "stream",
     "text": [
      "\r",
      "          \r",
      "\r",
      "          \r",
      " 60%|█████▉    | 953/1595 [30:29<20:32,  1.92s/it]\r",
      " 60%|█████▉    | 954/1595 [30:29<17:45,  1.66s/it]"
     ]
    },
    {
     "name": "stdout",
     "output_type": "stream",
     "text": [
      "chunks for patient: 99ce8aa6c0afe0e418f49823f8639776 : 11616\n"
     ]
    },
    {
     "name": "stderr",
     "output_type": "stream",
     "text": [
      "\r",
      "          \r",
      "\r",
      "          \r",
      " 60%|█████▉    | 954/1595 [30:31<20:30,  1.92s/it]\r",
      " 60%|█████▉    | 955/1595 [30:31<19:56,  1.87s/it]"
     ]
    },
    {
     "name": "stdout",
     "output_type": "stream",
     "text": [
      "chunks for patient: e58cc57cab8a1738041b72b156fedc56 : 14375\n"
     ]
    },
    {
     "name": "stderr",
     "output_type": "stream",
     "text": [
      "\r",
      "          \r",
      "\r",
      "          \r",
      " 60%|█████▉    | 955/1595 [30:34<20:29,  1.92s/it]\r",
      " 60%|█████▉    | 956/1595 [30:34<21:48,  2.05s/it]"
     ]
    },
    {
     "name": "stdout",
     "output_type": "stream",
     "text": [
      "chunks for patient: 2e26f46f1edc232be164c1fe2712e96a : 12096\n"
     ]
    },
    {
     "name": "stderr",
     "output_type": "stream",
     "text": [
      "\r",
      "          \r",
      "\r",
      "          \r",
      " 60%|█████▉    | 956/1595 [30:36<20:27,  1.92s/it]\r",
      " 60%|██████    | 957/1595 [30:36<22:17,  2.10s/it]"
     ]
    },
    {
     "name": "stdout",
     "output_type": "stream",
     "text": [
      "chunks for patient: a6f09ff7b85c72ee28a9e725bb1ec652 : 16767\n"
     ]
    },
    {
     "name": "stderr",
     "output_type": "stream",
     "text": [
      "\r",
      "          \r",
      "\r",
      "          \r",
      " 60%|██████    | 957/1595 [30:38<20:25,  1.92s/it]\r",
      " 60%|██████    | 958/1595 [30:38<23:29,  2.21s/it]"
     ]
    },
    {
     "name": "stdout",
     "output_type": "stream",
     "text": [
      "chunks for patient: 487cc9003c99fa95e9a9e201d396992c : 18032\n"
     ]
    },
    {
     "name": "stderr",
     "output_type": "stream",
     "text": [
      "\r",
      "          \r",
      "\r",
      "          \r",
      " 60%|██████    | 958/1595 [30:41<20:24,  1.92s/it]\r",
      " 60%|██████    | 959/1595 [30:41<24:29,  2.31s/it]"
     ]
    },
    {
     "name": "stdout",
     "output_type": "stream",
     "text": [
      "chunks for patient: 5267ea7baf6332f29163064aecf6e443 : 18954\n"
     ]
    },
    {
     "name": "stderr",
     "output_type": "stream",
     "text": [
      "\r",
      "          \r",
      "\r",
      "          \r",
      " 60%|██████    | 959/1595 [30:43<20:22,  1.92s/it]\r",
      " 60%|██████    | 960/1595 [30:43<22:50,  2.16s/it]"
     ]
    },
    {
     "name": "stdout",
     "output_type": "stream",
     "text": [
      "chunks for patient: 5d16819bd78c74448ce852a93bf423ad : 11109\n"
     ]
    },
    {
     "name": "stderr",
     "output_type": "stream",
     "text": [
      "\r",
      "          \r",
      "\r",
      "          \r",
      " 60%|██████    | 960/1595 [30:45<20:20,  1.92s/it]\r",
      " 60%|██████    | 961/1595 [30:45<23:05,  2.19s/it]"
     ]
    },
    {
     "name": "stdout",
     "output_type": "stream",
     "text": [
      "chunks for patient: ae4e9d8aab8f8f5ae975bcca923f468d : 15548\n"
     ]
    },
    {
     "name": "stderr",
     "output_type": "stream",
     "text": [
      "\r",
      "          \r",
      "\r",
      "          \r",
      " 60%|██████    | 961/1595 [30:47<20:18,  1.92s/it]\r",
      " 60%|██████    | 962/1595 [30:47<22:59,  2.18s/it]"
     ]
    },
    {
     "name": "stdout",
     "output_type": "stream",
     "text": [
      "chunks for patient: 184c61740244f4ce8fb985af9bb3d8e8 : 13750\n"
     ]
    },
    {
     "name": "stderr",
     "output_type": "stream",
     "text": [
      "\r",
      "          \r",
      "\r",
      "          \r",
      " 60%|██████    | 962/1595 [30:49<20:16,  1.92s/it]\r",
      " 60%|██████    | 963/1595 [30:49<20:28,  1.94s/it]"
     ]
    },
    {
     "name": "stdout",
     "output_type": "stream",
     "text": [
      "chunks for patient: 8c5288b86ffcd597f10d639e9948411d : 8303\n"
     ]
    },
    {
     "name": "stderr",
     "output_type": "stream",
     "text": [
      "\r",
      "          \r",
      "\r",
      "          \r",
      " 60%|██████    | 963/1595 [30:51<20:15,  1.92s/it]\r",
      " 60%|██████    | 964/1595 [30:51<21:26,  2.04s/it]"
     ]
    },
    {
     "name": "stdout",
     "output_type": "stream",
     "text": [
      "chunks for patient: 5f19d1c7bd7ceb691639cab9c1c2cb19 : 17576\n"
     ]
    },
    {
     "name": "stderr",
     "output_type": "stream",
     "text": [
      "\r",
      "          \r",
      "\r",
      "          \r",
      " 60%|██████    | 964/1595 [30:53<20:13,  1.92s/it]\r",
      " 61%|██████    | 965/1595 [30:53<21:48,  2.08s/it]"
     ]
    },
    {
     "name": "stdout",
     "output_type": "stream",
     "text": [
      "chunks for patient: ea7373271a2441b5864df2053c0f5c3e : 16224\n"
     ]
    },
    {
     "name": "stderr",
     "output_type": "stream",
     "text": [
      "\r",
      "          \r",
      "\r",
      "          \r",
      " 61%|██████    | 965/1595 [30:55<20:11,  1.92s/it]\r",
      " 61%|██████    | 966/1595 [30:55<20:50,  1.99s/it]"
     ]
    },
    {
     "name": "stdout",
     "output_type": "stream",
     "text": [
      "chunks for patient: 55eace190c5917cdfb390ca652149fbc : 11638\n"
     ]
    },
    {
     "name": "stderr",
     "output_type": "stream",
     "text": [
      "\r",
      "          \r",
      "\r",
      "          \r",
      " 61%|██████    | 966/1595 [30:56<20:09,  1.92s/it]\r",
      " 61%|██████    | 967/1595 [30:56<19:40,  1.88s/it]"
     ]
    },
    {
     "name": "stdout",
     "output_type": "stream",
     "text": [
      "chunks for patient: 89fbce8f7fe8ecc1bf7067a292c7ab2d : 10584\n"
     ]
    },
    {
     "name": "stderr",
     "output_type": "stream",
     "text": [
      "\r",
      "          \r",
      "\r",
      "          \r",
      " 61%|██████    | 967/1595 [30:59<20:07,  1.92s/it]\r",
      " 61%|██████    | 968/1595 [30:59<21:21,  2.04s/it]"
     ]
    },
    {
     "name": "stdout",
     "output_type": "stream",
     "text": [
      "chunks for patient: 63458b5875a0b223ec21555d17b52fd4 : 16224\n"
     ]
    },
    {
     "name": "stderr",
     "output_type": "stream",
     "text": [
      "\r",
      "          \r",
      "\r",
      "          \r",
      " 61%|██████    | 968/1595 [31:01<20:05,  1.92s/it]\r",
      " 61%|██████    | 969/1595 [31:01<21:21,  2.05s/it]"
     ]
    },
    {
     "name": "stdout",
     "output_type": "stream",
     "text": [
      "chunks for patient: 337e7a428e7342d1e7f53a04247f7ad8 : 16464\n"
     ]
    },
    {
     "name": "stderr",
     "output_type": "stream",
     "text": [
      "\r",
      "          \r",
      "\r",
      "          \r",
      " 61%|██████    | 969/1595 [31:03<20:04,  1.92s/it]\r",
      " 61%|██████    | 970/1595 [31:03<22:17,  2.14s/it]"
     ]
    },
    {
     "name": "stdout",
     "output_type": "stream",
     "text": [
      "chunks for patient: 3d5351d09a432a8de88e5b270d419ebf : 16038\n"
     ]
    },
    {
     "name": "stderr",
     "output_type": "stream",
     "text": [
      "\r",
      "          \r",
      "\r",
      "          \r",
      " 61%|██████    | 970/1595 [31:06<20:02,  1.92s/it]\r",
      " 61%|██████    | 971/1595 [31:06<23:41,  2.28s/it]"
     ]
    },
    {
     "name": "stdout",
     "output_type": "stream",
     "text": [
      "chunks for patient: e6d8b2631843a24e6761f2723ea30788 : 17576\n"
     ]
    },
    {
     "name": "stderr",
     "output_type": "stream",
     "text": [
      "\r",
      "          \r",
      "\r",
      "          \r",
      " 61%|██████    | 971/1595 [31:08<20:00,  1.92s/it]\r",
      " 61%|██████    | 972/1595 [31:08<23:23,  2.25s/it]"
     ]
    },
    {
     "name": "stdout",
     "output_type": "stream",
     "text": [
      "chunks for patient: f39a1e54d79731e4417aa8159d19b7d4 : 15625\n"
     ]
    },
    {
     "name": "stderr",
     "output_type": "stream",
     "text": [
      "\r",
      "          \r",
      "\r",
      "          \r",
      " 61%|██████    | 972/1595 [31:10<19:59,  1.92s/it]\r",
      " 61%|██████    | 973/1595 [31:10<23:06,  2.23s/it]"
     ]
    },
    {
     "name": "stdout",
     "output_type": "stream",
     "text": [
      "chunks for patient: e3e518324e1a85b85f15d9127ed9ea89 : 11025\n"
     ]
    },
    {
     "name": "stderr",
     "output_type": "stream",
     "text": [
      "\r",
      "          \r",
      "\r",
      "          \r",
      " 61%|██████    | 973/1595 [31:12<19:57,  1.92s/it]\r",
      " 61%|██████    | 974/1595 [31:12<21:37,  2.09s/it]"
     ]
    },
    {
     "name": "stdout",
     "output_type": "stream",
     "text": [
      "chunks for patient: 5a2e359e859d0b0d7c159fff87950852 : 12096\n"
     ]
    },
    {
     "name": "stderr",
     "output_type": "stream",
     "text": [
      "\r",
      "          \r",
      "\r",
      "          \r",
      " 61%|██████    | 974/1595 [31:14<19:55,  1.92s/it]\r",
      " 61%|██████    | 975/1595 [31:14<22:29,  2.18s/it]"
     ]
    },
    {
     "name": "stdout",
     "output_type": "stream",
     "text": [
      "chunks for patient: 322bf0acacba9650fa5656b9613c75c8 : 16767\n"
     ]
    },
    {
     "name": "stderr",
     "output_type": "stream",
     "text": [
      "\r",
      "          \r",
      "\r",
      "          \r",
      " 61%|██████    | 975/1595 [31:18<19:54,  1.93s/it]\r",
      " 61%|██████    | 976/1595 [31:18<26:07,  2.53s/it]"
     ]
    },
    {
     "name": "stdout",
     "output_type": "stream",
     "text": [
      "chunks for patient: 430596d1bfa6ec9a7bfa7359194a561c : 19604\n"
     ]
    },
    {
     "name": "stderr",
     "output_type": "stream",
     "text": [
      "\r",
      "          \r",
      "\r",
      "          \r",
      " 61%|██████    | 976/1595 [31:19<19:52,  1.93s/it]\r",
      " 61%|██████▏   | 977/1595 [31:19<23:24,  2.27s/it]"
     ]
    },
    {
     "name": "stdout",
     "output_type": "stream",
     "text": [
      "chunks for patient: ad7e6fe9d036ed070df718f95b212a10 : 9261\n"
     ]
    },
    {
     "name": "stderr",
     "output_type": "stream",
     "text": [
      "\r",
      "          \r",
      "\r",
      "          \r",
      " 61%|██████▏   | 977/1595 [31:21<19:50,  1.93s/it]\r",
      " 61%|██████▏   | 978/1595 [31:21<22:24,  2.18s/it]"
     ]
    },
    {
     "name": "stdout",
     "output_type": "stream",
     "text": [
      "chunks for patient: 2346e52f9370d9dd58172eb44b2b5d87 : 11109\n"
     ]
    },
    {
     "name": "stderr",
     "output_type": "stream",
     "text": [
      "\r",
      "          \r",
      "\r",
      "          \r",
      " 61%|██████▏   | 978/1595 [31:23<19:48,  1.93s/it]\r",
      " 61%|██████▏   | 979/1595 [31:23<21:47,  2.12s/it]"
     ]
    },
    {
     "name": "stdout",
     "output_type": "stream",
     "text": [
      "chunks for patient: 5d801b07718dc9a1ad2bf701523a0f74 : 13225\n"
     ]
    },
    {
     "name": "stderr",
     "output_type": "stream",
     "text": [
      "\r",
      "          \r",
      "\r",
      "          \r",
      " 61%|██████▏   | 979/1595 [31:25<19:46,  1.93s/it]\r",
      " 61%|██████▏   | 980/1595 [31:25<19:54,  1.94s/it]"
     ]
    },
    {
     "name": "stdout",
     "output_type": "stream",
     "text": [
      "chunks for patient: 0d941a3ad6c889ac451caf89c46cb92a : 9386\n"
     ]
    },
    {
     "name": "stderr",
     "output_type": "stream",
     "text": [
      "\r",
      "          \r",
      "\r",
      "          \r",
      " 61%|██████▏   | 980/1595 [31:27<19:44,  1.93s/it]\r",
      " 62%|██████▏   | 981/1595 [31:27<20:07,  1.97s/it]"
     ]
    },
    {
     "name": "stdout",
     "output_type": "stream",
     "text": [
      "chunks for patient: 6d01b46b619b9f6d8c78dbd3f6864372 : 13754\n"
     ]
    },
    {
     "name": "stderr",
     "output_type": "stream",
     "text": [
      "\r",
      "          \r",
      "\r",
      "          \r",
      " 62%|██████▏   | 981/1595 [31:29<19:42,  1.93s/it]\r",
      " 62%|██████▏   | 982/1595 [31:29<21:40,  2.12s/it]"
     ]
    },
    {
     "name": "stdout",
     "output_type": "stream",
     "text": [
      "chunks for patient: f89e3d0867e27be8e19d7ed50e1eb7e8 : 15548\n"
     ]
    },
    {
     "name": "stderr",
     "output_type": "stream",
     "text": [
      "\r",
      "          \r",
      "\r",
      "          \r",
      " 62%|██████▏   | 982/1595 [31:32<19:41,  1.93s/it]\r",
      " 62%|██████▏   | 983/1595 [31:32<21:55,  2.15s/it]"
     ]
    },
    {
     "name": "stdout",
     "output_type": "stream",
     "text": [
      "chunks for patient: a334d15ac8d2d25bce76693b1b2a3ed7 : 15552\n"
     ]
    },
    {
     "name": "stderr",
     "output_type": "stream",
     "text": [
      "\r",
      "          \r",
      "\r",
      "          \r",
      " 62%|██████▏   | 983/1595 [31:34<19:39,  1.93s/it]\r",
      " 62%|██████▏   | 984/1595 [31:34<22:04,  2.17s/it]"
     ]
    },
    {
     "name": "stdout",
     "output_type": "stream",
     "text": [
      "chunks for patient: ed0f3c1619b2becec76ba5df66e1ea56 : 14976\n"
     ]
    },
    {
     "name": "stderr",
     "output_type": "stream",
     "text": [
      "\r",
      "          \r",
      "\r",
      "          \r",
      " 62%|██████▏   | 984/1595 [31:36<19:37,  1.93s/it]\r",
      " 62%|██████▏   | 985/1595 [31:36<21:39,  2.13s/it]"
     ]
    },
    {
     "name": "stdout",
     "output_type": "stream",
     "text": [
      "chunks for patient: 49c88f7cc77341c9ae4e64243f9912fc : 15625\n"
     ]
    },
    {
     "name": "stderr",
     "output_type": "stream",
     "text": [
      "\r",
      "          \r",
      "\r",
      "          \r",
      " 62%|██████▏   | 985/1595 [31:38<19:36,  1.93s/it]\r",
      " 62%|██████▏   | 986/1595 [31:38<23:06,  2.28s/it]"
     ]
    },
    {
     "name": "stdout",
     "output_type": "stream",
     "text": [
      "chunks for patient: f8f66fca04d2e67eacd86ea154827a4c : 18502\n"
     ]
    },
    {
     "name": "stderr",
     "output_type": "stream",
     "text": [
      "\r",
      "          \r",
      "\r",
      "          \r",
      " 62%|██████▏   | 986/1595 [31:41<19:34,  1.93s/it]\r",
      " 62%|██████▏   | 987/1595 [31:41<22:25,  2.21s/it]"
     ]
    },
    {
     "name": "stdout",
     "output_type": "stream",
     "text": [
      "chunks for patient: 06a90409e4fcea3e634748b967993531 : 11875\n"
     ]
    },
    {
     "name": "stderr",
     "output_type": "stream",
     "text": [
      "\r",
      "          \r",
      "\r",
      "          \r",
      " 62%|██████▏   | 987/1595 [31:44<19:33,  1.93s/it]\r",
      " 62%|██████▏   | 988/1595 [31:44<26:20,  2.60s/it]"
     ]
    },
    {
     "name": "stdout",
     "output_type": "stream",
     "text": [
      "chunks for patient: e9a27e2645e1fad9434ce765f678585f : 18954\n"
     ]
    },
    {
     "name": "stderr",
     "output_type": "stream",
     "text": [
      "\r",
      "          \r",
      "\r",
      "          \r",
      " 62%|██████▏   | 988/1595 [31:46<19:31,  1.93s/it]\r",
      " 62%|██████▏   | 989/1595 [31:46<25:08,  2.49s/it]"
     ]
    },
    {
     "name": "stdout",
     "output_type": "stream",
     "text": [
      "chunks for patient: f25c425c827b35fcbaa23f2ed671540b : 13824\n"
     ]
    },
    {
     "name": "stderr",
     "output_type": "stream",
     "text": [
      "\r",
      "          \r",
      "\r",
      "          \r",
      " 62%|██████▏   | 989/1595 [31:47<19:29,  1.93s/it]\r",
      " 62%|██████▏   | 990/1595 [31:47<21:06,  2.09s/it]"
     ]
    },
    {
     "name": "stdout",
     "output_type": "stream",
     "text": [
      "chunks for patient: 8f0d9699a15acef00da458eceaf0c846 : 7581\n"
     ]
    },
    {
     "name": "stderr",
     "output_type": "stream",
     "text": [
      "\r",
      "          \r",
      "\r",
      "          \r",
      " 62%|██████▏   | 990/1595 [31:50<19:27,  1.93s/it]\r",
      " 62%|██████▏   | 991/1595 [31:50<22:47,  2.26s/it]"
     ]
    },
    {
     "name": "stdout",
     "output_type": "stream",
     "text": [
      "chunks for patient: 0852f5124d69d7f8cd35fa31e1364d29 : 16250\n"
     ]
    },
    {
     "name": "stderr",
     "output_type": "stream",
     "text": [
      "\r",
      "          \r",
      "\r",
      "          \r",
      " 62%|██████▏   | 991/1595 [31:53<19:26,  1.93s/it]\r",
      " 62%|██████▏   | 992/1595 [31:53<24:17,  2.42s/it]"
     ]
    },
    {
     "name": "stdout",
     "output_type": "stream",
     "text": [
      "chunks for patient: 08643d7b9ce18405fb63f63dda258e76 : 19600\n"
     ]
    },
    {
     "name": "stderr",
     "output_type": "stream",
     "text": [
      "\r",
      "          \r",
      "\r",
      "          \r",
      " 62%|██████▏   | 992/1595 [31:54<19:23,  1.93s/it]\r",
      " 62%|██████▏   | 993/1595 [31:54<20:07,  2.01s/it]"
     ]
    },
    {
     "name": "stdout",
     "output_type": "stream",
     "text": [
      "chunks for patient: 6d3be6081d76d2365b080e599628d3bc : 9522\n"
     ]
    },
    {
     "name": "stderr",
     "output_type": "stream",
     "text": [
      "\r",
      "          \r",
      "\r",
      "          \r",
      " 62%|██████▏   | 993/1595 [31:57<19:22,  1.93s/it]\r",
      " 62%|██████▏   | 994/1595 [31:57<23:43,  2.37s/it]"
     ]
    },
    {
     "name": "stdout",
     "output_type": "stream",
     "text": [
      "chunks for patient: 5c69c62e94dde61c690563eb3553a561 : 18502\n"
     ]
    },
    {
     "name": "stderr",
     "output_type": "stream",
     "text": [
      "\r",
      "          \r",
      "\r",
      "          \r",
      " 62%|██████▏   | 994/1595 [31:58<19:20,  1.93s/it]\r",
      " 62%|██████▏   | 995/1595 [31:58<19:36,  1.96s/it]"
     ]
    },
    {
     "name": "stdout",
     "output_type": "stream",
     "text": [
      "chunks for patient: a6b7aa6b98dd87cf75a5e1f707369832 : 6137\n"
     ]
    },
    {
     "name": "stderr",
     "output_type": "stream",
     "text": [
      "\r",
      "          \r",
      "\r",
      "          \r",
      " 62%|██████▏   | 995/1595 [32:01<19:18,  1.93s/it]\r",
      " 62%|██████▏   | 996/1595 [32:01<21:51,  2.19s/it]"
     ]
    },
    {
     "name": "stdout",
     "output_type": "stream",
     "text": [
      "chunks for patient: 84876a50f52476bcc2a63678257ae8b4 : 16250\n"
     ]
    },
    {
     "name": "stderr",
     "output_type": "stream",
     "text": [
      "\r",
      "          \r",
      "\r",
      "          \r",
      " 62%|██████▏   | 996/1595 [32:03<19:16,  1.93s/it]\r",
      " 63%|██████▎   | 997/1595 [32:03<21:29,  2.16s/it]"
     ]
    },
    {
     "name": "stdout",
     "output_type": "stream",
     "text": [
      "chunks for patient: 5b642ed9150bac6cbd58a46ed8349afc : 15548\n"
     ]
    },
    {
     "name": "stderr",
     "output_type": "stream",
     "text": [
      "\r",
      "          \r",
      "\r",
      "          \r",
      " 63%|██████▎   | 997/1595 [32:05<19:14,  1.93s/it]\r",
      " 63%|██████▎   | 998/1595 [32:05<19:42,  1.98s/it]"
     ]
    },
    {
     "name": "stdout",
     "output_type": "stream",
     "text": [
      "chunks for patient: e7cb27a5362a7098e1437bfb1224d2dc : 9196\n"
     ]
    },
    {
     "name": "stderr",
     "output_type": "stream",
     "text": [
      "\r",
      "          \r",
      "\r",
      "          \r",
      " 63%|██████▎   | 998/1595 [32:07<19:12,  1.93s/it]\r",
      " 63%|██████▎   | 999/1595 [32:07<20:45,  2.09s/it]"
     ]
    },
    {
     "name": "stdout",
     "output_type": "stream",
     "text": [
      "chunks for patient: 880980cc7e88c83b0fea84f078b849e3 : 13248\n"
     ]
    },
    {
     "name": "stderr",
     "output_type": "stream",
     "text": [
      "\r",
      "          \r",
      "\r",
      "          \r",
      " 63%|██████▎   | 999/1595 [32:09<19:11,  1.93s/it]\r",
      " 63%|██████▎   | 1000/1595 [32:09<20:15,  2.04s/it]"
     ]
    },
    {
     "name": "stdout",
     "output_type": "stream",
     "text": [
      "chunks for patient: eeb1659b92b00e20bd8b6e7eef6b5c9d : 11025\n"
     ]
    },
    {
     "name": "stderr",
     "output_type": "stream",
     "text": [
      "\r",
      "          \r",
      "\r",
      "          \r",
      " 63%|██████▎   | 1000/1595 [32:11<19:09,  1.93s/it]\r",
      " 63%|██████▎   | 1001/1595 [32:11<20:08,  2.03s/it]"
     ]
    },
    {
     "name": "stdout",
     "output_type": "stream",
     "text": [
      "chunks for patient: 15aa585fb2d3018b295df8619f2d1cf7 : 11025\n"
     ]
    },
    {
     "name": "stderr",
     "output_type": "stream",
     "text": [
      "\r",
      "          \r",
      "\r",
      "          \r",
      " 63%|██████▎   | 1001/1595 [32:13<19:07,  1.93s/it]\r",
      " 63%|██████▎   | 1002/1595 [32:13<21:43,  2.20s/it]"
     ]
    },
    {
     "name": "stdout",
     "output_type": "stream",
     "text": [
      "chunks for patient: 2dabff545dbfcb9e0efd92220c6aebcc : 19600\n"
     ]
    },
    {
     "name": "stderr",
     "output_type": "stream",
     "text": [
      "\r",
      "          \r",
      "\r",
      "          \r",
      " 63%|██████▎   | 1002/1595 [32:15<19:05,  1.93s/it]\r",
      " 63%|██████▎   | 1003/1595 [32:15<19:38,  1.99s/it]"
     ]
    },
    {
     "name": "stdout",
     "output_type": "stream",
     "text": [
      "chunks for patient: 4aa3131e76b28e30235664087407edc3 : 9680\n"
     ]
    },
    {
     "name": "stderr",
     "output_type": "stream",
     "text": [
      "\r",
      "          \r",
      "\r",
      "          \r",
      " 63%|██████▎   | 1003/1595 [32:17<19:03,  1.93s/it]\r",
      " 63%|██████▎   | 1004/1595 [32:17<20:41,  2.10s/it]"
     ]
    },
    {
     "name": "stdout",
     "output_type": "stream",
     "text": [
      "chunks for patient: dc66d11755fd073a59743d0df6b62ee2 : 17500\n"
     ]
    },
    {
     "name": "stderr",
     "output_type": "stream",
     "text": [
      "\r",
      "          \r",
      "\r",
      "          \r",
      " 63%|██████▎   | 1004/1595 [32:20<19:02,  1.93s/it]\r",
      " 63%|██████▎   | 1005/1595 [32:20<21:39,  2.20s/it]"
     ]
    },
    {
     "name": "stdout",
     "output_type": "stream",
     "text": [
      "chunks for patient: 02801e3bbcc6966cb115a962012c35df : 16900\n"
     ]
    },
    {
     "name": "stderr",
     "output_type": "stream",
     "text": [
      "\r",
      "          \r",
      "\r",
      "          \r",
      " 63%|██████▎   | 1005/1595 [32:22<19:00,  1.93s/it]\r",
      " 63%|██████▎   | 1006/1595 [32:22<22:25,  2.28s/it]"
     ]
    },
    {
     "name": "stdout",
     "output_type": "stream",
     "text": [
      "chunks for patient: bdc2daa372a36f6f7c72abdc0b5639d1 : 16464\n"
     ]
    },
    {
     "name": "stderr",
     "output_type": "stream",
     "text": [
      "\r",
      "          \r",
      "\r",
      "          \r",
      " 63%|██████▎   | 1006/1595 [32:25<18:59,  1.93s/it]\r",
      " 63%|██████▎   | 1007/1595 [32:25<23:56,  2.44s/it]"
     ]
    },
    {
     "name": "stdout",
     "output_type": "stream",
     "text": [
      "chunks for patient: fa7bf17071e3234ab1f350341303b174 : 17576\n"
     ]
    },
    {
     "name": "stderr",
     "output_type": "stream",
     "text": [
      "\r",
      "          \r",
      "\r",
      "          \r",
      " 63%|██████▎   | 1007/1595 [32:28<18:57,  1.93s/it]\r",
      " 63%|██████▎   | 1008/1595 [32:28<25:35,  2.62s/it]"
     ]
    },
    {
     "name": "stdout",
     "output_type": "stream",
     "text": [
      "chunks for patient: ea3a771ef05e288409e0250ea893cf87 : 17576\n"
     ]
    },
    {
     "name": "stderr",
     "output_type": "stream",
     "text": [
      "\r",
      "          \r",
      "\r",
      "          \r",
      " 63%|██████▎   | 1008/1595 [32:30<18:55,  1.93s/it]\r",
      " 63%|██████▎   | 1009/1595 [32:30<22:42,  2.32s/it]"
     ]
    },
    {
     "name": "stdout",
     "output_type": "stream",
     "text": [
      "chunks for patient: 7fd5be8ec9c236c314f801384bd89c0c : 12167\n"
     ]
    },
    {
     "name": "stderr",
     "output_type": "stream",
     "text": [
      "\r",
      "          \r",
      "\r",
      "          \r",
      " 63%|██████▎   | 1009/1595 [32:33<18:54,  1.94s/it]\r",
      " 63%|██████▎   | 1010/1595 [32:33<25:03,  2.57s/it]"
     ]
    },
    {
     "name": "stdout",
     "output_type": "stream",
     "text": [
      "chunks for patient: a906cd7c6ad05c27216125485d2b7322 : 18954\n"
     ]
    },
    {
     "name": "stderr",
     "output_type": "stream",
     "text": [
      "\r",
      "          \r",
      "\r",
      "          \r",
      " 63%|██████▎   | 1010/1595 [32:35<18:52,  1.94s/it]\r",
      " 63%|██████▎   | 1011/1595 [32:35<23:47,  2.44s/it]"
     ]
    },
    {
     "name": "stdout",
     "output_type": "stream",
     "text": [
      "chunks for patient: 323792e42c4f43448b2b1a9651ecb779 : 16224\n"
     ]
    },
    {
     "name": "stderr",
     "output_type": "stream",
     "text": [
      "\r",
      "          \r",
      "\r",
      "          \r",
      " 63%|██████▎   | 1011/1595 [32:37<18:50,  1.94s/it]\r",
      " 63%|██████▎   | 1012/1595 [32:37<23:01,  2.37s/it]"
     ]
    },
    {
     "name": "stdout",
     "output_type": "stream",
     "text": [
      "chunks for patient: 3170d41d2bc132db30399fca6bc6f376 : 15625\n"
     ]
    },
    {
     "name": "stderr",
     "output_type": "stream",
     "text": [
      "\r",
      "          \r",
      "\r",
      "          \r",
      " 63%|██████▎   | 1012/1595 [32:39<18:48,  1.94s/it]\r",
      " 64%|██████▎   | 1013/1595 [32:39<20:09,  2.08s/it]"
     ]
    },
    {
     "name": "stdout",
     "output_type": "stream",
     "text": [
      "chunks for patient: 2143d78ca33eb69f667edd80ddbff6de : 9200\n"
     ]
    },
    {
     "name": "stderr",
     "output_type": "stream",
     "text": [
      "\r",
      "          \r",
      "\r",
      "          \r",
      " 64%|██████▎   | 1013/1595 [32:42<18:47,  1.94s/it]\r",
      " 64%|██████▎   | 1014/1595 [32:42<23:25,  2.42s/it]"
     ]
    },
    {
     "name": "stdout",
     "output_type": "stream",
     "text": [
      "chunks for patient: 8f0c4220a437192a30ae06d82bf78885 : 24389\n"
     ]
    },
    {
     "name": "stderr",
     "output_type": "stream",
     "text": [
      "\r",
      "          \r",
      "\r",
      "          \r",
      " 64%|██████▎   | 1014/1595 [32:43<18:45,  1.94s/it]\r",
      " 64%|██████▎   | 1015/1595 [32:43<21:07,  2.19s/it]"
     ]
    },
    {
     "name": "stdout",
     "output_type": "stream",
     "text": [
      "chunks for patient: 54162a514a5e2beb54e4b7aff41f5dfe : 12167\n"
     ]
    },
    {
     "name": "stderr",
     "output_type": "stream",
     "text": [
      "\r",
      "          \r",
      "\r",
      "          \r",
      " 64%|██████▎   | 1015/1595 [32:45<18:43,  1.94s/it]\r",
      " 64%|██████▎   | 1016/1595 [32:45<20:06,  2.08s/it]"
     ]
    },
    {
     "name": "stdout",
     "output_type": "stream",
     "text": [
      "chunks for patient: 9cc74e673ec9807ee055973e1b185624 : 13248\n"
     ]
    },
    {
     "name": "stderr",
     "output_type": "stream",
     "text": [
      "\r",
      "          \r",
      "\r",
      "          \r",
      " 64%|██████▎   | 1016/1595 [32:48<18:41,  1.94s/it]\r",
      " 64%|██████▍   | 1017/1595 [32:48<20:56,  2.17s/it]"
     ]
    },
    {
     "name": "stdout",
     "output_type": "stream",
     "text": [
      "chunks for patient: f77fd9fd7966b346ce8e7efcb96c7c53 : 16224\n"
     ]
    },
    {
     "name": "stderr",
     "output_type": "stream",
     "text": [
      "\r",
      "          \r",
      "\r",
      "          \r",
      " 64%|██████▍   | 1017/1595 [32:49<18:39,  1.94s/it]\r",
      " 64%|██████▍   | 1018/1595 [32:49<18:34,  1.93s/it]"
     ]
    },
    {
     "name": "stdout",
     "output_type": "stream",
     "text": [
      "chunks for patient: 868b024d9fa388b7ddab12ec1c06af38 : 11109\n"
     ]
    },
    {
     "name": "stderr",
     "output_type": "stream",
     "text": [
      "\r",
      "          \r",
      "\r",
      "          \r",
      " 64%|██████▍   | 1018/1595 [32:51<18:37,  1.94s/it]\r",
      " 64%|██████▍   | 1019/1595 [32:51<18:59,  1.98s/it]"
     ]
    },
    {
     "name": "stdout",
     "output_type": "stream",
     "text": [
      "chunks for patient: da8fea00d3e921e5d8ab4d90a7f6002f : 14872\n"
     ]
    },
    {
     "name": "stderr",
     "output_type": "stream",
     "text": [
      "\r",
      "          \r",
      "\r",
      "          \r",
      " 64%|██████▍   | 1019/1595 [32:52<18:35,  1.94s/it]\r",
      " 64%|██████▍   | 1020/1595 [32:52<17:01,  1.78s/it]"
     ]
    },
    {
     "name": "stdout",
     "output_type": "stream",
     "text": [
      "chunks for patient: b4db5b96c65a668a2e63f9a3ed36afe7 : 9702\n"
     ]
    },
    {
     "name": "stderr",
     "output_type": "stream",
     "text": [
      "\r",
      "          \r",
      "\r",
      "          \r",
      " 64%|██████▍   | 1020/1595 [32:54<18:33,  1.94s/it]\r",
      " 64%|██████▍   | 1021/1595 [32:54<17:48,  1.86s/it]"
     ]
    },
    {
     "name": "stdout",
     "output_type": "stream",
     "text": [
      "chunks for patient: bc848c4d50c2f72fdcc1102475b56525 : 15309\n"
     ]
    },
    {
     "name": "stderr",
     "output_type": "stream",
     "text": [
      "\r",
      "          \r",
      "\r",
      "          \r",
      " 64%|██████▍   | 1021/1595 [32:56<18:31,  1.94s/it]\r",
      " 64%|██████▍   | 1022/1595 [32:56<17:56,  1.88s/it]"
     ]
    },
    {
     "name": "stdout",
     "output_type": "stream",
     "text": [
      "chunks for patient: d89499632a4c7bde0923003497ffc5ea : 15548\n"
     ]
    },
    {
     "name": "stderr",
     "output_type": "stream",
     "text": [
      "\r",
      "          \r",
      "\r",
      "          \r",
      " 64%|██████▍   | 1022/1595 [32:58<18:29,  1.94s/it]\r",
      " 64%|██████▍   | 1023/1595 [32:58<17:52,  1.88s/it]"
     ]
    },
    {
     "name": "stdout",
     "output_type": "stream",
     "text": [
      "chunks for patient: 3d4e602819dca0f5eb48953841ff11d6 : 15000\n"
     ]
    },
    {
     "name": "stderr",
     "output_type": "stream",
     "text": [
      "\r",
      "          \r",
      "\r",
      "          \r",
      " 64%|██████▍   | 1023/1595 [33:00<18:27,  1.94s/it]\r",
      " 64%|██████▍   | 1024/1595 [33:00<16:16,  1.71s/it]"
     ]
    },
    {
     "name": "stdout",
     "output_type": "stream",
     "text": [
      "chunks for patient: 763ce10dfdd4662f15de3f5931d5534b : 12672\n"
     ]
    },
    {
     "name": "stderr",
     "output_type": "stream",
     "text": [
      "\r",
      "          \r",
      "\r",
      "          \r",
      " 64%|██████▍   | 1024/1595 [33:02<18:25,  1.94s/it]\r",
      " 64%|██████▍   | 1025/1595 [33:02<16:56,  1.78s/it]"
     ]
    },
    {
     "name": "stdout",
     "output_type": "stream",
     "text": [
      "chunks for patient: 662153a685fb4268361bfbaca5e9ca23 : 12672\n"
     ]
    },
    {
     "name": "stderr",
     "output_type": "stream",
     "text": [
      "\r",
      "          \r",
      "\r",
      "          \r",
      " 64%|██████▍   | 1025/1595 [33:03<18:23,  1.94s/it]\r",
      " 64%|██████▍   | 1026/1595 [33:03<17:11,  1.81s/it]"
     ]
    },
    {
     "name": "stdout",
     "output_type": "stream",
     "text": [
      "chunks for patient: 668bb968918c63fad7d65581825b1048 : 16224\n"
     ]
    },
    {
     "name": "stderr",
     "output_type": "stream",
     "text": [
      "\r",
      "          \r",
      "\r",
      "          \r",
      " 64%|██████▍   | 1026/1595 [33:05<18:21,  1.94s/it]\r",
      " 64%|██████▍   | 1027/1595 [33:05<16:31,  1.75s/it]"
     ]
    },
    {
     "name": "stdout",
     "output_type": "stream",
     "text": [
      "chunks for patient: 34cb3ac3d04e0d961e7578713bee6bb2 : 12672\n"
     ]
    },
    {
     "name": "stderr",
     "output_type": "stream",
     "text": [
      "\r",
      "          \r",
      "\r",
      "          \r",
      " 64%|██████▍   | 1027/1595 [33:07<18:19,  1.94s/it]\r",
      " 64%|██████▍   | 1028/1595 [33:07<17:58,  1.90s/it]"
     ]
    },
    {
     "name": "stdout",
     "output_type": "stream",
     "text": [
      "chunks for patient: 5bb9185543527cd034aa48fc0b623874 : 18032\n"
     ]
    },
    {
     "name": "stderr",
     "output_type": "stream",
     "text": [
      "\r",
      "          \r",
      "\r",
      "          \r",
      " 64%|██████▍   | 1028/1595 [33:09<18:17,  1.94s/it]\r",
      " 65%|██████▍   | 1029/1595 [33:09<18:25,  1.95s/it]"
     ]
    },
    {
     "name": "stdout",
     "output_type": "stream",
     "text": [
      "chunks for patient: 3295cec04482210dc6f78c2b4a1d287b : 16464\n"
     ]
    },
    {
     "name": "stderr",
     "output_type": "stream",
     "text": [
      "\r",
      "          \r",
      "\r",
      "          \r",
      " 65%|██████▍   | 1029/1595 [33:11<18:15,  1.94s/it]\r",
      " 65%|██████▍   | 1030/1595 [33:11<17:44,  1.88s/it]"
     ]
    },
    {
     "name": "stdout",
     "output_type": "stream",
     "text": [
      "chunks for patient: e4a87107f94e4a8e32b735d18cef1137 : 11616\n"
     ]
    },
    {
     "name": "stderr",
     "output_type": "stream",
     "text": [
      "\r",
      "          \r",
      "\r",
      "          \r",
      " 65%|██████▍   | 1030/1595 [33:13<18:13,  1.94s/it]\r",
      " 65%|██████▍   | 1031/1595 [33:13<17:41,  1.88s/it]"
     ]
    },
    {
     "name": "stdout",
     "output_type": "stream",
     "text": [
      "chunks for patient: 2950df9632577cb4b3af2dbfe2086b11 : 15625\n"
     ]
    },
    {
     "name": "stderr",
     "output_type": "stream",
     "text": [
      "\r",
      "          \r",
      "\r",
      "          \r",
      " 65%|██████▍   | 1031/1595 [33:16<18:12,  1.94s/it]\r",
      " 65%|██████▍   | 1032/1595 [33:16<20:34,  2.19s/it]"
     ]
    },
    {
     "name": "stdout",
     "output_type": "stream",
     "text": [
      "chunks for patient: 9d44fcc8ab801ac9244da4c016d0541e : 24576\n"
     ]
    },
    {
     "name": "stderr",
     "output_type": "stream",
     "text": [
      "\r",
      "          \r",
      "\r",
      "          \r",
      " 65%|██████▍   | 1032/1595 [33:18<18:10,  1.94s/it]\r",
      " 65%|██████▍   | 1033/1595 [33:18<19:16,  2.06s/it]"
     ]
    },
    {
     "name": "stdout",
     "output_type": "stream",
     "text": [
      "chunks for patient: d917c781760710015473eee9ce82e051 : 12167\n"
     ]
    },
    {
     "name": "stderr",
     "output_type": "stream",
     "text": [
      "\r",
      "          \r",
      "\r",
      "          \r",
      " 65%|██████▍   | 1033/1595 [33:19<18:08,  1.94s/it]\r",
      " 65%|██████▍   | 1034/1595 [33:19<18:47,  2.01s/it]"
     ]
    },
    {
     "name": "stdout",
     "output_type": "stream",
     "text": [
      "chunks for patient: 57822feb6186b788c4e1877123428454 : 13754\n"
     ]
    },
    {
     "name": "stderr",
     "output_type": "stream",
     "text": [
      "\r",
      "          \r",
      "\r",
      "          \r",
      " 65%|██████▍   | 1034/1595 [33:22<18:06,  1.94s/it]\r",
      " 65%|██████▍   | 1035/1595 [33:22<20:42,  2.22s/it]"
     ]
    },
    {
     "name": "stdout",
     "output_type": "stream",
     "text": [
      "chunks for patient: 93a6f37a72f60498986374f57bfc30c4 : 21025\n"
     ]
    },
    {
     "name": "stderr",
     "output_type": "stream",
     "text": [
      "\r",
      "          \r",
      "\r",
      "          \r",
      " 65%|██████▍   | 1035/1595 [33:24<18:04,  1.94s/it]\r",
      " 65%|██████▍   | 1036/1595 [33:24<18:25,  1.98s/it]"
     ]
    },
    {
     "name": "stdout",
     "output_type": "stream",
     "text": [
      "chunks for patient: fe26fd2bb25112b3c2ca93eb8e34f8ed : 12167\n"
     ]
    },
    {
     "name": "stderr",
     "output_type": "stream",
     "text": [
      "\r",
      "          \r",
      "\r",
      "          \r",
      " 65%|██████▍   | 1036/1595 [33:27<18:03,  1.94s/it]\r",
      " 65%|██████▌   | 1037/1595 [33:27<21:27,  2.31s/it]"
     ]
    },
    {
     "name": "stdout",
     "output_type": "stream",
     "text": [
      "chunks for patient: 34b00e3b98072207edd20732558f7ab5 : 24025\n"
     ]
    },
    {
     "name": "stderr",
     "output_type": "stream",
     "text": [
      "\r",
      "          \r",
      "\r",
      "          \r",
      " 65%|██████▌   | 1037/1595 [33:28<18:00,  1.94s/it]\r",
      " 65%|██████▌   | 1038/1595 [33:28<18:38,  2.01s/it]"
     ]
    },
    {
     "name": "stdout",
     "output_type": "stream",
     "text": [
      "chunks for patient: 58bf189f6021ecea213c13eed7484d84 : 11109\n"
     ]
    },
    {
     "name": "stderr",
     "output_type": "stream",
     "text": [
      "\r",
      "          \r",
      "\r",
      "          \r",
      " 65%|██████▌   | 1038/1595 [33:31<17:59,  1.94s/it]\r",
      " 65%|██████▌   | 1039/1595 [33:31<20:09,  2.18s/it]"
     ]
    },
    {
     "name": "stdout",
     "output_type": "stream",
     "text": [
      "chunks for patient: 4575fe61bf3f536ce6cfeb26fcc2893c : 20184\n"
     ]
    },
    {
     "name": "stderr",
     "output_type": "stream",
     "text": [
      "\r",
      "          \r",
      "\r",
      "          \r",
      " 65%|██████▌   | 1039/1595 [33:32<17:57,  1.94s/it]\r",
      " 65%|██████▌   | 1040/1595 [33:32<18:27,  2.00s/it]"
     ]
    },
    {
     "name": "stdout",
     "output_type": "stream",
     "text": [
      "chunks for patient: 3ee1fd6a0f3f108c3558e6699fb011f2 : 13248\n"
     ]
    },
    {
     "name": "stderr",
     "output_type": "stream",
     "text": [
      "\r",
      "          \r",
      "\r",
      "          \r",
      " 65%|██████▌   | 1040/1595 [33:34<17:54,  1.94s/it]\r",
      " 65%|██████▌   | 1041/1595 [33:34<17:15,  1.87s/it]"
     ]
    },
    {
     "name": "stdout",
     "output_type": "stream",
     "text": [
      "chunks for patient: 6675d3cc20585f44d4c45746cb1002d4 : 11520\n"
     ]
    },
    {
     "name": "stderr",
     "output_type": "stream",
     "text": [
      "\r",
      "          \r",
      "\r",
      "          \r",
      " 65%|██████▌   | 1041/1595 [33:36<17:53,  1.94s/it]\r",
      " 65%|██████▌   | 1042/1595 [33:36<18:06,  1.96s/it]"
     ]
    },
    {
     "name": "stdout",
     "output_type": "stream",
     "text": [
      "chunks for patient: 398208da1bcb6a88e11a7314065f13ff : 16767\n"
     ]
    },
    {
     "name": "stderr",
     "output_type": "stream",
     "text": [
      "\r",
      "          \r",
      "\r",
      "          \r",
      " 65%|██████▌   | 1042/1595 [33:37<17:50,  1.94s/it]\r",
      " 65%|██████▌   | 1043/1595 [33:37<16:50,  1.83s/it]"
     ]
    },
    {
     "name": "stdout",
     "output_type": "stream",
     "text": [
      "chunks for patient: 933cc0dec1c737d9654820453ce64284 : 12696\n"
     ]
    },
    {
     "name": "stderr",
     "output_type": "stream",
     "text": [
      "\r",
      "          \r",
      "\r",
      "          \r",
      " 65%|██████▌   | 1043/1595 [33:39<17:48,  1.94s/it]\r",
      " 65%|██████▌   | 1044/1595 [33:39<16:00,  1.74s/it]"
     ]
    },
    {
     "name": "stdout",
     "output_type": "stream",
     "text": [
      "chunks for patient: 383c27906392e9ce57f6ab5ef1cb6f62 : 11109\n"
     ]
    },
    {
     "name": "stderr",
     "output_type": "stream",
     "text": [
      "\r",
      "          \r",
      "\r",
      "          \r",
      " 65%|██████▌   | 1044/1595 [33:42<17:47,  1.94s/it]\r",
      " 66%|██████▌   | 1045/1595 [33:42<19:14,  2.10s/it]"
     ]
    },
    {
     "name": "stdout",
     "output_type": "stream",
     "text": [
      "chunks for patient: 573e900142c9e6e7b32ed9e5ffd5584c : 21025\n"
     ]
    },
    {
     "name": "stderr",
     "output_type": "stream",
     "text": [
      "\r",
      "          \r",
      "\r",
      "          \r",
      " 66%|██████▌   | 1045/1595 [33:43<17:45,  1.94s/it]\r",
      " 66%|██████▌   | 1046/1595 [33:43<17:26,  1.91s/it]"
     ]
    },
    {
     "name": "stdout",
     "output_type": "stream",
     "text": [
      "chunks for patient: 6af9fecd6807921fa9fe10f0391aa453 : 10580\n"
     ]
    },
    {
     "name": "stderr",
     "output_type": "stream",
     "text": [
      "\r",
      "          \r",
      "\r",
      "          \r",
      " 66%|██████▌   | 1046/1595 [33:45<17:43,  1.94s/it]\r",
      " 66%|██████▌   | 1047/1595 [33:45<16:56,  1.86s/it]"
     ]
    },
    {
     "name": "stdout",
     "output_type": "stream",
     "text": [
      "chunks for patient: 96dce4424dce5451ab0a068c58435c1b : 13225\n"
     ]
    },
    {
     "name": "stderr",
     "output_type": "stream",
     "text": [
      "\r",
      "          \r",
      "\r",
      "          \r",
      " 66%|██████▌   | 1047/1595 [33:47<17:40,  1.94s/it]\r",
      " 66%|██████▌   | 1048/1595 [33:47<15:55,  1.75s/it]"
     ]
    },
    {
     "name": "stdout",
     "output_type": "stream",
     "text": [
      "chunks for patient: 579dfed23d49414a2c080bbf9d7f958f : 12100\n"
     ]
    },
    {
     "name": "stderr",
     "output_type": "stream",
     "text": [
      "\r",
      "          \r",
      "\r",
      "          \r",
      " 66%|██████▌   | 1048/1595 [33:49<17:39,  1.94s/it]\r",
      " 66%|██████▌   | 1049/1595 [33:49<16:45,  1.84s/it]"
     ]
    },
    {
     "name": "stdout",
     "output_type": "stream",
     "text": [
      "chunks for patient: 494b9a6714921a446b32959ca291b050 : 18225\n"
     ]
    },
    {
     "name": "stderr",
     "output_type": "stream",
     "text": [
      "\r",
      "          \r",
      "\r",
      "          \r",
      " 66%|██████▌   | 1049/1595 [33:51<17:37,  1.94s/it]\r",
      " 66%|██████▌   | 1050/1595 [33:51<17:14,  1.90s/it]"
     ]
    },
    {
     "name": "stdout",
     "output_type": "stream",
     "text": [
      "chunks for patient: c0625c79ef5b37e293b5753d20b00c89 : 15000\n"
     ]
    },
    {
     "name": "stderr",
     "output_type": "stream",
     "text": [
      "\r",
      "          \r",
      "\r",
      "          \r",
      " 66%|██████▌   | 1050/1595 [33:53<17:35,  1.94s/it]\r",
      " 66%|██████▌   | 1051/1595 [33:53<17:41,  1.95s/it]"
     ]
    },
    {
     "name": "stdout",
     "output_type": "stream",
     "text": [
      "chunks for patient: 313efe2e7ecf18a8d484f8b42f30da3e : 16250\n"
     ]
    },
    {
     "name": "stderr",
     "output_type": "stream",
     "text": [
      "\r",
      "          \r",
      "\r",
      "          \r",
      " 66%|██████▌   | 1051/1595 [33:54<17:33,  1.94s/it]\r",
      " 66%|██████▌   | 1052/1595 [33:54<16:27,  1.82s/it]"
     ]
    },
    {
     "name": "stdout",
     "output_type": "stream",
     "text": [
      "chunks for patient: c14816a1a9a6852c6b0d88fe5585c8bb : 12672\n"
     ]
    },
    {
     "name": "stderr",
     "output_type": "stream",
     "text": [
      "\r",
      "          \r",
      "\r",
      "          \r",
      " 66%|██████▌   | 1052/1595 [33:56<17:31,  1.94s/it]\r",
      " 66%|██████▌   | 1053/1595 [33:56<16:43,  1.85s/it]"
     ]
    },
    {
     "name": "stdout",
     "output_type": "stream",
     "text": [
      "chunks for patient: e977737394cee9abb19ad07310aae8eb : 14375\n"
     ]
    },
    {
     "name": "stderr",
     "output_type": "stream",
     "text": [
      "\r",
      "          \r",
      "\r",
      "          \r",
      " 66%|██████▌   | 1053/1595 [33:58<17:29,  1.94s/it]\r",
      " 66%|██████▌   | 1054/1595 [33:58<17:39,  1.96s/it]"
     ]
    },
    {
     "name": "stdout",
     "output_type": "stream",
     "text": [
      "chunks for patient: 0c98fcb55e3f36d0c2b6507f62f4c5f1 : 17576\n"
     ]
    },
    {
     "name": "stderr",
     "output_type": "stream",
     "text": [
      "\r",
      "          \r",
      "\r",
      "          \r",
      " 66%|██████▌   | 1054/1595 [34:01<17:27,  1.94s/it]\r",
      " 66%|██████▌   | 1055/1595 [34:01<19:28,  2.16s/it]"
     ]
    },
    {
     "name": "stdout",
     "output_type": "stream",
     "text": [
      "chunks for patient: 21bdacdcdb87bf401f34d5d582247c77 : 18032\n"
     ]
    },
    {
     "name": "stderr",
     "output_type": "stream",
     "text": [
      "\r",
      "          \r",
      "\r",
      "          \r",
      " 66%|██████▌   | 1055/1595 [34:03<17:26,  1.94s/it]\r",
      " 66%|██████▌   | 1056/1595 [34:03<19:19,  2.15s/it]"
     ]
    },
    {
     "name": "stdout",
     "output_type": "stream",
     "text": [
      "chunks for patient: 5da3dd09c0d0d597287a9a1046cced37 : 18032\n"
     ]
    },
    {
     "name": "stderr",
     "output_type": "stream",
     "text": [
      "\r",
      "          \r",
      "\r",
      "          \r",
      " 66%|██████▌   | 1056/1595 [34:05<17:23,  1.94s/it]\r",
      " 66%|██████▋   | 1057/1595 [34:05<17:29,  1.95s/it]"
     ]
    },
    {
     "name": "stdout",
     "output_type": "stream",
     "text": [
      "chunks for patient: d2282b0eb61b8d3b090cf8eb76776529 : 13225\n"
     ]
    },
    {
     "name": "stderr",
     "output_type": "stream",
     "text": [
      "\r",
      "          \r",
      "\r",
      "          \r",
      " 66%|██████▋   | 1057/1595 [34:07<17:21,  1.94s/it]\r",
      " 66%|██████▋   | 1058/1595 [34:07<17:21,  1.94s/it]"
     ]
    },
    {
     "name": "stdout",
     "output_type": "stream",
     "text": [
      "chunks for patient: 07bca4290a2530091ce1d5f200d9d526 : 16224\n"
     ]
    },
    {
     "name": "stderr",
     "output_type": "stream",
     "text": [
      "\r",
      "          \r",
      "\r",
      "          \r",
      " 66%|██████▋   | 1058/1595 [34:08<17:19,  1.94s/it]\r",
      " 66%|██████▋   | 1059/1595 [34:08<15:40,  1.75s/it]"
     ]
    },
    {
     "name": "stdout",
     "output_type": "stream",
     "text": [
      "chunks for patient: fad57a1078ddbc685e517bd8f24aa8ac : 10584\n"
     ]
    },
    {
     "name": "stderr",
     "output_type": "stream",
     "text": [
      "\r",
      "          \r",
      "\r",
      "          \r",
      " 66%|██████▋   | 1059/1595 [34:11<17:18,  1.94s/it]\r",
      " 66%|██████▋   | 1060/1595 [34:11<19:26,  2.18s/it]"
     ]
    },
    {
     "name": "stdout",
     "output_type": "stream",
     "text": [
      "chunks for patient: 9f52323d216f89d300612cfac0122d8b : 24576\n"
     ]
    },
    {
     "name": "stderr",
     "output_type": "stream",
     "text": [
      "\r",
      "          \r",
      "\r",
      "          \r",
      " 66%|██████▋   | 1060/1595 [34:13<17:16,  1.94s/it]\r",
      " 67%|██████▋   | 1061/1595 [34:13<18:27,  2.07s/it]"
     ]
    },
    {
     "name": "stdout",
     "output_type": "stream",
     "text": [
      "chunks for patient: ee9c580272cd02741df7299892602ac7 : 13750\n"
     ]
    },
    {
     "name": "stderr",
     "output_type": "stream",
     "text": [
      "\r",
      "          \r",
      "\r",
      "          \r",
      " 67%|██████▋   | 1061/1595 [34:15<17:14,  1.94s/it]\r",
      " 67%|██████▋   | 1062/1595 [34:15<18:23,  2.07s/it]"
     ]
    },
    {
     "name": "stdout",
     "output_type": "stream",
     "text": [
      "chunks for patient: 552ef3f04be2073d2cf8a52431576c24 : 13248\n"
     ]
    },
    {
     "name": "stderr",
     "output_type": "stream",
     "text": [
      "\r",
      "          \r",
      "\r",
      "          \r",
      " 67%|██████▋   | 1062/1595 [34:16<17:12,  1.94s/it]\r",
      " 67%|██████▋   | 1063/1595 [34:16<15:24,  1.74s/it]"
     ]
    },
    {
     "name": "stdout",
     "output_type": "stream",
     "text": [
      "chunks for patient: 66fb40934f0be4b301fe27db7fb62299 : 7452\n"
     ]
    },
    {
     "name": "stderr",
     "output_type": "stream",
     "text": [
      "\r",
      "          \r",
      "\r",
      "          \r",
      " 67%|██████▋   | 1063/1595 [34:18<17:09,  1.94s/it]\r",
      " 67%|██████▋   | 1064/1595 [34:18<15:08,  1.71s/it]"
     ]
    },
    {
     "name": "stdout",
     "output_type": "stream",
     "text": [
      "chunks for patient: e1e47812eecd80466cf7f5b0160de446 : 12696\n"
     ]
    },
    {
     "name": "stderr",
     "output_type": "stream",
     "text": [
      "\r",
      "          \r",
      "\r",
      "          \r",
      " 67%|██████▋   | 1064/1595 [34:20<17:08,  1.94s/it]\r",
      " 67%|██████▋   | 1065/1595 [34:20<16:42,  1.89s/it]"
     ]
    },
    {
     "name": "stdout",
     "output_type": "stream",
     "text": [
      "chunks for patient: 80bda1afde73204abd74d1ebd2758382 : 18252\n"
     ]
    },
    {
     "name": "stderr",
     "output_type": "stream",
     "text": [
      "\r",
      "          \r",
      "\r",
      "          \r",
      " 67%|██████▋   | 1065/1595 [34:21<17:06,  1.94s/it]\r",
      " 67%|██████▋   | 1066/1595 [34:21<15:52,  1.80s/it]"
     ]
    },
    {
     "name": "stdout",
     "output_type": "stream",
     "text": [
      "chunks for patient: 7ce310b8431ace09a91ededcc03f7361 : 12096\n"
     ]
    },
    {
     "name": "stderr",
     "output_type": "stream",
     "text": [
      "\r",
      "          \r",
      "\r",
      "          \r",
      " 67%|██████▋   | 1066/1595 [34:24<17:04,  1.94s/it]\r",
      " 67%|██████▋   | 1067/1595 [34:24<16:54,  1.92s/it]"
     ]
    },
    {
     "name": "stdout",
     "output_type": "stream",
     "text": [
      "chunks for patient: 9e922147900b3984c9345bdda573e882 : 17576\n"
     ]
    },
    {
     "name": "stderr",
     "output_type": "stream",
     "text": [
      "\r",
      "          \r",
      "\r",
      "          \r",
      " 67%|██████▋   | 1067/1595 [34:26<17:02,  1.94s/it]\r",
      " 67%|██████▋   | 1068/1595 [34:26<19:14,  2.19s/it]"
     ]
    },
    {
     "name": "stdout",
     "output_type": "stream",
     "text": [
      "chunks for patient: 995fc0581ed0e3ba0f97dbd7fe63db59 : 21025\n"
     ]
    },
    {
     "name": "stderr",
     "output_type": "stream",
     "text": [
      "\r",
      "          \r",
      "\r",
      "          \r",
      " 67%|██████▋   | 1068/1595 [34:29<17:01,  1.94s/it]\r",
      " 67%|██████▋   | 1069/1595 [34:29<20:15,  2.31s/it]"
     ]
    },
    {
     "name": "stdout",
     "output_type": "stream",
     "text": [
      "chunks for patient: 76a77d945cd4c568f3b602957e1ec031 : 20280\n"
     ]
    },
    {
     "name": "stderr",
     "output_type": "stream",
     "text": [
      "\r",
      "          \r",
      "\r",
      "          \r",
      " 67%|██████▋   | 1069/1595 [34:31<16:59,  1.94s/it]\r",
      " 67%|██████▋   | 1070/1595 [34:31<19:47,  2.26s/it]"
     ]
    },
    {
     "name": "stdout",
     "output_type": "stream",
     "text": [
      "chunks for patient: 2ea91bfe303ec03f9b0b3603333a3de6 : 15000\n"
     ]
    },
    {
     "name": "stderr",
     "output_type": "stream",
     "text": [
      "\r",
      "          \r",
      "\r",
      "          \r",
      " 67%|██████▋   | 1070/1595 [34:34<16:57,  1.94s/it]\r",
      " 67%|██████▋   | 1071/1595 [34:34<19:55,  2.28s/it]"
     ]
    },
    {
     "name": "stdout",
     "output_type": "stream",
     "text": [
      "chunks for patient: 76e54792d7f5543f734e0906ea8f36c5 : 16224\n"
     ]
    },
    {
     "name": "stderr",
     "output_type": "stream",
     "text": [
      "\r",
      "          \r",
      "\r",
      "          \r",
      " 67%|██████▋   | 1071/1595 [34:35<16:55,  1.94s/it]\r",
      " 67%|██████▋   | 1072/1595 [34:35<18:23,  2.11s/it]"
     ]
    },
    {
     "name": "stdout",
     "output_type": "stream",
     "text": [
      "chunks for patient: 3b59edf7e74fcff927c912efc0e80f3a : 13824\n"
     ]
    },
    {
     "name": "stderr",
     "output_type": "stream",
     "text": [
      "\r",
      "          \r",
      "\r",
      "          \r",
      " 67%|██████▋   | 1072/1595 [34:38<16:53,  1.94s/it]\r",
      " 67%|██████▋   | 1073/1595 [34:38<19:28,  2.24s/it]"
     ]
    },
    {
     "name": "stdout",
     "output_type": "stream",
     "text": [
      "chunks for patient: bbf958c2331a553d5699a1369b7f2bbf : 18225\n"
     ]
    },
    {
     "name": "stderr",
     "output_type": "stream",
     "text": [
      "\r",
      "          \r",
      "\r",
      "          \r",
      " 67%|██████▋   | 1073/1595 [34:39<16:51,  1.94s/it]\r",
      " 67%|██████▋   | 1074/1595 [34:39<18:07,  2.09s/it]"
     ]
    },
    {
     "name": "stdout",
     "output_type": "stream",
     "text": [
      "chunks for patient: 78459ff46c9f3b3fa26be2a467515c7e : 13520\n"
     ]
    },
    {
     "name": "stderr",
     "output_type": "stream",
     "text": [
      "\r",
      "          \r",
      "\r",
      "          \r",
      " 67%|██████▋   | 1074/1595 [34:41<16:49,  1.94s/it]\r",
      " 67%|██████▋   | 1075/1595 [34:41<17:06,  1.97s/it]"
     ]
    },
    {
     "name": "stdout",
     "output_type": "stream",
     "text": [
      "chunks for patient: 2fa939efbc3e1c2bc57ba5a98922ff3b : 14872\n"
     ]
    },
    {
     "name": "stderr",
     "output_type": "stream",
     "text": [
      "\r",
      "          \r",
      "\r",
      "          \r",
      " 67%|██████▋   | 1075/1595 [34:42<16:47,  1.94s/it]\r",
      " 67%|██████▋   | 1076/1595 [34:42<15:02,  1.74s/it]"
     ]
    },
    {
     "name": "stdout",
     "output_type": "stream",
     "text": [
      "chunks for patient: be57c648eb683a31e8499e278a89c5a0 : 8664\n"
     ]
    },
    {
     "name": "stderr",
     "output_type": "stream",
     "text": [
      "\r",
      "          \r",
      "\r",
      "          \r",
      " 67%|██████▋   | 1076/1595 [34:44<16:45,  1.94s/it]\r",
      " 68%|██████▊   | 1077/1595 [34:44<15:21,  1.78s/it]"
     ]
    },
    {
     "name": "stdout",
     "output_type": "stream",
     "text": [
      "chunks for patient: a784a51caee14229d46777f2a9770a5f : 14872\n"
     ]
    },
    {
     "name": "stderr",
     "output_type": "stream",
     "text": [
      "\r",
      "          \r",
      "\r",
      "          \r",
      " 68%|██████▊   | 1077/1595 [34:46<16:43,  1.94s/it]\r",
      " 68%|██████▊   | 1078/1595 [34:46<15:58,  1.85s/it]"
     ]
    },
    {
     "name": "stdout",
     "output_type": "stream",
     "text": [
      "chunks for patient: 35ab1899e939be4e67923a1624c91365 : 16900\n"
     ]
    },
    {
     "name": "stderr",
     "output_type": "stream",
     "text": [
      "\r",
      "          \r",
      "\r",
      "          \r",
      " 68%|██████▊   | 1078/1595 [34:49<16:41,  1.94s/it]\r",
      " 68%|██████▊   | 1079/1595 [34:49<16:58,  1.97s/it]"
     ]
    },
    {
     "name": "stdout",
     "output_type": "stream",
     "text": [
      "chunks for patient: d03127f497cae40bcbd9996b4d1f5b90 : 15680\n"
     ]
    },
    {
     "name": "stderr",
     "output_type": "stream",
     "text": [
      "\r",
      "          \r",
      "\r",
      "          \r",
      " 68%|██████▊   | 1079/1595 [34:51<16:40,  1.94s/it]\r",
      " 68%|██████▊   | 1080/1595 [34:51<17:52,  2.08s/it]"
     ]
    },
    {
     "name": "stdout",
     "output_type": "stream",
     "text": [
      "chunks for patient: 25782c40c29f7d774f8b644f3e68b590 : 20384\n"
     ]
    },
    {
     "name": "stderr",
     "output_type": "stream",
     "text": [
      "\r",
      "          \r",
      "\r",
      "          \r",
      " 68%|██████▊   | 1080/1595 [34:52<16:38,  1.94s/it]\r",
      " 68%|██████▊   | 1081/1595 [34:52<16:29,  1.93s/it]"
     ]
    },
    {
     "name": "stdout",
     "output_type": "stream",
     "text": [
      "chunks for patient: 3f28787cc3343445a8c5ecc4dae27a25 : 13225\n"
     ]
    },
    {
     "name": "stderr",
     "output_type": "stream",
     "text": [
      "\r",
      "          \r",
      "\r",
      "          \r",
      " 68%|██████▊   | 1081/1595 [34:55<16:36,  1.94s/it]\r",
      " 68%|██████▊   | 1082/1595 [34:55<16:47,  1.96s/it]"
     ]
    },
    {
     "name": "stdout",
     "output_type": "stream",
     "text": [
      "chunks for patient: 72a1e35c34052e163f61585ba0c9daf4 : 17661\n"
     ]
    },
    {
     "name": "stderr",
     "output_type": "stream",
     "text": [
      "\r",
      "          \r",
      "\r",
      "          \r",
      " 68%|██████▊   | 1082/1595 [34:56<16:34,  1.94s/it]\r",
      " 68%|██████▊   | 1083/1595 [34:56<15:46,  1.85s/it]"
     ]
    },
    {
     "name": "stdout",
     "output_type": "stream",
     "text": [
      "chunks for patient: 0030a160d58723ff36d73f41b170ec21 : 11616\n"
     ]
    },
    {
     "name": "stderr",
     "output_type": "stream",
     "text": [
      "\r",
      "          \r",
      "\r",
      "          \r",
      " 68%|██████▊   | 1083/1595 [34:58<16:32,  1.94s/it]\r",
      " 68%|██████▊   | 1084/1595 [34:58<15:58,  1.88s/it]"
     ]
    },
    {
     "name": "stdout",
     "output_type": "stream",
     "text": [
      "chunks for patient: 2365e0afe6844e955f3d4c23a16dc1a9 : 14196\n"
     ]
    },
    {
     "name": "stderr",
     "output_type": "stream",
     "text": [
      "\r",
      "          \r",
      "\r",
      "          \r",
      " 68%|██████▊   | 1084/1595 [35:00<16:30,  1.94s/it]\r",
      " 68%|██████▊   | 1085/1595 [35:00<15:35,  1.83s/it]"
     ]
    },
    {
     "name": "stdout",
     "output_type": "stream",
     "text": [
      "chunks for patient: da821546432756d377777d7f4c41ca2f : 14976\n"
     ]
    },
    {
     "name": "stderr",
     "output_type": "stream",
     "text": [
      "\r",
      "          \r",
      "\r",
      "          \r",
      " 68%|██████▊   | 1085/1595 [35:01<16:27,  1.94s/it]\r",
      " 68%|██████▊   | 1086/1595 [35:01<14:24,  1.70s/it]"
     ]
    },
    {
     "name": "stdout",
     "output_type": "stream",
     "text": [
      "chunks for patient: 80e01dfd642c5aea680852498ddabd28 : 10164\n"
     ]
    },
    {
     "name": "stderr",
     "output_type": "stream",
     "text": [
      "\r",
      "          \r",
      "\r",
      "          \r",
      " 68%|██████▊   | 1086/1595 [35:03<16:25,  1.94s/it]\r",
      " 68%|██████▊   | 1087/1595 [35:03<14:42,  1.74s/it]"
     ]
    },
    {
     "name": "stdout",
     "output_type": "stream",
     "text": [
      "chunks for patient: d6d5ed3055d084a6abf0f97af3fe2ff0 : 15548\n"
     ]
    },
    {
     "name": "stderr",
     "output_type": "stream",
     "text": [
      "\r",
      "          \r",
      "\r",
      "          \r",
      " 68%|██████▊   | 1087/1595 [35:05<16:23,  1.94s/it]\r",
      " 68%|██████▊   | 1088/1595 [35:05<15:17,  1.81s/it]"
     ]
    },
    {
     "name": "stdout",
     "output_type": "stream",
     "text": [
      "chunks for patient: 4fcf8b00ea7a99162dc70aba253ba669 : 16224\n"
     ]
    },
    {
     "name": "stderr",
     "output_type": "stream",
     "text": [
      "\r",
      "          \r",
      "\r",
      "          \r",
      " 68%|██████▊   | 1088/1595 [35:07<16:22,  1.94s/it]\r",
      " 68%|██████▊   | 1089/1595 [35:07<15:39,  1.86s/it]"
     ]
    },
    {
     "name": "stdout",
     "output_type": "stream",
     "text": [
      "chunks for patient: 28054f63c5a6ef24e06d8c34258babd6 : 16875\n"
     ]
    },
    {
     "name": "stderr",
     "output_type": "stream",
     "text": [
      "\r",
      "          \r",
      "\r",
      "          \r",
      " 68%|██████▊   | 1089/1595 [35:08<16:19,  1.94s/it]\r",
      " 68%|██████▊   | 1090/1595 [35:08<14:32,  1.73s/it]"
     ]
    },
    {
     "name": "stdout",
     "output_type": "stream",
     "text": [
      "chunks for patient: 28621a6988deb389673605447f46d3bb : 8379\n"
     ]
    },
    {
     "name": "stderr",
     "output_type": "stream",
     "text": [
      "\r",
      "          \r",
      "\r",
      "          \r",
      " 68%|██████▊   | 1090/1595 [35:11<16:18,  1.94s/it]\r",
      " 68%|██████▊   | 1091/1595 [35:11<15:37,  1.86s/it]"
     ]
    },
    {
     "name": "stdout",
     "output_type": "stream",
     "text": [
      "chunks for patient: e92a2ed80510513497d5252b001cfa3e : 15000\n"
     ]
    },
    {
     "name": "stderr",
     "output_type": "stream",
     "text": [
      "\r",
      "          \r",
      "\r",
      "          \r",
      " 68%|██████▊   | 1091/1595 [35:12<16:16,  1.94s/it]\r",
      " 68%|██████▊   | 1092/1595 [35:12<15:16,  1.82s/it]"
     ]
    },
    {
     "name": "stdout",
     "output_type": "stream",
     "text": [
      "chunks for patient: 63d907adcf3f12349a0c2c8921d38e89 : 11616\n"
     ]
    },
    {
     "name": "stderr",
     "output_type": "stream",
     "text": [
      "\r",
      "          \r",
      "\r",
      "          \r",
      " 68%|██████▊   | 1092/1595 [35:15<16:14,  1.94s/it]\r",
      " 69%|██████▊   | 1093/1595 [35:15<16:31,  1.97s/it]"
     ]
    },
    {
     "name": "stdout",
     "output_type": "stream",
     "text": [
      "chunks for patient: 1f6333bc3599f683403d6f0884aefe00 : 16224\n"
     ]
    },
    {
     "name": "stderr",
     "output_type": "stream",
     "text": [
      "\r",
      "          \r",
      "\r",
      "          \r",
      " 69%|██████▊   | 1093/1595 [35:17<16:12,  1.94s/it]\r",
      " 69%|██████▊   | 1094/1595 [35:17<16:58,  2.03s/it]"
     ]
    },
    {
     "name": "stdout",
     "output_type": "stream",
     "text": [
      "chunks for patient: ad914d487aae66bcc2a7760a959d8a7c : 13750\n"
     ]
    },
    {
     "name": "stderr",
     "output_type": "stream",
     "text": [
      "\r",
      "          \r",
      "\r",
      "          \r",
      " 69%|██████▊   | 1094/1595 [35:19<16:10,  1.94s/it]\r",
      " 69%|██████▊   | 1095/1595 [35:19<17:28,  2.10s/it]"
     ]
    },
    {
     "name": "stdout",
     "output_type": "stream",
     "text": [
      "chunks for patient: f63f2f63e2619012b4c798fd638c8b8a : 15000\n"
     ]
    },
    {
     "name": "stderr",
     "output_type": "stream",
     "text": [
      "\r",
      "          \r",
      "\r",
      "          \r",
      " 69%|██████▊   | 1095/1595 [35:21<16:08,  1.94s/it]\r",
      " 69%|██████▊   | 1096/1595 [35:21<17:38,  2.12s/it]"
     ]
    },
    {
     "name": "stdout",
     "output_type": "stream",
     "text": [
      "chunks for patient: 7ffe144af38f85d177af286c5d941ef1 : 18928\n"
     ]
    },
    {
     "name": "stderr",
     "output_type": "stream",
     "text": [
      "\r",
      "          \r",
      "\r",
      "          \r",
      " 69%|██████▊   | 1096/1595 [35:23<16:06,  1.94s/it]\r",
      " 69%|██████▉   | 1097/1595 [35:23<17:30,  2.11s/it]"
     ]
    },
    {
     "name": "stdout",
     "output_type": "stream",
     "text": [
      "chunks for patient: d92998a73d4654a442e6d6ba15bbb827 : 14400\n"
     ]
    },
    {
     "name": "stderr",
     "output_type": "stream",
     "text": [
      "\r",
      "          \r",
      "\r",
      "          \r",
      " 69%|██████▉   | 1097/1595 [35:25<16:04,  1.94s/it]\r",
      " 69%|██████▉   | 1098/1595 [35:25<16:34,  2.00s/it]"
     ]
    },
    {
     "name": "stdout",
     "output_type": "stream",
     "text": [
      "chunks for patient: e3423505ef6b43f03c5d7bde52a5a78c : 12096\n"
     ]
    },
    {
     "name": "stderr",
     "output_type": "stream",
     "text": [
      "\r",
      "          \r",
      "\r",
      "          \r",
      " 69%|██████▉   | 1098/1595 [35:27<16:02,  1.94s/it]\r",
      " 69%|██████▉   | 1099/1595 [35:27<16:23,  1.98s/it]"
     ]
    },
    {
     "name": "stdout",
     "output_type": "stream",
     "text": [
      "chunks for patient: fbaa8548e6c3753836579c7987d0034d : 12672\n"
     ]
    },
    {
     "name": "stderr",
     "output_type": "stream",
     "text": [
      "\r",
      "          \r",
      "\r",
      "          \r",
      " 69%|██████▉   | 1099/1595 [35:29<16:00,  1.94s/it]\r",
      " 69%|██████▉   | 1100/1595 [35:29<15:44,  1.91s/it]"
     ]
    },
    {
     "name": "stdout",
     "output_type": "stream",
     "text": [
      "chunks for patient: f725f46908f16062fd12c141eb47c6a7 : 11520\n"
     ]
    },
    {
     "name": "stderr",
     "output_type": "stream",
     "text": [
      "\r",
      "          \r",
      "\r",
      "          \r",
      " 69%|██████▉   | 1100/1595 [35:30<15:58,  1.94s/it]\r",
      " 69%|██████▉   | 1101/1595 [35:30<14:32,  1.77s/it]"
     ]
    },
    {
     "name": "stdout",
     "output_type": "stream",
     "text": [
      "chunks for patient: 9e680611b54f8fad7acf818b15385002 : 13225\n"
     ]
    },
    {
     "name": "stderr",
     "output_type": "stream",
     "text": [
      "\r",
      "          \r",
      "\r",
      "          \r",
      " 69%|██████▉   | 1101/1595 [35:32<15:56,  1.94s/it]\r",
      " 69%|██████▉   | 1102/1595 [35:32<15:39,  1.90s/it]"
     ]
    },
    {
     "name": "stdout",
     "output_type": "stream",
     "text": [
      "chunks for patient: 180737a8b34cf2c88b00dfad3e7556ae : 16875\n"
     ]
    },
    {
     "name": "stderr",
     "output_type": "stream",
     "text": [
      "\r",
      "          \r",
      "\r",
      "          \r",
      " 69%|██████▉   | 1102/1595 [35:35<15:55,  1.94s/it]\r",
      " 69%|██████▉   | 1103/1595 [35:35<18:25,  2.25s/it]"
     ]
    },
    {
     "name": "stdout",
     "output_type": "stream",
     "text": [
      "chunks for patient: e163325ccf00afde107c80dfce2bce80 : 20184\n"
     ]
    },
    {
     "name": "stderr",
     "output_type": "stream",
     "text": [
      "\r",
      "          \r",
      "\r",
      "          \r",
      " 69%|██████▉   | 1103/1595 [35:37<15:53,  1.94s/it]\r",
      " 69%|██████▉   | 1104/1595 [35:37<16:02,  1.96s/it]"
     ]
    },
    {
     "name": "stdout",
     "output_type": "stream",
     "text": [
      "chunks for patient: caddd8f856b110ed9bb52872e003193f : 8820\n"
     ]
    },
    {
     "name": "stderr",
     "output_type": "stream",
     "text": [
      "\r",
      "          \r",
      "\r",
      "          \r",
      " 69%|██████▉   | 1104/1595 [35:38<15:51,  1.94s/it]\r",
      " 69%|██████▉   | 1105/1595 [35:38<15:05,  1.85s/it]"
     ]
    },
    {
     "name": "stdout",
     "output_type": "stream",
     "text": [
      "chunks for patient: 862d1d80391d146b2cd02478a798b365 : 12844\n"
     ]
    },
    {
     "name": "stderr",
     "output_type": "stream",
     "text": [
      "\r",
      "          \r",
      "\r",
      "          \r",
      " 69%|██████▉   | 1105/1595 [35:40<15:49,  1.94s/it]\r",
      " 69%|██████▉   | 1106/1595 [35:40<15:08,  1.86s/it]"
     ]
    },
    {
     "name": "stdout",
     "output_type": "stream",
     "text": [
      "chunks for patient: 8264a875a465c029f28110c725fec283 : 16128\n"
     ]
    },
    {
     "name": "stderr",
     "output_type": "stream",
     "text": [
      "\r",
      "          \r",
      "\r",
      "          \r",
      " 69%|██████▉   | 1106/1595 [35:42<15:47,  1.94s/it]\r",
      " 69%|██████▉   | 1107/1595 [35:42<15:27,  1.90s/it]"
     ]
    },
    {
     "name": "stdout",
     "output_type": "stream",
     "text": [
      "chunks for patient: d654966fd2498de023552b830c07a659 : 16038\n"
     ]
    },
    {
     "name": "stderr",
     "output_type": "stream",
     "text": [
      "\r",
      "          \r",
      "\r",
      "          \r",
      " 69%|██████▉   | 1107/1595 [35:43<15:45,  1.94s/it]\r",
      " 69%|██████▉   | 1108/1595 [35:43<13:50,  1.71s/it]"
     ]
    },
    {
     "name": "stdout",
     "output_type": "stream",
     "text": [
      "chunks for patient: 7367ede966b44c6dce30b83345785671 : 10584\n"
     ]
    },
    {
     "name": "stderr",
     "output_type": "stream",
     "text": [
      "\r",
      "          \r",
      "\r",
      "          \r",
      " 69%|██████▉   | 1108/1595 [35:45<15:42,  1.94s/it]\r",
      " 70%|██████▉   | 1109/1595 [35:45<12:22,  1.53s/it]"
     ]
    },
    {
     "name": "stdout",
     "output_type": "stream",
     "text": [
      "chunks for patient: 92d5f6230c3b6f6256e57d30981c1aaf : 9261\n"
     ]
    },
    {
     "name": "stderr",
     "output_type": "stream",
     "text": [
      "\r",
      "          \r",
      "\r",
      "          \r",
      " 70%|██████▉   | 1109/1595 [35:46<15:40,  1.94s/it]\r",
      " 70%|██████▉   | 1110/1595 [35:46<12:17,  1.52s/it]"
     ]
    },
    {
     "name": "stdout",
     "output_type": "stream",
     "text": [
      "chunks for patient: 243038f7bb7787497c59bc17f04c6ed9 : 12096\n"
     ]
    },
    {
     "name": "stderr",
     "output_type": "stream",
     "text": [
      "\r",
      "          \r",
      "\r",
      "          \r",
      " 70%|██████▉   | 1110/1595 [35:48<15:38,  1.94s/it]\r",
      " 70%|██████▉   | 1111/1595 [35:48<13:13,  1.64s/it]"
     ]
    },
    {
     "name": "stdout",
     "output_type": "stream",
     "text": [
      "chunks for patient: 991a2fe88aeb9ef23bb011e3843c9105 : 14375\n"
     ]
    },
    {
     "name": "stderr",
     "output_type": "stream",
     "text": [
      "\r",
      "          \r",
      "\r",
      "          \r",
      " 70%|██████▉   | 1111/1595 [35:50<15:36,  1.94s/it]\r",
      " 70%|██████▉   | 1112/1595 [35:50<14:22,  1.79s/it]"
     ]
    },
    {
     "name": "stdout",
     "output_type": "stream",
     "text": [
      "chunks for patient: 0015ceb851d7251b8f399e39779d1e7d : 18928\n"
     ]
    },
    {
     "name": "stderr",
     "output_type": "stream",
     "text": [
      "\r",
      "          \r",
      "\r",
      "          \r",
      " 70%|██████▉   | 1112/1595 [35:51<15:34,  1.94s/it]\r",
      " 70%|██████▉   | 1113/1595 [35:51<13:25,  1.67s/it]"
     ]
    },
    {
     "name": "stdout",
     "output_type": "stream",
     "text": [
      "chunks for patient: f6a2e171a3be579b564cd855985ab9d1 : 11109\n"
     ]
    },
    {
     "name": "stderr",
     "output_type": "stream",
     "text": [
      "\r",
      "          \r",
      "\r",
      "          \r",
      " 70%|██████▉   | 1113/1595 [35:53<15:32,  1.93s/it]\r",
      " 70%|██████▉   | 1114/1595 [35:53<12:55,  1.61s/it]"
     ]
    },
    {
     "name": "stdout",
     "output_type": "stream",
     "text": [
      "chunks for patient: 5ae9ab473d59cd29262c47a741177b6e : 12096\n"
     ]
    },
    {
     "name": "stderr",
     "output_type": "stream",
     "text": [
      "\r",
      "          \r",
      "\r",
      "          \r",
      " 70%|██████▉   | 1114/1595 [35:55<15:30,  1.93s/it]\r",
      " 70%|██████▉   | 1115/1595 [35:55<13:46,  1.72s/it]"
     ]
    },
    {
     "name": "stdout",
     "output_type": "stream",
     "text": [
      "chunks for patient: 6b4837a316e688d0ba125cc1e545d383 : 13750\n"
     ]
    },
    {
     "name": "stderr",
     "output_type": "stream",
     "text": [
      "\r",
      "          \r",
      "\r",
      "          \r",
      " 70%|██████▉   | 1115/1595 [35:58<15:29,  1.94s/it]\r",
      " 70%|██████▉   | 1116/1595 [35:58<16:10,  2.03s/it]"
     ]
    },
    {
     "name": "stdout",
     "output_type": "stream",
     "text": [
      "chunks for patient: 10f03fe0b77d39c758d6fb12304edfdb : 17496\n"
     ]
    },
    {
     "name": "stderr",
     "output_type": "stream",
     "text": [
      "\r",
      "          \r",
      "\r",
      "          \r",
      " 70%|██████▉   | 1116/1595 [36:03<15:28,  1.94s/it]\r",
      " 70%|███████   | 1117/1595 [36:03<23:23,  2.94s/it]"
     ]
    },
    {
     "name": "stdout",
     "output_type": "stream",
     "text": [
      "chunks for patient: 0d06d764d3c07572074d468b4cff954f : 42284\n"
     ]
    },
    {
     "name": "stderr",
     "output_type": "stream",
     "text": [
      "\r",
      "          \r",
      "\r",
      "          \r",
      " 70%|███████   | 1117/1595 [36:05<15:26,  1.94s/it]\r",
      " 70%|███████   | 1118/1595 [36:05<21:53,  2.75s/it]"
     ]
    },
    {
     "name": "stdout",
     "output_type": "stream",
     "text": [
      "chunks for patient: 6e240f23afa2c1b4352cd0db5d4f357d : 19343\n"
     ]
    },
    {
     "name": "stderr",
     "output_type": "stream",
     "text": [
      "\r",
      "          \r",
      "\r",
      "          \r",
      " 70%|███████   | 1118/1595 [36:08<15:25,  1.94s/it]\r",
      " 70%|███████   | 1119/1595 [36:08<22:28,  2.83s/it]"
     ]
    },
    {
     "name": "stdout",
     "output_type": "stream",
     "text": [
      "chunks for patient: f2ca85bb9ae82a3d79b9f321f727ac19 : 18252\n"
     ]
    },
    {
     "name": "stderr",
     "output_type": "stream",
     "text": [
      "\r",
      "          \r",
      "\r",
      "          \r",
      " 70%|███████   | 1119/1595 [36:10<15:23,  1.94s/it]\r",
      " 70%|███████   | 1120/1595 [36:10<19:31,  2.47s/it]"
     ]
    },
    {
     "name": "stdout",
     "output_type": "stream",
     "text": [
      "chunks for patient: a79023a82079a7431ef2496acbef29de : 13754\n"
     ]
    },
    {
     "name": "stderr",
     "output_type": "stream",
     "text": [
      "\r",
      "          \r",
      "\r",
      "          \r",
      " 70%|███████   | 1120/1595 [36:12<15:21,  1.94s/it]\r",
      " 70%|███████   | 1121/1595 [36:12<18:39,  2.36s/it]"
     ]
    },
    {
     "name": "stdout",
     "output_type": "stream",
     "text": [
      "chunks for patient: 77941d758eae521a00ef225e306eda08 : 18225\n"
     ]
    },
    {
     "name": "stderr",
     "output_type": "stream",
     "text": [
      "\r",
      "          \r",
      "\r",
      "          \r",
      " 70%|███████   | 1121/1595 [36:13<15:19,  1.94s/it]\r",
      " 70%|███████   | 1122/1595 [36:13<16:12,  2.06s/it]"
     ]
    },
    {
     "name": "stdout",
     "output_type": "stream",
     "text": [
      "chunks for patient: 5ce91933688cc8400105bf640ac11535 : 10143\n"
     ]
    },
    {
     "name": "stderr",
     "output_type": "stream",
     "text": [
      "\r",
      "          \r",
      "\r",
      "          \r",
      " 70%|███████   | 1122/1595 [36:15<15:17,  1.94s/it]\r",
      " 70%|███████   | 1123/1595 [36:15<16:26,  2.09s/it]"
     ]
    },
    {
     "name": "stdout",
     "output_type": "stream",
     "text": [
      "chunks for patient: a79e929f408cf0fe31f8e3a0904b6d93 : 15548\n"
     ]
    },
    {
     "name": "stderr",
     "output_type": "stream",
     "text": [
      "\r",
      "          \r",
      "\r",
      "          \r",
      " 70%|███████   | 1123/1595 [36:17<15:15,  1.94s/it]\r",
      " 70%|███████   | 1124/1595 [36:17<15:06,  1.92s/it]"
     ]
    },
    {
     "name": "stdout",
     "output_type": "stream",
     "text": [
      "chunks for patient: a532c6f9405e6f3a4229ea6e04b0d975 : 10164\n"
     ]
    },
    {
     "name": "stderr",
     "output_type": "stream",
     "text": [
      "\r",
      "          \r",
      "\r",
      "          \r",
      " 70%|███████   | 1124/1595 [36:19<15:13,  1.94s/it]\r",
      " 71%|███████   | 1125/1595 [36:19<15:01,  1.92s/it]"
     ]
    },
    {
     "name": "stdout",
     "output_type": "stream",
     "text": [
      "chunks for patient: 2c8e0b1e8a3f10b1d59e4aa8fe68a32e : 15000\n"
     ]
    },
    {
     "name": "stderr",
     "output_type": "stream",
     "text": [
      "\r",
      "          \r",
      "\r",
      "          \r",
      " 71%|███████   | 1125/1595 [36:21<15:11,  1.94s/it]\r",
      " 71%|███████   | 1126/1595 [36:21<14:46,  1.89s/it]"
     ]
    },
    {
     "name": "stdout",
     "output_type": "stream",
     "text": [
      "chunks for patient: c8a82a4e7e76702f5f10ece6508f2bbe : 14872\n"
     ]
    },
    {
     "name": "stderr",
     "output_type": "stream",
     "text": [
      "\r",
      "          \r",
      "\r",
      "          \r",
      " 71%|███████   | 1126/1595 [36:22<15:09,  1.94s/it]\r",
      " 71%|███████   | 1127/1595 [36:22<13:51,  1.78s/it]"
     ]
    },
    {
     "name": "stdout",
     "output_type": "stream",
     "text": [
      "chunks for patient: f6c9e875d7adfe7add08f43528810f72 : 10648\n"
     ]
    },
    {
     "name": "stderr",
     "output_type": "stream",
     "text": [
      "\r",
      "          \r",
      "\r",
      "          \r",
      " 71%|███████   | 1127/1595 [36:23<15:06,  1.94s/it]\r",
      " 71%|███████   | 1128/1595 [36:23<12:14,  1.57s/it]"
     ]
    },
    {
     "name": "stdout",
     "output_type": "stream",
     "text": [
      "chunks for patient: b8bb02d229361a623a4dc57aa0e5c485 : 7056\n"
     ]
    },
    {
     "name": "stderr",
     "output_type": "stream",
     "text": [
      "\r",
      "          \r",
      "\r",
      "          \r",
      " 71%|███████   | 1128/1595 [36:25<15:04,  1.94s/it]\r",
      " 71%|███████   | 1129/1595 [36:25<12:39,  1.63s/it]"
     ]
    },
    {
     "name": "stdout",
     "output_type": "stream",
     "text": [
      "chunks for patient: fdf73dcce35167f3ed952a58f5a6f738 : 13125\n"
     ]
    },
    {
     "name": "stderr",
     "output_type": "stream",
     "text": [
      "\r",
      "          \r",
      "\r",
      "          \r",
      " 71%|███████   | 1129/1595 [36:27<15:02,  1.94s/it]\r",
      " 71%|███████   | 1130/1595 [36:27<13:14,  1.71s/it]"
     ]
    },
    {
     "name": "stdout",
     "output_type": "stream",
     "text": [
      "chunks for patient: 4a782bbc2608288a3ed05e511af6f8bb : 15000\n"
     ]
    },
    {
     "name": "stderr",
     "output_type": "stream",
     "text": [
      "\r",
      "          \r",
      "\r",
      "          \r",
      " 71%|███████   | 1130/1595 [36:28<15:00,  1.94s/it]\r",
      " 71%|███████   | 1131/1595 [36:28<12:23,  1.60s/it]"
     ]
    },
    {
     "name": "stdout",
     "output_type": "stream",
     "text": [
      "chunks for patient: 2ce2565b9839d8812cf0f9ad80371d3f : 9702\n"
     ]
    },
    {
     "name": "stderr",
     "output_type": "stream",
     "text": [
      "\r",
      "          \r",
      "\r",
      "          \r",
      " 71%|███████   | 1131/1595 [36:30<14:58,  1.94s/it]\r",
      " 71%|███████   | 1132/1595 [36:30<12:18,  1.60s/it]"
     ]
    },
    {
     "name": "stdout",
     "output_type": "stream",
     "text": [
      "chunks for patient: 2d977650e6388d2c45825a77e94437a2 : 10648\n"
     ]
    },
    {
     "name": "stderr",
     "output_type": "stream",
     "text": [
      "\r",
      "          \r",
      "\r",
      "          \r",
      " 71%|███████   | 1132/1595 [36:31<14:56,  1.94s/it]\r",
      " 71%|███████   | 1133/1595 [36:31<12:22,  1.61s/it]"
     ]
    },
    {
     "name": "stdout",
     "output_type": "stream",
     "text": [
      "chunks for patient: 2885e3af725bc58dc1522d4bfb24bb2b : 11466\n"
     ]
    },
    {
     "name": "stderr",
     "output_type": "stream",
     "text": [
      "\r",
      "          \r",
      "\r",
      "          \r",
      " 71%|███████   | 1133/1595 [36:33<14:54,  1.94s/it]\r",
      " 71%|███████   | 1134/1595 [36:33<12:23,  1.61s/it]"
     ]
    },
    {
     "name": "stdout",
     "output_type": "stream",
     "text": [
      "chunks for patient: 321364cc2393dccb7ba8894ee9d2b269 : 11638\n"
     ]
    },
    {
     "name": "stderr",
     "output_type": "stream",
     "text": [
      "\r",
      "          \r",
      "\r",
      "          \r",
      " 71%|███████   | 1134/1595 [36:35<14:52,  1.94s/it]\r",
      " 71%|███████   | 1135/1595 [36:35<12:40,  1.65s/it]"
     ]
    },
    {
     "name": "stdout",
     "output_type": "stream",
     "text": [
      "chunks for patient: 3043b5cc9733054f3ab5399c3c810406 : 15548\n"
     ]
    },
    {
     "name": "stderr",
     "output_type": "stream",
     "text": [
      "\r",
      "          \r",
      "\r",
      "          \r",
      " 71%|███████   | 1135/1595 [36:37<14:50,  1.94s/it]\r",
      " 71%|███████   | 1136/1595 [36:37<13:29,  1.76s/it]"
     ]
    },
    {
     "name": "stdout",
     "output_type": "stream",
     "text": [
      "chunks for patient: 86515f063b3a30af09ba4d0322edf7b1 : 15000\n"
     ]
    },
    {
     "name": "stderr",
     "output_type": "stream",
     "text": [
      "\r",
      "          \r",
      "\r",
      "          \r",
      " 71%|███████   | 1136/1595 [36:38<14:48,  1.94s/it]\r",
      " 71%|███████▏  | 1137/1595 [36:38<12:37,  1.65s/it]"
     ]
    },
    {
     "name": "stdout",
     "output_type": "stream",
     "text": [
      "chunks for patient: b158f44c31f4121c865c828ff79fc73d : 12096\n"
     ]
    },
    {
     "name": "stderr",
     "output_type": "stream",
     "text": [
      "\r",
      "          \r",
      "\r",
      "          \r",
      " 71%|███████▏  | 1137/1595 [36:39<14:46,  1.93s/it]\r",
      " 71%|███████▏  | 1138/1595 [36:39<11:33,  1.52s/it]"
     ]
    },
    {
     "name": "stdout",
     "output_type": "stream",
     "text": [
      "chunks for patient: a5cac127acd59505d8f1582b95f80983 : 9702\n"
     ]
    },
    {
     "name": "stderr",
     "output_type": "stream",
     "text": [
      "\r",
      "          \r",
      "\r",
      "          \r",
      " 71%|███████▏  | 1138/1595 [36:42<14:44,  1.94s/it]\r",
      " 71%|███████▏  | 1139/1595 [36:42<13:46,  1.81s/it]"
     ]
    },
    {
     "name": "stdout",
     "output_type": "stream",
     "text": [
      "chunks for patient: 91ee390b30927af8804d1f2adf2aefa8 : 18928\n"
     ]
    },
    {
     "name": "stderr",
     "output_type": "stream",
     "text": [
      "\r",
      "          \r",
      "\r",
      "          \r",
      " 71%|███████▏  | 1139/1595 [36:44<14:42,  1.94s/it]\r",
      " 71%|███████▏  | 1140/1595 [36:44<14:48,  1.95s/it]"
     ]
    },
    {
     "name": "stdout",
     "output_type": "stream",
     "text": [
      "chunks for patient: fd2dd970bd3d91e5b26d7e57c03f70af : 20184\n"
     ]
    },
    {
     "name": "stderr",
     "output_type": "stream",
     "text": [
      "\r",
      "          \r",
      "\r",
      "          \r",
      " 71%|███████▏  | 1140/1595 [36:46<14:40,  1.94s/it]\r",
      " 72%|███████▏  | 1141/1595 [36:46<13:29,  1.78s/it]"
     ]
    },
    {
     "name": "stdout",
     "output_type": "stream",
     "text": [
      "chunks for patient: d9fb9617188fe99bdb464c126d2bd8c0 : 12844\n"
     ]
    },
    {
     "name": "stderr",
     "output_type": "stream",
     "text": [
      "\r",
      "          \r",
      "\r",
      "          \r",
      " 72%|███████▏  | 1141/1595 [36:47<14:38,  1.93s/it]\r",
      " 72%|███████▏  | 1142/1595 [36:47<13:12,  1.75s/it]"
     ]
    },
    {
     "name": "stdout",
     "output_type": "stream",
     "text": [
      "chunks for patient: bda661b08ad77afb79bd35664861cd62 : 11109\n"
     ]
    },
    {
     "name": "stderr",
     "output_type": "stream",
     "text": [
      "\r",
      "          \r",
      "\r",
      "          \r",
      " 72%|███████▏  | 1142/1595 [36:49<14:36,  1.93s/it]\r",
      " 72%|███████▏  | 1143/1595 [36:49<13:12,  1.75s/it]"
     ]
    },
    {
     "name": "stdout",
     "output_type": "stream",
     "text": [
      "chunks for patient: a88c585e7d81744eec091a6f0600bd7b : 13750\n"
     ]
    },
    {
     "name": "stderr",
     "output_type": "stream",
     "text": [
      "\r",
      "          \r",
      "\r",
      "          \r",
      " 72%|███████▏  | 1143/1595 [36:51<14:34,  1.94s/it]\r",
      " 72%|███████▏  | 1144/1595 [36:51<14:23,  1.91s/it]"
     ]
    },
    {
     "name": "stdout",
     "output_type": "stream",
     "text": [
      "chunks for patient: d3eaad692dc96b1a1765076716f55421 : 15625\n"
     ]
    },
    {
     "name": "stderr",
     "output_type": "stream",
     "text": [
      "\r",
      "          \r",
      "\r",
      "          \r",
      " 72%|███████▏  | 1144/1595 [36:53<14:32,  1.94s/it]\r",
      " 72%|███████▏  | 1145/1595 [36:53<14:20,  1.91s/it]"
     ]
    },
    {
     "name": "stdout",
     "output_type": "stream",
     "text": [
      "chunks for patient: 19f3b4dea7af5d6e13acb472d6af23d8 : 12696\n"
     ]
    },
    {
     "name": "stderr",
     "output_type": "stream",
     "text": [
      "\r",
      "          \r",
      "\r",
      "          \r",
      " 72%|███████▏  | 1145/1595 [36:55<14:30,  1.93s/it]\r",
      " 72%|███████▏  | 1146/1595 [36:55<13:39,  1.82s/it]"
     ]
    },
    {
     "name": "stdout",
     "output_type": "stream",
     "text": [
      "chunks for patient: b5de57869d863bdc1b84b0194e79a9d3 : 14283\n"
     ]
    },
    {
     "name": "stderr",
     "output_type": "stream",
     "text": [
      "\r",
      "          \r",
      "\r",
      "          \r",
      " 72%|███████▏  | 1146/1595 [36:57<14:28,  1.94s/it]\r",
      " 72%|███████▏  | 1147/1595 [36:57<14:56,  2.00s/it]"
     ]
    },
    {
     "name": "stdout",
     "output_type": "stream",
     "text": [
      "chunks for patient: 7b24367c58f1737e901dde9a934d1eb1 : 18816\n"
     ]
    },
    {
     "name": "stderr",
     "output_type": "stream",
     "text": [
      "\r",
      "          \r",
      "\r",
      "          \r",
      " 72%|███████▏  | 1147/1595 [36:59<14:27,  1.94s/it]\r",
      " 72%|███████▏  | 1148/1595 [36:59<15:14,  2.05s/it]"
     ]
    },
    {
     "name": "stdout",
     "output_type": "stream",
     "text": [
      "chunks for patient: f228862e9f9c6ad7993ded4e088c5050 : 14400\n"
     ]
    },
    {
     "name": "stderr",
     "output_type": "stream",
     "text": [
      "\r",
      "          \r",
      "\r",
      "          \r",
      " 72%|███████▏  | 1148/1595 [37:02<14:25,  1.94s/it]\r",
      " 72%|███████▏  | 1149/1595 [37:02<16:17,  2.19s/it]"
     ]
    },
    {
     "name": "stdout",
     "output_type": "stream",
     "text": [
      "chunks for patient: 72609c2be68be9d7c9cde3d0127c05ac : 13824\n"
     ]
    },
    {
     "name": "stderr",
     "output_type": "stream",
     "text": [
      "\r",
      "          \r",
      "\r",
      "          \r",
      " 72%|███████▏  | 1149/1595 [37:04<14:23,  1.94s/it]\r",
      " 72%|███████▏  | 1150/1595 [37:04<14:58,  2.02s/it]"
     ]
    },
    {
     "name": "stdout",
     "output_type": "stream",
     "text": [
      "chunks for patient: 84402e42c992259ac8cdd98b51d4fba3 : 14400\n"
     ]
    },
    {
     "name": "stderr",
     "output_type": "stream",
     "text": [
      "\r",
      "          \r",
      "\r",
      "          \r",
      " 72%|███████▏  | 1150/1595 [37:05<14:21,  1.94s/it]\r",
      " 72%|███████▏  | 1151/1595 [37:05<13:59,  1.89s/it]"
     ]
    },
    {
     "name": "stdout",
     "output_type": "stream",
     "text": [
      "chunks for patient: 661ffa992ed2c23c37f1e7b82dc834d7 : 13520\n"
     ]
    },
    {
     "name": "stderr",
     "output_type": "stream",
     "text": [
      "\r",
      "          \r",
      "\r",
      "          \r",
      " 72%|███████▏  | 1151/1595 [37:07<14:19,  1.93s/it]\r",
      " 72%|███████▏  | 1152/1595 [37:07<13:05,  1.77s/it]"
     ]
    },
    {
     "name": "stdout",
     "output_type": "stream",
     "text": [
      "chunks for patient: 37006435aca7184571bba3c907141e82 : 10143\n"
     ]
    },
    {
     "name": "stderr",
     "output_type": "stream",
     "text": [
      "\r",
      "          \r",
      "\r",
      "          \r",
      " 72%|███████▏  | 1152/1595 [37:09<14:17,  1.94s/it]\r",
      " 72%|███████▏  | 1153/1595 [37:09<13:41,  1.86s/it]"
     ]
    },
    {
     "name": "stdout",
     "output_type": "stream",
     "text": [
      "chunks for patient: f7cdd95c94818875ece1175561025038 : 18954\n"
     ]
    },
    {
     "name": "stderr",
     "output_type": "stream",
     "text": [
      "\r",
      "          \r",
      "\r",
      "          \r",
      " 72%|███████▏  | 1153/1595 [37:11<14:15,  1.94s/it]\r",
      " 72%|███████▏  | 1154/1595 [37:11<14:53,  2.03s/it]"
     ]
    },
    {
     "name": "stdout",
     "output_type": "stream",
     "text": [
      "chunks for patient: a1b021261acaa7ffedfe15d2c8380de1 : 16820\n"
     ]
    },
    {
     "name": "stderr",
     "output_type": "stream",
     "text": [
      "\r",
      "          \r",
      "\r",
      "          \r",
      " 72%|███████▏  | 1154/1595 [37:12<14:13,  1.93s/it]\r",
      " 72%|███████▏  | 1155/1595 [37:12<13:23,  1.83s/it]"
     ]
    },
    {
     "name": "stdout",
     "output_type": "stream",
     "text": [
      "chunks for patient: d2ec8f0fc56a9168cda0c707e49974ab : 8303\n"
     ]
    },
    {
     "name": "stderr",
     "output_type": "stream",
     "text": [
      "\r",
      "          \r",
      "\r",
      "          \r",
      " 72%|███████▏  | 1155/1595 [37:14<14:11,  1.93s/it]\r",
      " 72%|███████▏  | 1156/1595 [37:14<12:30,  1.71s/it]"
     ]
    },
    {
     "name": "stdout",
     "output_type": "stream",
     "text": [
      "chunks for patient: c98fb8f387c0979531e11de53607de92 : 10648\n"
     ]
    },
    {
     "name": "stderr",
     "output_type": "stream",
     "text": [
      "\r",
      "          \r",
      "\r",
      "          \r",
      " 72%|███████▏  | 1156/1595 [37:16<14:09,  1.93s/it]\r",
      " 73%|███████▎  | 1157/1595 [37:16<13:47,  1.89s/it]"
     ]
    },
    {
     "name": "stdout",
     "output_type": "stream",
     "text": [
      "chunks for patient: 7faa456389e1ffde464819d0b1360188 : 15625\n"
     ]
    },
    {
     "name": "stderr",
     "output_type": "stream",
     "text": [
      "\r",
      "          \r",
      "\r",
      "          \r",
      " 73%|███████▎  | 1157/1595 [37:18<14:07,  1.94s/it]\r",
      " 73%|███████▎  | 1158/1595 [37:18<14:17,  1.96s/it]"
     ]
    },
    {
     "name": "stdout",
     "output_type": "stream",
     "text": [
      "chunks for patient: 55baceb599dc8aefe4b13c131d0531df : 14400\n"
     ]
    },
    {
     "name": "stderr",
     "output_type": "stream",
     "text": [
      "\r",
      "          \r",
      "\r",
      "          \r",
      " 73%|███████▎  | 1158/1595 [37:21<14:05,  1.94s/it]\r",
      " 73%|███████▎  | 1159/1595 [37:21<14:55,  2.05s/it]"
     ]
    },
    {
     "name": "stdout",
     "output_type": "stream",
     "text": [
      "chunks for patient: c26fbd6a185271f820953be327b5307f : 17248\n"
     ]
    },
    {
     "name": "stderr",
     "output_type": "stream",
     "text": [
      "\r",
      "          \r",
      "\r",
      "          \r",
      " 73%|███████▎  | 1159/1595 [37:22<14:03,  1.94s/it]\r",
      " 73%|███████▎  | 1160/1595 [37:22<14:35,  2.01s/it]"
     ]
    },
    {
     "name": "stdout",
     "output_type": "stream",
     "text": [
      "chunks for patient: 60a4915d8662dff30dc596ebccb83b3c : 12167\n"
     ]
    },
    {
     "name": "stderr",
     "output_type": "stream",
     "text": [
      "\r",
      "          \r",
      "\r",
      "          \r",
      " 73%|███████▎  | 1160/1595 [37:25<14:01,  1.94s/it]\r",
      " 73%|███████▎  | 1161/1595 [37:25<14:41,  2.03s/it]"
     ]
    },
    {
     "name": "stdout",
     "output_type": "stream",
     "text": [
      "chunks for patient: 820245d8b211808bd18e78ff5be16fdb : 14400\n"
     ]
    },
    {
     "name": "stderr",
     "output_type": "stream",
     "text": [
      "\r",
      "          \r",
      "\r",
      "          \r",
      " 73%|███████▎  | 1161/1595 [37:26<13:59,  1.93s/it]\r",
      " 73%|███████▎  | 1162/1595 [37:26<13:21,  1.85s/it]"
     ]
    },
    {
     "name": "stdout",
     "output_type": "stream",
     "text": [
      "chunks for patient: ca4e1486c548679a9c682b6fa1a779d9 : 11109\n"
     ]
    },
    {
     "name": "stderr",
     "output_type": "stream",
     "text": [
      "\r",
      "          \r",
      "\r",
      "          \r",
      " 73%|███████▎  | 1162/1595 [37:28<13:57,  1.93s/it]\r",
      " 73%|███████▎  | 1163/1595 [37:28<12:46,  1.77s/it]"
     ]
    },
    {
     "name": "stdout",
     "output_type": "stream",
     "text": [
      "chunks for patient: 55b06d60e7c0329787f81d1b7cbf9aa0 : 13750\n"
     ]
    },
    {
     "name": "stderr",
     "output_type": "stream",
     "text": [
      "\r",
      "          \r",
      "\r",
      "          \r",
      " 73%|███████▎  | 1163/1595 [37:29<13:55,  1.93s/it]\r",
      " 73%|███████▎  | 1164/1595 [37:29<11:27,  1.59s/it]"
     ]
    },
    {
     "name": "stdout",
     "output_type": "stream",
     "text": [
      "chunks for patient: 4dcd34bd9b10f96453b63d4f55d1fd44 : 8400\n"
     ]
    },
    {
     "name": "stderr",
     "output_type": "stream",
     "text": [
      "\r",
      "          \r",
      "\r",
      "          \r",
      " 73%|███████▎  | 1164/1595 [37:31<13:53,  1.93s/it]\r",
      " 73%|███████▎  | 1165/1595 [37:31<12:51,  1.79s/it]"
     ]
    },
    {
     "name": "stdout",
     "output_type": "stream",
     "text": [
      "chunks for patient: 3d521ee3776eefb65953f89c0e1a4f96 : 15000\n"
     ]
    },
    {
     "name": "stderr",
     "output_type": "stream",
     "text": [
      "\r",
      "          \r",
      "\r",
      "          \r",
      " 73%|███████▎  | 1165/1595 [37:32<13:51,  1.93s/it]\r",
      " 73%|███████▎  | 1166/1595 [37:32<11:44,  1.64s/it]"
     ]
    },
    {
     "name": "stdout",
     "output_type": "stream",
     "text": [
      "chunks for patient: a3cb12d3b8d5c64fa55f27208fe13a07 : 8000\n"
     ]
    },
    {
     "name": "stderr",
     "output_type": "stream",
     "text": [
      "\r",
      "          \r",
      "\r",
      "          \r",
      " 73%|███████▎  | 1166/1595 [37:35<13:50,  1.93s/it]\r",
      " 73%|███████▎  | 1167/1595 [37:35<14:58,  2.10s/it]"
     ]
    },
    {
     "name": "stdout",
     "output_type": "stream",
     "text": [
      "chunks for patient: 14248ec22193bed1e087755df5a28509 : 22736\n"
     ]
    },
    {
     "name": "stderr",
     "output_type": "stream",
     "text": [
      "\r",
      "          \r",
      "\r",
      "          \r",
      " 73%|███████▎  | 1167/1595 [37:38<13:48,  1.94s/it]\r",
      " 73%|███████▎  | 1168/1595 [37:38<15:18,  2.15s/it]"
     ]
    },
    {
     "name": "stdout",
     "output_type": "stream",
     "text": [
      "chunks for patient: 797d6bffdecfc88e990e820dc5771a0b : 18816\n"
     ]
    },
    {
     "name": "stderr",
     "output_type": "stream",
     "text": [
      "\r",
      "          \r",
      "\r",
      "          \r",
      " 73%|███████▎  | 1168/1595 [37:39<13:46,  1.93s/it]\r",
      " 73%|███████▎  | 1169/1595 [37:39<14:22,  2.02s/it]"
     ]
    },
    {
     "name": "stdout",
     "output_type": "stream",
     "text": [
      "chunks for patient: 8ad1af382994ce945a5034fab202d402 : 15309\n"
     ]
    },
    {
     "name": "stderr",
     "output_type": "stream",
     "text": [
      "\r",
      "          \r",
      "\r",
      "          \r",
      " 73%|███████▎  | 1169/1595 [37:42<13:44,  1.93s/it]\r",
      " 73%|███████▎  | 1170/1595 [37:42<14:20,  2.02s/it]"
     ]
    },
    {
     "name": "stdout",
     "output_type": "stream",
     "text": [
      "chunks for patient: 12db1ea8336eafaf7f9e3eda2b4e4fef : 15000\n"
     ]
    },
    {
     "name": "stderr",
     "output_type": "stream",
     "text": [
      "\r",
      "          \r",
      "\r",
      "          \r",
      " 73%|███████▎  | 1170/1595 [37:44<13:42,  1.94s/it]\r",
      " 73%|███████▎  | 1171/1595 [37:44<15:48,  2.24s/it]"
     ]
    },
    {
     "name": "stdout",
     "output_type": "stream",
     "text": [
      "chunks for patient: bba773fb9c1c517e23efe05e283b58a2 : 22707\n"
     ]
    },
    {
     "name": "stderr",
     "output_type": "stream",
     "text": [
      "\r",
      "          \r",
      "\r",
      "          \r",
      " 73%|███████▎  | 1171/1595 [37:47<13:41,  1.94s/it]\r",
      " 73%|███████▎  | 1172/1595 [37:47<17:46,  2.52s/it]"
     ]
    },
    {
     "name": "stdout",
     "output_type": "stream",
     "text": [
      "chunks for patient: 031b7ec4fe96a3b035a8196264a8c8c3 : 22707\n"
     ]
    },
    {
     "name": "stderr",
     "output_type": "stream",
     "text": [
      "\r",
      "          \r",
      "\r",
      "          \r",
      " 73%|███████▎  | 1172/1595 [37:49<13:39,  1.94s/it]\r",
      " 74%|███████▎  | 1173/1595 [37:49<15:57,  2.27s/it]"
     ]
    },
    {
     "name": "stdout",
     "output_type": "stream",
     "text": [
      "chunks for patient: f55f99177e8b4b267c71b4e5fa4116be : 12696\n"
     ]
    },
    {
     "name": "stderr",
     "output_type": "stream",
     "text": [
      "\r",
      "          \r",
      "\r",
      "          \r",
      " 74%|███████▎  | 1173/1595 [37:51<13:37,  1.94s/it]\r",
      " 74%|███████▎  | 1174/1595 [37:51<14:27,  2.06s/it]"
     ]
    },
    {
     "name": "stdout",
     "output_type": "stream",
     "text": [
      "chunks for patient: fd7c0fb3c0e764357aa58e5f047be614 : 11638\n"
     ]
    },
    {
     "name": "stderr",
     "output_type": "stream",
     "text": [
      "\r",
      "          \r",
      "\r",
      "          \r",
      " 74%|███████▎  | 1174/1595 [37:53<13:35,  1.94s/it]\r",
      " 74%|███████▎  | 1175/1595 [37:53<15:45,  2.25s/it]"
     ]
    },
    {
     "name": "stdout",
     "output_type": "stream",
     "text": [
      "chunks for patient: 654f2095bace27af870cdfcc66f9717c : 18816\n"
     ]
    },
    {
     "name": "stderr",
     "output_type": "stream",
     "text": [
      "\r",
      "          \r",
      "\r",
      "          \r",
      " 74%|███████▎  | 1175/1595 [37:55<13:33,  1.94s/it]\r",
      " 74%|███████▎  | 1176/1595 [37:55<14:19,  2.05s/it]"
     ]
    },
    {
     "name": "stdout",
     "output_type": "stream",
     "text": [
      "chunks for patient: 204bdd4a15f023eea66190972b66fd0f : 12696\n"
     ]
    },
    {
     "name": "stderr",
     "output_type": "stream",
     "text": [
      "\r",
      "          \r",
      "\r",
      "          \r",
      " 74%|███████▎  | 1176/1595 [37:57<13:31,  1.94s/it]\r",
      " 74%|███████▍  | 1177/1595 [37:57<13:56,  2.00s/it]"
     ]
    },
    {
     "name": "stdout",
     "output_type": "stream",
     "text": [
      "chunks for patient: 5c0d992d01e6383d5684b8ac5d7143b1 : 15309\n"
     ]
    },
    {
     "name": "stderr",
     "output_type": "stream",
     "text": [
      "\r",
      "          \r",
      "\r",
      "          \r",
      " 74%|███████▍  | 1177/1595 [37:59<13:29,  1.94s/it]\r",
      " 74%|███████▍  | 1178/1595 [37:59<15:00,  2.16s/it]"
     ]
    },
    {
     "name": "stdout",
     "output_type": "stream",
     "text": [
      "chunks for patient: aaeb75b838690ba6ba425f73b9773479 : 20184\n"
     ]
    },
    {
     "name": "stderr",
     "output_type": "stream",
     "text": [
      "\r",
      "          \r",
      "\r",
      "          \r",
      " 74%|███████▍  | 1178/1595 [38:01<13:27,  1.94s/it]\r",
      " 74%|███████▍  | 1179/1595 [38:01<13:06,  1.89s/it]"
     ]
    },
    {
     "name": "stdout",
     "output_type": "stream",
     "text": [
      "chunks for patient: b921bb8f821ccab27ab69ea94b8149a7 : 9702\n"
     ]
    },
    {
     "name": "stderr",
     "output_type": "stream",
     "text": [
      "\r",
      "          \r",
      "\r",
      "          \r",
      " 74%|███████▍  | 1179/1595 [38:02<13:25,  1.94s/it]\r",
      " 74%|███████▍  | 1180/1595 [38:02<11:48,  1.71s/it]"
     ]
    },
    {
     "name": "stdout",
     "output_type": "stream",
     "text": [
      "chunks for patient: df75d5a21b4289e8df6e2d0e135ac48f : 12096\n"
     ]
    },
    {
     "name": "stderr",
     "output_type": "stream",
     "text": [
      "\r",
      "          \r",
      "\r",
      "          \r",
      " 74%|███████▍  | 1180/1595 [38:04<13:23,  1.94s/it]\r",
      " 74%|███████▍  | 1181/1595 [38:04<12:36,  1.83s/it]"
     ]
    },
    {
     "name": "stdout",
     "output_type": "stream",
     "text": [
      "chunks for patient: 366cfab448dbe55fd63b01adac0b1c56 : 19600\n"
     ]
    },
    {
     "name": "stderr",
     "output_type": "stream",
     "text": [
      "\r",
      "          \r",
      "\r",
      "          \r",
      " 74%|███████▍  | 1181/1595 [38:06<13:21,  1.94s/it]\r",
      " 74%|███████▍  | 1182/1595 [38:06<12:39,  1.84s/it]"
     ]
    },
    {
     "name": "stdout",
     "output_type": "stream",
     "text": [
      "chunks for patient: 25a3b616f6cc89e74f6502d65b687972 : 13225\n"
     ]
    },
    {
     "name": "stderr",
     "output_type": "stream",
     "text": [
      "\r",
      "          \r",
      "\r",
      "          \r",
      " 74%|███████▍  | 1182/1595 [38:07<13:19,  1.94s/it]\r",
      " 74%|███████▍  | 1183/1595 [38:07<11:57,  1.74s/it]"
     ]
    },
    {
     "name": "stdout",
     "output_type": "stream",
     "text": [
      "chunks for patient: 8298238a27be6111214a9bc711608181 : 12167\n"
     ]
    },
    {
     "name": "stderr",
     "output_type": "stream",
     "text": [
      "\r",
      "          \r",
      "\r",
      "          \r",
      " 74%|███████▍  | 1183/1595 [38:09<13:17,  1.94s/it]\r",
      " 74%|███████▍  | 1184/1595 [38:09<12:34,  1.84s/it]"
     ]
    },
    {
     "name": "stdout",
     "output_type": "stream",
     "text": [
      "chunks for patient: 8aaa3a09b1f20e950609a62a1de511df : 18816\n"
     ]
    },
    {
     "name": "stderr",
     "output_type": "stream",
     "text": [
      "\r",
      "          \r",
      "\r",
      "          \r",
      " 74%|███████▍  | 1184/1595 [38:11<13:15,  1.94s/it]\r",
      " 74%|███████▍  | 1185/1595 [38:11<12:48,  1.87s/it]"
     ]
    },
    {
     "name": "stdout",
     "output_type": "stream",
     "text": [
      "chunks for patient: b3f57de0b4ad4dfae87698ef8fc67e23 : 16038\n"
     ]
    },
    {
     "name": "stderr",
     "output_type": "stream",
     "text": [
      "\r",
      "          \r",
      "\r",
      "          \r",
      " 74%|███████▍  | 1185/1595 [38:13<13:13,  1.94s/it]\r",
      " 74%|███████▍  | 1186/1595 [38:13<12:15,  1.80s/it]"
     ]
    },
    {
     "name": "stdout",
     "output_type": "stream",
     "text": [
      "chunks for patient: 7fb1c8ffd78ca4b6869044251add36b4 : 13248\n"
     ]
    },
    {
     "name": "stderr",
     "output_type": "stream",
     "text": [
      "\r",
      "          \r",
      "\r",
      "          \r",
      " 74%|███████▍  | 1186/1595 [38:14<13:11,  1.93s/it]\r",
      " 74%|███████▍  | 1187/1595 [38:14<11:00,  1.62s/it]"
     ]
    },
    {
     "name": "stdout",
     "output_type": "stream",
     "text": [
      "chunks for patient: f5ff7734997820b45dafa75dff60ece8 : 9702\n"
     ]
    },
    {
     "name": "stderr",
     "output_type": "stream",
     "text": [
      "\r",
      "          \r",
      "\r",
      "          \r",
      " 74%|███████▍  | 1187/1595 [38:17<13:09,  1.94s/it]\r",
      " 74%|███████▍  | 1188/1595 [38:17<14:10,  2.09s/it]"
     ]
    },
    {
     "name": "stdout",
     "output_type": "stream",
     "text": [
      "chunks for patient: 25c1c4f008e8addc4d386cab58815052 : 11109\n"
     ]
    },
    {
     "name": "stderr",
     "output_type": "stream",
     "text": [
      "\r",
      "          \r",
      "\r",
      "          \r",
      " 74%|███████▍  | 1188/1595 [38:19<13:07,  1.94s/it]\r",
      " 75%|███████▍  | 1189/1595 [38:19<13:57,  2.06s/it]"
     ]
    },
    {
     "name": "stdout",
     "output_type": "stream",
     "text": [
      "chunks for patient: 8615d91dab90b906088e4097fc822820 : 12167\n"
     ]
    },
    {
     "name": "stderr",
     "output_type": "stream",
     "text": [
      "\r",
      "          \r",
      "\r",
      "          \r",
      " 75%|███████▍  | 1189/1595 [38:21<13:05,  1.94s/it]\r",
      " 75%|███████▍  | 1190/1595 [38:21<12:14,  1.81s/it]"
     ]
    },
    {
     "name": "stdout",
     "output_type": "stream",
     "text": [
      "chunks for patient: edae2e1edd1217d0c9e20eff2a7b2dd8 : 9196\n"
     ]
    },
    {
     "name": "stderr",
     "output_type": "stream",
     "text": [
      "\r",
      "          \r",
      "\r",
      "          \r",
      " 75%|███████▍  | 1190/1595 [38:23<13:04,  1.94s/it]\r",
      " 75%|███████▍  | 1191/1595 [38:23<13:45,  2.04s/it]"
     ]
    },
    {
     "name": "stdout",
     "output_type": "stream",
     "text": [
      "chunks for patient: f73624b8b22774acf9a3e2c748131eac : 15000\n"
     ]
    },
    {
     "name": "stderr",
     "output_type": "stream",
     "text": [
      "\r",
      "          \r",
      "\r",
      "          \r",
      " 75%|███████▍  | 1191/1595 [38:30<13:03,  1.94s/it]\r",
      " 75%|███████▍  | 1192/1595 [38:30<23:30,  3.50s/it]"
     ]
    },
    {
     "name": "stdout",
     "output_type": "stream",
     "text": [
      "chunks for patient: d51dffd06b80ed003aa6095b0639f511 : 10580\n"
     ]
    },
    {
     "name": "stderr",
     "output_type": "stream",
     "text": [
      "\r",
      "          \r",
      "\r",
      "          \r",
      " 75%|███████▍  | 1192/1595 [38:32<13:01,  1.94s/it]\r",
      " 75%|███████▍  | 1193/1595 [38:32<21:06,  3.15s/it]"
     ]
    },
    {
     "name": "stdout",
     "output_type": "stream",
     "text": [
      "chunks for patient: ac366a2168a4d04509693b7e5bcf3cce : 10143\n"
     ]
    },
    {
     "name": "stderr",
     "output_type": "stream",
     "text": [
      "\r",
      "          \r",
      "\r",
      "          \r",
      " 75%|███████▍  | 1193/1595 [38:37<13:00,  1.94s/it]\r",
      " 75%|███████▍  | 1194/1595 [38:37<23:28,  3.51s/it]"
     ]
    },
    {
     "name": "stdout",
     "output_type": "stream",
     "text": [
      "chunks for patient: e5438d842118e579a340a78f3c5775cc : 18816\n"
     ]
    },
    {
     "name": "stderr",
     "output_type": "stream",
     "text": [
      "\r",
      "          \r",
      "\r",
      "          \r",
      " 75%|███████▍  | 1194/1595 [38:39<12:59,  1.94s/it]\r",
      " 75%|███████▍  | 1195/1595 [38:39<21:12,  3.18s/it]"
     ]
    },
    {
     "name": "stdout",
     "output_type": "stream",
     "text": [
      "chunks for patient: 166a2a476b7b84c975fb65162acc0798 : 16224\n"
     ]
    },
    {
     "name": "stderr",
     "output_type": "stream",
     "text": [
      "\r",
      "          \r",
      "\r",
      "          \r",
      " 75%|███████▍  | 1195/1595 [38:41<12:57,  1.94s/it]\r",
      " 75%|███████▍  | 1196/1595 [38:41<19:14,  2.89s/it]"
     ]
    },
    {
     "name": "stdout",
     "output_type": "stream",
     "text": [
      "chunks for patient: e54b574a7e7c650edc224cbdede9e675 : 18954\n"
     ]
    },
    {
     "name": "stderr",
     "output_type": "stream",
     "text": [
      "\r",
      "          \r",
      "\r",
      "          \r",
      " 75%|███████▍  | 1196/1595 [38:43<12:55,  1.94s/it]\r",
      " 75%|███████▌  | 1197/1595 [38:43<16:01,  2.42s/it]"
     ]
    },
    {
     "name": "stdout",
     "output_type": "stream",
     "text": [
      "chunks for patient: 2b89691a0744504491ef91d711d94918 : 12500\n"
     ]
    },
    {
     "name": "stderr",
     "output_type": "stream",
     "text": [
      "\r",
      "          \r",
      "\r",
      "          \r",
      " 75%|███████▌  | 1197/1595 [38:44<12:52,  1.94s/it]\r",
      " 75%|███████▌  | 1198/1595 [38:44<13:51,  2.10s/it]"
     ]
    },
    {
     "name": "stdout",
     "output_type": "stream",
     "text": [
      "chunks for patient: 310b403db75226a9a44d9a29c18917b7 : 11132\n"
     ]
    },
    {
     "name": "stderr",
     "output_type": "stream",
     "text": [
      "\r",
      "          \r",
      "\r",
      "          \r",
      " 75%|███████▌  | 1198/1595 [38:46<12:50,  1.94s/it]\r",
      " 75%|███████▌  | 1199/1595 [38:46<13:01,  1.97s/it]"
     ]
    },
    {
     "name": "stdout",
     "output_type": "stream",
     "text": [
      "chunks for patient: d13d9be7873c99a9fde9d24a95f1590d : 15000\n"
     ]
    },
    {
     "name": "stderr",
     "output_type": "stream",
     "text": [
      "\r",
      "          \r",
      "\r",
      "          \r",
      " 75%|███████▌  | 1199/1595 [38:48<12:49,  1.94s/it]\r",
      " 75%|███████▌  | 1200/1595 [38:48<14:03,  2.13s/it]"
     ]
    },
    {
     "name": "stdout",
     "output_type": "stream",
     "text": [
      "chunks for patient: e3034ac9c2799b9a9cee2111593d9853 : 20184\n"
     ]
    },
    {
     "name": "stderr",
     "output_type": "stream",
     "text": [
      "\r",
      "          \r",
      "\r",
      "          \r",
      " 75%|███████▌  | 1200/1595 [38:50<12:47,  1.94s/it]\r",
      " 75%|███████▌  | 1201/1595 [38:50<12:43,  1.94s/it]"
     ]
    },
    {
     "name": "stdout",
     "output_type": "stream",
     "text": [
      "chunks for patient: ad5f3a8ee73c1ff4cf401746be3bd493 : 10648\n"
     ]
    },
    {
     "name": "stderr",
     "output_type": "stream",
     "text": [
      "\r",
      "          \r",
      "\r",
      "          \r",
      " 75%|███████▌  | 1201/1595 [38:53<12:45,  1.94s/it]\r",
      " 75%|███████▌  | 1202/1595 [38:53<14:24,  2.20s/it]"
     ]
    },
    {
     "name": "stdout",
     "output_type": "stream",
     "text": [
      "chunks for patient: a647d0ce63b01c9ee82fe1911ba7b1e5 : 21168\n"
     ]
    },
    {
     "name": "stderr",
     "output_type": "stream",
     "text": [
      "\r",
      "          \r",
      "\r",
      "          \r",
      " 75%|███████▌  | 1202/1595 [38:55<12:43,  1.94s/it]\r",
      " 75%|███████▌  | 1203/1595 [38:55<14:49,  2.27s/it]"
     ]
    },
    {
     "name": "stdout",
     "output_type": "stream",
     "text": [
      "chunks for patient: f207bb8bcccdc76143380849402a4f21 : 18954\n"
     ]
    },
    {
     "name": "stderr",
     "output_type": "stream",
     "text": [
      "\r",
      "          \r",
      "\r",
      "          \r",
      " 75%|███████▌  | 1203/1595 [38:57<12:41,  1.94s/it]\r",
      " 75%|███████▌  | 1204/1595 [38:57<13:33,  2.08s/it]"
     ]
    },
    {
     "name": "stdout",
     "output_type": "stream",
     "text": [
      "chunks for patient: 817a99e1a60bcf4e37c904d73845ca50 : 13125\n"
     ]
    },
    {
     "name": "stderr",
     "output_type": "stream",
     "text": [
      "\r",
      "          \r",
      "\r",
      "          \r",
      " 75%|███████▌  | 1204/1595 [38:59<12:39,  1.94s/it]\r",
      " 76%|███████▌  | 1205/1595 [38:59<13:28,  2.07s/it]"
     ]
    },
    {
     "name": "stdout",
     "output_type": "stream",
     "text": [
      "chunks for patient: 5968ac45330d7f24b041a73925818269 : 14872\n"
     ]
    },
    {
     "name": "stderr",
     "output_type": "stream",
     "text": [
      "\r",
      "          \r",
      "\r",
      "          \r",
      " 76%|███████▌  | 1205/1595 [39:01<12:37,  1.94s/it]\r",
      " 76%|███████▌  | 1206/1595 [39:01<14:12,  2.19s/it]"
     ]
    },
    {
     "name": "stdout",
     "output_type": "stream",
     "text": [
      "chunks for patient: 1344e604281e68ac71f25c02e7637992 : 21866\n"
     ]
    },
    {
     "name": "stderr",
     "output_type": "stream",
     "text": [
      "\r",
      "          \r",
      "\r",
      "          \r",
      " 76%|███████▌  | 1206/1595 [39:03<12:35,  1.94s/it]\r",
      " 76%|███████▌  | 1207/1595 [39:03<13:01,  2.01s/it]"
     ]
    },
    {
     "name": "stdout",
     "output_type": "stream",
     "text": [
      "chunks for patient: 6a145c28d3b722643f547dfcbdf379ae : 12168\n"
     ]
    },
    {
     "name": "stderr",
     "output_type": "stream",
     "text": [
      "\r",
      "          \r",
      "\r",
      "          \r",
      " 76%|███████▌  | 1207/1595 [39:05<12:34,  1.94s/it]\r",
      " 76%|███████▌  | 1208/1595 [39:05<13:31,  2.10s/it]"
     ]
    },
    {
     "name": "stdout",
     "output_type": "stream",
     "text": [
      "chunks for patient: 60b389fb2f7eeb912586d1a3ccc9dbbc : 17496\n"
     ]
    },
    {
     "name": "stderr",
     "output_type": "stream",
     "text": [
      "\r",
      "          \r",
      "\r",
      "          \r",
      " 76%|███████▌  | 1208/1595 [39:07<12:32,  1.94s/it]\r",
      " 76%|███████▌  | 1209/1595 [39:07<13:47,  2.14s/it]"
     ]
    },
    {
     "name": "stdout",
     "output_type": "stream",
     "text": [
      "chunks for patient: 573a661e2d784f9385a3b78c9757ddad : 20384\n"
     ]
    },
    {
     "name": "stderr",
     "output_type": "stream",
     "text": [
      "\r",
      "          \r",
      "\r",
      "          \r",
      " 76%|███████▌  | 1209/1595 [39:08<12:29,  1.94s/it]\r",
      " 76%|███████▌  | 1210/1595 [39:08<11:43,  1.83s/it]"
     ]
    },
    {
     "name": "stdout",
     "output_type": "stream",
     "text": [
      "chunks for patient: 4b2f615f5498ee9d935b0229a2e6bb19 : 10580\n"
     ]
    },
    {
     "name": "stderr",
     "output_type": "stream",
     "text": [
      "\r",
      "          \r",
      "\r",
      "          \r",
      " 76%|███████▌  | 1210/1595 [39:11<12:28,  1.94s/it]\r",
      " 76%|███████▌  | 1211/1595 [39:11<12:25,  1.94s/it]"
     ]
    },
    {
     "name": "stdout",
     "output_type": "stream",
     "text": [
      "chunks for patient: dd281294b34eb6deb76ef9f38169d50e : 16250\n"
     ]
    },
    {
     "name": "stderr",
     "output_type": "stream",
     "text": [
      "\r",
      "          \r",
      "\r",
      "          \r",
      " 76%|███████▌  | 1211/1595 [39:13<12:26,  1.94s/it]\r",
      " 76%|███████▌  | 1212/1595 [39:13<13:42,  2.15s/it]"
     ]
    },
    {
     "name": "stdout",
     "output_type": "stream",
     "text": [
      "chunks for patient: c278a6dc82c323254ff53c58db759908 : 19683\n"
     ]
    },
    {
     "name": "stderr",
     "output_type": "stream",
     "text": [
      "\r",
      "          \r",
      "\r",
      "          \r",
      " 76%|███████▌  | 1212/1595 [39:15<12:24,  1.94s/it]\r",
      " 76%|███████▌  | 1213/1595 [39:15<11:58,  1.88s/it]"
     ]
    },
    {
     "name": "stdout",
     "output_type": "stream",
     "text": [
      "chunks for patient: 435cd5883a2014f295a8081ea098674b : 10648\n"
     ]
    },
    {
     "name": "stderr",
     "output_type": "stream",
     "text": [
      "\r",
      "          \r",
      "\r",
      "          \r",
      " 76%|███████▌  | 1213/1595 [39:17<12:22,  1.94s/it]\r",
      " 76%|███████▌  | 1214/1595 [39:17<13:37,  2.15s/it]"
     ]
    },
    {
     "name": "stdout",
     "output_type": "stream",
     "text": [
      "chunks for patient: 7f137d30638a87d151ac7e84eeaf48e8 : 22103\n"
     ]
    },
    {
     "name": "stderr",
     "output_type": "stream",
     "text": [
      "\r",
      "          \r",
      "\r",
      "          \r",
      " 76%|███████▌  | 1214/1595 [39:19<12:20,  1.94s/it]\r",
      " 76%|███████▌  | 1215/1595 [39:19<13:29,  2.13s/it]"
     ]
    },
    {
     "name": "stdout",
     "output_type": "stream",
     "text": [
      "chunks for patient: 9626af3a0a37c4fa5187447f01aa69da : 16224\n"
     ]
    },
    {
     "name": "stderr",
     "output_type": "stream",
     "text": [
      "\r",
      "          \r",
      "\r",
      "          \r",
      " 76%|███████▌  | 1215/1595 [39:21<12:18,  1.94s/it]\r",
      " 76%|███████▌  | 1216/1595 [39:21<12:58,  2.05s/it]"
     ]
    },
    {
     "name": "stdout",
     "output_type": "stream",
     "text": [
      "chunks for patient: a76b682e74918492c1f2ca4c13c29885 : 11638\n"
     ]
    },
    {
     "name": "stderr",
     "output_type": "stream",
     "text": [
      "\r",
      "          \r",
      "\r",
      "          \r",
      " 76%|███████▌  | 1216/1595 [39:23<12:16,  1.94s/it]\r",
      " 76%|███████▋  | 1217/1595 [39:23<12:02,  1.91s/it]"
     ]
    },
    {
     "name": "stdout",
     "output_type": "stream",
     "text": [
      "chunks for patient: a0fc609febe3eef5a4713a22996cf8e5 : 12844\n"
     ]
    },
    {
     "name": "stderr",
     "output_type": "stream",
     "text": [
      "\r",
      "          \r",
      "\r",
      "          \r",
      " 76%|███████▋  | 1217/1595 [39:24<12:14,  1.94s/it]\r",
      " 76%|███████▋  | 1218/1595 [39:24<11:21,  1.81s/it]"
     ]
    },
    {
     "name": "stdout",
     "output_type": "stream",
     "text": [
      "chunks for patient: ab9e5f1718f2af09030dd33b531f066c : 11638\n"
     ]
    },
    {
     "name": "stderr",
     "output_type": "stream",
     "text": [
      "\r",
      "          \r",
      "\r",
      "          \r",
      " 76%|███████▋  | 1218/1595 [39:26<12:12,  1.94s/it]\r",
      " 76%|███████▋  | 1219/1595 [39:26<11:09,  1.78s/it]"
     ]
    },
    {
     "name": "stdout",
     "output_type": "stream",
     "text": [
      "chunks for patient: 7a82802a862a267d58aa2171645f1181 : 13520\n"
     ]
    },
    {
     "name": "stderr",
     "output_type": "stream",
     "text": [
      "\r",
      "          \r",
      "\r",
      "          \r",
      " 76%|███████▋  | 1219/1595 [39:28<12:10,  1.94s/it]\r",
      " 76%|███████▋  | 1220/1595 [39:28<12:12,  1.95s/it]"
     ]
    },
    {
     "name": "stdout",
     "output_type": "stream",
     "text": [
      "chunks for patient: e537c91cdfa97d20a39df7ef04a52570 : 18225\n"
     ]
    },
    {
     "name": "stderr",
     "output_type": "stream",
     "text": [
      "\r",
      "          \r",
      "\r",
      "          \r",
      " 76%|███████▋  | 1220/1595 [39:30<12:08,  1.94s/it]\r",
      " 77%|███████▋  | 1221/1595 [39:30<11:17,  1.81s/it]"
     ]
    },
    {
     "name": "stdout",
     "output_type": "stream",
     "text": [
      "chunks for patient: e5c68cfa0f33540da3098800f0daae2c : 10143\n"
     ]
    },
    {
     "name": "stderr",
     "output_type": "stream",
     "text": [
      "\r",
      "          \r",
      "\r",
      "          \r",
      " 77%|███████▋  | 1221/1595 [39:32<12:06,  1.94s/it]\r",
      " 77%|███████▋  | 1222/1595 [39:32<11:35,  1.86s/it]"
     ]
    },
    {
     "name": "stdout",
     "output_type": "stream",
     "text": [
      "chunks for patient: eaeebb7a63edc8a329a7c5fbc583a507 : 16224\n"
     ]
    },
    {
     "name": "stderr",
     "output_type": "stream",
     "text": [
      "\r",
      "          \r",
      "\r",
      "          \r",
      " 77%|███████▋  | 1222/1595 [39:33<12:04,  1.94s/it]\r",
      " 77%|███████▋  | 1223/1595 [39:33<10:27,  1.69s/it]"
     ]
    },
    {
     "name": "stdout",
     "output_type": "stream",
     "text": [
      "chunks for patient: 0ca943d821204ceb089510f836a367fd : 10648\n"
     ]
    },
    {
     "name": "stderr",
     "output_type": "stream",
     "text": [
      "\r",
      "          \r",
      "\r",
      "          \r",
      " 77%|███████▋  | 1223/1595 [39:35<12:02,  1.94s/it]\r",
      " 77%|███████▋  | 1224/1595 [39:35<11:08,  1.80s/it]"
     ]
    },
    {
     "name": "stdout",
     "output_type": "stream",
     "text": [
      "chunks for patient: 159bc8821a2dc39a1e770cb3559e098d : 15625\n"
     ]
    },
    {
     "name": "stderr",
     "output_type": "stream",
     "text": [
      "\r",
      "          \r",
      "\r",
      "          \r",
      " 77%|███████▋  | 1224/1595 [39:37<12:00,  1.94s/it]\r",
      " 77%|███████▋  | 1225/1595 [39:37<11:22,  1.85s/it]"
     ]
    },
    {
     "name": "stdout",
     "output_type": "stream",
     "text": [
      "chunks for patient: 7bd3565827be855caf938e72b3a7880a : 13520\n"
     ]
    },
    {
     "name": "stderr",
     "output_type": "stream",
     "text": [
      "\r",
      "          \r",
      "\r",
      "          \r",
      " 77%|███████▋  | 1225/1595 [39:39<11:58,  1.94s/it]\r",
      " 77%|███████▋  | 1226/1595 [39:39<10:53,  1.77s/it]"
     ]
    },
    {
     "name": "stdout",
     "output_type": "stream",
     "text": [
      "chunks for patient: 7180c83eb184d5c9dfcbda228ab91213 : 11109\n"
     ]
    },
    {
     "name": "stderr",
     "output_type": "stream",
     "text": [
      "\r",
      "          \r",
      "\r",
      "          \r",
      " 77%|███████▋  | 1226/1595 [39:40<11:56,  1.94s/it]\r",
      " 77%|███████▋  | 1227/1595 [39:40<10:29,  1.71s/it]"
     ]
    },
    {
     "name": "stdout",
     "output_type": "stream",
     "text": [
      "chunks for patient: c02daa2116b27ce9b023fe7809ef5be9 : 9702\n"
     ]
    },
    {
     "name": "stderr",
     "output_type": "stream",
     "text": [
      "\r",
      "          \r",
      "\r",
      "          \r",
      " 77%|███████▋  | 1227/1595 [39:42<11:54,  1.94s/it]\r",
      " 77%|███████▋  | 1228/1595 [39:42<10:18,  1.69s/it]"
     ]
    },
    {
     "name": "stdout",
     "output_type": "stream",
     "text": [
      "chunks for patient: f76143416ee2c8e1251f45f108fed468 : 12167\n"
     ]
    },
    {
     "name": "stderr",
     "output_type": "stream",
     "text": [
      "\r",
      "          \r",
      "\r",
      "          \r",
      " 77%|███████▋  | 1228/1595 [39:44<11:52,  1.94s/it]\r",
      " 77%|███████▋  | 1229/1595 [39:44<11:19,  1.86s/it]"
     ]
    },
    {
     "name": "stdout",
     "output_type": "stream",
     "text": [
      "chunks for patient: 6993396b31078993e13cf9c0a6fd470b : 15000\n"
     ]
    },
    {
     "name": "stderr",
     "output_type": "stream",
     "text": [
      "\r",
      "          \r",
      "\r",
      "          \r",
      " 77%|███████▋  | 1229/1595 [39:46<11:50,  1.94s/it]\r",
      " 77%|███████▋  | 1230/1595 [39:46<11:08,  1.83s/it]"
     ]
    },
    {
     "name": "stdout",
     "output_type": "stream",
     "text": [
      "chunks for patient: 990fbe3f0a1b53878669967b9afd1441 : 16820\n"
     ]
    },
    {
     "name": "stderr",
     "output_type": "stream",
     "text": [
      "\r",
      "          \r",
      "\r",
      "          \r",
      " 77%|███████▋  | 1230/1595 [39:47<11:48,  1.94s/it]\r",
      " 77%|███████▋  | 1231/1595 [39:47<09:56,  1.64s/it]"
     ]
    },
    {
     "name": "stdout",
     "output_type": "stream",
     "text": [
      "chunks for patient: 2d81a9e760a07b25903a8c4aeb444eca : 10584\n"
     ]
    },
    {
     "name": "stderr",
     "output_type": "stream",
     "text": [
      "\r",
      "          \r",
      "\r",
      "          \r",
      " 77%|███████▋  | 1231/1595 [39:49<11:46,  1.94s/it]\r",
      " 77%|███████▋  | 1232/1595 [39:49<09:20,  1.54s/it]"
     ]
    },
    {
     "name": "stdout",
     "output_type": "stream",
     "text": [
      "chunks for patient: 4521c94debf37a4dc9f3b70366a21640 : 13125\n"
     ]
    },
    {
     "name": "stderr",
     "output_type": "stream",
     "text": [
      "\r",
      "          \r",
      "\r",
      "          \r",
      " 77%|███████▋  | 1232/1595 [39:51<11:44,  1.94s/it]\r",
      " 77%|███████▋  | 1233/1595 [39:51<10:08,  1.68s/it]"
     ]
    },
    {
     "name": "stdout",
     "output_type": "stream",
     "text": [
      "chunks for patient: 46199ffd681fd429aca3823c76f1034d : 17576\n"
     ]
    },
    {
     "name": "stderr",
     "output_type": "stream",
     "text": [
      "\r",
      "          \r",
      "\r",
      "          \r",
      " 77%|███████▋  | 1233/1595 [39:52<11:42,  1.94s/it]\r",
      " 77%|███████▋  | 1234/1595 [39:52<09:44,  1.62s/it]"
     ]
    },
    {
     "name": "stdout",
     "output_type": "stream",
     "text": [
      "chunks for patient: 39ebb8121ea6faec0405a4e8db883b55 : 11638\n"
     ]
    },
    {
     "name": "stderr",
     "output_type": "stream",
     "text": [
      "\r",
      "          \r",
      "\r",
      "          \r",
      " 77%|███████▋  | 1234/1595 [39:55<11:40,  1.94s/it]\r",
      " 77%|███████▋  | 1235/1595 [39:55<11:25,  1.90s/it]"
     ]
    },
    {
     "name": "stdout",
     "output_type": "stream",
     "text": [
      "chunks for patient: f3eafe72b1e9528116f3c430ab73a2ae : 17576\n"
     ]
    },
    {
     "name": "stderr",
     "output_type": "stream",
     "text": [
      "\r",
      "          \r",
      "\r",
      "          \r",
      " 77%|███████▋  | 1235/1595 [39:56<11:38,  1.94s/it]\r",
      " 77%|███████▋  | 1236/1595 [39:56<10:20,  1.73s/it]"
     ]
    },
    {
     "name": "stdout",
     "output_type": "stream",
     "text": [
      "chunks for patient: 38bf066bba822584e14c0af65d4bb5e9 : 10164\n"
     ]
    },
    {
     "name": "stderr",
     "output_type": "stream",
     "text": [
      "\r",
      "          \r",
      "\r",
      "          \r",
      " 77%|███████▋  | 1236/1595 [39:57<11:36,  1.94s/it]\r",
      " 78%|███████▊  | 1237/1595 [39:57<09:30,  1.59s/it]"
     ]
    },
    {
     "name": "stdout",
     "output_type": "stream",
     "text": [
      "chunks for patient: aec5a58fea38b77b964007aa6975c049 : 10648\n"
     ]
    },
    {
     "name": "stderr",
     "output_type": "stream",
     "text": [
      "\r",
      "          \r",
      "\r",
      "          \r",
      " 78%|███████▊  | 1237/1595 [39:59<11:34,  1.94s/it]\r",
      " 78%|███████▊  | 1238/1595 [39:59<09:09,  1.54s/it]"
     ]
    },
    {
     "name": "stdout",
     "output_type": "stream",
     "text": [
      "chunks for patient: 2a65c8b6d5cc50866de8caa4caabbb6d : 11025\n"
     ]
    },
    {
     "name": "stderr",
     "output_type": "stream",
     "text": [
      "\r",
      "          \r",
      "\r",
      "          \r",
      " 78%|███████▊  | 1238/1595 [40:01<11:32,  1.94s/it]\r",
      " 78%|███████▊  | 1239/1595 [40:01<10:03,  1.69s/it]"
     ]
    },
    {
     "name": "stdout",
     "output_type": "stream",
     "text": [
      "chunks for patient: 9b797e680158d10e5ae2f9166c1dabb4 : 17496\n"
     ]
    },
    {
     "name": "stderr",
     "output_type": "stream",
     "text": [
      "\r",
      "          \r",
      "\r",
      "          \r",
      " 78%|███████▊  | 1239/1595 [40:02<11:30,  1.94s/it]\r",
      " 78%|███████▊  | 1240/1595 [40:02<10:11,  1.72s/it]"
     ]
    },
    {
     "name": "stdout",
     "output_type": "stream",
     "text": [
      "chunks for patient: 48713d11ced3c60a531e6e80258d6425 : 13750\n"
     ]
    },
    {
     "name": "stderr",
     "output_type": "stream",
     "text": [
      "\r",
      "          \r",
      "\r",
      "          \r",
      " 78%|███████▊  | 1240/1595 [40:04<11:28,  1.94s/it]\r",
      " 78%|███████▊  | 1241/1595 [40:04<10:34,  1.79s/it]"
     ]
    },
    {
     "name": "stdout",
     "output_type": "stream",
     "text": [
      "chunks for patient: 75aef267ad112a21c870b7e2893aaf8a : 14872\n"
     ]
    },
    {
     "name": "stderr",
     "output_type": "stream",
     "text": [
      "\r",
      "          \r",
      "\r",
      "          \r",
      " 78%|███████▊  | 1241/1595 [40:06<11:26,  1.94s/it]\r",
      " 78%|███████▊  | 1242/1595 [40:06<10:39,  1.81s/it]"
     ]
    },
    {
     "name": "stdout",
     "output_type": "stream",
     "text": [
      "chunks for patient: d032116d73789ff9c805f493357b4037 : 15548\n"
     ]
    },
    {
     "name": "stderr",
     "output_type": "stream",
     "text": [
      "\r",
      "          \r",
      "\r",
      "          \r",
      " 78%|███████▊  | 1242/1595 [40:09<11:24,  1.94s/it]\r",
      " 78%|███████▊  | 1243/1595 [40:09<12:03,  2.06s/it]"
     ]
    },
    {
     "name": "stdout",
     "output_type": "stream",
     "text": [
      "chunks for patient: 07fdb853ff90ce3c6d5c91f619ed714e : 19683\n"
     ]
    },
    {
     "name": "stderr",
     "output_type": "stream",
     "text": [
      "\r",
      "          \r",
      "\r",
      "          \r",
      " 78%|███████▊  | 1243/1595 [40:11<11:22,  1.94s/it]\r",
      " 78%|███████▊  | 1244/1595 [40:11<12:14,  2.09s/it]"
     ]
    },
    {
     "name": "stdout",
     "output_type": "stream",
     "text": [
      "chunks for patient: 3fcfd27d83883f454ba2fe58dee4abea : 16250\n"
     ]
    },
    {
     "name": "stderr",
     "output_type": "stream",
     "text": [
      "\r",
      "          \r",
      "\r",
      "          \r",
      " 78%|███████▊  | 1244/1595 [40:13<11:21,  1.94s/it]\r",
      " 78%|███████▊  | 1245/1595 [40:13<12:12,  2.09s/it]"
     ]
    },
    {
     "name": "stdout",
     "output_type": "stream",
     "text": [
      "chunks for patient: 59af702c21840ec18073b6b56c95e7fe : 16900\n"
     ]
    },
    {
     "name": "stderr",
     "output_type": "stream",
     "text": [
      "\r",
      "          \r",
      "\r",
      "          \r",
      " 78%|███████▊  | 1245/1595 [40:16<11:19,  1.94s/it]\r",
      " 78%|███████▊  | 1246/1595 [40:16<13:15,  2.28s/it]"
     ]
    },
    {
     "name": "stdout",
     "output_type": "stream",
     "text": [
      "chunks for patient: cec6819833f63e96fc3e17e29c0124f8 : 21168\n"
     ]
    },
    {
     "name": "stderr",
     "output_type": "stream",
     "text": [
      "\r",
      "          \r",
      "\r",
      "          \r",
      " 78%|███████▊  | 1246/1595 [40:18<11:17,  1.94s/it]\r",
      " 78%|███████▊  | 1247/1595 [40:18<12:07,  2.09s/it]"
     ]
    },
    {
     "name": "stdout",
     "output_type": "stream",
     "text": [
      "chunks for patient: 1753250dab5fc81bab8280df13309733 : 11109\n"
     ]
    },
    {
     "name": "stderr",
     "output_type": "stream",
     "text": [
      "\r",
      "          \r",
      "\r",
      "          \r",
      " 78%|███████▊  | 1247/1595 [40:20<11:15,  1.94s/it]\r",
      " 78%|███████▊  | 1248/1595 [40:20<12:22,  2.14s/it]"
     ]
    },
    {
     "name": "stdout",
     "output_type": "stream",
     "text": [
      "chunks for patient: 676467220abd8e2104417c5213664ef9 : 18954\n"
     ]
    },
    {
     "name": "stderr",
     "output_type": "stream",
     "text": [
      "\r",
      "          \r",
      "\r",
      "          \r",
      " 78%|███████▊  | 1248/1595 [40:22<11:13,  1.94s/it]\r",
      " 78%|███████▊  | 1249/1595 [40:22<12:29,  2.17s/it]"
     ]
    },
    {
     "name": "stdout",
     "output_type": "stream",
     "text": [
      "chunks for patient: 7191c236cfcfc68cd21143e3a0faac51 : 16224\n"
     ]
    },
    {
     "name": "stderr",
     "output_type": "stream",
     "text": [
      "\r",
      "          \r",
      "\r",
      "          \r",
      " 78%|███████▊  | 1249/1595 [40:24<11:11,  1.94s/it]\r",
      " 78%|███████▊  | 1250/1595 [40:24<12:12,  2.12s/it]"
     ]
    },
    {
     "name": "stdout",
     "output_type": "stream",
     "text": [
      "chunks for patient: 428e25dfddfe731fc73f4e1739422181 : 16224\n"
     ]
    },
    {
     "name": "stderr",
     "output_type": "stream",
     "text": [
      "\r",
      "          \r",
      "\r",
      "          \r",
      " 78%|███████▊  | 1250/1595 [40:26<11:09,  1.94s/it]\r",
      " 78%|███████▊  | 1251/1595 [40:26<11:35,  2.02s/it]"
     ]
    },
    {
     "name": "stdout",
     "output_type": "stream",
     "text": [
      "chunks for patient: 5b412509bc40a3aeb3b5efef1fdfcfc9 : 14872\n"
     ]
    },
    {
     "name": "stderr",
     "output_type": "stream",
     "text": [
      "\r",
      "          \r",
      "\r",
      "          \r",
      " 78%|███████▊  | 1251/1595 [40:27<11:07,  1.94s/it]\r",
      " 78%|███████▊  | 1252/1595 [40:27<10:49,  1.89s/it]"
     ]
    },
    {
     "name": "stdout",
     "output_type": "stream",
     "text": [
      "chunks for patient: 28a9b77a9113ce491433d3ea47fa8fc9 : 13225\n"
     ]
    },
    {
     "name": "stderr",
     "output_type": "stream",
     "text": [
      "\r",
      "          \r",
      "\r",
      "          \r",
      " 78%|███████▊  | 1252/1595 [40:29<11:05,  1.94s/it]\r",
      " 79%|███████▊  | 1253/1595 [40:29<09:55,  1.74s/it]"
     ]
    },
    {
     "name": "stdout",
     "output_type": "stream",
     "text": [
      "chunks for patient: 174a9fc87f54d6def3730954fbafc99d : 9261\n"
     ]
    },
    {
     "name": "stderr",
     "output_type": "stream",
     "text": [
      "\r",
      "          \r",
      "\r",
      "          \r",
      " 79%|███████▊  | 1253/1595 [40:32<11:03,  1.94s/it]\r",
      " 79%|███████▊  | 1254/1595 [40:32<11:43,  2.06s/it]"
     ]
    },
    {
     "name": "stdout",
     "output_type": "stream",
     "text": [
      "chunks for patient: e129305f6d074d08cd2de0ebdfeaa576 : 21600\n"
     ]
    },
    {
     "name": "stderr",
     "output_type": "stream",
     "text": [
      "\r",
      "          \r",
      "\r",
      "          \r",
      " 79%|███████▊  | 1254/1595 [40:33<11:01,  1.94s/it]\r",
      " 79%|███████▊  | 1255/1595 [40:33<11:19,  2.00s/it]"
     ]
    },
    {
     "name": "stdout",
     "output_type": "stream",
     "text": [
      "chunks for patient: b8ad1b45ae4ba6c97951ed30b8640f6b : 16464\n"
     ]
    },
    {
     "name": "stderr",
     "output_type": "stream",
     "text": [
      "\r",
      "          \r",
      "\r",
      "          \r",
      " 79%|███████▊  | 1255/1595 [40:36<11:00,  1.94s/it]\r",
      " 79%|███████▊  | 1256/1595 [40:36<12:22,  2.19s/it]"
     ]
    },
    {
     "name": "stdout",
     "output_type": "stream",
     "text": [
      "chunks for patient: 0ddeb08e9c97227853422bd71a2a695e : 21025\n"
     ]
    },
    {
     "name": "stderr",
     "output_type": "stream",
     "text": [
      "\r",
      "          \r",
      "\r",
      "          \r",
      " 79%|███████▊  | 1256/1595 [40:38<10:58,  1.94s/it]\r",
      " 79%|███████▉  | 1257/1595 [40:38<11:55,  2.12s/it]"
     ]
    },
    {
     "name": "stdout",
     "output_type": "stream",
     "text": [
      "chunks for patient: ce0609052ba7b533e2974728b0c76bfe : 15548\n"
     ]
    },
    {
     "name": "stderr",
     "output_type": "stream",
     "text": [
      "\r",
      "          \r",
      "\r",
      "          \r",
      " 79%|███████▉  | 1257/1595 [40:40<10:56,  1.94s/it]\r",
      " 79%|███████▉  | 1258/1595 [40:40<10:59,  1.96s/it]"
     ]
    },
    {
     "name": "stdout",
     "output_type": "stream",
     "text": [
      "chunks for patient: c84e28d37dcc14a268b760bf16213cfa : 12844\n"
     ]
    },
    {
     "name": "stderr",
     "output_type": "stream",
     "text": [
      "\r",
      "          \r",
      "\r",
      "          \r",
      " 79%|███████▉  | 1258/1595 [40:42<10:54,  1.94s/it]\r",
      " 79%|███████▉  | 1259/1595 [40:42<11:24,  2.04s/it]"
     ]
    },
    {
     "name": "stdout",
     "output_type": "stream",
     "text": [
      "chunks for patient: d2a17180c72ce7e5e9cb3870ba7991d2 : 18252\n"
     ]
    },
    {
     "name": "stderr",
     "output_type": "stream",
     "text": [
      "\r",
      "          \r",
      "\r",
      "          \r",
      " 79%|███████▉  | 1259/1595 [40:43<10:52,  1.94s/it]\r",
      " 79%|███████▉  | 1260/1595 [40:43<10:36,  1.90s/it]"
     ]
    },
    {
     "name": "stdout",
     "output_type": "stream",
     "text": [
      "chunks for patient: 440fb90654b1436e7c3bbdac991b8c1d : 12167\n"
     ]
    },
    {
     "name": "stderr",
     "output_type": "stream",
     "text": [
      "\r",
      "          \r",
      "\r",
      "          \r",
      " 79%|███████▉  | 1260/1595 [40:45<10:50,  1.94s/it]\r",
      " 79%|███████▉  | 1261/1595 [40:45<09:57,  1.79s/it]"
     ]
    },
    {
     "name": "stdout",
     "output_type": "stream",
     "text": [
      "chunks for patient: 4434e19303b62ebaecef2596583ff351 : 13824\n"
     ]
    },
    {
     "name": "stderr",
     "output_type": "stream",
     "text": [
      "\r",
      "          \r",
      "\r",
      "          \r",
      " 79%|███████▉  | 1261/1595 [40:46<10:48,  1.94s/it]\r",
      " 79%|███████▉  | 1262/1595 [40:46<09:19,  1.68s/it]"
     ]
    },
    {
     "name": "stdout",
     "output_type": "stream",
     "text": [
      "chunks for patient: 013395589c01aa01f8df81d80fb0e2b8 : 8400\n"
     ]
    },
    {
     "name": "stderr",
     "output_type": "stream",
     "text": [
      "\r",
      "          \r",
      "\r",
      "          \r",
      " 79%|███████▉  | 1262/1595 [40:48<10:45,  1.94s/it]\r",
      " 79%|███████▉  | 1263/1595 [40:48<08:28,  1.53s/it]"
     ]
    },
    {
     "name": "stdout",
     "output_type": "stream",
     "text": [
      "chunks for patient: 2fd66be0a5e07b8bd4be1d8169cd846f : 10584\n"
     ]
    },
    {
     "name": "stderr",
     "output_type": "stream",
     "text": [
      "\r",
      "          \r",
      "\r",
      "          \r",
      " 79%|███████▉  | 1263/1595 [40:49<10:43,  1.94s/it]\r",
      " 79%|███████▉  | 1264/1595 [40:49<07:44,  1.40s/it]"
     ]
    },
    {
     "name": "stdout",
     "output_type": "stream",
     "text": [
      "chunks for patient: b83ce5267f3fd41c7029b4e56724cd08 : 7938\n"
     ]
    },
    {
     "name": "stderr",
     "output_type": "stream",
     "text": [
      "\r",
      "          \r",
      "\r",
      "          \r",
      " 79%|███████▉  | 1264/1595 [40:51<10:41,  1.94s/it]\r",
      " 79%|███████▉  | 1265/1595 [40:51<08:56,  1.63s/it]"
     ]
    },
    {
     "name": "stdout",
     "output_type": "stream",
     "text": [
      "chunks for patient: e127111e994be5f79bb0cea52c9d563e : 14872\n"
     ]
    },
    {
     "name": "stderr",
     "output_type": "stream",
     "text": [
      "\r",
      "          \r",
      "\r",
      "          \r",
      " 79%|███████▉  | 1265/1595 [40:53<10:40,  1.94s/it]\r",
      " 79%|███████▉  | 1266/1595 [40:53<09:59,  1.82s/it]"
     ]
    },
    {
     "name": "stdout",
     "output_type": "stream",
     "text": [
      "chunks for patient: 6799964c08ad5ce7740defcd3bd037a6 : 20184\n"
     ]
    },
    {
     "name": "stderr",
     "output_type": "stream",
     "text": [
      "\r",
      "          \r",
      "\r",
      "          \r",
      " 79%|███████▉  | 1266/1595 [40:56<10:38,  1.94s/it]\r",
      " 79%|███████▉  | 1267/1595 [40:56<11:21,  2.08s/it]"
     ]
    },
    {
     "name": "stdout",
     "output_type": "stream",
     "text": [
      "chunks for patient: 45efbc7cc2657278f878bc973cecc141 : 18816\n"
     ]
    },
    {
     "name": "stderr",
     "output_type": "stream",
     "text": [
      "\r",
      "          \r",
      "\r",
      "          \r",
      " 79%|███████▉  | 1267/1595 [40:58<10:36,  1.94s/it]\r",
      " 79%|███████▉  | 1268/1595 [40:58<11:37,  2.13s/it]"
     ]
    },
    {
     "name": "stdout",
     "output_type": "stream",
     "text": [
      "chunks for patient: e56b9f25a47a42f4ae4085005c46109c : 16224\n"
     ]
    },
    {
     "name": "stderr",
     "output_type": "stream",
     "text": [
      "\r",
      "          \r",
      "\r",
      "          \r",
      " 79%|███████▉  | 1268/1595 [41:00<10:34,  1.94s/it]\r",
      " 80%|███████▉  | 1269/1595 [41:00<10:28,  1.93s/it]"
     ]
    },
    {
     "name": "stdout",
     "output_type": "stream",
     "text": [
      "chunks for patient: c4c801ae039ba335fa32df7d84e4decb : 12100\n"
     ]
    },
    {
     "name": "stderr",
     "output_type": "stream",
     "text": [
      "\r",
      "          \r",
      "\r",
      "          \r",
      " 80%|███████▉  | 1269/1595 [41:02<10:32,  1.94s/it]\r",
      " 80%|███████▉  | 1270/1595 [41:02<11:21,  2.10s/it]"
     ]
    },
    {
     "name": "stdout",
     "output_type": "stream",
     "text": [
      "chunks for patient: 505405b3e70fb24b92e6a8a5b7ed339c : 18816\n"
     ]
    },
    {
     "name": "stderr",
     "output_type": "stream",
     "text": [
      "\r",
      "          \r",
      "\r",
      "          \r",
      " 80%|███████▉  | 1270/1595 [41:04<10:30,  1.94s/it]\r",
      " 80%|███████▉  | 1271/1595 [41:04<10:41,  1.98s/it]"
     ]
    },
    {
     "name": "stdout",
     "output_type": "stream",
     "text": [
      "chunks for patient: cc1b7e34d9eba737c9fb91316463e8f7 : 12672\n"
     ]
    },
    {
     "name": "stderr",
     "output_type": "stream",
     "text": [
      "\r",
      "          \r",
      "\r",
      "          \r",
      " 80%|███████▉  | 1271/1595 [41:06<10:28,  1.94s/it]\r",
      " 80%|███████▉  | 1272/1595 [41:06<11:57,  2.22s/it]"
     ]
    },
    {
     "name": "stdout",
     "output_type": "stream",
     "text": [
      "chunks for patient: c610439ebef643c7fd4b30de8088bb55 : 18954\n"
     ]
    },
    {
     "name": "stderr",
     "output_type": "stream",
     "text": [
      "\r",
      "          \r",
      "\r",
      "          \r",
      " 80%|███████▉  | 1272/1595 [41:09<10:27,  1.94s/it]\r",
      " 80%|███████▉  | 1273/1595 [41:09<12:58,  2.42s/it]"
     ]
    },
    {
     "name": "stdout",
     "output_type": "stream",
     "text": [
      "chunks for patient: 16a4184e565f589622a70e82957ab54e : 22707\n"
     ]
    },
    {
     "name": "stderr",
     "output_type": "stream",
     "text": [
      "\r",
      "          \r",
      "\r",
      "          \r",
      " 80%|███████▉  | 1273/1595 [41:11<10:25,  1.94s/it]\r",
      " 80%|███████▉  | 1274/1595 [41:11<11:53,  2.22s/it]"
     ]
    },
    {
     "name": "stdout",
     "output_type": "stream",
     "text": [
      "chunks for patient: 3a78dcf53effd732bc3880c029154272 : 15548\n"
     ]
    },
    {
     "name": "stderr",
     "output_type": "stream",
     "text": [
      "\r",
      "          \r",
      "\r",
      "          \r",
      " 80%|███████▉  | 1274/1595 [41:13<10:23,  1.94s/it]\r",
      " 80%|███████▉  | 1275/1595 [41:13<11:07,  2.09s/it]"
     ]
    },
    {
     "name": "stdout",
     "output_type": "stream",
     "text": [
      "chunks for patient: 4dbda61d574417c7f25d6e9a8f0749a7 : 15548\n"
     ]
    },
    {
     "name": "stderr",
     "output_type": "stream",
     "text": [
      "\r",
      "          \r",
      "\r",
      "          \r",
      " 80%|███████▉  | 1275/1595 [41:14<10:21,  1.94s/it]\r",
      " 80%|████████  | 1276/1595 [41:14<09:36,  1.81s/it]"
     ]
    },
    {
     "name": "stdout",
     "output_type": "stream",
     "text": [
      "chunks for patient: 3c5a0fc6890a1f84211cf8a75c1b83c4 : 8400\n"
     ]
    },
    {
     "name": "stderr",
     "output_type": "stream",
     "text": [
      "\r",
      "          \r",
      "\r",
      "          \r",
      " 80%|████████  | 1276/1595 [41:16<10:19,  1.94s/it]\r",
      " 80%|████████  | 1277/1595 [41:16<10:07,  1.91s/it]"
     ]
    },
    {
     "name": "stdout",
     "output_type": "stream",
     "text": [
      "chunks for patient: 43f2ef8f53e1aa03bfb6378d0c20a8ac : 14872\n"
     ]
    },
    {
     "name": "stderr",
     "output_type": "stream",
     "text": [
      "\r",
      "          \r",
      "\r",
      "          \r",
      " 80%|████████  | 1277/1595 [41:18<10:17,  1.94s/it]\r",
      " 80%|████████  | 1278/1595 [41:18<09:30,  1.80s/it]"
     ]
    },
    {
     "name": "stdout",
     "output_type": "stream",
     "text": [
      "chunks for patient: 53087ef723e2433ad0b8041e408c6f8c : 9702\n"
     ]
    },
    {
     "name": "stderr",
     "output_type": "stream",
     "text": [
      "\r",
      "          \r",
      "\r",
      "          \r",
      " 80%|████████  | 1278/1595 [41:19<10:15,  1.94s/it]\r",
      " 80%|████████  | 1279/1595 [41:19<08:55,  1.69s/it]"
     ]
    },
    {
     "name": "stdout",
     "output_type": "stream",
     "text": [
      "chunks for patient: b8dc33b670bb078d10954345c3ffbb3a : 12167\n"
     ]
    },
    {
     "name": "stderr",
     "output_type": "stream",
     "text": [
      "\r",
      "          \r",
      "\r",
      "          \r",
      " 80%|████████  | 1279/1595 [41:21<10:13,  1.94s/it]\r",
      " 80%|████████  | 1280/1595 [41:21<09:24,  1.79s/it]"
     ]
    },
    {
     "name": "stdout",
     "output_type": "stream",
     "text": [
      "chunks for patient: a32e7fdbc0db97e35aabd7c931a582ea : 15548\n"
     ]
    },
    {
     "name": "stderr",
     "output_type": "stream",
     "text": [
      "\r",
      "          \r",
      "\r",
      "          \r",
      " 80%|████████  | 1280/1595 [41:24<10:11,  1.94s/it]\r",
      " 80%|████████  | 1281/1595 [41:24<10:16,  1.96s/it]"
     ]
    },
    {
     "name": "stdout",
     "output_type": "stream",
     "text": [
      "chunks for patient: 7051fc0fcf2344a2967d9a1a5478208e : 17576\n"
     ]
    },
    {
     "name": "stderr",
     "output_type": "stream",
     "text": [
      "\r",
      "          \r",
      "\r",
      "          \r",
      " 80%|████████  | 1281/1595 [41:26<10:09,  1.94s/it]\r",
      " 80%|████████  | 1282/1595 [41:26<11:09,  2.14s/it]"
     ]
    },
    {
     "name": "stdout",
     "output_type": "stream",
     "text": [
      "chunks for patient: 4dade0813da186d968b4b8c4952cbb0c : 17576\n"
     ]
    },
    {
     "name": "stderr",
     "output_type": "stream",
     "text": [
      "\r",
      "          \r",
      "\r",
      "          \r",
      " 80%|████████  | 1282/1595 [41:28<10:07,  1.94s/it]\r",
      " 80%|████████  | 1283/1595 [41:28<10:03,  1.93s/it]"
     ]
    },
    {
     "name": "stdout",
     "output_type": "stream",
     "text": [
      "chunks for patient: 36f4fca6bbd993088ee024f93a61b722 : 12167\n"
     ]
    },
    {
     "name": "stderr",
     "output_type": "stream",
     "text": [
      "\r",
      "          \r",
      "\r",
      "          \r",
      " 80%|████████  | 1283/1595 [41:29<10:05,  1.94s/it]\r",
      " 81%|████████  | 1284/1595 [41:29<09:44,  1.88s/it]"
     ]
    },
    {
     "name": "stdout",
     "output_type": "stream",
     "text": [
      "chunks for patient: 762d3d698144370d197a7b9bc978d6c9 : 13824\n"
     ]
    },
    {
     "name": "stderr",
     "output_type": "stream",
     "text": [
      "\r",
      "          \r",
      "\r",
      "          \r",
      " 81%|████████  | 1284/1595 [41:31<10:03,  1.94s/it]\r",
      " 81%|████████  | 1285/1595 [41:31<09:50,  1.90s/it]"
     ]
    },
    {
     "name": "stdout",
     "output_type": "stream",
     "text": [
      "chunks for patient: a7293f9b20e715fc78cc0b09a4feab01 : 16224\n"
     ]
    },
    {
     "name": "stderr",
     "output_type": "stream",
     "text": [
      "\r",
      "          \r",
      "\r",
      "          \r",
      " 81%|████████  | 1285/1595 [41:33<10:01,  1.94s/it]\r",
      " 81%|████████  | 1286/1595 [41:33<09:38,  1.87s/it]"
     ]
    },
    {
     "name": "stdout",
     "output_type": "stream",
     "text": [
      "chunks for patient: 42e374c728e50cf2aaa78db97f24a82c : 13824\n"
     ]
    },
    {
     "name": "stderr",
     "output_type": "stream",
     "text": [
      "\r",
      "          \r",
      "\r",
      "          \r",
      " 81%|████████  | 1286/1595 [41:34<09:59,  1.94s/it]\r",
      " 81%|████████  | 1287/1595 [41:34<08:24,  1.64s/it]"
     ]
    },
    {
     "name": "stdout",
     "output_type": "stream",
     "text": [
      "chunks for patient: 3a3a7a6b3d2a4ea6b1f5bc6ea715eab8 : 7581\n"
     ]
    },
    {
     "name": "stderr",
     "output_type": "stream",
     "text": [
      "\r",
      "          \r",
      "\r",
      "          \r",
      " 81%|████████  | 1287/1595 [41:36<09:57,  1.94s/it]\r",
      " 81%|████████  | 1288/1595 [41:36<08:43,  1.71s/it]"
     ]
    },
    {
     "name": "stdout",
     "output_type": "stream",
     "text": [
      "chunks for patient: 0890a698c0a6ce5db48b1467011bf8d2 : 14375\n"
     ]
    },
    {
     "name": "stderr",
     "output_type": "stream",
     "text": [
      "\r",
      "          \r",
      "\r",
      "          \r",
      " 81%|████████  | 1288/1595 [41:38<09:55,  1.94s/it]\r",
      " 81%|████████  | 1289/1595 [41:38<09:12,  1.81s/it]"
     ]
    },
    {
     "name": "stdout",
     "output_type": "stream",
     "text": [
      "chunks for patient: 73280f6a624b3bf7a766c70b31dfc56b : 15548\n"
     ]
    },
    {
     "name": "stderr",
     "output_type": "stream",
     "text": [
      "\r",
      "          \r",
      "\r",
      "          \r",
      " 81%|████████  | 1289/1595 [41:39<09:53,  1.94s/it]\r",
      " 81%|████████  | 1290/1595 [41:39<08:00,  1.58s/it]"
     ]
    },
    {
     "name": "stdout",
     "output_type": "stream",
     "text": [
      "chunks for patient: 74b542d34b61740c1933d2c953403aa6 : 8820\n"
     ]
    },
    {
     "name": "stderr",
     "output_type": "stream",
     "text": [
      "\r",
      "          \r",
      "\r",
      "          \r",
      " 81%|████████  | 1290/1595 [41:40<09:51,  1.94s/it]\r",
      " 81%|████████  | 1291/1595 [41:40<07:39,  1.51s/it]"
     ]
    },
    {
     "name": "stdout",
     "output_type": "stream",
     "text": [
      "chunks for patient: 8c2f9e7025d6070e9f4ab8a65c8e9dbb : 14375\n"
     ]
    },
    {
     "name": "stderr",
     "output_type": "stream",
     "text": [
      "\r",
      "          \r",
      "\r",
      "          \r",
      " 81%|████████  | 1291/1595 [41:42<09:49,  1.94s/it]\r",
      " 81%|████████  | 1292/1595 [41:42<07:47,  1.54s/it]"
     ]
    },
    {
     "name": "stdout",
     "output_type": "stream",
     "text": [
      "chunks for patient: c713ec80637677965806579fce0b7dca : 13750\n"
     ]
    },
    {
     "name": "stderr",
     "output_type": "stream",
     "text": [
      "\r",
      "          \r",
      "\r",
      "          \r",
      " 81%|████████  | 1292/1595 [41:44<09:47,  1.94s/it]\r",
      " 81%|████████  | 1293/1595 [41:44<08:09,  1.62s/it]"
     ]
    },
    {
     "name": "stdout",
     "output_type": "stream",
     "text": [
      "chunks for patient: 7050f8141e92fa42fd9c471a8b2f50ce : 13225\n"
     ]
    },
    {
     "name": "stderr",
     "output_type": "stream",
     "text": [
      "\r",
      "          \r",
      "\r",
      "          \r",
      " 81%|████████  | 1293/1595 [41:46<09:45,  1.94s/it]\r",
      " 81%|████████  | 1294/1595 [41:46<08:55,  1.78s/it]"
     ]
    },
    {
     "name": "stdout",
     "output_type": "stream",
     "text": [
      "chunks for patient: 9437f7c26ffdaca5a9ae5302d9736c35 : 16224\n"
     ]
    },
    {
     "name": "stderr",
     "output_type": "stream",
     "text": [
      "\r",
      "          \r",
      "\r",
      "          \r",
      " 81%|████████  | 1294/1595 [41:48<09:43,  1.94s/it]\r",
      " 81%|████████  | 1295/1595 [41:48<08:41,  1.74s/it]"
     ]
    },
    {
     "name": "stdout",
     "output_type": "stream",
     "text": [
      "chunks for patient: 04a8c47583142181728056310759dea1 : 13750\n"
     ]
    },
    {
     "name": "stderr",
     "output_type": "stream",
     "text": [
      "\r",
      "          \r",
      "\r",
      "          \r",
      " 81%|████████  | 1295/1595 [41:49<09:41,  1.94s/it]\r",
      " 81%|████████▏ | 1296/1595 [41:49<08:34,  1.72s/it]"
     ]
    },
    {
     "name": "stdout",
     "output_type": "stream",
     "text": [
      "chunks for patient: c25876fb40d6f8dafd1ecb243193dd3f : 12096\n"
     ]
    },
    {
     "name": "stderr",
     "output_type": "stream",
     "text": [
      "\r",
      "          \r",
      "\r",
      "          \r",
      " 81%|████████▏ | 1296/1595 [41:52<09:39,  1.94s/it]\r",
      " 81%|████████▏ | 1297/1595 [41:52<09:28,  1.91s/it]"
     ]
    },
    {
     "name": "stdout",
     "output_type": "stream",
     "text": [
      "chunks for patient: f27d7bf8df3cf0cd187682fc6860b755 : 18032\n"
     ]
    },
    {
     "name": "stderr",
     "output_type": "stream",
     "text": [
      "\r",
      "          \r",
      "\r",
      "          \r",
      " 81%|████████▏ | 1297/1595 [41:54<09:37,  1.94s/it]\r",
      " 81%|████████▏ | 1298/1595 [41:54<09:57,  2.01s/it]"
     ]
    },
    {
     "name": "stdout",
     "output_type": "stream",
     "text": [
      "chunks for patient: baafc60a08ae90052fd44eb78a21cfbf : 19600\n"
     ]
    },
    {
     "name": "stderr",
     "output_type": "stream",
     "text": [
      "\r",
      "          \r",
      "\r",
      "          \r",
      " 81%|████████▏ | 1298/1595 [41:56<09:35,  1.94s/it]\r",
      " 81%|████████▏ | 1299/1595 [41:56<10:02,  2.03s/it]"
     ]
    },
    {
     "name": "stdout",
     "output_type": "stream",
     "text": [
      "chunks for patient: 17ffaa3e8b53cc48e97fc6b87114e6dd : 15625\n"
     ]
    },
    {
     "name": "stderr",
     "output_type": "stream",
     "text": [
      "\r",
      "          \r",
      "\r",
      "          \r",
      " 81%|████████▏ | 1299/1595 [41:58<09:33,  1.94s/it]\r",
      " 82%|████████▏ | 1300/1595 [41:58<10:06,  2.06s/it]"
     ]
    },
    {
     "name": "stdout",
     "output_type": "stream",
     "text": [
      "chunks for patient: 3938d2274f0576b70fffa9aa68af8874 : 18816\n"
     ]
    },
    {
     "name": "stderr",
     "output_type": "stream",
     "text": [
      "\r",
      "          \r",
      "\r",
      "          \r",
      " 82%|████████▏ | 1300/1595 [42:01<09:32,  1.94s/it]\r",
      " 82%|████████▏ | 1301/1595 [42:01<11:16,  2.30s/it]"
     ]
    },
    {
     "name": "stdout",
     "output_type": "stream",
     "text": [
      "chunks for patient: a73f098ed638571f8db71a20e1551875 : 22500\n"
     ]
    },
    {
     "name": "stderr",
     "output_type": "stream",
     "text": [
      "\r",
      "          \r",
      "\r",
      "          \r",
      " 82%|████████▏ | 1301/1595 [42:04<09:30,  1.94s/it]\r",
      " 82%|████████▏ | 1302/1595 [42:04<11:31,  2.36s/it]"
     ]
    },
    {
     "name": "stdout",
     "output_type": "stream",
     "text": [
      "chunks for patient: de881c07adc8d53e52391fac066ccb9f : 16900\n"
     ]
    },
    {
     "name": "stderr",
     "output_type": "stream",
     "text": [
      " 82%|████████▏ | 1303/1595 [42:05<09:25,  1.94s/it]"
     ]
    },
    {
     "name": "stdout",
     "output_type": "stream",
     "text": [
      "chunks for patient: d7e5640b52c8e092ec277febc81478da : 13248\n",
      "chunks for patient: fd64b23b8cd8c371c8f76fbb503e4e0e : 8400\n"
     ]
    },
    {
     "name": "stderr",
     "output_type": "stream",
     "text": [
      "\r",
      "          \r",
      "\r",
      "          \r",
      " 82%|████████▏ | 1303/1595 [42:07<09:26,  1.94s/it]\r",
      " 82%|████████▏ | 1305/1595 [42:07<08:19,  1.72s/it]"
     ]
    },
    {
     "name": "stdout",
     "output_type": "stream",
     "text": [
      "chunks for patient: 11f10c2a0bfd231deeec98d69e4d0767 : 17576\n"
     ]
    },
    {
     "name": "stderr",
     "output_type": "stream",
     "text": [
      "\r",
      "          \r",
      "\r",
      "          \r",
      " 82%|████████▏ | 1305/1595 [42:09<09:22,  1.94s/it]\r",
      " 82%|████████▏ | 1306/1595 [42:09<09:09,  1.90s/it]"
     ]
    },
    {
     "name": "stdout",
     "output_type": "stream",
     "text": [
      "chunks for patient: 243e69389ae5738d3f89386b0efddbcd : 17496\n"
     ]
    },
    {
     "name": "stderr",
     "output_type": "stream",
     "text": [
      "\r",
      "          \r",
      "\r",
      "          \r",
      " 82%|████████▏ | 1306/1595 [42:10<09:20,  1.94s/it]\r",
      " 82%|████████▏ | 1307/1595 [42:10<08:17,  1.73s/it]"
     ]
    },
    {
     "name": "stdout",
     "output_type": "stream",
     "text": [
      "chunks for patient: f029c73f6f8753e7447c4e9f22e917ad : 10164\n"
     ]
    },
    {
     "name": "stderr",
     "output_type": "stream",
     "text": [
      "\r",
      "          \r",
      "\r",
      "          \r",
      " 82%|████████▏ | 1307/1595 [42:12<09:18,  1.94s/it]\r",
      " 82%|████████▏ | 1308/1595 [42:12<08:19,  1.74s/it]"
     ]
    },
    {
     "name": "stdout",
     "output_type": "stream",
     "text": [
      "chunks for patient: c1ac4b0949e6e7557f82caf20761322d : 13225\n"
     ]
    },
    {
     "name": "stderr",
     "output_type": "stream",
     "text": [
      "\r",
      "          \r",
      "\r",
      "          \r",
      " 82%|████████▏ | 1308/1595 [42:14<09:16,  1.94s/it]\r",
      " 82%|████████▏ | 1309/1595 [42:14<08:27,  1.78s/it]"
     ]
    },
    {
     "name": "stdout",
     "output_type": "stream",
     "text": [
      "chunks for patient: 1631637f08f27347e8f23d7a0e18c100 : 15548\n"
     ]
    },
    {
     "name": "stderr",
     "output_type": "stream",
     "text": [
      " 82%|████████▏ | 1310/1595 [42:16<09:11,  1.94s/it]"
     ]
    },
    {
     "name": "stdout",
     "output_type": "stream",
     "text": [
      "chunks for patient: f599c9bb0bd19126e13fba8b63d2de41 : 19343\n",
      "chunks for patient: 2703df8c469906a06a45c0d7ff501199 : 30420\n"
     ]
    },
    {
     "name": "stderr",
     "output_type": "stream",
     "text": [
      "\r",
      "          \r",
      "\r",
      "          \r",
      " 82%|████████▏ | 1310/1595 [42:19<09:12,  1.94s/it]\r",
      " 82%|████████▏ | 1312/1595 [42:19<08:09,  1.73s/it]"
     ]
    },
    {
     "name": "stdout",
     "output_type": "stream",
     "text": [
      "chunks for patient: 5ade88428e6463fa212d4c287228e8ed : 18225\n"
     ]
    },
    {
     "name": "stderr",
     "output_type": "stream",
     "text": [
      "\r",
      "          \r",
      "\r",
      "          \r",
      " 82%|████████▏ | 1312/1595 [42:21<09:08,  1.94s/it]\r",
      " 82%|████████▏ | 1313/1595 [42:21<08:37,  1.83s/it]"
     ]
    },
    {
     "name": "stdout",
     "output_type": "stream",
     "text": [
      "chunks for patient: 0fb1b54da1e66c60a57db9c52f945e25 : 16128\n"
     ]
    },
    {
     "name": "stderr",
     "output_type": "stream",
     "text": [
      "\r",
      "          \r",
      "\r",
      "          \r",
      " 82%|████████▏ | 1313/1595 [42:23<09:06,  1.94s/it]\r",
      " 82%|████████▏ | 1314/1595 [42:23<08:22,  1.79s/it]"
     ]
    },
    {
     "name": "stdout",
     "output_type": "stream",
     "text": [
      "chunks for patient: 89bfbba58ee5cd0e346cdd6ffd3fa3a3 : 12167\n"
     ]
    },
    {
     "name": "stderr",
     "output_type": "stream",
     "text": [
      "\r",
      "          \r",
      "\r",
      "          \r",
      " 82%|████████▏ | 1314/1595 [42:25<09:04,  1.94s/it]\r",
      " 82%|████████▏ | 1315/1595 [42:25<09:12,  1.97s/it]"
     ]
    },
    {
     "name": "stdout",
     "output_type": "stream",
     "text": [
      "chunks for patient: 44012bec8f33a785f7844cea8910487d : 10584\n"
     ]
    },
    {
     "name": "stderr",
     "output_type": "stream",
     "text": [
      " 83%|████████▎ | 1316/1595 [42:27<09:00,  1.94s/it]"
     ]
    },
    {
     "name": "stdout",
     "output_type": "stream",
     "text": [
      "chunks for patient: 28824d52b6425841bb263393c3211693 : 16038\n",
      "chunks for patient: fda187bfb1d6a2ecd4abd862c7f7f94c : 10143\n"
     ]
    },
    {
     "name": "stderr",
     "output_type": "stream",
     "text": [
      " 83%|████████▎ | 1318/1595 [42:29<08:55,  1.93s/it]"
     ]
    },
    {
     "name": "stdout",
     "output_type": "stream",
     "text": [
      "chunks for patient: f4bee414210374e68b6746f70b38d461 : 14872\n",
      "chunks for patient: 66a92d789e440d3dbef3c69d20e20694 : 12672\n"
     ]
    },
    {
     "name": "stderr",
     "output_type": "stream",
     "text": [
      "\r",
      "          \r",
      "\r",
      "          \r",
      " 83%|████████▎ | 1318/1595 [42:30<08:56,  1.94s/it]\r",
      " 83%|████████▎ | 1320/1595 [42:30<06:15,  1.37s/it]"
     ]
    },
    {
     "name": "stdout",
     "output_type": "stream",
     "text": [
      "chunks for patient: e2ea2f046495909ff89e18e05f710fee : 10580\n"
     ]
    },
    {
     "name": "stderr",
     "output_type": "stream",
     "text": [
      "\r",
      "          \r",
      "\r",
      "          \r",
      " 83%|████████▎ | 1320/1595 [42:33<08:51,  1.93s/it]\r",
      " 83%|████████▎ | 1321/1595 [42:33<07:37,  1.67s/it]"
     ]
    },
    {
     "name": "stdout",
     "output_type": "stream",
     "text": [
      "chunks for patient: 448ce51772879fcd88f61c07b06347b2 : 18252\n"
     ]
    },
    {
     "name": "stderr",
     "output_type": "stream",
     "text": [
      "\r",
      "          \r",
      "\r",
      "          \r",
      " 83%|████████▎ | 1321/1595 [42:35<08:49,  1.93s/it]\r",
      " 83%|████████▎ | 1322/1595 [42:35<07:52,  1.73s/it]"
     ]
    },
    {
     "name": "stdout",
     "output_type": "stream",
     "text": [
      "chunks for patient: 7daeb8ef7307849c715f7f6f3e2dd88e : 16224\n"
     ]
    },
    {
     "name": "stderr",
     "output_type": "stream",
     "text": [
      "\r",
      "          \r",
      "\r",
      "          \r",
      " 83%|████████▎ | 1322/1595 [42:36<08:48,  1.93s/it]\r",
      " 83%|████████▎ | 1323/1595 [42:36<08:07,  1.79s/it]"
     ]
    },
    {
     "name": "stdout",
     "output_type": "stream",
     "text": [
      "chunks for patient: 87cdf4626079509e5d6d3c3b6c8bfc2e : 15625\n"
     ]
    },
    {
     "name": "stderr",
     "output_type": "stream",
     "text": [
      " 83%|████████▎ | 1324/1595 [42:39<08:43,  1.93s/it]"
     ]
    },
    {
     "name": "stdout",
     "output_type": "stream",
     "text": [
      "chunks for patient: 93b60dbb5cc3fa4c4cc9247cb1143a09 : 18954\n",
      "chunks for patient: b280f1f464aa5e0de843229de12fc1aa : 14872\n"
     ]
    },
    {
     "name": "stderr",
     "output_type": "stream",
     "text": [
      "\r",
      "          \r",
      "\r",
      "          \r",
      " 83%|████████▎ | 1324/1595 [42:41<08:44,  1.93s/it]\r",
      " 83%|████████▎ | 1326/1595 [42:41<07:56,  1.77s/it]"
     ]
    },
    {
     "name": "stdout",
     "output_type": "stream",
     "text": [
      "chunks for patient: f2f23b265b2a3b977cb81fe3193d7c2c : 13824\n"
     ]
    },
    {
     "name": "stderr",
     "output_type": "stream",
     "text": [
      " 83%|████████▎ | 1327/1595 [42:43<08:37,  1.93s/it]"
     ]
    },
    {
     "name": "stdout",
     "output_type": "stream",
     "text": [
      "chunks for patient: 380eb569a5750648434cc8ae8da4a0a9 : 10648\n",
      "chunks for patient: 6a08bc7a3156caf9b07bbb1f9b2861d2 : 18252\n"
     ]
    },
    {
     "name": "stderr",
     "output_type": "stream",
     "text": [
      "\r",
      "          \r",
      "\r",
      "          \r",
      " 83%|████████▎ | 1327/1595 [42:44<08:37,  1.93s/it]\r",
      " 83%|████████▎ | 1329/1595 [42:44<06:09,  1.39s/it]"
     ]
    },
    {
     "name": "stdout",
     "output_type": "stream",
     "text": [
      "chunks for patient: b2d6eb577e716ade61ca89b6bb3dcabb : 9702\n"
     ]
    },
    {
     "name": "stderr",
     "output_type": "stream",
     "text": [
      "\r",
      "          \r",
      "\r",
      "          \r",
      " 83%|████████▎ | 1329/1595 [42:46<08:33,  1.93s/it]\r",
      " 83%|████████▎ | 1330/1595 [42:46<06:26,  1.46s/it]"
     ]
    },
    {
     "name": "stdout",
     "output_type": "stream",
     "text": [
      "chunks for patient: 6be677ba1631174397b0c1e26a46af30 : 12696\n"
     ]
    },
    {
     "name": "stderr",
     "output_type": "stream",
     "text": [
      "\r",
      "          \r",
      "\r",
      "          \r",
      " 83%|████████▎ | 1330/1595 [42:47<08:31,  1.93s/it]\r",
      " 83%|████████▎ | 1331/1595 [42:47<06:31,  1.48s/it]"
     ]
    },
    {
     "name": "stdout",
     "output_type": "stream",
     "text": [
      "chunks for patient: 8c4d81d9d24d9d66e9ced5f40d07960a : 12096\n"
     ]
    },
    {
     "name": "stderr",
     "output_type": "stream",
     "text": [
      "\r",
      "          \r",
      "\r",
      "          \r",
      " 83%|████████▎ | 1331/1595 [42:49<08:29,  1.93s/it]\r",
      " 84%|████████▎ | 1332/1595 [42:49<06:09,  1.40s/it]"
     ]
    },
    {
     "name": "stdout",
     "output_type": "stream",
     "text": [
      "chunks for patient: bfdf6f821031435d9a397afe001ad774 : 11132\n"
     ]
    },
    {
     "name": "stderr",
     "output_type": "stream",
     "text": [
      " 84%|████████▎ | 1333/1595 [42:50<08:25,  1.93s/it]"
     ]
    },
    {
     "name": "stdout",
     "output_type": "stream",
     "text": [
      "chunks for patient: 2b861ff187c8ff2977d988f3d8b08d87 : 10143\n",
      "chunks for patient: 6379e4435f78a5e5c150c32146ece4d4 : 16900\n"
     ]
    },
    {
     "name": "stderr",
     "output_type": "stream",
     "text": [
      "\r",
      "          \r",
      "\r",
      "          \r",
      " 84%|████████▎ | 1333/1595 [42:52<08:25,  1.93s/it]\r",
      " 84%|████████▎ | 1335/1595 [42:52<05:31,  1.27s/it]"
     ]
    },
    {
     "name": "stdout",
     "output_type": "stream",
     "text": [
      "chunks for patient: 502e157e6a22166997d054e8920d921c : 18816\n"
     ]
    },
    {
     "name": "stderr",
     "output_type": "stream",
     "text": [
      "\r",
      "          \r",
      "\r",
      "          \r",
      " 84%|████████▎ | 1335/1595 [42:53<08:21,  1.93s/it]\r",
      " 84%|████████▍ | 1336/1595 [42:53<05:36,  1.30s/it]"
     ]
    },
    {
     "name": "stdout",
     "output_type": "stream",
     "text": [
      "chunks for patient: 587d6230f2bad2525c47632fd792a895 : 10143\n"
     ]
    },
    {
     "name": "stderr",
     "output_type": "stream",
     "text": [
      "\r",
      "          \r",
      "\r",
      "          \r",
      " 84%|████████▍ | 1336/1595 [42:55<08:19,  1.93s/it]\r",
      " 84%|████████▍ | 1337/1595 [42:55<05:38,  1.31s/it]"
     ]
    },
    {
     "name": "stdout",
     "output_type": "stream",
     "text": [
      "chunks for patient: b84c43bed6c51182d7536619b747343a : 11132\n"
     ]
    },
    {
     "name": "stderr",
     "output_type": "stream",
     "text": [
      "\r",
      "          \r",
      "\r",
      "          \r",
      " 84%|████████▍ | 1337/1595 [42:56<08:17,  1.93s/it]\r",
      " 84%|████████▍ | 1338/1595 [42:56<05:38,  1.32s/it]"
     ]
    },
    {
     "name": "stdout",
     "output_type": "stream",
     "text": [
      "chunks for patient: fd0c2dfe0b0c58330675c3191cef0d5b : 10143\n"
     ]
    },
    {
     "name": "stderr",
     "output_type": "stream",
     "text": [
      " 84%|████████▍ | 1339/1595 [42:57<08:12,  1.93s/it]"
     ]
    },
    {
     "name": "stdout",
     "output_type": "stream",
     "text": [
      "chunks for patient: 2f4645c27f9806daffe7e9d013b4b7eb : 9702\n",
      "chunks for patient: 003f41c78e6acfa92430a057ac0b306e : 23400\n"
     ]
    },
    {
     "name": "stderr",
     "output_type": "stream",
     "text": [
      "\r",
      "          \r",
      "\r",
      "          \r",
      " 84%|████████▍ | 1339/1595 [43:00<08:13,  1.93s/it]\r",
      " 84%|████████▍ | 1341/1595 [43:00<05:28,  1.29s/it]"
     ]
    },
    {
     "name": "stdout",
     "output_type": "stream",
     "text": [
      "chunks for patient: e1f3a01e73d706b7e9c30c0a17a4c0b5 : 17576\n"
     ]
    },
    {
     "name": "stderr",
     "output_type": "stream",
     "text": [
      "\r",
      "          \r",
      "\r",
      "          \r",
      " 84%|████████▍ | 1341/1595 [43:01<08:08,  1.93s/it]\r",
      " 84%|████████▍ | 1342/1595 [43:01<05:11,  1.23s/it]"
     ]
    },
    {
     "name": "stdout",
     "output_type": "stream",
     "text": [
      "chunks for patient: 6857c76be618bb0ddced5f4fecc1695f : 8400\n"
     ]
    },
    {
     "name": "stderr",
     "output_type": "stream",
     "text": [
      "\r",
      "          \r",
      "\r",
      "          \r",
      " 84%|████████▍ | 1342/1595 [43:02<08:06,  1.92s/it]\r",
      " 84%|████████▍ | 1343/1595 [43:02<05:22,  1.28s/it]"
     ]
    },
    {
     "name": "stdout",
     "output_type": "stream",
     "text": [
      "chunks for patient: 1ddb5d17d9db61c8ea0fd58d00df05ef : 11616\n"
     ]
    },
    {
     "name": "stderr",
     "output_type": "stream",
     "text": [
      "\r",
      "          \r",
      "\r",
      "          \r",
      " 84%|████████▍ | 1343/1595 [43:04<08:05,  1.92s/it]\r",
      " 84%|████████▍ | 1344/1595 [43:04<06:18,  1.51s/it]"
     ]
    },
    {
     "name": "stdout",
     "output_type": "stream",
     "text": [
      "chunks for patient: 155893351afed6c68893397d19555fd8 : 17496\n"
     ]
    },
    {
     "name": "stderr",
     "output_type": "stream",
     "text": [
      "\r",
      "          \r",
      "\r",
      "          \r",
      " 84%|████████▍ | 1344/1595 [43:06<08:03,  1.92s/it]\r",
      " 84%|████████▍ | 1345/1595 [43:06<06:29,  1.56s/it]"
     ]
    },
    {
     "name": "stdout",
     "output_type": "stream",
     "text": [
      "chunks for patient: f447ac9884a349a4ae56326cf680ae18 : 14976\n"
     ]
    },
    {
     "name": "stderr",
     "output_type": "stream",
     "text": [
      "\r",
      "          \r",
      "\r",
      "          \r",
      " 84%|████████▍ | 1345/1595 [43:08<08:01,  1.92s/it]\r",
      " 84%|████████▍ | 1346/1595 [43:08<06:32,  1.58s/it]"
     ]
    },
    {
     "name": "stdout",
     "output_type": "stream",
     "text": [
      "chunks for patient: 673ee14e01a0628b45c78500d402056e : 13824\n"
     ]
    },
    {
     "name": "stderr",
     "output_type": "stream",
     "text": [
      "\r",
      "          \r",
      "\r",
      "          \r",
      " 84%|████████▍ | 1346/1595 [43:09<07:59,  1.92s/it]\r",
      " 84%|████████▍ | 1347/1595 [43:09<06:34,  1.59s/it]"
     ]
    },
    {
     "name": "stdout",
     "output_type": "stream",
     "text": [
      "chunks for patient: 624a34fa8fd36847724e749877343847 : 13248\n"
     ]
    },
    {
     "name": "stderr",
     "output_type": "stream",
     "text": [
      "\r",
      "          \r",
      "\r",
      "          \r",
      " 84%|████████▍ | 1347/1595 [43:12<07:57,  1.92s/it]\r",
      " 85%|████████▍ | 1348/1595 [43:12<08:02,  1.95s/it]"
     ]
    },
    {
     "name": "stdout",
     "output_type": "stream",
     "text": [
      "chunks for patient: 7b43882369098df840e51421e6059aea : 18816\n"
     ]
    },
    {
     "name": "stderr",
     "output_type": "stream",
     "text": [
      "\r",
      "          \r",
      "\r",
      "          \r",
      " 85%|████████▍ | 1348/1595 [43:14<07:55,  1.93s/it]\r",
      " 85%|████████▍ | 1349/1595 [43:14<08:26,  2.06s/it]"
     ]
    },
    {
     "name": "stdout",
     "output_type": "stream",
     "text": [
      "chunks for patient: 68e905099a1c18242aba55c9901eaaae : 18928\n"
     ]
    },
    {
     "name": "stderr",
     "output_type": "stream",
     "text": [
      "\r",
      "          \r",
      "\r",
      "          \r",
      " 85%|████████▍ | 1349/1595 [43:17<07:53,  1.93s/it]\r",
      " 85%|████████▍ | 1350/1595 [43:17<09:28,  2.32s/it]"
     ]
    },
    {
     "name": "stdout",
     "output_type": "stream",
     "text": [
      "chunks for patient: c0a71c28edac0a4bbdf64f058903c4b4 : 28125\n"
     ]
    },
    {
     "name": "stderr",
     "output_type": "stream",
     "text": [
      "\r",
      "          \r",
      "\r",
      "          \r",
      " 85%|████████▍ | 1350/1595 [43:19<07:51,  1.93s/it]\r",
      " 85%|████████▍ | 1351/1595 [43:19<08:42,  2.14s/it]"
     ]
    },
    {
     "name": "stdout",
     "output_type": "stream",
     "text": [
      "chunks for patient: 4b5970e5edc0d8389cabc6bc5d84265f : 16224\n"
     ]
    },
    {
     "name": "stderr",
     "output_type": "stream",
     "text": [
      "\r",
      "          \r",
      "\r",
      "          \r",
      " 85%|████████▍ | 1351/1595 [43:21<07:49,  1.93s/it]\r",
      " 85%|████████▍ | 1352/1595 [43:21<08:31,  2.10s/it]"
     ]
    },
    {
     "name": "stdout",
     "output_type": "stream",
     "text": [
      "chunks for patient: 665ca5ce18dd06722a4c4436a85246b2 : 13750\n"
     ]
    },
    {
     "name": "stderr",
     "output_type": "stream",
     "text": [
      "\r",
      "          \r",
      "\r",
      "          \r",
      " 85%|████████▍ | 1352/1595 [43:23<07:48,  1.93s/it]\r",
      " 85%|████████▍ | 1353/1595 [43:23<08:48,  2.18s/it]"
     ]
    },
    {
     "name": "stdout",
     "output_type": "stream",
     "text": [
      "chunks for patient: 83728b6eed98845556bfc870b7567883 : 18502\n"
     ]
    },
    {
     "name": "stderr",
     "output_type": "stream",
     "text": [
      "\r",
      "          \r",
      "\r",
      "          \r",
      " 85%|████████▍ | 1353/1595 [43:26<07:46,  1.93s/it]\r",
      " 85%|████████▍ | 1354/1595 [43:26<09:33,  2.38s/it]"
     ]
    },
    {
     "name": "stdout",
     "output_type": "stream",
     "text": [
      "chunks for patient: 8e92c4db434da3b8d4e3cafce3f072fb : 24025\n"
     ]
    },
    {
     "name": "stderr",
     "output_type": "stream",
     "text": [
      "\r",
      "          \r",
      "\r",
      "          \r",
      " 85%|████████▍ | 1354/1595 [43:29<07:44,  1.93s/it]\r",
      " 85%|████████▍ | 1355/1595 [43:29<09:34,  2.39s/it]"
     ]
    },
    {
     "name": "stdout",
     "output_type": "stream",
     "text": [
      "chunks for patient: 2004b3f761c3f5dffb02204f1247b211 : 18032\n"
     ]
    },
    {
     "name": "stderr",
     "output_type": "stream",
     "text": [
      "\r",
      "          \r",
      "\r",
      "          \r",
      " 85%|████████▍ | 1355/1595 [43:31<07:42,  1.93s/it]\r",
      " 85%|████████▌ | 1356/1595 [43:31<09:07,  2.29s/it]"
     ]
    },
    {
     "name": "stdout",
     "output_type": "stream",
     "text": [
      "chunks for patient: aadd54d387e9be8fab53507c4cedf338 : 14196\n"
     ]
    },
    {
     "name": "stderr",
     "output_type": "stream",
     "text": [
      "\r",
      "          \r",
      "\r",
      "          \r",
      " 85%|████████▌ | 1356/1595 [43:32<07:40,  1.93s/it]\r",
      " 85%|████████▌ | 1357/1595 [43:32<08:20,  2.10s/it]"
     ]
    },
    {
     "name": "stdout",
     "output_type": "stream",
     "text": [
      "chunks for patient: f9ce0c5ded59a58b9d7ca5200e6b1182 : 12696\n"
     ]
    },
    {
     "name": "stderr",
     "output_type": "stream",
     "text": [
      "\r",
      "          \r",
      "\r",
      "          \r",
      " 85%|████████▌ | 1357/1595 [43:35<07:38,  1.93s/it]\r",
      " 85%|████████▌ | 1358/1595 [43:35<08:15,  2.09s/it]"
     ]
    },
    {
     "name": "stdout",
     "output_type": "stream",
     "text": [
      "chunks for patient: 26142353f46d20c9fdded93f01e2bff4 : 18502\n"
     ]
    },
    {
     "name": "stderr",
     "output_type": "stream",
     "text": [
      "\r",
      "          \r",
      "\r",
      "          \r",
      " 85%|████████▌ | 1358/1595 [43:37<07:36,  1.93s/it]\r",
      " 85%|████████▌ | 1359/1595 [43:37<08:22,  2.13s/it]"
     ]
    },
    {
     "name": "stdout",
     "output_type": "stream",
     "text": [
      "chunks for patient: 9050cf3aa8371bd7088c4bdf967141d4 : 17496\n"
     ]
    },
    {
     "name": "stderr",
     "output_type": "stream",
     "text": [
      "\r",
      "          \r",
      "\r",
      "          \r",
      " 85%|████████▌ | 1359/1595 [43:39<07:34,  1.93s/it]\r",
      " 85%|████████▌ | 1360/1595 [43:39<08:15,  2.11s/it]"
     ]
    },
    {
     "name": "stdout",
     "output_type": "stream",
     "text": [
      "chunks for patient: 8269e2eb69b3ba38c48dd5ae6039e250 : 18032\n"
     ]
    },
    {
     "name": "stderr",
     "output_type": "stream",
     "text": [
      "\r",
      "          \r",
      "\r",
      "          \r",
      " 85%|████████▌ | 1360/1595 [43:41<07:32,  1.93s/it]\r",
      " 85%|████████▌ | 1361/1595 [43:41<08:19,  2.13s/it]"
     ]
    },
    {
     "name": "stdout",
     "output_type": "stream",
     "text": [
      "chunks for patient: a6efbb642c60022fe194da17d71a7fb3 : 16250\n"
     ]
    },
    {
     "name": "stderr",
     "output_type": "stream",
     "text": [
      "\r",
      "          \r",
      "\r",
      "          \r",
      " 85%|████████▌ | 1361/1595 [43:42<07:30,  1.93s/it]\r",
      " 85%|████████▌ | 1362/1595 [43:42<07:25,  1.91s/it]"
     ]
    },
    {
     "name": "stdout",
     "output_type": "stream",
     "text": [
      "chunks for patient: b51f22a84cd2fae1de8bd1eb155933f7 : 9680\n"
     ]
    },
    {
     "name": "stderr",
     "output_type": "stream",
     "text": [
      "\r",
      "          \r",
      "\r",
      "          \r",
      " 85%|████████▌ | 1362/1595 [43:45<07:29,  1.93s/it]\r",
      " 85%|████████▌ | 1363/1595 [43:45<08:24,  2.17s/it]"
     ]
    },
    {
     "name": "stdout",
     "output_type": "stream",
     "text": [
      "chunks for patient: 11616de262f844e6542d3c65d9238b6e : 24300\n"
     ]
    },
    {
     "name": "stderr",
     "output_type": "stream",
     "text": [
      "\r",
      "          \r",
      "\r",
      "          \r",
      " 85%|████████▌ | 1363/1595 [43:47<07:27,  1.93s/it]\r",
      " 86%|████████▌ | 1364/1595 [43:47<08:19,  2.16s/it]"
     ]
    },
    {
     "name": "stdout",
     "output_type": "stream",
     "text": [
      "chunks for patient: 89960d9a801625bf76e9e1047acc5cd5 : 16250\n"
     ]
    },
    {
     "name": "stderr",
     "output_type": "stream",
     "text": [
      "\r",
      "          \r",
      "\r",
      "          \r",
      " 86%|████████▌ | 1364/1595 [43:50<07:25,  1.93s/it]\r",
      " 86%|████████▌ | 1365/1595 [43:50<08:23,  2.19s/it]"
     ]
    },
    {
     "name": "stdout",
     "output_type": "stream",
     "text": [
      "chunks for patient: 90e3b396e1c1343a514eb5890833d3d8 : 16900\n"
     ]
    },
    {
     "name": "stderr",
     "output_type": "stream",
     "text": [
      "\r",
      "          \r",
      "\r",
      "          \r",
      " 86%|████████▌ | 1365/1595 [43:52<07:23,  1.93s/it]\r",
      " 86%|████████▌ | 1366/1595 [43:52<08:18,  2.18s/it]"
     ]
    },
    {
     "name": "stdout",
     "output_type": "stream",
     "text": [
      "chunks for patient: 318bf8045b625b40825552420abfe1ef : 16224\n"
     ]
    },
    {
     "name": "stderr",
     "output_type": "stream",
     "text": [
      "\r",
      "          \r",
      "\r",
      "          \r",
      " 86%|████████▌ | 1366/1595 [43:53<07:21,  1.93s/it]\r",
      " 86%|████████▌ | 1367/1595 [43:53<07:02,  1.85s/it]"
     ]
    },
    {
     "name": "stdout",
     "output_type": "stream",
     "text": [
      "chunks for patient: 1a91ca95390756518700877893ac195b : 10648\n"
     ]
    },
    {
     "name": "stderr",
     "output_type": "stream",
     "text": [
      "\r",
      "          \r",
      "\r",
      "          \r",
      " 86%|████████▌ | 1367/1595 [43:55<07:19,  1.93s/it]\r",
      " 86%|████████▌ | 1368/1595 [43:55<07:23,  1.95s/it]"
     ]
    },
    {
     "name": "stdout",
     "output_type": "stream",
     "text": [
      "chunks for patient: 744bb5ab2a706c8070a3f5cd72848ccc : 18816\n"
     ]
    },
    {
     "name": "stderr",
     "output_type": "stream",
     "text": [
      "\r",
      "          \r",
      "\r",
      "          \r",
      " 86%|████████▌ | 1368/1595 [43:56<07:17,  1.93s/it]\r",
      " 86%|████████▌ | 1369/1595 [43:56<06:31,  1.73s/it]"
     ]
    },
    {
     "name": "stdout",
     "output_type": "stream",
     "text": [
      "chunks for patient: 88523579f4e325351665753e903cfdf5 : 9702\n"
     ]
    },
    {
     "name": "stderr",
     "output_type": "stream",
     "text": [
      "\r",
      "          \r",
      "\r",
      "          \r",
      " 86%|████████▌ | 1369/1595 [43:58<07:15,  1.93s/it]\r",
      " 86%|████████▌ | 1370/1595 [43:58<06:36,  1.76s/it]"
     ]
    },
    {
     "name": "stdout",
     "output_type": "stream",
     "text": [
      "chunks for patient: 14afefc82d992018c485949285d20c03 : 16038\n"
     ]
    },
    {
     "name": "stderr",
     "output_type": "stream",
     "text": [
      "\r",
      "          \r",
      "\r",
      "          \r",
      " 86%|████████▌ | 1370/1595 [44:01<07:13,  1.93s/it]\r",
      " 86%|████████▌ | 1371/1595 [44:01<07:20,  1.97s/it]"
     ]
    },
    {
     "name": "stdout",
     "output_type": "stream",
     "text": [
      "chunks for patient: 718f43ecf121c79899caba1e528bd43e : 17248\n"
     ]
    },
    {
     "name": "stderr",
     "output_type": "stream",
     "text": [
      "\r",
      "          \r",
      "\r",
      "          \r",
      " 86%|████████▌ | 1371/1595 [44:03<07:11,  1.93s/it]\r",
      " 86%|████████▌ | 1372/1595 [44:03<07:43,  2.08s/it]"
     ]
    },
    {
     "name": "stdout",
     "output_type": "stream",
     "text": [
      "chunks for patient: e3bc0a970a4af5d52826e06742f90e5b : 11132\n"
     ]
    },
    {
     "name": "stderr",
     "output_type": "stream",
     "text": [
      "\r",
      "          \r",
      "\r",
      "          \r",
      " 86%|████████▌ | 1372/1595 [44:05<07:10,  1.93s/it]\r",
      " 86%|████████▌ | 1373/1595 [44:05<07:51,  2.13s/it]"
     ]
    },
    {
     "name": "stdout",
     "output_type": "stream",
     "text": [
      "chunks for patient: eebd87b91489548bdfc1c76a20999a54 : 15552\n"
     ]
    },
    {
     "name": "stderr",
     "output_type": "stream",
     "text": [
      "\r",
      "          \r",
      "\r",
      "          \r",
      " 86%|████████▌ | 1373/1595 [44:07<07:08,  1.93s/it]\r",
      " 86%|████████▌ | 1374/1595 [44:07<07:43,  2.10s/it]"
     ]
    },
    {
     "name": "stdout",
     "output_type": "stream",
     "text": [
      "chunks for patient: 5818c3be99a83ca8c951ff3434750d6a : 20412\n"
     ]
    },
    {
     "name": "stderr",
     "output_type": "stream",
     "text": [
      "\r",
      "          \r",
      "\r",
      "          \r",
      " 86%|████████▌ | 1374/1595 [44:09<07:06,  1.93s/it]\r",
      " 86%|████████▌ | 1375/1595 [44:09<07:15,  1.98s/it]"
     ]
    },
    {
     "name": "stdout",
     "output_type": "stream",
     "text": [
      "chunks for patient: 04a52f49cdbfb8b99789b9e93f1ad319 : 13125\n"
     ]
    },
    {
     "name": "stderr",
     "output_type": "stream",
     "text": [
      "\r",
      "          \r",
      "\r",
      "          \r",
      " 86%|████████▌ | 1375/1595 [44:11<07:04,  1.93s/it]\r",
      " 86%|████████▋ | 1376/1595 [44:11<07:11,  1.97s/it]"
     ]
    },
    {
     "name": "stdout",
     "output_type": "stream",
     "text": [
      "chunks for patient: 627499714e279203bd1294290f8fc542 : 13520\n"
     ]
    },
    {
     "name": "stderr",
     "output_type": "stream",
     "text": [
      "\r",
      "          \r",
      "\r",
      "          \r",
      " 86%|████████▋ | 1376/1595 [44:13<07:02,  1.93s/it]\r",
      " 86%|████████▋ | 1377/1595 [44:13<07:24,  2.04s/it]"
     ]
    },
    {
     "name": "stdout",
     "output_type": "stream",
     "text": [
      "chunks for patient: 0b20184e0cd497028bdd155d9fb42dc9 : 17576\n"
     ]
    },
    {
     "name": "stderr",
     "output_type": "stream",
     "text": [
      "\r",
      "          \r",
      "\r",
      "          \r",
      " 86%|████████▋ | 1377/1595 [44:15<07:00,  1.93s/it]\r",
      " 86%|████████▋ | 1378/1595 [44:15<07:22,  2.04s/it]"
     ]
    },
    {
     "name": "stdout",
     "output_type": "stream",
     "text": [
      "chunks for patient: ac4c6d832509d4cee3c7ac93a9227075 : 13754\n"
     ]
    },
    {
     "name": "stderr",
     "output_type": "stream",
     "text": [
      "\r",
      "          \r",
      "\r",
      "          \r",
      " 86%|████████▋ | 1378/1595 [44:17<06:58,  1.93s/it]\r",
      " 86%|████████▋ | 1379/1595 [44:17<07:41,  2.13s/it]"
     ]
    },
    {
     "name": "stdout",
     "output_type": "stream",
     "text": [
      "chunks for patient: c31e3540b227a1a2b08593094609ece2 : 14872\n"
     ]
    },
    {
     "name": "stderr",
     "output_type": "stream",
     "text": [
      "\r",
      "          \r",
      "\r",
      "          \r",
      " 86%|████████▋ | 1379/1595 [44:20<06:56,  1.93s/it]\r",
      " 87%|████████▋ | 1380/1595 [44:20<07:59,  2.23s/it]"
     ]
    },
    {
     "name": "stdout",
     "output_type": "stream",
     "text": [
      "chunks for patient: e42815372aa308f5943847ad06f529de : 17576\n"
     ]
    },
    {
     "name": "stderr",
     "output_type": "stream",
     "text": [
      "\r",
      "          \r",
      "\r",
      "          \r",
      " 87%|████████▋ | 1380/1595 [44:22<06:54,  1.93s/it]\r",
      " 87%|████████▋ | 1381/1595 [44:22<07:56,  2.22s/it]"
     ]
    },
    {
     "name": "stdout",
     "output_type": "stream",
     "text": [
      "chunks for patient: 11b09ff9de7382d83f79cc81f89f5894 : 15548\n"
     ]
    },
    {
     "name": "stderr",
     "output_type": "stream",
     "text": [
      "\r",
      "          \r",
      "\r",
      "          \r",
      " 87%|████████▋ | 1381/1595 [44:24<06:52,  1.93s/it]\r",
      " 87%|████████▋ | 1382/1595 [44:24<07:46,  2.19s/it]"
     ]
    },
    {
     "name": "stdout",
     "output_type": "stream",
     "text": [
      "chunks for patient: 493641ef65ee95fe994d4789aec1db3b : 14375\n"
     ]
    },
    {
     "name": "stderr",
     "output_type": "stream",
     "text": [
      "\r",
      "          \r",
      "\r",
      "          \r",
      " 87%|████████▋ | 1382/1595 [44:27<06:51,  1.93s/it]\r",
      " 87%|████████▋ | 1383/1595 [44:27<08:18,  2.35s/it]"
     ]
    },
    {
     "name": "stdout",
     "output_type": "stream",
     "text": [
      "chunks for patient: cb0110b3780d2cf1134221404b82713a : 17576\n"
     ]
    },
    {
     "name": "stderr",
     "output_type": "stream",
     "text": [
      "\r",
      "          \r",
      "\r",
      "          \r",
      " 87%|████████▋ | 1383/1595 [44:29<06:49,  1.93s/it]\r",
      " 87%|████████▋ | 1384/1595 [44:29<08:01,  2.28s/it]"
     ]
    },
    {
     "name": "stdout",
     "output_type": "stream",
     "text": [
      "chunks for patient: 34037914ceeec5605fc890159dd425c5 : 15548\n"
     ]
    },
    {
     "name": "stderr",
     "output_type": "stream",
     "text": [
      "\r",
      "          \r",
      "\r",
      "          \r",
      " 87%|████████▋ | 1384/1595 [44:30<06:47,  1.93s/it]\r",
      " 87%|████████▋ | 1385/1595 [44:30<06:59,  2.00s/it]"
     ]
    },
    {
     "name": "stdout",
     "output_type": "stream",
     "text": [
      "chunks for patient: c5f73cf44d785e5ac2e7f0a8897f683c : 10164\n"
     ]
    },
    {
     "name": "stderr",
     "output_type": "stream",
     "text": [
      "\r",
      "          \r",
      "\r",
      "          \r",
      " 87%|████████▋ | 1385/1595 [44:32<06:45,  1.93s/it]\r",
      " 87%|████████▋ | 1386/1595 [44:32<06:50,  1.96s/it]"
     ]
    },
    {
     "name": "stdout",
     "output_type": "stream",
     "text": [
      "chunks for patient: 185bc9d9fa3a58fea90778215c69d35b : 15625\n"
     ]
    },
    {
     "name": "stderr",
     "output_type": "stream",
     "text": [
      "\r",
      "          \r",
      "\r",
      "          \r",
      " 87%|████████▋ | 1386/1595 [44:34<06:43,  1.93s/it]\r",
      " 87%|████████▋ | 1387/1595 [44:34<06:46,  1.95s/it]"
     ]
    },
    {
     "name": "stdout",
     "output_type": "stream",
     "text": [
      "chunks for patient: e8be143b9f5e352f71043b24f79f5a17 : 13750\n"
     ]
    },
    {
     "name": "stderr",
     "output_type": "stream",
     "text": [
      "\r",
      "          \r",
      "\r",
      "          \r",
      " 87%|████████▋ | 1387/1595 [44:36<06:41,  1.93s/it]\r",
      " 87%|████████▋ | 1388/1595 [44:36<07:02,  2.04s/it]"
     ]
    },
    {
     "name": "stdout",
     "output_type": "stream",
     "text": [
      "chunks for patient: 2d596b6ead89ab35577fe625a9a17cbb : 16224\n"
     ]
    },
    {
     "name": "stderr",
     "output_type": "stream",
     "text": [
      "\r",
      "          \r",
      "\r",
      "          \r",
      " 87%|████████▋ | 1388/1595 [44:38<06:39,  1.93s/it]\r",
      " 87%|████████▋ | 1389/1595 [44:38<06:21,  1.85s/it]"
     ]
    },
    {
     "name": "stdout",
     "output_type": "stream",
     "text": [
      "chunks for patient: 124e68a78f9c092a2f16f9214e91268f : 10584\n"
     ]
    },
    {
     "name": "stderr",
     "output_type": "stream",
     "text": [
      "\r",
      "          \r",
      "\r",
      "          \r",
      " 87%|████████▋ | 1389/1595 [44:40<06:37,  1.93s/it]\r",
      " 87%|████████▋ | 1390/1595 [44:40<06:12,  1.82s/it]"
     ]
    },
    {
     "name": "stdout",
     "output_type": "stream",
     "text": [
      "chunks for patient: 60b1526597b82c98ce96fbe5014c0f2b : 11616\n"
     ]
    },
    {
     "name": "stderr",
     "output_type": "stream",
     "text": [
      "\r",
      "          \r",
      "\r",
      "          \r",
      " 87%|████████▋ | 1390/1595 [44:42<06:35,  1.93s/it]\r",
      " 87%|████████▋ | 1391/1595 [44:42<06:37,  1.95s/it]"
     ]
    },
    {
     "name": "stdout",
     "output_type": "stream",
     "text": [
      "chunks for patient: dc1ecce5e7f8a4be9082cb5650fa62bd : 18252\n"
     ]
    },
    {
     "name": "stderr",
     "output_type": "stream",
     "text": [
      "\r",
      "          \r",
      "\r",
      "          \r",
      " 87%|████████▋ | 1391/1595 [44:44<06:33,  1.93s/it]\r",
      " 87%|████████▋ | 1392/1595 [44:44<06:40,  1.97s/it]"
     ]
    },
    {
     "name": "stdout",
     "output_type": "stream",
     "text": [
      "chunks for patient: b4d5b618fdf3a5a1bcfb325a3715e99e : 13125\n"
     ]
    },
    {
     "name": "stderr",
     "output_type": "stream",
     "text": [
      "\r",
      "          \r",
      "\r",
      "          \r",
      " 87%|████████▋ | 1392/1595 [44:46<06:31,  1.93s/it]\r",
      " 87%|████████▋ | 1393/1595 [44:46<06:46,  2.01s/it]"
     ]
    },
    {
     "name": "stdout",
     "output_type": "stream",
     "text": [
      "chunks for patient: f2e952758095bc50691ab02f724568d2 : 16464\n"
     ]
    },
    {
     "name": "stderr",
     "output_type": "stream",
     "text": [
      "\r",
      "          \r",
      "\r",
      "          \r",
      " 87%|████████▋ | 1393/1595 [44:47<06:29,  1.93s/it]\r",
      " 87%|████████▋ | 1394/1595 [44:47<06:07,  1.83s/it]"
     ]
    },
    {
     "name": "stdout",
     "output_type": "stream",
     "text": [
      "chunks for patient: 4165b6e956c0e46e94abf7d98f8d8fe2 : 11132\n"
     ]
    },
    {
     "name": "stderr",
     "output_type": "stream",
     "text": [
      "\r",
      "          \r",
      "\r",
      "          \r",
      " 87%|████████▋ | 1394/1595 [44:50<06:27,  1.93s/it]\r",
      " 87%|████████▋ | 1395/1595 [44:50<06:29,  1.95s/it]"
     ]
    },
    {
     "name": "stdout",
     "output_type": "stream",
     "text": [
      "chunks for patient: d73264d2c4f71ef6bf8593ac55565d93 : 14375\n"
     ]
    },
    {
     "name": "stderr",
     "output_type": "stream",
     "text": [
      "\r",
      "          \r",
      "\r",
      "          \r",
      " 87%|████████▋ | 1395/1595 [44:51<06:25,  1.93s/it]\r",
      " 88%|████████▊ | 1396/1595 [44:51<06:20,  1.91s/it]"
     ]
    },
    {
     "name": "stdout",
     "output_type": "stream",
     "text": [
      "chunks for patient: 24deb9f7adc838e4a4aaa2c905c548e6 : 14375\n"
     ]
    },
    {
     "name": "stderr",
     "output_type": "stream",
     "text": [
      "\r",
      "          \r",
      "\r",
      "          \r",
      " 88%|████████▊ | 1396/1595 [44:53<06:24,  1.93s/it]\r",
      " 88%|████████▊ | 1397/1595 [44:53<06:22,  1.93s/it]"
     ]
    },
    {
     "name": "stdout",
     "output_type": "stream",
     "text": [
      "chunks for patient: b53d997901eb880c41fbfbc82847204c : 16038\n"
     ]
    },
    {
     "name": "stderr",
     "output_type": "stream",
     "text": [
      "\r",
      "          \r",
      "\r",
      "          \r",
      " 88%|████████▊ | 1397/1595 [44:55<06:22,  1.93s/it]\r",
      " 88%|████████▊ | 1398/1595 [44:55<05:55,  1.81s/it]"
     ]
    },
    {
     "name": "stdout",
     "output_type": "stream",
     "text": [
      "chunks for patient: b6578699374a9954b9a8a9e7da2603b1 : 10944\n"
     ]
    },
    {
     "name": "stderr",
     "output_type": "stream",
     "text": [
      "\r",
      "          \r",
      "\r",
      "          \r",
      " 88%|████████▊ | 1398/1595 [44:57<06:20,  1.93s/it]\r",
      " 88%|████████▊ | 1399/1595 [44:57<06:23,  1.95s/it]"
     ]
    },
    {
     "name": "stdout",
     "output_type": "stream",
     "text": [
      "chunks for patient: c7bdb83b7ca6269fac16ab7cff930a2e : 15870\n"
     ]
    },
    {
     "name": "stderr",
     "output_type": "stream",
     "text": [
      "\r",
      "          \r",
      "\r",
      "          \r",
      " 88%|████████▊ | 1399/1595 [45:00<06:18,  1.93s/it]\r",
      " 88%|████████▊ | 1400/1595 [45:00<06:53,  2.12s/it]"
     ]
    },
    {
     "name": "stdout",
     "output_type": "stream",
     "text": [
      "chunks for patient: 479078cdf18cd6b677b79d2d9b075d81 : 17248\n"
     ]
    },
    {
     "name": "stderr",
     "output_type": "stream",
     "text": [
      "\r",
      "          \r",
      "\r",
      "          \r",
      " 88%|████████▊ | 1400/1595 [45:01<06:16,  1.93s/it]\r",
      " 88%|████████▊ | 1401/1595 [45:01<06:13,  1.92s/it]"
     ]
    },
    {
     "name": "stdout",
     "output_type": "stream",
     "text": [
      "chunks for patient: 20c73e37fc89e007ae5b242480830860 : 10051\n"
     ]
    },
    {
     "name": "stderr",
     "output_type": "stream",
     "text": [
      "\r",
      "          \r",
      "\r",
      "          \r",
      " 88%|████████▊ | 1401/1595 [45:03<06:14,  1.93s/it]\r",
      " 88%|████████▊ | 1402/1595 [45:03<05:56,  1.84s/it]"
     ]
    },
    {
     "name": "stdout",
     "output_type": "stream",
     "text": [
      "chunks for patient: 64a5a866461a3b6006efb0075e04dffe : 13125\n"
     ]
    },
    {
     "name": "stderr",
     "output_type": "stream",
     "text": [
      "\r",
      "          \r",
      "\r",
      "          \r",
      " 88%|████████▊ | 1402/1595 [45:07<06:12,  1.93s/it]\r",
      " 88%|████████▊ | 1403/1595 [45:07<07:44,  2.42s/it]"
     ]
    },
    {
     "name": "stdout",
     "output_type": "stream",
     "text": [
      "chunks for patient: 024efb7a1e67dc820eb61cbdaa090166 : 30056\n"
     ]
    },
    {
     "name": "stderr",
     "output_type": "stream",
     "text": [
      "\r",
      "          \r",
      "\r",
      "          \r",
      " 88%|████████▊ | 1403/1595 [45:09<06:10,  1.93s/it]\r",
      " 88%|████████▊ | 1404/1595 [45:09<07:32,  2.37s/it]"
     ]
    },
    {
     "name": "stdout",
     "output_type": "stream",
     "text": [
      "chunks for patient: 74b3ef4c2125d636980a19754702dbb9 : 18032\n"
     ]
    },
    {
     "name": "stderr",
     "output_type": "stream",
     "text": [
      "\r",
      "          \r",
      "\r",
      "          \r",
      " 88%|████████▊ | 1404/1595 [45:10<06:08,  1.93s/it]\r",
      " 88%|████████▊ | 1405/1595 [45:10<06:50,  2.16s/it]"
     ]
    },
    {
     "name": "stdout",
     "output_type": "stream",
     "text": [
      "chunks for patient: 1a9e2aad4b87512636f4f9d82c36a3ef : 12500\n"
     ]
    },
    {
     "name": "stderr",
     "output_type": "stream",
     "text": [
      "\r",
      "          \r",
      "\r",
      "          \r",
      " 88%|████████▊ | 1405/1595 [45:13<06:06,  1.93s/it]\r",
      " 88%|████████▊ | 1406/1595 [45:13<06:44,  2.14s/it]"
     ]
    },
    {
     "name": "stdout",
     "output_type": "stream",
     "text": [
      "chunks for patient: 66cef72d8428dbba31f2ab01abdaf6ca : 16224\n"
     ]
    },
    {
     "name": "stderr",
     "output_type": "stream",
     "text": [
      "\r",
      "          \r",
      "\r",
      "          \r",
      " 88%|████████▊ | 1406/1595 [45:15<06:04,  1.93s/it]\r",
      " 88%|████████▊ | 1407/1595 [45:15<06:41,  2.14s/it]"
     ]
    },
    {
     "name": "stdout",
     "output_type": "stream",
     "text": [
      "chunks for patient: 781cf9cc66e59f4586d9338630b95c1a : 16900\n"
     ]
    },
    {
     "name": "stderr",
     "output_type": "stream",
     "text": [
      "\r",
      "          \r",
      "\r",
      "          \r",
      " 88%|████████▊ | 1407/1595 [45:17<06:03,  1.93s/it]\r",
      " 88%|████████▊ | 1408/1595 [45:17<07:16,  2.33s/it]"
     ]
    },
    {
     "name": "stdout",
     "output_type": "stream",
     "text": [
      "chunks for patient: dcde02d4757bb845376fa6dbb0351df6 : 19683\n"
     ]
    },
    {
     "name": "stderr",
     "output_type": "stream",
     "text": [
      "\r",
      "          \r",
      "\r",
      "          \r",
      " 88%|████████▊ | 1408/1595 [45:20<06:01,  1.93s/it]\r",
      " 88%|████████▊ | 1409/1595 [45:20<07:17,  2.35s/it]"
     ]
    },
    {
     "name": "stdout",
     "output_type": "stream",
     "text": [
      "chunks for patient: bcc701884a32d8883b73b5844241a354 : 18032\n"
     ]
    },
    {
     "name": "stderr",
     "output_type": "stream",
     "text": [
      "\r",
      "          \r",
      "\r",
      "          \r",
      " 88%|████████▊ | 1409/1595 [45:22<05:59,  1.93s/it]\r",
      " 88%|████████▊ | 1410/1595 [45:22<07:04,  2.30s/it]"
     ]
    },
    {
     "name": "stdout",
     "output_type": "stream",
     "text": [
      "chunks for patient: 42b2161e43b4dd0ea94604485976c59c : 18032\n"
     ]
    },
    {
     "name": "stderr",
     "output_type": "stream",
     "text": [
      "\r",
      "          \r",
      "\r",
      "          \r",
      " 88%|████████▊ | 1410/1595 [45:24<05:57,  1.93s/it]\r",
      " 88%|████████▊ | 1411/1595 [45:24<06:47,  2.22s/it]"
     ]
    },
    {
     "name": "stdout",
     "output_type": "stream",
     "text": [
      "chunks for patient: 07abb7bec548d1c0ccef088ce934e517 : 13248\n"
     ]
    },
    {
     "name": "stderr",
     "output_type": "stream",
     "text": [
      "\r",
      "          \r",
      "\r",
      "          \r",
      " 88%|████████▊ | 1411/1595 [45:26<05:55,  1.93s/it]\r",
      " 89%|████████▊ | 1412/1595 [45:26<06:49,  2.24s/it]"
     ]
    },
    {
     "name": "stdout",
     "output_type": "stream",
     "text": [
      "chunks for patient: fc545aa2f58509dc6d81ef02130b6906 : 15000\n"
     ]
    },
    {
     "name": "stderr",
     "output_type": "stream",
     "text": [
      "\r",
      "          \r",
      "\r",
      "          \r",
      " 89%|████████▊ | 1412/1595 [45:29<05:53,  1.93s/it]\r",
      " 89%|████████▊ | 1413/1595 [45:29<07:17,  2.40s/it]"
     ]
    },
    {
     "name": "stdout",
     "output_type": "stream",
     "text": [
      "chunks for patient: 3d2b2b0fa9697b298fbbc033481cdcc4 : 20181\n"
     ]
    },
    {
     "name": "stderr",
     "output_type": "stream",
     "text": [
      "\r",
      "          \r",
      "\r",
      "          \r",
      " 89%|████████▊ | 1413/1595 [45:31<05:51,  1.93s/it]\r",
      " 89%|████████▊ | 1414/1595 [45:31<06:43,  2.23s/it]"
     ]
    },
    {
     "name": "stdout",
     "output_type": "stream",
     "text": [
      "chunks for patient: ae42429e25ce48034baa3dd527c7810a : 13248\n"
     ]
    },
    {
     "name": "stderr",
     "output_type": "stream",
     "text": [
      "\r",
      "          \r",
      "\r",
      "          \r",
      " 89%|████████▊ | 1414/1595 [45:33<05:49,  1.93s/it]\r",
      " 89%|████████▊ | 1415/1595 [45:33<06:12,  2.07s/it]"
     ]
    },
    {
     "name": "stdout",
     "output_type": "stream",
     "text": [
      "chunks for patient: 7c2fd0d32df5a2780b4b10fdf2f2cdbe : 12696\n"
     ]
    },
    {
     "name": "stderr",
     "output_type": "stream",
     "text": [
      "\r",
      "          \r",
      "\r",
      "          \r",
      " 89%|████████▊ | 1415/1595 [45:35<05:47,  1.93s/it]\r",
      " 89%|████████▉ | 1416/1595 [45:35<06:04,  2.04s/it]"
     ]
    },
    {
     "name": "stdout",
     "output_type": "stream",
     "text": [
      "chunks for patient: 6f38eb7988753c6a978d0da80dbc014b : 14872\n"
     ]
    },
    {
     "name": "stderr",
     "output_type": "stream",
     "text": [
      "\r",
      "          \r",
      "\r",
      "          \r",
      " 89%|████████▉ | 1416/1595 [45:36<05:45,  1.93s/it]\r",
      " 89%|████████▉ | 1417/1595 [45:36<05:30,  1.85s/it]"
     ]
    },
    {
     "name": "stdout",
     "output_type": "stream",
     "text": [
      "chunks for patient: 968808e60982c76366088b4db7254671 : 11875\n"
     ]
    },
    {
     "name": "stderr",
     "output_type": "stream",
     "text": [
      "\r",
      "          \r",
      "\r",
      "          \r",
      " 89%|████████▉ | 1417/1595 [45:38<05:44,  1.93s/it]\r",
      " 89%|████████▉ | 1418/1595 [45:38<05:32,  1.88s/it]"
     ]
    },
    {
     "name": "stdout",
     "output_type": "stream",
     "text": [
      "chunks for patient: 823b5f08ce145f837066d2e19dab10c1 : 15625\n"
     ]
    },
    {
     "name": "stderr",
     "output_type": "stream",
     "text": [
      "\r",
      "          \r",
      "\r",
      "          \r",
      " 89%|████████▉ | 1418/1595 [45:39<05:42,  1.93s/it]\r",
      " 89%|████████▉ | 1419/1595 [45:39<05:07,  1.75s/it]"
     ]
    },
    {
     "name": "stdout",
     "output_type": "stream",
     "text": [
      "chunks for patient: 86ad341b9ac27364f03981f6a775246c : 11132\n"
     ]
    },
    {
     "name": "stderr",
     "output_type": "stream",
     "text": [
      "\r",
      "          \r",
      "\r",
      "          \r",
      " 89%|████████▉ | 1419/1595 [45:41<05:40,  1.93s/it]\r",
      " 89%|████████▉ | 1420/1595 [45:41<05:22,  1.84s/it]"
     ]
    },
    {
     "name": "stdout",
     "output_type": "stream",
     "text": [
      "chunks for patient: e4ff18b33b7110a64f497e177102f23d : 14375\n"
     ]
    },
    {
     "name": "stderr",
     "output_type": "stream",
     "text": [
      "\r",
      "          \r",
      "\r",
      "          \r",
      " 89%|████████▉ | 1420/1595 [45:43<05:38,  1.93s/it]\r",
      " 89%|████████▉ | 1421/1595 [45:43<05:12,  1.80s/it]"
     ]
    },
    {
     "name": "stdout",
     "output_type": "stream",
     "text": [
      "chunks for patient: 2b2a95f76d7b6712690ee7be6838f868 : 9702\n"
     ]
    },
    {
     "name": "stderr",
     "output_type": "stream",
     "text": [
      "\r",
      "          \r",
      "\r",
      "          \r",
      " 89%|████████▉ | 1421/1595 [45:46<05:36,  1.93s/it]\r",
      " 89%|████████▉ | 1422/1595 [45:46<05:50,  2.02s/it]"
     ]
    },
    {
     "name": "stdout",
     "output_type": "stream",
     "text": [
      "chunks for patient: a2fc15125f7e222b3d8d579167f4fc95 : 12167\n"
     ]
    },
    {
     "name": "stderr",
     "output_type": "stream",
     "text": [
      "\r",
      "          \r",
      "\r",
      "          \r",
      " 89%|████████▉ | 1422/1595 [45:47<05:34,  1.93s/it]\r",
      " 89%|████████▉ | 1423/1595 [45:47<05:32,  1.93s/it]"
     ]
    },
    {
     "name": "stdout",
     "output_type": "stream",
     "text": [
      "chunks for patient: 1ff6e2a80eb74396e09460c61ae69fb0 : 14400\n"
     ]
    },
    {
     "name": "stderr",
     "output_type": "stream",
     "text": [
      "\r",
      "          \r",
      "\r",
      "          \r",
      " 89%|████████▉ | 1423/1595 [45:50<05:32,  1.93s/it]\r",
      " 89%|████████▉ | 1424/1595 [45:50<05:49,  2.05s/it]"
     ]
    },
    {
     "name": "stdout",
     "output_type": "stream",
     "text": [
      "chunks for patient: 9d453de54a141820fcf62bed9a53540d : 17576\n"
     ]
    },
    {
     "name": "stderr",
     "output_type": "stream",
     "text": [
      "\r",
      "          \r",
      "\r",
      "          \r",
      " 89%|████████▉ | 1424/1595 [45:52<05:30,  1.93s/it]\r",
      " 89%|████████▉ | 1425/1595 [45:52<05:44,  2.03s/it]"
     ]
    },
    {
     "name": "stdout",
     "output_type": "stream",
     "text": [
      "chunks for patient: fb7ae70f05b6441ac4ea7187ce7c45f7 : 17248\n"
     ]
    },
    {
     "name": "stderr",
     "output_type": "stream",
     "text": [
      "\r",
      "          \r",
      "\r",
      "          \r",
      " 89%|████████▉ | 1425/1595 [45:54<05:28,  1.93s/it]\r",
      " 89%|████████▉ | 1426/1595 [45:54<05:42,  2.03s/it]"
     ]
    },
    {
     "name": "stdout",
     "output_type": "stream",
     "text": [
      "chunks for patient: a01074fefbae0234398c365adf970118 : 12100\n"
     ]
    },
    {
     "name": "stderr",
     "output_type": "stream",
     "text": [
      "\r",
      "          \r",
      "\r",
      "          \r",
      " 89%|████████▉ | 1426/1595 [45:56<05:26,  1.93s/it]\r",
      " 89%|████████▉ | 1427/1595 [45:56<05:39,  2.02s/it]"
     ]
    },
    {
     "name": "stdout",
     "output_type": "stream",
     "text": [
      "chunks for patient: 66a94647459dd5a13f4336e1421119c5 : 12096\n"
     ]
    },
    {
     "name": "stderr",
     "output_type": "stream",
     "text": [
      "\r",
      "          \r",
      "\r",
      "          \r",
      " 89%|████████▉ | 1427/1595 [45:57<05:24,  1.93s/it]\r",
      " 90%|████████▉ | 1428/1595 [45:57<05:18,  1.91s/it]"
     ]
    },
    {
     "name": "stdout",
     "output_type": "stream",
     "text": [
      "chunks for patient: ead64f9269f2200e1d439960a1e069b4 : 11638\n"
     ]
    },
    {
     "name": "stderr",
     "output_type": "stream",
     "text": [
      "\r",
      "          \r",
      "\r",
      "          \r",
      " 90%|████████▉ | 1428/1595 [45:59<05:22,  1.93s/it]\r",
      " 90%|████████▉ | 1429/1595 [45:59<05:06,  1.85s/it]"
     ]
    },
    {
     "name": "stdout",
     "output_type": "stream",
     "text": [
      "chunks for patient: 432f8765e6b590ec00cc34c8d88456da : 11520\n"
     ]
    },
    {
     "name": "stderr",
     "output_type": "stream",
     "text": [
      "\r",
      "          \r",
      "\r",
      "          \r",
      " 90%|████████▉ | 1429/1595 [46:01<05:20,  1.93s/it]\r",
      " 90%|████████▉ | 1430/1595 [46:01<05:29,  2.00s/it]"
     ]
    },
    {
     "name": "stdout",
     "output_type": "stream",
     "text": [
      "chunks for patient: ea01deecde93cd9503a049d71d46e6d5 : 15548\n"
     ]
    },
    {
     "name": "stderr",
     "output_type": "stream",
     "text": [
      "\r",
      "          \r",
      "\r",
      "          \r",
      " 90%|████████▉ | 1430/1595 [46:04<05:19,  1.93s/it]\r",
      " 90%|████████▉ | 1431/1595 [46:04<06:03,  2.22s/it]"
     ]
    },
    {
     "name": "stdout",
     "output_type": "stream",
     "text": [
      "chunks for patient: 85d6fb4a08853d370935a75de7495a27 : 25047\n"
     ]
    },
    {
     "name": "stderr",
     "output_type": "stream",
     "text": [
      "\r",
      "          \r",
      "\r",
      "          \r",
      " 90%|████████▉ | 1431/1595 [46:06<05:17,  1.93s/it]\r",
      " 90%|████████▉ | 1432/1595 [46:06<06:02,  2.22s/it]"
     ]
    },
    {
     "name": "stdout",
     "output_type": "stream",
     "text": [
      "chunks for patient: c24798432bb6a0d4c80df831b8e09246 : 14196\n"
     ]
    },
    {
     "name": "stderr",
     "output_type": "stream",
     "text": [
      "\r",
      "          \r",
      "\r",
      "          \r",
      " 90%|████████▉ | 1432/1595 [46:08<05:15,  1.93s/it]\r",
      " 90%|████████▉ | 1433/1595 [46:08<05:34,  2.07s/it]"
     ]
    },
    {
     "name": "stdout",
     "output_type": "stream",
     "text": [
      "chunks for patient: f8ecf6be8ae631c6dd694c9638a02b45 : 13824\n"
     ]
    },
    {
     "name": "stderr",
     "output_type": "stream",
     "text": [
      "\r",
      "          \r",
      "\r",
      "          \r",
      " 90%|████████▉ | 1433/1595 [46:10<05:13,  1.93s/it]\r",
      " 90%|████████▉ | 1434/1595 [46:10<05:31,  2.06s/it]"
     ]
    },
    {
     "name": "stdout",
     "output_type": "stream",
     "text": [
      "chunks for patient: 0a099f2549429d29b32f349e95fb2244 : 14375\n"
     ]
    },
    {
     "name": "stderr",
     "output_type": "stream",
     "text": [
      "\r",
      "          \r",
      "\r",
      "          \r",
      " 90%|████████▉ | 1434/1595 [46:12<05:11,  1.93s/it]\r",
      " 90%|████████▉ | 1435/1595 [46:12<05:21,  2.01s/it]"
     ]
    },
    {
     "name": "stdout",
     "output_type": "stream",
     "text": [
      "chunks for patient: 43933b4021d93dd64854f318656c7d1e : 12696\n"
     ]
    },
    {
     "name": "stderr",
     "output_type": "stream",
     "text": [
      "\r",
      "          \r",
      "\r",
      "          \r",
      " 90%|████████▉ | 1435/1595 [46:14<05:09,  1.93s/it]\r",
      " 90%|█████████ | 1436/1595 [46:14<05:14,  1.98s/it]"
     ]
    },
    {
     "name": "stdout",
     "output_type": "stream",
     "text": [
      "chunks for patient: a9c1d12dabcd5f5b13d2aad47e443684 : 14976\n"
     ]
    },
    {
     "name": "stderr",
     "output_type": "stream",
     "text": [
      "\r",
      "          \r",
      "\r",
      "          \r",
      " 90%|█████████ | 1436/1595 [46:15<05:07,  1.93s/it]\r",
      " 90%|█████████ | 1437/1595 [46:15<04:46,  1.82s/it]"
     ]
    },
    {
     "name": "stdout",
     "output_type": "stream",
     "text": [
      "chunks for patient: 975f7f3c5bad9e9f0bc31e723fd6f793 : 11132\n"
     ]
    },
    {
     "name": "stderr",
     "output_type": "stream",
     "text": [
      "\r",
      "          \r",
      "\r",
      "          \r",
      " 90%|█████████ | 1437/1595 [46:17<05:05,  1.93s/it]\r",
      " 90%|█████████ | 1438/1595 [46:17<04:38,  1.77s/it]"
     ]
    },
    {
     "name": "stdout",
     "output_type": "stream",
     "text": [
      "chunks for patient: ba8912fd754683662e542f8e737d1230 : 13225\n"
     ]
    },
    {
     "name": "stderr",
     "output_type": "stream",
     "text": [
      "\r",
      "          \r",
      "\r",
      "          \r",
      " 90%|█████████ | 1438/1595 [46:19<05:03,  1.93s/it]\r",
      " 90%|█████████ | 1439/1595 [46:19<04:26,  1.71s/it]"
     ]
    },
    {
     "name": "stdout",
     "output_type": "stream",
     "text": [
      "chunks for patient: 95a27273c11db8bfb9fc27b1e64de6bd : 11109\n"
     ]
    },
    {
     "name": "stderr",
     "output_type": "stream",
     "text": [
      "\r",
      "          \r",
      "\r",
      "          \r",
      " 90%|█████████ | 1439/1595 [46:21<05:01,  1.93s/it]\r",
      " 90%|█████████ | 1440/1595 [46:21<04:39,  1.80s/it]"
     ]
    },
    {
     "name": "stdout",
     "output_type": "stream",
     "text": [
      "chunks for patient: d7713d80767cfdaad5e3db537849d8d0 : 12167\n"
     ]
    },
    {
     "name": "stderr",
     "output_type": "stream",
     "text": [
      "\r",
      "          \r",
      "\r",
      "          \r",
      " 90%|█████████ | 1440/1595 [46:22<04:59,  1.93s/it]\r",
      " 90%|█████████ | 1441/1595 [46:22<04:26,  1.73s/it]"
     ]
    },
    {
     "name": "stdout",
     "output_type": "stream",
     "text": [
      "chunks for patient: 74797049e8df8ed38947fd38840b539d : 11638\n"
     ]
    },
    {
     "name": "stderr",
     "output_type": "stream",
     "text": [
      "\r",
      "          \r",
      "\r",
      "          \r",
      " 90%|█████████ | 1441/1595 [46:24<04:57,  1.93s/it]\r",
      " 90%|█████████ | 1442/1595 [46:24<04:33,  1.79s/it]"
     ]
    },
    {
     "name": "stdout",
     "output_type": "stream",
     "text": [
      "chunks for patient: bb4b43d0dc4d9d2b61150df6556f6490 : 17248\n"
     ]
    },
    {
     "name": "stderr",
     "output_type": "stream",
     "text": [
      "\r",
      "          \r",
      "\r",
      "          \r",
      " 90%|█████████ | 1442/1595 [46:26<04:55,  1.93s/it]\r",
      " 90%|█████████ | 1443/1595 [46:26<04:23,  1.74s/it]"
     ]
    },
    {
     "name": "stdout",
     "output_type": "stream",
     "text": [
      "chunks for patient: c2878958469b61d4f4406bbe945f8bd7 : 10143\n"
     ]
    },
    {
     "name": "stderr",
     "output_type": "stream",
     "text": [
      "\r",
      "          \r",
      "\r",
      "          \r",
      " 90%|█████████ | 1443/1595 [46:28<04:53,  1.93s/it]\r",
      " 91%|█████████ | 1444/1595 [46:28<04:28,  1.78s/it]"
     ]
    },
    {
     "name": "stdout",
     "output_type": "stream",
     "text": [
      "chunks for patient: 81528d5c9ea936264bf9aa8ab4f0ea5d : 12696\n"
     ]
    },
    {
     "name": "stderr",
     "output_type": "stream",
     "text": [
      "\r",
      "          \r",
      "\r",
      "          \r",
      " 91%|█████████ | 1444/1595 [46:30<04:51,  1.93s/it]\r",
      " 91%|█████████ | 1445/1595 [46:30<04:40,  1.87s/it]"
     ]
    },
    {
     "name": "stdout",
     "output_type": "stream",
     "text": [
      "chunks for patient: 3244f802b7bd7c02ba7a8473802e947d : 13520\n"
     ]
    },
    {
     "name": "stderr",
     "output_type": "stream",
     "text": [
      "\r",
      "          \r",
      "\r",
      "          \r",
      " 91%|█████████ | 1445/1595 [46:31<04:49,  1.93s/it]\r",
      " 91%|█████████ | 1446/1595 [46:31<04:19,  1.74s/it]"
     ]
    },
    {
     "name": "stdout",
     "output_type": "stream",
     "text": [
      "chunks for patient: 7f524231183ed193b8f2e3d9cc73c059 : 10584\n"
     ]
    },
    {
     "name": "stderr",
     "output_type": "stream",
     "text": [
      "\r",
      "          \r",
      "\r",
      "          \r",
      " 91%|█████████ | 1446/1595 [46:33<04:47,  1.93s/it]\r",
      " 91%|█████████ | 1447/1595 [46:33<04:15,  1.73s/it]"
     ]
    },
    {
     "name": "stdout",
     "output_type": "stream",
     "text": [
      "chunks for patient: b844a9510fc4021d9603cdf24cf0545b : 12167\n"
     ]
    },
    {
     "name": "stderr",
     "output_type": "stream",
     "text": [
      "\r",
      "          \r",
      "\r",
      "          \r",
      " 91%|█████████ | 1447/1595 [46:35<04:45,  1.93s/it]\r",
      " 91%|█████████ | 1448/1595 [46:35<04:25,  1.80s/it]"
     ]
    },
    {
     "name": "stdout",
     "output_type": "stream",
     "text": [
      "chunks for patient: 7525f0ec0999007a0bac946e346eba39 : 16224\n"
     ]
    },
    {
     "name": "stderr",
     "output_type": "stream",
     "text": [
      "\r",
      "          \r",
      "\r",
      "          \r",
      " 91%|█████████ | 1448/1595 [46:37<04:43,  1.93s/it]\r",
      " 91%|█████████ | 1449/1595 [46:37<04:32,  1.87s/it]"
     ]
    },
    {
     "name": "stdout",
     "output_type": "stream",
     "text": [
      "chunks for patient: 2c06f5c66f3c79515b7712605dea4400 : 14375\n"
     ]
    },
    {
     "name": "stderr",
     "output_type": "stream",
     "text": [
      "\r",
      "          \r",
      "\r",
      "          \r",
      " 91%|█████████ | 1449/1595 [46:39<04:42,  1.93s/it]\r",
      " 91%|█████████ | 1450/1595 [46:39<04:41,  1.94s/it]"
     ]
    },
    {
     "name": "stdout",
     "output_type": "stream",
     "text": [
      "chunks for patient: b5c041f7d841532ef778fd5e71309cc2 : 18816\n"
     ]
    },
    {
     "name": "stderr",
     "output_type": "stream",
     "text": [
      "\r",
      "          \r",
      "\r",
      "          \r",
      " 91%|█████████ | 1450/1595 [46:40<04:40,  1.93s/it]\r",
      " 91%|█████████ | 1451/1595 [46:40<04:18,  1.79s/it]"
     ]
    },
    {
     "name": "stdout",
     "output_type": "stream",
     "text": [
      "chunks for patient: b1184cbc6dfa46734807211f95f3c998 : 11616\n"
     ]
    },
    {
     "name": "stderr",
     "output_type": "stream",
     "text": [
      "\r",
      "          \r",
      "\r",
      "          \r",
      " 91%|█████████ | 1451/1595 [46:42<04:38,  1.93s/it]\r",
      " 91%|█████████ | 1452/1595 [46:42<04:14,  1.78s/it]"
     ]
    },
    {
     "name": "stdout",
     "output_type": "stream",
     "text": [
      "chunks for patient: 9b7524785a9bf40f0651deeb3b05b75f : 14196\n"
     ]
    },
    {
     "name": "stderr",
     "output_type": "stream",
     "text": [
      "\r",
      "          \r",
      "\r",
      "          \r",
      " 91%|█████████ | 1452/1595 [46:44<04:36,  1.93s/it]\r",
      " 91%|█████████ | 1453/1595 [46:44<04:32,  1.92s/it]"
     ]
    },
    {
     "name": "stdout",
     "output_type": "stream",
     "text": [
      "chunks for patient: 0c59313f52304e25d5a7dcf9877633b1 : 17248\n"
     ]
    },
    {
     "name": "stderr",
     "output_type": "stream",
     "text": [
      "\r",
      "          \r",
      "\r",
      "          \r",
      " 91%|█████████ | 1453/1595 [46:46<04:34,  1.93s/it]\r",
      " 91%|█████████ | 1454/1595 [46:46<04:34,  1.95s/it]"
     ]
    },
    {
     "name": "stdout",
     "output_type": "stream",
     "text": [
      "chunks for patient: 5ae60d42ec7eb7a79ce9a72967cbb6aa : 17576\n"
     ]
    },
    {
     "name": "stderr",
     "output_type": "stream",
     "text": [
      "\r",
      "          \r",
      "\r",
      "          \r",
      " 91%|█████████ | 1454/1595 [46:49<04:32,  1.93s/it]\r",
      " 91%|█████████ | 1455/1595 [46:49<04:58,  2.13s/it]"
     ]
    },
    {
     "name": "stdout",
     "output_type": "stream",
     "text": [
      "chunks for patient: 33dd6666d9f0338929ecce58bb7c4cc3 : 18032\n"
     ]
    },
    {
     "name": "stderr",
     "output_type": "stream",
     "text": [
      "\r",
      "          \r",
      "\r",
      "          \r",
      " 91%|█████████ | 1455/1595 [46:50<04:30,  1.93s/it]\r",
      " 91%|█████████▏| 1456/1595 [46:50<04:21,  1.88s/it]"
     ]
    },
    {
     "name": "stdout",
     "output_type": "stream",
     "text": [
      "chunks for patient: e38789c5eabb3005bfb82a5298055ba0 : 11638\n"
     ]
    },
    {
     "name": "stderr",
     "output_type": "stream",
     "text": [
      "\r",
      "          \r",
      "\r",
      "          \r",
      " 91%|█████████▏| 1456/1595 [46:52<04:28,  1.93s/it]\r",
      " 91%|█████████▏| 1457/1595 [46:52<04:30,  1.96s/it]"
     ]
    },
    {
     "name": "stdout",
     "output_type": "stream",
     "text": [
      "chunks for patient: e43afa905c8e279f818b2d5104f6762b : 16250\n"
     ]
    },
    {
     "name": "stderr",
     "output_type": "stream",
     "text": [
      "\r",
      "          \r",
      "\r",
      "          \r",
      " 91%|█████████▏| 1457/1595 [46:54<04:26,  1.93s/it]\r",
      " 91%|█████████▏| 1458/1595 [46:54<04:18,  1.88s/it]"
     ]
    },
    {
     "name": "stdout",
     "output_type": "stream",
     "text": [
      "chunks for patient: d36b2cb1cac4b31476c6f86eb1227d3c : 13824\n"
     ]
    },
    {
     "name": "stderr",
     "output_type": "stream",
     "text": [
      "\r",
      "          \r",
      "\r",
      "          \r",
      " 91%|█████████▏| 1458/1595 [46:55<04:24,  1.93s/it]\r",
      " 91%|█████████▏| 1459/1595 [46:55<03:53,  1.72s/it]"
     ]
    },
    {
     "name": "stdout",
     "output_type": "stream",
     "text": [
      "chunks for patient: 264e5829ef58570c243bfd961098343f : 9522\n"
     ]
    },
    {
     "name": "stderr",
     "output_type": "stream",
     "text": [
      "\r",
      "          \r",
      "\r",
      "          \r",
      " 91%|█████████▏| 1459/1595 [46:57<04:22,  1.93s/it]\r",
      " 92%|█████████▏| 1460/1595 [46:57<03:51,  1.71s/it]"
     ]
    },
    {
     "name": "stdout",
     "output_type": "stream",
     "text": [
      "chunks for patient: eaf753dc137e12fd06e96d27f3111043 : 14196\n"
     ]
    },
    {
     "name": "stderr",
     "output_type": "stream",
     "text": [
      "\r",
      "          \r",
      "\r",
      "          \r",
      " 92%|█████████▏| 1460/1595 [46:58<04:20,  1.93s/it]\r",
      " 92%|█████████▏| 1461/1595 [46:58<03:31,  1.58s/it]"
     ]
    },
    {
     "name": "stdout",
     "output_type": "stream",
     "text": [
      "chunks for patient: eed63953a76074dd5ef7360e131f4852 : 12672\n"
     ]
    },
    {
     "name": "stderr",
     "output_type": "stream",
     "text": [
      "\r",
      "          \r",
      "\r",
      "          \r",
      " 92%|█████████▏| 1461/1595 [47:00<04:18,  1.93s/it]\r",
      " 92%|█████████▏| 1462/1595 [47:00<03:32,  1.60s/it]"
     ]
    },
    {
     "name": "stdout",
     "output_type": "stream",
     "text": [
      "chunks for patient: 5368521797323c89292781b8780e45b5 : 10648\n"
     ]
    },
    {
     "name": "stderr",
     "output_type": "stream",
     "text": [
      "\r",
      "          \r",
      "\r",
      "          \r",
      " 92%|█████████▏| 1462/1595 [47:01<04:16,  1.93s/it]\r",
      " 92%|█████████▏| 1463/1595 [47:01<03:21,  1.52s/it]"
     ]
    },
    {
     "name": "stdout",
     "output_type": "stream",
     "text": [
      "chunks for patient: a590753c175011e42bf17b90e3aec3b0 : 8379\n"
     ]
    },
    {
     "name": "stderr",
     "output_type": "stream",
     "text": [
      "\r",
      "          \r",
      "\r",
      "          \r",
      " 92%|█████████▏| 1463/1595 [47:03<04:14,  1.93s/it]\r",
      " 92%|█████████▏| 1464/1595 [47:03<03:25,  1.57s/it]"
     ]
    },
    {
     "name": "stdout",
     "output_type": "stream",
     "text": [
      "chunks for patient: 8ee6f423ff988d10f2bb383df98c1b2e : 14580\n"
     ]
    },
    {
     "name": "stderr",
     "output_type": "stream",
     "text": [
      "\r",
      "          \r",
      "\r",
      "          \r",
      " 92%|█████████▏| 1464/1595 [47:05<04:12,  1.93s/it]\r",
      " 92%|█████████▏| 1465/1595 [47:05<03:21,  1.55s/it]"
     ]
    },
    {
     "name": "stdout",
     "output_type": "stream",
     "text": [
      "chunks for patient: 4fb3d996e87999e0dfa0009a3e5f0fbc : 14196\n"
     ]
    },
    {
     "name": "stderr",
     "output_type": "stream",
     "text": [
      "\r",
      "          \r",
      "\r",
      "          \r",
      " 92%|█████████▏| 1465/1595 [47:07<04:10,  1.93s/it]\r",
      " 92%|█████████▏| 1466/1595 [47:07<03:48,  1.77s/it]"
     ]
    },
    {
     "name": "stdout",
     "output_type": "stream",
     "text": [
      "chunks for patient: c2b4ac9d22e601c5d546318874c76f59 : 16224\n"
     ]
    },
    {
     "name": "stderr",
     "output_type": "stream",
     "text": [
      "\r",
      "          \r",
      "\r",
      "          \r",
      " 92%|█████████▏| 1466/1595 [47:09<04:08,  1.93s/it]\r",
      " 92%|█████████▏| 1467/1595 [47:09<03:47,  1.78s/it]"
     ]
    },
    {
     "name": "stdout",
     "output_type": "stream",
     "text": [
      "chunks for patient: a13d6c5f8f86d74e16c10cf9294bca31 : 13125\n"
     ]
    },
    {
     "name": "stderr",
     "output_type": "stream",
     "text": [
      "\r",
      "          \r",
      "\r",
      "          \r",
      " 92%|█████████▏| 1467/1595 [47:11<04:07,  1.93s/it]\r",
      " 92%|█████████▏| 1468/1595 [47:11<04:00,  1.89s/it]"
     ]
    },
    {
     "name": "stdout",
     "output_type": "stream",
     "text": [
      "chunks for patient: d809c513476775193aba29b31d0050c6 : 10143\n"
     ]
    },
    {
     "name": "stderr",
     "output_type": "stream",
     "text": [
      "\r",
      "          \r",
      "\r",
      "          \r",
      " 92%|█████████▏| 1468/1595 [47:12<04:05,  1.93s/it]\r",
      " 92%|█████████▏| 1469/1595 [47:12<03:47,  1.80s/it]"
     ]
    },
    {
     "name": "stdout",
     "output_type": "stream",
     "text": [
      "chunks for patient: 2922aac33a190fd3939de337fe3f0a34 : 10584\n"
     ]
    },
    {
     "name": "stderr",
     "output_type": "stream",
     "text": [
      "\r",
      "          \r",
      "\r",
      "          \r",
      " 92%|█████████▏| 1469/1595 [47:15<04:03,  1.93s/it]\r",
      " 92%|█████████▏| 1470/1595 [47:15<04:02,  1.94s/it]"
     ]
    },
    {
     "name": "stdout",
     "output_type": "stream",
     "text": [
      "chunks for patient: 92abfd85dd6afb639e9a8b60aaa08262 : 15548\n"
     ]
    },
    {
     "name": "stderr",
     "output_type": "stream",
     "text": [
      "\r",
      "          \r",
      "\r",
      "          \r",
      " 92%|█████████▏| 1470/1595 [47:17<04:01,  1.93s/it]\r",
      " 92%|█████████▏| 1471/1595 [47:17<04:01,  1.94s/it]"
     ]
    },
    {
     "name": "stdout",
     "output_type": "stream",
     "text": [
      "chunks for patient: eb8d5136918d6859ca3cc3abafe369ac : 16224\n"
     ]
    },
    {
     "name": "stderr",
     "output_type": "stream",
     "text": [
      "\r",
      "          \r",
      "\r",
      "          \r",
      " 92%|█████████▏| 1471/1595 [47:18<03:59,  1.93s/it]\r",
      " 92%|█████████▏| 1472/1595 [47:18<03:54,  1.91s/it]"
     ]
    },
    {
     "name": "stdout",
     "output_type": "stream",
     "text": [
      "chunks for patient: 0257df465d9e4150adef13303433ff1e : 15552\n"
     ]
    },
    {
     "name": "stderr",
     "output_type": "stream",
     "text": [
      "\r",
      "          \r",
      "\r",
      "          \r",
      " 92%|█████████▏| 1472/1595 [47:21<03:57,  1.93s/it]\r",
      " 92%|█████████▏| 1473/1595 [47:21<04:00,  1.97s/it]"
     ]
    },
    {
     "name": "stdout",
     "output_type": "stream",
     "text": [
      "chunks for patient: f0f72264cd822301852578cc71288d3c : 13754\n"
     ]
    },
    {
     "name": "stderr",
     "output_type": "stream",
     "text": [
      "\r",
      "          \r",
      "\r",
      "          \r",
      " 92%|█████████▏| 1473/1595 [47:22<03:55,  1.93s/it]\r",
      " 92%|█████████▏| 1474/1595 [47:22<03:53,  1.93s/it]"
     ]
    },
    {
     "name": "stdout",
     "output_type": "stream",
     "text": [
      "chunks for patient: a4ebf3e2861b7845845bad3bacbbaeb5 : 12672\n"
     ]
    },
    {
     "name": "stderr",
     "output_type": "stream",
     "text": [
      "\r",
      "          \r",
      "\r",
      "          \r",
      " 92%|█████████▏| 1474/1595 [47:25<03:53,  1.93s/it]\r",
      " 92%|█████████▏| 1475/1595 [47:25<04:17,  2.15s/it]"
     ]
    },
    {
     "name": "stdout",
     "output_type": "stream",
     "text": [
      "chunks for patient: 36d0dff4c9eb340475888c2f93359e43 : 18954\n"
     ]
    },
    {
     "name": "stderr",
     "output_type": "stream",
     "text": [
      "\r",
      "          \r",
      "\r",
      "          \r",
      " 92%|█████████▏| 1475/1595 [47:27<03:51,  1.93s/it]\r",
      " 93%|█████████▎| 1476/1595 [47:27<04:22,  2.21s/it]"
     ]
    },
    {
     "name": "stdout",
     "output_type": "stream",
     "text": [
      "chunks for patient: a853993fd839a0ee61f2ca73c4e497a6 : 16224\n"
     ]
    },
    {
     "name": "stderr",
     "output_type": "stream",
     "text": [
      "\r",
      "          \r",
      "\r",
      "          \r",
      " 93%|█████████▎| 1476/1595 [47:29<03:49,  1.93s/it]\r",
      " 93%|█████████▎| 1477/1595 [47:29<03:47,  1.93s/it]"
     ]
    },
    {
     "name": "stdout",
     "output_type": "stream",
     "text": [
      "chunks for patient: 7eb217c0444e5d866bd462ade5266a06 : 10143\n"
     ]
    },
    {
     "name": "stderr",
     "output_type": "stream",
     "text": [
      "\r",
      "          \r",
      "\r",
      "          \r",
      " 93%|█████████▎| 1477/1595 [47:31<03:47,  1.93s/it]\r",
      " 93%|█████████▎| 1478/1595 [47:31<04:01,  2.06s/it]"
     ]
    },
    {
     "name": "stdout",
     "output_type": "stream",
     "text": [
      "chunks for patient: d753676c2c6c8ac6f97bd61ecab7554a : 16900\n"
     ]
    },
    {
     "name": "stderr",
     "output_type": "stream",
     "text": [
      "\r",
      "          \r",
      "\r",
      "          \r",
      " 93%|█████████▎| 1478/1595 [47:33<03:45,  1.93s/it]\r",
      " 93%|█████████▎| 1479/1595 [47:33<03:43,  1.93s/it]"
     ]
    },
    {
     "name": "stdout",
     "output_type": "stream",
     "text": [
      "chunks for patient: 566a5d958f17d2fc44d4a1ec00401034 : 10143\n"
     ]
    },
    {
     "name": "stderr",
     "output_type": "stream",
     "text": [
      "\r",
      "          \r",
      "\r",
      "          \r",
      " 93%|█████████▎| 1479/1595 [47:35<03:43,  1.93s/it]\r",
      " 93%|█████████▎| 1480/1595 [47:35<03:57,  2.07s/it]"
     ]
    },
    {
     "name": "stdout",
     "output_type": "stream",
     "text": [
      "chunks for patient: 9f73628a5e06cfc6723f3ee2ae4b96c4 : 18954\n"
     ]
    },
    {
     "name": "stderr",
     "output_type": "stream",
     "text": [
      "\r",
      "          \r",
      "\r",
      "          \r",
      " 93%|█████████▎| 1480/1595 [47:36<03:41,  1.93s/it]\r",
      " 93%|█████████▎| 1481/1595 [47:36<03:27,  1.82s/it]"
     ]
    },
    {
     "name": "stdout",
     "output_type": "stream",
     "text": [
      "chunks for patient: 39c404ac6b5852fc8ff00d34bd35294f : 9196\n"
     ]
    },
    {
     "name": "stderr",
     "output_type": "stream",
     "text": [
      "\r",
      "          \r",
      "\r",
      "          \r",
      " 93%|█████████▎| 1481/1595 [47:38<03:40,  1.93s/it]\r",
      " 93%|█████████▎| 1482/1595 [47:38<03:34,  1.89s/it]"
     ]
    },
    {
     "name": "stdout",
     "output_type": "stream",
     "text": [
      "chunks for patient: d42c998d037fb3003faba541e2cf649a : 16767\n"
     ]
    },
    {
     "name": "stderr",
     "output_type": "stream",
     "text": [
      "\r",
      "          \r",
      "\r",
      "          \r",
      " 93%|█████████▎| 1482/1595 [47:40<03:38,  1.93s/it]\r",
      " 93%|█████████▎| 1483/1595 [47:40<03:07,  1.67s/it]"
     ]
    },
    {
     "name": "stdout",
     "output_type": "stream",
     "text": [
      "chunks for patient: e3a9a6f8d21c6c459728066bcf18c615 : 10584\n"
     ]
    },
    {
     "name": "stderr",
     "output_type": "stream",
     "text": [
      "\r",
      "          \r",
      "\r",
      "          \r",
      " 93%|█████████▎| 1483/1595 [47:41<03:36,  1.93s/it]\r",
      " 93%|█████████▎| 1484/1595 [47:41<02:58,  1.61s/it]"
     ]
    },
    {
     "name": "stdout",
     "output_type": "stream",
     "text": [
      "chunks for patient: 195842462645f0f331147a4c6b129a37 : 10584\n"
     ]
    },
    {
     "name": "stderr",
     "output_type": "stream",
     "text": [
      "\r",
      "          \r",
      "\r",
      "          \r",
      " 93%|█████████▎| 1484/1595 [47:43<03:34,  1.93s/it]\r",
      " 93%|█████████▎| 1485/1595 [47:43<03:13,  1.76s/it]"
     ]
    },
    {
     "name": "stdout",
     "output_type": "stream",
     "text": [
      "chunks for patient: f938f9022abf7f1072fe9df79db7eccd : 14196\n"
     ]
    },
    {
     "name": "stderr",
     "output_type": "stream",
     "text": [
      "\r",
      "          \r",
      "\r",
      "          \r",
      " 93%|█████████▎| 1485/1595 [47:45<03:32,  1.93s/it]\r",
      " 93%|█████████▎| 1486/1595 [47:45<03:16,  1.81s/it]"
     ]
    },
    {
     "name": "stdout",
     "output_type": "stream",
     "text": [
      "chunks for patient: 6c71617e2cee498fd3dd20956bb90a3b : 17248\n"
     ]
    },
    {
     "name": "stderr",
     "output_type": "stream",
     "text": [
      "\r",
      "          \r",
      "\r",
      "          \r",
      " 93%|█████████▎| 1486/1595 [47:47<03:30,  1.93s/it]\r",
      " 93%|█████████▎| 1487/1595 [47:47<03:35,  1.99s/it]"
     ]
    },
    {
     "name": "stdout",
     "output_type": "stream",
     "text": [
      "chunks for patient: 7917af5df3fe5577f912c5168c6307e3 : 18259\n"
     ]
    },
    {
     "name": "stderr",
     "output_type": "stream",
     "text": [
      "\r",
      "          \r",
      "\r",
      "          \r",
      " 93%|█████████▎| 1487/1595 [47:49<03:28,  1.93s/it]\r",
      " 93%|█████████▎| 1488/1595 [47:49<03:21,  1.88s/it]"
     ]
    },
    {
     "name": "stdout",
     "output_type": "stream",
     "text": [
      "chunks for patient: 328138837e6db638913332acb79c703e : 11520\n"
     ]
    },
    {
     "name": "stderr",
     "output_type": "stream",
     "text": [
      "\r",
      "          \r",
      "\r",
      "          \r",
      " 93%|█████████▎| 1488/1595 [47:50<03:26,  1.93s/it]\r",
      " 93%|█████████▎| 1489/1595 [47:50<03:01,  1.71s/it]"
     ]
    },
    {
     "name": "stdout",
     "output_type": "stream",
     "text": [
      "chunks for patient: c928b4fee44ea322ac65348ae2ff20b8 : 11466\n"
     ]
    },
    {
     "name": "stderr",
     "output_type": "stream",
     "text": [
      "\r",
      "          \r",
      "\r",
      "          \r",
      " 93%|█████████▎| 1489/1595 [47:53<03:24,  1.93s/it]\r",
      " 93%|█████████▎| 1490/1595 [47:53<03:19,  1.90s/it]"
     ]
    },
    {
     "name": "stdout",
     "output_type": "stream",
     "text": [
      "chunks for patient: a4dc34f2731b62f60c6c390a39fe11b2 : 15548\n"
     ]
    },
    {
     "name": "stderr",
     "output_type": "stream",
     "text": [
      "\r",
      "          \r",
      "\r",
      "          \r",
      " 93%|█████████▎| 1490/1595 [47:54<03:22,  1.93s/it]\r",
      " 93%|█████████▎| 1491/1595 [47:54<03:02,  1.75s/it]"
     ]
    },
    {
     "name": "stdout",
     "output_type": "stream",
     "text": [
      "chunks for patient: aa59b7a4aa4dfb2489feea527eda3e4d : 12167\n"
     ]
    },
    {
     "name": "stderr",
     "output_type": "stream",
     "text": [
      "\r",
      "          \r",
      "\r",
      "          \r",
      " 93%|█████████▎| 1491/1595 [47:56<03:20,  1.93s/it]\r",
      " 94%|█████████▎| 1492/1595 [47:56<03:16,  1.91s/it]"
     ]
    },
    {
     "name": "stdout",
     "output_type": "stream",
     "text": [
      "chunks for patient: 993f1e68290d591f755669e97b49b4f4 : 16250\n"
     ]
    },
    {
     "name": "stderr",
     "output_type": "stream",
     "text": [
      "\r",
      "          \r",
      "\r",
      "          \r",
      " 94%|█████████▎| 1492/1595 [47:58<03:18,  1.93s/it]\r",
      " 94%|█████████▎| 1493/1595 [47:58<03:17,  1.93s/it]"
     ]
    },
    {
     "name": "stdout",
     "output_type": "stream",
     "text": [
      "chunks for patient: eba18d04b18084ef64be8f22bb7905ca : 17576\n"
     ]
    },
    {
     "name": "stderr",
     "output_type": "stream",
     "text": [
      "\r",
      "          \r",
      "\r",
      "          \r",
      " 94%|█████████▎| 1493/1595 [48:00<03:16,  1.93s/it]\r",
      " 94%|█████████▎| 1494/1595 [48:00<02:59,  1.78s/it]"
     ]
    },
    {
     "name": "stdout",
     "output_type": "stream",
     "text": [
      "chunks for patient: c020f5c28fc03aed3c125714f1c3cf2a : 10584\n"
     ]
    },
    {
     "name": "stderr",
     "output_type": "stream",
     "text": [
      "\r",
      "          \r",
      "\r",
      "          \r",
      " 94%|█████████▎| 1494/1595 [48:02<03:14,  1.93s/it]\r",
      " 94%|█████████▎| 1495/1595 [48:02<03:02,  1.83s/it]"
     ]
    },
    {
     "name": "stdout",
     "output_type": "stream",
     "text": [
      "chunks for patient: 8589428b683d33b99557d7d3b43a518c : 14872\n"
     ]
    },
    {
     "name": "stderr",
     "output_type": "stream",
     "text": [
      "\r",
      "          \r",
      "\r",
      "          \r",
      " 94%|█████████▎| 1495/1595 [48:05<03:13,  1.93s/it]\r",
      " 94%|█████████▍| 1496/1595 [48:05<03:38,  2.21s/it]"
     ]
    },
    {
     "name": "stdout",
     "output_type": "stream",
     "text": [
      "chunks for patient: e46973b13a7a6f421430d81fc1dda970 : 20184\n"
     ]
    },
    {
     "name": "stderr",
     "output_type": "stream",
     "text": [
      "\r",
      "          \r",
      "\r",
      "          \r",
      " 94%|█████████▍| 1496/1595 [48:07<03:11,  1.93s/it]\r",
      " 94%|█████████▍| 1497/1595 [48:07<03:29,  2.14s/it]"
     ]
    },
    {
     "name": "stdout",
     "output_type": "stream",
     "text": [
      "chunks for patient: 252b5fd5c4a5eb77be4fbe41df49bd07 : 13824\n"
     ]
    },
    {
     "name": "stderr",
     "output_type": "stream",
     "text": [
      "\r",
      "          \r",
      "\r",
      "          \r",
      " 94%|█████████▍| 1497/1595 [48:09<03:09,  1.93s/it]\r",
      " 94%|█████████▍| 1498/1595 [48:09<03:15,  2.01s/it]"
     ]
    },
    {
     "name": "stdout",
     "output_type": "stream",
     "text": [
      "chunks for patient: 5a42f0a0d1e060531c20d04ed23efc02 : 15548\n"
     ]
    },
    {
     "name": "stderr",
     "output_type": "stream",
     "text": [
      "\r",
      "          \r",
      "\r",
      "          \r",
      " 94%|█████████▍| 1498/1595 [48:10<03:07,  1.93s/it]\r",
      " 94%|█████████▍| 1499/1595 [48:10<03:07,  1.95s/it]"
     ]
    },
    {
     "name": "stdout",
     "output_type": "stream",
     "text": [
      "chunks for patient: ee984e8fba88691aac4992fbb14f6e97 : 14375\n"
     ]
    },
    {
     "name": "stderr",
     "output_type": "stream",
     "text": [
      "\r",
      "          \r",
      "\r",
      "          \r",
      " 94%|█████████▍| 1499/1595 [48:12<03:05,  1.93s/it]\r",
      " 94%|█████████▍| 1500/1595 [48:12<02:44,  1.73s/it]"
     ]
    },
    {
     "name": "stdout",
     "output_type": "stream",
     "text": [
      "chunks for patient: 8326bb56a429c54a744484423a9bd9b5 : 8303\n"
     ]
    },
    {
     "name": "stderr",
     "output_type": "stream",
     "text": [
      "\r",
      "          \r",
      "\r",
      "          \r",
      " 94%|█████████▍| 1500/1595 [48:13<03:03,  1.93s/it]\r",
      " 94%|█████████▍| 1501/1595 [48:13<02:43,  1.74s/it]"
     ]
    },
    {
     "name": "stdout",
     "output_type": "stream",
     "text": [
      "chunks for patient: e7d76f0723911280b64f0f83a4990c97 : 14872\n"
     ]
    },
    {
     "name": "stderr",
     "output_type": "stream",
     "text": [
      "\r",
      "          \r",
      "\r",
      "          \r",
      " 94%|█████████▍| 1501/1595 [48:16<03:01,  1.93s/it]\r",
      " 94%|█████████▍| 1502/1595 [48:16<02:54,  1.88s/it]"
     ]
    },
    {
     "name": "stdout",
     "output_type": "stream",
     "text": [
      "chunks for patient: f6bf2c352e3c5b13ae48f077570f3d15 : 13824\n"
     ]
    },
    {
     "name": "stderr",
     "output_type": "stream",
     "text": [
      "\r",
      "          \r",
      "\r",
      "          \r",
      " 94%|█████████▍| 1502/1595 [48:18<02:59,  1.93s/it]\r",
      " 94%|█████████▍| 1503/1595 [48:18<03:02,  1.98s/it]"
     ]
    },
    {
     "name": "stdout",
     "output_type": "stream",
     "text": [
      "chunks for patient: 506b07466777f6c6f4dd50a42896a2c4 : 16224\n"
     ]
    },
    {
     "name": "stderr",
     "output_type": "stream",
     "text": [
      "\r",
      "          \r",
      "\r",
      "          \r",
      " 94%|█████████▍| 1503/1595 [48:20<02:57,  1.93s/it]\r",
      " 94%|█████████▍| 1504/1595 [48:20<03:08,  2.07s/it]"
     ]
    },
    {
     "name": "stdout",
     "output_type": "stream",
     "text": [
      "chunks for patient: 56d38d6863fd160da38b15bf12f0ed64 : 18816\n"
     ]
    },
    {
     "name": "stderr",
     "output_type": "stream",
     "text": [
      "\r",
      "          \r",
      "\r",
      "          \r",
      " 94%|█████████▍| 1504/1595 [48:22<02:55,  1.93s/it]\r",
      " 94%|█████████▍| 1505/1595 [48:22<02:55,  1.95s/it]"
     ]
    },
    {
     "name": "stdout",
     "output_type": "stream",
     "text": [
      "chunks for patient: 28e29fe26140703e5bbe570f982bd112 : 11109\n"
     ]
    },
    {
     "name": "stderr",
     "output_type": "stream",
     "text": [
      "\r",
      "          \r",
      "\r",
      "          \r",
      " 94%|█████████▍| 1505/1595 [48:24<02:53,  1.93s/it]\r",
      " 94%|█████████▍| 1506/1595 [48:24<02:51,  1.93s/it]"
     ]
    },
    {
     "name": "stdout",
     "output_type": "stream",
     "text": [
      "chunks for patient: 8d5c4cc78e964463699c19003be70851 : 13125\n"
     ]
    },
    {
     "name": "stderr",
     "output_type": "stream",
     "text": [
      "\r",
      "          \r",
      "\r",
      "          \r",
      " 94%|█████████▍| 1506/1595 [48:25<02:51,  1.93s/it]\r",
      " 94%|█████████▍| 1507/1595 [48:25<02:39,  1.81s/it]"
     ]
    },
    {
     "name": "stdout",
     "output_type": "stream",
     "text": [
      "chunks for patient: b3854df98b8325a98f7b48bbaf24bb02 : 9702\n"
     ]
    },
    {
     "name": "stderr",
     "output_type": "stream",
     "text": [
      "\r",
      "          \r",
      "\r",
      "          \r",
      " 94%|█████████▍| 1507/1595 [48:27<02:49,  1.93s/it]\r",
      " 95%|█████████▍| 1508/1595 [48:27<02:45,  1.91s/it]"
     ]
    },
    {
     "name": "stdout",
     "output_type": "stream",
     "text": [
      "chunks for patient: 627836151c555187503dfe472fb15001 : 16767\n"
     ]
    },
    {
     "name": "stderr",
     "output_type": "stream",
     "text": [
      "\r",
      "          \r",
      "\r",
      "          \r",
      " 95%|█████████▍| 1508/1595 [48:29<02:47,  1.93s/it]\r",
      " 95%|█████████▍| 1509/1595 [48:29<02:48,  1.95s/it]"
     ]
    },
    {
     "name": "stdout",
     "output_type": "stream",
     "text": [
      "chunks for patient: 3285ba0f447f3091c0c7c061b47c2f62 : 16224\n"
     ]
    },
    {
     "name": "stderr",
     "output_type": "stream",
     "text": [
      "\r",
      "          \r",
      "\r",
      "          \r",
      " 95%|█████████▍| 1509/1595 [48:31<02:45,  1.93s/it]\r",
      " 95%|█████████▍| 1510/1595 [48:31<02:43,  1.92s/it]"
     ]
    },
    {
     "name": "stdout",
     "output_type": "stream",
     "text": [
      "chunks for patient: 10ff16e329c64a6a290a7a4139a5f4ae : 12672\n"
     ]
    },
    {
     "name": "stderr",
     "output_type": "stream",
     "text": [
      "\r",
      "          \r",
      "\r",
      "          \r",
      " 95%|█████████▍| 1510/1595 [48:33<02:44,  1.93s/it]\r",
      " 95%|█████████▍| 1511/1595 [48:33<02:44,  1.96s/it]"
     ]
    },
    {
     "name": "stdout",
     "output_type": "stream",
     "text": [
      "chunks for patient: 149ff4b37a684a73869d2d88e3fd4d0e : 15548\n"
     ]
    },
    {
     "name": "stderr",
     "output_type": "stream",
     "text": [
      "\r",
      "          \r",
      "\r",
      "          \r",
      " 95%|█████████▍| 1511/1595 [48:34<02:42,  1.93s/it]\r",
      " 95%|█████████▍| 1512/1595 [48:34<02:21,  1.71s/it]"
     ]
    },
    {
     "name": "stdout",
     "output_type": "stream",
     "text": [
      "chunks for patient: 6ae1b284936accdc4101c6daaaa2e0d3 : 8379\n"
     ]
    },
    {
     "name": "stderr",
     "output_type": "stream",
     "text": [
      "\r",
      "          \r",
      "\r",
      "          \r",
      " 95%|█████████▍| 1512/1595 [48:37<02:40,  1.93s/it]\r",
      " 95%|█████████▍| 1513/1595 [48:37<02:32,  1.86s/it]"
     ]
    },
    {
     "name": "stdout",
     "output_type": "stream",
     "text": [
      "chunks for patient: 79e0e507b1cd1d0c8107de4fd6b9e444 : 16224\n"
     ]
    },
    {
     "name": "stderr",
     "output_type": "stream",
     "text": [
      "\r",
      "          \r",
      "\r",
      "          \r",
      " 95%|█████████▍| 1513/1595 [48:38<02:38,  1.93s/it]\r",
      " 95%|█████████▍| 1514/1595 [48:38<02:21,  1.75s/it]"
     ]
    },
    {
     "name": "stdout",
     "output_type": "stream",
     "text": [
      "chunks for patient: 35105d801880bd889bac5ee3771ed38b : 9702\n"
     ]
    },
    {
     "name": "stderr",
     "output_type": "stream",
     "text": [
      "\r",
      "          \r",
      "\r",
      "          \r",
      " 95%|█████████▍| 1514/1595 [48:40<02:36,  1.93s/it]\r",
      " 95%|█████████▍| 1515/1595 [48:40<02:28,  1.85s/it]"
     ]
    },
    {
     "name": "stdout",
     "output_type": "stream",
     "text": [
      "chunks for patient: f7a03adba817f2a2249b9dee0586f4be : 13225\n"
     ]
    },
    {
     "name": "stderr",
     "output_type": "stream",
     "text": [
      "\r",
      "          \r",
      "\r",
      "          \r",
      " 95%|█████████▍| 1515/1595 [48:43<02:34,  1.93s/it]\r",
      " 95%|█████████▌| 1516/1595 [48:43<02:49,  2.15s/it]"
     ]
    },
    {
     "name": "stdout",
     "output_type": "stream",
     "text": [
      "chunks for patient: 61c0247462b00b95c4df16edd4486a06 : 18816\n"
     ]
    },
    {
     "name": "stderr",
     "output_type": "stream",
     "text": [
      "\r",
      "          \r",
      "\r",
      "          \r",
      " 95%|█████████▌| 1516/1595 [48:45<02:32,  1.93s/it]\r",
      " 95%|█████████▌| 1517/1595 [48:45<02:42,  2.09s/it]"
     ]
    },
    {
     "name": "stdout",
     "output_type": "stream",
     "text": [
      "chunks for patient: b17cb533d71d63d548ce47b48b34c23c : 13225\n"
     ]
    },
    {
     "name": "stderr",
     "output_type": "stream",
     "text": [
      "\r",
      "          \r",
      "\r",
      "          \r",
      " 95%|█████████▌| 1517/1595 [48:47<02:30,  1.93s/it]\r",
      " 95%|█████████▌| 1518/1595 [48:47<02:33,  2.00s/it]"
     ]
    },
    {
     "name": "stdout",
     "output_type": "stream",
     "text": [
      "chunks for patient: d34741458ed4cf1ef6bcf3da21a0c47c : 12096\n"
     ]
    },
    {
     "name": "stderr",
     "output_type": "stream",
     "text": [
      "\r",
      "          \r",
      "\r",
      "          \r",
      " 95%|█████████▌| 1518/1595 [48:48<02:28,  1.93s/it]\r",
      " 95%|█████████▌| 1519/1595 [48:48<02:17,  1.80s/it]"
     ]
    },
    {
     "name": "stdout",
     "output_type": "stream",
     "text": [
      "chunks for patient: 2f7088e4008c0ef2c88b6764af8c8815 : 9702\n"
     ]
    },
    {
     "name": "stderr",
     "output_type": "stream",
     "text": [
      "\r",
      "          \r",
      "\r",
      "          \r",
      " 95%|█████████▌| 1519/1595 [48:50<02:26,  1.93s/it]\r",
      " 95%|█████████▌| 1520/1595 [48:50<02:13,  1.78s/it]"
     ]
    },
    {
     "name": "stdout",
     "output_type": "stream",
     "text": [
      "chunks for patient: 567547810a1795b9c8e11c15dfd32c34 : 15000\n"
     ]
    },
    {
     "name": "stderr",
     "output_type": "stream",
     "text": [
      "\r",
      "          \r",
      "\r",
      "          \r",
      " 95%|█████████▌| 1520/1595 [48:51<02:24,  1.93s/it]\r",
      " 95%|█████████▌| 1521/1595 [48:51<02:01,  1.64s/it]"
     ]
    },
    {
     "name": "stdout",
     "output_type": "stream",
     "text": [
      "chunks for patient: afb37b10bd304fa2c7b70cfaf1f489ed : 11616\n"
     ]
    },
    {
     "name": "stderr",
     "output_type": "stream",
     "text": [
      "\r",
      "          \r",
      "\r",
      "          \r",
      " 95%|█████████▌| 1521/1595 [48:53<02:22,  1.93s/it]\r",
      " 95%|█████████▌| 1522/1595 [48:53<02:03,  1.69s/it]"
     ]
    },
    {
     "name": "stdout",
     "output_type": "stream",
     "text": [
      "chunks for patient: bd5bc5a0328033ae48da9e5891704c1b : 14196\n"
     ]
    },
    {
     "name": "stderr",
     "output_type": "stream",
     "text": [
      "\r",
      "          \r",
      "\r",
      "          \r",
      " 95%|█████████▌| 1522/1595 [48:54<02:20,  1.93s/it]\r",
      " 95%|█████████▌| 1523/1595 [48:54<01:56,  1.62s/it]"
     ]
    },
    {
     "name": "stdout",
     "output_type": "stream",
     "text": [
      "chunks for patient: 2e59e2064d391f4b2587a08aff671399 : 12500\n"
     ]
    },
    {
     "name": "stderr",
     "output_type": "stream",
     "text": [
      "\r",
      "          \r",
      "\r",
      "          \r",
      " 95%|█████████▌| 1523/1595 [48:57<02:18,  1.93s/it]\r",
      " 96%|█████████▌| 1524/1595 [48:57<02:06,  1.78s/it]"
     ]
    },
    {
     "name": "stdout",
     "output_type": "stream",
     "text": [
      "chunks for patient: ae2fdcd8daa3fede6ae23cc63a8d9a82 : 14196\n"
     ]
    },
    {
     "name": "stderr",
     "output_type": "stream",
     "text": [
      "\r",
      "          \r",
      "\r",
      "          \r",
      " 96%|█████████▌| 1524/1595 [48:59<02:16,  1.93s/it]\r",
      " 96%|█████████▌| 1525/1595 [48:59<02:12,  1.89s/it]"
     ]
    },
    {
     "name": "stdout",
     "output_type": "stream",
     "text": [
      "chunks for patient: bedec8e1ad130a08faeec8ed81780d56 : 17248\n"
     ]
    },
    {
     "name": "stderr",
     "output_type": "stream",
     "text": [
      "\r",
      "          \r",
      "\r",
      "          \r",
      " 96%|█████████▌| 1525/1595 [49:00<02:14,  1.93s/it]\r",
      " 96%|█████████▌| 1526/1595 [49:00<02:06,  1.83s/it]"
     ]
    },
    {
     "name": "stdout",
     "output_type": "stream",
     "text": [
      "chunks for patient: 17f5ae9fa49c4e47624f344d29bd03eb : 15000\n"
     ]
    },
    {
     "name": "stderr",
     "output_type": "stream",
     "text": [
      "\r",
      "          \r",
      "\r",
      "          \r",
      " 96%|█████████▌| 1526/1595 [49:02<02:13,  1.93s/it]\r",
      " 96%|█████████▌| 1527/1595 [49:02<01:51,  1.64s/it]"
     ]
    },
    {
     "name": "stdout",
     "output_type": "stream",
     "text": [
      "chunks for patient: 97967da068bd4ee2d9cb7558f1d8c18c : 9680\n"
     ]
    },
    {
     "name": "stderr",
     "output_type": "stream",
     "text": [
      "\r",
      "          \r",
      "\r",
      "          \r",
      " 96%|█████████▌| 1527/1595 [49:04<02:11,  1.93s/it]\r",
      " 96%|█████████▌| 1528/1595 [49:04<01:55,  1.73s/it]"
     ]
    },
    {
     "name": "stdout",
     "output_type": "stream",
     "text": [
      "chunks for patient: 1098cb63ea33f752a850929234576bcb : 14375\n"
     ]
    },
    {
     "name": "stderr",
     "output_type": "stream",
     "text": [
      "\r",
      "          \r",
      "\r",
      "          \r",
      " 96%|█████████▌| 1528/1595 [49:06<02:09,  1.93s/it]\r",
      " 96%|█████████▌| 1529/1595 [49:06<02:01,  1.84s/it]"
     ]
    },
    {
     "name": "stdout",
     "output_type": "stream",
     "text": [
      "chunks for patient: 5a57009fcdea02d30d31a47d2454dc29 : 17496\n"
     ]
    },
    {
     "name": "stderr",
     "output_type": "stream",
     "text": [
      "\r",
      "          \r",
      "\r",
      "          \r",
      " 96%|█████████▌| 1529/1595 [49:08<02:07,  1.93s/it]\r",
      " 96%|█████████▌| 1530/1595 [49:08<02:08,  1.97s/it]"
     ]
    },
    {
     "name": "stdout",
     "output_type": "stream",
     "text": [
      "chunks for patient: 24626abe1c4544fb39d4e96e33275789 : 18225\n"
     ]
    },
    {
     "name": "stderr",
     "output_type": "stream",
     "text": [
      "\r",
      "          \r",
      "\r",
      "          \r",
      " 96%|█████████▌| 1530/1595 [49:10<02:05,  1.93s/it]\r",
      " 96%|█████████▌| 1531/1595 [49:10<02:01,  1.89s/it]"
     ]
    },
    {
     "name": "stdout",
     "output_type": "stream",
     "text": [
      "chunks for patient: 80a3052f4a1b90fd38fd0def7b79b65c : 14872\n"
     ]
    },
    {
     "name": "stderr",
     "output_type": "stream",
     "text": [
      "\r",
      "          \r",
      "\r",
      "          \r",
      " 96%|█████████▌| 1531/1595 [49:12<02:03,  1.93s/it]\r",
      " 96%|█████████▌| 1532/1595 [49:12<02:00,  1.92s/it]"
     ]
    },
    {
     "name": "stdout",
     "output_type": "stream",
     "text": [
      "chunks for patient: 09d7c4a3e1076dcfcae2b0a563a28364 : 16250\n"
     ]
    },
    {
     "name": "stderr",
     "output_type": "stream",
     "text": [
      "\r",
      "          \r",
      "\r",
      "          \r",
      " 96%|█████████▌| 1532/1595 [49:13<02:01,  1.93s/it]\r",
      " 96%|█████████▌| 1533/1595 [49:13<01:52,  1.81s/it]"
     ]
    },
    {
     "name": "stdout",
     "output_type": "stream",
     "text": [
      "chunks for patient: ab5de6c17f4086ba09b7145178d83b45 : 12584\n"
     ]
    },
    {
     "name": "stderr",
     "output_type": "stream",
     "text": [
      "\r",
      "          \r",
      "\r",
      "          \r",
      " 96%|█████████▌| 1533/1595 [49:15<01:59,  1.93s/it]\r",
      " 96%|█████████▌| 1534/1595 [49:15<01:51,  1.83s/it]"
     ]
    },
    {
     "name": "stdout",
     "output_type": "stream",
     "text": [
      "chunks for patient: d2eecd9f13a6d474338045d0c91cffbd : 15548\n"
     ]
    },
    {
     "name": "stderr",
     "output_type": "stream",
     "text": [
      "\r",
      "          \r",
      "\r",
      "          \r",
      " 96%|█████████▌| 1534/1595 [49:17<01:57,  1.93s/it]\r",
      " 96%|█████████▌| 1535/1595 [49:17<01:49,  1.82s/it]"
     ]
    },
    {
     "name": "stdout",
     "output_type": "stream",
     "text": [
      "chunks for patient: 1c42a5da837f4122d2c3b59ca9b5f0fb : 16250\n"
     ]
    },
    {
     "name": "stderr",
     "output_type": "stream",
     "text": [
      "\r",
      "          \r",
      "\r",
      "          \r",
      " 96%|█████████▌| 1535/1595 [49:18<01:55,  1.93s/it]\r",
      " 96%|█████████▋| 1536/1595 [49:18<01:44,  1.77s/it]"
     ]
    },
    {
     "name": "stdout",
     "output_type": "stream",
     "text": [
      "chunks for patient: 6ae190bcd3fd9c581db4120f4465d65a : 14196\n"
     ]
    },
    {
     "name": "stderr",
     "output_type": "stream",
     "text": [
      "\r",
      "          \r",
      "\r",
      "          \r",
      " 96%|█████████▋| 1536/1595 [49:20<01:53,  1.93s/it]\r",
      " 96%|█████████▋| 1537/1595 [49:20<01:32,  1.60s/it]"
     ]
    },
    {
     "name": "stdout",
     "output_type": "stream",
     "text": [
      "chunks for patient: d4307a302483bcc04717ca4f565db678 : 11109\n"
     ]
    },
    {
     "name": "stderr",
     "output_type": "stream",
     "text": [
      "\r",
      "          \r",
      "\r",
      "          \r",
      " 96%|█████████▋| 1537/1595 [49:22<01:51,  1.93s/it]\r",
      " 96%|█████████▋| 1538/1595 [49:22<01:51,  1.95s/it]"
     ]
    },
    {
     "name": "stdout",
     "output_type": "stream",
     "text": [
      "chunks for patient: 1e62be2c3b6430b78ce31a8f023531ac : 18816\n"
     ]
    },
    {
     "name": "stderr",
     "output_type": "stream",
     "text": [
      "\r",
      "          \r",
      "\r",
      "          \r",
      " 96%|█████████▋| 1538/1595 [49:24<01:49,  1.93s/it]\r",
      " 96%|█████████▋| 1539/1595 [49:24<01:48,  1.94s/it]"
     ]
    },
    {
     "name": "stdout",
     "output_type": "stream",
     "text": [
      "chunks for patient: fe45462987bacc32dbc7126119999392 : 11638\n"
     ]
    },
    {
     "name": "stderr",
     "output_type": "stream",
     "text": [
      "\r",
      "          \r",
      "\r",
      "          \r",
      " 96%|█████████▋| 1539/1595 [49:26<01:47,  1.93s/it]\r",
      " 97%|█████████▋| 1540/1595 [49:26<01:46,  1.93s/it]"
     ]
    },
    {
     "name": "stdout",
     "output_type": "stream",
     "text": [
      "chunks for patient: 71665cc6a7ee85268ca1da69c94bbaeb : 12096\n"
     ]
    },
    {
     "name": "stderr",
     "output_type": "stream",
     "text": [
      "\r",
      "          \r",
      "\r",
      "          \r",
      " 97%|█████████▋| 1540/1595 [49:28<01:46,  1.93s/it]\r",
      " 97%|█████████▋| 1541/1595 [49:28<01:35,  1.78s/it]"
     ]
    },
    {
     "name": "stdout",
     "output_type": "stream",
     "text": [
      "chunks for patient: 263a1c3bfa43556623e75ed901e3fd8f : 11132\n"
     ]
    },
    {
     "name": "stderr",
     "output_type": "stream",
     "text": [
      "\r",
      "          \r",
      "\r",
      "          \r",
      " 97%|█████████▋| 1541/1595 [49:29<01:44,  1.93s/it]\r",
      " 97%|█████████▋| 1542/1595 [49:29<01:32,  1.74s/it]"
     ]
    },
    {
     "name": "stdout",
     "output_type": "stream",
     "text": [
      "chunks for patient: 5f383eb9c3d8ea72ddec7e2e874d577d : 11132\n"
     ]
    },
    {
     "name": "stderr",
     "output_type": "stream",
     "text": [
      "\r",
      "          \r",
      "\r",
      "          \r",
      " 97%|█████████▋| 1542/1595 [49:31<01:42,  1.93s/it]\r",
      " 97%|█████████▋| 1543/1595 [49:31<01:35,  1.83s/it]"
     ]
    },
    {
     "name": "stdout",
     "output_type": "stream",
     "text": [
      "chunks for patient: b06ccf39536d0e3e0e8c78ba599ed23b : 15625\n"
     ]
    },
    {
     "name": "stderr",
     "output_type": "stream",
     "text": [
      "\r",
      "          \r",
      "\r",
      "          \r",
      " 97%|█████████▋| 1543/1595 [49:34<01:40,  1.93s/it]\r",
      " 97%|█████████▋| 1544/1595 [49:34<01:39,  1.95s/it]"
     ]
    },
    {
     "name": "stdout",
     "output_type": "stream",
     "text": [
      "chunks for patient: fdcd385b0d2d12341661e1abe845be0b : 16250\n"
     ]
    },
    {
     "name": "stderr",
     "output_type": "stream",
     "text": [
      "\r",
      "          \r",
      "\r",
      "          \r",
      " 97%|█████████▋| 1544/1595 [49:36<01:38,  1.93s/it]\r",
      " 97%|█████████▋| 1545/1595 [49:36<01:39,  1.99s/it]"
     ]
    },
    {
     "name": "stdout",
     "output_type": "stream",
     "text": [
      "chunks for patient: 39dc5f09d7b8eeda7f2f02c86f53247d : 17576\n"
     ]
    },
    {
     "name": "stderr",
     "output_type": "stream",
     "text": [
      "\r",
      "          \r",
      "\r",
      "          \r",
      " 97%|█████████▋| 1545/1595 [49:37<01:36,  1.93s/it]\r",
      " 97%|█████████▋| 1546/1595 [49:37<01:30,  1.84s/it]"
     ]
    },
    {
     "name": "stdout",
     "output_type": "stream",
     "text": [
      "chunks for patient: 245fe0c86269602b0dab44c345b0b412 : 9680\n"
     ]
    },
    {
     "name": "stderr",
     "output_type": "stream",
     "text": [
      "\r",
      "          \r",
      "\r",
      "          \r",
      " 97%|█████████▋| 1546/1595 [49:38<01:34,  1.93s/it]\r",
      " 97%|█████████▋| 1547/1595 [49:38<01:19,  1.65s/it]"
     ]
    },
    {
     "name": "stdout",
     "output_type": "stream",
     "text": [
      "chunks for patient: 11fe5426ef497bc490b9f1465f1fb25e : 10143\n"
     ]
    },
    {
     "name": "stderr",
     "output_type": "stream",
     "text": [
      "\r",
      "          \r",
      "\r",
      "          \r",
      " 97%|█████████▋| 1547/1595 [49:40<01:32,  1.93s/it]\r",
      " 97%|█████████▋| 1548/1595 [49:40<01:22,  1.77s/it]"
     ]
    },
    {
     "name": "stdout",
     "output_type": "stream",
     "text": [
      "chunks for patient: d4e5c5bf1871b85914168ea12ed579a3 : 16224\n"
     ]
    },
    {
     "name": "stderr",
     "output_type": "stream",
     "text": [
      "\r",
      "          \r",
      "\r",
      "          \r",
      " 97%|█████████▋| 1548/1595 [49:42<01:30,  1.93s/it]\r",
      " 97%|█████████▋| 1549/1595 [49:42<01:19,  1.73s/it]"
     ]
    },
    {
     "name": "stdout",
     "output_type": "stream",
     "text": [
      "chunks for patient: 8bb7dd5fbfa5ecb95552d9c587f2fea5 : 12100\n"
     ]
    },
    {
     "name": "stderr",
     "output_type": "stream",
     "text": [
      "\r",
      "          \r",
      "\r",
      "          \r",
      " 97%|█████████▋| 1549/1595 [49:44<01:28,  1.93s/it]\r",
      " 97%|█████████▋| 1550/1595 [49:44<01:17,  1.72s/it]"
     ]
    },
    {
     "name": "stdout",
     "output_type": "stream",
     "text": [
      "chunks for patient: 74b68f9442209bace31aa62027fbb79a : 12672\n"
     ]
    },
    {
     "name": "stderr",
     "output_type": "stream",
     "text": [
      "\r",
      "          \r",
      "\r",
      "          \r",
      " 97%|█████████▋| 1550/1595 [49:46<01:26,  1.93s/it]\r",
      " 97%|█████████▋| 1551/1595 [49:46<01:19,  1.80s/it]"
     ]
    },
    {
     "name": "stdout",
     "output_type": "stream",
     "text": [
      "chunks for patient: f78944bd1732001a3c62723a8cc19856 : 15309\n"
     ]
    },
    {
     "name": "stderr",
     "output_type": "stream",
     "text": [
      "\r",
      "          \r",
      "\r",
      "          \r",
      " 97%|█████████▋| 1551/1595 [49:48<01:24,  1.93s/it]\r",
      " 97%|█████████▋| 1552/1595 [49:48<01:20,  1.87s/it]"
     ]
    },
    {
     "name": "stdout",
     "output_type": "stream",
     "text": [
      "chunks for patient: 14c534e0b7c3176d9106c6215d0aa8c6 : 15625\n"
     ]
    },
    {
     "name": "stderr",
     "output_type": "stream",
     "text": [
      "\r",
      "          \r",
      "\r",
      "          \r",
      " 97%|█████████▋| 1552/1595 [49:49<01:22,  1.93s/it]\r",
      " 97%|█████████▋| 1553/1595 [49:49<01:14,  1.77s/it]"
     ]
    },
    {
     "name": "stdout",
     "output_type": "stream",
     "text": [
      "chunks for patient: df8614fd49a196123c5b88584dd5dd65 : 11638\n"
     ]
    },
    {
     "name": "stderr",
     "output_type": "stream",
     "text": [
      "\r",
      "          \r",
      "\r",
      "          \r",
      " 97%|█████████▋| 1553/1595 [49:52<01:20,  1.93s/it]\r",
      " 97%|█████████▋| 1554/1595 [49:52<01:17,  1.90s/it]"
     ]
    },
    {
     "name": "stdout",
     "output_type": "stream",
     "text": [
      "chunks for patient: 415ea74bca59eb0ecd5ebb9c2c545f9d : 13552\n"
     ]
    },
    {
     "name": "stderr",
     "output_type": "stream",
     "text": [
      "\r",
      "          \r",
      "\r",
      "          \r",
      " 97%|█████████▋| 1554/1595 [49:53<01:18,  1.93s/it]\r",
      " 97%|█████████▋| 1555/1595 [49:53<01:11,  1.78s/it]"
     ]
    },
    {
     "name": "stdout",
     "output_type": "stream",
     "text": [
      "chunks for patient: 9397a41c9e819a92eb5c86e0e652d7c1 : 12096\n"
     ]
    },
    {
     "name": "stderr",
     "output_type": "stream",
     "text": [
      "\r",
      "          \r",
      "\r",
      "          \r",
      " 97%|█████████▋| 1555/1595 [49:54<01:17,  1.93s/it]\r",
      " 98%|█████████▊| 1556/1595 [49:54<01:03,  1.62s/it]"
     ]
    },
    {
     "name": "stdout",
     "output_type": "stream",
     "text": [
      "chunks for patient: 4b8e47f2a5edda13b971da27317bfc6f : 12844\n"
     ]
    },
    {
     "name": "stderr",
     "output_type": "stream",
     "text": [
      "\r",
      "          \r",
      "\r",
      "          \r",
      " 98%|█████████▊| 1556/1595 [49:57<01:15,  1.93s/it]\r",
      " 98%|█████████▊| 1557/1595 [49:57<01:12,  1.90s/it]"
     ]
    },
    {
     "name": "stdout",
     "output_type": "stream",
     "text": [
      "chunks for patient: 3b908e86ea0f7cbd05dd8e0ea6d45d79 : 20184\n"
     ]
    },
    {
     "name": "stderr",
     "output_type": "stream",
     "text": [
      "\r",
      "          \r",
      "\r",
      "          \r",
      " 98%|█████████▊| 1557/1595 [49:58<01:13,  1.93s/it]\r",
      " 98%|█████████▊| 1558/1595 [49:58<01:07,  1.84s/it]"
     ]
    },
    {
     "name": "stdout",
     "output_type": "stream",
     "text": [
      "chunks for patient: 7c8aa548b813dadf972c38e806320179 : 14283\n"
     ]
    },
    {
     "name": "stderr",
     "output_type": "stream",
     "text": [
      "\r",
      "          \r",
      "\r",
      "          \r",
      " 98%|█████████▊| 1558/1595 [50:00<01:11,  1.93s/it]\r",
      " 98%|█████████▊| 1559/1595 [50:00<00:59,  1.66s/it]"
     ]
    },
    {
     "name": "stdout",
     "output_type": "stream",
     "text": [
      "chunks for patient: 303b4b8425389134997a38b975c205d3 : 10143\n"
     ]
    },
    {
     "name": "stderr",
     "output_type": "stream",
     "text": [
      "\r",
      "          \r",
      "\r",
      "          \r",
      " 98%|█████████▊| 1559/1595 [50:01<01:09,  1.93s/it]\r",
      " 98%|█████████▊| 1560/1595 [50:01<00:56,  1.62s/it]"
     ]
    },
    {
     "name": "stdout",
     "output_type": "stream",
     "text": [
      "chunks for patient: 59fc9d939f05bf3023c1387c1c086520 : 13125\n"
     ]
    },
    {
     "name": "stderr",
     "output_type": "stream",
     "text": [
      "\r",
      "          \r",
      "\r",
      "          \r",
      " 98%|█████████▊| 1560/1595 [50:02<01:07,  1.92s/it]\r",
      " 98%|█████████▊| 1561/1595 [50:02<00:49,  1.46s/it]"
     ]
    },
    {
     "name": "stdout",
     "output_type": "stream",
     "text": [
      "chunks for patient: edad1a7e85b5443e0ae9e654d2adbcba : 10143\n"
     ]
    },
    {
     "name": "stderr",
     "output_type": "stream",
     "text": [
      "\r",
      "          \r",
      "\r",
      "          \r",
      " 98%|█████████▊| 1561/1595 [50:03<01:05,  1.92s/it]\r",
      " 98%|█████████▊| 1562/1595 [50:03<00:44,  1.35s/it]"
     ]
    },
    {
     "name": "stdout",
     "output_type": "stream",
     "text": [
      "chunks for patient: 48fac79fead32f2b10e37752cb077af6 : 7938\n"
     ]
    },
    {
     "name": "stderr",
     "output_type": "stream",
     "text": [
      "\r",
      "          \r",
      "\r",
      "          \r",
      " 98%|█████████▊| 1562/1595 [50:05<01:03,  1.92s/it]\r",
      " 98%|█████████▊| 1563/1595 [50:05<00:43,  1.36s/it]"
     ]
    },
    {
     "name": "stdout",
     "output_type": "stream",
     "text": [
      "chunks for patient: 59e4985cd165f3abbe888475ce564f3a : 12696\n"
     ]
    },
    {
     "name": "stderr",
     "output_type": "stream",
     "text": [
      "\r",
      "          \r",
      "\r",
      "          \r",
      " 98%|█████████▊| 1563/1595 [50:07<01:01,  1.92s/it]\r",
      " 98%|█████████▊| 1564/1595 [50:07<00:51,  1.65s/it]"
     ]
    },
    {
     "name": "stdout",
     "output_type": "stream",
     "text": [
      "chunks for patient: 42bfcfb0e3965039947bd905b2fc3915 : 15548\n"
     ]
    },
    {
     "name": "stderr",
     "output_type": "stream",
     "text": [
      "\r",
      "          \r",
      "\r",
      "          \r",
      " 98%|█████████▊| 1564/1595 [50:09<00:59,  1.92s/it]\r",
      " 98%|█████████▊| 1565/1595 [50:09<00:51,  1.71s/it]"
     ]
    },
    {
     "name": "stdout",
     "output_type": "stream",
     "text": [
      "chunks for patient: 09ee522a3b7dbea48aa6d39afe240129 : 16250\n"
     ]
    },
    {
     "name": "stderr",
     "output_type": "stream",
     "text": [
      "\r",
      "          \r",
      "\r",
      "          \r",
      " 98%|█████████▊| 1565/1595 [50:11<00:57,  1.92s/it]\r",
      " 98%|█████████▊| 1566/1595 [50:11<00:49,  1.69s/it]"
     ]
    },
    {
     "name": "stdout",
     "output_type": "stream",
     "text": [
      "chunks for patient: a7411bdc623413af46a30bd9d2c41066 : 12500\n"
     ]
    },
    {
     "name": "stderr",
     "output_type": "stream",
     "text": [
      "\r",
      "          \r",
      "\r",
      "          \r",
      " 98%|█████████▊| 1566/1595 [50:13<00:55,  1.92s/it]\r",
      " 98%|█████████▊| 1567/1595 [50:13<00:53,  1.90s/it]"
     ]
    },
    {
     "name": "stdout",
     "output_type": "stream",
     "text": [
      "chunks for patient: ebcdfabecf4b46b1e55e4a4c75a0afb0 : 18816\n"
     ]
    },
    {
     "name": "stderr",
     "output_type": "stream",
     "text": [
      "\r",
      "          \r",
      "\r",
      "          \r",
      " 98%|█████████▊| 1567/1595 [50:15<00:53,  1.92s/it]\r",
      " 98%|█████████▊| 1568/1595 [50:15<00:55,  2.04s/it]"
     ]
    },
    {
     "name": "stdout",
     "output_type": "stream",
     "text": [
      "chunks for patient: d7aa27d839b1ecb03dbf011af4bcb092 : 16767\n"
     ]
    },
    {
     "name": "stderr",
     "output_type": "stream",
     "text": [
      "\r",
      "          \r",
      "\r",
      "          \r",
      " 98%|█████████▊| 1568/1595 [50:17<00:51,  1.92s/it]\r",
      " 98%|█████████▊| 1569/1595 [50:17<00:51,  1.99s/it]"
     ]
    },
    {
     "name": "stdout",
     "output_type": "stream",
     "text": [
      "chunks for patient: 57af0020213d64598ede82fe9d6bb8b3 : 14872\n"
     ]
    },
    {
     "name": "stderr",
     "output_type": "stream",
     "text": [
      "\r",
      "          \r",
      "\r",
      "          \r",
      " 98%|█████████▊| 1569/1595 [50:18<00:50,  1.92s/it]\r",
      " 98%|█████████▊| 1570/1595 [50:18<00:43,  1.72s/it]"
     ]
    },
    {
     "name": "stdout",
     "output_type": "stream",
     "text": [
      "chunks for patient: 5f3b9b59f957fea0a5e8cc506e12652e : 8820\n"
     ]
    },
    {
     "name": "stderr",
     "output_type": "stream",
     "text": [
      "\r",
      "          \r",
      "\r",
      "          \r",
      " 98%|█████████▊| 1570/1595 [50:21<00:48,  1.92s/it]\r",
      " 98%|█████████▊| 1571/1595 [50:21<00:48,  2.00s/it]"
     ]
    },
    {
     "name": "stdout",
     "output_type": "stream",
     "text": [
      "chunks for patient: 31136e50b7205e9184227f94cdea0090 : 18900\n"
     ]
    },
    {
     "name": "stderr",
     "output_type": "stream",
     "text": [
      "\r",
      "          \r",
      "\r",
      "          \r",
      " 98%|█████████▊| 1571/1595 [50:23<00:46,  1.92s/it]\r",
      " 99%|█████████▊| 1572/1595 [50:23<00:45,  1.96s/it]"
     ]
    },
    {
     "name": "stdout",
     "output_type": "stream",
     "text": [
      "chunks for patient: a8d308b966048be67f7413daf952ee94 : 15548\n"
     ]
    },
    {
     "name": "stderr",
     "output_type": "stream",
     "text": [
      "\r",
      "          \r",
      "\r",
      "          \r",
      " 99%|█████████▊| 1572/1595 [50:26<00:44,  1.93s/it]\r",
      " 99%|█████████▊| 1573/1595 [50:26<00:50,  2.31s/it]"
     ]
    },
    {
     "name": "stdout",
     "output_type": "stream",
     "text": [
      "chunks for patient: 169b5bde441e8aa3df2766e2e02cda08 : 20412\n"
     ]
    },
    {
     "name": "stderr",
     "output_type": "stream",
     "text": [
      "\r",
      "          \r",
      "\r",
      "          \r",
      " 99%|█████████▊| 1573/1595 [50:28<00:42,  1.93s/it]\r",
      " 99%|█████████▊| 1574/1595 [50:28<00:46,  2.19s/it]"
     ]
    },
    {
     "name": "stdout",
     "output_type": "stream",
     "text": [
      "chunks for patient: f1a64fda219db48bcfb8ad3823ef9fc1 : 10143\n"
     ]
    },
    {
     "name": "stderr",
     "output_type": "stream",
     "text": [
      "\r",
      "          \r",
      "\r",
      "          \r",
      " 99%|█████████▊| 1574/1595 [50:30<00:40,  1.93s/it]\r",
      " 99%|█████████▊| 1575/1595 [50:30<00:41,  2.09s/it]"
     ]
    },
    {
     "name": "stdout",
     "output_type": "stream",
     "text": [
      "chunks for patient: abc526fd74d0fdd73772bc6867bc38a4 : 13750\n"
     ]
    },
    {
     "name": "stderr",
     "output_type": "stream",
     "text": [
      "\r",
      "          \r",
      "\r",
      "          \r",
      " 99%|█████████▊| 1575/1595 [50:32<00:38,  1.93s/it]\r",
      " 99%|█████████▉| 1576/1595 [50:32<00:39,  2.06s/it]"
     ]
    },
    {
     "name": "stdout",
     "output_type": "stream",
     "text": [
      "chunks for patient: c590651cdf70258ffb1b6ee18da6a1b2 : 15548\n"
     ]
    },
    {
     "name": "stderr",
     "output_type": "stream",
     "text": [
      "\r",
      "          \r",
      "\r",
      "          \r",
      " 99%|█████████▉| 1576/1595 [50:33<00:36,  1.92s/it]\r",
      " 99%|█████████▉| 1577/1595 [50:33<00:34,  1.89s/it]"
     ]
    },
    {
     "name": "stdout",
     "output_type": "stream",
     "text": [
      "chunks for patient: 5e371e8fda27df3e5cc2548868229d5b : 11520\n"
     ]
    },
    {
     "name": "stderr",
     "output_type": "stream",
     "text": [
      "\r",
      "          \r",
      "\r",
      "          \r",
      " 99%|█████████▉| 1577/1595 [50:35<00:34,  1.93s/it]\r",
      " 99%|█████████▉| 1578/1595 [50:35<00:33,  1.97s/it]"
     ]
    },
    {
     "name": "stdout",
     "output_type": "stream",
     "text": [
      "chunks for patient: 9e878fd779fb4d20aaa80db151643442 : 18225\n"
     ]
    },
    {
     "name": "stderr",
     "output_type": "stream",
     "text": [
      "\r",
      "          \r",
      "\r",
      "          \r",
      " 99%|█████████▉| 1578/1595 [50:37<00:32,  1.92s/it]\r",
      " 99%|█████████▉| 1579/1595 [50:37<00:28,  1.77s/it]"
     ]
    },
    {
     "name": "stdout",
     "output_type": "stream",
     "text": [
      "chunks for patient: cd68d1a14cc504e3f7434d5cc324744d : 8820\n"
     ]
    },
    {
     "name": "stderr",
     "output_type": "stream",
     "text": [
      "\r",
      "          \r",
      "\r",
      "          \r",
      " 99%|█████████▉| 1579/1595 [50:38<00:30,  1.92s/it]\r",
      " 99%|█████████▉| 1580/1595 [50:38<00:25,  1.73s/it]"
     ]
    },
    {
     "name": "stdout",
     "output_type": "stream",
     "text": [
      "chunks for patient: 3f37745d6516c29c597b797c50fe7839 : 12696\n"
     ]
    },
    {
     "name": "stderr",
     "output_type": "stream",
     "text": [
      "\r",
      "          \r",
      "\r",
      "          \r",
      " 99%|█████████▉| 1580/1595 [50:40<00:28,  1.92s/it]\r",
      " 99%|█████████▉| 1581/1595 [50:40<00:24,  1.77s/it]"
     ]
    },
    {
     "name": "stdout",
     "output_type": "stream",
     "text": [
      "chunks for patient: be9a2df5a16434e581c6a0625c290591 : 11638\n"
     ]
    },
    {
     "name": "stderr",
     "output_type": "stream",
     "text": [
      "\r",
      "          \r",
      "\r",
      "          \r",
      " 99%|█████████▉| 1581/1595 [50:42<00:26,  1.92s/it]\r",
      " 99%|█████████▉| 1582/1595 [50:42<00:22,  1.77s/it]"
     ]
    },
    {
     "name": "stdout",
     "output_type": "stream",
     "text": [
      "chunks for patient: f37d1d5c299d4838b294cf82902675b0 : 8400\n"
     ]
    },
    {
     "name": "stderr",
     "output_type": "stream",
     "text": [
      "\r",
      "          \r",
      "\r",
      "          \r",
      " 99%|█████████▉| 1582/1595 [50:44<00:25,  1.92s/it]\r",
      " 99%|█████████▉| 1583/1595 [50:44<00:22,  1.88s/it]"
     ]
    },
    {
     "name": "stdout",
     "output_type": "stream",
     "text": [
      "chunks for patient: 4efa432089851f50a5f53fc5a12e806a : 16767\n"
     ]
    },
    {
     "name": "stderr",
     "output_type": "stream",
     "text": [
      "\r",
      "          \r",
      "\r",
      "          \r",
      " 99%|█████████▉| 1583/1595 [50:46<00:23,  1.92s/it]\r",
      " 99%|█████████▉| 1584/1595 [50:46<00:19,  1.80s/it]"
     ]
    },
    {
     "name": "stdout",
     "output_type": "stream",
     "text": [
      "chunks for patient: 5451203688c930484ba1f3c7f1378847 : 12696\n"
     ]
    },
    {
     "name": "stderr",
     "output_type": "stream",
     "text": [
      "\r",
      "          \r",
      "\r",
      "          \r",
      " 99%|█████████▉| 1584/1595 [50:48<00:21,  1.92s/it]\r",
      " 99%|█████████▉| 1585/1595 [50:48<00:20,  2.00s/it]"
     ]
    },
    {
     "name": "stdout",
     "output_type": "stream",
     "text": [
      "chunks for patient: 220223b46a23db0e2b0577170936845d : 19600\n"
     ]
    },
    {
     "name": "stderr",
     "output_type": "stream",
     "text": [
      "\r",
      "          \r",
      "\r",
      "          \r",
      " 99%|█████████▉| 1585/1595 [50:50<00:19,  1.92s/it]\r",
      " 99%|█████████▉| 1586/1595 [50:50<00:16,  1.80s/it]"
     ]
    },
    {
     "name": "stdout",
     "output_type": "stream",
     "text": [
      "chunks for patient: ee71210fa398cbb080f6c537a503e806 : 9702\n"
     ]
    },
    {
     "name": "stderr",
     "output_type": "stream",
     "text": [
      "\r",
      "          \r",
      "\r",
      "          \r",
      " 99%|█████████▉| 1586/1595 [50:51<00:17,  1.92s/it]\r",
      " 99%|█████████▉| 1587/1595 [50:51<00:14,  1.77s/it]"
     ]
    },
    {
     "name": "stdout",
     "output_type": "stream",
     "text": [
      "chunks for patient: fe5c37e82b412833b8ad0abb57978377 : 8820\n"
     ]
    },
    {
     "name": "stderr",
     "output_type": "stream",
     "text": [
      "\r",
      "          \r",
      "\r",
      "          \r",
      " 99%|█████████▉| 1587/1595 [50:53<00:15,  1.92s/it]\r",
      "100%|█████████▉| 1588/1595 [50:53<00:12,  1.81s/it]"
     ]
    },
    {
     "name": "stdout",
     "output_type": "stream",
     "text": [
      "chunks for patient: fbe0c3d6e4a50ca1c1bd3101515d0ab4 : 12500\n"
     ]
    },
    {
     "name": "stderr",
     "output_type": "stream",
     "text": [
      "\r",
      "          \r",
      "\r",
      "          \r",
      "100%|█████████▉| 1588/1595 [50:55<00:13,  1.92s/it]\r",
      "100%|█████████▉| 1589/1595 [50:55<00:11,  1.92s/it]"
     ]
    },
    {
     "name": "stdout",
     "output_type": "stream",
     "text": [
      "chunks for patient: c46c3962c10e287f1c1e3af0d309a128 : 16900\n"
     ]
    },
    {
     "name": "stderr",
     "output_type": "stream",
     "text": [
      "\r",
      "          \r",
      "\r",
      "          \r",
      "100%|█████████▉| 1589/1595 [50:57<00:11,  1.92s/it]\r",
      "100%|█████████▉| 1590/1595 [50:57<00:09,  1.90s/it]"
     ]
    },
    {
     "name": "stdout",
     "output_type": "stream",
     "text": [
      "chunks for patient: e60d99ea9648e1ce859eb0b386365e26 : 14872\n"
     ]
    },
    {
     "name": "stderr",
     "output_type": "stream",
     "text": [
      "\r",
      "          \r",
      "\r",
      "          \r",
      "100%|█████████▉| 1590/1595 [50:59<00:09,  1.92s/it]\r",
      "100%|█████████▉| 1591/1595 [50:59<00:07,  1.87s/it]"
     ]
    },
    {
     "name": "stdout",
     "output_type": "stream",
     "text": [
      "chunks for patient: 39c3a2d2ca67bc7a1a22240ea571d50c : 15548\n"
     ]
    },
    {
     "name": "stderr",
     "output_type": "stream",
     "text": [
      "\r",
      "          \r",
      "\r",
      "          \r",
      "100%|█████████▉| 1591/1595 [51:01<00:07,  1.92s/it]\r",
      "100%|█████████▉| 1592/1595 [51:01<00:05,  1.99s/it]"
     ]
    },
    {
     "name": "stdout",
     "output_type": "stream",
     "text": [
      "chunks for patient: 37dbe298bb4e0199625689cc35d390bb : 17500\n"
     ]
    },
    {
     "name": "stderr",
     "output_type": "stream",
     "text": [
      "\r",
      "          \r",
      "\r",
      "          \r",
      "100%|█████████▉| 1592/1595 [51:03<00:05,  1.92s/it]\r",
      "100%|█████████▉| 1593/1595 [51:03<00:04,  2.06s/it]"
     ]
    },
    {
     "name": "stdout",
     "output_type": "stream",
     "text": [
      "chunks for patient: f5713e8c98ef5378ea678fb8d9192e13 : 16224\n"
     ]
    },
    {
     "name": "stderr",
     "output_type": "stream",
     "text": [
      "\r",
      "          \r",
      "\r",
      "          \r",
      "100%|█████████▉| 1593/1595 [51:06<00:03,  1.92s/it]\r",
      "100%|█████████▉| 1594/1595 [51:06<00:02,  2.11s/it]"
     ]
    },
    {
     "name": "stdout",
     "output_type": "stream",
     "text": [
      "chunks for patient: 8ed68f2dbf103a4bc0fd8708d8c1ac93 : 17576\n"
     ]
    },
    {
     "name": "stderr",
     "output_type": "stream",
     "text": [
      "\r",
      "          \r",
      "\r",
      "          \r",
      "100%|█████████▉| 1594/1595 [51:08<00:01,  1.92s/it]\r",
      "100%|██████████| 1595/1595 [51:08<00:00,  2.15s/it]"
     ]
    },
    {
     "name": "stdout",
     "output_type": "stream",
     "text": [
      "chunks for patient: 8918c484841c5d0a532fe146e9da61bd : 17576\n"
     ]
    },
    {
     "name": "stderr",
     "output_type": "stream",
     "text": [
      "\n"
     ]
    }
   ],
   "source": [
    "del chunk_count\n",
    "del chunks\n",
    "chunk_count = []\n",
    "for folder in tqdm(glob.glob(DATA_PATH + PATIENT_SCANS + '*')):                                                                                                     ### TIME STATEMENTS\n",
    "    m = re.match(PATIENT_SCANS +'([a-f0-9].*).npy', os.path.basename(folder))\n",
    "    patient_uid = m.group(1)\n",
    "    \n",
    "    chunks = get_patient_data_chunks(patient_uid)\n",
    "    chunk_count.append(chunks)\n",
    "    tqdm.write(\"chunks for patient: \"+str(patient_uid)  +\" : \" + str(chunks) )"
   ]
  },
  {
   "cell_type": "code",
   "execution_count": 30,
   "metadata": {
    "collapsed": false
   },
   "outputs": [
    {
     "data": {
      "text/plain": [
       "1595"
      ]
     },
     "execution_count": 30,
     "metadata": {},
     "output_type": "execute_result"
    }
   ],
   "source": [
    "len(chunk_count)"
   ]
  },
  {
   "cell_type": "code",
   "execution_count": 33,
   "metadata": {
    "collapsed": false
   },
   "outputs": [],
   "source": [
    "total_chunks = np.sum(chunk_count)"
   ]
  },
  {
   "cell_type": "code",
   "execution_count": 35,
   "metadata": {
    "collapsed": false
   },
   "outputs": [
    {
     "data": {
      "text/plain": [
       "10190805668"
      ]
     },
     "execution_count": 35,
     "metadata": {},
     "output_type": "execute_result"
    }
   ],
   "source": [
    "443 * total_chunks"
   ]
  },
  {
   "cell_type": "code",
   "execution_count": null,
   "metadata": {
    "collapsed": true
   },
   "outputs": [],
   "source": []
  }
 ],
 "metadata": {
  "kernelspec": {
   "display_name": "Python 3",
   "language": "python",
   "name": "python3"
  },
  "language_info": {
   "codemirror_mode": {
    "name": "ipython",
    "version": 3
   },
   "file_extension": ".py",
   "mimetype": "text/x-python",
   "name": "python",
   "nbconvert_exporter": "python",
   "pygments_lexer": "ipython3",
   "version": "3.5.2"
  }
 },
 "nbformat": 4,
 "nbformat_minor": 2
}
