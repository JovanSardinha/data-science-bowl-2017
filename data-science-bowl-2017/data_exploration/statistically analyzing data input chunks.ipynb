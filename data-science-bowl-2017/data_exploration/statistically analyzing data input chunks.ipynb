{
 "cells": [
  {
   "cell_type": "code",
   "execution_count": 86,
   "metadata": {
    "collapsed": false,
    "deletable": true,
    "editable": true
   },
   "outputs": [],
   "source": [
    "from scipy import stats\n",
    "import glob\n",
    "import os\n",
    "import re\n",
    "import pandas as pd\n",
    "import numpy as np\n",
    "import SimpleITK as sitk\n",
    "import matplotlib.pyplot as plt\n",
    "from tqdm import tqdm\n",
    "import time\n",
    "from datetime import timedelta\n",
    "import sys\n",
    "import datetime\n",
    "import tensorflow as tf\n",
    "import math\n",
    "from sklearn import cross_validation\n",
    "import xgboost as xgb\n",
    "from sklearn.ensemble import RandomForestClassifier as RF\n",
    "import scipy as sp\n",
    "from sklearn.decomposition import PCA\n",
    "import sklearn.metrics\n",
    "import random\n",
    "from scipy import stats\n"
   ]
  },
  {
   "cell_type": "code",
   "execution_count": 111,
   "metadata": {
    "collapsed": true,
    "deletable": true,
    "editable": true
   },
   "outputs": [],
   "source": [
    "LUNA_CHUNKS = '/kaggle_2/luna/luna16/data/pre_processed_chunks_segmented/'\n",
    "DSB_DATA_PATH = '/kaggle/dev/data-science-bowl-2017-data/stage1_processed/'\n",
    "LABELS = '/kaggle/dev/data-science-bowl-2017-data/stage1_labels.csv'\n",
    "PATIENT_SCANS = 'scan_segmented_lungs_fill_'\n",
    "CHUNK_SIZE = 64\n",
    "NUM_CLASSES = 7\n",
    "OVERLAP_PERCENTAGE = 0.6"
   ]
  },
  {
   "cell_type": "code",
   "execution_count": 103,
   "metadata": {
    "collapsed": false,
    "deletable": true,
    "editable": true
   },
   "outputs": [],
   "source": [
    "luna_chunks_x = []\n",
    "luna_chunks_y = []\n",
    "for folder in (glob.glob(LUNA_CHUNKS + '*_X.npy'))[0:10]:\n",
    "    m = re.match('([a-f0-9].*)_X.npy', os.path.basename(folder))\n",
    "    chunks = np.load(LUNA_CHUNKS + m.group(0))\n",
    "    y_labels = np.load(LUNA_CHUNKS + m.group(1)+'_Y.npy')\n",
    "    luna_chunks_x.append(chunks)\n",
    "    luna_chunks_y.append(y_labels)"
   ]
  },
  {
   "cell_type": "code",
   "execution_count": 120,
   "metadata": {
    "collapsed": false,
    "deletable": true,
    "editable": true,
    "scrolled": true
   },
   "outputs": [
    {
     "name": "stdout",
     "output_type": "stream",
     "text": [
      "processed patient: 0a0c32c9e08cc2ea76a71649de56be6d _original shape: (332, 340, 340)\n",
      "_num_chunks: 2744 _X.shape: (2744, 64, 64, 64) _Y.shape: (2744, 7)\n",
      "processed patient: 7577cbd6961b0cab27f88727dcd2d6d3 _original shape: (305, 290, 290)\n",
      "_num_chunks: 1872 _X.shape: (1872, 64, 64, 64) _Y.shape: (1872, 7)\n",
      "processed patient: 28352e12fe29361dfd9613ed2e729192 _original shape: (322, 382, 382)\n",
      "_num_chunks: 3328 _X.shape: (3328, 64, 64, 64) _Y.shape: (3328, 7)\n",
      "processed patient: 7852cb521d7029ca08133476054e7bec _original shape: (335, 340, 340)\n",
      "_num_chunks: 2744 _X.shape: (2744, 64, 64, 64) _Y.shape: (2744, 7)\n",
      "processed patient: d5c43054ba0f66d5017a8ddfde8c8c34 _original shape: (318, 360, 360)\n",
      "_num_chunks: 2925 _X.shape: (2925, 64, 64, 64) _Y.shape: (2925, 7)\n",
      "processed patient: 174c5f7c33ca31443208ef873b9477e5 _original shape: (346, 340, 340)\n",
      "_num_chunks: 2744 _X.shape: (2744, 64, 64, 64) _Y.shape: (2744, 7)\n",
      "processed patient: d43c9dd1be361b9302c9343af09cc23e _original shape: (342, 372, 372)\n",
      "_num_chunks: 3150 _X.shape: (3150, 64, 64, 64) _Y.shape: (3150, 7)\n",
      "processed patient: bc43e8a2cb05a45e73dea8c7e02f2cc1 _original shape: (342, 360, 360)\n",
      "_num_chunks: 3150 _X.shape: (3150, 64, 64, 64) _Y.shape: (3150, 7)\n",
      "processed patient: e188bdeea72bb41d980dc2556dc8aafa _original shape: (324, 320, 320)\n",
      "_num_chunks: 2197 _X.shape: (2197, 64, 64, 64) _Y.shape: (2197, 7)\n",
      "processed patient: 49433c1588cc078b825a0eff1dc2e816 _original shape: (313, 300, 300)\n",
      "_num_chunks: 2197 _X.shape: (2197, 64, 64, 64) _Y.shape: (2197, 7)\n",
      "processed patient: 1acbe17dc8f9f59d2fd167b2aa6c650f _original shape: (322, 370, 370)\n",
      "_num_chunks: 2925 _X.shape: (2925, 64, 64, 64) _Y.shape: (2925, 7)\n",
      "processed patient: a19a122fe9a790576b57c6bd5cf9ff5c _original shape: (318, 326, 326)\n",
      "_num_chunks: 2548 _X.shape: (2548, 64, 64, 64) _Y.shape: (2548, 7)\n",
      "processed patient: 6fd582d25eeb2250c2b0996c4216deb9 _original shape: (312, 350, 350)\n",
      "_num_chunks: 2925 _X.shape: (2925, 64, 64, 64) _Y.shape: (2925, 7)\n",
      "processed patient: b1091b5af8b47f24c4b94a9d27c813d1 _original shape: (278, 402, 402)\n",
      "_num_chunks: 3468 _X.shape: (3468, 64, 64, 64) _Y.shape: (3468, 7)\n",
      "processed patient: bdb59c956d48bc1a263acf997926c4d3 _original shape: (292, 338, 338)\n",
      "_num_chunks: 2352 _X.shape: (2352, 64, 64, 64) _Y.shape: (2352, 7)\n",
      "processed patient: 6f229187fe608c9eacc567eb74c1458c _original shape: (288, 449, 449)\n",
      "_num_chunks: 3888 _X.shape: (3888, 64, 64, 64) _Y.shape: (3888, 7)\n",
      "processed patient: 4e9c2cbf385db44b6f5e6618f47318d9 _original shape: (378, 360, 360)\n",
      "_num_chunks: 3600 _X.shape: (3600, 64, 64, 64) _Y.shape: (3600, 7)\n",
      "processed patient: c67e799bcc1e2635eb9164f6e8cf75f3 _original shape: (324, 308, 308)\n",
      "_num_chunks: 2197 _X.shape: (2197, 64, 64, 64) _Y.shape: (2197, 7)\n",
      "processed patient: 65073aadb60e398d8db1806f5ea2a082 _original shape: (314, 280, 280)\n",
      "_num_chunks: 1872 _X.shape: (1872, 64, 64, 64) _Y.shape: (1872, 7)\n",
      "processed patient: 2a549c66f24af964de6f25165c55e331 _original shape: (347, 370, 370)\n",
      "_num_chunks: 3150 _X.shape: (3150, 64, 64, 64) _Y.shape: (3150, 7)\n"
     ]
    }
   ],
   "source": [
    "dsb_chunks_x = []\n",
    "patient_ids = []\n",
    "for folder in (glob.glob(DSB_DATA_PATH + PATIENT_SCANS + '*'))[0:20]:\n",
    "    m = re.match(PATIENT_SCANS +'([a-f0-9].*).npy', os.path.basename(folder))\n",
    "    scans = np.load(DSB_DATA_PATH + m.group(0))\n",
    "    patient_uid = m.group(1)\n",
    "    patient_ids.append(patient_uid)\n",
    "    \n",
    "    \n",
    "    chunk_counter = 1\n",
    "    step_size = int((CHUNK_SIZE*(1-OVERLAP_PERCENTAGE)))\n",
    "    num_chunks_0 = int((scans.shape[0])/(step_size)) + 1\n",
    "    num_chunks_1 = int((scans.shape[1])/(step_size)) + 1\n",
    "    num_chunks_2 = int((scans.shape[2])/(step_size)) + 1\n",
    "    chunk_list = []     \n",
    "    \n",
    "    start_index_0 = 0\n",
    "    end_index_0 = 0\n",
    "    for i in range(0, num_chunks_0):\n",
    "        end_index_0 = start_index_0 + CHUNK_SIZE\n",
    "        \n",
    "        start_index_1 = 0\n",
    "        end_index_1 = 0\n",
    "        for j in range(0, num_chunks_1):\n",
    "            end_index_1 = start_index_1 + CHUNK_SIZE\n",
    "                       \n",
    "            start_index_2 = 0\n",
    "            end_index_2 = 0\n",
    "            for k in range(0, num_chunks_2):\n",
    "                end_index_2 = start_index_2 + CHUNK_SIZE\n",
    "\n",
    "                end_index_0 = scans.shape[0] if  (end_index_0 > scans.shape[0]) else end_index_0\n",
    "                end_index_1 = scans.shape[1] if  (end_index_1 > scans.shape[1]) else end_index_1\n",
    "                end_index_2 = scans.shape[2] if  (end_index_2 > scans.shape[2]) else end_index_2\n",
    "                                \n",
    "                chunk = np.full((CHUNK_SIZE, CHUNK_SIZE, CHUNK_SIZE), -1000.0)\n",
    "                \n",
    "                end_index_0_chunks = end_index_0 - start_index_0\n",
    "                end_index_1_chunks = end_index_1 - start_index_1\n",
    "                end_index_2_chunks = end_index_2 - start_index_2\n",
    "                \n",
    "                chunk[0:end_index_0_chunks, 0:end_index_1_chunks, 0:end_index_2_chunks] = scans[start_index_0:end_index_0, start_index_1:end_index_1, start_index_2:end_index_2]\n",
    "                chunk_list.append(chunk)\n",
    "                \n",
    "                chunk_counter += 1        \n",
    "                start_index_2 += step_size\n",
    "            start_index_1 += step_size\n",
    "        start_index_0 += step_size\n",
    "        \n",
    "    X = np.ndarray([len(chunk_list), CHUNK_SIZE, CHUNK_SIZE, CHUNK_SIZE], dtype=np.int16)\n",
    "    Y = np.zeros([len(chunk_list), NUM_CLASSES], dtype=np.int16)\n",
    "    for m in range(0,len(chunk_list)):\n",
    "        X[m,:,:] = chunk_list[m]\n",
    "    \n",
    "#     np.save(OUTPUT_FOLDER_ORIGINAL + patient_uid + '_X.npy', X)\n",
    "#     np.save(OUTPUT_FOLDER_ORIGINAL + patient_uid + '_Y.npy', Y)\n",
    "    \n",
    "    print('processed patient:', patient_uid  , '_original shape:', scans.shape )\n",
    "    print('_num_chunks:', len(chunk_list), '_X.shape:', X.shape, '_Y.shape:', Y.shape)\n",
    "    dsb_chunks_x.append(X)\n",
    "    \n",
    "#     # Normalizing and Zero Centering\n",
    "#     X_nz = normalize(X)\n",
    "#     X_nz = zero_center(X_nz)\n",
    "#     np.save(OUTPUT_FOLDER_NZ + patient_uid + '_X.npy', X_nz)\n",
    "#     np.save(OUTPUT_FOLDER_NZ + patient_uid + '_Y.npy', Y)\n",
    "    \n",
    "    # Clearning memory\n",
    "    del X,Y\n"
   ]
  },
  {
   "cell_type": "code",
   "execution_count": 121,
   "metadata": {
    "collapsed": false
   },
   "outputs": [
    {
     "name": "stdout",
     "output_type": "stream",
     "text": [
      "0a0c32c9e08cc2ea76a71649de56be6d\n",
      "7577cbd6961b0cab27f88727dcd2d6d3\n",
      "28352e12fe29361dfd9613ed2e729192\n",
      "7852cb521d7029ca08133476054e7bec\n",
      "d5c43054ba0f66d5017a8ddfde8c8c34\n",
      "174c5f7c33ca31443208ef873b9477e5\n",
      "d43c9dd1be361b9302c9343af09cc23e\n",
      "bc43e8a2cb05a45e73dea8c7e02f2cc1\n",
      "e188bdeea72bb41d980dc2556dc8aafa\n",
      "49433c1588cc078b825a0eff1dc2e816\n",
      "1acbe17dc8f9f59d2fd167b2aa6c650f\n",
      "a19a122fe9a790576b57c6bd5cf9ff5c\n",
      "6fd582d25eeb2250c2b0996c4216deb9\n",
      "b1091b5af8b47f24c4b94a9d27c813d1\n",
      "bdb59c956d48bc1a263acf997926c4d3\n",
      "6f229187fe608c9eacc567eb74c1458c\n",
      "4e9c2cbf385db44b6f5e6618f47318d9\n",
      "c67e799bcc1e2635eb9164f6e8cf75f3\n",
      "65073aadb60e398d8db1806f5ea2a082\n",
      "2a549c66f24af964de6f25165c55e331\n",
      "[0, 0, 0, 0, 0, -1, 0, 0, 0, -1, 0, 1, 0, 0, 0, -1, 0, 1, 1, 0]\n"
     ]
    }
   ],
   "source": [
    "labels = pd.read_csv(LABELS)\n",
    "dsb_y = []\n",
    "for i in patient_ids:\n",
    "    print(i)\n",
    "    try:\n",
    "        label_val = int(labels.loc[labels['id'] == i, 'cancer'])\n",
    "    except TypeError:\n",
    "        label_val = -1\n",
    "    dsb_y.append(label_val)\n",
    "\n",
    "print(dsb_y)"
   ]
  },
  {
   "cell_type": "code",
   "execution_count": 126,
   "metadata": {
    "collapsed": false
   },
   "outputs": [
    {
     "data": {
      "text/plain": [
       "7"
      ]
     },
     "execution_count": 126,
     "metadata": {},
     "output_type": "execute_result"
    }
   ],
   "source": [
    "PATIENT_ANALYSIS_NUMBER = random.randint(0,10)\n",
    "PATIENT_ANALYSIS_NUMBER"
   ]
  },
  {
   "cell_type": "code",
   "execution_count": 127,
   "metadata": {
    "collapsed": false
   },
   "outputs": [
    {
     "name": "stdout",
     "output_type": "stream",
     "text": [
      "result-0 Ttest_indResult(statistic=-9982.8205356536546, pvalue=0.0)\n",
      "result-1 Ttest_indResult(statistic=-10846.142108032525, pvalue=0.0)\n",
      "result-2 Ttest_indResult(statistic=-9085.8526929399395, pvalue=0.0)\n",
      "result-3 Ttest_indResult(statistic=-10770.242350623386, pvalue=0.0)\n",
      "result-4 Ttest_indResult(statistic=-8832.5604580663839, pvalue=0.0)\n",
      "result-5 Ttest_indResult(statistic=-9214.2887661027216, pvalue=0.0)\n",
      "result-6 Ttest_indResult(statistic=-8065.7442171670054, pvalue=0.0)\n",
      "result-7 Ttest_indResult(statistic=-9001.6812384088607, pvalue=0.0)\n",
      "result-8 Ttest_indResult(statistic=-8228.8211614381962, pvalue=0.0)\n",
      "result-9 Ttest_indResult(statistic=-10830.927692217674, pvalue=0.0)\n",
      "result-10 Ttest_indResult(statistic=-7662.7258070853895, pvalue=0.0)\n",
      "result-11 Ttest_indResult(statistic=-9591.0554638094272, pvalue=0.0)\n",
      "result-12 Ttest_indResult(statistic=-11375.972037187355, pvalue=0.0)\n",
      "result-13 Ttest_indResult(statistic=-9978.1466826695341, pvalue=0.0)\n",
      "result-14 Ttest_indResult(statistic=-8071.4212434349683, pvalue=0.0)\n",
      "result-15 Ttest_indResult(statistic=-6423.4217027659779, pvalue=0.0)\n",
      "result-16 Ttest_indResult(statistic=-10777.693470833368, pvalue=0.0)\n",
      "result-17 Ttest_indResult(statistic=-10453.916170257995, pvalue=0.0)\n",
      "result-18 Ttest_indResult(statistic=-12310.647011338964, pvalue=0.0)\n",
      "result-19 Ttest_indResult(statistic=-8179.6118455267388, pvalue=0.0)\n"
     ]
    }
   ],
   "source": [
    "for i in range(len(dsb_chunks_x)):\n",
    "    np.random.seed(12345678)\n",
    "    x1 = dsb_chunks_x[i].flatten()\n",
    "    x2 = luna_chunks_x[PATIENT_ANALYSIS_NUMBER].flatten()\n",
    "    test_results = stats.ttest_ind(x1,x2, equal_var = False)\n",
    "    print(\"result-\"+str(i), test_results)\n"
   ]
  },
  {
   "cell_type": "code",
   "execution_count": null,
   "metadata": {
    "collapsed": true
   },
   "outputs": [],
   "source": []
  }
 ],
 "metadata": {
  "kernelspec": {
   "display_name": "Python 3",
   "language": "python",
   "name": "python3"
  },
  "language_info": {
   "codemirror_mode": {
    "name": "ipython",
    "version": 3
   },
   "file_extension": ".py",
   "mimetype": "text/x-python",
   "name": "python",
   "nbconvert_exporter": "python",
   "pygments_lexer": "ipython3",
   "version": "3.5.2"
  }
 },
 "nbformat": 4,
 "nbformat_minor": 2
}
