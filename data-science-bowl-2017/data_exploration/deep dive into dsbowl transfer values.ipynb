{
 "cells": [
  {
   "cell_type": "code",
   "execution_count": 1,
   "metadata": {
    "collapsed": true,
    "deletable": true,
    "editable": true
   },
   "outputs": [],
   "source": [
    "import glob\n",
    "import os\n",
    "import re\n",
    "import pandas as pd\n",
    "import numpy as np\n",
    "import SimpleITK as sitk\n",
    "import matplotlib.pyplot as plt\n",
    "from tqdm import tqdm\n",
    "import time\n",
    "from datetime import timedelta\n",
    "import sys\n",
    "import datetime\n",
    "import tensorflow as tf\n",
    "import math\n",
    "import multiprocessing as mp\n",
    "import random\n",
    "# Fixes \"SettingWithCopyWarning: A value is trying to be set on a copy of a slice from a DataFrame\"\n",
    "pd.options.mode.chained_assignment = None\n",
    "\n",
    "import scipy.misc\n",
    "from mpl_toolkits.mplot3d.art3d import Poly3DCollection"
   ]
  },
  {
   "cell_type": "code",
   "execution_count": 2,
   "metadata": {
    "collapsed": false,
    "deletable": true,
    "editable": true
   },
   "outputs": [],
   "source": [
    "OUTPUT_PATH = '/kaggle/dev/data-science-bowl-2017-data/submissions/'\n",
    "DATA_PATH = '/kaggle_3/all_stage_features/'\n",
    "LABELS = '/kaggle/dev/data-science-bowl-2017-data/all_labels.csv'\n",
    "STAGE1_SUBMISSION = '/kaggle/dev/data-science-bowl-2017-data/stage1_sample_submission.csv'\n",
    "STAGE2_SUBMISSION = '/kaggle/dev/data-science-bowl-2017-data/stage2_sample_submission.csv'\n",
    "TENSORBOARD_SUMMARIES = '/kaggle/dev/data-science-bowl-2017-data/tensorboard_summaries/'\n",
    "MODELS = '/kaggle/dev/data-science-bowl-2017-data/models/'\n",
    "\n",
    "#globals initializing\n",
    "FLAGS = tf.app.flags.FLAGS\n",
    "\n",
    "## Prediction problem specific\n",
    "tf.app.flags.DEFINE_integer('iteration_analysis', 25000,\n",
    "                            \"\"\"Number of steps after which analysis code is executed\"\"\")\n",
    "tf.app.flags.DEFINE_integer('num_classes', 2,\n",
    "                            \"\"\"Number of classes to predict.\"\"\")\n",
    "tf.app.flags.DEFINE_integer('num_classes_luna', 2,\n",
    "                            \"\"\"Number of classes predicted by LUNA model.\"\"\")\n",
    "tf.app.flags.DEFINE_integer('transfer_values_shape', 1000,\n",
    "                            'Size of transfer values')\n",
    "tf.app.flags.DEFINE_integer('batch_size', 128,\n",
    "                            \"\"\"Number of items in a batch.\"\"\")\n",
    "tf.app.flags.DEFINE_integer('max_iterations', 200000,\n",
    "                            \"\"\"Number of batches to run.\"\"\")\n",
    "tf.app.flags.DEFINE_float('reg_constant', 0.1, 'Regularization constant.')\n",
    "tf.app.flags.DEFINE_float('dropout', 0.5, 'Dropout')\n",
    "\n",
    "## Tensorflow specific\n",
    "tf.app.flags.DEFINE_boolean('log_device_placement', False,\n",
    "                            \"\"\"Whether to log device placement.\"\"\")\n",
    "tf.app.flags.DEFINE_boolean('allow_soft_placement', True,\n",
    "                            \"\"\"Whether to allow soft placement of calculations by tf.\"\"\")\n",
    "tf.app.flags.DEFINE_boolean('allow_growth', True,\n",
    "                            \"\"\"Whether to allow GPU growth by tf.\"\"\")"
   ]
  },
  {
   "cell_type": "code",
   "execution_count": 46,
   "metadata": {
    "collapsed": true,
    "deletable": true,
    "editable": true
   },
   "outputs": [],
   "source": [
    "def get_patient_features(patient_ids):\n",
    "    input_features = []\n",
    "    input_labels = []\n",
    "    labels = pd.read_csv(LABELS)\n",
    "\n",
    "    num_patients = len(patient_ids)\n",
    "    patient_count = 0\n",
    "    chunk_count = 0\n",
    "    for patient_id in patient_ids:\n",
    "        num_class_1 = 0\n",
    "        predictions = np.array(np.load(DATA_PATH + patient_id + '_predictions.npy'))\n",
    "        transfer_values = np.array(np.load(DATA_PATH + patient_id + '_transfer_values.npy'))\n",
    "        label = int(labels.loc[labels['id'] == patient_id, 'cancer'])\n",
    "        for i in range(predictions.shape[0]):\n",
    "            predicted_class = np.argmax(predictions[i])\n",
    "            if (predicted_class == 1):\n",
    "                features = np.ndarray(shape=(transfer_values.shape[1] + predictions.shape[1]), dtype=np.float32)\n",
    "                features[0 : transfer_values.shape[1]] = transfer_values[i]\n",
    "                features[transfer_values.shape[1] : transfer_values.shape[1] + predictions.shape[1]] = predictions[i]\n",
    "                input_features.append(features)\n",
    "                input_labels.append(label)\n",
    "                num_class_1 += 1\n",
    "            chunk_count += 1\n",
    "        \n",
    "        num_class_0 = 0\n",
    "        for j in range(predictions.shape[0]):\n",
    "            predicted_class = np.argmax(predictions[j])\n",
    "            if(predicted_class == 0) and (num_class_0 < num_class_1):\n",
    "                features = np.ndarray(shape=(transfer_values.shape[1] + predictions.shape[1]), dtype=np.float32)\n",
    "                features[0 : transfer_values.shape[1]] = transfer_values[j]\n",
    "                features[transfer_values.shape[1] : transfer_values.shape[1] + predictions.shape[1]] = predictions[j]\n",
    "                input_features.append(features)\n",
    "                input_labels.append(label)\n",
    "                num_class_0 += 1\n",
    "            chunk_count += 1\n",
    "        patient_count = patient_count + 1\n",
    "        print('Loaded data for patient {}/{}/{} - {}/{}'.format(patient_count, num_patients, chunk_count, num_class_0, num_class_1))\n",
    "\n",
    "    return input_features, input_labels"
   ]
  },
  {
   "cell_type": "code",
   "execution_count": 52,
   "metadata": {
    "collapsed": false,
    "deletable": true,
    "editable": true,
    "scrolled": true
   },
   "outputs": [
    {
     "name": "stdout",
     "output_type": "stream",
     "text": [
      "Loaded data for patient 1/20/22264 - 1801/1801\n",
      "Loaded data for patient 2/20/52008 - 2292/2292\n",
      "Loaded data for patient 3/20/84456 - 2563/2563\n",
      "Loaded data for patient 4/20/114200 - 2033/2033\n",
      "Loaded data for patient 5/20/138534 - 2619/2619\n",
      "Loaded data for patient 6/20/157734 - 1742/1742\n",
      "Loaded data for patient 7/20/176256 - 1696/1696\n",
      "Loaded data for patient 8/20/195660 - 1503/1503\n",
      "Loaded data for patient 9/20/221348 - 1816/1816\n",
      "Loaded data for patient 10/20/256500 - 2934/2934\n",
      "Loaded data for patient 11/20/288948 - 2458/2458\n",
      "Loaded data for patient 12/20/321204 - 2658/2658\n",
      "Loaded data for patient 13/20/337962 - 1533/1533\n",
      "Loaded data for patient 14/20/364212 - 1685/1685\n",
      "Loaded data for patient 15/20/393012 - 2164/2164\n",
      "Loaded data for patient 16/20/420660 - 1922/1922\n",
      "Loaded data for patient 17/20/448160 - 2102/2102\n",
      "Loaded data for patient 18/20/482656 - 2413/2413\n",
      "Loaded data for patient 19/20/520288 - 2973/2973\n",
      "Loaded data for patient 20/20/558974 - 2640/2640\n",
      "X.shape: (87094, 1002)\n",
      "Y.shape: (87094,)\n"
     ]
    }
   ],
   "source": [
    "# del X, Y, patient_ids\n",
    "patient_ids = set()\n",
    "\n",
    "for file_path in glob.glob(DATA_PATH + \"*_transfer_values.npy\"):\n",
    "    filename = os.path.basename(file_path)\n",
    "    patient_id = re.match(r'([a-f0-9].*)_transfer_values.npy', filename).group(1)\n",
    "    patient_ids.add(patient_id)\n",
    "\n",
    "sample_submission = pd.read_csv(STAGE2_SUBMISSION)\n",
    "test_patient_ids = set(sample_submission['id'].tolist())\n",
    "train_patient_ids = patient_ids.difference(test_patient_ids)\n",
    "\n",
    "train_patient_ids = list(train_patient_ids)[0:20]\n",
    "train_inputs, train_labels = get_patient_features(train_patient_ids)\n",
    "num_patients = len(train_inputs)\n",
    "X = np.ndarray(shape=(num_patients, FLAGS.transfer_values_shape + FLAGS.num_classes), dtype=np.float32)\n",
    "Y = np.ndarray(shape=(num_patients), dtype=np.float32)\n",
    "\n",
    "count = 0\n",
    "for i in range(len(train_inputs)):\n",
    "    X[count] = train_inputs[i]\n",
    "    Y[count] = train_labels[i]\n",
    "    count = count + 1\n",
    "\n",
    "print('X.shape: {}'.format(X.shape))\n",
    "print('Y.shape: {}'.format(Y.shape))"
   ]
  },
  {
   "cell_type": "code",
   "execution_count": 7,
   "metadata": {
    "collapsed": false,
    "deletable": true,
    "editable": true,
    "scrolled": true
   },
   "outputs": [
    {
     "name": "stdout",
     "output_type": "stream",
     "text": [
      "3508363\n"
     ]
    }
   ],
   "source": [
    "counter0 = 0\n",
    "for i in range(X.shape[0]):\n",
    "    if(X[i,-2] >= 0.0): \n",
    "        #print(X[i, 1000:1003])\n",
    "        counter0 = counter0 + 1\n",
    "print(counter0)"
   ]
  },
  {
   "cell_type": "code",
   "execution_count": 53,
   "metadata": {
    "collapsed": false,
    "deletable": true,
    "editable": true
   },
   "outputs": [
    {
     "data": {
      "text/plain": [
       "22892"
      ]
     },
     "execution_count": 53,
     "metadata": {},
     "output_type": "execute_result"
    }
   ],
   "source": [
    "counter1 = 0\n",
    "for i in range(Y.shape[0]):\n",
    "    if Y[i]==1:\n",
    "        counter1=counter1+ 1\n",
    "counter1"
   ]
  },
  {
   "cell_type": "code",
   "execution_count": 54,
   "metadata": {
    "collapsed": false,
    "deletable": true,
    "editable": true
   },
   "outputs": [
    {
     "data": {
      "text/plain": [
       "0.2628424460927274"
      ]
     },
     "execution_count": 54,
     "metadata": {},
     "output_type": "execute_result"
    }
   ],
   "source": [
    "22892/87094"
   ]
  },
  {
   "cell_type": "code",
   "execution_count": null,
   "metadata": {
    "collapsed": true
   },
   "outputs": [],
   "source": []
  }
 ],
 "metadata": {
  "kernelspec": {
   "display_name": "Python 3",
   "language": "python",
   "name": "python3"
  },
  "language_info": {
   "codemirror_mode": {
    "name": "ipython",
    "version": 3
   },
   "file_extension": ".py",
   "mimetype": "text/x-python",
   "name": "python",
   "nbconvert_exporter": "python",
   "pygments_lexer": "ipython3",
   "version": "3.5.2"
  }
 },
 "nbformat": 4,
 "nbformat_minor": 2
}
