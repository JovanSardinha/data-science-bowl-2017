{
 "cells": [
  {
   "cell_type": "markdown",
   "metadata": {},
   "source": [
    "Purpose: To analyze the data structures at various stages of the pipeline"
   ]
  },
  {
   "cell_type": "code",
   "execution_count": 116,
   "metadata": {
    "collapsed": false
   },
   "outputs": [],
   "source": [
    "import numpy as np # linear algebra\n",
    "import pandas as pd # data processing, CSV file I/O (e.g. pd.read_csv)\n",
    "import os\n",
    "import scipy.ndimage\n",
    "import matplotlib.pyplot as plt\n",
    "import glob\n",
    "import re\n",
    "from skimage import measure, morphology"
   ]
  },
  {
   "cell_type": "code",
   "execution_count": 97,
   "metadata": {
    "collapsed": true
   },
   "outputs": [],
   "source": [
    "# constants\n",
    "\n",
    "data = '/kaggle/dev/data-science-bowl-2017-data/'\n",
    "stage1 = '/kaggle/dev/data-science-bowl-2017-data/stage1/'\n",
    "sample_images = '/kaggle/dev/data-science-bowl-2017-data/sample_images/'\n",
    "labels = '/kaggle/dev/data-science-bowl-2017-data/stage1_labels.csv'\n",
    "stage1_processed = '/kaggle/dev/data-science-bowl-2017-data/stage1_processed/'\n",
    "stage1_features = '/kaggle/dev/data-science-bowl-2017-data/stage1_features_mx/'\n",
    "stage1_submission = '/kaggle/dev/data-science-bowl-2017-data/stage1_sample_submission.csv'\n",
    "naive_submission = '/kaggle/dev/jovan/data-science-bowl-2017/data-science-bowl-2017/submissions/naive_submission.csv'"
   ]
  },
  {
   "cell_type": "markdown",
   "metadata": {},
   "source": [
    "### Raw data: stage1"
   ]
  },
  {
   "cell_type": "code",
   "execution_count": 98,
   "metadata": {
    "collapsed": false
   },
   "outputs": [
    {
     "name": "stdout",
     "output_type": "stream",
     "text": [
      "Patient '0c98fcb55e3f36d0c2b6507f62f4c5f1' has 180 scans\n",
      "Patient '0d19f1c627df49eb223771c28548350e' has 183 scans\n",
      "Patient '0c37613214faddf8701ca41e6d43f56e' has 164 scans\n",
      "Patient '0d2fcf787026fece4e57be167d079383' has 126 scans\n",
      "Patient '0a38e7597ca26f9374f8ea2770ba870d' has 110 scans\n",
      "Patient '00cba091fa4ad62cc3200a657aeb957e' has 134 scans\n",
      "Patient '0d941a3ad6c889ac451caf89c46cb92a' has 177 scans\n",
      "Patient '0a0c32c9e08cc2ea76a71649de56be6d' has 133 scans\n",
      "Patient '0c60f4b87afcb3e2dfa65abbbf3ef2f9' has 136 scans\n",
      "Patient '0c9d8314f9c69840e25febabb1229fa4' has 221 scans\n",
      "Patient '0ca943d821204ceb089510f836a367fd' has 147 scans\n",
      "Patient '0b20184e0cd497028bdd155d9fb42dc9' has 196 scans\n",
      "Patient '0c0de3749d4fe175b7a5098b060982a1' has 123 scans\n",
      "Patient '0c59313f52304e25d5a7dcf9877633b1' has 244 scans\n",
      "Patient '0bd0e3056cbf23a1cb7f0f0b18446068' has 280 scans\n",
      "Patient '0de72529c30fe642bc60dcb75c87f6bd' has 113 scans\n",
      "Patient '0ddeb08e9c97227853422bd71a2a695e' has 171 scans\n",
      "Patient '0a099f2549429d29b32f349e95fb2244' has 128 scans\n",
      "Patient '0acbebb8d463b4b9ca88cf38431aac69' has 203 scans\n",
      "Patient '0d06d764d3c07572074d468b4cff954f' has 435 scans\n",
      "----\n",
      "Total patients 1595 Total DCM files 285380\n"
     ]
    }
   ],
   "source": [
    "sample_ids = []\n",
    "\n",
    "for d in os.listdir(sample_images):\n",
    "    sample_ids.append(d)\n",
    "    print(\"Patient '{}' has {} scans\".format(d, len(os.listdir(sample_images + d))))\n",
    "\n",
    "print('----')\n",
    "print('Total patients {} Total DCM files {}'.format(len(os.listdir(stage1)), \n",
    "                                                      len(glob.glob(stage1 + '*/*.dcm'))))"
   ]
  },
  {
   "cell_type": "markdown",
   "metadata": {},
   "source": [
    "### Processed data: stage1_processed"
   ]
  },
  {
   "cell_type": "code",
   "execution_count": 118,
   "metadata": {
    "collapsed": false
   },
   "outputs": [
    {
     "name": "stdout",
     "output_type": "stream",
     "text": [
      "Patient 0d06d764d3c07572074d468b4cff954f: array shape: (304, 424, 424)\n",
      "Patient 0a38e7597ca26f9374f8ea2770ba870d: array shape: (275, 320, 320)\n",
      "Patient 0c0de3749d4fe175b7a5098b060982a1: array shape: (308, 355, 355)\n",
      "Patient 0c60f4b87afcb3e2dfa65abbbf3ef2f9: array shape: (272, 330, 330)\n",
      "Patient 00cba091fa4ad62cc3200a657aeb957e: array shape: (335, 306, 306)\n",
      "Patient 0ddeb08e9c97227853422bd71a2a695e: array shape: (342, 392, 392)\n",
      "Patient 0c59313f52304e25d5a7dcf9877633b1: array shape: (305, 390, 390)\n",
      "Patient 0c9d8314f9c69840e25febabb1229fa4: array shape: (398, 309, 309)\n",
      "Patient 0d2fcf787026fece4e57be167d079383: array shape: (315, 310, 310)\n",
      "Patient 0a0c32c9e08cc2ea76a71649de56be6d: array shape: (332, 340, 340)\n",
      "Patient 0bd0e3056cbf23a1cb7f0f0b18446068: array shape: (350, 340, 340)\n",
      "Patient 0d941a3ad6c889ac451caf89c46cb92a: array shape: (354, 259, 259)\n",
      "Patient 0de72529c30fe642bc60dcb75c87f6bd: array shape: (282, 308, 308)\n",
      "Patient 0acbebb8d463b4b9ca88cf38431aac69: array shape: (365, 279, 279)\n",
      "Patient 0c37613214faddf8701ca41e6d43f56e: array shape: (328, 360, 360)\n",
      "Patient 0b20184e0cd497028bdd155d9fb42dc9: array shape: (353, 360, 360)\n",
      "Patient 0ca943d821204ceb089510f836a367fd: array shape: (294, 300, 300)\n",
      "Patient 0a099f2549429d29b32f349e95fb2244: array shape: (320, 347, 347)\n",
      "Patient 0d19f1c627df49eb223771c28548350e: array shape: (366, 370, 370)\n",
      "Patient 0c98fcb55e3f36d0c2b6507f62f4c5f1: array shape: (360, 350, 350)\n"
     ]
    }
   ],
   "source": [
    "for folder in glob.glob(stage1_processed + 'segment_lungs_fill_*'):\n",
    "    m = re.match(r'segment_lungs_fill_([a-f0-9].*).npy', os.path.basename(folder))\n",
    "    if(m.group(1) in sample_ids):\n",
    "        x = np.load(stage1_processed + m.group(0))\n",
    "        print('Patient {}: array shape: {}'.format(m.group(1), x.shape))"
   ]
  },
  {
   "cell_type": "markdown",
   "metadata": {},
   "source": [
    "### Feature extraction: stage1_features_mx"
   ]
  },
  {
   "cell_type": "code",
   "execution_count": 127,
   "metadata": {
    "collapsed": false
   },
   "outputs": [
    {
     "name": "stdout",
     "output_type": "stream",
     "text": [
      "Patient 0c60f4b87afcb3e2dfa65abbbf3ef2f9: array shape: (90, 2048)\n",
      "Patient 0a0c32c9e08cc2ea76a71649de56be6d: array shape: (110, 2048)\n",
      "Patient 0de72529c30fe642bc60dcb75c87f6bd: array shape: (93, 2048)\n",
      "Patient 0bd0e3056cbf23a1cb7f0f0b18446068: array shape: (116, 2048)\n",
      "Patient 0c59313f52304e25d5a7dcf9877633b1: array shape: (101, 2048)\n",
      "Patient 0d941a3ad6c889ac451caf89c46cb92a: array shape: (117, 2048)\n",
      "Patient 00cba091fa4ad62cc3200a657aeb957e: array shape: (111, 2048)\n",
      "Patient 0d06d764d3c07572074d468b4cff954f: array shape: (101, 2048)\n",
      "Patient 0c0de3749d4fe175b7a5098b060982a1: array shape: (102, 2048)\n",
      "Patient 0a099f2549429d29b32f349e95fb2244: array shape: (106, 2048)\n",
      "Patient 0d19f1c627df49eb223771c28548350e: array shape: (121, 2048)\n",
      "Patient 0c37613214faddf8701ca41e6d43f56e: array shape: (109, 2048)\n",
      "Patient 0ddeb08e9c97227853422bd71a2a695e: array shape: (113, 2048)\n",
      "Patient 0c98fcb55e3f36d0c2b6507f62f4c5f1: array shape: (119, 2048)\n",
      "Patient 0acbebb8d463b4b9ca88cf38431aac69: array shape: (121, 2048)\n",
      "Patient 0c9d8314f9c69840e25febabb1229fa4: array shape: (132, 2048)\n",
      "Patient 0d2fcf787026fece4e57be167d079383: array shape: (104, 2048)\n",
      "Patient 0b20184e0cd497028bdd155d9fb42dc9: array shape: (117, 2048)\n",
      "Patient 0a38e7597ca26f9374f8ea2770ba870d: array shape: (91, 2048)\n",
      "Patient 0ca943d821204ceb089510f836a367fd: array shape: (97, 2048)\n"
     ]
    }
   ],
   "source": [
    "for folder in glob.glob(stage1_features + '*.npy'):\n",
    "    m = re.match(r'([a-f0-9].*).npy', os.path.basename(folder))\n",
    "    if(m.group(1) in sample_ids):\n",
    "        x = np.load(stage1_features + m.group(0))\n",
    "        print('Patient {}: array shape: {}'.format(m.group(1), x.shape))"
   ]
  },
  {
   "cell_type": "markdown",
   "metadata": {},
   "source": [
    "### Traning: make_submit"
   ]
  },
  {
   "cell_type": "code",
   "execution_count": 129,
   "metadata": {
    "collapsed": false
   },
   "outputs": [
    {
     "name": "stdout",
     "output_type": "stream",
     "text": [
      "[[ 0.45521843  2.23148155  1.03768289 ...,  1.10248542  1.19762778\n",
      "   3.69490266]\n",
      " [ 0.48257342  2.60997295  0.93810481 ...,  0.84844297  1.1022824\n",
      "   3.64931464]\n",
      " [ 0.50405788  2.7404685   1.04102635 ...,  0.831429    1.31895638\n",
      "   3.73132658]\n",
      " ..., \n",
      " [ 0.53901482  2.38087225  1.0558393  ...,  0.87788266  1.07262886\n",
      "   3.87326431]\n",
      " [ 0.28989959  1.26477551  0.20334616 ...,  0.30925664  0.82562715\n",
      "   3.22417712]\n",
      " [ 0.36895481  2.8777771   1.10733223 ...,  1.09140313  1.24432278\n",
      "   3.95053434]]\n"
     ]
    }
   ],
   "source": [
    "for s in sample_ids:\n",
    "    x = np.array([np.mean(np.load(stage1_features + s + \".npy\"), axis=0))"
   ]
  },
  {
   "cell_type": "code",
   "execution_count": null,
   "metadata": {
    "collapsed": true
   },
   "outputs": [],
   "source": []
  }
 ],
 "metadata": {
  "kernelspec": {
   "display_name": "Python 3",
   "language": "python",
   "name": "python3"
  },
  "language_info": {
   "codemirror_mode": {
    "name": "ipython",
    "version": 3
   },
   "file_extension": ".py",
   "mimetype": "text/x-python",
   "name": "python",
   "nbconvert_exporter": "python",
   "pygments_lexer": "ipython3",
   "version": "3.5.2"
  }
 },
 "nbformat": 4,
 "nbformat_minor": 2
}
