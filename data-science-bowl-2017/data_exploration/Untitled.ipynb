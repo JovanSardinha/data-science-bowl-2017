{
 "cells": [
  {
   "cell_type": "code",
   "execution_count": 1,
   "metadata": {
    "collapsed": false
   },
   "outputs": [
    {
     "name": "stderr",
     "output_type": "stream",
     "text": [
      "/home/plexadmin/.virtualenvs/data-science-bowl-2017/lib/python3.5/site-packages/sklearn/cross_validation.py:44: DeprecationWarning: This module was deprecated in version 0.18 in favor of the model_selection module into which all the refactored classes and functions are moved. Also note that the interface of the new CV iterators are different from that of this module. This module will be removed in 0.20.\n",
      "  \"This module will be removed in 0.20.\", DeprecationWarning)\n"
     ]
    }
   ],
   "source": [
    "import glob\n",
    "import os\n",
    "import re\n",
    "import pandas as pd\n",
    "import numpy as np\n",
    "import SimpleITK as sitk\n",
    "import matplotlib.pyplot as plt\n",
    "from tqdm import tqdm\n",
    "import time\n",
    "from datetime import timedelta\n",
    "import sys\n",
    "import datetime\n",
    "import tensorflow as tf\n",
    "import math\n",
    "from sklearn import cross_validation\n",
    "import xgboost as xgb\n"
   ]
  },
  {
   "cell_type": "code",
   "execution_count": 9,
   "metadata": {
    "collapsed": false
   },
   "outputs": [],
   "source": [
    "OUTPUT_PATH = '/kaggle/dev/data-science-bowl-2017-data/submissions/'\n",
    "DATA_PATH = '/kaggle/dev/data-science-bowl-2017-data/stage1_features/'\n",
    "TENSORBOARD_SUMMARIES = '/kaggle/dev/data-science-bowl-2017-data/tensorboard_summaries/'\n",
    "MODELS = '/kaggle_2/luna/luna16/models/'\n",
    "MODEL_CHECKPOINTS = '/kaggle/dev/data-science-bowl-2017-data/models/checkpoints/'\n",
    "MODEL_PATH = '/kaggle_2/luna/luna16/models/e03f0475-091e-4821-862e-ae5303d670c8/'\n",
    "STAGE1 = '/kaggle/dev/data-science-bowl-2017-data/stage1/'\n",
    "LABELS = '/kaggle/dev/data-science-bowl-2017-data/stage1_labels.csv'\n",
    "STAGE1_SUBMISSION = '/kaggle/dev/data-science-bowl-2017-data/stage1_sample_submission.csv'\n",
    "NAIVE_SUBMISSION = '/kaggle/dev/jovan/data-science-bowl-2017/data-science-bowl-2017/submissions/naive_submission.csv'"
   ]
  },
  {
   "cell_type": "code",
   "execution_count": 45,
   "metadata": {
    "collapsed": false
   },
   "outputs": [
    {
     "name": "stdout",
     "output_type": "stream",
     "text": [
      "Patient 6ee742b62985570a1f3a142eb7e49188 predictions (5202, 7) transfer_values (5202, 512)\n",
      "Patient d6d5ed3055d084a6abf0f97af3fe2ff0 predictions (6137, 7) transfer_values (6137, 512)\n",
      "Patient 645e7f46eb9b834153ecf8e2b2921fe5 predictions (5832, 7) transfer_values (5832, 512)\n",
      "Patient e6d8b2631843a24e6761f2723ea30788 predictions (6859, 7) transfer_values (6859, 512)\n",
      "Patient f0f72264cd822301852578cc71288d3c predictions (5491, 7) transfer_values (5491, 512)\n",
      "Patient a88c585e7d81744eec091a6f0600bd7b predictions (5184, 7) transfer_values (5184, 512)\n",
      "Patient 39c3a2d2ca67bc7a1a22240ea571d50c predictions (6137, 7) transfer_values (6137, 512)\n",
      "Patient 74b542d34b61740c1933d2c953403aa6 predictions (3840, 7) transfer_values (3840, 512)\n",
      "Patient 174a9fc87f54d6def3730954fbafc99d predictions (3375, 7) transfer_values (3375, 512)\n",
      "Patient 080e6a00e69888fd620894f9fd0714b1 predictions (7938, 7) transfer_values (7938, 512)\n"
     ]
    }
   ],
   "source": [
    "def get_inputs():\n",
    "    num_chunks = 0\n",
    "\n",
    "    inputs = {}\n",
    "    labels = pd.read_csv(LABELS)\n",
    "    input_features = {}\n",
    "\n",
    "    for features in glob.glob(DATA_PATH + '*_transfer_values.npy')[0:10]:\n",
    "        n = re.match('([a-f0-9].*)_transfer_values.npy', os.path.basename(features))\n",
    "        patient_id = n.group(1)\n",
    "        predictions = np.load(DATA_PATH + patient_id + '_predictions.npy')\n",
    "        transfer_values = np.load(DATA_PATH + patient_id + '_transfer_values.npy')\n",
    "        feature_val = np.append(predictions, transfer_values)\n",
    "        try:\n",
    "            label_val = int(labels.loc[labels['id'] == patient_id, 'cancer'])\n",
    "        except TypeError:\n",
    "            continue\n",
    "        input_features[patient_id] = [np.append(predictions, transfer_values)]\n",
    "        print('Patient {} predictions {} transfer_values {}'.format(patient_id, predictions.shape, transfer_values.shape))\n",
    "    \n",
    "    \n",
    "    return \n",
    "\n",
    "get_inputs()"
   ]
  },
  {
   "cell_type": "code",
   "execution_count": null,
   "metadata": {
    "collapsed": true
   },
   "outputs": [],
   "source": []
  }
 ],
 "metadata": {
  "kernelspec": {
   "display_name": "Python 3",
   "language": "python",
   "name": "python3"
  },
  "language_info": {
   "codemirror_mode": {
    "name": "ipython",
    "version": 3
   },
   "file_extension": ".py",
   "mimetype": "text/x-python",
   "name": "python",
   "nbconvert_exporter": "python",
   "pygments_lexer": "ipython3",
   "version": "3.5.2"
  }
 },
 "nbformat": 4,
 "nbformat_minor": 2
}
