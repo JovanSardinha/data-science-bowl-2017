{
 "cells": [
  {
   "cell_type": "code",
   "execution_count": 1,
   "metadata": {
    "collapsed": true,
    "deletable": true,
    "editable": true
   },
   "outputs": [],
   "source": [
    "import numpy as np # linear algebra\n",
    "import pandas as pd # data processing, CSV file I/O (e.g. pd.read_csv)\n",
    "import os\n",
    "import scipy.ndimage\n",
    "import matplotlib.pyplot as plt\n",
    "import glob\n",
    "import re\n",
    "from skimage import measure, morphology\n",
    "from mpl_toolkits.mplot3d.art3d import Poly3DCollection\n",
    "from sklearn.decomposition import PCA\n",
    "from time import time\n",
    "import math"
   ]
  },
  {
   "cell_type": "code",
   "execution_count": 2,
   "metadata": {
    "collapsed": true,
    "deletable": true,
    "editable": true
   },
   "outputs": [],
   "source": [
    "# constants\n",
    "\n",
    "data = '/kaggle/dev/data-science-bowl-2017-data/'\n",
    "stage1 = '/kaggle/dev/data-science-bowl-2017-data/stage1/'\n",
    "sample_images = '/kaggle/dev/data-science-bowl-2017-data/sample_images/'\n",
    "labels = '/kaggle/dev/data-science-bowl-2017-data/stage1_labels.csv'\n",
    "stage1_processed = '/kaggle/dev/data-science-bowl-2017-data/stage1_processed/'\n",
    "stage1_features = '/kaggle/dev/data-science-bowl-2017-data/stage1_features_mx/'\n",
    "stage1_submission = '/kaggle/dev/data-science-bowl-2017-data/stage1_sample_submission.csv'\n",
    "naive_submission = '/kaggle/dev/jovan/data-science-bowl-2017/data-science-bowl-2017/submissions/naive_submission.csv'"
   ]
  },
  {
   "cell_type": "code",
   "execution_count": 3,
   "metadata": {
    "collapsed": false,
    "deletable": true,
    "editable": true
   },
   "outputs": [
    {
     "name": "stdout",
     "output_type": "stream",
     "text": [
      "Patient '0c98fcb55e3f36d0c2b6507f62f4c5f1' has 180 scans\n",
      "Patient '0d19f1c627df49eb223771c28548350e' has 183 scans\n",
      "Patient '0c37613214faddf8701ca41e6d43f56e' has 164 scans\n",
      "Patient '0d2fcf787026fece4e57be167d079383' has 126 scans\n",
      "Patient '0a38e7597ca26f9374f8ea2770ba870d' has 110 scans\n",
      "Patient '00cba091fa4ad62cc3200a657aeb957e' has 134 scans\n",
      "Patient '0d941a3ad6c889ac451caf89c46cb92a' has 177 scans\n",
      "Patient '0a0c32c9e08cc2ea76a71649de56be6d' has 133 scans\n",
      "Patient '0c60f4b87afcb3e2dfa65abbbf3ef2f9' has 136 scans\n",
      "Patient '0c9d8314f9c69840e25febabb1229fa4' has 221 scans\n",
      "Patient '0ca943d821204ceb089510f836a367fd' has 147 scans\n",
      "Patient '0b20184e0cd497028bdd155d9fb42dc9' has 196 scans\n",
      "Patient '0c0de3749d4fe175b7a5098b060982a1' has 123 scans\n",
      "Patient '0c59313f52304e25d5a7dcf9877633b1' has 244 scans\n",
      "Patient '0bd0e3056cbf23a1cb7f0f0b18446068' has 280 scans\n",
      "Patient '0de72529c30fe642bc60dcb75c87f6bd' has 113 scans\n",
      "Patient '0ddeb08e9c97227853422bd71a2a695e' has 171 scans\n",
      "Patient '0a099f2549429d29b32f349e95fb2244' has 128 scans\n",
      "Patient '0acbebb8d463b4b9ca88cf38431aac69' has 203 scans\n",
      "Patient '0d06d764d3c07572074d468b4cff954f' has 435 scans\n",
      "----\n",
      "Total patients 1595 Total DCM files 285380\n"
     ]
    }
   ],
   "source": [
    "sample_ids = []\n",
    "\n",
    "for d in os.listdir(sample_images):\n",
    "    sample_ids.append(d)\n",
    "    print(\"Patient '{}' has {} scans\".format(d, len(os.listdir(sample_images + d))))\n",
    "\n",
    "print('----')\n",
    "print('Total patients {} Total DCM files {}'.format(len(os.listdir(stage1)), \n",
    "                                                      len(glob.glob(stage1 + '*/*.dcm'))))"
   ]
  },
  {
   "cell_type": "code",
   "execution_count": 4,
   "metadata": {
    "collapsed": false,
    "deletable": true,
    "editable": true
   },
   "outputs": [
    {
     "name": "stdout",
     "output_type": "stream",
     "text": [
      "Analysis will be done on:\n",
      "Patient 0c98fcb55e3f36d0c2b6507f62f4c5f1: scans shape: (360, 350, 350)\n",
      "Patient 0d19f1c627df49eb223771c28548350e: scans shape: (366, 370, 370)\n",
      "Patient 0c37613214faddf8701ca41e6d43f56e: scans shape: (328, 360, 360)\n",
      "Patient 0d2fcf787026fece4e57be167d079383: scans shape: (315, 310, 310)\n",
      "Patient 0a38e7597ca26f9374f8ea2770ba870d: scans shape: (275, 320, 320)\n",
      "Patient 00cba091fa4ad62cc3200a657aeb957e: scans shape: (335, 306, 306)\n",
      "Patient 0d941a3ad6c889ac451caf89c46cb92a: scans shape: (354, 259, 259)\n",
      "Patient 0a0c32c9e08cc2ea76a71649de56be6d: scans shape: (332, 340, 340)\n",
      "Patient 0c60f4b87afcb3e2dfa65abbbf3ef2f9: scans shape: (272, 330, 330)\n",
      "Patient 0c9d8314f9c69840e25febabb1229fa4: scans shape: (398, 309, 309)\n",
      "Patient 0ca943d821204ceb089510f836a367fd: scans shape: (294, 300, 300)\n",
      "Patient 0b20184e0cd497028bdd155d9fb42dc9: scans shape: (353, 360, 360)\n",
      "Patient 0c0de3749d4fe175b7a5098b060982a1: scans shape: (308, 355, 355)\n",
      "Patient 0c59313f52304e25d5a7dcf9877633b1: scans shape: (305, 390, 390)\n",
      "Patient 0bd0e3056cbf23a1cb7f0f0b18446068: scans shape: (350, 340, 340)\n",
      "Patient 0de72529c30fe642bc60dcb75c87f6bd: scans shape: (282, 308, 308)\n",
      "Patient 0ddeb08e9c97227853422bd71a2a695e: scans shape: (342, 392, 392)\n",
      "Patient 0a099f2549429d29b32f349e95fb2244: scans shape: (320, 347, 347)\n",
      "Patient 0acbebb8d463b4b9ca88cf38431aac69: scans shape: (365, 279, 279)\n",
      "Patient 0d06d764d3c07572074d468b4cff954f: scans shape: (609, 424, 424)\n"
     ]
    }
   ],
   "source": [
    "print(\"Analysis will be done on:\")\n",
    "scan_segmented_lungs_fill = {}\n",
    "\n",
    "for sample_id in sample_ids:\n",
    "    scans = np.load(stage1_processed + 'scan_segmented_lungs_fill_' + sample_id + '.npy')\n",
    "    scan_segmented_lungs_fill[sample_id] = scans\n",
    "    print('Patient {}: scans shape: {}'.format(sample_id, scans.shape))"
   ]
  },
  {
   "cell_type": "markdown",
   "metadata": {
    "deletable": true,
    "editable": true
   },
   "source": [
    "### Post processing data for inception model"
   ]
  },
  {
   "cell_type": "code",
   "execution_count": 5,
   "metadata": {
    "collapsed": false,
    "deletable": true,
    "editable": true
   },
   "outputs": [],
   "source": [
    "def img_to_rgb(im):\n",
    "    w, h = im.shape\n",
    "    ret = np.empty((w, h, 3), dtype=np.uint8)\n",
    "    ret[:, :, 0] = im\n",
    "    ret[:, :, 1] = im\n",
    "    ret[:, :, 2] = im\n",
    "    return ret\n",
    "\n",
    "# Convert grayscale scans to rgb\n",
    "# (num_scans, w, h) -> (num_scans, w, h, 3)\n",
    "def scans_to_rgb(scans):\n",
    "    num_scans, w, h = scans.shape\n",
    "    reshaped_scans = np.empty((num_scans, w, h, 3), dtype=np.uint8)\n",
    "    for scn in enumerate(scans):\n",
    "        reshaped_scans[scn[0]] = img_to_rgb(scn[1])\n",
    "    return reshaped_scans"
   ]
  },
  {
   "cell_type": "code",
   "execution_count": 6,
   "metadata": {
    "collapsed": false,
    "deletable": true,
    "editable": true
   },
   "outputs": [
    {
     "name": "stdout",
     "output_type": "stream",
     "text": [
      "(360, 350, 350)\n",
      "(360, 350, 350, 3)\n",
      "(366, 370, 370)\n",
      "(366, 370, 370, 3)\n",
      "(328, 360, 360)\n",
      "(328, 360, 360, 3)\n",
      "(315, 310, 310)\n",
      "(315, 310, 310, 3)\n",
      "(275, 320, 320)\n",
      "(275, 320, 320, 3)\n",
      "(335, 306, 306)\n",
      "(335, 306, 306, 3)\n",
      "(354, 259, 259)\n",
      "(354, 259, 259, 3)\n",
      "(332, 340, 340)\n",
      "(332, 340, 340, 3)\n",
      "(272, 330, 330)\n",
      "(272, 330, 330, 3)\n",
      "(398, 309, 309)\n",
      "(398, 309, 309, 3)\n",
      "(294, 300, 300)\n",
      "(294, 300, 300, 3)\n",
      "(353, 360, 360)\n",
      "(353, 360, 360, 3)\n",
      "(308, 355, 355)\n",
      "(308, 355, 355, 3)\n",
      "(305, 390, 390)\n",
      "(305, 390, 390, 3)\n",
      "(350, 340, 340)\n",
      "(350, 340, 340, 3)\n",
      "(282, 308, 308)\n",
      "(282, 308, 308, 3)\n",
      "(342, 392, 392)\n",
      "(342, 392, 392, 3)\n",
      "(320, 347, 347)\n",
      "(320, 347, 347, 3)\n",
      "(365, 279, 279)\n",
      "(365, 279, 279, 3)\n",
      "(609, 424, 424)\n",
      "(609, 424, 424, 3)\n"
     ]
    }
   ],
   "source": [
    "for sample_id in sample_ids:\n",
    "    print(scan_segmented_lungs_fill[sample_id].shape)\n",
    "    scan_segmented_lungs_fill[sample_id] = scans_to_rgb(scan_segmented_lungs_fill[sample_id])\n",
    "    print(scan_segmented_lungs_fill[sample_id].shape)"
   ]
  },
  {
   "cell_type": "code",
   "execution_count": null,
   "metadata": {
    "collapsed": true
   },
   "outputs": [],
   "source": []
  }
 ],
 "metadata": {
  "kernelspec": {
   "display_name": "Python 3",
   "language": "python",
   "name": "python3"
  },
  "language_info": {
   "codemirror_mode": {
    "name": "ipython",
    "version": 3
   },
   "file_extension": ".py",
   "mimetype": "text/x-python",
   "name": "python",
   "nbconvert_exporter": "python",
   "pygments_lexer": "ipython3",
   "version": "3.5.2"
  }
 },
 "nbformat": 4,
 "nbformat_minor": 2
}
