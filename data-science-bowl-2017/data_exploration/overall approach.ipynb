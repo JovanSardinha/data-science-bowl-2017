{
 "cells": [
  {
   "cell_type": "markdown",
   "metadata": {
    "deletable": true,
    "editable": true
   },
   "source": [
    "## Overall Approach"
   ]
  },
  {
   "cell_type": "markdown",
   "metadata": {
    "deletable": true,
    "editable": true
   },
   "source": [
    "Prupose: To outline the approach and the overall architecture of prediction engine used to associate a probability given a patients CT scans. "
   ]
  },
  {
   "cell_type": "code",
   "execution_count": 1,
   "metadata": {
    "collapsed": false
   },
   "outputs": [
    {
     "data": {
      "text/html": [
       "<img src=\"https://lh6.googleusercontent.com/ceSURJeb7PpMkRyUdREduzGayDNz_LBALi4xTyJLOZQ1sRuSA1-xIGEvCj3UXtKGtJMYscUu=w1791-h956\"/>"
      ],
      "text/plain": [
       "<IPython.core.display.Image object>"
      ]
     },
     "execution_count": 1,
     "metadata": {},
     "output_type": "execute_result"
    }
   ],
   "source": [
    "from IPython.display import Image\n",
    "Image(url='https://lh6.googleusercontent.com/ceSURJeb7PpMkRyUdREduzGayDNz_LBALi4xTyJLOZQ1sRuSA1-xIGEvCj3UXtKGtJMYscUu=w1791-h956')"
   ]
  },
  {
   "cell_type": "code",
   "execution_count": 12,
   "metadata": {
    "collapsed": false
   },
   "outputs": [
    {
     "data": {
      "text/html": [
       "<img src=\"https://lh5.googleusercontent.com/w1lHLMjjkUImgtnivDHjR7uotJd3hVPN2Audg2rD9dEGhaQIIsotQZ785t9mPlWI2EQcRz2LSUpuwOs=w1791-h956\" width=\"1000\" height=\"1000\"/>"
      ],
      "text/plain": [
       "<IPython.core.display.Image object>"
      ]
     },
     "execution_count": 12,
     "metadata": {},
     "output_type": "execute_result"
    }
   ],
   "source": [
    "from IPython.display import Image\n",
    "Image(url='https://lh5.googleusercontent.com/w1lHLMjjkUImgtnivDHjR7uotJd3hVPN2Audg2rD9dEGhaQIIsotQZ785t9mPlWI2EQcRz2LSUpuwOs=w1791-h956', width=1000, height=1000)"
   ]
  },
  {
   "cell_type": "code",
   "execution_count": null,
   "metadata": {
    "collapsed": true
   },
   "outputs": [],
   "source": []
  }
 ],
 "metadata": {
  "kernelspec": {
   "display_name": "Python 3",
   "language": "python",
   "name": "python3"
  },
  "language_info": {
   "codemirror_mode": {
    "name": "ipython",
    "version": 3
   },
   "file_extension": ".py",
   "mimetype": "text/x-python",
   "name": "python",
   "nbconvert_exporter": "python",
   "pygments_lexer": "ipython3",
   "version": "3.5.2"
  }
 },
 "nbformat": 4,
 "nbformat_minor": 2
}
