{
 "cells": [
  {
   "cell_type": "markdown",
   "metadata": {
    "deletable": true,
    "editable": true
   },
   "source": [
    "## Data output manipulation"
   ]
  },
  {
   "cell_type": "code",
   "execution_count": 114,
   "metadata": {
    "collapsed": false,
    "deletable": true,
    "editable": true
   },
   "outputs": [],
   "source": [
    "import numpy as np # linear algebra\n",
    "import pandas as pd # data processing, CSV file I/O (e.g. pd.read_csv)\n",
    "import os\n",
    "import scipy.ndimage\n",
    "import matplotlib.pyplot as plt\n",
    "import glob\n",
    "import re\n",
    "from skimage import measure, morphology\n",
    "from mpl_toolkits.mplot3d.art3d import Poly3DCollection\n",
    "from sklearn.decomposition import PCA\n",
    "from time import time\n",
    "import math\n",
    "from sklearn import cross_validation"
   ]
  },
  {
   "cell_type": "code",
   "execution_count": 117,
   "metadata": {
    "collapsed": false,
    "deletable": true,
    "editable": true
   },
   "outputs": [],
   "source": [
    "# constants\n",
    "\n",
    "data = '/kaggle/dev/data-science-bowl-2017-data/'\n",
    "stage1 = '/kaggle/dev/data-science-bowl-2017-data/stage1/'\n",
    "labels = '/kaggle/dev/data-science-bowl-2017-data/stage1_labels.csv'\n",
    "stage1_processed = '/kaggle/dev/data-science-bowl-2017-data/stage1_processed/'\n",
    "stage1_features_resnet = '/kaggle/dev/data-science-bowl-2017-data/stage1_features_mx/'\n",
    "stage1_submission = '/kaggle/dev/data-science-bowl-2017-data/stage1_sample_submission.csv'\n",
    "naive_submission = '/kaggle/dev/jovan/data-science-bowl-2017/data-science-bowl-2017/submissions/naive_submission.csv'\n",
    "stage1_processed_pca = '/kaggle/dev/data-science-bowl-2017-data/stage1_processed_pca/'\n",
    "stage1_features_inception = '/kaggle/dev/data-science-bowl-2017-data/CIFAR-10/cache/'\n",
    "submissions = '/kaggle/dev/data-science-bowl-2017-data/submissions/'\n",
    "\n",
    "cifar10_url = \"https://www.cs.toronto.edu/~kriz/cifar-10-python.tar.gz\"\n",
    "cifar_data = \"/kaggle/dev/data-science-bowl-2017-data/CIFAR-10/\""
   ]
  },
  {
   "cell_type": "code",
   "execution_count": 255,
   "metadata": {
    "collapsed": false,
    "deletable": true,
    "editable": true
   },
   "outputs": [],
   "source": [
    "ids = list()\n",
    "for s in glob.glob(stage1_features_inception + \"*\"):\n",
    "    id = os.path.basename(s)\n",
    "    id = re.match(r'inception_cifar10_([a-f0-9].*).pkl' , id).group(1)\n",
    "    ids.append(id)\n",
    "ids = pd.DataFrame(ids,  columns=[\"id\"])\n",
    "\n",
    "df = pd.read_csv(labels)\n",
    "df = pd.merge(df, ids, how='inner', on=['id'])\n",
    "\n",
    "x = np.array([np.mean(np.load(stage1_features_inception + \"inception_cifar10_\" + s + \".pkl\"), axis=0) for s in df['id'].tolist()])\n",
    "y = df['cancer'].as_matrix()\n",
    "trn_x, val_x, trn_y, val_y = cross_validation.train_test_split(x, y, random_state=42, stratify=y,\n",
    "                                                                test_size=0.20)"
   ]
  },
  {
   "cell_type": "code",
   "execution_count": 256,
   "metadata": {
    "collapsed": false
   },
   "outputs": [
    {
     "data": {
      "text/html": [
       "<div>\n",
       "<table border=\"1\" class=\"dataframe\">\n",
       "  <thead>\n",
       "    <tr style=\"text-align: right;\">\n",
       "      <th></th>\n",
       "      <th>id</th>\n",
       "      <th>cancer</th>\n",
       "    </tr>\n",
       "  </thead>\n",
       "  <tbody>\n",
       "    <tr>\n",
       "      <th>0</th>\n",
       "      <td>0015ceb851d7251b8f399e39779d1e7d</td>\n",
       "      <td>1</td>\n",
       "    </tr>\n",
       "    <tr>\n",
       "      <th>1</th>\n",
       "      <td>0030a160d58723ff36d73f41b170ec21</td>\n",
       "      <td>0</td>\n",
       "    </tr>\n",
       "    <tr>\n",
       "      <th>2</th>\n",
       "      <td>003f41c78e6acfa92430a057ac0b306e</td>\n",
       "      <td>0</td>\n",
       "    </tr>\n",
       "    <tr>\n",
       "      <th>3</th>\n",
       "      <td>006b96310a37b36cccb2ab48d10b49a3</td>\n",
       "      <td>1</td>\n",
       "    </tr>\n",
       "    <tr>\n",
       "      <th>4</th>\n",
       "      <td>008464bb8521d09a42985dd8add3d0d2</td>\n",
       "      <td>1</td>\n",
       "    </tr>\n",
       "    <tr>\n",
       "      <th>5</th>\n",
       "      <td>0092c13f9e00a3717fdc940641f00015</td>\n",
       "      <td>0</td>\n",
       "    </tr>\n",
       "    <tr>\n",
       "      <th>6</th>\n",
       "      <td>00986bebc45e12038ef0ce3e9962b51a</td>\n",
       "      <td>0</td>\n",
       "    </tr>\n",
       "    <tr>\n",
       "      <th>7</th>\n",
       "      <td>00cba091fa4ad62cc3200a657aeb957e</td>\n",
       "      <td>0</td>\n",
       "    </tr>\n",
       "    <tr>\n",
       "      <th>8</th>\n",
       "      <td>00edff4f51a893d80dae2d42a7f45ad1</td>\n",
       "      <td>1</td>\n",
       "    </tr>\n",
       "    <tr>\n",
       "      <th>9</th>\n",
       "      <td>0121c2845f2b7df060945b072b2515d7</td>\n",
       "      <td>0</td>\n",
       "    </tr>\n",
       "    <tr>\n",
       "      <th>10</th>\n",
       "      <td>013395589c01aa01f8df81d80fb0e2b8</td>\n",
       "      <td>0</td>\n",
       "    </tr>\n",
       "    <tr>\n",
       "      <th>11</th>\n",
       "      <td>01de8323fa065a8963533c4a86f2f6c1</td>\n",
       "      <td>0</td>\n",
       "    </tr>\n",
       "    <tr>\n",
       "      <th>12</th>\n",
       "      <td>01e349d34c06410e1da273add27be25c</td>\n",
       "      <td>0</td>\n",
       "    </tr>\n",
       "    <tr>\n",
       "      <th>13</th>\n",
       "      <td>01f1140c8e951e2a921b61c9a7e782c2</td>\n",
       "      <td>0</td>\n",
       "    </tr>\n",
       "    <tr>\n",
       "      <th>14</th>\n",
       "      <td>024efb7a1e67dc820eb61cbdaa090166</td>\n",
       "      <td>0</td>\n",
       "    </tr>\n",
       "    <tr>\n",
       "      <th>15</th>\n",
       "      <td>0257df465d9e4150adef13303433ff1e</td>\n",
       "      <td>1</td>\n",
       "    </tr>\n",
       "    <tr>\n",
       "      <th>16</th>\n",
       "      <td>0268f3a7a17412178cfb039e71799a80</td>\n",
       "      <td>0</td>\n",
       "    </tr>\n",
       "    <tr>\n",
       "      <th>17</th>\n",
       "      <td>026be5d5e652b6a7488669d884ebe297</td>\n",
       "      <td>0</td>\n",
       "    </tr>\n",
       "    <tr>\n",
       "      <th>18</th>\n",
       "      <td>02801e3bbcc6966cb115a962012c35df</td>\n",
       "      <td>1</td>\n",
       "    </tr>\n",
       "    <tr>\n",
       "      <th>19</th>\n",
       "      <td>028996723faa7840bb57f57e28275e4c</td>\n",
       "      <td>1</td>\n",
       "    </tr>\n",
       "    <tr>\n",
       "      <th>20</th>\n",
       "      <td>0334c8242ce7ee1a6c1263096e4cc535</td>\n",
       "      <td>0</td>\n",
       "    </tr>\n",
       "    <tr>\n",
       "      <th>21</th>\n",
       "      <td>03fb0d0fdb187ee1160f09386b28c3f2</td>\n",
       "      <td>0</td>\n",
       "    </tr>\n",
       "    <tr>\n",
       "      <th>22</th>\n",
       "      <td>03ff23e445787886f8b0cb192b3c154d</td>\n",
       "      <td>0</td>\n",
       "    </tr>\n",
       "    <tr>\n",
       "      <th>23</th>\n",
       "      <td>043ed6cb6054cc13804a3dca342fa4d0</td>\n",
       "      <td>0</td>\n",
       "    </tr>\n",
       "    <tr>\n",
       "      <th>24</th>\n",
       "      <td>0482c444ac838adc5aa00d1064c976c1</td>\n",
       "      <td>0</td>\n",
       "    </tr>\n",
       "    <tr>\n",
       "      <th>25</th>\n",
       "      <td>04a3187ec2ed4198a25033071897bffc</td>\n",
       "      <td>0</td>\n",
       "    </tr>\n",
       "    <tr>\n",
       "      <th>26</th>\n",
       "      <td>04a52f49cdbfb8b99789b9e93f1ad319</td>\n",
       "      <td>0</td>\n",
       "    </tr>\n",
       "    <tr>\n",
       "      <th>27</th>\n",
       "      <td>04a8c47583142181728056310759dea1</td>\n",
       "      <td>1</td>\n",
       "    </tr>\n",
       "    <tr>\n",
       "      <th>28</th>\n",
       "      <td>04cfc5efa4c8c2a8944c8b9fa6cb04d1</td>\n",
       "      <td>0</td>\n",
       "    </tr>\n",
       "    <tr>\n",
       "      <th>29</th>\n",
       "      <td>04e5d435fa01b0958e3274be73312cac</td>\n",
       "      <td>0</td>\n",
       "    </tr>\n",
       "    <tr>\n",
       "      <th>...</th>\n",
       "      <td>...</td>\n",
       "      <td>...</td>\n",
       "    </tr>\n",
       "    <tr>\n",
       "      <th>1367</th>\n",
       "      <td>fa45178d023325b255a3d4fc3e96cb7d</td>\n",
       "      <td>1</td>\n",
       "    </tr>\n",
       "    <tr>\n",
       "      <th>1368</th>\n",
       "      <td>fa744c0374ccc6aaf6711f463a9e5bc2</td>\n",
       "      <td>0</td>\n",
       "    </tr>\n",
       "    <tr>\n",
       "      <th>1369</th>\n",
       "      <td>fa7bf17071e3234ab1f350341303b174</td>\n",
       "      <td>0</td>\n",
       "    </tr>\n",
       "    <tr>\n",
       "      <th>1370</th>\n",
       "      <td>fa9575f64e6881c6b2730f0e225c9573</td>\n",
       "      <td>0</td>\n",
       "    </tr>\n",
       "    <tr>\n",
       "      <th>1371</th>\n",
       "      <td>fa968673987cfd078d91641294c3bf63</td>\n",
       "      <td>0</td>\n",
       "    </tr>\n",
       "    <tr>\n",
       "      <th>1372</th>\n",
       "      <td>fac65dbf7b6972049cfd37b5b122ec0b</td>\n",
       "      <td>0</td>\n",
       "    </tr>\n",
       "    <tr>\n",
       "      <th>1373</th>\n",
       "      <td>fb52dd8152e53a4ca7da5403d6d0db13</td>\n",
       "      <td>0</td>\n",
       "    </tr>\n",
       "    <tr>\n",
       "      <th>1374</th>\n",
       "      <td>fb57fc6377fd37bb5d42756c2736586c</td>\n",
       "      <td>1</td>\n",
       "    </tr>\n",
       "    <tr>\n",
       "      <th>1375</th>\n",
       "      <td>fb7ae70f05b6441ac4ea7187ce7c45f7</td>\n",
       "      <td>0</td>\n",
       "    </tr>\n",
       "    <tr>\n",
       "      <th>1376</th>\n",
       "      <td>fb7dfb6aae597d97c2da24179df0fe56</td>\n",
       "      <td>0</td>\n",
       "    </tr>\n",
       "    <tr>\n",
       "      <th>1377</th>\n",
       "      <td>fb99a80cbb2f441bb90135bab5b029fe</td>\n",
       "      <td>1</td>\n",
       "    </tr>\n",
       "    <tr>\n",
       "      <th>1378</th>\n",
       "      <td>fbaa8548e6c3753836579c7987d0034d</td>\n",
       "      <td>0</td>\n",
       "    </tr>\n",
       "    <tr>\n",
       "      <th>1379</th>\n",
       "      <td>fbae4d04285789dfa32124c86586dd09</td>\n",
       "      <td>1</td>\n",
       "    </tr>\n",
       "    <tr>\n",
       "      <th>1380</th>\n",
       "      <td>fbe0c3d6e4a50ca1c1bd3101515d0ab4</td>\n",
       "      <td>0</td>\n",
       "    </tr>\n",
       "    <tr>\n",
       "      <th>1381</th>\n",
       "      <td>fc545aa2f58509dc6d81ef02130b6906</td>\n",
       "      <td>1</td>\n",
       "    </tr>\n",
       "    <tr>\n",
       "      <th>1382</th>\n",
       "      <td>fc658f9bc12a751a17f16589f9e3619b</td>\n",
       "      <td>0</td>\n",
       "    </tr>\n",
       "    <tr>\n",
       "      <th>1383</th>\n",
       "      <td>fcdc2d423356d53759a8f602d40785a6</td>\n",
       "      <td>0</td>\n",
       "    </tr>\n",
       "    <tr>\n",
       "      <th>1384</th>\n",
       "      <td>fd0c2dfe0b0c58330675c3191cef0d5b</td>\n",
       "      <td>1</td>\n",
       "    </tr>\n",
       "    <tr>\n",
       "      <th>1385</th>\n",
       "      <td>fd2dd970bd3d91e5b26d7e57c03f70af</td>\n",
       "      <td>1</td>\n",
       "    </tr>\n",
       "    <tr>\n",
       "      <th>1386</th>\n",
       "      <td>fd4c2d4738bc25a5c331dbc101f3323a</td>\n",
       "      <td>0</td>\n",
       "    </tr>\n",
       "    <tr>\n",
       "      <th>1387</th>\n",
       "      <td>fd64b23b8cd8c371c8f76fbb503e4e0e</td>\n",
       "      <td>0</td>\n",
       "    </tr>\n",
       "    <tr>\n",
       "      <th>1388</th>\n",
       "      <td>fd7c0fb3c0e764357aa58e5f047be614</td>\n",
       "      <td>0</td>\n",
       "    </tr>\n",
       "    <tr>\n",
       "      <th>1389</th>\n",
       "      <td>fda187bfb1d6a2ecd4abd862c7f7f94c</td>\n",
       "      <td>1</td>\n",
       "    </tr>\n",
       "    <tr>\n",
       "      <th>1390</th>\n",
       "      <td>fdf2a2f5b86aea0da54732056fc7ab48</td>\n",
       "      <td>0</td>\n",
       "    </tr>\n",
       "    <tr>\n",
       "      <th>1391</th>\n",
       "      <td>fdf73dcce35167f3ed952a58f5a6f738</td>\n",
       "      <td>0</td>\n",
       "    </tr>\n",
       "    <tr>\n",
       "      <th>1392</th>\n",
       "      <td>fe26fd2bb25112b3c2ca93eb8e34f8ed</td>\n",
       "      <td>0</td>\n",
       "    </tr>\n",
       "    <tr>\n",
       "      <th>1393</th>\n",
       "      <td>fe45462987bacc32dbc7126119999392</td>\n",
       "      <td>1</td>\n",
       "    </tr>\n",
       "    <tr>\n",
       "      <th>1394</th>\n",
       "      <td>fe5c37e82b412833b8ad0abb57978377</td>\n",
       "      <td>0</td>\n",
       "    </tr>\n",
       "    <tr>\n",
       "      <th>1395</th>\n",
       "      <td>ff5d8e90500cf324e7b04a2f07cf0399</td>\n",
       "      <td>0</td>\n",
       "    </tr>\n",
       "    <tr>\n",
       "      <th>1396</th>\n",
       "      <td>ffe02fe7d2223743f7fb455dfaff3842</td>\n",
       "      <td>0</td>\n",
       "    </tr>\n",
       "  </tbody>\n",
       "</table>\n",
       "<p>1397 rows × 2 columns</p>\n",
       "</div>"
      ],
      "text/plain": [
       "                                    id  cancer\n",
       "0     0015ceb851d7251b8f399e39779d1e7d       1\n",
       "1     0030a160d58723ff36d73f41b170ec21       0\n",
       "2     003f41c78e6acfa92430a057ac0b306e       0\n",
       "3     006b96310a37b36cccb2ab48d10b49a3       1\n",
       "4     008464bb8521d09a42985dd8add3d0d2       1\n",
       "5     0092c13f9e00a3717fdc940641f00015       0\n",
       "6     00986bebc45e12038ef0ce3e9962b51a       0\n",
       "7     00cba091fa4ad62cc3200a657aeb957e       0\n",
       "8     00edff4f51a893d80dae2d42a7f45ad1       1\n",
       "9     0121c2845f2b7df060945b072b2515d7       0\n",
       "10    013395589c01aa01f8df81d80fb0e2b8       0\n",
       "11    01de8323fa065a8963533c4a86f2f6c1       0\n",
       "12    01e349d34c06410e1da273add27be25c       0\n",
       "13    01f1140c8e951e2a921b61c9a7e782c2       0\n",
       "14    024efb7a1e67dc820eb61cbdaa090166       0\n",
       "15    0257df465d9e4150adef13303433ff1e       1\n",
       "16    0268f3a7a17412178cfb039e71799a80       0\n",
       "17    026be5d5e652b6a7488669d884ebe297       0\n",
       "18    02801e3bbcc6966cb115a962012c35df       1\n",
       "19    028996723faa7840bb57f57e28275e4c       1\n",
       "20    0334c8242ce7ee1a6c1263096e4cc535       0\n",
       "21    03fb0d0fdb187ee1160f09386b28c3f2       0\n",
       "22    03ff23e445787886f8b0cb192b3c154d       0\n",
       "23    043ed6cb6054cc13804a3dca342fa4d0       0\n",
       "24    0482c444ac838adc5aa00d1064c976c1       0\n",
       "25    04a3187ec2ed4198a25033071897bffc       0\n",
       "26    04a52f49cdbfb8b99789b9e93f1ad319       0\n",
       "27    04a8c47583142181728056310759dea1       1\n",
       "28    04cfc5efa4c8c2a8944c8b9fa6cb04d1       0\n",
       "29    04e5d435fa01b0958e3274be73312cac       0\n",
       "...                                ...     ...\n",
       "1367  fa45178d023325b255a3d4fc3e96cb7d       1\n",
       "1368  fa744c0374ccc6aaf6711f463a9e5bc2       0\n",
       "1369  fa7bf17071e3234ab1f350341303b174       0\n",
       "1370  fa9575f64e6881c6b2730f0e225c9573       0\n",
       "1371  fa968673987cfd078d91641294c3bf63       0\n",
       "1372  fac65dbf7b6972049cfd37b5b122ec0b       0\n",
       "1373  fb52dd8152e53a4ca7da5403d6d0db13       0\n",
       "1374  fb57fc6377fd37bb5d42756c2736586c       1\n",
       "1375  fb7ae70f05b6441ac4ea7187ce7c45f7       0\n",
       "1376  fb7dfb6aae597d97c2da24179df0fe56       0\n",
       "1377  fb99a80cbb2f441bb90135bab5b029fe       1\n",
       "1378  fbaa8548e6c3753836579c7987d0034d       0\n",
       "1379  fbae4d04285789dfa32124c86586dd09       1\n",
       "1380  fbe0c3d6e4a50ca1c1bd3101515d0ab4       0\n",
       "1381  fc545aa2f58509dc6d81ef02130b6906       1\n",
       "1382  fc658f9bc12a751a17f16589f9e3619b       0\n",
       "1383  fcdc2d423356d53759a8f602d40785a6       0\n",
       "1384  fd0c2dfe0b0c58330675c3191cef0d5b       1\n",
       "1385  fd2dd970bd3d91e5b26d7e57c03f70af       1\n",
       "1386  fd4c2d4738bc25a5c331dbc101f3323a       0\n",
       "1387  fd64b23b8cd8c371c8f76fbb503e4e0e       0\n",
       "1388  fd7c0fb3c0e764357aa58e5f047be614       0\n",
       "1389  fda187bfb1d6a2ecd4abd862c7f7f94c       1\n",
       "1390  fdf2a2f5b86aea0da54732056fc7ab48       0\n",
       "1391  fdf73dcce35167f3ed952a58f5a6f738       0\n",
       "1392  fe26fd2bb25112b3c2ca93eb8e34f8ed       0\n",
       "1393  fe45462987bacc32dbc7126119999392       1\n",
       "1394  fe5c37e82b412833b8ad0abb57978377       0\n",
       "1395  ff5d8e90500cf324e7b04a2f07cf0399       0\n",
       "1396  ffe02fe7d2223743f7fb455dfaff3842       0\n",
       "\n",
       "[1397 rows x 2 columns]"
      ]
     },
     "execution_count": 256,
     "metadata": {},
     "output_type": "execute_result"
    }
   ],
   "source": [
    "df"
   ]
  },
  {
   "cell_type": "code",
   "execution_count": 132,
   "metadata": {
    "collapsed": false,
    "deletable": true,
    "editable": true
   },
   "outputs": [
    {
     "name": "stdout",
     "output_type": "stream",
     "text": [
      "transfer_values_test : (280, 2048)\n",
      "transfer_values_train : (1117, 2048)\n",
      "labels_test : (280, 2)\n",
      "labels_train : (1117, 2)\n",
      "cls_test : (280,)\n",
      "cls_train : (1117,)\n"
     ]
    }
   ],
   "source": [
    "num_classes = 2\n",
    "\n",
    "transfer_values_test = val_x\n",
    "transfer_values_train = trn_x\n",
    "cls_test = val_y\n",
    "cls_train = trn_y\n",
    "labels_test = (np.arange(num_classes) == val_y[:, None])+0\n",
    "labels_train = (np.arange(num_classes) == trn_y[:, None])+0\n",
    "\n",
    "\n",
    "print(\"transfer_values_test : \" + str(transfer_values_test.shape))\n",
    "print(\"transfer_values_train : \" + str(transfer_values_train.shape))\n",
    "print(\"labels_test : \" + str(labels_test.shape))\n",
    "print(\"labels_train : \" + str(labels_train.shape))\n",
    "print(\"cls_test : \" + str(cls_test.shape))\n",
    "print(\"cls_train : \" + str(cls_train.shape))"
   ]
  },
  {
   "cell_type": "code",
   "execution_count": 131,
   "metadata": {
    "collapsed": false,
    "deletable": true,
    "editable": true
   },
   "outputs": [
    {
     "data": {
      "text/plain": [
       "(280,)"
      ]
     },
     "execution_count": 131,
     "metadata": {},
     "output_type": "execute_result"
    }
   ],
   "source": [
    "labels_test.shape"
   ]
  },
  {
   "cell_type": "code",
   "execution_count": null,
   "metadata": {
    "collapsed": true,
    "deletable": true,
    "editable": true
   },
   "outputs": [],
   "source": []
  },
  {
   "cell_type": "code",
   "execution_count": 123,
   "metadata": {
    "collapsed": false,
    "deletable": true,
    "editable": true
   },
   "outputs": [
    {
     "name": "stdout",
     "output_type": "stream",
     "text": [
      "428\n",
      "876544\n"
     ]
    }
   ],
   "source": [
    "biggest_0 = 0\n",
    "biggest_total = 0\n",
    "for i in range(0, len(transfer_values_test)):\n",
    "    x = transfer_values_test[i].shape[0] * transfer_values_test[i].shape[1]\n",
    "    if x > biggest_total:\n",
    "        biggest_total = x\n",
    "        biggest_0 = transfer_values_test[i].shape[0]\n",
    "        \n",
    "print(biggest_0)\n",
    "print(biggest_total)"
   ]
  },
  {
   "cell_type": "code",
   "execution_count": 233,
   "metadata": {
    "collapsed": false,
    "deletable": true,
    "editable": true
   },
   "outputs": [],
   "source": [
    "def test(temp, **labels):\n",
    "    print(temp)\n",
    "    if labels:\n",
    "        labels = (labels['labels'])\n",
    "        print(len(labels))\n",
    "    print(len(labels))\n",
    "    if temp==\"ok\":\n",
    "        joel = 2\n",
    "        print(joel)\n",
    "    print(joel)\n",
    "    "
   ]
  },
  {
   "cell_type": "code",
   "execution_count": 234,
   "metadata": {
    "collapsed": false,
    "deletable": true,
    "editable": true
   },
   "outputs": [
    {
     "name": "stdout",
     "output_type": "stream",
     "text": [
      "ok\n",
      "4\n",
      "4\n",
      "2\n",
      "2\n"
     ]
    }
   ],
   "source": [
    "test(\"ok\", labels=[0,1,2,3])"
   ]
  },
  {
   "cell_type": "code",
   "execution_count": 244,
   "metadata": {
    "collapsed": false,
    "deletable": true,
    "editable": true
   },
   "outputs": [],
   "source": [
    "temp = np.array([[ 0.71215874 , 0.28784126]])"
   ]
  },
  {
   "cell_type": "code",
   "execution_count": 245,
   "metadata": {
    "collapsed": false,
    "deletable": true,
    "editable": true
   },
   "outputs": [
    {
     "data": {
      "text/plain": [
       "(1, 2)"
      ]
     },
     "execution_count": 245,
     "metadata": {},
     "output_type": "execute_result"
    }
   ],
   "source": [
    "temp.shape"
   ]
  },
  {
   "cell_type": "code",
   "execution_count": 246,
   "metadata": {
    "collapsed": false
   },
   "outputs": [
    {
     "data": {
      "text/plain": [
       "0.71215874000000001"
      ]
     },
     "execution_count": 246,
     "metadata": {},
     "output_type": "execute_result"
    }
   ],
   "source": [
    "np.amax(temp)"
   ]
  },
  {
   "cell_type": "code",
   "execution_count": null,
   "metadata": {
    "collapsed": true
   },
   "outputs": [],
   "source": []
  }
 ],
 "metadata": {
  "kernelspec": {
   "display_name": "Python 3",
   "language": "python",
   "name": "python3"
  },
  "language_info": {
   "codemirror_mode": {
    "name": "ipython",
    "version": 3
   },
   "file_extension": ".py",
   "mimetype": "text/x-python",
   "name": "python",
   "nbconvert_exporter": "python",
   "pygments_lexer": "ipython3",
   "version": "3.5.2"
  }
 },
 "nbformat": 4,
 "nbformat_minor": 2
}
