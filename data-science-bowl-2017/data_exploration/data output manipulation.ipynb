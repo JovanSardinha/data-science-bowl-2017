{
 "cells": [
  {
   "cell_type": "markdown",
   "metadata": {
    "deletable": true,
    "editable": true
   },
   "source": [
    "## Data output manipulation"
   ]
  },
  {
   "cell_type": "code",
   "execution_count": 114,
   "metadata": {
    "collapsed": false,
    "deletable": true,
    "editable": true
   },
   "outputs": [],
   "source": [
    "import numpy as np # linear algebra\n",
    "import pandas as pd # data processing, CSV file I/O (e.g. pd.read_csv)\n",
    "import os\n",
    "import scipy.ndimage\n",
    "import matplotlib.pyplot as plt\n",
    "import glob\n",
    "import re\n",
    "from skimage import measure, morphology\n",
    "from mpl_toolkits.mplot3d.art3d import Poly3DCollection\n",
    "from sklearn.decomposition import PCA\n",
    "from time import time\n",
    "import math\n",
    "from sklearn import cross_validation"
   ]
  },
  {
   "cell_type": "code",
   "execution_count": 117,
   "metadata": {
    "collapsed": false,
    "deletable": true,
    "editable": true
   },
   "outputs": [],
   "source": [
    "# constants\n",
    "\n",
    "data = '/kaggle/dev/data-science-bowl-2017-data/'\n",
    "stage1 = '/kaggle/dev/data-science-bowl-2017-data/stage1/'\n",
    "labels = '/kaggle/dev/data-science-bowl-2017-data/stage1_labels.csv'\n",
    "stage1_processed = '/kaggle/dev/data-science-bowl-2017-data/stage1_processed/'\n",
    "stage1_features_resnet = '/kaggle/dev/data-science-bowl-2017-data/stage1_features_mx/'\n",
    "stage1_submission = '/kaggle/dev/data-science-bowl-2017-data/stage1_sample_submission.csv'\n",
    "naive_submission = '/kaggle/dev/jovan/data-science-bowl-2017/data-science-bowl-2017/submissions/naive_submission.csv'\n",
    "stage1_processed_pca = '/kaggle/dev/data-science-bowl-2017-data/stage1_processed_pca/'\n",
    "stage1_features_inception = '/kaggle/dev/data-science-bowl-2017-data/CIFAR-10/cache/'\n",
    "submissions = '/kaggle/dev/data-science-bowl-2017-data/submissions/'\n",
    "\n",
    "cifar10_url = \"https://www.cs.toronto.edu/~kriz/cifar-10-python.tar.gz\"\n",
    "cifar_data = \"/kaggle/dev/data-science-bowl-2017-data/CIFAR-10/\""
   ]
  },
  {
   "cell_type": "code",
   "execution_count": 124,
   "metadata": {
    "collapsed": false,
    "deletable": true,
    "editable": true
   },
   "outputs": [],
   "source": [
    "ids = list()\n",
    "for s in glob.glob(stage1_features_inception + \"*\"):\n",
    "    id = os.path.basename(s)\n",
    "    id = re.match(r'inception_cifar10_([a-f0-9].*).pkl' , id).group(1)\n",
    "    ids.append(id)\n",
    "ids = pd.DataFrame(ids,  columns=[\"id\"])\n",
    "\n",
    "df = pd.read_csv(labels)\n",
    "df = pd.merge(df, ids, how='inner', on=['id'])\n",
    "\n",
    "x = np.array([np.mean(np.load(stage1_features_inception + \"inception_cifar10_\" + s + \".pkl\"), axis=0) for s in df['id'].tolist()])\n",
    "y = df['cancer'].as_matrix()\n",
    "trn_x, val_x, trn_y, val_y = cross_validation.train_test_split(x, y, random_state=42, stratify=y,\n",
    "                                                                test_size=0.20)"
   ]
  },
  {
   "cell_type": "code",
   "execution_count": 132,
   "metadata": {
    "collapsed": false,
    "deletable": true,
    "editable": true
   },
   "outputs": [
    {
     "name": "stdout",
     "output_type": "stream",
     "text": [
      "transfer_values_test : (280, 2048)\n",
      "transfer_values_train : (1117, 2048)\n",
      "labels_test : (280, 2)\n",
      "labels_train : (1117, 2)\n",
      "cls_test : (280,)\n",
      "cls_train : (1117,)\n"
     ]
    }
   ],
   "source": [
    "num_classes = 2\n",
    "\n",
    "transfer_values_test = val_x\n",
    "transfer_values_train = trn_x\n",
    "cls_test = val_y\n",
    "cls_train = trn_y\n",
    "labels_test = (np.arange(num_classes) == val_y[:, None])+0\n",
    "labels_train = (np.arange(num_classes) == trn_y[:, None])+0\n",
    "\n",
    "\n",
    "print(\"transfer_values_test : \" + str(transfer_values_test.shape))\n",
    "print(\"transfer_values_train : \" + str(transfer_values_train.shape))\n",
    "print(\"labels_test : \" + str(labels_test.shape))\n",
    "print(\"labels_train : \" + str(labels_train.shape))\n",
    "print(\"cls_test : \" + str(cls_test.shape))\n",
    "print(\"cls_train : \" + str(cls_train.shape))"
   ]
  },
  {
   "cell_type": "code",
   "execution_count": 131,
   "metadata": {
    "collapsed": false,
    "deletable": true,
    "editable": true
   },
   "outputs": [
    {
     "data": {
      "text/plain": [
       "(280,)"
      ]
     },
     "execution_count": 131,
     "metadata": {},
     "output_type": "execute_result"
    }
   ],
   "source": [
    "labels_test.shape"
   ]
  },
  {
   "cell_type": "code",
   "execution_count": null,
   "metadata": {
    "collapsed": true,
    "deletable": true,
    "editable": true
   },
   "outputs": [],
   "source": []
  },
  {
   "cell_type": "code",
   "execution_count": 123,
   "metadata": {
    "collapsed": false,
    "deletable": true,
    "editable": true
   },
   "outputs": [
    {
     "name": "stdout",
     "output_type": "stream",
     "text": [
      "428\n",
      "876544\n"
     ]
    }
   ],
   "source": [
    "biggest_0 = 0\n",
    "biggest_total = 0\n",
    "for i in range(0, len(transfer_values_test)):\n",
    "    x = transfer_values_test[i].shape[0] * transfer_values_test[i].shape[1]\n",
    "    if x > biggest_total:\n",
    "        biggest_total = x\n",
    "        biggest_0 = transfer_values_test[i].shape[0]\n",
    "        \n",
    "print(biggest_0)\n",
    "print(biggest_total)"
   ]
  },
  {
   "cell_type": "code",
   "execution_count": null,
   "metadata": {
    "collapsed": true,
    "deletable": true,
    "editable": true
   },
   "outputs": [],
   "source": [
    "labels_test."
   ]
  }
 ],
 "metadata": {
  "kernelspec": {
   "display_name": "Python 3",
   "language": "python",
   "name": "python3"
  },
  "language_info": {
   "codemirror_mode": {
    "name": "ipython",
    "version": 3
   },
   "file_extension": ".py",
   "mimetype": "text/x-python",
   "name": "python",
   "nbconvert_exporter": "python",
   "pygments_lexer": "ipython3",
   "version": "3.5.2"
  }
 },
 "nbformat": 4,
 "nbformat_minor": 2
}
