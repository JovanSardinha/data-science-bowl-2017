{
 "cells": [
  {
   "cell_type": "markdown",
   "metadata": {
    "deletable": true,
    "editable": true
   },
   "source": [
    "## Data output manipulation"
   ]
  },
  {
   "cell_type": "code",
   "execution_count": 2,
   "metadata": {
    "collapsed": false,
    "deletable": true,
    "editable": true
   },
   "outputs": [
    {
     "name": "stderr",
     "output_type": "stream",
     "text": [
      "/home/plexadmin/.virtualenvs/data-science-bowl-2017/lib/python3.5/site-packages/sklearn/cross_validation.py:44: DeprecationWarning: This module was deprecated in version 0.18 in favor of the model_selection module into which all the refactored classes and functions are moved. Also note that the interface of the new CV iterators are different from that of this module. This module will be removed in 0.20.\n",
      "  \"This module will be removed in 0.20.\", DeprecationWarning)\n"
     ]
    }
   ],
   "source": [
    "import numpy as np # linear algebra\n",
    "import pandas as pd # data processing, CSV file I/O (e.g. pd.read_csv)\n",
    "import os\n",
    "import scipy.ndimage\n",
    "import matplotlib.pyplot as plt\n",
    "import glob\n",
    "import re\n",
    "from skimage import measure, morphology\n",
    "from mpl_toolkits.mplot3d.art3d import Poly3DCollection\n",
    "from sklearn.decomposition import PCA\n",
    "from time import time\n",
    "import math\n",
    "from sklearn import cross_validation"
   ]
  },
  {
   "cell_type": "code",
   "execution_count": 50,
   "metadata": {
    "collapsed": false,
    "deletable": true,
    "editable": true
   },
   "outputs": [],
   "source": [
    "# constants\n",
    "\n",
    "data = '/kaggle/dev/data-science-bowl-2017-data/'\n",
    "stage1 = '/kaggle/dev/data-science-bowl-2017-data/stage1/'\n",
    "labels = '/kaggle/dev/data-science-bowl-2017-data/stage1_labels.csv'\n",
    "stage1_processed = '/kaggle/dev/data-science-bowl-2017-data/stage1_processed/'\n",
    "stage1_features_resnet = '/kaggle/dev/data-science-bowl-2017-data/stage1_features_mx/'\n",
    "stage1_submission = '/kaggle/dev/data-science-bowl-2017-data/stage1_sample_submission.csv'\n",
    "naive_submission = '/kaggle/dev/jovan/data-science-bowl-2017/data-science-bowl-2017/submissions/naive_submission.csv'\n",
    "stage1_processed_pca = '/kaggle/dev/data-science-bowl-2017-data/stage1_processed_pca/'\n",
    "stage1_features_inception = '/kaggle/dev/data-science-bowl-2017-data/CIFAR-10/cache/'\n",
    "submissions = '/kaggle/dev/data-science-bowl-2017-data/submissions/'\n",
    "\n",
    "cifar10_url = \"https://www.cs.toronto.edu/~kriz/cifar-10-python.tar.gz\"\n",
    "cifar_data = \"/kaggle/dev/data-science-bowl-2017-data/CIFAR-10/\""
   ]
  },
  {
   "cell_type": "code",
   "execution_count": 87,
   "metadata": {
    "collapsed": false,
    "deletable": true,
    "editable": true
   },
   "outputs": [],
   "source": [
    "ids = list()\n",
    "for s in glob.glob(stage1_features_inception + \"*\"):\n",
    "    id = os.path.basename(s)\n",
    "    id = re.match(r'inception_cifar10_([a-f0-9].*).pkl' , id).group(1)\n",
    "    ids.append(id)\n",
    "ids = pd.DataFrame(ids,  columns=[\"id\"])\n",
    "\n",
    "df = pd.read_csv(labels)\n",
    "df = pd.merge(df, ids, how='inner', on=['id'])\n",
    "\n",
    "\n",
    "x = np.array([np.load(stage1_features_inception + \"inception_cifar10_\" + s + \".pkl\") for s in df['id'].tolist()])\n",
    "\n",
    "y = df['cancer'].as_matrix()\n",
    "trn_x, val_x, trn_y, val_y = cross_validation.train_test_split(x, y, random_state=42, stratify=y,\n",
    "                                                                test_size=0.20)"
   ]
  },
  {
   "cell_type": "code",
   "execution_count": 88,
   "metadata": {
    "collapsed": false,
    "deletable": true,
    "editable": true
   },
   "outputs": [
    {
     "name": "stdout",
     "output_type": "stream",
     "text": [
      "transfer_values_test : (280,)\n",
      "transfer_values_train : (1117,)\n",
      "labels_test : (280, 1)\n",
      "labels_train : (1117, 1)\n",
      "cls_test : (280, 2)\n",
      "cls_train : (1117, 2)\n"
     ]
    }
   ],
   "source": [
    "num_classes = 2\n",
    "\n",
    "transfer_values_test = val_x.flatten()\n",
    "transfer_values_train = trn_x.flatten()\n",
    "labels_test = val_y.reshape(-1,1)\n",
    "labels_train = trn_y.reshape(-1,1)\n",
    "cls_train = (np.arange(num_classes) == trn_y[:, None])+0\n",
    "cls_test = (np.arange(num_classes) == val_y[:, None])+0\n",
    "\n",
    "print(\"transfer_values_test : \" + str(transfer_values_test.shape))\n",
    "print(\"transfer_values_train : \" + str(transfer_values_train.shape))\n",
    "print(\"labels_test : \" + str(labels_test.shape))\n",
    "print(\"labels_train : \" + str(labels_train.shape))\n",
    "print(\"cls_test : \" + str(cls_test.shape))\n",
    "print(\"cls_train : \" + str(cls_train.shape))"
   ]
  },
  {
   "cell_type": "code",
   "execution_count": 85,
   "metadata": {
    "collapsed": false
   },
   "outputs": [
    {
     "data": {
      "text/plain": [
       "array([0, 1, 0, 0, 0, 0, 0, 0, 1, 0, 0, 1, 0, 1, 0, 1, 1, 0, 0, 1, 0, 0, 0,\n",
       "       0, 1, 0, 1, 0, 1, 0, 0, 0, 0, 0, 1, 0, 0, 0, 1, 1, 0, 0, 0, 0, 0, 0,\n",
       "       0, 0, 0, 1, 0, 0, 0, 0, 0, 0, 0, 0, 1, 0, 0, 0, 1, 0, 1, 0, 0, 0, 0,\n",
       "       0, 1, 0, 1, 1, 0, 0, 1, 0, 0, 1, 0, 1, 0, 0, 0, 1, 0, 0, 1, 0, 0, 1,\n",
       "       0, 0, 0, 1, 0, 0, 0, 0, 1, 0, 0, 0, 1, 0, 0, 0, 0, 1, 0, 0, 0, 0, 0,\n",
       "       0, 1, 0, 0, 0, 1, 0, 0, 0, 0, 0, 0, 0, 0, 1, 0, 1, 0, 0, 0, 0, 0, 0,\n",
       "       1, 0, 0, 1, 0, 0, 0, 0, 0, 0, 0, 0, 0, 1, 0, 1, 0, 0, 0, 0, 0, 1, 0,\n",
       "       1, 0, 0, 1, 0, 0, 0, 0, 0, 1, 0, 1, 0, 0, 0, 0, 1, 0, 0, 0, 0, 0, 0,\n",
       "       0, 0, 1, 0, 0, 0, 0, 1, 1, 0, 0, 1, 0, 0, 0, 0, 0, 0, 0, 1, 0, 1, 0,\n",
       "       1, 0, 0, 0, 0, 1, 1, 0, 1, 0, 0, 0, 0, 1, 0, 1, 1, 0, 0, 0, 1, 1, 1,\n",
       "       0, 1, 0, 0, 0, 0, 0, 0, 0, 0, 0, 1, 0, 1, 0, 0, 0, 0, 0, 0, 0, 0, 1,\n",
       "       0, 0, 0, 0, 1, 0, 0, 1, 0, 0, 0, 0, 1, 0, 1, 1, 0, 0, 0, 0, 1, 1, 0,\n",
       "       0, 1, 0, 1])"
      ]
     },
     "execution_count": 85,
     "metadata": {},
     "output_type": "execute_result"
    }
   ],
   "source": [
    "val_y"
   ]
  },
  {
   "cell_type": "code",
   "execution_count": null,
   "metadata": {
    "collapsed": true
   },
   "outputs": [],
   "source": []
  },
  {
   "cell_type": "code",
   "execution_count": 102,
   "metadata": {
    "collapsed": false
   },
   "outputs": [
    {
     "name": "stdout",
     "output_type": "stream",
     "text": [
      "428\n",
      "876544\n"
     ]
    }
   ],
   "source": [
    "biggest_0 = 0\n",
    "biggest_total = 0\n",
    "for i in range(0, len(transfer_values_test)):\n",
    "    x = transfer_values_test[i].shape[0] * transfer_values_test[i].shape[1]\n",
    "    if x > biggest_total:\n",
    "        biggest_total = x\n",
    "        biggest_0 = transfer_values_test[i].shape[0]\n",
    "        \n",
    "print(biggest_0)\n",
    "print(biggest_total)"
   ]
  },
  {
   "cell_type": "code",
   "execution_count": 113,
   "metadata": {
    "collapsed": false
   },
   "outputs": [
    {
     "data": {
      "text/plain": [
       "array([ array([[  9.08796191e-01,   0.00000000e+00,   4.99632582e-02, ...,\n",
       "          4.20329571e-01,   4.69928086e-02,   1.44751236e-01],\n",
       "       [  9.08796191e-01,   0.00000000e+00,   4.99632582e-02, ...,\n",
       "          4.20329571e-01,   4.69928086e-02,   1.44751236e-01],\n",
       "       [  9.08796191e-01,   0.00000000e+00,   4.99632582e-02, ...,\n",
       "          4.20329571e-01,   4.69928086e-02,   1.44751236e-01],\n",
       "       ..., \n",
       "       [  1.03081763e+00,   4.26401570e-02,   3.77762467e-02, ...,\n",
       "          5.92050016e-01,   1.62868679e-03,   2.56208718e-01],\n",
       "       [  1.05185521e+00,   3.84171121e-02,   2.32128575e-02, ...,\n",
       "          5.98619640e-01,   9.89130582e-04,   4.68121111e-01],\n",
       "       [  1.05447912e+00,   3.49369906e-02,   8.44418257e-03, ...,\n",
       "          6.56412423e-01,   3.25394183e-04,   4.36309338e-01]], dtype=float32)], dtype=object)"
      ]
     },
     "execution_count": 113,
     "metadata": {},
     "output_type": "execute_result"
    }
   ],
   "source": [
    "(transfer_values_test[1:2].flatten())"
   ]
  },
  {
   "cell_type": "code",
   "execution_count": null,
   "metadata": {
    "collapsed": true
   },
   "outputs": [],
   "source": []
  }
 ],
 "metadata": {
  "kernelspec": {
   "display_name": "Python 3",
   "language": "python",
   "name": "python3"
  },
  "language_info": {
   "codemirror_mode": {
    "name": "ipython",
    "version": 3
   },
   "file_extension": ".py",
   "mimetype": "text/x-python",
   "name": "python",
   "nbconvert_exporter": "python",
   "pygments_lexer": "ipython3",
   "version": "3.5.2"
  }
 },
 "nbformat": 4,
 "nbformat_minor": 2
}
